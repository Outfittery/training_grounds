{
 "cells": [
  {
   "cell_type": "markdown",
   "metadata": {},
   "source": [
    "# 4.2. Delivery via SSH (tg.common.delivery.ssh_docker)"
   ]
  },
  {
   "cell_type": "markdown",
   "metadata": {},
   "source": [
    "One of the scenarios for delivery is to start the job at a remote docker server via SSH. Training Grounds contain several classes that facilitate this process.\n",
    "\n",
    "First, we have `SSHDockerOptions`. This class contains the settings on how to run the job in the docker container: which environmental variables are to propagate from the local machine to the remote one, memory and CPU limits. \n",
    "\n",
    "Second, we have `SSHDockerConfig`: a comprehensive configuration for the procedure that contains `Packaging`, `Containering` and `SSHDockerOptions`, as well as the address of the remote host and the username. \n",
    "\n",
    "This `SSHDockerConfig` is an argument for `Executors`, which actually execute the job. We have:\n",
    "  \n",
    "  * `AttachedExecutor` that runs the job in the same process, without any docker at all.\n",
    "  * `LocalExecutor` that runs the job in the local docker\n",
    "  * `RemoteExecutor` that runs the job in the remote docker, using SSH.\n",
    "  \n",
    "These three executors help to debug the job. First, we can run `AttachedExecutor` to make sure that the job itself works. By running it in `LocalExecutor` we make sure that packaging and containering work, e.g.:\n",
    "\n",
    "* Your job is serializable. This is usually achievable by not using lambda syntax.\n",
    "* All the code the job uses is located inside the TG folder, and if all the references are relative. If something is wrong, you will see the import error.\n",
    "* If the environmental variables are carried to docker correctly.\n",
    "* If you have sufficient permissions to start docker\n",
    "\n",
    "Finally, `RemoteExecutor` will peform the same functionatily remotely.  The only problems you should have at these stage are permissions:\n",
    "\n",
    "  * to push to your docker registry\n",
    "  * to connect to the remote machine via SSH\n",
    "  * to execute docker run at the remote machine\n",
    "  \n",
    "The best way to actually use this code in your project is to write a class, e.g., `SSHDockerRoutine`, in the following way:"
   ]
  },
  {
   "cell_type": "code",
   "execution_count": 1,
   "metadata": {
    "execution": {
     "iopub.execute_input": "2022-12-28T13:25:10.212502Z",
     "iopub.status.busy": "2022-12-28T13:25:10.211207Z",
     "iopub.status.idle": "2022-12-28T13:25:11.488041Z",
     "shell.execute_reply": "2022-12-28T13:25:11.488659Z"
    }
   },
   "outputs": [],
   "source": [
    "from tg.common.delivery.ssh_docker import (SSHAttachedExecutor, SSHLocalExecutor, SSHRemoteExecutor, \n",
    "                                           SSHDockerOptions, SSHDockerConfig)\n",
    "from tg.common.delivery.delivery import Packaging, Containering\n",
    "\n",
    "variable_name = 'EXAMPLE_VARIABLE'\n",
    "\n",
    "class SSHDockerRoutine:\n",
    "    def __init__(self, job):\n",
    "        self.job = job\n",
    "        name = type(job).__name__.lower()\n",
    "        packaging = Packaging(name, '0.0.0', dict(job=job))\n",
    "        packaging.silent = True\n",
    "        containering = Containering.from_packaging(packaging)\n",
    "        containering.silent = True\n",
    "        options = SSHDockerOptions([variable_name])\n",
    "        self.config =  SSHDockerConfig(packaging, containering, options, None, None)\n",
    "\n",
    "    def attached(self):\n",
    "        return SSHAttachedExecutor(self.config)\n",
    "\n",
    "    def local(self):\n",
    "        return SSHLocalExecutor(self.config)\n",
    "    \n",
    "        "
   ]
  },
  {
   "cell_type": "markdown",
   "metadata": {},
   "source": [
    "In the `_create_config` method you can place all the logic regarding dependencies, secrets, etc. After this, you can simply use `SSH3DockerRoutine` to run the job remotely. "
   ]
  },
  {
   "cell_type": "markdown",
   "metadata": {},
   "source": [
    "Let's run the `ExampleJob` with attached executor:"
   ]
  },
  {
   "cell_type": "code",
   "execution_count": 2,
   "metadata": {
    "execution": {
     "iopub.execute_input": "2022-12-28T13:25:11.494414Z",
     "iopub.status.busy": "2022-12-28T13:25:11.493499Z",
     "iopub.status.idle": "2022-12-28T13:25:11.498959Z",
     "shell.execute_reply": "2022-12-28T13:25:11.499538Z"
    }
   },
   "outputs": [
    {
     "name": "stdout",
     "output_type": "stream",
     "text": [
      "2022-12-28 14:25:11.493742 INFO: Variable EXAMPLE_VARIABLE is found: True\n"
     ]
    },
    {
     "name": "stdout",
     "output_type": "stream",
     "text": [
      "2022-12-28 14:25:11.494948 INFO: SUCCESS\n"
     ]
    }
   ],
   "source": [
    "from tg.common.delivery.delivery.example_job import ExampleJob\n",
    "import os\n",
    "\n",
    "os.environ[variable_name] = 'TEST'\n",
    "\n",
    "job = ExampleJob([variable_name])\n",
    "routine = SSHDockerRoutine(job)\n",
    "routine.attached().execute()"
   ]
  },
  {
   "cell_type": "markdown",
   "metadata": {},
   "source": [
    "And now, with local:"
   ]
  },
  {
   "cell_type": "code",
   "execution_count": 3,
   "metadata": {
    "execution": {
     "iopub.execute_input": "2022-12-28T13:25:11.510213Z",
     "iopub.status.busy": "2022-12-28T13:25:11.506681Z",
     "iopub.status.idle": "2022-12-28T13:25:23.169194Z",
     "shell.execute_reply": "2022-12-28T13:25:23.169859Z"
    }
   },
   "outputs": [
    {
     "name": "stderr",
     "output_type": "stream",
     "text": [
      "warning: no files found matching '*.yml' under directory 'examplejob__0_0_0'\n",
      "warning: no files found matching '*.rst' under directory 'examplejob__0_0_0'\n",
      "warning: sdist: standard file not found: should have one of README, README.rst, README.txt, README.md\n",
      "\n"
     ]
    },
    {
     "name": "stdout",
     "output_type": "stream",
     "text": [
      "sha256:6a9d1deca68272221c3ac4154fe538a0504f2ce9c5c47940dce82b3a8c71024b\n"
     ]
    },
    {
     "name": "stdout",
     "output_type": "stream",
     "text": [
      "2022-12-28 13:25:22.692513 INFO: Welcome to Training Grounds!\n",
      "2022-12-28 13:25:22.692604 INFO: Loading job\n",
      "2022-12-28 13:25:22.693027 INFO: Job of type <class 'examplejob__0_0_0.tg.common.delivery.delivery.example_job.ExampleJob'> is loaded\n",
      "2022-12-28 13:25:22.693102 INFO: Job has `run` attribute\n",
      "2022-12-28 13:25:22.693194 INFO: Variable EXAMPLE_VARIABLE is found: True\n",
      "2022-12-28 13:25:22.693262 INFO: SUCCESS\n",
      "2022-12-28 13:25:22.693328 INFO: Job has exited successfully\n",
      "2022-12-28 13:25:22.693394 INFO: DONE. Exiting Training Grounds.\n"
     ]
    }
   ],
   "source": [
    "routine.local().execute()"
   ]
  },
  {
   "cell_type": "markdown",
   "metadata": {},
   "source": [
    "As we can see, the environment variable was sucessfully transferred from the notebook environment to the docker's environment."
   ]
  }
 ],
 "metadata": {
  "kernelspec": {
   "display_name": "Python 3 (ipykernel)",
   "language": "python",
   "name": "python3"
  },
  "language_info": {
   "codemirror_mode": {
    "name": "ipython",
    "version": 3
   },
   "file_extension": ".py",
   "mimetype": "text/x-python",
   "name": "python",
   "nbconvert_exporter": "python",
   "pygments_lexer": "ipython3",
   "version": "3.8.13"
  },
  "toc": {
   "base_numbering": 1,
   "nav_menu": {},
   "number_sections": true,
   "sideBar": true,
   "skip_h1_title": false,
   "title_cell": "Table of Contents",
   "title_sidebar": "Contents",
   "toc_cell": false,
   "toc_position": {},
   "toc_section_display": true,
   "toc_window_display": false
  }
 },
 "nbformat": 4,
 "nbformat_minor": 4
}
