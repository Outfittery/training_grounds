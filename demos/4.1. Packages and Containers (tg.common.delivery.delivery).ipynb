{
 "cells": [
  {
   "cell_type": "markdown",
   "metadata": {},
   "source": [
    "# 4.1. Packages and Containers (tg.common.delivery.delivery)"
   ]
  },
  {
   "cell_type": "markdown",
   "metadata": {},
   "source": [
    "## Overview\n",
    "\n",
    "In this part, we will deliver the featurization job to a remote server and execute it there. This actually can be done with just few lines of code. But we will show a lot of the process \"under the hood\" to make you familiar with it, and to explain why do we have this setup.\n",
    "\n",
    "Delivery is the most fundamental purpose of Training Grounds. It is extremely easy to write _some_ data science code, that is executable on your local machine. It is not so easy though to then deliver this code to a remote server (be it server for training or a web-server that exposes model to the world) so that everything continues to work.\n",
    "\n",
    "Delivery in Training Grounds is built upon the following principles.\n",
    "\n",
    "### Deliverables are pickled objects\n",
    "\n",
    "We do not deliver chunks of code or notebooks. Instead, we deliver the objects that incapsulate this code.\n",
    "\n",
    "The most simple way of doing it is write a class that contains all the required functionality in `run` method and deliver it. In the previous presentations you saw that the `FeaturizationJob` class is more complicated. We didn't have the functionality written in the run method; instead, this functionality was defined as a composition of smaller objects, according to SOLID principles. This is *not* a requirement of delivery subsystem, the delivery will work perfectly fine without any SOLID. \n",
    "\n",
    "When prototyping, we would recommend to stick to the simplest way, which is implementing everything in the `run` method. When the solution is developed enough, you may need to consider it's decomposition to the subclasses in order to provide testability and reusability.\n",
    "\n",
    "### The source code is delivered alongside the objects\n",
    "\n",
    "In many frameworks there is a backstage idea that the framework has a comprehensive set of bug-free basic objects, and any imaginable functionality we need can be composed from these. So the users would never need to write Python code ever again, instead they would write declarative descriptions of the functionality they need. In this mindset, the delivery of the source code can be performed with `pip install`.\n",
    "\n",
    "This approach is not the one TG follows due to the various reasons:\n",
    "* Frameworks seldom actually get to this stage of development\n",
    "* Versioning is painful\n",
    "* This mindset creates a complexity gap: to do something new, with no basic objects available, is a lot harder than using the constructor. In this regard, it is extremely important for us that the user can implement this prototyping functionality in the `run` method without using any complex architecture.\n",
    "\n",
    "Therefore, the source code is changing rapidly. Publishing it via PiPy or `git` would create a very complicated setup, when delivery requires a lot of intermediate stages, such as commiting, pushing, tagging or publishing. \n",
    "\n",
    "The simpler solution is to package the current source code into a Python package, placing the pickled objects as resource inside this package. No external actions are required in this case: the object will be unseparable from the source code, thus preventing versioning issues.\n",
    "\n",
    "### Multiple versions\n",
    "\n",
    "We may want different versions of a model to be able to run at the same time. But how can we do that, if the models are represented as packages? In Python, we cannot have two modules with the same name installed at the same time. Thus, they have to have different name. This is why Training Grounds itself is not a Python package, but a folder inside your project. \n",
    "\n",
    "Consider the file structure, recommended by TG:\n",
    "```\n",
    "/myproject/tg/\n",
    "/myproject/tg/common/\n",
    "/myproject/tg/mylibrary/\n",
    "/myproject/some_other_code_of_the_project\n",
    "```\n",
    "\n",
    "When building a package, these files will be transfomed into something like:\n",
    "```\n",
    "/package_name/UID/\n",
    "/package_name/UID/tg/\n",
    "/package_name/UID/tg/common/\n",
    "/package_name/UID/tg/mylibrary/\n",
    "```\n",
    "\n",
    "Note that everything outside of original `/myproject/tg/` folder is ignored. So outside of `tg` folder you can have data caches, temporal files, sensitive information (as long as it's not pushed in the repository) and so on. It will never be delivered anywhere. The corollary is that all the classes and functions you use in your object must be defined inside `/tg/` folder. Otherwise, they will not be delivered.\n",
    "\n",
    "The name of the TG is actually `UID.tg`, with different UID in each package. Hence, several versions of TG can be used at the same time! But that brings another limitation that must be observed inside `tg` folder: all the references inside TG must be relative. They cannot refer to `tg`, because `tg` will become `UID.tg` in the runtime on the remote server.\n",
    "\n",
    "\n",
    "### Hot Module Replacement\n",
    "\n",
    "Now, the question arises, how to use this package. Sometimes we want UID to be created dynamically, and in this case we cannot write something like this:\n",
    "\n",
    "```\n",
    "from UID.tg import *\n",
    "```\n",
    "\n",
    "The solution is to install the module during runtime. During this process, the name becomes known, and then we can dynamically import from the module. Of course, importing classes or methods would not be handy, but remember that deliverables are objects, and these objects are pickled as the module resources. So all we need to do is to unpickle these objects, and all the classes and methods will be loaded dynamically by unpickler. This work is done by `EntryPoint` class.\n",
    "\n",
    "However, with Packaging you can also create packages with predictable names, publish them with PyPi and export locally.\n",
    "\n",
    "#### Note for advanced users\n",
    "\n",
    "When package is created, we pickle the objects under the local version of TG, thus, the classes are unavoidably pickled as `tg.SomeClass`, but we want to unpickle them as `UID.tg.SomeClass`. How is this achived? Fortunately, pickling allows you to do some manipulations while pickling/unpickling, and so we just replace all `tg.` prefixes to `UID.tg.` while building a package (UID is already known at this time).\n",
    "\n",
    "It is also possible to do same trick when unpickling: if you want to transfer the previously packaged object into the current `tg` version, this is possible. Of course, it's on your responsibility to ensure that current TG is compatible with an older version. Later we will discuss a use case for that."
   ]
  },
  {
   "cell_type": "markdown",
   "metadata": {},
   "source": [
    "## Packaging\n",
    "\n"
   ]
  },
  {
   "cell_type": "markdown",
   "metadata": {},
   "source": [
    "Packaging allows you to create a Python package with the source code and pickled job (arbitrary class with `run` method). For this package to work correctly, the job needs to be defined withing `tg` folder, so we will use an example job from training grounds. This job simply outputs `SUCCESS` with the Logger."
   ]
  },
  {
   "cell_type": "code",
   "execution_count": 1,
   "metadata": {
    "ExecuteTime": {
     "end_time": "2021-04-01T13:36:01.778577Z",
     "start_time": "2021-04-01T13:36:00.877514Z"
    },
    "execution": {
     "iopub.execute_input": "2022-12-28T13:24:43.919774Z",
     "iopub.status.busy": "2022-12-28T13:24:43.918663Z",
     "iopub.status.idle": "2022-12-28T13:24:44.954902Z",
     "shell.execute_reply": "2022-12-28T13:24:44.955212Z"
    },
    "scrolled": true
   },
   "outputs": [
    {
     "name": "stdout",
     "output_type": "stream",
     "text": [
      "2022-12-28 14:24:44.951052 INFO: SUCCESS\n"
     ]
    }
   ],
   "source": [
    "from tg.common.delivery.delivery.example_job import ExampleJob\n",
    "\n",
    "job = ExampleJob()\n",
    "job.run()"
   ]
  },
  {
   "cell_type": "markdown",
   "metadata": {},
   "source": [
    "`Packaging` class is a representation of all the settings, required for packaging. In the constructor, it only accepts the absolutely necessary values:"
   ]
  },
  {
   "cell_type": "code",
   "execution_count": 2,
   "metadata": {
    "execution": {
     "iopub.execute_input": "2022-12-28T13:24:44.960043Z",
     "iopub.status.busy": "2022-12-28T13:24:44.959411Z",
     "iopub.status.idle": "2022-12-28T13:24:44.961201Z",
     "shell.execute_reply": "2022-12-28T13:24:44.961503Z"
    }
   },
   "outputs": [],
   "source": [
    "from tg.common.delivery.delivery import Packaging\n",
    "\n",
    "packaging = Packaging(\n",
    "    name = 'example_job',\n",
    "    version = '0.0.0',\n",
    "    payload = dict(job = job)\n",
    ")\n",
    "packaging.silent = True"
   ]
  },
  {
   "cell_type": "markdown",
   "metadata": {},
   "source": [
    "There are many fields in `Packaging` class, but most of them you don't need to adjust. The `dependencies` field is, however, important: it shows the python dependencies the package will have:"
   ]
  },
  {
   "cell_type": "code",
   "execution_count": 3,
   "metadata": {
    "execution": {
     "iopub.execute_input": "2022-12-28T13:24:44.966826Z",
     "iopub.status.busy": "2022-12-28T13:24:44.966168Z",
     "iopub.status.idle": "2022-12-28T13:24:44.969233Z",
     "shell.execute_reply": "2022-12-28T13:24:44.968547Z"
    }
   },
   "outputs": [
    {
     "data": {
      "text/plain": [
       "({'min': ['boto3', 'yo_fluq_ds', 'simplejson']},)"
      ]
     },
     "execution_count": 3,
     "metadata": {},
     "output_type": "execute_result"
    }
   ],
   "source": [
    "packaging.dependencies"
   ]
  },
  {
   "cell_type": "markdown",
   "metadata": {},
   "source": [
    "By default, it contains only the dependencies required by `tg.common` itself; not all the dependencies required, e.g., by `tg.common.ml`. You have to manually add all the dependencies you are using, preferrably with the versions. \n",
    "\n",
    "Generally, all the packaging code is \"semi-finished\" products: when used in your projects, it is recommended to create a class that takes care of all delivery-related processes in one method, making necessary calls and adjusting settings. The strategies for this will be discussed in the next demos.\n",
    "\n",
    "Now, let's create a package file:"
   ]
  },
  {
   "cell_type": "code",
   "execution_count": 4,
   "metadata": {
    "execution": {
     "iopub.execute_input": "2022-12-28T13:24:44.973491Z",
     "iopub.status.busy": "2022-12-28T13:24:44.972778Z",
     "iopub.status.idle": "2022-12-28T13:24:47.341606Z",
     "shell.execute_reply": "2022-12-28T13:24:47.341917Z"
    }
   },
   "outputs": [
    {
     "name": "stderr",
     "output_type": "stream",
     "text": [
      "warning: no files found matching '*.yml' under directory 'example_job__0_0_0'\n",
      "warning: no files found matching '*.rst' under directory 'example_job__0_0_0'\n",
      "warning: sdist: standard file not found: should have one of README, README.rst, README.txt, README.md\n",
      "\n"
     ]
    }
   ],
   "source": [
    "packaging.make_package()\n",
    "pass"
   ]
  },
  {
   "cell_type": "markdown",
   "metadata": {},
   "source": [
    "`make_package` stores the file in the local system, and now we will install it \"on the fly\". As a result, we will get `EntryPoint` object:"
   ]
  },
  {
   "cell_type": "code",
   "execution_count": 5,
   "metadata": {
    "ExecuteTime": {
     "end_time": "2021-04-01T13:43:37.450812Z",
     "start_time": "2021-04-01T13:43:16.250127Z"
    },
    "execution": {
     "iopub.execute_input": "2022-12-28T13:24:47.346610Z",
     "iopub.status.busy": "2022-12-28T13:24:47.346006Z",
     "iopub.status.idle": "2022-12-28T13:24:53.699032Z",
     "shell.execute_reply": "2022-12-28T13:24:53.698178Z"
    }
   },
   "outputs": [
    {
     "name": "stderr",
     "output_type": "stream",
     "text": [
      "WARNING: Skipping example-job as it is not installed.\n"
     ]
    },
    {
     "data": {
      "text/plain": [
       "{'name': 'example_job',\n",
       " 'version': '0.0.0',\n",
       " 'module_name': 'example_job__0_0_0',\n",
       " 'tg_import_path': 'example_job__0_0_0.tg',\n",
       " 'original_tg_import_path': 'tg'}"
      ]
     },
     "execution_count": 5,
     "metadata": {},
     "output_type": "execute_result"
    }
   ],
   "source": [
    "from tg.common.delivery.delivery import install_package_and_get_loader\n",
    "\n",
    "entry_point = install_package_and_get_loader(packaging.package_location, silent = True)\n",
    "{k:v for k,v in entry_point.__dict__.items() if k!='resources_location'}"
   ]
  },
  {
   "cell_type": "markdown",
   "metadata": {},
   "source": [
    "Now we will load the job from the package. "
   ]
  },
  {
   "cell_type": "code",
   "execution_count": 6,
   "metadata": {
    "execution": {
     "iopub.execute_input": "2022-12-28T13:24:53.705586Z",
     "iopub.status.busy": "2022-12-28T13:24:53.703773Z",
     "iopub.status.idle": "2022-12-28T13:24:53.708702Z",
     "shell.execute_reply": "2022-12-28T13:24:53.709084Z"
    }
   },
   "outputs": [
    {
     "name": "stdout",
     "output_type": "stream",
     "text": [
      "<class 'tg.common.delivery.delivery.example_job.ExampleJob'>\n",
      "<class 'example_job__0_0_0.tg.common.delivery.delivery.example_job.ExampleJob'>\n"
     ]
    }
   ],
   "source": [
    "loaded_job = entry_point.load_resource('job')\n",
    "print(type(job))\n",
    "print(type(loaded_job))"
   ]
  },
  {
   "cell_type": "markdown",
   "metadata": {},
   "source": [
    "Note that:\n",
    "    \n",
    "  * the classes of `job` and `loaded_job` are different in located in the different models.\n",
    "  * the created module is not `example_job`, but `example_job__0_0_0`. The reason for this is that we may want to package and run different versions of `ExampleJobs` within one process, and we don't want the module with `0.0.1` version to remove the module with `0.0.1` version. If you don't want this behaviour, adjust `packaging.human_readable_module_name` parameter."
   ]
  },
  {
   "cell_type": "markdown",
   "metadata": {},
   "source": [
    "## Containering\n",
    "\n",
    "Although we could just run the package at the remote server via ssh, the more suitable way is to use Docker. Training Grounds defines methods to build the docker container out of the package.\n",
    "\n",
    "Most of the container's settings can be inherited from the package, so it's the easiest way to create a containering object:"
   ]
  },
  {
   "cell_type": "code",
   "execution_count": 7,
   "metadata": {
    "execution": {
     "iopub.execute_input": "2022-12-28T13:24:53.713499Z",
     "iopub.status.busy": "2022-12-28T13:24:53.712755Z",
     "iopub.status.idle": "2022-12-28T13:24:53.714888Z",
     "shell.execute_reply": "2022-12-28T13:24:53.715443Z"
    }
   },
   "outputs": [],
   "source": [
    "from tg.common.delivery.delivery import Containering\n",
    "\n",
    "\n",
    "containering = Containering.from_packaging(packaging)\n",
    "containering.silent = True"
   ]
  },
  {
   "cell_type": "markdown",
   "metadata": {},
   "source": [
    "A comment regarding dependencies: when building the container, we first pre-install the dependencies, specified in the `Containering` object, then copy package and install the package (and this triggers installation of dependencies, specified in the `Packaging` object). This allows us to reuse the same Docker layer for many containering process, so, if your dependencies are stable and you build many containers with different jobs, it will save a great deal of time.\n",
    "\n",
    "Let's build the container:"
   ]
  },
  {
   "cell_type": "code",
   "execution_count": 8,
   "metadata": {
    "execution": {
     "iopub.execute_input": "2022-12-28T13:24:53.721634Z",
     "iopub.status.busy": "2022-12-28T13:24:53.720792Z",
     "iopub.status.idle": "2022-12-28T13:25:03.059114Z",
     "shell.execute_reply": "2022-12-28T13:25:03.058563Z"
    }
   },
   "outputs": [
    {
     "name": "stdout",
     "output_type": "stream",
     "text": [
      "sha256:eec5c21e38845c5a7881c373f5725f701b0bc3b3e1c28106120b1897d862a44c\n"
     ]
    },
    {
     "data": {
      "text/plain": [
       "<tg.common.delivery.delivery.containering.Containering at 0x7f7c141e1430>"
      ]
     },
     "execution_count": 8,
     "metadata": {},
     "output_type": "execute_result"
    }
   ],
   "source": [
    "containering.make_container(packaging)"
   ]
  },
  {
   "cell_type": "markdown",
   "metadata": {},
   "source": [
    "Now we can run the container locally:"
   ]
  },
  {
   "cell_type": "code",
   "execution_count": 9,
   "metadata": {
    "execution": {
     "iopub.execute_input": "2022-12-28T13:25:03.065365Z",
     "iopub.status.busy": "2022-12-28T13:25:03.064663Z",
     "iopub.status.idle": "2022-12-28T13:25:03.068528Z",
     "shell.execute_reply": "2022-12-28T13:25:03.069204Z"
    }
   },
   "outputs": [
    {
     "data": {
      "text/plain": [
       "('example_job', '0.0.0')"
      ]
     },
     "execution_count": 9,
     "metadata": {},
     "output_type": "execute_result"
    }
   ],
   "source": [
    "containering.image_name, containering.image_tag"
   ]
  },
  {
   "cell_type": "code",
   "execution_count": 10,
   "metadata": {
    "execution": {
     "iopub.execute_input": "2022-12-28T13:25:03.080182Z",
     "iopub.status.busy": "2022-12-28T13:25:03.079691Z",
     "iopub.status.idle": "2022-12-28T13:25:07.513746Z",
     "shell.execute_reply": "2022-12-28T13:25:07.514250Z"
    }
   },
   "outputs": [
    {
     "name": "stdout",
     "output_type": "stream",
     "text": [
      "2022-12-28 13:25:06.816628 INFO: Welcome to Training Grounds!\r\n",
      "2022-12-28 13:25:06.816758 INFO: Loading job\r\n",
      "2022-12-28 13:25:06.817456 INFO: Job of type <class 'example_job__0_0_0.tg.common.delivery.delivery.example_job.ExampleJob'> is loaded\r\n",
      "2022-12-28 13:25:06.817570 INFO: Job has `run` attribute\r\n",
      "2022-12-28 13:25:06.817628 INFO: SUCCESS\r\n",
      "2022-12-28 13:25:06.817675 INFO: Job has exited successfully\r\n",
      "2022-12-28 13:25:06.817719 INFO: DONE. Exiting Training Grounds.\r\n"
     ]
    }
   ],
   "source": [
    "!docker run example_job:0.0.0"
   ]
  }
 ],
 "metadata": {
  "kernelspec": {
   "display_name": "Python 3 (ipykernel)",
   "language": "python",
   "name": "python3"
  },
  "language_info": {
   "codemirror_mode": {
    "name": "ipython",
    "version": 3
   },
   "file_extension": ".py",
   "mimetype": "text/x-python",
   "name": "python",
   "nbconvert_exporter": "python",
   "pygments_lexer": "ipython3",
   "version": "3.8.13"
  },
  "toc": {
   "base_numbering": 1,
   "nav_menu": {},
   "number_sections": true,
   "sideBar": true,
   "skip_h1_title": false,
   "title_cell": "Table of Contents",
   "title_sidebar": "Contents",
   "toc_cell": false,
   "toc_position": {},
   "toc_section_display": true,
   "toc_window_display": false
  }
 },
 "nbformat": 4,
 "nbformat_minor": 4
}
