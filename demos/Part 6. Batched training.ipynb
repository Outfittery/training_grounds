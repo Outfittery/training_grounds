{
 "cells": [
  {
   "cell_type": "markdown",
   "metadata": {},
   "source": [
    "# Batched training\n",
    "\n",
    "## Overview of batched training process\n",
    "\n",
    "Batched training is used when the training data is synthetic and so huge, that it cannot fit into memory. Examples are:\n",
    "\n",
    "* Customer-article fit model. The features of customers and articles can fit into memory, but when we combine them by instances of articles, that were sent to customers, the data explode.\n",
    "* Natural language processing. When, for instance, processing the sentence of N words, we may wish to construct the training samples so that network predicts $W_i$ word from $(W_1,\\ldots,W_{i-1})$ for $i\\in[1, N]$. In this case, the data also explode.\n",
    "\n",
    "Current version of batched training process is *not* dealing with the situation, when the initial data themselves are too big to fit the memory. If this is the case, the current strategy is to get a bigger AWS instance. If it's not feasible, the approach can theoretically be adopted for this case as well.\n",
    "\n",
    "In batched training, the data are synthesized in _batches_, one after another, and therefore memory is not overused. Consequently, the model must support the iterative training. In our use cases this is always pytorch network, but of course the architecture is not limited to neural networks or some particular implementation of them."
   ]
  },
  {
   "cell_type": "markdown",
   "metadata": {},
   "source": [
    "## Data Bundles"
   ]
  },
  {
   "cell_type": "markdown",
   "metadata": {},
   "source": [
    "As a dataframe is the \"all-inclusive\" object containing the data for single-frame training, _data bundle_ is such for batched training. The bundle is a set of dataframes, that contains all the data required for batches synthesis, including:\n",
    "* Index frame. Each row of the index frame describes one instance of data. The row can contain features, labels, or _references_ to other dataframes in bundle\n",
    "* Data frames. Arbitrary dataframes, normally containing features.\n",
    "\n",
    "You normally start batched training by creating such bundle, and we will do the same for the Titanic dataset. We will do it in an overcomplicated way, that is totally unnessesary for this particular task, but will allow us to demonstrate available batching techniques. We will separate the available information in Titanic dataset into two parts: information about ticket and information about customer."
   ]
  },
  {
   "cell_type": "code",
   "execution_count": 1,
   "metadata": {
    "execution": {
     "iopub.execute_input": "2021-04-08T12:03:21.318586Z",
     "iopub.status.busy": "2021-04-08T12:03:21.314243Z",
     "iopub.status.idle": "2021-04-08T12:03:21.690061Z",
     "shell.execute_reply": "2021-04-08T12:03:21.690409Z"
    }
   },
   "outputs": [],
   "source": [
    "import pandas as pd\n",
    "df = pd.read_csv('titanic.csv')"
   ]
  },
  {
   "cell_type": "markdown",
   "metadata": {},
   "source": [
    "In rare cases Ticket number does not fully determine the Fare or Embarked column, but we will ignore the exceptions."
   ]
  },
  {
   "cell_type": "code",
   "execution_count": 2,
   "metadata": {
    "execution": {
     "iopub.execute_input": "2021-04-08T12:03:21.697554Z",
     "iopub.status.busy": "2021-04-08T12:03:21.696985Z",
     "iopub.status.idle": "2021-04-08T12:03:21.717796Z",
     "shell.execute_reply": "2021-04-08T12:03:21.718132Z"
    }
   },
   "outputs": [
    {
     "data": {
      "text/html": [
       "<div>\n",
       "<style scoped>\n",
       "    .dataframe tbody tr th:only-of-type {\n",
       "        vertical-align: middle;\n",
       "    }\n",
       "\n",
       "    .dataframe tbody tr th {\n",
       "        vertical-align: top;\n",
       "    }\n",
       "\n",
       "    .dataframe thead th {\n",
       "        text-align: right;\n",
       "    }\n",
       "</style>\n",
       "<table border=\"1\" class=\"dataframe\">\n",
       "  <thead>\n",
       "    <tr style=\"text-align: right;\">\n",
       "      <th></th>\n",
       "      <th>Ticket</th>\n",
       "      <th>Pclass</th>\n",
       "      <th>Fare</th>\n",
       "      <th>Embarked</th>\n",
       "    </tr>\n",
       "  </thead>\n",
       "  <tbody>\n",
       "    <tr>\n",
       "      <th>270</th>\n",
       "      <td>113798</td>\n",
       "      <td>1</td>\n",
       "      <td>31.0000</td>\n",
       "      <td>S</td>\n",
       "    </tr>\n",
       "    <tr>\n",
       "      <th>842</th>\n",
       "      <td>113798</td>\n",
       "      <td>1</td>\n",
       "      <td>31.0000</td>\n",
       "      <td>C</td>\n",
       "    </tr>\n",
       "    <tr>\n",
       "      <th>138</th>\n",
       "      <td>7534</td>\n",
       "      <td>3</td>\n",
       "      <td>9.2167</td>\n",
       "      <td>S</td>\n",
       "    </tr>\n",
       "    <tr>\n",
       "      <th>876</th>\n",
       "      <td>7534</td>\n",
       "      <td>3</td>\n",
       "      <td>9.8458</td>\n",
       "      <td>S</td>\n",
       "    </tr>\n",
       "    <tr>\n",
       "      <th>269</th>\n",
       "      <td>PC 17760</td>\n",
       "      <td>1</td>\n",
       "      <td>135.6333</td>\n",
       "      <td>S</td>\n",
       "    </tr>\n",
       "    <tr>\n",
       "      <th>325</th>\n",
       "      <td>PC 17760</td>\n",
       "      <td>1</td>\n",
       "      <td>135.6333</td>\n",
       "      <td>C</td>\n",
       "    </tr>\n",
       "  </tbody>\n",
       "</table>\n",
       "</div>"
      ],
      "text/plain": [
       "       Ticket  Pclass      Fare Embarked\n",
       "270    113798       1   31.0000        S\n",
       "842    113798       1   31.0000        C\n",
       "138      7534       3    9.2167        S\n",
       "876      7534       3    9.8458        S\n",
       "269  PC 17760       1  135.6333        S\n",
       "325  PC 17760       1  135.6333        C"
      ]
     },
     "execution_count": 1,
     "metadata": {},
     "output_type": "execute_result"
    }
   ],
   "source": [
    "tdf = df[['Ticket','Pclass','Fare','Embarked']].drop_duplicates()\n",
    "bad_tickets = tdf.groupby('Ticket').size()\n",
    "bad_tickets = bad_tickets.loc[bad_tickets>1]\n",
    "tdf.loc[tdf.Ticket.isin(bad_tickets.index)].sort_values('Ticket')"
   ]
  },
  {
   "cell_type": "markdown",
   "metadata": {},
   "source": [
    "So the ticket dataframe is:"
   ]
  },
  {
   "cell_type": "code",
   "execution_count": 3,
   "metadata": {
    "execution": {
     "iopub.execute_input": "2021-04-08T12:03:21.723428Z",
     "iopub.status.busy": "2021-04-08T12:03:21.722926Z",
     "iopub.status.idle": "2021-04-08T12:03:21.731526Z",
     "shell.execute_reply": "2021-04-08T12:03:21.731158Z"
    }
   },
   "outputs": [
    {
     "data": {
      "text/html": [
       "<div>\n",
       "<style scoped>\n",
       "    .dataframe tbody tr th:only-of-type {\n",
       "        vertical-align: middle;\n",
       "    }\n",
       "\n",
       "    .dataframe tbody tr th {\n",
       "        vertical-align: top;\n",
       "    }\n",
       "\n",
       "    .dataframe thead th {\n",
       "        text-align: right;\n",
       "    }\n",
       "</style>\n",
       "<table border=\"1\" class=\"dataframe\">\n",
       "  <thead>\n",
       "    <tr style=\"text-align: right;\">\n",
       "      <th></th>\n",
       "      <th>Pclass</th>\n",
       "      <th>Fare</th>\n",
       "      <th>Embarked</th>\n",
       "    </tr>\n",
       "    <tr>\n",
       "      <th>Ticket</th>\n",
       "      <th></th>\n",
       "      <th></th>\n",
       "      <th></th>\n",
       "    </tr>\n",
       "  </thead>\n",
       "  <tbody>\n",
       "    <tr>\n",
       "      <th>A/5 21171</th>\n",
       "      <td>3</td>\n",
       "      <td>7.2500</td>\n",
       "      <td>S</td>\n",
       "    </tr>\n",
       "    <tr>\n",
       "      <th>PC 17599</th>\n",
       "      <td>1</td>\n",
       "      <td>71.2833</td>\n",
       "      <td>C</td>\n",
       "    </tr>\n",
       "    <tr>\n",
       "      <th>STON/O2. 3101282</th>\n",
       "      <td>3</td>\n",
       "      <td>7.9250</td>\n",
       "      <td>S</td>\n",
       "    </tr>\n",
       "    <tr>\n",
       "      <th>113803</th>\n",
       "      <td>1</td>\n",
       "      <td>53.1000</td>\n",
       "      <td>S</td>\n",
       "    </tr>\n",
       "    <tr>\n",
       "      <th>373450</th>\n",
       "      <td>3</td>\n",
       "      <td>8.0500</td>\n",
       "      <td>S</td>\n",
       "    </tr>\n",
       "  </tbody>\n",
       "</table>\n",
       "</div>"
      ],
      "text/plain": [
       "                  Pclass     Fare Embarked\n",
       "Ticket                                    \n",
       "A/5 21171              3   7.2500        S\n",
       "PC 17599               1  71.2833        C\n",
       "STON/O2. 3101282       3   7.9250        S\n",
       "113803                 1  53.1000        S\n",
       "373450                 3   8.0500        S"
      ]
     },
     "execution_count": 1,
     "metadata": {},
     "output_type": "execute_result"
    }
   ],
   "source": [
    "ticket_df = df[['Ticket','Pclass','Fare','Embarked']].drop_duplicates().drop_duplicates('Ticket').set_index('Ticket')\n",
    "ticket_df.head()"
   ]
  },
  {
   "cell_type": "markdown",
   "metadata": {},
   "source": [
    "Name is unique across passengers, so we will use it as an index."
   ]
  },
  {
   "cell_type": "code",
   "execution_count": 4,
   "metadata": {
    "execution": {
     "iopub.execute_input": "2021-04-08T12:03:21.738821Z",
     "iopub.status.busy": "2021-04-08T12:03:21.736942Z",
     "iopub.status.idle": "2021-04-08T12:03:21.745515Z",
     "shell.execute_reply": "2021-04-08T12:03:21.745095Z"
    }
   },
   "outputs": [
    {
     "data": {
      "text/plain": [
       "Name\n",
       "van Melkebeke, Mr. Philemon                1\n",
       "Goldschmidt, Mr. George B                  1\n",
       "Graham, Miss. Margaret Edith               1\n",
       "Goodwin, Mrs. Frederick (Augusta Tyler)    1\n",
       "Goodwin, Mr. Charles Edward                1\n",
       "dtype: int64"
      ]
     },
     "execution_count": 1,
     "metadata": {},
     "output_type": "execute_result"
    }
   ],
   "source": [
    "df.groupby('Name').size().sort_values(ascending=False).head()"
   ]
  },
  {
   "cell_type": "code",
   "execution_count": 5,
   "metadata": {
    "execution": {
     "iopub.execute_input": "2021-04-08T12:03:21.758816Z",
     "iopub.status.busy": "2021-04-08T12:03:21.757995Z",
     "iopub.status.idle": "2021-04-08T12:03:21.770488Z",
     "shell.execute_reply": "2021-04-08T12:03:21.771049Z"
    }
   },
   "outputs": [
    {
     "data": {
      "text/html": [
       "<div>\n",
       "<style scoped>\n",
       "    .dataframe tbody tr th:only-of-type {\n",
       "        vertical-align: middle;\n",
       "    }\n",
       "\n",
       "    .dataframe tbody tr th {\n",
       "        vertical-align: top;\n",
       "    }\n",
       "\n",
       "    .dataframe thead th {\n",
       "        text-align: right;\n",
       "    }\n",
       "</style>\n",
       "<table border=\"1\" class=\"dataframe\">\n",
       "  <thead>\n",
       "    <tr style=\"text-align: right;\">\n",
       "      <th></th>\n",
       "      <th>Sex</th>\n",
       "      <th>Age</th>\n",
       "      <th>SibSp</th>\n",
       "      <th>Parch</th>\n",
       "    </tr>\n",
       "    <tr>\n",
       "      <th>Name</th>\n",
       "      <th></th>\n",
       "      <th></th>\n",
       "      <th></th>\n",
       "      <th></th>\n",
       "    </tr>\n",
       "  </thead>\n",
       "  <tbody>\n",
       "    <tr>\n",
       "      <th>Braund, Mr. Owen Harris</th>\n",
       "      <td>male</td>\n",
       "      <td>22.0</td>\n",
       "      <td>1</td>\n",
       "      <td>0</td>\n",
       "    </tr>\n",
       "    <tr>\n",
       "      <th>Cumings, Mrs. John Bradley (Florence Briggs Thayer)</th>\n",
       "      <td>female</td>\n",
       "      <td>38.0</td>\n",
       "      <td>1</td>\n",
       "      <td>0</td>\n",
       "    </tr>\n",
       "    <tr>\n",
       "      <th>Heikkinen, Miss. Laina</th>\n",
       "      <td>female</td>\n",
       "      <td>26.0</td>\n",
       "      <td>0</td>\n",
       "      <td>0</td>\n",
       "    </tr>\n",
       "    <tr>\n",
       "      <th>Futrelle, Mrs. Jacques Heath (Lily May Peel)</th>\n",
       "      <td>female</td>\n",
       "      <td>35.0</td>\n",
       "      <td>1</td>\n",
       "      <td>0</td>\n",
       "    </tr>\n",
       "    <tr>\n",
       "      <th>Allen, Mr. William Henry</th>\n",
       "      <td>male</td>\n",
       "      <td>35.0</td>\n",
       "      <td>0</td>\n",
       "      <td>0</td>\n",
       "    </tr>\n",
       "  </tbody>\n",
       "</table>\n",
       "</div>"
      ],
      "text/plain": [
       "                                                       Sex   Age  SibSp  Parch\n",
       "Name                                                                          \n",
       "Braund, Mr. Owen Harris                               male  22.0      1      0\n",
       "Cumings, Mrs. John Bradley (Florence Briggs Tha...  female  38.0      1      0\n",
       "Heikkinen, Miss. Laina                              female  26.0      0      0\n",
       "Futrelle, Mrs. Jacques Heath (Lily May Peel)        female  35.0      1      0\n",
       "Allen, Mr. William Henry                              male  35.0      0      0"
      ]
     },
     "execution_count": 1,
     "metadata": {},
     "output_type": "execute_result"
    }
   ],
   "source": [
    "passenger_df = df[['Name','Sex','Age','SibSp','Parch']].set_index('Name')\n",
    "passenger_df.head()"
   ]
  },
  {
   "cell_type": "markdown",
   "metadata": {},
   "source": [
    "Now, we will build the index, and then bundle"
   ]
  },
  {
   "cell_type": "code",
   "execution_count": 6,
   "metadata": {
    "execution": {
     "iopub.execute_input": "2021-04-08T12:03:21.778682Z",
     "iopub.status.busy": "2021-04-08T12:03:21.776537Z",
     "iopub.status.idle": "2021-04-08T12:03:21.787873Z",
     "shell.execute_reply": "2021-04-08T12:03:21.788207Z"
    }
   },
   "outputs": [
    {
     "data": {
      "text/html": [
       "<div>\n",
       "<style scoped>\n",
       "    .dataframe tbody tr th:only-of-type {\n",
       "        vertical-align: middle;\n",
       "    }\n",
       "\n",
       "    .dataframe tbody tr th {\n",
       "        vertical-align: top;\n",
       "    }\n",
       "\n",
       "    .dataframe thead th {\n",
       "        text-align: right;\n",
       "    }\n",
       "</style>\n",
       "<table border=\"1\" class=\"dataframe\">\n",
       "  <thead>\n",
       "    <tr style=\"text-align: right;\">\n",
       "      <th></th>\n",
       "      <th>Name</th>\n",
       "      <th>Ticket</th>\n",
       "      <th>Cabin</th>\n",
       "      <th>Survived</th>\n",
       "    </tr>\n",
       "    <tr>\n",
       "      <th>PassengerId</th>\n",
       "      <th></th>\n",
       "      <th></th>\n",
       "      <th></th>\n",
       "      <th></th>\n",
       "    </tr>\n",
       "  </thead>\n",
       "  <tbody>\n",
       "    <tr>\n",
       "      <th>1</th>\n",
       "      <td>Braund, Mr. Owen Harris</td>\n",
       "      <td>A/5 21171</td>\n",
       "      <td>NaN</td>\n",
       "      <td>0.0</td>\n",
       "    </tr>\n",
       "    <tr>\n",
       "      <th>2</th>\n",
       "      <td>Cumings, Mrs. John Bradley (Florence Briggs Th...</td>\n",
       "      <td>PC 17599</td>\n",
       "      <td>C85</td>\n",
       "      <td>1.0</td>\n",
       "    </tr>\n",
       "    <tr>\n",
       "      <th>3</th>\n",
       "      <td>Heikkinen, Miss. Laina</td>\n",
       "      <td>STON/O2. 3101282</td>\n",
       "      <td>NaN</td>\n",
       "      <td>1.0</td>\n",
       "    </tr>\n",
       "    <tr>\n",
       "      <th>4</th>\n",
       "      <td>Futrelle, Mrs. Jacques Heath (Lily May Peel)</td>\n",
       "      <td>113803</td>\n",
       "      <td>C123</td>\n",
       "      <td>1.0</td>\n",
       "    </tr>\n",
       "    <tr>\n",
       "      <th>5</th>\n",
       "      <td>Allen, Mr. William Henry</td>\n",
       "      <td>373450</td>\n",
       "      <td>NaN</td>\n",
       "      <td>0.0</td>\n",
       "    </tr>\n",
       "  </tbody>\n",
       "</table>\n",
       "</div>"
      ],
      "text/plain": [
       "                                                          Name  \\\n",
       "PassengerId                                                      \n",
       "1                                      Braund, Mr. Owen Harris   \n",
       "2            Cumings, Mrs. John Bradley (Florence Briggs Th...   \n",
       "3                                       Heikkinen, Miss. Laina   \n",
       "4                 Futrelle, Mrs. Jacques Heath (Lily May Peel)   \n",
       "5                                     Allen, Mr. William Henry   \n",
       "\n",
       "                       Ticket Cabin  Survived  \n",
       "PassengerId                                    \n",
       "1                   A/5 21171   NaN       0.0  \n",
       "2                    PC 17599   C85       1.0  \n",
       "3            STON/O2. 3101282   NaN       1.0  \n",
       "4                      113803  C123       1.0  \n",
       "5                      373450   NaN       0.0  "
      ]
     },
     "execution_count": 1,
     "metadata": {},
     "output_type": "execute_result"
    }
   ],
   "source": [
    "index_df = df[['PassengerId','Name','Ticket','Cabin','Survived']].set_index('PassengerId')\n",
    "index_df.Survived = index_df.Survived.astype(float)\n",
    "index_df.head()"
   ]
  },
  {
   "cell_type": "code",
   "execution_count": 7,
   "metadata": {
    "execution": {
     "iopub.execute_input": "2021-04-08T12:03:21.791939Z",
     "iopub.status.busy": "2021-04-08T12:03:21.790976Z",
     "iopub.status.idle": "2021-04-08T12:03:22.385402Z",
     "shell.execute_reply": "2021-04-08T12:03:22.384954Z"
    }
   },
   "outputs": [],
   "source": [
    "from tg.common.ml import batched_training as bt\n",
    "\n",
    "bundle = bt.DataBundle(\n",
    "    index_frame = index_df,\n",
    "    data_frames=dict(\n",
    "        passengers = passenger_df,\n",
    "        tickets = ticket_df\n",
    "    ))"
   ]
  },
  {
   "cell_type": "markdown",
   "metadata": {},
   "source": [
    "Of course, such complicated structure of this bundle is totally unnesessary in this case, and we could just use the entire original dataframe as an index frame. \n",
    "\n",
    "Still, it shows how to bundle data together: we use different data sources (e.g. different table from SQL) without any joining or transformation, and bind them together by index frame."
   ]
  },
  {
   "cell_type": "markdown",
   "metadata": {},
   "source": [
    "## Batcher\n",
    "\n",
    "Batch is a dictionary with several dataframes that is used as a direct argument to the model. They have to be aligned (in our case, the tickets should correspond to the respective passengers), and transformed.\n",
    "\n",
    "The pipeline to produce batches is:\n",
    "1. Separate `index_frame` into parts. Each row of `index_frame` defines one individual training sample, so the batch is defined by a set of the rows, so to say the subset of `index_frame`. This part is done by `TrainingStrategy` class. \n",
    "2. For each part, we pull the data from `data_frames` of the bundle and apply transformers to them. The resulting dataframes are then returned as a dictionary, which is then fed to the model for training or prediction. This is done by one or many `Extractor`.\n",
    "\n",
    "The size of the batch is determined by the parameter `batch_size`. The rule of thumb is to select the biggest possible `batch_size` that still does not overfill the memory of the machine.\n",
    "\n",
    "### Training Strategy\n",
    "\n",
    "Simple batcher strategy simply separates the frame into subsequent parts of the desired size"
   ]
  },
  {
   "cell_type": "code",
   "execution_count": 8,
   "metadata": {
    "execution": {
     "iopub.execute_input": "2021-04-08T12:03:22.391356Z",
     "iopub.status.busy": "2021-04-08T12:03:22.390748Z",
     "iopub.status.idle": "2021-04-08T12:03:22.393038Z",
     "shell.execute_reply": "2021-04-08T12:03:22.393384Z"
    }
   },
   "outputs": [
    {
     "data": {
      "text/html": [
       "<div>\n",
       "<style scoped>\n",
       "    .dataframe tbody tr th:only-of-type {\n",
       "        vertical-align: middle;\n",
       "    }\n",
       "\n",
       "    .dataframe tbody tr th {\n",
       "        vertical-align: top;\n",
       "    }\n",
       "\n",
       "    .dataframe thead th {\n",
       "        text-align: right;\n",
       "    }\n",
       "</style>\n",
       "<table border=\"1\" class=\"dataframe\">\n",
       "  <thead>\n",
       "    <tr style=\"text-align: right;\">\n",
       "      <th></th>\n",
       "      <th>x</th>\n",
       "    </tr>\n",
       "  </thead>\n",
       "  <tbody>\n",
       "    <tr>\n",
       "      <th>0</th>\n",
       "      <td>0</td>\n",
       "    </tr>\n",
       "    <tr>\n",
       "      <th>1</th>\n",
       "      <td>1</td>\n",
       "    </tr>\n",
       "    <tr>\n",
       "      <th>2</th>\n",
       "      <td>2</td>\n",
       "    </tr>\n",
       "    <tr>\n",
       "      <th>3</th>\n",
       "      <td>3</td>\n",
       "    </tr>\n",
       "    <tr>\n",
       "      <th>4</th>\n",
       "      <td>4</td>\n",
       "    </tr>\n",
       "  </tbody>\n",
       "</table>\n",
       "</div>"
      ],
      "text/plain": [
       "   x\n",
       "0  0\n",
       "1  1\n",
       "2  2\n",
       "3  3\n",
       "4  4"
      ]
     },
     "execution_count": 1,
     "metadata": {},
     "output_type": "execute_result"
    }
   ],
   "source": [
    "strategy = bt.SimpleBatcherStrategy()\n",
    "test_df = pd.DataFrame(dict(x=list(range(5))))\n",
    "test_df"
   ]
  },
  {
   "cell_type": "markdown",
   "metadata": {},
   "source": [
    "`SimpleBatchingStrategy` simply separates the dataframe into the consequent subsets of appropriate size"
   ]
  },
  {
   "cell_type": "code",
   "execution_count": 9,
   "metadata": {
    "execution": {
     "iopub.execute_input": "2021-04-08T12:03:22.397684Z",
     "iopub.status.busy": "2021-04-08T12:03:22.397031Z",
     "iopub.status.idle": "2021-04-08T12:03:22.399508Z",
     "shell.execute_reply": "2021-04-08T12:03:22.399841Z"
    }
   },
   "outputs": [
    {
     "name": "stdout",
     "output_type": "stream",
     "text": [
      "2\n",
      "[0, 1, 2]\n",
      "[3, 4]\n"
     ]
    }
   ],
   "source": [
    "strategy = bt.SimpleBatcherStrategy()\n",
    "batch_count = strategy.get_batch_count(3,test_df)\n",
    "print(batch_count)\n",
    "for i in range(batch_count):\n",
    "    print(list(strategy.get_batch(3,test_df,i)))"
   ]
  },
  {
   "cell_type": "markdown",
   "metadata": {},
   "source": [
    "We also have `PriorityRandomBatcherStrategy`, that randomly samples rows from index frame, paying attention to the indicated weights. That can be used to balance underrepresented samples in the dataset. All of the generated batches will be of the `batch_size`, even if it's greater that dataframe size."
   ]
  },
  {
   "cell_type": "code",
   "execution_count": 10,
   "metadata": {
    "execution": {
     "iopub.execute_input": "2021-04-08T12:03:22.403422Z",
     "iopub.status.busy": "2021-04-08T12:03:22.402997Z",
     "iopub.status.idle": "2021-04-08T12:03:22.411951Z",
     "shell.execute_reply": "2021-04-08T12:03:22.411524Z"
    }
   },
   "outputs": [
    {
     "data": {
      "text/plain": [
       "x\n",
       "1     948\n",
       "2    2096\n",
       "3    3002\n",
       "4    3954\n",
       "dtype: int64"
      ]
     },
     "execution_count": 1,
     "metadata": {},
     "output_type": "execute_result"
    }
   ],
   "source": [
    "strategy = bt.PriorityRandomBatcherStrategy('x')\n",
    "batch = strategy.get_batch(10000, test_df, 0)\n",
    "test_df.loc[batch].groupby('x').size()"
   ]
  },
  {
   "cell_type": "markdown",
   "metadata": {},
   "source": [
    "The Titanic dataset's balance is okayish"
   ]
  },
  {
   "cell_type": "code",
   "execution_count": 11,
   "metadata": {
    "execution": {
     "iopub.execute_input": "2021-04-08T12:03:22.416782Z",
     "iopub.status.busy": "2021-04-08T12:03:22.416195Z",
     "iopub.status.idle": "2021-04-08T12:03:22.418478Z",
     "shell.execute_reply": "2021-04-08T12:03:22.418807Z"
    }
   },
   "outputs": [
    {
     "data": {
      "text/plain": [
       "Survived\n",
       "0.0    549\n",
       "1.0    342\n",
       "dtype: int64"
      ]
     },
     "execution_count": 1,
     "metadata": {},
     "output_type": "execute_result"
    }
   ],
   "source": [
    "bundle.index_frame.groupby('Survived').size()"
   ]
  },
  {
   "cell_type": "markdown",
   "metadata": {},
   "source": [
    "But let's use PriorityRandomBatcherStrategy nevertheless. First, we need to compute the priority of each row, which reflects imbalance. Fortunately we have a function to do so:"
   ]
  },
  {
   "cell_type": "code",
   "execution_count": 12,
   "metadata": {
    "execution": {
     "iopub.execute_input": "2021-04-08T12:03:22.433834Z",
     "iopub.status.busy": "2021-04-08T12:03:22.428551Z",
     "iopub.status.idle": "2021-04-08T12:03:22.436284Z",
     "shell.execute_reply": "2021-04-08T12:03:22.436628Z"
    }
   },
   "outputs": [
    {
     "data": {
      "text/html": [
       "<div>\n",
       "<style scoped>\n",
       "    .dataframe tbody tr th:only-of-type {\n",
       "        vertical-align: middle;\n",
       "    }\n",
       "\n",
       "    .dataframe tbody tr th {\n",
       "        vertical-align: top;\n",
       "    }\n",
       "\n",
       "    .dataframe thead th {\n",
       "        text-align: right;\n",
       "    }\n",
       "</style>\n",
       "<table border=\"1\" class=\"dataframe\">\n",
       "  <thead>\n",
       "    <tr style=\"text-align: right;\">\n",
       "      <th></th>\n",
       "      <th>Name</th>\n",
       "      <th>Ticket</th>\n",
       "      <th>Cabin</th>\n",
       "      <th>Survived</th>\n",
       "      <th>priority</th>\n",
       "    </tr>\n",
       "    <tr>\n",
       "      <th>PassengerId</th>\n",
       "      <th></th>\n",
       "      <th></th>\n",
       "      <th></th>\n",
       "      <th></th>\n",
       "      <th></th>\n",
       "    </tr>\n",
       "  </thead>\n",
       "  <tbody>\n",
       "    <tr>\n",
       "      <th>1</th>\n",
       "      <td>Braund, Mr. Owen Harris</td>\n",
       "      <td>A/5 21171</td>\n",
       "      <td>NaN</td>\n",
       "      <td>0.0</td>\n",
       "      <td>0.001821</td>\n",
       "    </tr>\n",
       "    <tr>\n",
       "      <th>2</th>\n",
       "      <td>Cumings, Mrs. John Bradley (Florence Briggs Th...</td>\n",
       "      <td>PC 17599</td>\n",
       "      <td>C85</td>\n",
       "      <td>1.0</td>\n",
       "      <td>0.002924</td>\n",
       "    </tr>\n",
       "    <tr>\n",
       "      <th>3</th>\n",
       "      <td>Heikkinen, Miss. Laina</td>\n",
       "      <td>STON/O2. 3101282</td>\n",
       "      <td>NaN</td>\n",
       "      <td>1.0</td>\n",
       "      <td>0.002924</td>\n",
       "    </tr>\n",
       "    <tr>\n",
       "      <th>4</th>\n",
       "      <td>Futrelle, Mrs. Jacques Heath (Lily May Peel)</td>\n",
       "      <td>113803</td>\n",
       "      <td>C123</td>\n",
       "      <td>1.0</td>\n",
       "      <td>0.002924</td>\n",
       "    </tr>\n",
       "    <tr>\n",
       "      <th>5</th>\n",
       "      <td>Allen, Mr. William Henry</td>\n",
       "      <td>373450</td>\n",
       "      <td>NaN</td>\n",
       "      <td>0.0</td>\n",
       "      <td>0.001821</td>\n",
       "    </tr>\n",
       "  </tbody>\n",
       "</table>\n",
       "</div>"
      ],
      "text/plain": [
       "                                                          Name  \\\n",
       "PassengerId                                                      \n",
       "1                                      Braund, Mr. Owen Harris   \n",
       "2            Cumings, Mrs. John Bradley (Florence Briggs Th...   \n",
       "3                                       Heikkinen, Miss. Laina   \n",
       "4                 Futrelle, Mrs. Jacques Heath (Lily May Peel)   \n",
       "5                                     Allen, Mr. William Henry   \n",
       "\n",
       "                       Ticket Cabin  Survived  priority  \n",
       "PassengerId                                              \n",
       "1                   A/5 21171   NaN       0.0  0.001821  \n",
       "2                    PC 17599   C85       1.0  0.002924  \n",
       "3            STON/O2. 3101282   NaN       1.0  0.002924  \n",
       "4                      113803  C123       1.0  0.002924  \n",
       "5                      373450   NaN       0.0  0.001821  "
      ]
     },
     "execution_count": 1,
     "metadata": {},
     "output_type": "execute_result"
    }
   ],
   "source": [
    "import copy\n",
    "\n",
    "fixed_bundle = copy.deepcopy(bundle)\n",
    "fixed_bundle.index_frame['priority'] = bt.PriorityRandomBatcherStrategy.make_priorities_for_even_representation(\n",
    "    fixed_bundle.index_frame,\n",
    "    'Survived'\n",
    ")\n",
    "fixed_bundle.index_frame.head()"
   ]
  },
  {
   "cell_type": "markdown",
   "metadata": {},
   "source": [
    "We see that survived passengers have slighly greater chances to make it to the batch.\n",
    "\n",
    "**NOTE**: you probably wouldn't do it like that in the real training. The thing is, you don't want to complicate data bundle creation with a model-specific steps like this one. We only do it to demonstrate, how the final Batcher is going to perform. We will show how to do this step properly a little later\n",
    "\n",
    "\n",
    "By the way, a good rule of thumb here is: **if you need data bundle when initializing the model, you're doing something wrong!** This is true for Single-Frame training as well, but it is especially true for batcher training, because even in our use cases some datasets are too big to be opened on our laptops, and you can only open them at the remote training instance."
   ]
  },
  {
   "cell_type": "markdown",
   "metadata": {},
   "source": [
    "## Extractors"
   ]
  },
  {
   "cell_type": "markdown",
   "metadata": {},
   "source": [
    "Extractors look at the index, provided by strategy, extract data from bundle and apply transformer. Let's define a small sample to see how the results of the extractors look like:"
   ]
  },
  {
   "cell_type": "code",
   "execution_count": 13,
   "metadata": {
    "execution": {
     "iopub.execute_input": "2021-04-08T12:03:22.443741Z",
     "iopub.status.busy": "2021-04-08T12:03:22.439521Z",
     "iopub.status.idle": "2021-04-08T12:03:22.446342Z",
     "shell.execute_reply": "2021-04-08T12:03:22.446796Z"
    }
   },
   "outputs": [
    {
     "data": {
      "text/html": [
       "<div>\n",
       "<style scoped>\n",
       "    .dataframe tbody tr th:only-of-type {\n",
       "        vertical-align: middle;\n",
       "    }\n",
       "\n",
       "    .dataframe tbody tr th {\n",
       "        vertical-align: top;\n",
       "    }\n",
       "\n",
       "    .dataframe thead th {\n",
       "        text-align: right;\n",
       "    }\n",
       "</style>\n",
       "<table border=\"1\" class=\"dataframe\">\n",
       "  <thead>\n",
       "    <tr style=\"text-align: right;\">\n",
       "      <th></th>\n",
       "      <th>Name</th>\n",
       "      <th>Ticket</th>\n",
       "      <th>Cabin</th>\n",
       "      <th>Survived</th>\n",
       "      <th>priority</th>\n",
       "    </tr>\n",
       "    <tr>\n",
       "      <th>PassengerId</th>\n",
       "      <th></th>\n",
       "      <th></th>\n",
       "      <th></th>\n",
       "      <th></th>\n",
       "      <th></th>\n",
       "    </tr>\n",
       "  </thead>\n",
       "  <tbody>\n",
       "    <tr>\n",
       "      <th>11</th>\n",
       "      <td>Sandstrom, Miss. Marguerite Rut</td>\n",
       "      <td>PP 9549</td>\n",
       "      <td>G6</td>\n",
       "      <td>1.0</td>\n",
       "      <td>0.002924</td>\n",
       "    </tr>\n",
       "    <tr>\n",
       "      <th>12</th>\n",
       "      <td>Bonnell, Miss. Elizabeth</td>\n",
       "      <td>113783</td>\n",
       "      <td>C103</td>\n",
       "      <td>1.0</td>\n",
       "      <td>0.002924</td>\n",
       "    </tr>\n",
       "    <tr>\n",
       "      <th>13</th>\n",
       "      <td>Saundercock, Mr. William Henry</td>\n",
       "      <td>A/5. 2151</td>\n",
       "      <td>NaN</td>\n",
       "      <td>0.0</td>\n",
       "      <td>0.001821</td>\n",
       "    </tr>\n",
       "  </tbody>\n",
       "</table>\n",
       "</div>"
      ],
      "text/plain": [
       "                                        Name     Ticket Cabin  Survived  \\\n",
       "PassengerId                                                               \n",
       "11           Sandstrom, Miss. Marguerite Rut    PP 9549    G6       1.0   \n",
       "12                  Bonnell, Miss. Elizabeth     113783  C103       1.0   \n",
       "13            Saundercock, Mr. William Henry  A/5. 2151   NaN       0.0   \n",
       "\n",
       "             priority  \n",
       "PassengerId            \n",
       "11           0.002924  \n",
       "12           0.002924  \n",
       "13           0.001821  "
      ]
     },
     "execution_count": 1,
     "metadata": {},
     "output_type": "execute_result"
    }
   ],
   "source": [
    "sample = fixed_bundle.index_frame.iloc[10:13]\n",
    "sample"
   ]
  },
  {
   "cell_type": "markdown",
   "metadata": {},
   "source": [
    "The most simple case is when data extracted from index itself, which is the case for the label in our case."
   ]
  },
  {
   "cell_type": "code",
   "execution_count": 14,
   "metadata": {
    "execution": {
     "iopub.execute_input": "2021-04-08T12:03:22.452900Z",
     "iopub.status.busy": "2021-04-08T12:03:22.452442Z",
     "iopub.status.idle": "2021-04-08T12:03:22.455152Z",
     "shell.execute_reply": "2021-04-08T12:03:22.455666Z"
    }
   },
   "outputs": [
    {
     "data": {
      "text/html": [
       "<div>\n",
       "<style scoped>\n",
       "    .dataframe tbody tr th:only-of-type {\n",
       "        vertical-align: middle;\n",
       "    }\n",
       "\n",
       "    .dataframe tbody tr th {\n",
       "        vertical-align: top;\n",
       "    }\n",
       "\n",
       "    .dataframe thead th {\n",
       "        text-align: right;\n",
       "    }\n",
       "</style>\n",
       "<table border=\"1\" class=\"dataframe\">\n",
       "  <thead>\n",
       "    <tr style=\"text-align: right;\">\n",
       "      <th></th>\n",
       "      <th>Survived</th>\n",
       "    </tr>\n",
       "    <tr>\n",
       "      <th>PassengerId</th>\n",
       "      <th></th>\n",
       "    </tr>\n",
       "  </thead>\n",
       "  <tbody>\n",
       "    <tr>\n",
       "      <th>11</th>\n",
       "      <td>1.0</td>\n",
       "    </tr>\n",
       "    <tr>\n",
       "      <th>12</th>\n",
       "      <td>1.0</td>\n",
       "    </tr>\n",
       "    <tr>\n",
       "      <th>13</th>\n",
       "      <td>0.0</td>\n",
       "    </tr>\n",
       "  </tbody>\n",
       "</table>\n",
       "</div>"
      ],
      "text/plain": [
       "             Survived\n",
       "PassengerId          \n",
       "11                1.0\n",
       "12                1.0\n",
       "13                0.0"
      ]
     },
     "execution_count": 1,
     "metadata": {},
     "output_type": "execute_result"
    }
   ],
   "source": [
    "label_extractor = bt.IndexExtractor(name='labels',custom_column_name='Survived')\n",
    "label_extractor.extract(sample,fixed_bundle).value"
   ]
  },
  {
   "cell_type": "markdown",
   "metadata": {},
   "source": [
    "Cabin also should be extracted from the index, but this time we will need a transformer. We will just use the transformer factory we already built (it's actually quite generic).\n",
    "\n",
    "**NOTE**: you don't need to `fit` anything manually! Again, we do it just to demonstrate how the classes work. All the fitting is done internally, you only need to define the instances of the corresponding classes. \n"
   ]
  },
  {
   "cell_type": "code",
   "execution_count": 15,
   "metadata": {
    "execution": {
     "iopub.execute_input": "2021-04-08T12:03:22.460649Z",
     "iopub.status.busy": "2021-04-08T12:03:22.460028Z",
     "iopub.status.idle": "2021-04-08T12:03:22.537668Z",
     "shell.execute_reply": "2021-04-08T12:03:22.537230Z"
    }
   },
   "outputs": [
    {
     "data": {
      "text/html": [
       "<div>\n",
       "<style scoped>\n",
       "    .dataframe tbody tr th:only-of-type {\n",
       "        vertical-align: middle;\n",
       "    }\n",
       "\n",
       "    .dataframe tbody tr th {\n",
       "        vertical-align: top;\n",
       "    }\n",
       "\n",
       "    .dataframe thead th {\n",
       "        text-align: right;\n",
       "    }\n",
       "</style>\n",
       "<table border=\"1\" class=\"dataframe\">\n",
       "  <thead>\n",
       "    <tr style=\"text-align: right;\">\n",
       "      <th></th>\n",
       "      <th>Cabin_B5</th>\n",
       "      <th>Cabin_B96 B98</th>\n",
       "      <th>Cabin_C22 C26</th>\n",
       "      <th>Cabin_C23 C25 C27</th>\n",
       "      <th>Cabin_D</th>\n",
       "      <th>Cabin_E101</th>\n",
       "      <th>Cabin_F2</th>\n",
       "      <th>Cabin_F33</th>\n",
       "      <th>Cabin_G6</th>\n",
       "      <th>Cabin_NONE</th>\n",
       "      <th>Cabin_OTHER</th>\n",
       "    </tr>\n",
       "    <tr>\n",
       "      <th>PassengerId</th>\n",
       "      <th></th>\n",
       "      <th></th>\n",
       "      <th></th>\n",
       "      <th></th>\n",
       "      <th></th>\n",
       "      <th></th>\n",
       "      <th></th>\n",
       "      <th></th>\n",
       "      <th></th>\n",
       "      <th></th>\n",
       "      <th></th>\n",
       "    </tr>\n",
       "  </thead>\n",
       "  <tbody>\n",
       "    <tr>\n",
       "      <th>11</th>\n",
       "      <td>0.0</td>\n",
       "      <td>0.0</td>\n",
       "      <td>0.0</td>\n",
       "      <td>0.0</td>\n",
       "      <td>0.0</td>\n",
       "      <td>0.0</td>\n",
       "      <td>0.0</td>\n",
       "      <td>0.0</td>\n",
       "      <td>1.0</td>\n",
       "      <td>0.0</td>\n",
       "      <td>0.0</td>\n",
       "    </tr>\n",
       "    <tr>\n",
       "      <th>12</th>\n",
       "      <td>0.0</td>\n",
       "      <td>0.0</td>\n",
       "      <td>0.0</td>\n",
       "      <td>0.0</td>\n",
       "      <td>0.0</td>\n",
       "      <td>0.0</td>\n",
       "      <td>0.0</td>\n",
       "      <td>0.0</td>\n",
       "      <td>0.0</td>\n",
       "      <td>0.0</td>\n",
       "      <td>1.0</td>\n",
       "    </tr>\n",
       "    <tr>\n",
       "      <th>13</th>\n",
       "      <td>0.0</td>\n",
       "      <td>0.0</td>\n",
       "      <td>0.0</td>\n",
       "      <td>0.0</td>\n",
       "      <td>0.0</td>\n",
       "      <td>0.0</td>\n",
       "      <td>0.0</td>\n",
       "      <td>0.0</td>\n",
       "      <td>0.0</td>\n",
       "      <td>1.0</td>\n",
       "      <td>0.0</td>\n",
       "    </tr>\n",
       "  </tbody>\n",
       "</table>\n",
       "</div>"
      ],
      "text/plain": [
       "             Cabin_B5  Cabin_B96 B98  Cabin_C22 C26  Cabin_C23 C25 C27  \\\n",
       "PassengerId                                                              \n",
       "11                0.0            0.0            0.0                0.0   \n",
       "12                0.0            0.0            0.0                0.0   \n",
       "13                0.0            0.0            0.0                0.0   \n",
       "\n",
       "             Cabin_D  Cabin_E101  Cabin_F2  Cabin_F33  Cabin_G6  Cabin_NONE  \\\n",
       "PassengerId                                                                   \n",
       "11               0.0         0.0       0.0        0.0       1.0         0.0   \n",
       "12               0.0         0.0       0.0        0.0       0.0         0.0   \n",
       "13               0.0         0.0       0.0        0.0       0.0         1.0   \n",
       "\n",
       "             Cabin_OTHER  \n",
       "PassengerId               \n",
       "11                   0.0  \n",
       "12                   1.0  \n",
       "13                   0.0  "
      ]
     },
     "execution_count": 1,
     "metadata": {},
     "output_type": "execute_result"
    }
   ],
   "source": [
    "from tg.common.ml import dft\n",
    "from functools import partial\n",
    "\n",
    "tfac = (dft.DataFrameTransformerFactory()\n",
    " .with_feature_block_list(['Survived','Name','Ticket'])\n",
    " .on_continuous(dft.ContinousTransformer)\n",
    " .on_categorical(partial(\n",
    "     dft.CategoricalTransformer, \n",
    "     postprocessor=dft.OneHotEncoderForDataframe()))\n",
    " .on_rich_category(10, partial(\n",
    "     dft.CategoricalTransformer, \n",
    "     postprocessor=dft.OneHotEncoderForDataframe(), \n",
    "     replacement_strategy = dft.TopKPopularStrategy(10,'OTHER')\n",
    ")))\n",
    "\n",
    "cabin_extractor = bt.IndexExtractor(name='cabin',transformer=tfac, custom_column_name='Cabin')\n",
    "cabin_extractor.fit(fixed_bundle)\n",
    "cabin_extractor.extract(sample,fixed_bundle).value"
   ]
  },
  {
   "cell_type": "markdown",
   "metadata": {},
   "source": [
    "To extract features from other dataframes, we normally use `DirectExtractor`. If the presence of the features is optional, we use `LeftJoinExtractor`, but this is not the case."
   ]
  },
  {
   "cell_type": "code",
   "execution_count": 16,
   "metadata": {
    "execution": {
     "iopub.execute_input": "2021-04-08T12:03:22.548233Z",
     "iopub.status.busy": "2021-04-08T12:03:22.546027Z",
     "iopub.status.idle": "2021-04-08T12:03:22.589231Z",
     "shell.execute_reply": "2021-04-08T12:03:22.589617Z"
    }
   },
   "outputs": [
    {
     "data": {
      "text/html": [
       "<div>\n",
       "<style scoped>\n",
       "    .dataframe tbody tr th:only-of-type {\n",
       "        vertical-align: middle;\n",
       "    }\n",
       "\n",
       "    .dataframe tbody tr th {\n",
       "        vertical-align: top;\n",
       "    }\n",
       "\n",
       "    .dataframe thead th {\n",
       "        text-align: right;\n",
       "    }\n",
       "</style>\n",
       "<table border=\"1\" class=\"dataframe\">\n",
       "  <thead>\n",
       "    <tr style=\"text-align: right;\">\n",
       "      <th></th>\n",
       "      <th>Age</th>\n",
       "      <th>Age_missing</th>\n",
       "      <th>Sex_female</th>\n",
       "      <th>Sex_male</th>\n",
       "      <th>SibSp_0</th>\n",
       "      <th>SibSp_1</th>\n",
       "      <th>SibSp_2</th>\n",
       "      <th>SibSp_3</th>\n",
       "      <th>SibSp_4</th>\n",
       "      <th>SibSp_5</th>\n",
       "      <th>SibSp_8</th>\n",
       "      <th>Parch_0</th>\n",
       "      <th>Parch_1</th>\n",
       "      <th>Parch_2</th>\n",
       "      <th>Parch_3</th>\n",
       "      <th>Parch_4</th>\n",
       "      <th>Parch_5</th>\n",
       "      <th>Parch_6</th>\n",
       "    </tr>\n",
       "    <tr>\n",
       "      <th>PassengerId</th>\n",
       "      <th></th>\n",
       "      <th></th>\n",
       "      <th></th>\n",
       "      <th></th>\n",
       "      <th></th>\n",
       "      <th></th>\n",
       "      <th></th>\n",
       "      <th></th>\n",
       "      <th></th>\n",
       "      <th></th>\n",
       "      <th></th>\n",
       "      <th></th>\n",
       "      <th></th>\n",
       "      <th></th>\n",
       "      <th></th>\n",
       "      <th></th>\n",
       "      <th></th>\n",
       "      <th></th>\n",
       "    </tr>\n",
       "  </thead>\n",
       "  <tbody>\n",
       "    <tr>\n",
       "      <th>11</th>\n",
       "      <td>-1.770360</td>\n",
       "      <td>False</td>\n",
       "      <td>1.0</td>\n",
       "      <td>0.0</td>\n",
       "      <td>0.0</td>\n",
       "      <td>1.0</td>\n",
       "      <td>0.0</td>\n",
       "      <td>0.0</td>\n",
       "      <td>0.0</td>\n",
       "      <td>0.0</td>\n",
       "      <td>0.0</td>\n",
       "      <td>0.0</td>\n",
       "      <td>1.0</td>\n",
       "      <td>0.0</td>\n",
       "      <td>0.0</td>\n",
       "      <td>0.0</td>\n",
       "      <td>0.0</td>\n",
       "      <td>0.0</td>\n",
       "    </tr>\n",
       "    <tr>\n",
       "      <th>12</th>\n",
       "      <td>1.949591</td>\n",
       "      <td>False</td>\n",
       "      <td>1.0</td>\n",
       "      <td>0.0</td>\n",
       "      <td>1.0</td>\n",
       "      <td>0.0</td>\n",
       "      <td>0.0</td>\n",
       "      <td>0.0</td>\n",
       "      <td>0.0</td>\n",
       "      <td>0.0</td>\n",
       "      <td>0.0</td>\n",
       "      <td>1.0</td>\n",
       "      <td>0.0</td>\n",
       "      <td>0.0</td>\n",
       "      <td>0.0</td>\n",
       "      <td>0.0</td>\n",
       "      <td>0.0</td>\n",
       "      <td>0.0</td>\n",
       "    </tr>\n",
       "    <tr>\n",
       "      <th>13</th>\n",
       "      <td>-0.668153</td>\n",
       "      <td>False</td>\n",
       "      <td>0.0</td>\n",
       "      <td>1.0</td>\n",
       "      <td>1.0</td>\n",
       "      <td>0.0</td>\n",
       "      <td>0.0</td>\n",
       "      <td>0.0</td>\n",
       "      <td>0.0</td>\n",
       "      <td>0.0</td>\n",
       "      <td>0.0</td>\n",
       "      <td>1.0</td>\n",
       "      <td>0.0</td>\n",
       "      <td>0.0</td>\n",
       "      <td>0.0</td>\n",
       "      <td>0.0</td>\n",
       "      <td>0.0</td>\n",
       "      <td>0.0</td>\n",
       "    </tr>\n",
       "  </tbody>\n",
       "</table>\n",
       "</div>"
      ],
      "text/plain": [
       "                  Age Age_missing  Sex_female  Sex_male  SibSp_0  SibSp_1  \\\n",
       "PassengerId                                                                 \n",
       "11          -1.770360       False         1.0       0.0      0.0      1.0   \n",
       "12           1.949591       False         1.0       0.0      1.0      0.0   \n",
       "13          -0.668153       False         0.0       1.0      1.0      0.0   \n",
       "\n",
       "             SibSp_2  SibSp_3  SibSp_4  SibSp_5  SibSp_8  Parch_0  Parch_1  \\\n",
       "PassengerId                                                                  \n",
       "11               0.0      0.0      0.0      0.0      0.0      0.0      1.0   \n",
       "12               0.0      0.0      0.0      0.0      0.0      1.0      0.0   \n",
       "13               0.0      0.0      0.0      0.0      0.0      1.0      0.0   \n",
       "\n",
       "             Parch_2  Parch_3  Parch_4  Parch_5  Parch_6  \n",
       "PassengerId                                               \n",
       "11               0.0      0.0      0.0      0.0      0.0  \n",
       "12               0.0      0.0      0.0      0.0      0.0  \n",
       "13               0.0      0.0      0.0      0.0      0.0  "
      ]
     },
     "execution_count": 1,
     "metadata": {},
     "output_type": "execute_result"
    }
   ],
   "source": [
    "passenger_extractor = bt.DirectExtractor(name='passengers',transformer=tfac,custom_index_column='Name')\n",
    "passenger_extractor.fit(fixed_bundle)\n",
    "passenger_extractor.extract(sample,fixed_bundle).value"
   ]
  },
  {
   "cell_type": "markdown",
   "metadata": {},
   "source": [
    "Notice that the resulting dataframe is indexed the same way the `sample` is.\n",
    "\n",
    "Let's repeat this for tickets as well"
   ]
  },
  {
   "cell_type": "code",
   "execution_count": 17,
   "metadata": {
    "execution": {
     "iopub.execute_input": "2021-04-08T12:03:22.597713Z",
     "iopub.status.busy": "2021-04-08T12:03:22.597220Z",
     "iopub.status.idle": "2021-04-08T12:03:22.628312Z",
     "shell.execute_reply": "2021-04-08T12:03:22.628672Z"
    }
   },
   "outputs": [
    {
     "data": {
      "text/html": [
       "<div>\n",
       "<style scoped>\n",
       "    .dataframe tbody tr th:only-of-type {\n",
       "        vertical-align: middle;\n",
       "    }\n",
       "\n",
       "    .dataframe tbody tr th {\n",
       "        vertical-align: top;\n",
       "    }\n",
       "\n",
       "    .dataframe thead th {\n",
       "        text-align: right;\n",
       "    }\n",
       "</style>\n",
       "<table border=\"1\" class=\"dataframe\">\n",
       "  <thead>\n",
       "    <tr style=\"text-align: right;\">\n",
       "      <th></th>\n",
       "      <th>Fare</th>\n",
       "      <th>Pclass_1</th>\n",
       "      <th>Pclass_2</th>\n",
       "      <th>Pclass_3</th>\n",
       "      <th>Embarked_C</th>\n",
       "      <th>Embarked_NONE</th>\n",
       "      <th>Embarked_Q</th>\n",
       "      <th>Embarked_S</th>\n",
       "    </tr>\n",
       "    <tr>\n",
       "      <th>PassengerId</th>\n",
       "      <th></th>\n",
       "      <th></th>\n",
       "      <th></th>\n",
       "      <th></th>\n",
       "      <th></th>\n",
       "      <th></th>\n",
       "      <th></th>\n",
       "      <th></th>\n",
       "    </tr>\n",
       "  </thead>\n",
       "  <tbody>\n",
       "    <tr>\n",
       "      <th>11</th>\n",
       "      <td>-0.178002</td>\n",
       "      <td>0.0</td>\n",
       "      <td>0.0</td>\n",
       "      <td>1.0</td>\n",
       "      <td>0.0</td>\n",
       "      <td>0.0</td>\n",
       "      <td>0.0</td>\n",
       "      <td>1.0</td>\n",
       "    </tr>\n",
       "    <tr>\n",
       "      <th>12</th>\n",
       "      <td>0.088698</td>\n",
       "      <td>1.0</td>\n",
       "      <td>0.0</td>\n",
       "      <td>0.0</td>\n",
       "      <td>0.0</td>\n",
       "      <td>0.0</td>\n",
       "      <td>0.0</td>\n",
       "      <td>1.0</td>\n",
       "    </tr>\n",
       "    <tr>\n",
       "      <th>13</th>\n",
       "      <td>-0.412210</td>\n",
       "      <td>0.0</td>\n",
       "      <td>0.0</td>\n",
       "      <td>1.0</td>\n",
       "      <td>0.0</td>\n",
       "      <td>0.0</td>\n",
       "      <td>0.0</td>\n",
       "      <td>1.0</td>\n",
       "    </tr>\n",
       "  </tbody>\n",
       "</table>\n",
       "</div>"
      ],
      "text/plain": [
       "                 Fare  Pclass_1  Pclass_2  Pclass_3  Embarked_C  \\\n",
       "PassengerId                                                       \n",
       "11          -0.178002       0.0       0.0       1.0         0.0   \n",
       "12           0.088698       1.0       0.0       0.0         0.0   \n",
       "13          -0.412210       0.0       0.0       1.0         0.0   \n",
       "\n",
       "             Embarked_NONE  Embarked_Q  Embarked_S  \n",
       "PassengerId                                         \n",
       "11                     0.0         0.0         1.0  \n",
       "12                     0.0         0.0         1.0  \n",
       "13                     0.0         0.0         1.0  "
      ]
     },
     "execution_count": 1,
     "metadata": {},
     "output_type": "execute_result"
    }
   ],
   "source": [
    "ticket_extractor = bt.DirectExtractor(name='tickets',transformer=tfac,custom_index_column='Ticket')\n",
    "ticket_extractor.fit(fixed_bundle)\n",
    "ticket_extractor.extract(sample,fixed_bundle).value"
   ]
  },
  {
   "cell_type": "markdown",
   "metadata": {},
   "source": [
    "Now, we have 4 extractors, but we really do not need so much dataframes in batches. We only need have features and labels. So we will unite the feature extractors into one:"
   ]
  },
  {
   "cell_type": "code",
   "execution_count": 18,
   "metadata": {
    "execution": {
     "iopub.execute_input": "2021-04-08T12:03:22.642647Z",
     "iopub.status.busy": "2021-04-08T12:03:22.638002Z",
     "iopub.status.idle": "2021-04-08T12:03:22.725721Z",
     "shell.execute_reply": "2021-04-08T12:03:22.726067Z"
    }
   },
   "outputs": [
    {
     "data": {
      "text/html": [
       "<div>\n",
       "<style scoped>\n",
       "    .dataframe tbody tr th:only-of-type {\n",
       "        vertical-align: middle;\n",
       "    }\n",
       "\n",
       "    .dataframe tbody tr th {\n",
       "        vertical-align: top;\n",
       "    }\n",
       "\n",
       "    .dataframe thead th {\n",
       "        text-align: right;\n",
       "    }\n",
       "</style>\n",
       "<table border=\"1\" class=\"dataframe\">\n",
       "  <thead>\n",
       "    <tr style=\"text-align: right;\">\n",
       "      <th></th>\n",
       "      <th>Cabin_B5</th>\n",
       "      <th>Cabin_B96 B98</th>\n",
       "      <th>Cabin_C22 C26</th>\n",
       "      <th>Cabin_C23 C25 C27</th>\n",
       "      <th>Cabin_D</th>\n",
       "      <th>Cabin_E101</th>\n",
       "      <th>Cabin_F2</th>\n",
       "      <th>Cabin_F33</th>\n",
       "      <th>Cabin_G6</th>\n",
       "      <th>Cabin_NONE</th>\n",
       "      <th>...</th>\n",
       "      <th>Parch_5</th>\n",
       "      <th>Parch_6</th>\n",
       "      <th>Fare</th>\n",
       "      <th>Pclass_1</th>\n",
       "      <th>Pclass_2</th>\n",
       "      <th>Pclass_3</th>\n",
       "      <th>Embarked_C</th>\n",
       "      <th>Embarked_NONE</th>\n",
       "      <th>Embarked_Q</th>\n",
       "      <th>Embarked_S</th>\n",
       "    </tr>\n",
       "    <tr>\n",
       "      <th>PassengerId</th>\n",
       "      <th></th>\n",
       "      <th></th>\n",
       "      <th></th>\n",
       "      <th></th>\n",
       "      <th></th>\n",
       "      <th></th>\n",
       "      <th></th>\n",
       "      <th></th>\n",
       "      <th></th>\n",
       "      <th></th>\n",
       "      <th></th>\n",
       "      <th></th>\n",
       "      <th></th>\n",
       "      <th></th>\n",
       "      <th></th>\n",
       "      <th></th>\n",
       "      <th></th>\n",
       "      <th></th>\n",
       "      <th></th>\n",
       "      <th></th>\n",
       "      <th></th>\n",
       "    </tr>\n",
       "  </thead>\n",
       "  <tbody>\n",
       "    <tr>\n",
       "      <th>11</th>\n",
       "      <td>0.0</td>\n",
       "      <td>0.0</td>\n",
       "      <td>0.0</td>\n",
       "      <td>0.0</td>\n",
       "      <td>0.0</td>\n",
       "      <td>0.0</td>\n",
       "      <td>0.0</td>\n",
       "      <td>0.0</td>\n",
       "      <td>1.0</td>\n",
       "      <td>0.0</td>\n",
       "      <td>...</td>\n",
       "      <td>0.0</td>\n",
       "      <td>0.0</td>\n",
       "      <td>-0.178002</td>\n",
       "      <td>0.0</td>\n",
       "      <td>0.0</td>\n",
       "      <td>1.0</td>\n",
       "      <td>0.0</td>\n",
       "      <td>0.0</td>\n",
       "      <td>0.0</td>\n",
       "      <td>1.0</td>\n",
       "    </tr>\n",
       "    <tr>\n",
       "      <th>12</th>\n",
       "      <td>0.0</td>\n",
       "      <td>0.0</td>\n",
       "      <td>0.0</td>\n",
       "      <td>0.0</td>\n",
       "      <td>0.0</td>\n",
       "      <td>0.0</td>\n",
       "      <td>0.0</td>\n",
       "      <td>0.0</td>\n",
       "      <td>0.0</td>\n",
       "      <td>0.0</td>\n",
       "      <td>...</td>\n",
       "      <td>0.0</td>\n",
       "      <td>0.0</td>\n",
       "      <td>0.088698</td>\n",
       "      <td>1.0</td>\n",
       "      <td>0.0</td>\n",
       "      <td>0.0</td>\n",
       "      <td>0.0</td>\n",
       "      <td>0.0</td>\n",
       "      <td>0.0</td>\n",
       "      <td>1.0</td>\n",
       "    </tr>\n",
       "    <tr>\n",
       "      <th>13</th>\n",
       "      <td>0.0</td>\n",
       "      <td>0.0</td>\n",
       "      <td>0.0</td>\n",
       "      <td>0.0</td>\n",
       "      <td>0.0</td>\n",
       "      <td>0.0</td>\n",
       "      <td>0.0</td>\n",
       "      <td>0.0</td>\n",
       "      <td>0.0</td>\n",
       "      <td>1.0</td>\n",
       "      <td>...</td>\n",
       "      <td>0.0</td>\n",
       "      <td>0.0</td>\n",
       "      <td>-0.412210</td>\n",
       "      <td>0.0</td>\n",
       "      <td>0.0</td>\n",
       "      <td>1.0</td>\n",
       "      <td>0.0</td>\n",
       "      <td>0.0</td>\n",
       "      <td>0.0</td>\n",
       "      <td>1.0</td>\n",
       "    </tr>\n",
       "  </tbody>\n",
       "</table>\n",
       "<p>3 rows × 37 columns</p>\n",
       "</div>"
      ],
      "text/plain": [
       "             Cabin_B5  Cabin_B96 B98  Cabin_C22 C26  Cabin_C23 C25 C27  \\\n",
       "PassengerId                                                              \n",
       "11                0.0            0.0            0.0                0.0   \n",
       "12                0.0            0.0            0.0                0.0   \n",
       "13                0.0            0.0            0.0                0.0   \n",
       "\n",
       "             Cabin_D  Cabin_E101  Cabin_F2  Cabin_F33  Cabin_G6  Cabin_NONE  \\\n",
       "PassengerId                                                                   \n",
       "11               0.0         0.0       0.0        0.0       1.0         0.0   \n",
       "12               0.0         0.0       0.0        0.0       0.0         0.0   \n",
       "13               0.0         0.0       0.0        0.0       0.0         1.0   \n",
       "\n",
       "             ...  Parch_5  Parch_6      Fare  Pclass_1  Pclass_2  Pclass_3  \\\n",
       "PassengerId  ...                                                             \n",
       "11           ...      0.0      0.0 -0.178002       0.0       0.0       1.0   \n",
       "12           ...      0.0      0.0  0.088698       1.0       0.0       0.0   \n",
       "13           ...      0.0      0.0 -0.412210       0.0       0.0       1.0   \n",
       "\n",
       "             Embarked_C  Embarked_NONE  Embarked_Q  Embarked_S  \n",
       "PassengerId                                                     \n",
       "11                  0.0            0.0         0.0         1.0  \n",
       "12                  0.0            0.0         0.0         1.0  \n",
       "13                  0.0            0.0         0.0         1.0  \n",
       "\n",
       "[3 rows x 37 columns]"
      ]
     },
     "execution_count": 1,
     "metadata": {},
     "output_type": "execute_result"
    }
   ],
   "source": [
    "feature_extractor = bt.CombinedExtractor('features',[cabin_extractor, passenger_extractor, ticket_extractor])\n",
    "feature_extractor.fit(fixed_bundle)\n",
    "feature_extractor.extract(sample,fixed_bundle).value"
   ]
  },
  {
   "cell_type": "markdown",
   "metadata": {},
   "source": [
    "### Batcher\n",
    "\n",
    "Now we are ready to define the Batcher:"
   ]
  },
  {
   "cell_type": "code",
   "execution_count": 19,
   "metadata": {
    "execution": {
     "iopub.execute_input": "2021-04-08T12:03:22.729553Z",
     "iopub.status.busy": "2021-04-08T12:03:22.729122Z",
     "iopub.status.idle": "2021-04-08T12:03:22.730797Z",
     "shell.execute_reply": "2021-04-08T12:03:22.731134Z"
    }
   },
   "outputs": [],
   "source": [
    "batcher = bt.Batcher(\n",
    "    batch_size = 1000,\n",
    "    extractors = [feature_extractor, label_extractor],\n",
    "    batching_strategy = bt.PriorityRandomBatcherStrategy('priority')\n",
    ")"
   ]
  },
  {
   "cell_type": "markdown",
   "metadata": {},
   "source": [
    "Let's take a look at the batch produced"
   ]
  },
  {
   "cell_type": "code",
   "execution_count": 20,
   "metadata": {
    "execution": {
     "iopub.execute_input": "2021-04-08T12:03:22.740980Z",
     "iopub.status.busy": "2021-04-08T12:03:22.737586Z",
     "iopub.status.idle": "2021-04-08T12:03:22.831084Z",
     "shell.execute_reply": "2021-04-08T12:03:22.831430Z"
    }
   },
   "outputs": [
    {
     "data": {
      "text/plain": [
       "['index', 'features', 'labels']"
      ]
     },
     "execution_count": 1,
     "metadata": {},
     "output_type": "execute_result"
    }
   ],
   "source": [
    "batcher.fit_extractors(fixed_bundle)\n",
    "batch = batcher.get_batch(bt.IndexedDataBundle(fixed_bundle, bundle.index_frame.index),0)\n",
    "list(batch)"
   ]
  },
  {
   "cell_type": "markdown",
   "metadata": {},
   "source": [
    "The batch is balanced"
   ]
  },
  {
   "cell_type": "code",
   "execution_count": 21,
   "metadata": {
    "execution": {
     "iopub.execute_input": "2021-04-08T12:03:22.837982Z",
     "iopub.status.busy": "2021-04-08T12:03:22.836830Z",
     "iopub.status.idle": "2021-04-08T12:03:22.841604Z",
     "shell.execute_reply": "2021-04-08T12:03:22.842115Z"
    }
   },
   "outputs": [
    {
     "data": {
      "text/plain": [
       "Survived\n",
       "0.0    499\n",
       "1.0    501\n",
       "dtype: int64"
      ]
     },
     "execution_count": 1,
     "metadata": {},
     "output_type": "execute_result"
    }
   ],
   "source": [
    "batch['labels'].groupby('Survived').size()"
   ]
  },
  {
   "cell_type": "markdown",
   "metadata": {},
   "source": [
    "Obviously, some people are presenting in the batch more than once, because we requested the batch to be bigger than dataset:"
   ]
  },
  {
   "cell_type": "code",
   "execution_count": 22,
   "metadata": {
    "execution": {
     "iopub.execute_input": "2021-04-08T12:03:22.846939Z",
     "iopub.status.busy": "2021-04-08T12:03:22.845586Z",
     "iopub.status.idle": "2021-04-08T12:03:22.851121Z",
     "shell.execute_reply": "2021-04-08T12:03:22.850223Z"
    }
   },
   "outputs": [
    {
     "data": {
      "text/plain": [
       "1.6863406408094435"
      ]
     },
     "execution_count": 1,
     "metadata": {},
     "output_type": "execute_result"
    }
   ],
   "source": [
    "batch['index'].groupby('Name').size().mean()"
   ]
  },
  {
   "cell_type": "markdown",
   "metadata": {},
   "source": [
    "## Model Handler\n",
    "\n",
    "`ModelHandler` is another important component of the batched training. It handles the model, namely:\n",
    "\n",
    "* Instantiates the model. For neural network, this step is non-trivial, because we don't really know how much features we have before we fit all the extractors. Thus, we don't really know how much inputs network should have. To instantiate the model, a sample batch is created and passed to the initialization method to address this.\n",
    "* Implements training on one batch. Again, this is more complicated in case of neural networks than just calling a `fit` method. \n",
    "* Implements the prediction. For different tasks, we interpret the network's output differently. In Single Frame Training, we had Evaluation to address this. Still, here the options are more plentiful, so it's moved into `ModelHandler` as well.\n",
    "\n",
    "For the binary classification, we convinently have all the classes already in place, so we will use them. Check their code to learn how:\n",
    "* convert dataframes to pytorch tensors\n",
    "* convert tensors back for prediction\n",
    "* implement neural network\n",
    "* train it\n",
    "\n",
    "In our use cases, we basically were rewriting handlers and networks for each task, and it seems to be a way to do it. We don't really have any special guidelines how to do that, everything is fine as far as the architectural classes are inherited properly."
   ]
  },
  {
   "cell_type": "code",
   "execution_count": 23,
   "metadata": {
    "execution": {
     "iopub.execute_input": "2021-04-08T12:03:22.856038Z",
     "iopub.status.busy": "2021-04-08T12:03:22.855624Z",
     "iopub.status.idle": "2021-04-08T12:03:23.771435Z",
     "shell.execute_reply": "2021-04-08T12:03:23.770991Z"
    }
   },
   "outputs": [],
   "source": [
    "from tg.common.ml.batched_training import torch as btt\n",
    "import torch\n",
    "\n",
    "def initializer(task, batch):\n",
    "    network = btt.MultiLayerPerceptronWithParsing(\n",
    "            batch,\n",
    "            ['features'],\n",
    "            [10,1])\n",
    "    return btt.TorchModel(\n",
    "        network = network,\n",
    "        optimizer = torch.optim.SGD(network.parameters(), lr=1), #omit for default\n",
    "        loss = torch.nn.MSELoss() #omit for default\n",
    "    )\n",
    "        \n",
    "    \n",
    "\n",
    "handler = btt.TorchClassificationModelHandler(\n",
    "    labels='labels',\n",
    "    initializer = initializer\n",
    ")"
   ]
  },
  {
   "cell_type": "markdown",
   "metadata": {},
   "source": [
    "# Training task\n",
    "\n",
    "Aside from `ModelHandler` and `Batcher`, `BatcherTrainingTask` is initialized with the classes, already covered in the previous demo: \n",
    "* `splitter` to split the index frame to test and train dataset,\n",
    "  * For batch training, the splitter _must_ return just one split. K-fold is not supported here, because the time of one model training is simply too long.\n",
    "  * For batch traiing, the train set is not evaluated, because, again, it takes too much time for the big datasets. So what we will do is adding additional `display` subset, which is part of training, but on which the metrics are computed.\n",
    "* `metrics_pool` to compute metrics\n",
    "* `artificiers` to inject arbitrary code into training\n",
    "\n",
    "Also, there is a `settings` object that contains some self-explainatory fields."
   ]
  },
  {
   "cell_type": "code",
   "execution_count": 24,
   "metadata": {
    "execution": {
     "iopub.execute_input": "2021-04-08T12:03:23.777987Z",
     "iopub.status.busy": "2021-04-08T12:03:23.776342Z",
     "iopub.status.idle": "2021-04-08T12:03:26.190666Z",
     "shell.execute_reply": "2021-04-08T12:03:26.191040Z"
    }
   },
   "outputs": [
    {
     "data": {
      "image/png": "[encoded data removed]",
      "text/plain": [
       "<Figure size 432x288 with 1 Axes>"
      ]
     },
     "metadata": {
      "needs_background": "light"
     },
     "output_type": "display_data"
    }
   ],
   "source": [
    "from sklearn.metrics import roc_auc_score\n",
    "\n",
    "splitter = bt.CompositionSplit(\n",
    "    bt.FoldSplitter(test_size=0.2),\n",
    "    bt.FoldSplitter(test_size=0.2, decorate=True, test_name='display')\n",
    ")\n",
    "\n",
    "task = bt.BatchedTrainingTask(\n",
    "    splitter = splitter,\n",
    "    batcher = batcher,\n",
    "    model_handler=handler,\n",
    "    metric_pool = bt.MetricPool().add_sklearn(roc_auc_score),\n",
    "    settings = bt.TrainingSettings(epoch_count=10)\n",
    ")\n",
    "\n",
    "result = task.run(fixed_bundle)\n",
    "pd.DataFrame(result['output']['history']).set_index('iteration').plot()\n",
    "pass"
   ]
  },
  {
   "cell_type": "markdown",
   "metadata": {},
   "source": [
    "Feel free to explore other fields of `result` as well. We hope the name of the fields are quite self-explanatory."
   ]
  },
  {
   "cell_type": "markdown",
   "metadata": {},
   "source": [
    "Training can be continued, in this case history persists and the models are not recreated."
   ]
  },
  {
   "cell_type": "code",
   "execution_count": 25,
   "metadata": {
    "execution": {
     "iopub.execute_input": "2021-04-08T12:03:26.195604Z",
     "iopub.status.busy": "2021-04-08T12:03:26.194959Z",
     "iopub.status.idle": "2021-04-08T12:03:28.292322Z",
     "shell.execute_reply": "2021-04-08T12:03:28.292674Z"
    }
   },
   "outputs": [
    {
     "data": {
      "image/png": "[encoded data removed]",
      "text/plain": [
       "<Figure size 432x288 with 1 Axes>"
      ]
     },
     "metadata": {
      "needs_background": "light"
     },
     "output_type": "display_data"
    }
   ],
   "source": [
    "task.settings.continue_training=True\n",
    "result = task.run(fixed_bundle)\n",
    "pd.DataFrame(result['output']['history']).set_index('iteration').plot()\n",
    "pass"
   ]
  },
  {
   "cell_type": "markdown",
   "metadata": {},
   "source": [
    "You don't have to use the same bundle for continuation. So it's totally feasible to tune our models with newly available data instead of retrain them from scratch every time. \n"
   ]
  },
  {
   "cell_type": "markdown",
   "metadata": {},
   "source": [
    "# Late Initialization"
   ]
  },
  {
   "cell_type": "markdown",
   "metadata": {},
   "source": [
    "Late initialization allows you to:\n",
    "* alter data in the bundle when they were loaded\n",
    "* initialize or modify arbitrary fields of the task, based on loaded data\n",
    "\n",
    "There are several use cases for that:\n",
    "* Your model might require some additional data columns, that are simply not in the bundle. In our case, it's a row priority, which we hacked into the bundle while discussing `BatchingStrategy`. The proper way is to compute this field in late initialization.\n",
    "* Train one model, assemble the second one from the components of the first one, and then train the second one. In this case, some components may need initialization/correction.\n",
    "\n",
    "For both of these purposes, you can inject an arbitrary method with late initialization. This method accepts task, bundle and environment (for logging purposes), and can modify any of those.\n",
    "\n",
    "Actually, late initialization is also implemented in single-frame training, but for this one we don't really have the use cases yet."
   ]
  },
  {
   "cell_type": "code",
   "execution_count": 26,
   "metadata": {
    "execution": {
     "iopub.execute_input": "2021-04-08T12:03:28.303386Z",
     "iopub.status.busy": "2021-04-08T12:03:28.300875Z",
     "iopub.status.idle": "2021-04-08T12:03:31.134744Z",
     "shell.execute_reply": "2021-04-08T12:03:31.133739Z"
    }
   },
   "outputs": [
    {
     "data": {
      "image/png": "[encoded data removed]",
      "text/plain": [
       "<Figure size 432x288 with 1 Axes>"
      ]
     },
     "metadata": {
      "needs_background": "light"
     },
     "output_type": "display_data"
    }
   ],
   "source": [
    "def late_initialization(task, bundle, environment):\n",
    "    bundle.index_frame['priority'] = bt.PriorityRandomBatcherStrategy.make_priorities_for_even_representation(\n",
    "        bundle.index_frame,\n",
    "        'Survived'\n",
    "    )\n",
    "\n",
    "\n",
    "task = bt.BatchedTrainingTask(\n",
    "    splitter = splitter,\n",
    "    batcher = batcher,\n",
    "    model_handler=handler,\n",
    "    metric_pool = bt.MetricPool().add_sklearn(roc_auc_score),\n",
    "    settings = bt.TrainingSettings(epoch_count=20),\n",
    "    late_initialization=late_initialization\n",
    ")\n",
    "\n",
    "result = task.run(bundle)\n",
    "pd.DataFrame(result['output']['history']).set_index('iteration').plot()\n",
    "pass"
   ]
  },
  {
   "cell_type": "markdown",
   "metadata": {},
   "source": [
    "# Hyperparameter tuning\n",
    "\n",
    "Implemented exactly the same way as in single-frame training. "
   ]
  }
 ],
 "metadata": {
  "kernelspec": {
   "display_name": "Python 3",
   "language": "python",
   "name": "python3"
  },
  "language_info": {
   "codemirror_mode": {
    "name": "ipython",
    "version": 3
   },
   "file_extension": ".py",
   "mimetype": "text/x-python",
   "name": "python",
   "nbconvert_exporter": "python",
   "pygments_lexer": "ipython3",
   "version": "3.7.10"
  },
  "toc": {
   "base_numbering": 1,
   "nav_menu": {},
   "number_sections": true,
   "sideBar": true,
   "skip_h1_title": false,
   "title_cell": "Table of Contents",
   "title_sidebar": "Contents",
   "toc_cell": false,
   "toc_position": {},
   "toc_section_display": true,
   "toc_window_display": false
  }
 },
 "nbformat": 4,
 "nbformat_minor": 4
}
