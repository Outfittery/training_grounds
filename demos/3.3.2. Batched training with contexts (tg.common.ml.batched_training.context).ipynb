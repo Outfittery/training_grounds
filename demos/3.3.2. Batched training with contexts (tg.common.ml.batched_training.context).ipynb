{
 "cells": [
  {
   "cell_type": "markdown",
   "id": "348fbaf7",
   "metadata": {},
   "source": [
    "# 3.3.2. Batched training with contexts (tg.common.ml.batched_training.context)"
   ]
  },
  {
   "cell_type": "markdown",
   "id": "96052d5e",
   "metadata": {},
   "source": [
    "This demo will cover training on data that are _contextual_. By that we mean cases, when some of the samples form relations, and to make a prediction about sample ***i***, the network must take into consideration all the samples, related to this sample ***i***.\n",
    "\n",
    "The typical example is Natural Language Processing. Often, we cannot really do anything with an individual word in the sentence, we need to consider other words in its vicinity. Most often, ***N*** words to the left form this vicinity, but not only: if a parse tree of the sentence is available, we may consider \"brothers\" of the word, or parents, etc. \n",
    "\n",
    "Contextual data are also possible in sales. If we try to predict the customer-to-article relation, there are many assotiated contexts: previous purchases of the customer, other articles in the order, historical performance of the article, etc.\n",
    "\n",
    "This demo will discuss ways of organizing the contexts in the various ways, including using of recurrent neural networks (LSTM)"
   ]
  },
  {
   "cell_type": "markdown",
   "id": "29fe5e2e",
   "metadata": {},
   "source": [
    "## Setup"
   ]
  },
  {
   "cell_type": "markdown",
   "id": "b540e3d9",
   "metadata": {},
   "source": [
    "We will consider a toy task from NLP. Assume we have ***n*** words, and sentences of ***m*** such words. Some of these sentences belong to the \"good\" subset ***L***, and some don't. The task is to build a classifier for ***L***.\n",
    "\n",
    "First, to establish the baseline, we will build the network without any contexts. For that, we will first build a training data as a dataframe with words in columns:"
   ]
  },
  {
   "cell_type": "code",
   "execution_count": 1,
   "id": "81bc1847",
   "metadata": {
    "execution": {
     "iopub.execute_input": "2022-12-28T13:21:51.039702Z",
     "iopub.status.busy": "2022-12-28T13:21:51.038309Z",
     "iopub.status.idle": "2022-12-28T13:21:51.465621Z",
     "shell.execute_reply": "2022-12-28T13:21:51.466125Z"
    }
   },
   "outputs": [
    {
     "data": {
      "text/html": [
       "<div>\n",
       "<style scoped>\n",
       "    .dataframe tbody tr th:only-of-type {\n",
       "        vertical-align: middle;\n",
       "    }\n",
       "\n",
       "    .dataframe tbody tr th {\n",
       "        vertical-align: top;\n",
       "    }\n",
       "\n",
       "    .dataframe thead th {\n",
       "        text-align: right;\n",
       "    }\n",
       "</style>\n",
       "<table border=\"1\" class=\"dataframe\">\n",
       "  <thead>\n",
       "    <tr style=\"text-align: right;\">\n",
       "      <th></th>\n",
       "      <th>word_0</th>\n",
       "      <th>word_1</th>\n",
       "      <th>word_2</th>\n",
       "      <th>word_3</th>\n",
       "      <th>label</th>\n",
       "      <th>split</th>\n",
       "    </tr>\n",
       "    <tr>\n",
       "      <th>sentence_id</th>\n",
       "      <th></th>\n",
       "      <th></th>\n",
       "      <th></th>\n",
       "      <th></th>\n",
       "      <th></th>\n",
       "      <th></th>\n",
       "    </tr>\n",
       "  </thead>\n",
       "  <tbody>\n",
       "    <tr>\n",
       "      <th>0</th>\n",
       "      <td>A</td>\n",
       "      <td>A</td>\n",
       "      <td>A</td>\n",
       "      <td>A</td>\n",
       "      <td>0</td>\n",
       "      <td>display</td>\n",
       "    </tr>\n",
       "    <tr>\n",
       "      <th>1</th>\n",
       "      <td>A</td>\n",
       "      <td>A</td>\n",
       "      <td>A</td>\n",
       "      <td>B</td>\n",
       "      <td>1</td>\n",
       "      <td>display</td>\n",
       "    </tr>\n",
       "    <tr>\n",
       "      <th>2</th>\n",
       "      <td>A</td>\n",
       "      <td>A</td>\n",
       "      <td>A</td>\n",
       "      <td>C</td>\n",
       "      <td>0</td>\n",
       "      <td>display</td>\n",
       "    </tr>\n",
       "    <tr>\n",
       "      <th>3</th>\n",
       "      <td>A</td>\n",
       "      <td>A</td>\n",
       "      <td>B</td>\n",
       "      <td>A</td>\n",
       "      <td>0</td>\n",
       "      <td>display</td>\n",
       "    </tr>\n",
       "    <tr>\n",
       "      <th>4</th>\n",
       "      <td>A</td>\n",
       "      <td>A</td>\n",
       "      <td>B</td>\n",
       "      <td>B</td>\n",
       "      <td>0</td>\n",
       "      <td>display</td>\n",
       "    </tr>\n",
       "  </tbody>\n",
       "</table>\n",
       "</div>"
      ],
      "text/plain": [
       "            word_0 word_1 word_2 word_3  label    split\n",
       "sentence_id                                            \n",
       "0                A      A      A      A      0  display\n",
       "1                A      A      A      B      1  display\n",
       "2                A      A      A      C      0  display\n",
       "3                A      A      B      A      0  display\n",
       "4                A      A      B      B      0  display"
      ]
     },
     "execution_count": 1,
     "metadata": {},
     "output_type": "execute_result"
    }
   ],
   "source": [
    "import numpy as np\n",
    "import pandas as pd\n",
    "import os\n",
    "\n",
    "def generate_task(word_length, alphabet):\n",
    "    tuples = [ (c,) for c in alphabet]\n",
    "    result = list(tuples)\n",
    "    for i in range(word_length-1):\n",
    "        result = [ t+r for t in tuples for r in result]\n",
    "    df = pd.DataFrame(result, columns=[f'word_{i}' for i in range(word_length)])\n",
    "    df[f'label'] = np.random.randint(0,2,df.shape[0])\n",
    "    df.index.name = 'sentence_id'\n",
    "    df['split'] = 'display'\n",
    "    return df\n",
    "\n",
    "df = pd.read_parquet('lstm_task.parquet')\n",
    "df.head()"
   ]
  },
  {
   "cell_type": "code",
   "execution_count": 2,
   "id": "d427fe35",
   "metadata": {
    "execution": {
     "iopub.execute_input": "2022-12-28T13:21:51.469928Z",
     "iopub.status.busy": "2022-12-28T13:21:51.469511Z",
     "iopub.status.idle": "2022-12-28T13:21:51.472316Z",
     "shell.execute_reply": "2022-12-28T13:21:51.471987Z"
    }
   },
   "outputs": [
    {
     "data": {
      "text/plain": [
       "(81, 6)"
      ]
     },
     "execution_count": 2,
     "metadata": {},
     "output_type": "execute_result"
    }
   ],
   "source": [
    "df.shape"
   ]
  },
  {
   "cell_type": "code",
   "execution_count": 3,
   "id": "044c5e73",
   "metadata": {
    "execution": {
     "iopub.execute_input": "2022-12-28T13:21:51.475731Z",
     "iopub.status.busy": "2022-12-28T13:21:51.475300Z",
     "iopub.status.idle": "2022-12-28T13:21:52.315507Z",
     "shell.execute_reply": "2022-12-28T13:21:52.314969Z"
    }
   },
   "outputs": [],
   "source": [
    "from tg.common.ml import batched_training as bt\n",
    "\n",
    "plain_bundle = bt.DataBundle(index=df)"
   ]
  },
  {
   "cell_type": "markdown",
   "id": "d587a590",
   "metadata": {},
   "source": [
    "First, let's define the extractors:"
   ]
  },
  {
   "cell_type": "code",
   "execution_count": 4,
   "id": "d6582719",
   "metadata": {
    "execution": {
     "iopub.execute_input": "2022-12-28T13:21:52.321709Z",
     "iopub.status.busy": "2022-12-28T13:21:52.321062Z",
     "iopub.status.idle": "2022-12-28T13:21:52.896421Z",
     "shell.execute_reply": "2022-12-28T13:21:52.895924Z"
    }
   },
   "outputs": [
    {
     "data": {
      "text/html": [
       "<div>\n",
       "<style scoped>\n",
       "    .dataframe tbody tr th:only-of-type {\n",
       "        vertical-align: middle;\n",
       "    }\n",
       "\n",
       "    .dataframe tbody tr th {\n",
       "        vertical-align: top;\n",
       "    }\n",
       "\n",
       "    .dataframe thead th {\n",
       "        text-align: right;\n",
       "    }\n",
       "</style>\n",
       "<table border=\"1\" class=\"dataframe\">\n",
       "  <thead>\n",
       "    <tr style=\"text-align: right;\">\n",
       "      <th></th>\n",
       "      <th>word_0_A</th>\n",
       "      <th>word_1_A</th>\n",
       "      <th>word_1_B</th>\n",
       "      <th>word_2_A</th>\n",
       "      <th>word_2_B</th>\n",
       "      <th>word_2_C</th>\n",
       "      <th>word_3_A</th>\n",
       "      <th>word_3_B</th>\n",
       "      <th>word_3_C</th>\n",
       "    </tr>\n",
       "    <tr>\n",
       "      <th>sentence_id</th>\n",
       "      <th></th>\n",
       "      <th></th>\n",
       "      <th></th>\n",
       "      <th></th>\n",
       "      <th></th>\n",
       "      <th></th>\n",
       "      <th></th>\n",
       "      <th></th>\n",
       "      <th></th>\n",
       "    </tr>\n",
       "  </thead>\n",
       "  <tbody>\n",
       "    <tr>\n",
       "      <th>0</th>\n",
       "      <td>1.0</td>\n",
       "      <td>1.0</td>\n",
       "      <td>0.0</td>\n",
       "      <td>1.0</td>\n",
       "      <td>0.0</td>\n",
       "      <td>0.0</td>\n",
       "      <td>1.0</td>\n",
       "      <td>0.0</td>\n",
       "      <td>0.0</td>\n",
       "    </tr>\n",
       "    <tr>\n",
       "      <th>1</th>\n",
       "      <td>1.0</td>\n",
       "      <td>1.0</td>\n",
       "      <td>0.0</td>\n",
       "      <td>1.0</td>\n",
       "      <td>0.0</td>\n",
       "      <td>0.0</td>\n",
       "      <td>0.0</td>\n",
       "      <td>1.0</td>\n",
       "      <td>0.0</td>\n",
       "    </tr>\n",
       "    <tr>\n",
       "      <th>2</th>\n",
       "      <td>1.0</td>\n",
       "      <td>1.0</td>\n",
       "      <td>0.0</td>\n",
       "      <td>1.0</td>\n",
       "      <td>0.0</td>\n",
       "      <td>0.0</td>\n",
       "      <td>0.0</td>\n",
       "      <td>0.0</td>\n",
       "      <td>1.0</td>\n",
       "    </tr>\n",
       "    <tr>\n",
       "      <th>3</th>\n",
       "      <td>1.0</td>\n",
       "      <td>1.0</td>\n",
       "      <td>0.0</td>\n",
       "      <td>0.0</td>\n",
       "      <td>1.0</td>\n",
       "      <td>0.0</td>\n",
       "      <td>1.0</td>\n",
       "      <td>0.0</td>\n",
       "      <td>0.0</td>\n",
       "    </tr>\n",
       "    <tr>\n",
       "      <th>4</th>\n",
       "      <td>1.0</td>\n",
       "      <td>1.0</td>\n",
       "      <td>0.0</td>\n",
       "      <td>0.0</td>\n",
       "      <td>1.0</td>\n",
       "      <td>0.0</td>\n",
       "      <td>0.0</td>\n",
       "      <td>1.0</td>\n",
       "      <td>0.0</td>\n",
       "    </tr>\n",
       "  </tbody>\n",
       "</table>\n",
       "</div>"
      ],
      "text/plain": [
       "             word_0_A  word_1_A  word_1_B  word_2_A  word_2_B  word_2_C  \\\n",
       "sentence_id                                                               \n",
       "0                 1.0       1.0       0.0       1.0       0.0       0.0   \n",
       "1                 1.0       1.0       0.0       1.0       0.0       0.0   \n",
       "2                 1.0       1.0       0.0       1.0       0.0       0.0   \n",
       "3                 1.0       1.0       0.0       0.0       1.0       0.0   \n",
       "4                 1.0       1.0       0.0       0.0       1.0       0.0   \n",
       "\n",
       "             word_3_A  word_3_B  word_3_C  \n",
       "sentence_id                                \n",
       "0                 1.0       0.0       0.0  \n",
       "1                 0.0       1.0       0.0  \n",
       "2                 0.0       0.0       1.0  \n",
       "3                 1.0       0.0       0.0  \n",
       "4                 0.0       1.0       0.0  "
      ]
     },
     "execution_count": 4,
     "metadata": {},
     "output_type": "execute_result"
    }
   ],
   "source": [
    "from tg.common.ml.batched_training import factories as btf\n",
    "from tg.common.ml import dft\n",
    "\n",
    "label_extractor = bt.PlainExtractor.build('label').index().apply(take_columns=btf.Conventions.LabelFrame)\n",
    "features_extractor = bt.PlainExtractor.build('features').index().apply(\n",
    "    take_columns=[f for f in df.columns if f.startswith('word')],\n",
    "    transformer=dft.DataFrameTransformerFactory.default_factory()\n",
    ")\n",
    "plain_batch = bt.Batcher.generate_sample(plain_bundle, [label_extractor, features_extractor])\n",
    "plain_batch['features'].head()"
   ]
  },
  {
   "cell_type": "code",
   "execution_count": 5,
   "id": "d9968e21",
   "metadata": {
    "execution": {
     "iopub.execute_input": "2022-12-28T13:21:52.902610Z",
     "iopub.status.busy": "2022-12-28T13:21:52.901956Z",
     "iopub.status.idle": "2022-12-28T13:21:52.904799Z",
     "shell.execute_reply": "2022-12-28T13:21:52.904314Z"
    }
   },
   "outputs": [
    {
     "data": {
      "text/html": [
       "<div>\n",
       "<style scoped>\n",
       "    .dataframe tbody tr th:only-of-type {\n",
       "        vertical-align: middle;\n",
       "    }\n",
       "\n",
       "    .dataframe tbody tr th {\n",
       "        vertical-align: top;\n",
       "    }\n",
       "\n",
       "    .dataframe thead th {\n",
       "        text-align: right;\n",
       "    }\n",
       "</style>\n",
       "<table border=\"1\" class=\"dataframe\">\n",
       "  <thead>\n",
       "    <tr style=\"text-align: right;\">\n",
       "      <th></th>\n",
       "      <th>label</th>\n",
       "    </tr>\n",
       "    <tr>\n",
       "      <th>sentence_id</th>\n",
       "      <th></th>\n",
       "    </tr>\n",
       "  </thead>\n",
       "  <tbody>\n",
       "    <tr>\n",
       "      <th>0</th>\n",
       "      <td>0</td>\n",
       "    </tr>\n",
       "    <tr>\n",
       "      <th>1</th>\n",
       "      <td>1</td>\n",
       "    </tr>\n",
       "    <tr>\n",
       "      <th>2</th>\n",
       "      <td>0</td>\n",
       "    </tr>\n",
       "    <tr>\n",
       "      <th>3</th>\n",
       "      <td>0</td>\n",
       "    </tr>\n",
       "    <tr>\n",
       "      <th>4</th>\n",
       "      <td>0</td>\n",
       "    </tr>\n",
       "  </tbody>\n",
       "</table>\n",
       "</div>"
      ],
      "text/plain": [
       "             label\n",
       "sentence_id       \n",
       "0                0\n",
       "1                1\n",
       "2                0\n",
       "3                0\n",
       "4                0"
      ]
     },
     "execution_count": 5,
     "metadata": {},
     "output_type": "execute_result"
    }
   ],
   "source": [
    "plain_batch['label'].head()"
   ]
  },
  {
   "cell_type": "code",
   "execution_count": 6,
   "id": "a8a1b204",
   "metadata": {
    "execution": {
     "iopub.execute_input": "2022-12-28T13:21:52.924404Z",
     "iopub.status.busy": "2022-12-28T13:21:52.920418Z",
     "iopub.status.idle": "2022-12-28T13:21:54.935438Z",
     "shell.execute_reply": "2022-12-28T13:21:54.934876Z"
    }
   },
   "outputs": [
    {
     "data": {
      "text/plain": [
       "<AxesSubplot:xlabel='iteration'>"
      ]
     },
     "execution_count": 6,
     "metadata": {},
     "output_type": "execute_result"
    },
    {
     "data": {
      "image/png": "[encoded data removed]",
      "text/plain": [
       "<Figure size 432x288 with 1 Axes>"
      ]
     },
     "metadata": {
      "needs_background": "light"
     },
     "output_type": "display_data"
    }
   ],
   "source": [
    "from sklearn.metrics import roc_auc_score\n",
    "from tg.common import Logger\n",
    "\n",
    "Logger.disable()\n",
    "\n",
    "class PlainTask(btf.TorchTrainingTask):\n",
    "    def initialize_task(self, data):\n",
    "        metrics = bt.MetricPool().add_sklearn(roc_auc_score)\n",
    "        self.settings.batch_size = 1000\n",
    "        self.settings.mini_match_size = None\n",
    "        self.metric_pool = metrics\n",
    "        \n",
    "        label_extractor = bt.PlainExtractor.build('label').index().apply(take_columns=btf.Conventions.LabelFrame)\n",
    "        features_extractor = bt.PlainExtractor.build('features').index().apply(\n",
    "            take_columns=[f for f in df.columns if f.startswith('word')],\n",
    "            transformer=dft.DataFrameTransformerFactory.default_factory()\n",
    "        )\n",
    "        self.setup_batcher(data, [features_extractor, label_extractor])\n",
    "        \n",
    "        self.optimizer_ctor.kwargs.lr = 1\n",
    "        self.setup_model(btf.Factories.FullyConnected([100],'features',btf.Conventions.LabelFrame))\n",
    "        \n",
    "def run(task, bundle, epoch_count = 100, name = 'roc_auc'):\n",
    "    task.settings.epoch_count = epoch_count\n",
    "    result = task.run(bundle)\n",
    "    df = pd.DataFrame(result['output']['history']).set_index('iteration')\n",
    "    series = df.roc_auc_score_display\n",
    "    series.name = str(name)\n",
    "    return series\n",
    "\n",
    "run(PlainTask(), bt.DataBundle(index=df)).plot()"
   ]
  },
  {
   "cell_type": "markdown",
   "id": "3febaa2b",
   "metadata": {},
   "source": [
    "We won't have any test data. As ***L*** is random, it's impossible to predict the status of the word without seeing it. So effectively, the neural network just needs to memorize the table. \n",
    "  "
   ]
  },
  {
   "cell_type": "markdown",
   "id": "c6d3848b",
   "metadata": {},
   "source": [
    "The following code will run the training task on the data multiple times and build a plot of `roc_auc` metric improvement over time for each of them:"
   ]
  },
  {
   "cell_type": "code",
   "execution_count": 7,
   "id": "509c1c42",
   "metadata": {
    "execution": {
     "iopub.execute_input": "2022-12-28T13:21:54.955087Z",
     "iopub.status.busy": "2022-12-28T13:21:54.939822Z",
     "iopub.status.idle": "2022-12-28T13:22:43.937756Z",
     "shell.execute_reply": "2022-12-28T13:22:43.937199Z"
    }
   },
   "outputs": [
    {
     "data": {
      "application/vnd.jupyter.widget-view+json": {
       "model_id": "ad906af8f3ef4b428d211537ed959b09",
       "version_major": 2,
       "version_minor": 0
      },
      "text/plain": [
       "  0%|          | 0/5 [00:00<?, ?it/s]"
      ]
     },
     "metadata": {},
     "output_type": "display_data"
    },
    {
     "data": {
      "image/png": "[encoded data removed]",
      "text/plain": [
       "<Figure size 432x288 with 1 Axes>"
      ]
     },
     "metadata": {
      "needs_background": "light"
     },
     "output_type": "display_data"
    }
   ],
   "source": [
    "from yo_fluq_ds import *\n",
    "\n",
    "def get_roc_auc_curve(name, task, bundle):\n",
    "    result = task.run(bundle)\n",
    "    series = pd.DataFrame(result['output']['history']).roc_auc_score_display\n",
    "    series.name = str(name)\n",
    "    return series\n",
    "\n",
    "curves = (Query\n",
    "          .en(range(5))\n",
    "          .feed(fluq.with_progress_bar())\n",
    "          .select(lambda z: run(PlainTask(), bt.DataBundle(index=df), epoch_count=500, name=str(z)))\n",
    "          .to_list()\n",
    "         )\n",
    "pd.DataFrame(curves).transpose().plot()\n",
    "pass"
   ]
  },
  {
   "cell_type": "markdown",
   "id": "54f982f4",
   "metadata": {},
   "source": [
    "Note that:\n",
    "\n",
    "* Training effectively stabilizes on ~200 iterations. We were unable to achieve significant improvement after this point.\n",
    "* The quality is far from 100%. The amount of neurons in the network are compatible with the amount of samples, and, given that the samples are random, it's not surprising. \n",
    "\n",
    "It is probably possible to achieve higher metric on this task, but right now it's not our goal. \n",
    "\n",
    "The quality depends heavily on the training data: some of the random languages $L$ offer better performance than others. The following code was used to find a language with decent performance:\n"
   ]
  },
  {
   "cell_type": "code",
   "execution_count": 8,
   "id": "0ecbb18f",
   "metadata": {
    "execution": {
     "iopub.execute_input": "2022-12-28T13:22:43.944774Z",
     "iopub.status.busy": "2022-12-28T13:22:43.944176Z",
     "iopub.status.idle": "2022-12-28T13:22:43.945970Z",
     "shell.execute_reply": "2022-12-28T13:22:43.946463Z"
    }
   },
   "outputs": [],
   "source": [
    "def find_good_language(N):\n",
    "    tasks = []\n",
    "    rocs = []\n",
    "    for i in Query.en(range(N)).feed(fluq.with_progress_bar()):\n",
    "        df = generate_task(4, ['A','B','C'])\n",
    "        tasks.append(df)\n",
    "        bundle = bt.DataBundle(index=df)\n",
    "        roc = run(PlainTask(), bundle, name=i)\n",
    "        value = roc.iloc[-1]\n",
    "        rocs.append(value)\n",
    "        print(value, end=' ')\n",
    "    \n",
    "    s = pd.Series(rocs).sort_values()\n",
    "    winner = s.index[-1]\n",
    "    val = s.iloc[-1]\n",
    "    tasks[winner].to_parquet(f'lstm_task_{val}.parquet')\n",
    "    return s"
   ]
  },
  {
   "cell_type": "markdown",
   "id": "73613aef",
   "metadata": {},
   "source": [
    "## Contexts"
   ]
  },
  {
   "cell_type": "markdown",
   "id": "a3884153",
   "metadata": {},
   "source": [
    "The representation we used in the previous section is flawed due to several reasons:\n",
    "\n",
    "* Sequential data usually have different length. Placing them in the columns of the dataframe causes sparsity. \n",
    "* Sequential data may contain multiple columns for each position, i.e. morphological features or word2vec for words. Placing them in the columns of the dataframe creates a hierarchy of the columns.\n",
    "* Pandas is not really covenient to perform column-based operations, that will mean loops and other low-performative python logic.\n",
    "* Samples may enter in more than one relations, and it's unpractical to build such table for each of them.\n",
    "\n",
    "This is why it's far more convenient to use a sequential representation: each row is a sample (word in our case), but there is also a structural information, incorporated in the bundle, that represents relation of the samples. \n",
    "\n",
    "Let's translate our language ***L*** to this new format:"
   ]
  },
  {
   "cell_type": "code",
   "execution_count": 9,
   "id": "28aa3aed",
   "metadata": {
    "execution": {
     "iopub.execute_input": "2022-12-28T13:22:43.955643Z",
     "iopub.status.busy": "2022-12-28T13:22:43.954597Z",
     "iopub.status.idle": "2022-12-28T13:22:43.963395Z",
     "shell.execute_reply": "2022-12-28T13:22:43.963903Z"
    }
   },
   "outputs": [],
   "source": [
    "def translate_to_sequential(df):\n",
    "    words = [c for c in df.columns if c.startswith('word_')]\n",
    "    context_length = len(words)\n",
    "\n",
    "    cdf = df[words].unstack().to_frame('word').reset_index()\n",
    "    cdf = cdf.rename(columns=dict(level_0= 'word_position'))\n",
    "    cdf.word_position = cdf.word_position.str.replace('word_','').astype(int)\n",
    "    cdf = cdf.sort_values(['sentence_id','word_position'])\n",
    "    cdf['word_id'] = list(range(cdf.shape[0]))\n",
    "    cdf = cdf[['word_id','sentence_id','word_position','word']]\n",
    "    cdf.index = list(cdf['word_id'])\n",
    "    \n",
    "    idf = df[['label']].reset_index()\n",
    "    idf['split'] = 'display'\n",
    "    idf.index.name='sample_id'\n",
    "    bundle = bt.DataBundle(index = idf, src=cdf)\n",
    "    bundle.additional_information.context_length = context_length\n",
    "    return bundle\n",
    "\n",
    "db = translate_to_sequential(df)"
   ]
  },
  {
   "cell_type": "markdown",
   "id": "9569dbc5",
   "metadata": {},
   "source": [
    "`src` frame contains all word in the sentences;"
   ]
  },
  {
   "cell_type": "code",
   "execution_count": 10,
   "id": "ac9d5a88",
   "metadata": {
    "execution": {
     "iopub.execute_input": "2022-12-28T13:22:43.972042Z",
     "iopub.status.busy": "2022-12-28T13:22:43.971259Z",
     "iopub.status.idle": "2022-12-28T13:22:43.974923Z",
     "shell.execute_reply": "2022-12-28T13:22:43.974359Z"
    }
   },
   "outputs": [
    {
     "data": {
      "text/html": [
       "<div>\n",
       "<style scoped>\n",
       "    .dataframe tbody tr th:only-of-type {\n",
       "        vertical-align: middle;\n",
       "    }\n",
       "\n",
       "    .dataframe tbody tr th {\n",
       "        vertical-align: top;\n",
       "    }\n",
       "\n",
       "    .dataframe thead th {\n",
       "        text-align: right;\n",
       "    }\n",
       "</style>\n",
       "<table border=\"1\" class=\"dataframe\">\n",
       "  <thead>\n",
       "    <tr style=\"text-align: right;\">\n",
       "      <th></th>\n",
       "      <th>word_id</th>\n",
       "      <th>sentence_id</th>\n",
       "      <th>word_position</th>\n",
       "      <th>word</th>\n",
       "    </tr>\n",
       "  </thead>\n",
       "  <tbody>\n",
       "    <tr>\n",
       "      <th>0</th>\n",
       "      <td>0</td>\n",
       "      <td>0</td>\n",
       "      <td>0</td>\n",
       "      <td>A</td>\n",
       "    </tr>\n",
       "    <tr>\n",
       "      <th>1</th>\n",
       "      <td>1</td>\n",
       "      <td>0</td>\n",
       "      <td>1</td>\n",
       "      <td>A</td>\n",
       "    </tr>\n",
       "    <tr>\n",
       "      <th>2</th>\n",
       "      <td>2</td>\n",
       "      <td>0</td>\n",
       "      <td>2</td>\n",
       "      <td>A</td>\n",
       "    </tr>\n",
       "    <tr>\n",
       "      <th>3</th>\n",
       "      <td>3</td>\n",
       "      <td>0</td>\n",
       "      <td>3</td>\n",
       "      <td>A</td>\n",
       "    </tr>\n",
       "    <tr>\n",
       "      <th>4</th>\n",
       "      <td>4</td>\n",
       "      <td>1</td>\n",
       "      <td>0</td>\n",
       "      <td>A</td>\n",
       "    </tr>\n",
       "  </tbody>\n",
       "</table>\n",
       "</div>"
      ],
      "text/plain": [
       "   word_id  sentence_id  word_position word\n",
       "0        0            0              0    A\n",
       "1        1            0              1    A\n",
       "2        2            0              2    A\n",
       "3        3            0              3    A\n",
       "4        4            1              0    A"
      ]
     },
     "execution_count": 10,
     "metadata": {},
     "output_type": "execute_result"
    }
   ],
   "source": [
    "db.src.head()"
   ]
  },
  {
   "cell_type": "markdown",
   "id": "d67c775a",
   "metadata": {},
   "source": [
    "This structure is what we currently think the best approach for NLP:\n",
    "\n",
    "* `word_id` is a unique, always-increasing `id` of the occurence of the word in the text\n",
    "* `sentence_id` is a unique, always-increasing `id` of the word/sentence.\n",
    "* `word_position` additionally positions words within sentences\n",
    "* Additional indexations (like `paragraph_id`, `sentence_position`, etc) are possible.\n"
   ]
  },
  {
   "cell_type": "code",
   "execution_count": 11,
   "id": "28f44749",
   "metadata": {
    "execution": {
     "iopub.execute_input": "2022-12-28T13:22:43.984494Z",
     "iopub.status.busy": "2022-12-28T13:22:43.983580Z",
     "iopub.status.idle": "2022-12-28T13:22:43.986323Z",
     "shell.execute_reply": "2022-12-28T13:22:43.986874Z"
    }
   },
   "outputs": [
    {
     "data": {
      "text/html": [
       "<div>\n",
       "<style scoped>\n",
       "    .dataframe tbody tr th:only-of-type {\n",
       "        vertical-align: middle;\n",
       "    }\n",
       "\n",
       "    .dataframe tbody tr th {\n",
       "        vertical-align: top;\n",
       "    }\n",
       "\n",
       "    .dataframe thead th {\n",
       "        text-align: right;\n",
       "    }\n",
       "</style>\n",
       "<table border=\"1\" class=\"dataframe\">\n",
       "  <thead>\n",
       "    <tr style=\"text-align: right;\">\n",
       "      <th></th>\n",
       "      <th>sentence_id</th>\n",
       "      <th>label</th>\n",
       "      <th>split</th>\n",
       "    </tr>\n",
       "    <tr>\n",
       "      <th>sample_id</th>\n",
       "      <th></th>\n",
       "      <th></th>\n",
       "      <th></th>\n",
       "    </tr>\n",
       "  </thead>\n",
       "  <tbody>\n",
       "    <tr>\n",
       "      <th>0</th>\n",
       "      <td>0</td>\n",
       "      <td>0</td>\n",
       "      <td>display</td>\n",
       "    </tr>\n",
       "    <tr>\n",
       "      <th>1</th>\n",
       "      <td>1</td>\n",
       "      <td>1</td>\n",
       "      <td>display</td>\n",
       "    </tr>\n",
       "    <tr>\n",
       "      <th>2</th>\n",
       "      <td>2</td>\n",
       "      <td>0</td>\n",
       "      <td>display</td>\n",
       "    </tr>\n",
       "    <tr>\n",
       "      <th>3</th>\n",
       "      <td>3</td>\n",
       "      <td>0</td>\n",
       "      <td>display</td>\n",
       "    </tr>\n",
       "    <tr>\n",
       "      <th>4</th>\n",
       "      <td>4</td>\n",
       "      <td>0</td>\n",
       "      <td>display</td>\n",
       "    </tr>\n",
       "  </tbody>\n",
       "</table>\n",
       "</div>"
      ],
      "text/plain": [
       "           sentence_id  label    split\n",
       "sample_id                             \n",
       "0                    0      0  display\n",
       "1                    1      1  display\n",
       "2                    2      0  display\n",
       "3                    3      0  display\n",
       "4                    4      0  display"
      ]
     },
     "execution_count": 11,
     "metadata": {},
     "output_type": "execute_result"
    }
   ],
   "source": [
    "db.index.head()"
   ]
  },
  {
   "cell_type": "markdown",
   "id": "2a3660f7",
   "metadata": {},
   "source": [
    "**Note**: indexation might appear excessive. We just follow the practice from other NLP tasks: there, not all the sentences in the corpus may appear in `index_frame`; as for `src`, in some cases it's handy to have `word_id` as a column, and in other cases -- as index, therefore, index of `src` simply duplicates the `word_id` column."
   ]
  },
  {
   "cell_type": "markdown",
   "id": "58a2072b",
   "metadata": {},
   "source": [
    "Now, our task is to build back the features for each sentence, by taking all the previous words in this sentence, transforming them in the features individually and then combining. This procedure is done by four entities, three basic are:\n",
    "* `ContextBuilder` builds the context, i.e. relation from one instance of `index` entity to several other entities (not necessarily from `index`). \n",
    "* `Extactor` extracts features for each sample in the context.\n",
    "* `Aggregator` then organizes the features so they are in the format, consumable by the network (2D dataframe)\n",
    "\n",
    "There might be multiple extractors and aggregators for each context. Therefore, we add `Finalizer`, that concatenates aggregator's results, and also controls shape of the resulting dataframe, e.g. that even the samples with empty context receive their row in the features, and that all the columns are in their exact place."
   ]
  },
  {
   "cell_type": "markdown",
   "id": "95bc745d",
   "metadata": {},
   "source": [
    "Let's first cover the `ContextBuilder`:"
   ]
  },
  {
   "cell_type": "code",
   "execution_count": 12,
   "id": "1a558c65",
   "metadata": {
    "execution": {
     "iopub.execute_input": "2022-12-28T13:22:43.993856Z",
     "iopub.status.busy": "2022-12-28T13:22:43.993430Z",
     "iopub.status.idle": "2022-12-28T13:22:44.011075Z",
     "shell.execute_reply": "2022-12-28T13:22:44.010544Z"
    }
   },
   "outputs": [
    {
     "data": {
      "text/html": [
       "<div>\n",
       "<style scoped>\n",
       "    .dataframe tbody tr th:only-of-type {\n",
       "        vertical-align: middle;\n",
       "    }\n",
       "\n",
       "    .dataframe tbody tr th {\n",
       "        vertical-align: top;\n",
       "    }\n",
       "\n",
       "    .dataframe thead th {\n",
       "        text-align: right;\n",
       "    }\n",
       "</style>\n",
       "<table border=\"1\" class=\"dataframe\">\n",
       "  <thead>\n",
       "    <tr style=\"text-align: right;\">\n",
       "      <th></th>\n",
       "      <th></th>\n",
       "      <th>word_id</th>\n",
       "      <th>word</th>\n",
       "    </tr>\n",
       "    <tr>\n",
       "      <th>sample_id</th>\n",
       "      <th>word_position</th>\n",
       "      <th></th>\n",
       "      <th></th>\n",
       "    </tr>\n",
       "  </thead>\n",
       "  <tbody>\n",
       "    <tr>\n",
       "      <th rowspan=\"4\" valign=\"top\">0</th>\n",
       "      <th>0</th>\n",
       "      <td>0</td>\n",
       "      <td>A</td>\n",
       "    </tr>\n",
       "    <tr>\n",
       "      <th>1</th>\n",
       "      <td>1</td>\n",
       "      <td>A</td>\n",
       "    </tr>\n",
       "    <tr>\n",
       "      <th>2</th>\n",
       "      <td>2</td>\n",
       "      <td>A</td>\n",
       "    </tr>\n",
       "    <tr>\n",
       "      <th>3</th>\n",
       "      <td>3</td>\n",
       "      <td>A</td>\n",
       "    </tr>\n",
       "    <tr>\n",
       "      <th rowspan=\"4\" valign=\"top\">1</th>\n",
       "      <th>0</th>\n",
       "      <td>4</td>\n",
       "      <td>A</td>\n",
       "    </tr>\n",
       "    <tr>\n",
       "      <th>1</th>\n",
       "      <td>5</td>\n",
       "      <td>A</td>\n",
       "    </tr>\n",
       "    <tr>\n",
       "      <th>2</th>\n",
       "      <td>6</td>\n",
       "      <td>A</td>\n",
       "    </tr>\n",
       "    <tr>\n",
       "      <th>3</th>\n",
       "      <td>7</td>\n",
       "      <td>B</td>\n",
       "    </tr>\n",
       "    <tr>\n",
       "      <th rowspan=\"4\" valign=\"top\">2</th>\n",
       "      <th>0</th>\n",
       "      <td>8</td>\n",
       "      <td>A</td>\n",
       "    </tr>\n",
       "    <tr>\n",
       "      <th>1</th>\n",
       "      <td>9</td>\n",
       "      <td>A</td>\n",
       "    </tr>\n",
       "    <tr>\n",
       "      <th>2</th>\n",
       "      <td>10</td>\n",
       "      <td>A</td>\n",
       "    </tr>\n",
       "    <tr>\n",
       "      <th>3</th>\n",
       "      <td>11</td>\n",
       "      <td>C</td>\n",
       "    </tr>\n",
       "  </tbody>\n",
       "</table>\n",
       "</div>"
      ],
      "text/plain": [
       "                         word_id word\n",
       "sample_id word_position              \n",
       "0         0                    0    A\n",
       "          1                    1    A\n",
       "          2                    2    A\n",
       "          3                    3    A\n",
       "1         0                    4    A\n",
       "          1                    5    A\n",
       "          2                    6    A\n",
       "          3                    7    B\n",
       "2         0                    8    A\n",
       "          1                    9    A\n",
       "          2                   10    A\n",
       "          3                   11    C"
      ]
     },
     "execution_count": 12,
     "metadata": {},
     "output_type": "execute_result"
    }
   ],
   "source": [
    "from tg.common.ml.batched_training import context as btc\n",
    "\n",
    "class SentenceContextBuilder(btc.ContextBuilder):\n",
    "    def build_context(self, ibundle, context_size):\n",
    "        df = ibundle.index_frame[['sentence_id']]\n",
    "        df = df.merge(ibundle.bundle.src.set_index('sentence_id'), left_on='sentence_id', right_index=True)\n",
    "        df = df[['word_position','word_id','word']]\n",
    "        df = df.loc[df.word_position<context_size]\n",
    "        df = df.set_index('word_position', append=True)\n",
    "        return df\n",
    "\n",
    "ibundle = bt.IndexedDataBundle(db.index, db)\n",
    "ibundle_sample = ibundle.change_index(ibundle.index_frame.iloc[:3])\n",
    "context_builder = SentenceContextBuilder()\n",
    "context_builder.fit(ibundle)\n",
    "context_builder.build_context(ibundle_sample, 4)"
   ]
  },
  {
   "cell_type": "markdown",
   "id": "23c4941e",
   "metadata": {},
   "source": [
    "As promised, it builds a relation from each `sample` to several rows in `src`, by different offsets. \n",
    "\n",
    "Now, we can use normal `Exctractor` to extract features. \n",
    "\n",
    "Also, we will use aggregator that simply concatenates the features for different samples in context, and `PandasFinalizer`, which should be always for every context extraction in 2D format. "
   ]
  },
  {
   "cell_type": "code",
   "execution_count": 13,
   "id": "09310646",
   "metadata": {
    "execution": {
     "iopub.execute_input": "2022-12-28T13:22:44.029788Z",
     "iopub.status.busy": "2022-12-28T13:22:44.024591Z",
     "iopub.status.idle": "2022-12-28T13:22:44.071406Z",
     "shell.execute_reply": "2022-12-28T13:22:44.070937Z"
    }
   },
   "outputs": [
    {
     "data": {
      "text/html": [
       "<div>\n",
       "<style scoped>\n",
       "    .dataframe tbody tr th:only-of-type {\n",
       "        vertical-align: middle;\n",
       "    }\n",
       "\n",
       "    .dataframe tbody tr th {\n",
       "        vertical-align: top;\n",
       "    }\n",
       "\n",
       "    .dataframe thead th {\n",
       "        text-align: right;\n",
       "    }\n",
       "</style>\n",
       "<table border=\"1\" class=\"dataframe\">\n",
       "  <thead>\n",
       "    <tr style=\"text-align: right;\">\n",
       "      <th></th>\n",
       "      <th>f0a0_word_A_at_0</th>\n",
       "      <th>f0a0_word_A_at_1</th>\n",
       "      <th>f0a0_word_A_at_2</th>\n",
       "      <th>f0a0_word_A_at_3</th>\n",
       "      <th>f0a0_word_B_at_0</th>\n",
       "      <th>f0a0_word_B_at_1</th>\n",
       "      <th>f0a0_word_B_at_2</th>\n",
       "      <th>f0a0_word_B_at_3</th>\n",
       "      <th>f0a0_word_C_at_0</th>\n",
       "      <th>f0a0_word_C_at_1</th>\n",
       "      <th>f0a0_word_C_at_2</th>\n",
       "      <th>f0a0_word_C_at_3</th>\n",
       "    </tr>\n",
       "    <tr>\n",
       "      <th>sample_id</th>\n",
       "      <th></th>\n",
       "      <th></th>\n",
       "      <th></th>\n",
       "      <th></th>\n",
       "      <th></th>\n",
       "      <th></th>\n",
       "      <th></th>\n",
       "      <th></th>\n",
       "      <th></th>\n",
       "      <th></th>\n",
       "      <th></th>\n",
       "      <th></th>\n",
       "    </tr>\n",
       "  </thead>\n",
       "  <tbody>\n",
       "    <tr>\n",
       "      <th>0</th>\n",
       "      <td>1.0</td>\n",
       "      <td>1.0</td>\n",
       "      <td>1.0</td>\n",
       "      <td>1.0</td>\n",
       "      <td>0.0</td>\n",
       "      <td>0.0</td>\n",
       "      <td>0.0</td>\n",
       "      <td>0.0</td>\n",
       "      <td>0.0</td>\n",
       "      <td>0.0</td>\n",
       "      <td>0.0</td>\n",
       "      <td>0.0</td>\n",
       "    </tr>\n",
       "    <tr>\n",
       "      <th>1</th>\n",
       "      <td>1.0</td>\n",
       "      <td>1.0</td>\n",
       "      <td>1.0</td>\n",
       "      <td>0.0</td>\n",
       "      <td>0.0</td>\n",
       "      <td>0.0</td>\n",
       "      <td>0.0</td>\n",
       "      <td>1.0</td>\n",
       "      <td>0.0</td>\n",
       "      <td>0.0</td>\n",
       "      <td>0.0</td>\n",
       "      <td>0.0</td>\n",
       "    </tr>\n",
       "    <tr>\n",
       "      <th>2</th>\n",
       "      <td>1.0</td>\n",
       "      <td>1.0</td>\n",
       "      <td>1.0</td>\n",
       "      <td>0.0</td>\n",
       "      <td>0.0</td>\n",
       "      <td>0.0</td>\n",
       "      <td>0.0</td>\n",
       "      <td>0.0</td>\n",
       "      <td>0.0</td>\n",
       "      <td>0.0</td>\n",
       "      <td>0.0</td>\n",
       "      <td>1.0</td>\n",
       "    </tr>\n",
       "  </tbody>\n",
       "</table>\n",
       "</div>"
      ],
      "text/plain": [
       "           f0a0_word_A_at_0  f0a0_word_A_at_1  f0a0_word_A_at_2  \\\n",
       "sample_id                                                         \n",
       "0                       1.0               1.0               1.0   \n",
       "1                       1.0               1.0               1.0   \n",
       "2                       1.0               1.0               1.0   \n",
       "\n",
       "           f0a0_word_A_at_3  f0a0_word_B_at_0  f0a0_word_B_at_1  \\\n",
       "sample_id                                                         \n",
       "0                       1.0               0.0               0.0   \n",
       "1                       0.0               0.0               0.0   \n",
       "2                       0.0               0.0               0.0   \n",
       "\n",
       "           f0a0_word_B_at_2  f0a0_word_B_at_3  f0a0_word_C_at_0  \\\n",
       "sample_id                                                         \n",
       "0                       0.0               0.0               0.0   \n",
       "1                       0.0               1.0               0.0   \n",
       "2                       0.0               0.0               0.0   \n",
       "\n",
       "           f0a0_word_C_at_1  f0a0_word_C_at_2  f0a0_word_C_at_3  \n",
       "sample_id                                                        \n",
       "0                       0.0               0.0               0.0  \n",
       "1                       0.0               0.0               0.0  \n",
       "2                       0.0               0.0               1.0  "
      ]
     },
     "execution_count": 13,
     "metadata": {},
     "output_type": "execute_result"
    }
   ],
   "source": [
    "def build_context_extractor(context_length, aggregator):\n",
    "    context_extractor = btc.ContextExtractor(\n",
    "        name = 'features',\n",
    "        context_size = context_length,\n",
    "        context_builder = SentenceContextBuilder(),\n",
    "        feature_extractor_factory = btc.SimpleExtractorToAggregatorFactory(\n",
    "            bt.PlainExtractor.build('word').index().apply(\n",
    "                take_columns=['word'], \n",
    "                transformer = dft.DataFrameTransformerFactory.default_factory()\n",
    "            ),\n",
    "            aggregator\n",
    "        ),\n",
    "        finalizer = btc.PandasAggregationFinalizer(\n",
    "            add_presence_columns=False\n",
    "        ),\n",
    "        debug = True\n",
    "    )\n",
    "    return context_extractor\n",
    "\n",
    "context_extractor = build_context_extractor(\n",
    "    db.additional_information.context_length,\n",
    "    btc.PivotAggregator()\n",
    ")\n",
    "context_extractor.fit(ibundle)\n",
    "context_extractor.extract(ibundle_sample)"
   ]
  },
  {
   "cell_type": "markdown",
   "id": "9c7a69ea",
   "metadata": {},
   "source": [
    "Note that it looks exactly as a batch in the very first section. But this time the dataframe is assembled by the components from `tg.common.ml.batched_training.context`, and it's shape and nature can be altered by changing these components, thus enabling different architectures for the networks (including the recurrent ones)"
   ]
  },
  {
   "cell_type": "markdown",
   "id": "0446b007",
   "metadata": {},
   "source": [
    "`ContextExtractor` performs non-trivial functionality, and stepwise debugging may be needed. For this, `debug` argument can be used, exactly as it was the case with `BatchedTrainingTask` (and it also should be **always off** in production due to the same reasons)\n",
    "\n",
    "We can explore intermediate stages within `ContextExtractors`, e.g. the output of the `Extractor`:"
   ]
  },
  {
   "cell_type": "code",
   "execution_count": 14,
   "id": "b3f83126",
   "metadata": {
    "execution": {
     "iopub.execute_input": "2022-12-28T13:22:44.079839Z",
     "iopub.status.busy": "2022-12-28T13:22:44.079146Z",
     "iopub.status.idle": "2022-12-28T13:22:44.082305Z",
     "shell.execute_reply": "2022-12-28T13:22:44.081776Z"
    }
   },
   "outputs": [
    {
     "data": {
      "text/html": [
       "<div>\n",
       "<style scoped>\n",
       "    .dataframe tbody tr th:only-of-type {\n",
       "        vertical-align: middle;\n",
       "    }\n",
       "\n",
       "    .dataframe tbody tr th {\n",
       "        vertical-align: top;\n",
       "    }\n",
       "\n",
       "    .dataframe thead th {\n",
       "        text-align: right;\n",
       "    }\n",
       "</style>\n",
       "<table border=\"1\" class=\"dataframe\">\n",
       "  <thead>\n",
       "    <tr style=\"text-align: right;\">\n",
       "      <th></th>\n",
       "      <th></th>\n",
       "      <th>word_A</th>\n",
       "      <th>word_B</th>\n",
       "      <th>word_C</th>\n",
       "    </tr>\n",
       "    <tr>\n",
       "      <th>sample_id</th>\n",
       "      <th>word_position</th>\n",
       "      <th></th>\n",
       "      <th></th>\n",
       "      <th></th>\n",
       "    </tr>\n",
       "  </thead>\n",
       "  <tbody>\n",
       "    <tr>\n",
       "      <th rowspan=\"4\" valign=\"top\">0</th>\n",
       "      <th>0</th>\n",
       "      <td>1.0</td>\n",
       "      <td>0.0</td>\n",
       "      <td>0.0</td>\n",
       "    </tr>\n",
       "    <tr>\n",
       "      <th>1</th>\n",
       "      <td>1.0</td>\n",
       "      <td>0.0</td>\n",
       "      <td>0.0</td>\n",
       "    </tr>\n",
       "    <tr>\n",
       "      <th>2</th>\n",
       "      <td>1.0</td>\n",
       "      <td>0.0</td>\n",
       "      <td>0.0</td>\n",
       "    </tr>\n",
       "    <tr>\n",
       "      <th>3</th>\n",
       "      <td>1.0</td>\n",
       "      <td>0.0</td>\n",
       "      <td>0.0</td>\n",
       "    </tr>\n",
       "    <tr>\n",
       "      <th>1</th>\n",
       "      <th>0</th>\n",
       "      <td>1.0</td>\n",
       "      <td>0.0</td>\n",
       "      <td>0.0</td>\n",
       "    </tr>\n",
       "  </tbody>\n",
       "</table>\n",
       "</div>"
      ],
      "text/plain": [
       "                         word_A  word_B  word_C\n",
       "sample_id word_position                        \n",
       "0         0                 1.0     0.0     0.0\n",
       "          1                 1.0     0.0     0.0\n",
       "          2                 1.0     0.0     0.0\n",
       "          3                 1.0     0.0     0.0\n",
       "1         0                 1.0     0.0     0.0"
      ]
     },
     "execution_count": 14,
     "metadata": {},
     "output_type": "execute_result"
    }
   ],
   "source": [
    "context_extractor.data_.feature_dfs['f0'].head()"
   ]
  },
  {
   "cell_type": "markdown",
   "id": "97912838",
   "metadata": {},
   "source": [
    "Now, we will assemble the neural network to train on this data. "
   ]
  },
  {
   "cell_type": "code",
   "execution_count": 15,
   "id": "2dbb5cfe",
   "metadata": {
    "execution": {
     "iopub.execute_input": "2022-12-28T13:22:44.090708Z",
     "iopub.status.busy": "2022-12-28T13:22:44.090079Z",
     "iopub.status.idle": "2022-12-28T13:22:49.769452Z",
     "shell.execute_reply": "2022-12-28T13:22:49.769771Z"
    }
   },
   "outputs": [
    {
     "data": {
      "image/png": "[encoded data removed]",
      "text/plain": [
       "<Figure size 432x288 with 1 Axes>"
      ]
     },
     "metadata": {
      "needs_background": "light"
     },
     "output_type": "display_data"
    }
   ],
   "source": [
    "class SequentialTask(btf.TorchTrainingTask):\n",
    "    def __init__(self, context_extractor, network_factory, lr = 1):\n",
    "        super(SequentialTask, self).__init__()\n",
    "        self.context_extractor = context_extractor\n",
    "        self.network_factory = network_factory\n",
    "        self.lr = lr\n",
    "    \n",
    "    def initialize_task(self, data):\n",
    "        metrics = bt.MetricPool().add_sklearn(roc_auc_score)\n",
    "        self.settings.batch_size = 1000\n",
    "        self.settings.mini_match_size = None\n",
    "        self.metric_pool = metrics\n",
    "        \n",
    "        label_extractor = bt.PlainExtractor.build('label').index().apply(take_columns=btf.Conventions.LabelFrame)\n",
    "        self.setup_batcher(data, [self.context_extractor, label_extractor])\n",
    "        \n",
    "        self.optimizer_ctor.kwargs.lr = self.lr\n",
    "        self.setup_model(self.network_factory)\n",
    "        \n",
    "\n",
    "    \n",
    "task = SequentialTask(\n",
    "    build_context_extractor(\n",
    "        db.additional_information.context_length,\n",
    "        btc.PivotAggregator()\n",
    "    ),\n",
    "    btf.Factories.FullyConnected([100],'features',btf.Conventions.LabelFrame)\n",
    ")\n",
    "\n",
    "run(task, db).plot()\n",
    "pass"
   ]
  },
  {
   "cell_type": "markdown",
   "id": "c423bb32",
   "metadata": {},
   "source": [
    "So, the system achieved the same performance at the same time, as a naive implementation, confirming the correctness of the implementation (of course, the used classes are also covered by tests).\n",
    "\n",
    "Let's now explore the task a bit further and see how the context length affects the performance:"
   ]
  },
  {
   "cell_type": "code",
   "execution_count": 16,
   "id": "00d0bfbb",
   "metadata": {
    "execution": {
     "iopub.execute_input": "2022-12-28T13:22:49.786618Z",
     "iopub.status.busy": "2022-12-28T13:22:49.785985Z",
     "iopub.status.idle": "2022-12-28T13:23:05.584322Z",
     "shell.execute_reply": "2022-12-28T13:23:05.584836Z"
    }
   },
   "outputs": [
    {
     "data": {
      "application/vnd.jupyter.widget-view+json": {
       "model_id": "320af11969694578b72b5e836b2ec1ab",
       "version_major": 2,
       "version_minor": 0
      },
      "text/plain": [
       "  0%|          | 0/4 [00:00<?, ?it/s]"
      ]
     },
     "metadata": {},
     "output_type": "display_data"
    },
    {
     "data": {
      "image/png": "[encoded data removed]",
      "text/plain": [
       "<Figure size 432x288 with 1 Axes>"
      ]
     },
     "metadata": {
      "needs_background": "light"
     },
     "output_type": "display_data"
    }
   ],
   "source": [
    "curves = []\n",
    "for i in Query.en(range(1,db.additional_information.context_length+1)).feed(fluq.with_progress_bar()):\n",
    "    task = SequentialTask(\n",
    "        build_context_extractor(i, btc.PivotAggregator()),\n",
    "        btf.Factories.FullyConnected([100],'features',btf.Conventions.LabelFrame)\n",
    "    )\n",
    "    curves.append(get_roc_auc_curve(i, task, db))\n",
    "pd.DataFrame(curves).transpose().plot()\n",
    "pass"
   ]
  },
  {
   "cell_type": "markdown",
   "id": "7dcfb020",
   "metadata": {},
   "source": [
    "Unsurprisingly, we see that if the context is smaller that the actual length of the sentences in our langauge $L$, the performance decreases."
   ]
  },
  {
   "cell_type": "markdown",
   "id": "3e7d25a0",
   "metadata": {},
   "source": [
    "`PivotAggregator` is the most memory-consuming way of representing the contextual data. In this example it's fine, but if context consists of dozens of samples, each having dozens of extracted columns, `PivotAggregator` will produce a very huge matrix that may overfill the memory. \n",
    "\n",
    "This is why you may also want to use other aggregators. For instance, `GroupByAggregator` will process the `features` dataframe with grouping by `sample_id` and applying the aggregating functions:"
   ]
  },
  {
   "cell_type": "code",
   "execution_count": 17,
   "id": "8b8861ff",
   "metadata": {
    "execution": {
     "iopub.execute_input": "2022-12-28T13:23:05.594278Z",
     "iopub.status.busy": "2022-12-28T13:23:05.593862Z",
     "iopub.status.idle": "2022-12-28T13:23:05.664703Z",
     "shell.execute_reply": "2022-12-28T13:23:05.664224Z"
    }
   },
   "outputs": [
    {
     "data": {
      "text/html": [
       "<div>\n",
       "<style scoped>\n",
       "    .dataframe tbody tr th:only-of-type {\n",
       "        vertical-align: middle;\n",
       "    }\n",
       "\n",
       "    .dataframe tbody tr th {\n",
       "        vertical-align: top;\n",
       "    }\n",
       "\n",
       "    .dataframe thead th {\n",
       "        text-align: right;\n",
       "    }\n",
       "</style>\n",
       "<table border=\"1\" class=\"dataframe\">\n",
       "  <thead>\n",
       "    <tr style=\"text-align: right;\">\n",
       "      <th></th>\n",
       "      <th>word_A_mean</th>\n",
       "      <th>word_A_max</th>\n",
       "      <th>word_B_mean</th>\n",
       "      <th>word_B_max</th>\n",
       "      <th>word_C_mean</th>\n",
       "      <th>word_C_max</th>\n",
       "    </tr>\n",
       "    <tr>\n",
       "      <th>sample_id</th>\n",
       "      <th></th>\n",
       "      <th></th>\n",
       "      <th></th>\n",
       "      <th></th>\n",
       "      <th></th>\n",
       "      <th></th>\n",
       "    </tr>\n",
       "  </thead>\n",
       "  <tbody>\n",
       "    <tr>\n",
       "      <th>0</th>\n",
       "      <td>1.00</td>\n",
       "      <td>1.0</td>\n",
       "      <td>0.00</td>\n",
       "      <td>0.0</td>\n",
       "      <td>0.00</td>\n",
       "      <td>0.0</td>\n",
       "    </tr>\n",
       "    <tr>\n",
       "      <th>1</th>\n",
       "      <td>0.75</td>\n",
       "      <td>1.0</td>\n",
       "      <td>0.25</td>\n",
       "      <td>1.0</td>\n",
       "      <td>0.00</td>\n",
       "      <td>0.0</td>\n",
       "    </tr>\n",
       "    <tr>\n",
       "      <th>2</th>\n",
       "      <td>0.75</td>\n",
       "      <td>1.0</td>\n",
       "      <td>0.00</td>\n",
       "      <td>0.0</td>\n",
       "      <td>0.25</td>\n",
       "      <td>1.0</td>\n",
       "    </tr>\n",
       "    <tr>\n",
       "      <th>3</th>\n",
       "      <td>0.75</td>\n",
       "      <td>1.0</td>\n",
       "      <td>0.25</td>\n",
       "      <td>1.0</td>\n",
       "      <td>0.00</td>\n",
       "      <td>0.0</td>\n",
       "    </tr>\n",
       "    <tr>\n",
       "      <th>4</th>\n",
       "      <td>0.50</td>\n",
       "      <td>1.0</td>\n",
       "      <td>0.50</td>\n",
       "      <td>1.0</td>\n",
       "      <td>0.00</td>\n",
       "      <td>0.0</td>\n",
       "    </tr>\n",
       "  </tbody>\n",
       "</table>\n",
       "</div>"
      ],
      "text/plain": [
       "           word_A_mean  word_A_max  word_B_mean  word_B_max  word_C_mean  \\\n",
       "sample_id                                                                  \n",
       "0                 1.00         1.0         0.00         0.0         0.00   \n",
       "1                 0.75         1.0         0.25         1.0         0.00   \n",
       "2                 0.75         1.0         0.00         0.0         0.25   \n",
       "3                 0.75         1.0         0.25         1.0         0.00   \n",
       "4                 0.50         1.0         0.50         1.0         0.00   \n",
       "\n",
       "           word_C_max  \n",
       "sample_id              \n",
       "0                 0.0  \n",
       "1                 0.0  \n",
       "2                 1.0  \n",
       "3                 0.0  \n",
       "4                 0.0  "
      ]
     },
     "execution_count": 17,
     "metadata": {},
     "output_type": "execute_result"
    }
   ],
   "source": [
    "context_extractor = build_context_extractor(i, btc.GroupByAggregator(['mean','max']))\n",
    "task = SequentialTask(\n",
    "    context_extractor,\n",
    "    btf.Factories.FullyConnected([100],'features',btf.Conventions.LabelFrame)\n",
    ")\n",
    "_ = task.generate_sample_batch_and_temp_data(db)\n",
    "Query.en(context_extractor.data_.agg_dfs.values()).first().head()"
   ]
  },
  {
   "cell_type": "markdown",
   "id": "f9436aa8",
   "metadata": {},
   "source": [
    "Let's evaluate performance of this system as well"
   ]
  },
  {
   "cell_type": "code",
   "execution_count": 18,
   "id": "9c85670e",
   "metadata": {
    "execution": {
     "iopub.execute_input": "2022-12-28T13:23:05.689363Z",
     "iopub.status.busy": "2022-12-28T13:23:05.681955Z",
     "iopub.status.idle": "2022-12-28T13:23:36.536135Z",
     "shell.execute_reply": "2022-12-28T13:23:36.537227Z"
    }
   },
   "outputs": [
    {
     "data": {
      "application/vnd.jupyter.widget-view+json": {
       "model_id": "1d4da312757e4813868144bf0212d845",
       "version_major": 2,
       "version_minor": 0
      },
      "text/plain": [
       "  0%|          | 0/4 [00:00<?, ?it/s]"
      ]
     },
     "metadata": {},
     "output_type": "display_data"
    },
    {
     "data": {
      "image/png": "[encoded data removed]",
      "text/plain": [
       "<Figure size 432x288 with 1 Axes>"
      ]
     },
     "metadata": {
      "needs_background": "light"
     },
     "output_type": "display_data"
    }
   ],
   "source": [
    "curves = []\n",
    "for i in Query.en(range(1,db.additional_information.context_length+1)).feed(fluq.with_progress_bar()):\n",
    "    task = SequentialTask(\n",
    "        build_context_extractor(i, btc.GroupByAggregator(['mean', 'max'])),\n",
    "        btf.Factories.FullyConnected([100],'features',btf.Conventions.LabelFrame)\n",
    "    )\n",
    "    curves.append(get_roc_auc_curve(i, task, db))\n",
    "pd.DataFrame(curves).transpose().plot()\n",
    "pass"
   ]
  },
  {
   "cell_type": "markdown",
   "id": "a8ac080d",
   "metadata": {},
   "source": [
    "Of course, it does not work well, because we effectively destroy the information about the order of the letter in the word. \n",
    "\n",
    "But maybe we can invent some custom aggregator, which averages elements of the context with different weights, so the information is somehow preserved:"
   ]
  },
  {
   "cell_type": "code",
   "execution_count": 19,
   "id": "71cf3b59",
   "metadata": {
    "execution": {
     "iopub.execute_input": "2022-12-28T13:23:36.549470Z",
     "iopub.status.busy": "2022-12-28T13:23:36.548748Z",
     "iopub.status.idle": "2022-12-28T13:23:36.613697Z",
     "shell.execute_reply": "2022-12-28T13:23:36.613307Z"
    }
   },
   "outputs": [
    {
     "data": {
      "text/html": [
       "<div>\n",
       "<style scoped>\n",
       "    .dataframe tbody tr th:only-of-type {\n",
       "        vertical-align: middle;\n",
       "    }\n",
       "\n",
       "    .dataframe tbody tr th {\n",
       "        vertical-align: top;\n",
       "    }\n",
       "\n",
       "    .dataframe thead th {\n",
       "        text-align: right;\n",
       "    }\n",
       "</style>\n",
       "<table border=\"1\" class=\"dataframe\">\n",
       "  <thead>\n",
       "    <tr style=\"text-align: right;\">\n",
       "      <th></th>\n",
       "      <th>word_A</th>\n",
       "      <th>word_B</th>\n",
       "      <th>word_C</th>\n",
       "    </tr>\n",
       "    <tr>\n",
       "      <th>sample_id</th>\n",
       "      <th></th>\n",
       "      <th></th>\n",
       "      <th></th>\n",
       "    </tr>\n",
       "  </thead>\n",
       "  <tbody>\n",
       "    <tr>\n",
       "      <th>0</th>\n",
       "      <td>0.520833</td>\n",
       "      <td>0.000000</td>\n",
       "      <td>0.0000</td>\n",
       "    </tr>\n",
       "    <tr>\n",
       "      <th>1</th>\n",
       "      <td>0.458333</td>\n",
       "      <td>0.062500</td>\n",
       "      <td>0.0000</td>\n",
       "    </tr>\n",
       "    <tr>\n",
       "      <th>2</th>\n",
       "      <td>0.458333</td>\n",
       "      <td>0.000000</td>\n",
       "      <td>0.0625</td>\n",
       "    </tr>\n",
       "    <tr>\n",
       "      <th>3</th>\n",
       "      <td>0.437500</td>\n",
       "      <td>0.083333</td>\n",
       "      <td>0.0000</td>\n",
       "    </tr>\n",
       "    <tr>\n",
       "      <th>4</th>\n",
       "      <td>0.375000</td>\n",
       "      <td>0.145833</td>\n",
       "      <td>0.0000</td>\n",
       "    </tr>\n",
       "  </tbody>\n",
       "</table>\n",
       "</div>"
      ],
      "text/plain": [
       "             word_A    word_B  word_C\n",
       "sample_id                            \n",
       "0          0.520833  0.000000  0.0000\n",
       "1          0.458333  0.062500  0.0000\n",
       "2          0.458333  0.000000  0.0625\n",
       "3          0.437500  0.083333  0.0000\n",
       "4          0.375000  0.145833  0.0000"
      ]
     },
     "execution_count": 19,
     "metadata": {},
     "output_type": "execute_result"
    }
   ],
   "source": [
    "class CustomAggregator(btc.ContextAggregator):\n",
    "    def aggregate_context(self, features_df):\n",
    "        names = features_df.index.names\n",
    "        if names[0] is None:\n",
    "            raise ValueError('There is `None` in the features df index. This aggregator requires you to set the name for index of your samples')\n",
    "        columns = features_df.columns\n",
    "        df = features_df.reset_index()\n",
    "        for c in columns:\n",
    "            df[c] = df[c]/(df[names[1]]+1)\n",
    "        df = df.groupby(names[0])[columns].mean()\n",
    "        return df\n",
    "    \n",
    "context_extractor = build_context_extractor(i, CustomAggregator())\n",
    "task = SequentialTask(\n",
    "    context_extractor,\n",
    "    btf.Factories.FullyConnected([100],'features',btf.Conventions.LabelFrame)\n",
    ")\n",
    "_ = task.generate_sample_batch_and_temp_data(db)\n",
    "Query.en(context_extractor.data_.agg_dfs.values()).first().head()"
   ]
  },
  {
   "cell_type": "code",
   "execution_count": 20,
   "id": "512564ea",
   "metadata": {
    "execution": {
     "iopub.execute_input": "2022-12-28T13:23:36.625690Z",
     "iopub.status.busy": "2022-12-28T13:23:36.624489Z",
     "iopub.status.idle": "2022-12-28T13:23:53.175332Z",
     "shell.execute_reply": "2022-12-28T13:23:53.175720Z"
    }
   },
   "outputs": [
    {
     "data": {
      "application/vnd.jupyter.widget-view+json": {
       "model_id": "a443d9a13b054f57a25ab4cf0cc786de",
       "version_major": 2,
       "version_minor": 0
      },
      "text/plain": [
       "  0%|          | 0/4 [00:00<?, ?it/s]"
      ]
     },
     "metadata": {},
     "output_type": "display_data"
    },
    {
     "data": {
      "image/png": "[encoded data removed]",
      "text/plain": [
       "<Figure size 432x288 with 1 Axes>"
      ]
     },
     "metadata": {
      "needs_background": "light"
     },
     "output_type": "display_data"
    }
   ],
   "source": [
    "curves = []\n",
    "for i in Query.en(range(1,db.additional_information.context_length+1)).feed(fluq.with_progress_bar()):\n",
    "    task = SequentialTask(\n",
    "        build_context_extractor(i, CustomAggregator()),\n",
    "        btf.Factories.FullyConnected([100],'features',btf.Conventions.LabelFrame)\n",
    "    )\n",
    "    curves.append(get_roc_auc_curve(i, task, db))\n",
    "pd.DataFrame(curves).transpose().plot()\n",
    "pass"
   ]
  },
  {
   "cell_type": "markdown",
   "id": "ac9a77f9",
   "metadata": {},
   "source": [
    "Well, sounded good, didn't work."
   ]
  },
  {
   "cell_type": "markdown",
   "id": "0c578047",
   "metadata": {},
   "source": [
    "## Caching contextual features"
   ]
  },
  {
   "cell_type": "markdown",
   "id": "b67a0b5e",
   "metadata": {},
   "source": [
    "In some cases, contextual features are very large. If we had context length of 10 and 10 letters, we would have 100-fold increase of the size for index in the intermediate tables. This might overfill the memory, and this is why we compute the contextual features for the batch instead of the whole index.\n",
    "\n",
    "However, that might bring the performance issues, as the contextual features are computed repeatedly, in each epoch. \n",
    "\n",
    "To offer a balance for that, we offer `PrecomputingExtractor`. This is a decorator that runs an arbitrary extractor in the beginning of the training, fits it, computes the features for the whole index and stores in the bundle."
   ]
  },
  {
   "cell_type": "code",
   "execution_count": 21,
   "id": "ea24b2be",
   "metadata": {
    "execution": {
     "iopub.execute_input": "2022-12-28T13:23:53.187627Z",
     "iopub.status.busy": "2022-12-28T13:23:53.182467Z",
     "iopub.status.idle": "2022-12-28T13:23:53.234672Z",
     "shell.execute_reply": "2022-12-28T13:23:53.234083Z"
    }
   },
   "outputs": [
    {
     "data": {
      "text/html": [
       "<div>\n",
       "<style scoped>\n",
       "    .dataframe tbody tr th:only-of-type {\n",
       "        vertical-align: middle;\n",
       "    }\n",
       "\n",
       "    .dataframe tbody tr th {\n",
       "        vertical-align: top;\n",
       "    }\n",
       "\n",
       "    .dataframe thead th {\n",
       "        text-align: right;\n",
       "    }\n",
       "</style>\n",
       "<table border=\"1\" class=\"dataframe\">\n",
       "  <thead>\n",
       "    <tr style=\"text-align: right;\">\n",
       "      <th></th>\n",
       "      <th>f0a0_word_A_mean</th>\n",
       "      <th>f0a0_word_A_max</th>\n",
       "      <th>f0a0_word_B_mean</th>\n",
       "      <th>f0a0_word_B_max</th>\n",
       "      <th>f0a0_word_C_mean</th>\n",
       "      <th>f0a0_word_C_max</th>\n",
       "    </tr>\n",
       "    <tr>\n",
       "      <th>sample_id</th>\n",
       "      <th></th>\n",
       "      <th></th>\n",
       "      <th></th>\n",
       "      <th></th>\n",
       "      <th></th>\n",
       "      <th></th>\n",
       "    </tr>\n",
       "  </thead>\n",
       "  <tbody>\n",
       "    <tr>\n",
       "      <th>0</th>\n",
       "      <td>1.00</td>\n",
       "      <td>1.0</td>\n",
       "      <td>0.00</td>\n",
       "      <td>0.0</td>\n",
       "      <td>0.00</td>\n",
       "      <td>0.0</td>\n",
       "    </tr>\n",
       "    <tr>\n",
       "      <th>1</th>\n",
       "      <td>0.75</td>\n",
       "      <td>1.0</td>\n",
       "      <td>0.25</td>\n",
       "      <td>1.0</td>\n",
       "      <td>0.00</td>\n",
       "      <td>0.0</td>\n",
       "    </tr>\n",
       "    <tr>\n",
       "      <th>2</th>\n",
       "      <td>0.75</td>\n",
       "      <td>1.0</td>\n",
       "      <td>0.00</td>\n",
       "      <td>0.0</td>\n",
       "      <td>0.25</td>\n",
       "      <td>1.0</td>\n",
       "    </tr>\n",
       "    <tr>\n",
       "      <th>3</th>\n",
       "      <td>0.75</td>\n",
       "      <td>1.0</td>\n",
       "      <td>0.25</td>\n",
       "      <td>1.0</td>\n",
       "      <td>0.00</td>\n",
       "      <td>0.0</td>\n",
       "    </tr>\n",
       "    <tr>\n",
       "      <th>4</th>\n",
       "      <td>0.50</td>\n",
       "      <td>1.0</td>\n",
       "      <td>0.50</td>\n",
       "      <td>1.0</td>\n",
       "      <td>0.00</td>\n",
       "      <td>0.0</td>\n",
       "    </tr>\n",
       "  </tbody>\n",
       "</table>\n",
       "</div>"
      ],
      "text/plain": [
       "           f0a0_word_A_mean  f0a0_word_A_max  f0a0_word_B_mean  \\\n",
       "sample_id                                                        \n",
       "0                      1.00              1.0              0.00   \n",
       "1                      0.75              1.0              0.25   \n",
       "2                      0.75              1.0              0.00   \n",
       "3                      0.75              1.0              0.25   \n",
       "4                      0.50              1.0              0.50   \n",
       "\n",
       "           f0a0_word_B_max  f0a0_word_C_mean  f0a0_word_C_max  \n",
       "sample_id                                                      \n",
       "0                      0.0              0.00              0.0  \n",
       "1                      1.0              0.00              0.0  \n",
       "2                      0.0              0.25              1.0  \n",
       "3                      1.0              0.00              0.0  \n",
       "4                      1.0              0.00              0.0  "
      ]
     },
     "execution_count": 21,
     "metadata": {},
     "output_type": "execute_result"
    }
   ],
   "source": [
    "import copy \n",
    "\n",
    "context_extractor = build_context_extractor(i, btc.GroupByAggregator(['mean','max']))\n",
    "precompuring_extractor = bt.PrecomputingExtractor(\n",
    "    name = \"precomputed_features\",\n",
    "    inner_extractor = context_extractor)\n",
    "ibundle_test = copy.deepcopy(ibundle)\n",
    "precompuring_extractor.fit(ibundle)\n",
    "ibundle.bundle.precomputed_features.head()"
   ]
  },
  {
   "cell_type": "markdown",
   "id": "45c82fb7",
   "metadata": {},
   "source": [
    "As we see, the features were precomputed and added in `fit` method, which is called once before all the training start. The implementation will work for `BatchedTrainingTask.predict` method, as `PrecomputingExtractor`, when fitted, computes features in `preprocess_bundle` method, called by `predict`."
   ]
  },
  {
   "cell_type": "markdown",
   "id": "f31577e8",
   "metadata": {},
   "source": [
    "## LSTM"
   ]
  },
  {
   "cell_type": "markdown",
   "id": "8d6302e7",
   "metadata": {},
   "source": [
    "LSTM network, and, generally, recurrent neural networks are designed specifically for the tasks with context. So it's natural to try them for our tasks.\n",
    "\n",
    "These networks, however, require 3-dimensional tensor as an input. So, we will need to modify the `ContextExtractor` in the following way:"
   ]
  },
  {
   "cell_type": "code",
   "execution_count": 22,
   "id": "d781d4d6",
   "metadata": {
    "execution": {
     "iopub.execute_input": "2022-12-28T13:23:53.244381Z",
     "iopub.status.busy": "2022-12-28T13:23:53.243873Z",
     "iopub.status.idle": "2022-12-28T13:23:53.281775Z",
     "shell.execute_reply": "2022-12-28T13:23:53.281242Z"
    }
   },
   "outputs": [],
   "source": [
    "def build_lstm_extractor(context_length):\n",
    "    context_extractor = btc.ContextExtractor(\n",
    "        name = 'features',\n",
    "        context_size = context_length,\n",
    "        context_builder = SentenceContextBuilder(),\n",
    "        feature_extractor_factory = btc.SimpleExtractorToAggregatorFactory(\n",
    "            bt.PlainExtractor.build('word').index().apply(\n",
    "                take_columns=['word'], \n",
    "                transformer = dft.DataFrameTransformerFactory.default_factory()\n",
    "            )),\n",
    "        finalizer = btc.LSTMFinalizer()\n",
    "    )\n",
    "    return context_extractor\n",
    "\n",
    "lstm_extractor = build_lstm_extractor(ibundle.bundle.additional_information.context_length)\n",
    "lstm_extractor.fit(ibundle)\n",
    "value = lstm_extractor.extract(ibundle_sample)"
   ]
  },
  {
   "cell_type": "markdown",
   "id": "40eb190a",
   "metadata": {},
   "source": [
    "Here, we \n",
    "\n",
    "* don't use the aggregator. Aggregators are converting the context with features into 2-dimensional structure, which is exactly what we want to avoid.\n",
    "* use `LSTMFinalizer` instead of `PandasFinalizer`\n",
    "\n",
    "`LSTMFinalizer` looks at the feature table and converts it into tensor with the right dimensions:"
   ]
  },
  {
   "cell_type": "code",
   "execution_count": 23,
   "id": "1cc0007f",
   "metadata": {
    "execution": {
     "iopub.execute_input": "2022-12-28T13:23:53.287352Z",
     "iopub.status.busy": "2022-12-28T13:23:53.286711Z",
     "iopub.status.idle": "2022-12-28T13:23:53.293820Z",
     "shell.execute_reply": "2022-12-28T13:23:53.294306Z"
    }
   },
   "outputs": [
    {
     "data": {
      "text/plain": [
       "tensor([[[1., 0., 0.],\n",
       "         [1., 0., 0.],\n",
       "         [1., 0., 0.]],\n",
       "\n",
       "        [[1., 0., 0.],\n",
       "         [1., 0., 0.],\n",
       "         [1., 0., 0.]],\n",
       "\n",
       "        [[1., 0., 0.],\n",
       "         [1., 0., 0.],\n",
       "         [1., 0., 0.]],\n",
       "\n",
       "        [[1., 0., 0.],\n",
       "         [0., 1., 0.],\n",
       "         [0., 0., 1.]]])"
      ]
     },
     "execution_count": 23,
     "metadata": {},
     "output_type": "execute_result"
    }
   ],
   "source": [
    "value.tensor"
   ]
  },
  {
   "cell_type": "code",
   "execution_count": 24,
   "id": "f51d4c2e",
   "metadata": {
    "execution": {
     "iopub.execute_input": "2022-12-28T13:23:53.298174Z",
     "iopub.status.busy": "2022-12-28T13:23:53.296420Z",
     "iopub.status.idle": "2022-12-28T13:23:53.300866Z",
     "shell.execute_reply": "2022-12-28T13:23:53.300257Z"
    }
   },
   "outputs": [
    {
     "data": {
      "text/plain": [
       "['word_position', 'sample_id', 'features']"
      ]
     },
     "execution_count": 24,
     "metadata": {},
     "output_type": "execute_result"
    }
   ],
   "source": [
    "value.dim_names"
   ]
  },
  {
   "cell_type": "code",
   "execution_count": 25,
   "id": "c3c783e7",
   "metadata": {
    "execution": {
     "iopub.execute_input": "2022-12-28T13:23:53.307209Z",
     "iopub.status.busy": "2022-12-28T13:23:53.306332Z",
     "iopub.status.idle": "2022-12-28T13:23:53.308960Z",
     "shell.execute_reply": "2022-12-28T13:23:53.309458Z"
    }
   },
   "outputs": [
    {
     "data": {
      "text/plain": [
       "[[0, 1, 2, 3], [0, 1, 2], ['word_A', 'word_B', 'word_C']]"
      ]
     },
     "execution_count": 25,
     "metadata": {},
     "output_type": "execute_result"
    }
   ],
   "source": [
    "value.dim_indices"
   ]
  },
  {
   "cell_type": "markdown",
   "id": "63bf81b9",
   "metadata": {},
   "source": [
    "Now, we can train a neural network with `LSTMNetwork` component, which is a slim decorator over `LSTM` that manages it's output. \n",
    "\n",
    "First, let's create a batch:"
   ]
  },
  {
   "cell_type": "code",
   "execution_count": 26,
   "id": "9ff1c449",
   "metadata": {
    "execution": {
     "iopub.execute_input": "2022-12-28T13:23:53.318989Z",
     "iopub.status.busy": "2022-12-28T13:23:53.314164Z",
     "iopub.status.idle": "2022-12-28T13:23:53.375442Z",
     "shell.execute_reply": "2022-12-28T13:23:53.373942Z"
    }
   },
   "outputs": [
    {
     "data": {
      "text/plain": [
       "{'label': pandas.core.frame.DataFrame,\n",
       " 'features': tg.common.ml.batched_training.factories.networks.basics.AnnotatedTensor}"
      ]
     },
     "execution_count": 26,
     "metadata": {},
     "output_type": "execute_result"
    }
   ],
   "source": [
    "batch = bt.Batcher.generate_sample(db, [label_extractor, lstm_extractor])\n",
    "{key: type(value) for key, value in batch.bundle.data_frames.items()}"
   ]
  },
  {
   "cell_type": "markdown",
   "id": "c8aab9d8",
   "metadata": {},
   "source": [
    "Then create a factory, and also network to see how it looks like:"
   ]
  },
  {
   "cell_type": "code",
   "execution_count": 27,
   "id": "303ecba0",
   "metadata": {
    "execution": {
     "iopub.execute_input": "2022-12-28T13:23:53.385242Z",
     "iopub.status.busy": "2022-12-28T13:23:53.384463Z",
     "iopub.status.idle": "2022-12-28T13:23:53.396528Z",
     "shell.execute_reply": "2022-12-28T13:23:53.395892Z"
    }
   },
   "outputs": [
    {
     "data": {
      "text/plain": [
       "FeedForwardNetwork(\n",
       "  (networks): ModuleList(\n",
       "    (0): FeedForwardNetwork(\n",
       "      (networks): ModuleList(\n",
       "        (0): InputConversionNetwork()\n",
       "        (1): LSTMNetwork(\n",
       "          (lstm): LSTM(3, 10)\n",
       "        )\n",
       "      )\n",
       "    )\n",
       "    (1): Perceptron(\n",
       "      (linear_layer): Linear(in_features=10, out_features=1, bias=True)\n",
       "    )\n",
       "  )\n",
       ")"
      ]
     },
     "execution_count": 27,
     "metadata": {},
     "output_type": "execute_result"
    }
   ],
   "source": [
    "from functools import partial\n",
    "\n",
    "lstm_factory = btf.Factories.Tailing(\n",
    "    btf.FeedForwardNetwork.Factory(\n",
    "        btf.InputConversionNetwork('features'),\n",
    "        partial(btc.LSTMNetwork, hidden_size=10),\n",
    "    ),\n",
    "    btf.Conventions.LabelFrame\n",
    ")\n",
    "\n",
    "network = lstm_factory(batch)\n",
    "network"
   ]
  },
  {
   "cell_type": "code",
   "execution_count": 28,
   "id": "970c85b1",
   "metadata": {
    "execution": {
     "iopub.execute_input": "2022-12-28T13:23:53.426319Z",
     "iopub.status.busy": "2022-12-28T13:23:53.424663Z",
     "iopub.status.idle": "2022-12-28T13:23:58.090727Z",
     "shell.execute_reply": "2022-12-28T13:23:58.090124Z"
    }
   },
   "outputs": [
    {
     "data": {
      "image/png": "[encoded data removed]",
      "text/plain": [
       "<Figure size 432x288 with 1 Axes>"
      ]
     },
     "metadata": {
      "needs_background": "light"
     },
     "output_type": "display_data"
    }
   ],
   "source": [
    "task = SequentialTask(\n",
    "    build_lstm_extractor(db.additional_information.context_length),\n",
    "    lstm_factory,\n",
    ")\n",
    "\n",
    "run(task, db).plot()\n",
    "pass"
   ]
  },
  {
   "cell_type": "markdown",
   "id": "cbda0005",
   "metadata": {},
   "source": [
    "We see that after 100 iterations the quality is low, but growing, while previous systems have stabilized at this point. So, we will train this network for a longer time."
   ]
  },
  {
   "cell_type": "code",
   "execution_count": 29,
   "id": "6a276c76",
   "metadata": {
    "execution": {
     "iopub.execute_input": "2022-12-28T13:23:58.097049Z",
     "iopub.status.busy": "2022-12-28T13:23:58.096598Z",
     "iopub.status.idle": "2022-12-28T13:24:41.886257Z",
     "shell.execute_reply": "2022-12-28T13:24:41.886726Z"
    }
   },
   "outputs": [
    {
     "data": {
      "image/png": "[encoded data removed]",
      "text/plain": [
       "<Figure size 432x288 with 1 Axes>"
      ]
     },
     "metadata": {
      "needs_background": "light"
     },
     "output_type": "display_data"
    }
   ],
   "source": [
    "run(task, db, epoch_count=1000).plot()\n",
    "pass"
   ]
  },
  {
   "cell_type": "markdown",
   "id": "a19574fa",
   "metadata": {},
   "source": [
    "In nearly all the cases we run this cell, the quality of the \"plain\" networks was surpassed, often reaching the 0.9 value without stabilization. It might be the sign that this network architecture is indeed superior in comparison with the other, but this is anyway not the point we're trying to make. The point is that the classes, used for the data transformation, are working correctly and are ready to be used in conjustion with LSTM and other recurrent neural networks."
   ]
  },
  {
   "cell_type": "markdown",
   "id": "774597df",
   "metadata": {},
   "source": [
    "## Assembly Point"
   ]
  },
  {
   "cell_type": "markdown",
   "id": "c9f0932f",
   "metadata": {},
   "source": [
    "We see that there is a lot of ways to configure networks and extractors for contextual processing. Also, there are actually multiple ways of processing 3-dimentional tensors: LSTM, LSTM with attention, attention only, or Dropout. To easy coordinate the networks and extractors, as well as to create richer networks, `AssemblyPoint` can be used.\n",
    "\n",
    "`AssemblyPoint` is a factory that produces both extractors and network factories in a coordinated way. Most of the settings will be filled with some default values that allow `AssemblyPoint` work _somehow_ (but not necesserily the way that is optimal for your task).\n",
    "\n"
   ]
  },
  {
   "cell_type": "code",
   "execution_count": 30,
   "id": "9cdd8007",
   "metadata": {
    "execution": {
     "iopub.execute_input": "2022-12-28T13:24:41.891902Z",
     "iopub.status.busy": "2022-12-28T13:24:41.891238Z",
     "iopub.status.idle": "2022-12-28T13:24:41.894670Z",
     "shell.execute_reply": "2022-12-28T13:24:41.894173Z"
    }
   },
   "outputs": [
    {
     "data": {
      "text/plain": [
       "4"
      ]
     },
     "execution_count": 30,
     "metadata": {},
     "output_type": "execute_result"
    }
   ],
   "source": [
    "ibundle.bundle.additional_information.context_length"
   ]
  },
  {
   "cell_type": "code",
   "execution_count": 31,
   "id": "e902a526",
   "metadata": {
    "execution": {
     "iopub.execute_input": "2022-12-28T13:24:41.898957Z",
     "iopub.status.busy": "2022-12-28T13:24:41.898307Z",
     "iopub.status.idle": "2022-12-28T13:24:41.900360Z",
     "shell.execute_reply": "2022-12-28T13:24:41.900672Z"
    }
   },
   "outputs": [],
   "source": [
    "ap = btc.ContextualAssemblyPoint(\n",
    "    name = 'features',\n",
    "    context_builder = SentenceContextBuilder(),\n",
    "    extractor = bt.PlainExtractor.build('word').index().apply(\n",
    "        take_columns=['word'], \n",
    "        transformer = dft.DataFrameTransformerFactory.default_factory())\n",
    ")\n",
    "ap.context_length = ibundle.bundle.additional_information.context_length\n"
   ]
  },
  {
   "cell_type": "markdown",
   "id": "fc273a08",
   "metadata": {},
   "source": [
    "Let's write the method to ensure the extractor works with the network:"
   ]
  },
  {
   "cell_type": "code",
   "execution_count": 32,
   "id": "ec6018f4",
   "metadata": {
    "execution": {
     "iopub.execute_input": "2022-12-28T13:24:41.908702Z",
     "iopub.status.busy": "2022-12-28T13:24:41.907422Z",
     "iopub.status.idle": "2022-12-28T13:24:41.952763Z",
     "shell.execute_reply": "2022-12-28T13:24:41.953094Z"
    }
   },
   "outputs": [
    {
     "data": {
      "text/plain": [
       "{'features_type': pandas.core.frame.DataFrame,\n",
       " 'features_shape': (10, 17),\n",
       " 'network_output_shape': torch.Size([10, 20]),\n",
       " 'network': FeedForwardNetwork(\n",
       "   (networks): ModuleList(\n",
       "     (0): InputConversionNetwork()\n",
       "     (1): Perceptron(\n",
       "       (linear_layer): Linear(in_features=17, out_features=20, bias=True)\n",
       "     )\n",
       "   )\n",
       " )}"
      ]
     },
     "execution_count": 32,
     "metadata": {},
     "output_type": "execute_result"
    }
   ],
   "source": [
    "def test_assembly_point(ap):\n",
    "    extractor = ap.create_extractor()\n",
    "    network_factory = ap.create_network_factory()\n",
    "    batch = bt.Batcher.generate_sample(db, [extractor])\n",
    "    network = network_factory(batch)\n",
    "    result = network(batch)\n",
    "    response = {\n",
    "        'features_type': type(batch['features']),\n",
    "        'features_shape': batch['features'].shape,\n",
    "        'network_output_shape': result.shape,\n",
    "        'network': network\n",
    "    }\n",
    "    return response\n",
    "    \n",
    "test_assembly_point(ap)"
   ]
  },
  {
   "cell_type": "code",
   "execution_count": 33,
   "id": "06ba76c5",
   "metadata": {
    "execution": {
     "iopub.execute_input": "2022-12-28T13:24:41.967442Z",
     "iopub.status.busy": "2022-12-28T13:24:41.965746Z",
     "iopub.status.idle": "2022-12-28T13:24:41.988621Z",
     "shell.execute_reply": "2022-12-28T13:24:41.987955Z"
    }
   },
   "outputs": [
    {
     "data": {
      "text/plain": [
       "{'features_type': tg.common.ml.batched_training.factories.networks.basics.AnnotatedTensor,\n",
       " 'features_shape': (4, 10, 3),\n",
       " 'network_output_shape': torch.Size([10, 20]),\n",
       " 'network': FeedForwardNetwork(\n",
       "   (networks): ModuleList(\n",
       "     (0): InputConversionNetwork()\n",
       "     (1): LSTMNetwork(\n",
       "       (lstm): LSTM(3, 20)\n",
       "     )\n",
       "   )\n",
       " )}"
      ]
     },
     "execution_count": 33,
     "metadata": {},
     "output_type": "execute_result"
    }
   ],
   "source": [
    "ap.reduction_type = btc.ReductionType.Dim3\n",
    "test_assembly_point(ap)"
   ]
  },
  {
   "cell_type": "code",
   "execution_count": 34,
   "id": "f2d9ee8a",
   "metadata": {
    "execution": {
     "iopub.execute_input": "2022-12-28T13:24:42.010208Z",
     "iopub.status.busy": "2022-12-28T13:24:42.004284Z",
     "iopub.status.idle": "2022-12-28T13:24:42.032931Z",
     "shell.execute_reply": "2022-12-28T13:24:42.033245Z"
    }
   },
   "outputs": [
    {
     "data": {
      "text/plain": [
       "{'features_type': tg.common.ml.batched_training.factories.networks.basics.AnnotatedTensor,\n",
       " 'features_shape': (4, 10, 3),\n",
       " 'network_output_shape': torch.Size([10, 20]),\n",
       " 'network': FeedForwardNetwork(\n",
       "   (networks): ModuleList(\n",
       "     (0): InputConversionNetwork()\n",
       "     (1): Dropout3d(p=0.5, inplace=False)\n",
       "     (2): LSTMNetwork(\n",
       "       (lstm): LSTM(3, 20)\n",
       "     )\n",
       "   )\n",
       " )}"
      ]
     },
     "execution_count": 34,
     "metadata": {},
     "output_type": "execute_result"
    }
   ],
   "source": [
    "ap.dim_3_network_factory.droupout_rate = 0.5\n",
    "test_assembly_point(ap)"
   ]
  },
  {
   "cell_type": "markdown",
   "id": "b45f1ae0",
   "metadata": {},
   "source": [
    "The use case for the `AssemblyPoint` is:\n",
    "* create a field of `AssemblyPoint` type in your subclass of `TorchTrainingTask`, e.g., `assebly_point`\n",
    "* externally adjust fields of `assembly_point` to configure it\n",
    "* in `initialize_task`, use assemply point to generate extractors and network factories. Augment the network factory with a tailing that ensures the right dimentionality of the output, manually or with `btf.Factories.Tailing` \n",
    "* you can even use multiple assemble points! Each will create extractor and head network for the part of the input data, and then you'll assemble these heads into the full network."
   ]
  }
 ],
 "metadata": {
  "kernelspec": {
   "display_name": "Python 3 (ipykernel)",
   "language": "python",
   "name": "python3"
  },
  "language_info": {
   "codemirror_mode": {
    "name": "ipython",
    "version": 3
   },
   "file_extension": ".py",
   "mimetype": "text/x-python",
   "name": "python",
   "nbconvert_exporter": "python",
   "pygments_lexer": "ipython3",
   "version": "3.8.13"
  },
  "widgets": {
   "application/vnd.jupyter.widget-state+json": {
    "state": {
     "01d3cce01f9f4d96950157f3b097a5bc": {
      "model_module": "@jupyter-widgets/controls",
      "model_module_version": "1.5.0",
      "model_name": "DescriptionStyleModel",
      "state": {
       "_model_module": "@jupyter-widgets/controls",
       "_model_module_version": "1.5.0",
       "_model_name": "DescriptionStyleModel",
       "_view_count": null,
       "_view_module": "@jupyter-widgets/base",
       "_view_module_version": "1.2.0",
       "_view_name": "StyleView",
       "description_width": ""
      }
     },
     "073106c558694580a0c4d172b429b599": {
      "model_module": "@jupyter-widgets/base",
      "model_module_version": "1.2.0",
      "model_name": "LayoutModel",
      "state": {
       "_model_module": "@jupyter-widgets/base",
       "_model_module_version": "1.2.0",
       "_model_name": "LayoutModel",
       "_view_count": null,
       "_view_module": "@jupyter-widgets/base",
       "_view_module_version": "1.2.0",
       "_view_name": "LayoutView",
       "align_content": null,
       "align_items": null,
       "align_self": null,
       "border": null,
       "bottom": null,
       "display": null,
       "flex": null,
       "flex_flow": null,
       "grid_area": null,
       "grid_auto_columns": null,
       "grid_auto_flow": null,
       "grid_auto_rows": null,
       "grid_column": null,
       "grid_gap": null,
       "grid_row": null,
       "grid_template_areas": null,
       "grid_template_columns": null,
       "grid_template_rows": null,
       "height": null,
       "justify_content": null,
       "justify_items": null,
       "left": null,
       "margin": null,
       "max_height": null,
       "max_width": null,
       "min_height": null,
       "min_width": null,
       "object_fit": null,
       "object_position": null,
       "order": null,
       "overflow": null,
       "overflow_x": null,
       "overflow_y": null,
       "padding": null,
       "right": null,
       "top": null,
       "visibility": null,
       "width": null
      }
     },
     "0828466b8e9d46a599a518ec8b372684": {
      "model_module": "@jupyter-widgets/base",
      "model_module_version": "1.2.0",
      "model_name": "LayoutModel",
      "state": {
       "_model_module": "@jupyter-widgets/base",
       "_model_module_version": "1.2.0",
       "_model_name": "LayoutModel",
       "_view_count": null,
       "_view_module": "@jupyter-widgets/base",
       "_view_module_version": "1.2.0",
       "_view_name": "LayoutView",
       "align_content": null,
       "align_items": null,
       "align_self": null,
       "border": null,
       "bottom": null,
       "display": null,
       "flex": null,
       "flex_flow": null,
       "grid_area": null,
       "grid_auto_columns": null,
       "grid_auto_flow": null,
       "grid_auto_rows": null,
       "grid_column": null,
       "grid_gap": null,
       "grid_row": null,
       "grid_template_areas": null,
       "grid_template_columns": null,
       "grid_template_rows": null,
       "height": null,
       "justify_content": null,
       "justify_items": null,
       "left": null,
       "margin": null,
       "max_height": null,
       "max_width": null,
       "min_height": null,
       "min_width": null,
       "object_fit": null,
       "object_position": null,
       "order": null,
       "overflow": null,
       "overflow_x": null,
       "overflow_y": null,
       "padding": null,
       "right": null,
       "top": null,
       "visibility": null,
       "width": null
      }
     },
     "0e4762e5c52541e9ab68e7273cd40e4d": {
      "model_module": "@jupyter-widgets/base",
      "model_module_version": "1.2.0",
      "model_name": "LayoutModel",
      "state": {
       "_model_module": "@jupyter-widgets/base",
       "_model_module_version": "1.2.0",
       "_model_name": "LayoutModel",
       "_view_count": null,
       "_view_module": "@jupyter-widgets/base",
       "_view_module_version": "1.2.0",
       "_view_name": "LayoutView",
       "align_content": null,
       "align_items": null,
       "align_self": null,
       "border": null,
       "bottom": null,
       "display": null,
       "flex": null,
       "flex_flow": null,
       "grid_area": null,
       "grid_auto_columns": null,
       "grid_auto_flow": null,
       "grid_auto_rows": null,
       "grid_column": null,
       "grid_gap": null,
       "grid_row": null,
       "grid_template_areas": null,
       "grid_template_columns": null,
       "grid_template_rows": null,
       "height": null,
       "justify_content": null,
       "justify_items": null,
       "left": null,
       "margin": null,
       "max_height": null,
       "max_width": null,
       "min_height": null,
       "min_width": null,
       "object_fit": null,
       "object_position": null,
       "order": null,
       "overflow": null,
       "overflow_x": null,
       "overflow_y": null,
       "padding": null,
       "right": null,
       "top": null,
       "visibility": null,
       "width": null
      }
     },
     "105c9442cd5943079f1d013197b20e64": {
      "model_module": "@jupyter-widgets/controls",
      "model_module_version": "1.5.0",
      "model_name": "DescriptionStyleModel",
      "state": {
       "_model_module": "@jupyter-widgets/controls",
       "_model_module_version": "1.5.0",
       "_model_name": "DescriptionStyleModel",
       "_view_count": null,
       "_view_module": "@jupyter-widgets/base",
       "_view_module_version": "1.2.0",
       "_view_name": "StyleView",
       "description_width": ""
      }
     },
     "194ad31fe1294bc68273dab3f09f6ecd": {
      "model_module": "@jupyter-widgets/controls",
      "model_module_version": "1.5.0",
      "model_name": "HTMLModel",
      "state": {
       "_dom_classes": [],
       "_model_module": "@jupyter-widgets/controls",
       "_model_module_version": "1.5.0",
       "_model_name": "HTMLModel",
       "_view_count": null,
       "_view_module": "@jupyter-widgets/controls",
       "_view_module_version": "1.5.0",
       "_view_name": "HTMLView",
       "description": "",
       "description_tooltip": null,
       "layout": "IPY_MODEL_4d53878f4b4a4926ab6b4ce5b3cbd1ff",
       "placeholder": "​",
       "style": "IPY_MODEL_53342abb403b421291726f4a6af61956",
       "value": "100%"
      }
     },
     "1d4da312757e4813868144bf0212d845": {
      "model_module": "@jupyter-widgets/controls",
      "model_module_version": "1.5.0",
      "model_name": "HBoxModel",
      "state": {
       "_dom_classes": [],
       "_model_module": "@jupyter-widgets/controls",
       "_model_module_version": "1.5.0",
       "_model_name": "HBoxModel",
       "_view_count": null,
       "_view_module": "@jupyter-widgets/controls",
       "_view_module_version": "1.5.0",
       "_view_name": "HBoxView",
       "box_style": "",
       "children": [
        "IPY_MODEL_33ce48cf2a3746c19ddf410928653a60",
        "IPY_MODEL_8df96c87b4394876a3dcf8b00cc258db",
        "IPY_MODEL_468a25b4b5cf436c82d4236e66dff014"
       ],
       "layout": "IPY_MODEL_862db4e3df874c1ea22ba6ed005244d4"
      }
     },
     "1e6c8be29a77447a92bdfa19476d07a9": {
      "model_module": "@jupyter-widgets/controls",
      "model_module_version": "1.5.0",
      "model_name": "ProgressStyleModel",
      "state": {
       "_model_module": "@jupyter-widgets/controls",
       "_model_module_version": "1.5.0",
       "_model_name": "ProgressStyleModel",
       "_view_count": null,
       "_view_module": "@jupyter-widgets/base",
       "_view_module_version": "1.2.0",
       "_view_name": "StyleView",
       "bar_color": null,
       "description_width": ""
      }
     },
     "1ecbc98264774c66a5f85f7c5d1638ef": {
      "model_module": "@jupyter-widgets/base",
      "model_module_version": "1.2.0",
      "model_name": "LayoutModel",
      "state": {
       "_model_module": "@jupyter-widgets/base",
       "_model_module_version": "1.2.0",
       "_model_name": "LayoutModel",
       "_view_count": null,
       "_view_module": "@jupyter-widgets/base",
       "_view_module_version": "1.2.0",
       "_view_name": "LayoutView",
       "align_content": null,
       "align_items": null,
       "align_self": null,
       "border": null,
       "bottom": null,
       "display": null,
       "flex": null,
       "flex_flow": null,
       "grid_area": null,
       "grid_auto_columns": null,
       "grid_auto_flow": null,
       "grid_auto_rows": null,
       "grid_column": null,
       "grid_gap": null,
       "grid_row": null,
       "grid_template_areas": null,
       "grid_template_columns": null,
       "grid_template_rows": null,
       "height": null,
       "justify_content": null,
       "justify_items": null,
       "left": null,
       "margin": null,
       "max_height": null,
       "max_width": null,
       "min_height": null,
       "min_width": null,
       "object_fit": null,
       "object_position": null,
       "order": null,
       "overflow": null,
       "overflow_x": null,
       "overflow_y": null,
       "padding": null,
       "right": null,
       "top": null,
       "visibility": null,
       "width": null
      }
     },
     "320af11969694578b72b5e836b2ec1ab": {
      "model_module": "@jupyter-widgets/controls",
      "model_module_version": "1.5.0",
      "model_name": "HBoxModel",
      "state": {
       "_dom_classes": [],
       "_model_module": "@jupyter-widgets/controls",
       "_model_module_version": "1.5.0",
       "_model_name": "HBoxModel",
       "_view_count": null,
       "_view_module": "@jupyter-widgets/controls",
       "_view_module_version": "1.5.0",
       "_view_name": "HBoxView",
       "box_style": "",
       "children": [
        "IPY_MODEL_d1a8edba82004ec8bf058d971456068d",
        "IPY_MODEL_b4c06f0db8f946f1a39be93d3b5a87a1",
        "IPY_MODEL_c7ad2670ea594cf39ffc1237248d7131"
       ],
       "layout": "IPY_MODEL_f231ccdc078148df9c470dadcbddcaeb"
      }
     },
     "33ce48cf2a3746c19ddf410928653a60": {
      "model_module": "@jupyter-widgets/controls",
      "model_module_version": "1.5.0",
      "model_name": "HTMLModel",
      "state": {
       "_dom_classes": [],
       "_model_module": "@jupyter-widgets/controls",
       "_model_module_version": "1.5.0",
       "_model_name": "HTMLModel",
       "_view_count": null,
       "_view_module": "@jupyter-widgets/controls",
       "_view_module_version": "1.5.0",
       "_view_name": "HTMLView",
       "description": "",
       "description_tooltip": null,
       "layout": "IPY_MODEL_5e855544a9534582ad27deaa6a8afca0",
       "placeholder": "​",
       "style": "IPY_MODEL_01d3cce01f9f4d96950157f3b097a5bc",
       "value": "100%"
      }
     },
     "36f514db41cf4d79a6bf65bf88ce88aa": {
      "model_module": "@jupyter-widgets/base",
      "model_module_version": "1.2.0",
      "model_name": "LayoutModel",
      "state": {
       "_model_module": "@jupyter-widgets/base",
       "_model_module_version": "1.2.0",
       "_model_name": "LayoutModel",
       "_view_count": null,
       "_view_module": "@jupyter-widgets/base",
       "_view_module_version": "1.2.0",
       "_view_name": "LayoutView",
       "align_content": null,
       "align_items": null,
       "align_self": null,
       "border": null,
       "bottom": null,
       "display": null,
       "flex": null,
       "flex_flow": null,
       "grid_area": null,
       "grid_auto_columns": null,
       "grid_auto_flow": null,
       "grid_auto_rows": null,
       "grid_column": null,
       "grid_gap": null,
       "grid_row": null,
       "grid_template_areas": null,
       "grid_template_columns": null,
       "grid_template_rows": null,
       "height": null,
       "justify_content": null,
       "justify_items": null,
       "left": null,
       "margin": null,
       "max_height": null,
       "max_width": null,
       "min_height": null,
       "min_width": null,
       "object_fit": null,
       "object_position": null,
       "order": null,
       "overflow": null,
       "overflow_x": null,
       "overflow_y": null,
       "padding": null,
       "right": null,
       "top": null,
       "visibility": null,
       "width": null
      }
     },
     "406d9b31cb4944e6921a6be1e73e02a0": {
      "model_module": "@jupyter-widgets/controls",
      "model_module_version": "1.5.0",
      "model_name": "DescriptionStyleModel",
      "state": {
       "_model_module": "@jupyter-widgets/controls",
       "_model_module_version": "1.5.0",
       "_model_name": "DescriptionStyleModel",
       "_view_count": null,
       "_view_module": "@jupyter-widgets/base",
       "_view_module_version": "1.2.0",
       "_view_name": "StyleView",
       "description_width": ""
      }
     },
     "468a25b4b5cf436c82d4236e66dff014": {
      "model_module": "@jupyter-widgets/controls",
      "model_module_version": "1.5.0",
      "model_name": "HTMLModel",
      "state": {
       "_dom_classes": [],
       "_model_module": "@jupyter-widgets/controls",
       "_model_module_version": "1.5.0",
       "_model_name": "HTMLModel",
       "_view_count": null,
       "_view_module": "@jupyter-widgets/controls",
       "_view_module_version": "1.5.0",
       "_view_name": "HTMLView",
       "description": "",
       "description_tooltip": null,
       "layout": "IPY_MODEL_eb59e327e5c642d3a81c69c53862d15c",
       "placeholder": "​",
       "style": "IPY_MODEL_105c9442cd5943079f1d013197b20e64",
       "value": " 4/4 [00:30&lt;00:00,  7.29s/it]"
      }
     },
     "469f4b618c5147f5aa0d6f25e4c4bc12": {
      "model_module": "@jupyter-widgets/controls",
      "model_module_version": "1.5.0",
      "model_name": "DescriptionStyleModel",
      "state": {
       "_model_module": "@jupyter-widgets/controls",
       "_model_module_version": "1.5.0",
       "_model_name": "DescriptionStyleModel",
       "_view_count": null,
       "_view_module": "@jupyter-widgets/base",
       "_view_module_version": "1.2.0",
       "_view_name": "StyleView",
       "description_width": ""
      }
     },
     "4d53878f4b4a4926ab6b4ce5b3cbd1ff": {
      "model_module": "@jupyter-widgets/base",
      "model_module_version": "1.2.0",
      "model_name": "LayoutModel",
      "state": {
       "_model_module": "@jupyter-widgets/base",
       "_model_module_version": "1.2.0",
       "_model_name": "LayoutModel",
       "_view_count": null,
       "_view_module": "@jupyter-widgets/base",
       "_view_module_version": "1.2.0",
       "_view_name": "LayoutView",
       "align_content": null,
       "align_items": null,
       "align_self": null,
       "border": null,
       "bottom": null,
       "display": null,
       "flex": null,
       "flex_flow": null,
       "grid_area": null,
       "grid_auto_columns": null,
       "grid_auto_flow": null,
       "grid_auto_rows": null,
       "grid_column": null,
       "grid_gap": null,
       "grid_row": null,
       "grid_template_areas": null,
       "grid_template_columns": null,
       "grid_template_rows": null,
       "height": null,
       "justify_content": null,
       "justify_items": null,
       "left": null,
       "margin": null,
       "max_height": null,
       "max_width": null,
       "min_height": null,
       "min_width": null,
       "object_fit": null,
       "object_position": null,
       "order": null,
       "overflow": null,
       "overflow_x": null,
       "overflow_y": null,
       "padding": null,
       "right": null,
       "top": null,
       "visibility": null,
       "width": null
      }
     },
     "53342abb403b421291726f4a6af61956": {
      "model_module": "@jupyter-widgets/controls",
      "model_module_version": "1.5.0",
      "model_name": "DescriptionStyleModel",
      "state": {
       "_model_module": "@jupyter-widgets/controls",
       "_model_module_version": "1.5.0",
       "_model_name": "DescriptionStyleModel",
       "_view_count": null,
       "_view_module": "@jupyter-widgets/base",
       "_view_module_version": "1.2.0",
       "_view_name": "StyleView",
       "description_width": ""
      }
     },
     "593708f3420a479eaedd40372812c090": {
      "model_module": "@jupyter-widgets/controls",
      "model_module_version": "1.5.0",
      "model_name": "FloatProgressModel",
      "state": {
       "_dom_classes": [],
       "_model_module": "@jupyter-widgets/controls",
       "_model_module_version": "1.5.0",
       "_model_name": "FloatProgressModel",
       "_view_count": null,
       "_view_module": "@jupyter-widgets/controls",
       "_view_module_version": "1.5.0",
       "_view_name": "ProgressView",
       "bar_style": "success",
       "description": "",
       "description_tooltip": null,
       "layout": "IPY_MODEL_81b77590af3b44c8be42b69ebe1ec949",
       "max": 5.0,
       "min": 0.0,
       "orientation": "horizontal",
       "style": "IPY_MODEL_e842bd7fa3274db5b1d60f11514ad630",
       "value": 5.0
      }
     },
     "5c46901ce3d24c0689672b6ecbb30352": {
      "model_module": "@jupyter-widgets/base",
      "model_module_version": "1.2.0",
      "model_name": "LayoutModel",
      "state": {
       "_model_module": "@jupyter-widgets/base",
       "_model_module_version": "1.2.0",
       "_model_name": "LayoutModel",
       "_view_count": null,
       "_view_module": "@jupyter-widgets/base",
       "_view_module_version": "1.2.0",
       "_view_name": "LayoutView",
       "align_content": null,
       "align_items": null,
       "align_self": null,
       "border": null,
       "bottom": null,
       "display": null,
       "flex": null,
       "flex_flow": null,
       "grid_area": null,
       "grid_auto_columns": null,
       "grid_auto_flow": null,
       "grid_auto_rows": null,
       "grid_column": null,
       "grid_gap": null,
       "grid_row": null,
       "grid_template_areas": null,
       "grid_template_columns": null,
       "grid_template_rows": null,
       "height": null,
       "justify_content": null,
       "justify_items": null,
       "left": null,
       "margin": null,
       "max_height": null,
       "max_width": null,
       "min_height": null,
       "min_width": null,
       "object_fit": null,
       "object_position": null,
       "order": null,
       "overflow": null,
       "overflow_x": null,
       "overflow_y": null,
       "padding": null,
       "right": null,
       "top": null,
       "visibility": null,
       "width": null
      }
     },
     "5e855544a9534582ad27deaa6a8afca0": {
      "model_module": "@jupyter-widgets/base",
      "model_module_version": "1.2.0",
      "model_name": "LayoutModel",
      "state": {
       "_model_module": "@jupyter-widgets/base",
       "_model_module_version": "1.2.0",
       "_model_name": "LayoutModel",
       "_view_count": null,
       "_view_module": "@jupyter-widgets/base",
       "_view_module_version": "1.2.0",
       "_view_name": "LayoutView",
       "align_content": null,
       "align_items": null,
       "align_self": null,
       "border": null,
       "bottom": null,
       "display": null,
       "flex": null,
       "flex_flow": null,
       "grid_area": null,
       "grid_auto_columns": null,
       "grid_auto_flow": null,
       "grid_auto_rows": null,
       "grid_column": null,
       "grid_gap": null,
       "grid_row": null,
       "grid_template_areas": null,
       "grid_template_columns": null,
       "grid_template_rows": null,
       "height": null,
       "justify_content": null,
       "justify_items": null,
       "left": null,
       "margin": null,
       "max_height": null,
       "max_width": null,
       "min_height": null,
       "min_width": null,
       "object_fit": null,
       "object_position": null,
       "order": null,
       "overflow": null,
       "overflow_x": null,
       "overflow_y": null,
       "padding": null,
       "right": null,
       "top": null,
       "visibility": null,
       "width": null
      }
     },
     "61cac52f14df41c9b241827dfe94d921": {
      "model_module": "@jupyter-widgets/controls",
      "model_module_version": "1.5.0",
      "model_name": "DescriptionStyleModel",
      "state": {
       "_model_module": "@jupyter-widgets/controls",
       "_model_module_version": "1.5.0",
       "_model_name": "DescriptionStyleModel",
       "_view_count": null,
       "_view_module": "@jupyter-widgets/base",
       "_view_module_version": "1.2.0",
       "_view_name": "StyleView",
       "description_width": ""
      }
     },
     "64c098f8a76e4a31bd9e50302f7ce49e": {
      "model_module": "@jupyter-widgets/controls",
      "model_module_version": "1.5.0",
      "model_name": "HTMLModel",
      "state": {
       "_dom_classes": [],
       "_model_module": "@jupyter-widgets/controls",
       "_model_module_version": "1.5.0",
       "_model_name": "HTMLModel",
       "_view_count": null,
       "_view_module": "@jupyter-widgets/controls",
       "_view_module_version": "1.5.0",
       "_view_name": "HTMLView",
       "description": "",
       "description_tooltip": null,
       "layout": "IPY_MODEL_df22823bfe7b46ec96cc82237457d3d1",
       "placeholder": "​",
       "style": "IPY_MODEL_832763c32b9340b4b895bcbf7ff10892",
       "value": " 5/5 [00:48&lt;00:00,  9.82s/it]"
      }
     },
     "7d4f02916f884b689c4f75af283e00e7": {
      "model_module": "@jupyter-widgets/base",
      "model_module_version": "1.2.0",
      "model_name": "LayoutModel",
      "state": {
       "_model_module": "@jupyter-widgets/base",
       "_model_module_version": "1.2.0",
       "_model_name": "LayoutModel",
       "_view_count": null,
       "_view_module": "@jupyter-widgets/base",
       "_view_module_version": "1.2.0",
       "_view_name": "LayoutView",
       "align_content": null,
       "align_items": null,
       "align_self": null,
       "border": null,
       "bottom": null,
       "display": null,
       "flex": null,
       "flex_flow": null,
       "grid_area": null,
       "grid_auto_columns": null,
       "grid_auto_flow": null,
       "grid_auto_rows": null,
       "grid_column": null,
       "grid_gap": null,
       "grid_row": null,
       "grid_template_areas": null,
       "grid_template_columns": null,
       "grid_template_rows": null,
       "height": null,
       "justify_content": null,
       "justify_items": null,
       "left": null,
       "margin": null,
       "max_height": null,
       "max_width": null,
       "min_height": null,
       "min_width": null,
       "object_fit": null,
       "object_position": null,
       "order": null,
       "overflow": null,
       "overflow_x": null,
       "overflow_y": null,
       "padding": null,
       "right": null,
       "top": null,
       "visibility": null,
       "width": null
      }
     },
     "80e55dfc03224910b1153607b5c3b2ac": {
      "model_module": "@jupyter-widgets/controls",
      "model_module_version": "1.5.0",
      "model_name": "HTMLModel",
      "state": {
       "_dom_classes": [],
       "_model_module": "@jupyter-widgets/controls",
       "_model_module_version": "1.5.0",
       "_model_name": "HTMLModel",
       "_view_count": null,
       "_view_module": "@jupyter-widgets/controls",
       "_view_module_version": "1.5.0",
       "_view_name": "HTMLView",
       "description": "",
       "description_tooltip": null,
       "layout": "IPY_MODEL_073106c558694580a0c4d172b429b599",
       "placeholder": "​",
       "style": "IPY_MODEL_61cac52f14df41c9b241827dfe94d921",
       "value": "100%"
      }
     },
     "81b77590af3b44c8be42b69ebe1ec949": {
      "model_module": "@jupyter-widgets/base",
      "model_module_version": "1.2.0",
      "model_name": "LayoutModel",
      "state": {
       "_model_module": "@jupyter-widgets/base",
       "_model_module_version": "1.2.0",
       "_model_name": "LayoutModel",
       "_view_count": null,
       "_view_module": "@jupyter-widgets/base",
       "_view_module_version": "1.2.0",
       "_view_name": "LayoutView",
       "align_content": null,
       "align_items": null,
       "align_self": null,
       "border": null,
       "bottom": null,
       "display": null,
       "flex": null,
       "flex_flow": null,
       "grid_area": null,
       "grid_auto_columns": null,
       "grid_auto_flow": null,
       "grid_auto_rows": null,
       "grid_column": null,
       "grid_gap": null,
       "grid_row": null,
       "grid_template_areas": null,
       "grid_template_columns": null,
       "grid_template_rows": null,
       "height": null,
       "justify_content": null,
       "justify_items": null,
       "left": null,
       "margin": null,
       "max_height": null,
       "max_width": null,
       "min_height": null,
       "min_width": null,
       "object_fit": null,
       "object_position": null,
       "order": null,
       "overflow": null,
       "overflow_x": null,
       "overflow_y": null,
       "padding": null,
       "right": null,
       "top": null,
       "visibility": null,
       "width": null
      }
     },
     "832763c32b9340b4b895bcbf7ff10892": {
      "model_module": "@jupyter-widgets/controls",
      "model_module_version": "1.5.0",
      "model_name": "DescriptionStyleModel",
      "state": {
       "_model_module": "@jupyter-widgets/controls",
       "_model_module_version": "1.5.0",
       "_model_name": "DescriptionStyleModel",
       "_view_count": null,
       "_view_module": "@jupyter-widgets/base",
       "_view_module_version": "1.2.0",
       "_view_name": "StyleView",
       "description_width": ""
      }
     },
     "862db4e3df874c1ea22ba6ed005244d4": {
      "model_module": "@jupyter-widgets/base",
      "model_module_version": "1.2.0",
      "model_name": "LayoutModel",
      "state": {
       "_model_module": "@jupyter-widgets/base",
       "_model_module_version": "1.2.0",
       "_model_name": "LayoutModel",
       "_view_count": null,
       "_view_module": "@jupyter-widgets/base",
       "_view_module_version": "1.2.0",
       "_view_name": "LayoutView",
       "align_content": null,
       "align_items": null,
       "align_self": null,
       "border": null,
       "bottom": null,
       "display": null,
       "flex": null,
       "flex_flow": null,
       "grid_area": null,
       "grid_auto_columns": null,
       "grid_auto_flow": null,
       "grid_auto_rows": null,
       "grid_column": null,
       "grid_gap": null,
       "grid_row": null,
       "grid_template_areas": null,
       "grid_template_columns": null,
       "grid_template_rows": null,
       "height": null,
       "justify_content": null,
       "justify_items": null,
       "left": null,
       "margin": null,
       "max_height": null,
       "max_width": null,
       "min_height": null,
       "min_width": null,
       "object_fit": null,
       "object_position": null,
       "order": null,
       "overflow": null,
       "overflow_x": null,
       "overflow_y": null,
       "padding": null,
       "right": null,
       "top": null,
       "visibility": null,
       "width": null
      }
     },
     "8df96c87b4394876a3dcf8b00cc258db": {
      "model_module": "@jupyter-widgets/controls",
      "model_module_version": "1.5.0",
      "model_name": "FloatProgressModel",
      "state": {
       "_dom_classes": [],
       "_model_module": "@jupyter-widgets/controls",
       "_model_module_version": "1.5.0",
       "_model_name": "FloatProgressModel",
       "_view_count": null,
       "_view_module": "@jupyter-widgets/controls",
       "_view_module_version": "1.5.0",
       "_view_name": "ProgressView",
       "bar_style": "success",
       "description": "",
       "description_tooltip": null,
       "layout": "IPY_MODEL_0828466b8e9d46a599a518ec8b372684",
       "max": 4.0,
       "min": 0.0,
       "orientation": "horizontal",
       "style": "IPY_MODEL_1e6c8be29a77447a92bdfa19476d07a9",
       "value": 4.0
      }
     },
     "9dbf2198a5b2439aaa920c112e864520": {
      "model_module": "@jupyter-widgets/controls",
      "model_module_version": "1.5.0",
      "model_name": "DescriptionStyleModel",
      "state": {
       "_model_module": "@jupyter-widgets/controls",
       "_model_module_version": "1.5.0",
       "_model_name": "DescriptionStyleModel",
       "_view_count": null,
       "_view_module": "@jupyter-widgets/base",
       "_view_module_version": "1.2.0",
       "_view_name": "StyleView",
       "description_width": ""
      }
     },
     "a443d9a13b054f57a25ab4cf0cc786de": {
      "model_module": "@jupyter-widgets/controls",
      "model_module_version": "1.5.0",
      "model_name": "HBoxModel",
      "state": {
       "_dom_classes": [],
       "_model_module": "@jupyter-widgets/controls",
       "_model_module_version": "1.5.0",
       "_model_name": "HBoxModel",
       "_view_count": null,
       "_view_module": "@jupyter-widgets/controls",
       "_view_module_version": "1.5.0",
       "_view_name": "HBoxView",
       "box_style": "",
       "children": [
        "IPY_MODEL_80e55dfc03224910b1153607b5c3b2ac",
        "IPY_MODEL_d46c8c1e8fa94045866f4c906341aeed",
        "IPY_MODEL_ee2d531bf1df4bb9932516b1772c2906"
       ],
       "layout": "IPY_MODEL_0e4762e5c52541e9ab68e7273cd40e4d"
      }
     },
     "ad906af8f3ef4b428d211537ed959b09": {
      "model_module": "@jupyter-widgets/controls",
      "model_module_version": "1.5.0",
      "model_name": "HBoxModel",
      "state": {
       "_dom_classes": [],
       "_model_module": "@jupyter-widgets/controls",
       "_model_module_version": "1.5.0",
       "_model_name": "HBoxModel",
       "_view_count": null,
       "_view_module": "@jupyter-widgets/controls",
       "_view_module_version": "1.5.0",
       "_view_name": "HBoxView",
       "box_style": "",
       "children": [
        "IPY_MODEL_194ad31fe1294bc68273dab3f09f6ecd",
        "IPY_MODEL_593708f3420a479eaedd40372812c090",
        "IPY_MODEL_64c098f8a76e4a31bd9e50302f7ce49e"
       ],
       "layout": "IPY_MODEL_e8d29e0399cc4918b924453c1f1ff570"
      }
     },
     "b4c06f0db8f946f1a39be93d3b5a87a1": {
      "model_module": "@jupyter-widgets/controls",
      "model_module_version": "1.5.0",
      "model_name": "FloatProgressModel",
      "state": {
       "_dom_classes": [],
       "_model_module": "@jupyter-widgets/controls",
       "_model_module_version": "1.5.0",
       "_model_name": "FloatProgressModel",
       "_view_count": null,
       "_view_module": "@jupyter-widgets/controls",
       "_view_module_version": "1.5.0",
       "_view_name": "ProgressView",
       "bar_style": "success",
       "description": "",
       "description_tooltip": null,
       "layout": "IPY_MODEL_36f514db41cf4d79a6bf65bf88ce88aa",
       "max": 4.0,
       "min": 0.0,
       "orientation": "horizontal",
       "style": "IPY_MODEL_e113186a65d04dfc86c83eadc0811943",
       "value": 4.0
      }
     },
     "c7ad2670ea594cf39ffc1237248d7131": {
      "model_module": "@jupyter-widgets/controls",
      "model_module_version": "1.5.0",
      "model_name": "HTMLModel",
      "state": {
       "_dom_classes": [],
       "_model_module": "@jupyter-widgets/controls",
       "_model_module_version": "1.5.0",
       "_model_name": "HTMLModel",
       "_view_count": null,
       "_view_module": "@jupyter-widgets/controls",
       "_view_module_version": "1.5.0",
       "_view_name": "HTMLView",
       "description": "",
       "description_tooltip": null,
       "layout": "IPY_MODEL_1ecbc98264774c66a5f85f7c5d1638ef",
       "placeholder": "​",
       "style": "IPY_MODEL_9dbf2198a5b2439aaa920c112e864520",
       "value": " 4/4 [00:15&lt;00:00,  3.97s/it]"
      }
     },
     "d1a8edba82004ec8bf058d971456068d": {
      "model_module": "@jupyter-widgets/controls",
      "model_module_version": "1.5.0",
      "model_name": "HTMLModel",
      "state": {
       "_dom_classes": [],
       "_model_module": "@jupyter-widgets/controls",
       "_model_module_version": "1.5.0",
       "_model_name": "HTMLModel",
       "_view_count": null,
       "_view_module": "@jupyter-widgets/controls",
       "_view_module_version": "1.5.0",
       "_view_name": "HTMLView",
       "description": "",
       "description_tooltip": null,
       "layout": "IPY_MODEL_7d4f02916f884b689c4f75af283e00e7",
       "placeholder": "​",
       "style": "IPY_MODEL_469f4b618c5147f5aa0d6f25e4c4bc12",
       "value": "100%"
      }
     },
     "d21ba07bd8f2455e8332696707f5edc0": {
      "model_module": "@jupyter-widgets/controls",
      "model_module_version": "1.5.0",
      "model_name": "ProgressStyleModel",
      "state": {
       "_model_module": "@jupyter-widgets/controls",
       "_model_module_version": "1.5.0",
       "_model_name": "ProgressStyleModel",
       "_view_count": null,
       "_view_module": "@jupyter-widgets/base",
       "_view_module_version": "1.2.0",
       "_view_name": "StyleView",
       "bar_color": null,
       "description_width": ""
      }
     },
     "d46c8c1e8fa94045866f4c906341aeed": {
      "model_module": "@jupyter-widgets/controls",
      "model_module_version": "1.5.0",
      "model_name": "FloatProgressModel",
      "state": {
       "_dom_classes": [],
       "_model_module": "@jupyter-widgets/controls",
       "_model_module_version": "1.5.0",
       "_model_name": "FloatProgressModel",
       "_view_count": null,
       "_view_module": "@jupyter-widgets/controls",
       "_view_module_version": "1.5.0",
       "_view_name": "ProgressView",
       "bar_style": "success",
       "description": "",
       "description_tooltip": null,
       "layout": "IPY_MODEL_5c46901ce3d24c0689672b6ecbb30352",
       "max": 4.0,
       "min": 0.0,
       "orientation": "horizontal",
       "style": "IPY_MODEL_d21ba07bd8f2455e8332696707f5edc0",
       "value": 4.0
      }
     },
     "df22823bfe7b46ec96cc82237457d3d1": {
      "model_module": "@jupyter-widgets/base",
      "model_module_version": "1.2.0",
      "model_name": "LayoutModel",
      "state": {
       "_model_module": "@jupyter-widgets/base",
       "_model_module_version": "1.2.0",
       "_model_name": "LayoutModel",
       "_view_count": null,
       "_view_module": "@jupyter-widgets/base",
       "_view_module_version": "1.2.0",
       "_view_name": "LayoutView",
       "align_content": null,
       "align_items": null,
       "align_self": null,
       "border": null,
       "bottom": null,
       "display": null,
       "flex": null,
       "flex_flow": null,
       "grid_area": null,
       "grid_auto_columns": null,
       "grid_auto_flow": null,
       "grid_auto_rows": null,
       "grid_column": null,
       "grid_gap": null,
       "grid_row": null,
       "grid_template_areas": null,
       "grid_template_columns": null,
       "grid_template_rows": null,
       "height": null,
       "justify_content": null,
       "justify_items": null,
       "left": null,
       "margin": null,
       "max_height": null,
       "max_width": null,
       "min_height": null,
       "min_width": null,
       "object_fit": null,
       "object_position": null,
       "order": null,
       "overflow": null,
       "overflow_x": null,
       "overflow_y": null,
       "padding": null,
       "right": null,
       "top": null,
       "visibility": null,
       "width": null
      }
     },
     "e113186a65d04dfc86c83eadc0811943": {
      "model_module": "@jupyter-widgets/controls",
      "model_module_version": "1.5.0",
      "model_name": "ProgressStyleModel",
      "state": {
       "_model_module": "@jupyter-widgets/controls",
       "_model_module_version": "1.5.0",
       "_model_name": "ProgressStyleModel",
       "_view_count": null,
       "_view_module": "@jupyter-widgets/base",
       "_view_module_version": "1.2.0",
       "_view_name": "StyleView",
       "bar_color": null,
       "description_width": ""
      }
     },
     "e842bd7fa3274db5b1d60f11514ad630": {
      "model_module": "@jupyter-widgets/controls",
      "model_module_version": "1.5.0",
      "model_name": "ProgressStyleModel",
      "state": {
       "_model_module": "@jupyter-widgets/controls",
       "_model_module_version": "1.5.0",
       "_model_name": "ProgressStyleModel",
       "_view_count": null,
       "_view_module": "@jupyter-widgets/base",
       "_view_module_version": "1.2.0",
       "_view_name": "StyleView",
       "bar_color": null,
       "description_width": ""
      }
     },
     "e8d29e0399cc4918b924453c1f1ff570": {
      "model_module": "@jupyter-widgets/base",
      "model_module_version": "1.2.0",
      "model_name": "LayoutModel",
      "state": {
       "_model_module": "@jupyter-widgets/base",
       "_model_module_version": "1.2.0",
       "_model_name": "LayoutModel",
       "_view_count": null,
       "_view_module": "@jupyter-widgets/base",
       "_view_module_version": "1.2.0",
       "_view_name": "LayoutView",
       "align_content": null,
       "align_items": null,
       "align_self": null,
       "border": null,
       "bottom": null,
       "display": null,
       "flex": null,
       "flex_flow": null,
       "grid_area": null,
       "grid_auto_columns": null,
       "grid_auto_flow": null,
       "grid_auto_rows": null,
       "grid_column": null,
       "grid_gap": null,
       "grid_row": null,
       "grid_template_areas": null,
       "grid_template_columns": null,
       "grid_template_rows": null,
       "height": null,
       "justify_content": null,
       "justify_items": null,
       "left": null,
       "margin": null,
       "max_height": null,
       "max_width": null,
       "min_height": null,
       "min_width": null,
       "object_fit": null,
       "object_position": null,
       "order": null,
       "overflow": null,
       "overflow_x": null,
       "overflow_y": null,
       "padding": null,
       "right": null,
       "top": null,
       "visibility": null,
       "width": null
      }
     },
     "e927d84c9f334c7a8132f21d97190a61": {
      "model_module": "@jupyter-widgets/base",
      "model_module_version": "1.2.0",
      "model_name": "LayoutModel",
      "state": {
       "_model_module": "@jupyter-widgets/base",
       "_model_module_version": "1.2.0",
       "_model_name": "LayoutModel",
       "_view_count": null,
       "_view_module": "@jupyter-widgets/base",
       "_view_module_version": "1.2.0",
       "_view_name": "LayoutView",
       "align_content": null,
       "align_items": null,
       "align_self": null,
       "border": null,
       "bottom": null,
       "display": null,
       "flex": null,
       "flex_flow": null,
       "grid_area": null,
       "grid_auto_columns": null,
       "grid_auto_flow": null,
       "grid_auto_rows": null,
       "grid_column": null,
       "grid_gap": null,
       "grid_row": null,
       "grid_template_areas": null,
       "grid_template_columns": null,
       "grid_template_rows": null,
       "height": null,
       "justify_content": null,
       "justify_items": null,
       "left": null,
       "margin": null,
       "max_height": null,
       "max_width": null,
       "min_height": null,
       "min_width": null,
       "object_fit": null,
       "object_position": null,
       "order": null,
       "overflow": null,
       "overflow_x": null,
       "overflow_y": null,
       "padding": null,
       "right": null,
       "top": null,
       "visibility": null,
       "width": null
      }
     },
     "eb59e327e5c642d3a81c69c53862d15c": {
      "model_module": "@jupyter-widgets/base",
      "model_module_version": "1.2.0",
      "model_name": "LayoutModel",
      "state": {
       "_model_module": "@jupyter-widgets/base",
       "_model_module_version": "1.2.0",
       "_model_name": "LayoutModel",
       "_view_count": null,
       "_view_module": "@jupyter-widgets/base",
       "_view_module_version": "1.2.0",
       "_view_name": "LayoutView",
       "align_content": null,
       "align_items": null,
       "align_self": null,
       "border": null,
       "bottom": null,
       "display": null,
       "flex": null,
       "flex_flow": null,
       "grid_area": null,
       "grid_auto_columns": null,
       "grid_auto_flow": null,
       "grid_auto_rows": null,
       "grid_column": null,
       "grid_gap": null,
       "grid_row": null,
       "grid_template_areas": null,
       "grid_template_columns": null,
       "grid_template_rows": null,
       "height": null,
       "justify_content": null,
       "justify_items": null,
       "left": null,
       "margin": null,
       "max_height": null,
       "max_width": null,
       "min_height": null,
       "min_width": null,
       "object_fit": null,
       "object_position": null,
       "order": null,
       "overflow": null,
       "overflow_x": null,
       "overflow_y": null,
       "padding": null,
       "right": null,
       "top": null,
       "visibility": null,
       "width": null
      }
     },
     "ee2d531bf1df4bb9932516b1772c2906": {
      "model_module": "@jupyter-widgets/controls",
      "model_module_version": "1.5.0",
      "model_name": "HTMLModel",
      "state": {
       "_dom_classes": [],
       "_model_module": "@jupyter-widgets/controls",
       "_model_module_version": "1.5.0",
       "_model_name": "HTMLModel",
       "_view_count": null,
       "_view_module": "@jupyter-widgets/controls",
       "_view_module_version": "1.5.0",
       "_view_name": "HTMLView",
       "description": "",
       "description_tooltip": null,
       "layout": "IPY_MODEL_e927d84c9f334c7a8132f21d97190a61",
       "placeholder": "​",
       "style": "IPY_MODEL_406d9b31cb4944e6921a6be1e73e02a0",
       "value": " 4/4 [00:16&lt;00:00,  4.07s/it]"
      }
     },
     "f231ccdc078148df9c470dadcbddcaeb": {
      "model_module": "@jupyter-widgets/base",
      "model_module_version": "1.2.0",
      "model_name": "LayoutModel",
      "state": {
       "_model_module": "@jupyter-widgets/base",
       "_model_module_version": "1.2.0",
       "_model_name": "LayoutModel",
       "_view_count": null,
       "_view_module": "@jupyter-widgets/base",
       "_view_module_version": "1.2.0",
       "_view_name": "LayoutView",
       "align_content": null,
       "align_items": null,
       "align_self": null,
       "border": null,
       "bottom": null,
       "display": null,
       "flex": null,
       "flex_flow": null,
       "grid_area": null,
       "grid_auto_columns": null,
       "grid_auto_flow": null,
       "grid_auto_rows": null,
       "grid_column": null,
       "grid_gap": null,
       "grid_row": null,
       "grid_template_areas": null,
       "grid_template_columns": null,
       "grid_template_rows": null,
       "height": null,
       "justify_content": null,
       "justify_items": null,
       "left": null,
       "margin": null,
       "max_height": null,
       "max_width": null,
       "min_height": null,
       "min_width": null,
       "object_fit": null,
       "object_position": null,
       "order": null,
       "overflow": null,
       "overflow_x": null,
       "overflow_y": null,
       "padding": null,
       "right": null,
       "top": null,
       "visibility": null,
       "width": null
      }
     }
    },
    "version_major": 2,
    "version_minor": 0
   }
  }
 },
 "nbformat": 4,
 "nbformat_minor": 5
}
