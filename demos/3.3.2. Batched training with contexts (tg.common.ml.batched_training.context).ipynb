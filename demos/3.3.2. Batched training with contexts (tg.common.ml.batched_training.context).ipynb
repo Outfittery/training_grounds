{
 "cells": [
  {
   "cell_type": "markdown",
   "id": "348fbaf7",
   "metadata": {},
   "source": [
    "# 3.3.2. Batched training with contexts (tg.common.ml.batched_training.context)"
   ]
  },
  {
   "cell_type": "markdown",
   "id": "96052d5e",
   "metadata": {},
   "source": [
    "This demo will cover training on data that are _contextual_. By that we mean cases, when some of the samples form relations, and to make a prediction about sample ***i***, the network must take into consideration all the samples, related to this sample ***i***.\n",
    "\n",
    "The typical example is Natural Language Processing. Often, we cannot really do anything with an individual word in the sentence, we need to consider other words in its vicinity. Most often, ***N*** words to the left form this vicinity, but not only: if a parse tree of the sentence is available, we may consider \"brothers\" of the word, or parents, etc. \n",
    "\n",
    "Contextual data are also possible in sales. If we try to predict the customer-to-article relation, there are many assotiated contexts: previous purchases of the customer, other articles in the order, historical performance of the article, etc.\n",
    "\n",
    "This demo will discuss ways of organizing the contexts in the various ways, including using of recurrent neural networks (LSTM)"
   ]
  },
  {
   "cell_type": "markdown",
   "id": "29fe5e2e",
   "metadata": {},
   "source": [
    "## Setup"
   ]
  },
  {
   "cell_type": "markdown",
   "id": "b540e3d9",
   "metadata": {},
   "source": [
    "We will consider a toy task from NLP. Assume we have ***n*** words, and sentences of ***m*** such words. Some of these sentences belong to the \"good\" subset ***L***, and some don't. The task is to build a classifier for ***L***.\n",
    "\n",
    "First, to establish the baseline, we will build the network without any contexts. For that, we will first build a training data as a dataframe with words in columns:"
   ]
  },
  {
   "cell_type": "code",
   "execution_count": 1,
   "id": "81bc1847",
   "metadata": {
    "execution": {
     "iopub.execute_input": "2022-06-27T19:30:39.689110Z",
     "iopub.status.busy": "2022-06-27T19:30:39.663045Z",
     "iopub.status.idle": "2022-06-27T19:30:40.293800Z",
     "shell.execute_reply": "2022-06-27T19:30:40.294295Z"
    }
   },
   "outputs": [
    {
     "data": {
      "text/html": [
       "<div>\n",
       "<style scoped>\n",
       "    .dataframe tbody tr th:only-of-type {\n",
       "        vertical-align: middle;\n",
       "    }\n",
       "\n",
       "    .dataframe tbody tr th {\n",
       "        vertical-align: top;\n",
       "    }\n",
       "\n",
       "    .dataframe thead th {\n",
       "        text-align: right;\n",
       "    }\n",
       "</style>\n",
       "<table border=\"1\" class=\"dataframe\">\n",
       "  <thead>\n",
       "    <tr style=\"text-align: right;\">\n",
       "      <th></th>\n",
       "      <th>word_0</th>\n",
       "      <th>word_1</th>\n",
       "      <th>word_2</th>\n",
       "      <th>word_3</th>\n",
       "      <th>label</th>\n",
       "      <th>split</th>\n",
       "    </tr>\n",
       "    <tr>\n",
       "      <th>sentence_id</th>\n",
       "      <th></th>\n",
       "      <th></th>\n",
       "      <th></th>\n",
       "      <th></th>\n",
       "      <th></th>\n",
       "      <th></th>\n",
       "    </tr>\n",
       "  </thead>\n",
       "  <tbody>\n",
       "    <tr>\n",
       "      <th>0</th>\n",
       "      <td>A</td>\n",
       "      <td>A</td>\n",
       "      <td>A</td>\n",
       "      <td>A</td>\n",
       "      <td>0</td>\n",
       "      <td>display</td>\n",
       "    </tr>\n",
       "    <tr>\n",
       "      <th>1</th>\n",
       "      <td>A</td>\n",
       "      <td>A</td>\n",
       "      <td>A</td>\n",
       "      <td>B</td>\n",
       "      <td>1</td>\n",
       "      <td>display</td>\n",
       "    </tr>\n",
       "    <tr>\n",
       "      <th>2</th>\n",
       "      <td>A</td>\n",
       "      <td>A</td>\n",
       "      <td>A</td>\n",
       "      <td>C</td>\n",
       "      <td>0</td>\n",
       "      <td>display</td>\n",
       "    </tr>\n",
       "    <tr>\n",
       "      <th>3</th>\n",
       "      <td>A</td>\n",
       "      <td>A</td>\n",
       "      <td>B</td>\n",
       "      <td>A</td>\n",
       "      <td>0</td>\n",
       "      <td>display</td>\n",
       "    </tr>\n",
       "    <tr>\n",
       "      <th>4</th>\n",
       "      <td>A</td>\n",
       "      <td>A</td>\n",
       "      <td>B</td>\n",
       "      <td>B</td>\n",
       "      <td>0</td>\n",
       "      <td>display</td>\n",
       "    </tr>\n",
       "  </tbody>\n",
       "</table>\n",
       "</div>"
      ],
      "text/plain": [
       "            word_0 word_1 word_2 word_3  label    split\n",
       "sentence_id                                            \n",
       "0                A      A      A      A      0  display\n",
       "1                A      A      A      B      1  display\n",
       "2                A      A      A      C      0  display\n",
       "3                A      A      B      A      0  display\n",
       "4                A      A      B      B      0  display"
      ]
     },
     "execution_count": 1,
     "metadata": {},
     "output_type": "execute_result"
    }
   ],
   "source": [
    "import numpy as np\n",
    "import pandas as pd\n",
    "import os\n",
    "\n",
    "def generate_task(word_length, alphabet):\n",
    "    tuples = [ (c,) for c in alphabet]\n",
    "    result = list(tuples)\n",
    "    for i in range(word_length-1):\n",
    "        result = [ t+r for t in tuples for r in result]\n",
    "    df = pd.DataFrame(result, columns=[f'word_{i}' for i in range(word_length)])\n",
    "    df[f'label'] = np.random.randint(0,2,df.shape[0])\n",
    "    df.index.name = 'sentence_id'\n",
    "    df['split'] = 'display'\n",
    "    return df\n",
    "\n",
    "df = pd.read_parquet('lstm_task.parquet')\n",
    "df.head()"
   ]
  },
  {
   "cell_type": "code",
   "execution_count": 2,
   "id": "d427fe35",
   "metadata": {
    "execution": {
     "iopub.execute_input": "2022-06-27T19:30:40.298839Z",
     "iopub.status.busy": "2022-06-27T19:30:40.298159Z",
     "iopub.status.idle": "2022-06-27T19:30:40.300269Z",
     "shell.execute_reply": "2022-06-27T19:30:40.300655Z"
    }
   },
   "outputs": [
    {
     "data": {
      "text/plain": [
       "(81, 6)"
      ]
     },
     "execution_count": 2,
     "metadata": {},
     "output_type": "execute_result"
    }
   ],
   "source": [
    "df.shape"
   ]
  },
  {
   "cell_type": "markdown",
   "id": "d587a590",
   "metadata": {},
   "source": [
    "The following code will create a `BatchedTrainingTask` for this classification task, similarly to what we've seen in the previous demos. It will also output a batch for the task."
   ]
  },
  {
   "cell_type": "code",
   "execution_count": 3,
   "id": "a8a1b204",
   "metadata": {
    "execution": {
     "iopub.execute_input": "2022-06-27T19:30:40.314613Z",
     "iopub.status.busy": "2022-06-27T19:30:40.314110Z",
     "iopub.status.idle": "2022-06-27T19:30:42.984999Z",
     "shell.execute_reply": "2022-06-27T19:30:42.984659Z"
    }
   },
   "outputs": [
    {
     "data": {
      "text/html": [
       "<div>\n",
       "<style scoped>\n",
       "    .dataframe tbody tr th:only-of-type {\n",
       "        vertical-align: middle;\n",
       "    }\n",
       "\n",
       "    .dataframe tbody tr th {\n",
       "        vertical-align: top;\n",
       "    }\n",
       "\n",
       "    .dataframe thead th {\n",
       "        text-align: right;\n",
       "    }\n",
       "</style>\n",
       "<table border=\"1\" class=\"dataframe\">\n",
       "  <thead>\n",
       "    <tr style=\"text-align: right;\">\n",
       "      <th></th>\n",
       "      <th>word_0_A</th>\n",
       "      <th>word_0_B</th>\n",
       "      <th>word_0_C</th>\n",
       "      <th>word_1_A</th>\n",
       "      <th>word_1_B</th>\n",
       "      <th>word_1_C</th>\n",
       "      <th>word_2_A</th>\n",
       "      <th>word_2_B</th>\n",
       "      <th>word_2_C</th>\n",
       "      <th>word_3_A</th>\n",
       "      <th>word_3_B</th>\n",
       "      <th>word_3_C</th>\n",
       "    </tr>\n",
       "    <tr>\n",
       "      <th>sentence_id</th>\n",
       "      <th></th>\n",
       "      <th></th>\n",
       "      <th></th>\n",
       "      <th></th>\n",
       "      <th></th>\n",
       "      <th></th>\n",
       "      <th></th>\n",
       "      <th></th>\n",
       "      <th></th>\n",
       "      <th></th>\n",
       "      <th></th>\n",
       "      <th></th>\n",
       "    </tr>\n",
       "  </thead>\n",
       "  <tbody>\n",
       "    <tr>\n",
       "      <th>0</th>\n",
       "      <td>1.0</td>\n",
       "      <td>0.0</td>\n",
       "      <td>0.0</td>\n",
       "      <td>1.0</td>\n",
       "      <td>0.0</td>\n",
       "      <td>0.0</td>\n",
       "      <td>1.0</td>\n",
       "      <td>0.0</td>\n",
       "      <td>0.0</td>\n",
       "      <td>1.0</td>\n",
       "      <td>0.0</td>\n",
       "      <td>0.0</td>\n",
       "    </tr>\n",
       "    <tr>\n",
       "      <th>1</th>\n",
       "      <td>1.0</td>\n",
       "      <td>0.0</td>\n",
       "      <td>0.0</td>\n",
       "      <td>1.0</td>\n",
       "      <td>0.0</td>\n",
       "      <td>0.0</td>\n",
       "      <td>1.0</td>\n",
       "      <td>0.0</td>\n",
       "      <td>0.0</td>\n",
       "      <td>0.0</td>\n",
       "      <td>1.0</td>\n",
       "      <td>0.0</td>\n",
       "    </tr>\n",
       "    <tr>\n",
       "      <th>2</th>\n",
       "      <td>1.0</td>\n",
       "      <td>0.0</td>\n",
       "      <td>0.0</td>\n",
       "      <td>1.0</td>\n",
       "      <td>0.0</td>\n",
       "      <td>0.0</td>\n",
       "      <td>1.0</td>\n",
       "      <td>0.0</td>\n",
       "      <td>0.0</td>\n",
       "      <td>0.0</td>\n",
       "      <td>0.0</td>\n",
       "      <td>1.0</td>\n",
       "    </tr>\n",
       "    <tr>\n",
       "      <th>3</th>\n",
       "      <td>1.0</td>\n",
       "      <td>0.0</td>\n",
       "      <td>0.0</td>\n",
       "      <td>1.0</td>\n",
       "      <td>0.0</td>\n",
       "      <td>0.0</td>\n",
       "      <td>0.0</td>\n",
       "      <td>1.0</td>\n",
       "      <td>0.0</td>\n",
       "      <td>1.0</td>\n",
       "      <td>0.0</td>\n",
       "      <td>0.0</td>\n",
       "    </tr>\n",
       "    <tr>\n",
       "      <th>4</th>\n",
       "      <td>1.0</td>\n",
       "      <td>0.0</td>\n",
       "      <td>0.0</td>\n",
       "      <td>1.0</td>\n",
       "      <td>0.0</td>\n",
       "      <td>0.0</td>\n",
       "      <td>0.0</td>\n",
       "      <td>1.0</td>\n",
       "      <td>0.0</td>\n",
       "      <td>0.0</td>\n",
       "      <td>1.0</td>\n",
       "      <td>0.0</td>\n",
       "    </tr>\n",
       "  </tbody>\n",
       "</table>\n",
       "</div>"
      ],
      "text/plain": [
       "             word_0_A  word_0_B  word_0_C  word_1_A  word_1_B  word_1_C  \\\n",
       "sentence_id                                                               \n",
       "0                 1.0       0.0       0.0       1.0       0.0       0.0   \n",
       "1                 1.0       0.0       0.0       1.0       0.0       0.0   \n",
       "2                 1.0       0.0       0.0       1.0       0.0       0.0   \n",
       "3                 1.0       0.0       0.0       1.0       0.0       0.0   \n",
       "4                 1.0       0.0       0.0       1.0       0.0       0.0   \n",
       "\n",
       "             word_2_A  word_2_B  word_2_C  word_3_A  word_3_B  word_3_C  \n",
       "sentence_id                                                              \n",
       "0                 1.0       0.0       0.0       1.0       0.0       0.0  \n",
       "1                 1.0       0.0       0.0       0.0       1.0       0.0  \n",
       "2                 1.0       0.0       0.0       0.0       0.0       1.0  \n",
       "3                 0.0       1.0       0.0       1.0       0.0       0.0  \n",
       "4                 0.0       1.0       0.0       0.0       1.0       0.0  "
      ]
     },
     "execution_count": 3,
     "metadata": {},
     "output_type": "execute_result"
    }
   ],
   "source": [
    "from tg.common.ml import dft\n",
    "from tg.common.ml import batched_training as bt\n",
    "from tg.common.ml.batched_training import torch as btt\n",
    "from sklearn.metrics import roc_auc_score\n",
    "from tg.common import Logger\n",
    "\n",
    "Logger.disable()\n",
    "\n",
    "def create_plain_task(df, epochs = 500):\n",
    "    label_extractor = bt.PlainExtractor.build('label').index().apply(take_columns='label')\n",
    "    features_extractor = bt.PlainExtractor.build('features').index().apply(\n",
    "        take_columns=[f for f in df.columns if f.startswith('word')],\n",
    "        transformer=dft.DataFrameTransformerFactory.default_factory()\n",
    "    )\n",
    "    extractor_factory = btt.PredefinedExtractorFactory(label_extractor, features_extractor)\n",
    "    network_factory = btt.FullyConnectedNetwork.Factory(sizes=[100,1]).prepend_extraction('features')\n",
    "    task = btt.TorchTrainingTask(\n",
    "        bt.TrainingSettings(epoch_count = epochs),\n",
    "        btt.TorchTrainingSettings(),\n",
    "        extractor_factory,\n",
    "        network_factory,\n",
    "        bt.MetricPool().add_sklearn(roc_auc_score)\n",
    "    )\n",
    "    return task\n",
    "\n",
    "\n",
    "plain_bundle = bt.DataBundle(index=df)\n",
    "task = create_plain_task(df)\n",
    "task.generate_sample_batch(plain_bundle)['features'].head()"
   ]
  },
  {
   "cell_type": "markdown",
   "id": "3febaa2b",
   "metadata": {},
   "source": [
    "We won't have any test data. As ***L*** is random, it's impossible to predict the status of the word without seeing it. So effectively, the neural network just needs to memorize the table. \n",
    "  "
   ]
  },
  {
   "cell_type": "markdown",
   "id": "c6d3848b",
   "metadata": {},
   "source": [
    "The following code will run the training task on the data multiple times and build a plot of `roc_auc` metric improvement over time for each of them:"
   ]
  },
  {
   "cell_type": "code",
   "execution_count": 4,
   "id": "509c1c42",
   "metadata": {
    "execution": {
     "iopub.execute_input": "2022-06-27T19:30:42.990522Z",
     "iopub.status.busy": "2022-06-27T19:30:42.989798Z",
     "iopub.status.idle": "2022-06-27T19:31:57.613587Z",
     "shell.execute_reply": "2022-06-27T19:31:57.613256Z"
    }
   },
   "outputs": [
    {
     "data": {
      "application/vnd.jupyter.widget-view+json": {
       "model_id": "ed6976fe3e2c4bcca167d228a21541b7",
       "version_major": 2,
       "version_minor": 0
      },
      "text/plain": [
       "  0%|          | 0/5 [00:00<?, ?it/s]"
      ]
     },
     "metadata": {},
     "output_type": "display_data"
    },
    {
     "data": {
      "image/png": "[encoded data removed]",
      "text/plain": [
       "<Figure size 432x288 with 1 Axes>"
      ]
     },
     "metadata": {
      "needs_background": "light"
     },
     "output_type": "display_data"
    }
   ],
   "source": [
    "from yo_fluq_ds import *\n",
    "\n",
    "def get_roc_auc_curve(name, task, bundle):\n",
    "    result = task.run(bundle)\n",
    "    series = pd.DataFrame(result['output']['history']).roc_auc_score_display\n",
    "    series.name = str(name)\n",
    "    return series\n",
    "\n",
    "curves = (Query\n",
    "          .en(range(5))\n",
    "          .feed(fluq.with_progress_bar())\n",
    "          .select(lambda z: get_roc_auc_curve(z, create_plain_task(df, epochs=500), bt.DataBundle(index=df)))\n",
    "          .to_list()\n",
    "         )\n",
    "pd.DataFrame(curves).transpose().plot()\n",
    "pass"
   ]
  },
  {
   "cell_type": "markdown",
   "id": "54f982f4",
   "metadata": {},
   "source": [
    "Note that:\n",
    "\n",
    "* Training effectively stabilizes on ~200 iterations. We were unable to achieve significant improvement after this point.\n",
    "* The quality is far from 100%. The amount of neurons in the network are compatible with the amount of samples, and, given that the samples are random, it's not surprising. \n",
    "\n",
    "It is probably possible to achieve higher metric on this task, but right now it's not our goal. \n",
    "\n",
    "The quality depends heavily on the training data: some of the random languages $L$ offer better performance than others. The following code was used to find a language with decent performance:\n"
   ]
  },
  {
   "cell_type": "code",
   "execution_count": 5,
   "id": "0ecbb18f",
   "metadata": {
    "execution": {
     "iopub.execute_input": "2022-06-27T19:31:57.620682Z",
     "iopub.status.busy": "2022-06-27T19:31:57.619983Z",
     "iopub.status.idle": "2022-06-27T19:31:57.623822Z",
     "shell.execute_reply": "2022-06-27T19:31:57.624232Z"
    }
   },
   "outputs": [],
   "source": [
    "def find_good_language(N):\n",
    "    tasks = []\n",
    "    rocs = []\n",
    "    for i in Query.en(range(N)).feed(fluq.with_progress_bar()):\n",
    "        df = generate_task(4, ['A','B','C'])\n",
    "        tasks.append(df)\n",
    "        roc = get_roc_auc_curve(i, create_plain_task(df), bt.DataBundle(df, {}))\n",
    "        value = roc.iloc[-1]\n",
    "        rocs.append(value)\n",
    "        print(value, end=' ')\n",
    "    \n",
    "    s = pd.Series(rocs).sort_values()\n",
    "    winner = s.index[-1]\n",
    "    val = s.iloc[-1]\n",
    "    tasks[winner].to_parquet(f'lstm_task_{val}.parquet')\n",
    "    return s"
   ]
  },
  {
   "cell_type": "markdown",
   "id": "73613aef",
   "metadata": {},
   "source": [
    "## Contexts"
   ]
  },
  {
   "cell_type": "markdown",
   "id": "a3884153",
   "metadata": {},
   "source": [
    "The representation we used in the previous section is flawed due to several reasons:\n",
    "\n",
    "* Sequential data usually have different length. Placing them in the columns of the dataframe causes sparsity. \n",
    "* Sequential data may contain multiple columns for each position, i.e. morphological features or word2vec for words. Placing them in the columns of the dataframe creates a hierarchy of the columns.\n",
    "* Pandas is not really covenient to perform column-based operations, that will mean loops and other low-performative python logic.\n",
    "* Samples may enter in more than one relations, and it's unpractical to build such table for each of them.\n",
    "\n",
    "This is why it's far more convenient to use a sequential representation: each row is a sample (word in our case), but there is also a structural information, incorporated in the bundle, that represents relation of the samples. \n",
    "\n",
    "Let's translate our language ***L*** to this new format:"
   ]
  },
  {
   "cell_type": "code",
   "execution_count": 6,
   "id": "28aa3aed",
   "metadata": {
    "execution": {
     "iopub.execute_input": "2022-06-27T19:31:57.634257Z",
     "iopub.status.busy": "2022-06-27T19:31:57.633723Z",
     "iopub.status.idle": "2022-06-27T19:31:57.646286Z",
     "shell.execute_reply": "2022-06-27T19:31:57.646577Z"
    }
   },
   "outputs": [],
   "source": [
    "def translate_to_sequential(df):\n",
    "    words = [c for c in df.columns if c.startswith('word_')]\n",
    "    context_length = len(words)\n",
    "\n",
    "    cdf = df[words].unstack().to_frame('word').reset_index()\n",
    "    cdf = cdf.rename(columns=dict(level_0= 'word_position'))\n",
    "    cdf.word_position = cdf.word_position.str.replace('word_','').astype(int)\n",
    "    cdf = cdf.sort_values(['sentence_id','word_position'])\n",
    "    cdf['word_id'] = list(range(cdf.shape[0]))\n",
    "    cdf = cdf[['word_id','sentence_id','word_position','word']]\n",
    "    cdf.index = list(cdf['word_id'])\n",
    "    \n",
    "    idf = df[['label']].reset_index()\n",
    "    idf['split'] = 'display'\n",
    "    idf.index.name='sample_id'\n",
    "    bundle = bt.DataBundle(index = idf, src=cdf)\n",
    "    bundle.additional_information.context_length = context_length\n",
    "    return bundle\n",
    "\n",
    "db = translate_to_sequential(df)"
   ]
  },
  {
   "cell_type": "markdown",
   "id": "9569dbc5",
   "metadata": {},
   "source": [
    "`src` frame contains all word in the sentences;"
   ]
  },
  {
   "cell_type": "code",
   "execution_count": 7,
   "id": "ac9d5a88",
   "metadata": {
    "execution": {
     "iopub.execute_input": "2022-06-27T19:31:57.655644Z",
     "iopub.status.busy": "2022-06-27T19:31:57.654334Z",
     "iopub.status.idle": "2022-06-27T19:31:57.658950Z",
     "shell.execute_reply": "2022-06-27T19:31:57.658214Z"
    }
   },
   "outputs": [
    {
     "data": {
      "text/html": [
       "<div>\n",
       "<style scoped>\n",
       "    .dataframe tbody tr th:only-of-type {\n",
       "        vertical-align: middle;\n",
       "    }\n",
       "\n",
       "    .dataframe tbody tr th {\n",
       "        vertical-align: top;\n",
       "    }\n",
       "\n",
       "    .dataframe thead th {\n",
       "        text-align: right;\n",
       "    }\n",
       "</style>\n",
       "<table border=\"1\" class=\"dataframe\">\n",
       "  <thead>\n",
       "    <tr style=\"text-align: right;\">\n",
       "      <th></th>\n",
       "      <th>word_id</th>\n",
       "      <th>sentence_id</th>\n",
       "      <th>word_position</th>\n",
       "      <th>word</th>\n",
       "    </tr>\n",
       "  </thead>\n",
       "  <tbody>\n",
       "    <tr>\n",
       "      <th>0</th>\n",
       "      <td>0</td>\n",
       "      <td>0</td>\n",
       "      <td>0</td>\n",
       "      <td>A</td>\n",
       "    </tr>\n",
       "    <tr>\n",
       "      <th>1</th>\n",
       "      <td>1</td>\n",
       "      <td>0</td>\n",
       "      <td>1</td>\n",
       "      <td>A</td>\n",
       "    </tr>\n",
       "    <tr>\n",
       "      <th>2</th>\n",
       "      <td>2</td>\n",
       "      <td>0</td>\n",
       "      <td>2</td>\n",
       "      <td>A</td>\n",
       "    </tr>\n",
       "    <tr>\n",
       "      <th>3</th>\n",
       "      <td>3</td>\n",
       "      <td>0</td>\n",
       "      <td>3</td>\n",
       "      <td>A</td>\n",
       "    </tr>\n",
       "    <tr>\n",
       "      <th>4</th>\n",
       "      <td>4</td>\n",
       "      <td>1</td>\n",
       "      <td>0</td>\n",
       "      <td>A</td>\n",
       "    </tr>\n",
       "  </tbody>\n",
       "</table>\n",
       "</div>"
      ],
      "text/plain": [
       "   word_id  sentence_id  word_position word\n",
       "0        0            0              0    A\n",
       "1        1            0              1    A\n",
       "2        2            0              2    A\n",
       "3        3            0              3    A\n",
       "4        4            1              0    A"
      ]
     },
     "execution_count": 7,
     "metadata": {},
     "output_type": "execute_result"
    }
   ],
   "source": [
    "db.src.head()"
   ]
  },
  {
   "cell_type": "markdown",
   "id": "d67c775a",
   "metadata": {},
   "source": [
    "This structure is what we currently think the best approach for NLP:\n",
    "\n",
    "* `word_id` is a unique, always-increasing `id` of the occurence of the word in the text\n",
    "* `sentence_id` is a unique, always-increasing `id` of the word/sentence.\n",
    "* `word_position` additionally positions words within sentences\n",
    "* Additional indexations (like `paragraph_id`, `sentence_position`, etc) are possible.\n"
   ]
  },
  {
   "cell_type": "code",
   "execution_count": 8,
   "id": "28f44749",
   "metadata": {
    "execution": {
     "iopub.execute_input": "2022-06-27T19:31:57.665968Z",
     "iopub.status.busy": "2022-06-27T19:31:57.665417Z",
     "iopub.status.idle": "2022-06-27T19:31:57.667985Z",
     "shell.execute_reply": "2022-06-27T19:31:57.667602Z"
    }
   },
   "outputs": [
    {
     "data": {
      "text/html": [
       "<div>\n",
       "<style scoped>\n",
       "    .dataframe tbody tr th:only-of-type {\n",
       "        vertical-align: middle;\n",
       "    }\n",
       "\n",
       "    .dataframe tbody tr th {\n",
       "        vertical-align: top;\n",
       "    }\n",
       "\n",
       "    .dataframe thead th {\n",
       "        text-align: right;\n",
       "    }\n",
       "</style>\n",
       "<table border=\"1\" class=\"dataframe\">\n",
       "  <thead>\n",
       "    <tr style=\"text-align: right;\">\n",
       "      <th></th>\n",
       "      <th>sentence_id</th>\n",
       "      <th>label</th>\n",
       "      <th>split</th>\n",
       "    </tr>\n",
       "    <tr>\n",
       "      <th>sample_id</th>\n",
       "      <th></th>\n",
       "      <th></th>\n",
       "      <th></th>\n",
       "    </tr>\n",
       "  </thead>\n",
       "  <tbody>\n",
       "    <tr>\n",
       "      <th>0</th>\n",
       "      <td>0</td>\n",
       "      <td>0</td>\n",
       "      <td>display</td>\n",
       "    </tr>\n",
       "    <tr>\n",
       "      <th>1</th>\n",
       "      <td>1</td>\n",
       "      <td>1</td>\n",
       "      <td>display</td>\n",
       "    </tr>\n",
       "    <tr>\n",
       "      <th>2</th>\n",
       "      <td>2</td>\n",
       "      <td>0</td>\n",
       "      <td>display</td>\n",
       "    </tr>\n",
       "    <tr>\n",
       "      <th>3</th>\n",
       "      <td>3</td>\n",
       "      <td>0</td>\n",
       "      <td>display</td>\n",
       "    </tr>\n",
       "    <tr>\n",
       "      <th>4</th>\n",
       "      <td>4</td>\n",
       "      <td>0</td>\n",
       "      <td>display</td>\n",
       "    </tr>\n",
       "  </tbody>\n",
       "</table>\n",
       "</div>"
      ],
      "text/plain": [
       "           sentence_id  label    split\n",
       "sample_id                             \n",
       "0                    0      0  display\n",
       "1                    1      1  display\n",
       "2                    2      0  display\n",
       "3                    3      0  display\n",
       "4                    4      0  display"
      ]
     },
     "execution_count": 8,
     "metadata": {},
     "output_type": "execute_result"
    }
   ],
   "source": [
    "db.index.head()"
   ]
  },
  {
   "cell_type": "markdown",
   "id": "2a3660f7",
   "metadata": {},
   "source": [
    "**Note**: indexation might appear excessive. We just follow the practice from other NLP tasks: there, not all the sentences in the corpus may appear in `index_frame`; as for `src`, in some cases it's handy to have `word_id` as a column, and in other cases -- as index, therefore, index of `src` simply duplicates the `word_id` column."
   ]
  },
  {
   "cell_type": "markdown",
   "id": "58a2072b",
   "metadata": {},
   "source": [
    "Now, our task is to build back the features for each sentence, by taking all the previous words in this sentence, transforming them in the features individually and then combining. This procedure is done by four entities, three basic are:\n",
    "* `ContextBuilder` builds the context, i.e. relation from one instance of `index` entity to several other entities (not necessarily from `index`). \n",
    "* `Extactor` extracts features for each sample in the context.\n",
    "* `Aggregator` then organizes the features so they are in the format, consumable by the network (2D dataframe)\n",
    "\n",
    "There might be multiple extractors and aggregators for each context. Therefore, we add `Finalizer`, that concatenates aggregator's results, and also controls shape of the resulting dataframe, e.g. that even the samples with empty context receive their row in the features, and that all the columns are in their exact place."
   ]
  },
  {
   "cell_type": "markdown",
   "id": "95bc745d",
   "metadata": {},
   "source": [
    "Let's first cover the `ContextBuilder`:"
   ]
  },
  {
   "cell_type": "code",
   "execution_count": 9,
   "id": "1a558c65",
   "metadata": {
    "execution": {
     "iopub.execute_input": "2022-06-27T19:31:57.689133Z",
     "iopub.status.busy": "2022-06-27T19:31:57.681864Z",
     "iopub.status.idle": "2022-06-27T19:31:57.691649Z",
     "shell.execute_reply": "2022-06-27T19:31:57.691980Z"
    }
   },
   "outputs": [
    {
     "data": {
      "text/html": [
       "<div>\n",
       "<style scoped>\n",
       "    .dataframe tbody tr th:only-of-type {\n",
       "        vertical-align: middle;\n",
       "    }\n",
       "\n",
       "    .dataframe tbody tr th {\n",
       "        vertical-align: top;\n",
       "    }\n",
       "\n",
       "    .dataframe thead th {\n",
       "        text-align: right;\n",
       "    }\n",
       "</style>\n",
       "<table border=\"1\" class=\"dataframe\">\n",
       "  <thead>\n",
       "    <tr style=\"text-align: right;\">\n",
       "      <th></th>\n",
       "      <th></th>\n",
       "      <th>word_id</th>\n",
       "      <th>word</th>\n",
       "    </tr>\n",
       "    <tr>\n",
       "      <th>sample_id</th>\n",
       "      <th>word_position</th>\n",
       "      <th></th>\n",
       "      <th></th>\n",
       "    </tr>\n",
       "  </thead>\n",
       "  <tbody>\n",
       "    <tr>\n",
       "      <th rowspan=\"4\" valign=\"top\">0</th>\n",
       "      <th>0</th>\n",
       "      <td>0</td>\n",
       "      <td>A</td>\n",
       "    </tr>\n",
       "    <tr>\n",
       "      <th>1</th>\n",
       "      <td>1</td>\n",
       "      <td>A</td>\n",
       "    </tr>\n",
       "    <tr>\n",
       "      <th>2</th>\n",
       "      <td>2</td>\n",
       "      <td>A</td>\n",
       "    </tr>\n",
       "    <tr>\n",
       "      <th>3</th>\n",
       "      <td>3</td>\n",
       "      <td>A</td>\n",
       "    </tr>\n",
       "    <tr>\n",
       "      <th rowspan=\"4\" valign=\"top\">1</th>\n",
       "      <th>0</th>\n",
       "      <td>4</td>\n",
       "      <td>A</td>\n",
       "    </tr>\n",
       "    <tr>\n",
       "      <th>1</th>\n",
       "      <td>5</td>\n",
       "      <td>A</td>\n",
       "    </tr>\n",
       "    <tr>\n",
       "      <th>2</th>\n",
       "      <td>6</td>\n",
       "      <td>A</td>\n",
       "    </tr>\n",
       "    <tr>\n",
       "      <th>3</th>\n",
       "      <td>7</td>\n",
       "      <td>B</td>\n",
       "    </tr>\n",
       "    <tr>\n",
       "      <th rowspan=\"4\" valign=\"top\">2</th>\n",
       "      <th>0</th>\n",
       "      <td>8</td>\n",
       "      <td>A</td>\n",
       "    </tr>\n",
       "    <tr>\n",
       "      <th>1</th>\n",
       "      <td>9</td>\n",
       "      <td>A</td>\n",
       "    </tr>\n",
       "    <tr>\n",
       "      <th>2</th>\n",
       "      <td>10</td>\n",
       "      <td>A</td>\n",
       "    </tr>\n",
       "    <tr>\n",
       "      <th>3</th>\n",
       "      <td>11</td>\n",
       "      <td>C</td>\n",
       "    </tr>\n",
       "  </tbody>\n",
       "</table>\n",
       "</div>"
      ],
      "text/plain": [
       "                         word_id word\n",
       "sample_id word_position              \n",
       "0         0                    0    A\n",
       "          1                    1    A\n",
       "          2                    2    A\n",
       "          3                    3    A\n",
       "1         0                    4    A\n",
       "          1                    5    A\n",
       "          2                    6    A\n",
       "          3                    7    B\n",
       "2         0                    8    A\n",
       "          1                    9    A\n",
       "          2                   10    A\n",
       "          3                   11    C"
      ]
     },
     "execution_count": 9,
     "metadata": {},
     "output_type": "execute_result"
    }
   ],
   "source": [
    "from tg.common.ml.batched_training import context as btc\n",
    "\n",
    "class SentenceContextBuilder(btc.ContextBuilder):\n",
    "    def build_context(self, ibundle, context_size):\n",
    "        df = ibundle.index_frame[['sentence_id']]\n",
    "        df = df.merge(ibundle.bundle.src.set_index('sentence_id'), left_on='sentence_id', right_index=True)\n",
    "        df = df[['word_position','word_id','word']]\n",
    "        df = df.loc[df.word_position<context_size]\n",
    "        df = df.set_index('word_position', append=True)\n",
    "        return df\n",
    "\n",
    "ibundle = bt.IndexedDataBundle(db.index, db)\n",
    "ibundle_sample = ibundle.change_index(ibundle.index_frame.iloc[:3])\n",
    "context_builder = SentenceContextBuilder()\n",
    "context_builder.fit(ibundle)\n",
    "context_builder.build_context(ibundle_sample, 4)"
   ]
  },
  {
   "cell_type": "markdown",
   "id": "23c4941e",
   "metadata": {},
   "source": [
    "As promised, it builds a relation from each `sample` to several rows in `src`, by different offsets. \n",
    "\n",
    "Now, we can use normal `Exctractor` to extract features. \n",
    "\n",
    "Also, we will use aggregator that simply concatenates the features for different samples in context, and `PandasFinalizer`, which should be always for every context extraction in 2D format. "
   ]
  },
  {
   "cell_type": "code",
   "execution_count": 10,
   "id": "09310646",
   "metadata": {
    "execution": {
     "iopub.execute_input": "2022-06-27T19:31:57.700381Z",
     "iopub.status.busy": "2022-06-27T19:31:57.698097Z",
     "iopub.status.idle": "2022-06-27T19:31:57.768632Z",
     "shell.execute_reply": "2022-06-27T19:31:57.768020Z"
    }
   },
   "outputs": [
    {
     "data": {
      "text/html": [
       "<div>\n",
       "<style scoped>\n",
       "    .dataframe tbody tr th:only-of-type {\n",
       "        vertical-align: middle;\n",
       "    }\n",
       "\n",
       "    .dataframe tbody tr th {\n",
       "        vertical-align: top;\n",
       "    }\n",
       "\n",
       "    .dataframe thead th {\n",
       "        text-align: right;\n",
       "    }\n",
       "</style>\n",
       "<table border=\"1\" class=\"dataframe\">\n",
       "  <thead>\n",
       "    <tr style=\"text-align: right;\">\n",
       "      <th></th>\n",
       "      <th>f0a0_word_A_at_0</th>\n",
       "      <th>f0a0_word_A_at_1</th>\n",
       "      <th>f0a0_word_A_at_2</th>\n",
       "      <th>f0a0_word_A_at_3</th>\n",
       "      <th>f0a0_word_B_at_0</th>\n",
       "      <th>f0a0_word_B_at_1</th>\n",
       "      <th>f0a0_word_B_at_2</th>\n",
       "      <th>f0a0_word_B_at_3</th>\n",
       "      <th>f0a0_word_C_at_0</th>\n",
       "      <th>f0a0_word_C_at_1</th>\n",
       "      <th>f0a0_word_C_at_2</th>\n",
       "      <th>f0a0_word_C_at_3</th>\n",
       "    </tr>\n",
       "    <tr>\n",
       "      <th>sample_id</th>\n",
       "      <th></th>\n",
       "      <th></th>\n",
       "      <th></th>\n",
       "      <th></th>\n",
       "      <th></th>\n",
       "      <th></th>\n",
       "      <th></th>\n",
       "      <th></th>\n",
       "      <th></th>\n",
       "      <th></th>\n",
       "      <th></th>\n",
       "      <th></th>\n",
       "    </tr>\n",
       "  </thead>\n",
       "  <tbody>\n",
       "    <tr>\n",
       "      <th>0</th>\n",
       "      <td>1.0</td>\n",
       "      <td>1.0</td>\n",
       "      <td>1.0</td>\n",
       "      <td>1.0</td>\n",
       "      <td>0.0</td>\n",
       "      <td>0.0</td>\n",
       "      <td>0.0</td>\n",
       "      <td>0.0</td>\n",
       "      <td>0.0</td>\n",
       "      <td>0.0</td>\n",
       "      <td>0.0</td>\n",
       "      <td>0.0</td>\n",
       "    </tr>\n",
       "    <tr>\n",
       "      <th>1</th>\n",
       "      <td>1.0</td>\n",
       "      <td>1.0</td>\n",
       "      <td>1.0</td>\n",
       "      <td>0.0</td>\n",
       "      <td>0.0</td>\n",
       "      <td>0.0</td>\n",
       "      <td>0.0</td>\n",
       "      <td>1.0</td>\n",
       "      <td>0.0</td>\n",
       "      <td>0.0</td>\n",
       "      <td>0.0</td>\n",
       "      <td>0.0</td>\n",
       "    </tr>\n",
       "    <tr>\n",
       "      <th>2</th>\n",
       "      <td>1.0</td>\n",
       "      <td>1.0</td>\n",
       "      <td>1.0</td>\n",
       "      <td>0.0</td>\n",
       "      <td>0.0</td>\n",
       "      <td>0.0</td>\n",
       "      <td>0.0</td>\n",
       "      <td>0.0</td>\n",
       "      <td>0.0</td>\n",
       "      <td>0.0</td>\n",
       "      <td>0.0</td>\n",
       "      <td>1.0</td>\n",
       "    </tr>\n",
       "  </tbody>\n",
       "</table>\n",
       "</div>"
      ],
      "text/plain": [
       "           f0a0_word_A_at_0  f0a0_word_A_at_1  f0a0_word_A_at_2  \\\n",
       "sample_id                                                         \n",
       "0                       1.0               1.0               1.0   \n",
       "1                       1.0               1.0               1.0   \n",
       "2                       1.0               1.0               1.0   \n",
       "\n",
       "           f0a0_word_A_at_3  f0a0_word_B_at_0  f0a0_word_B_at_1  \\\n",
       "sample_id                                                         \n",
       "0                       1.0               0.0               0.0   \n",
       "1                       0.0               0.0               0.0   \n",
       "2                       0.0               0.0               0.0   \n",
       "\n",
       "           f0a0_word_B_at_2  f0a0_word_B_at_3  f0a0_word_C_at_0  \\\n",
       "sample_id                                                         \n",
       "0                       0.0               0.0               0.0   \n",
       "1                       0.0               1.0               0.0   \n",
       "2                       0.0               0.0               0.0   \n",
       "\n",
       "           f0a0_word_C_at_1  f0a0_word_C_at_2  f0a0_word_C_at_3  \n",
       "sample_id                                                        \n",
       "0                       0.0               0.0               0.0  \n",
       "1                       0.0               0.0               0.0  \n",
       "2                       0.0               0.0               1.0  "
      ]
     },
     "execution_count": 10,
     "metadata": {},
     "output_type": "execute_result"
    }
   ],
   "source": [
    "def build_context_extractor(context_length, aggregator):\n",
    "    context_extractor = btc.ContextExtractor(\n",
    "        name = 'features',\n",
    "        context_size = context_length,\n",
    "        context_builder = SentenceContextBuilder(),\n",
    "        feature_extractor_factory = btc.SimpleExtractorToAggregatorFactory(\n",
    "            bt.PlainExtractor.build('word').index().apply(\n",
    "                take_columns=['word'], \n",
    "                transformer = dft.DataFrameTransformerFactory.default_factory()\n",
    "            ),\n",
    "            aggregator\n",
    "        ),\n",
    "        finalizer = btc.PandasAggregationFinalizer(\n",
    "            add_presence_columns=False\n",
    "        ),\n",
    "        debug = True\n",
    "    )\n",
    "    return context_extractor\n",
    "\n",
    "context_extractor = build_context_extractor(\n",
    "    db.additional_information.context_length,\n",
    "    btc.PivotAggregator()\n",
    ")\n",
    "context_extractor.fit(ibundle)\n",
    "context_extractor.extract(ibundle_sample)"
   ]
  },
  {
   "cell_type": "markdown",
   "id": "9c7a69ea",
   "metadata": {},
   "source": [
    "Note that it looks exactly as a batch in the very first section. But this time the dataframe is assembled by the components from `tg.common.ml.batched_training.context`, and it's shape and nature can be altered by changing these components, thus enabling different architectures for the networks (including the recurrent ones)"
   ]
  },
  {
   "cell_type": "markdown",
   "id": "0446b007",
   "metadata": {},
   "source": [
    "`ContextExtractor` performs non-trivial functionality, and stepwise debugging may be needed. For this, `debug` argument can be used, exactly as it was the case with `BatchedTrainingTask` (and it also should be **always off** in production due to the same reasons)\n",
    "\n",
    "We can explore intermediate stages within `ContextExtractors`, e.g. the output of the `Extractor`:"
   ]
  },
  {
   "cell_type": "code",
   "execution_count": 11,
   "id": "b3f83126",
   "metadata": {
    "execution": {
     "iopub.execute_input": "2022-06-27T19:31:57.780236Z",
     "iopub.status.busy": "2022-06-27T19:31:57.779456Z",
     "iopub.status.idle": "2022-06-27T19:31:57.782137Z",
     "shell.execute_reply": "2022-06-27T19:31:57.782596Z"
    }
   },
   "outputs": [
    {
     "data": {
      "text/html": [
       "<div>\n",
       "<style scoped>\n",
       "    .dataframe tbody tr th:only-of-type {\n",
       "        vertical-align: middle;\n",
       "    }\n",
       "\n",
       "    .dataframe tbody tr th {\n",
       "        vertical-align: top;\n",
       "    }\n",
       "\n",
       "    .dataframe thead th {\n",
       "        text-align: right;\n",
       "    }\n",
       "</style>\n",
       "<table border=\"1\" class=\"dataframe\">\n",
       "  <thead>\n",
       "    <tr style=\"text-align: right;\">\n",
       "      <th></th>\n",
       "      <th></th>\n",
       "      <th>word_A</th>\n",
       "      <th>word_B</th>\n",
       "      <th>word_C</th>\n",
       "    </tr>\n",
       "    <tr>\n",
       "      <th>sample_id</th>\n",
       "      <th>word_position</th>\n",
       "      <th></th>\n",
       "      <th></th>\n",
       "      <th></th>\n",
       "    </tr>\n",
       "  </thead>\n",
       "  <tbody>\n",
       "    <tr>\n",
       "      <th rowspan=\"4\" valign=\"top\">0</th>\n",
       "      <th>0</th>\n",
       "      <td>1.0</td>\n",
       "      <td>0.0</td>\n",
       "      <td>0.0</td>\n",
       "    </tr>\n",
       "    <tr>\n",
       "      <th>1</th>\n",
       "      <td>1.0</td>\n",
       "      <td>0.0</td>\n",
       "      <td>0.0</td>\n",
       "    </tr>\n",
       "    <tr>\n",
       "      <th>2</th>\n",
       "      <td>1.0</td>\n",
       "      <td>0.0</td>\n",
       "      <td>0.0</td>\n",
       "    </tr>\n",
       "    <tr>\n",
       "      <th>3</th>\n",
       "      <td>1.0</td>\n",
       "      <td>0.0</td>\n",
       "      <td>0.0</td>\n",
       "    </tr>\n",
       "    <tr>\n",
       "      <th>1</th>\n",
       "      <th>0</th>\n",
       "      <td>1.0</td>\n",
       "      <td>0.0</td>\n",
       "      <td>0.0</td>\n",
       "    </tr>\n",
       "  </tbody>\n",
       "</table>\n",
       "</div>"
      ],
      "text/plain": [
       "                         word_A  word_B  word_C\n",
       "sample_id word_position                        \n",
       "0         0                 1.0     0.0     0.0\n",
       "          1                 1.0     0.0     0.0\n",
       "          2                 1.0     0.0     0.0\n",
       "          3                 1.0     0.0     0.0\n",
       "1         0                 1.0     0.0     0.0"
      ]
     },
     "execution_count": 11,
     "metadata": {},
     "output_type": "execute_result"
    }
   ],
   "source": [
    "context_extractor.data_.feature_dfs['f0'].head()"
   ]
  },
  {
   "cell_type": "markdown",
   "id": "97912838",
   "metadata": {},
   "source": [
    "Now, we will assemble the neural network to train on this data. "
   ]
  },
  {
   "cell_type": "code",
   "execution_count": 12,
   "id": "2dbb5cfe",
   "metadata": {
    "execution": {
     "iopub.execute_input": "2022-06-27T19:31:57.798575Z",
     "iopub.status.busy": "2022-06-27T19:31:57.790592Z",
     "iopub.status.idle": "2022-06-27T19:32:04.046913Z",
     "shell.execute_reply": "2022-06-27T19:32:04.046540Z"
    }
   },
   "outputs": [
    {
     "data": {
      "image/png": "[encoded data removed]",
      "text/plain": [
       "<Figure size 432x288 with 1 Axes>"
      ]
     },
     "metadata": {
      "needs_background": "light"
     },
     "output_type": "display_data"
    }
   ],
   "source": [
    "def create_sequential_task(context_extractor, network_factory, lr = 1, epochs = 100):\n",
    "    task = btt.TorchTrainingTask(\n",
    "        bt.TrainingSettings(epoch_count=epochs),\n",
    "        btt.TorchTrainingSettings(\n",
    "            optimizer_ctor=btt.OptimizerConstructor('torch.optim:SGD', lr=lr)\n",
    "        ),\n",
    "        btt.PredefinedExtractorFactory(\n",
    "            context_extractor,\n",
    "            bt.PlainExtractor.build('label').index().apply(take_columns='label')\n",
    "        ),\n",
    "        network_factory,\n",
    "        bt.MetricPool().add_sklearn(roc_auc_score)\n",
    "    )\n",
    "    return task\n",
    "\n",
    "task = create_sequential_task(\n",
    "    build_context_extractor(\n",
    "        db.additional_information.context_length,\n",
    "        btc.PivotAggregator()\n",
    "    ),\n",
    "    btt.FullyConnectedNetwork.Factory([100,1]).prepend_extraction(['features'])\n",
    ")\n",
    "    \n",
    "get_roc_auc_curve('', task, db).plot()\n",
    "pass"
   ]
  },
  {
   "cell_type": "markdown",
   "id": "c423bb32",
   "metadata": {},
   "source": [
    "So, the system achieved the same performance at the same time, as a naive implementation, confirming the correctness of the implementation (of course, the used classes are also covered by tests).\n",
    "\n",
    "Let's now explore the task a bit further and see how the context length affects the performance:"
   ]
  },
  {
   "cell_type": "code",
   "execution_count": 13,
   "id": "00d0bfbb",
   "metadata": {
    "execution": {
     "iopub.execute_input": "2022-06-27T19:32:04.049123Z",
     "iopub.status.busy": "2022-06-27T19:32:04.048717Z",
     "iopub.status.idle": "2022-06-27T19:32:23.991275Z",
     "shell.execute_reply": "2022-06-27T19:32:23.991637Z"
    }
   },
   "outputs": [
    {
     "data": {
      "application/vnd.jupyter.widget-view+json": {
       "model_id": "39b0ccfd53314847a569801da00ac618",
       "version_major": 2,
       "version_minor": 0
      },
      "text/plain": [
       "  0%|          | 0/4 [00:00<?, ?it/s]"
      ]
     },
     "metadata": {},
     "output_type": "display_data"
    },
    {
     "data": {
      "image/png": "[encoded data removed]",
      "text/plain": [
       "<Figure size 432x288 with 1 Axes>"
      ]
     },
     "metadata": {
      "needs_background": "light"
     },
     "output_type": "display_data"
    }
   ],
   "source": [
    "curves = []\n",
    "for i in Query.en(range(1,db.additional_information.context_length+1)).feed(fluq.with_progress_bar()):\n",
    "    task = create_sequential_task(\n",
    "        build_context_extractor(i, btc.PivotAggregator()),\n",
    "        btt.FullyConnectedNetwork.Factory([100,1]).prepend_extraction(['features'])\n",
    "    )\n",
    "    curves.append(get_roc_auc_curve(i, task, db))\n",
    "pd.DataFrame(curves).transpose().plot()\n",
    "pass"
   ]
  },
  {
   "cell_type": "markdown",
   "id": "7dcfb020",
   "metadata": {},
   "source": [
    "Unsurprisingly, we see that if the context is smaller that the actual length of the sentences in our langauge $L$, the performance decreases."
   ]
  },
  {
   "cell_type": "markdown",
   "id": "3e7d25a0",
   "metadata": {},
   "source": [
    "`PivotAggregator` is the most memory-consuming way of representing the contextual data. In this example it's fine, but if context consists of dozens of samples, each having dozens of extracted columns, `PivotAggregator` will produce a very huge matrix that may overfill the memory. \n",
    "\n",
    "This is why you may also want to use other aggregators. For instance, `GroupByAggregator` will process the `features` dataframe with grouping by `sample_id` and applying the aggregating functions:"
   ]
  },
  {
   "cell_type": "code",
   "execution_count": 14,
   "id": "8b8861ff",
   "metadata": {
    "execution": {
     "iopub.execute_input": "2022-06-27T19:32:24.004519Z",
     "iopub.status.busy": "2022-06-27T19:32:24.000041Z",
     "iopub.status.idle": "2022-06-27T19:32:24.086377Z",
     "shell.execute_reply": "2022-06-27T19:32:24.085930Z"
    }
   },
   "outputs": [
    {
     "data": {
      "text/html": [
       "<div>\n",
       "<style scoped>\n",
       "    .dataframe tbody tr th:only-of-type {\n",
       "        vertical-align: middle;\n",
       "    }\n",
       "\n",
       "    .dataframe tbody tr th {\n",
       "        vertical-align: top;\n",
       "    }\n",
       "\n",
       "    .dataframe thead th {\n",
       "        text-align: right;\n",
       "    }\n",
       "</style>\n",
       "<table border=\"1\" class=\"dataframe\">\n",
       "  <thead>\n",
       "    <tr style=\"text-align: right;\">\n",
       "      <th></th>\n",
       "      <th>word_A_mean</th>\n",
       "      <th>word_A_max</th>\n",
       "      <th>word_B_mean</th>\n",
       "      <th>word_B_max</th>\n",
       "      <th>word_C_mean</th>\n",
       "      <th>word_C_max</th>\n",
       "    </tr>\n",
       "    <tr>\n",
       "      <th>sample_id</th>\n",
       "      <th></th>\n",
       "      <th></th>\n",
       "      <th></th>\n",
       "      <th></th>\n",
       "      <th></th>\n",
       "      <th></th>\n",
       "    </tr>\n",
       "  </thead>\n",
       "  <tbody>\n",
       "    <tr>\n",
       "      <th>0</th>\n",
       "      <td>1.00</td>\n",
       "      <td>1.0</td>\n",
       "      <td>0.00</td>\n",
       "      <td>0.0</td>\n",
       "      <td>0.00</td>\n",
       "      <td>0.0</td>\n",
       "    </tr>\n",
       "    <tr>\n",
       "      <th>1</th>\n",
       "      <td>0.75</td>\n",
       "      <td>1.0</td>\n",
       "      <td>0.25</td>\n",
       "      <td>1.0</td>\n",
       "      <td>0.00</td>\n",
       "      <td>0.0</td>\n",
       "    </tr>\n",
       "    <tr>\n",
       "      <th>2</th>\n",
       "      <td>0.75</td>\n",
       "      <td>1.0</td>\n",
       "      <td>0.00</td>\n",
       "      <td>0.0</td>\n",
       "      <td>0.25</td>\n",
       "      <td>1.0</td>\n",
       "    </tr>\n",
       "    <tr>\n",
       "      <th>3</th>\n",
       "      <td>0.75</td>\n",
       "      <td>1.0</td>\n",
       "      <td>0.25</td>\n",
       "      <td>1.0</td>\n",
       "      <td>0.00</td>\n",
       "      <td>0.0</td>\n",
       "    </tr>\n",
       "    <tr>\n",
       "      <th>4</th>\n",
       "      <td>0.50</td>\n",
       "      <td>1.0</td>\n",
       "      <td>0.50</td>\n",
       "      <td>1.0</td>\n",
       "      <td>0.00</td>\n",
       "      <td>0.0</td>\n",
       "    </tr>\n",
       "  </tbody>\n",
       "</table>\n",
       "</div>"
      ],
      "text/plain": [
       "           word_A_mean  word_A_max  word_B_mean  word_B_max  word_C_mean  \\\n",
       "sample_id                                                                  \n",
       "0                 1.00         1.0         0.00         0.0         0.00   \n",
       "1                 0.75         1.0         0.25         1.0         0.00   \n",
       "2                 0.75         1.0         0.00         0.0         0.25   \n",
       "3                 0.75         1.0         0.25         1.0         0.00   \n",
       "4                 0.50         1.0         0.50         1.0         0.00   \n",
       "\n",
       "           word_C_max  \n",
       "sample_id              \n",
       "0                 0.0  \n",
       "1                 0.0  \n",
       "2                 1.0  \n",
       "3                 0.0  \n",
       "4                 0.0  "
      ]
     },
     "execution_count": 14,
     "metadata": {},
     "output_type": "execute_result"
    }
   ],
   "source": [
    "context_extractor = build_context_extractor(i, btc.GroupByAggregator(['mean','max']))\n",
    "task = create_sequential_task(\n",
    "    context_extractor,\n",
    "    btt.FullyConnectedNetwork.Factory([100,1]).prepend_extraction('features')\n",
    ")\n",
    "batch = task.generate_sample_batch(db)\n",
    "Query.en(context_extractor.data_.agg_dfs.values()).first().head()"
   ]
  },
  {
   "cell_type": "markdown",
   "id": "f9436aa8",
   "metadata": {},
   "source": [
    "Let's evaluate performance of this system as well"
   ]
  },
  {
   "cell_type": "code",
   "execution_count": 15,
   "id": "9c85670e",
   "metadata": {
    "execution": {
     "iopub.execute_input": "2022-06-27T19:32:24.107885Z",
     "iopub.status.busy": "2022-06-27T19:32:24.099780Z",
     "iopub.status.idle": "2022-06-27T19:32:43.599079Z",
     "shell.execute_reply": "2022-06-27T19:32:43.598615Z"
    }
   },
   "outputs": [
    {
     "data": {
      "application/vnd.jupyter.widget-view+json": {
       "model_id": "6fb36d6f3b13471ab6f1ded4f1007518",
       "version_major": 2,
       "version_minor": 0
      },
      "text/plain": [
       "  0%|          | 0/4 [00:00<?, ?it/s]"
      ]
     },
     "metadata": {},
     "output_type": "display_data"
    },
    {
     "data": {
      "image/png": "[encoded data removed]",
      "text/plain": [
       "<Figure size 432x288 with 1 Axes>"
      ]
     },
     "metadata": {
      "needs_background": "light"
     },
     "output_type": "display_data"
    }
   ],
   "source": [
    "curves = []\n",
    "for i in Query.en(range(1,db.additional_information.context_length+1)).feed(fluq.with_progress_bar()):\n",
    "    task = create_sequential_task(\n",
    "        build_context_extractor(i, btc.GroupByAggregator(['mean', 'max'])),\n",
    "        btt.FullyConnectedNetwork.Factory([100,1]).prepend_extraction('features')\n",
    "    )\n",
    "    curves.append(get_roc_auc_curve(i, task, db))\n",
    "pd.DataFrame(curves).transpose().plot()\n",
    "pass"
   ]
  },
  {
   "cell_type": "markdown",
   "id": "a8ac080d",
   "metadata": {},
   "source": [
    "Of course, it does not work well, because we effectively destroy the information about the order of the letter in the word. \n",
    "\n",
    "But maybe we can invent some custom aggregator, which averages elements of the context with different weights, so the information is somehow preserved:"
   ]
  },
  {
   "cell_type": "code",
   "execution_count": 16,
   "id": "71cf3b59",
   "metadata": {
    "execution": {
     "iopub.execute_input": "2022-06-27T19:32:43.618599Z",
     "iopub.status.busy": "2022-06-27T19:32:43.616359Z",
     "iopub.status.idle": "2022-06-27T19:32:43.700330Z",
     "shell.execute_reply": "2022-06-27T19:32:43.700694Z"
    }
   },
   "outputs": [
    {
     "data": {
      "text/html": [
       "<div>\n",
       "<style scoped>\n",
       "    .dataframe tbody tr th:only-of-type {\n",
       "        vertical-align: middle;\n",
       "    }\n",
       "\n",
       "    .dataframe tbody tr th {\n",
       "        vertical-align: top;\n",
       "    }\n",
       "\n",
       "    .dataframe thead th {\n",
       "        text-align: right;\n",
       "    }\n",
       "</style>\n",
       "<table border=\"1\" class=\"dataframe\">\n",
       "  <thead>\n",
       "    <tr style=\"text-align: right;\">\n",
       "      <th></th>\n",
       "      <th>word_A</th>\n",
       "      <th>word_B</th>\n",
       "      <th>word_C</th>\n",
       "    </tr>\n",
       "    <tr>\n",
       "      <th>sample_id</th>\n",
       "      <th></th>\n",
       "      <th></th>\n",
       "      <th></th>\n",
       "    </tr>\n",
       "  </thead>\n",
       "  <tbody>\n",
       "    <tr>\n",
       "      <th>0</th>\n",
       "      <td>0.520833</td>\n",
       "      <td>0.000000</td>\n",
       "      <td>0.0000</td>\n",
       "    </tr>\n",
       "    <tr>\n",
       "      <th>1</th>\n",
       "      <td>0.458333</td>\n",
       "      <td>0.062500</td>\n",
       "      <td>0.0000</td>\n",
       "    </tr>\n",
       "    <tr>\n",
       "      <th>2</th>\n",
       "      <td>0.458333</td>\n",
       "      <td>0.000000</td>\n",
       "      <td>0.0625</td>\n",
       "    </tr>\n",
       "    <tr>\n",
       "      <th>3</th>\n",
       "      <td>0.437500</td>\n",
       "      <td>0.083333</td>\n",
       "      <td>0.0000</td>\n",
       "    </tr>\n",
       "    <tr>\n",
       "      <th>4</th>\n",
       "      <td>0.375000</td>\n",
       "      <td>0.145833</td>\n",
       "      <td>0.0000</td>\n",
       "    </tr>\n",
       "  </tbody>\n",
       "</table>\n",
       "</div>"
      ],
      "text/plain": [
       "             word_A    word_B  word_C\n",
       "sample_id                            \n",
       "0          0.520833  0.000000  0.0000\n",
       "1          0.458333  0.062500  0.0000\n",
       "2          0.458333  0.000000  0.0625\n",
       "3          0.437500  0.083333  0.0000\n",
       "4          0.375000  0.145833  0.0000"
      ]
     },
     "execution_count": 16,
     "metadata": {},
     "output_type": "execute_result"
    }
   ],
   "source": [
    "class CustomAggregator(btc.ContextAggregator):\n",
    "    def aggregate_context(self, features_df):\n",
    "        names = features_df.index.names\n",
    "        if names[0] is None:\n",
    "            raise ValueError('There is `None` in the features df index. This aggregator requires you to set the name for index of your samples')\n",
    "        columns = features_df.columns\n",
    "        df = features_df.reset_index()\n",
    "        for c in columns:\n",
    "            df[c] = df[c]/(df[names[1]]+1)\n",
    "        df = df.groupby(names[0])[columns].mean()\n",
    "        return df\n",
    "    \n",
    "context_extractor = build_context_extractor(i, CustomAggregator())\n",
    "task = create_sequential_task(\n",
    "    context_extractor,\n",
    "    btt.FullyConnectedNetwork.Factory([100,1]).prepend_extraction('features')\n",
    ")\n",
    "batch = task.generate_sample_batch(db)\n",
    "Query.en(context_extractor.data_.agg_dfs.values()).first().head()"
   ]
  },
  {
   "cell_type": "code",
   "execution_count": 17,
   "id": "512564ea",
   "metadata": {
    "execution": {
     "iopub.execute_input": "2022-06-27T19:32:43.721304Z",
     "iopub.status.busy": "2022-06-27T19:32:43.720493Z",
     "iopub.status.idle": "2022-06-27T19:33:02.068588Z",
     "shell.execute_reply": "2022-06-27T19:33:02.069727Z"
    }
   },
   "outputs": [
    {
     "data": {
      "application/vnd.jupyter.widget-view+json": {
       "model_id": "a9be211aed91426d8366add474bd0af3",
       "version_major": 2,
       "version_minor": 0
      },
      "text/plain": [
       "  0%|          | 0/4 [00:00<?, ?it/s]"
      ]
     },
     "metadata": {},
     "output_type": "display_data"
    },
    {
     "data": {
      "image/png": "[encoded data removed]",
      "text/plain": [
       "<Figure size 432x288 with 1 Axes>"
      ]
     },
     "metadata": {
      "needs_background": "light"
     },
     "output_type": "display_data"
    }
   ],
   "source": [
    "curves = []\n",
    "for i in Query.en(range(1,db.additional_information.context_length+1)).feed(fluq.with_progress_bar()):\n",
    "    task = create_sequential_task(\n",
    "        build_context_extractor(i, CustomAggregator()),\n",
    "        btt.FullyConnectedNetwork.Factory([100,1]).prepend_extraction('features')\n",
    "    )\n",
    "    curves.append(get_roc_auc_curve(i, task, db))\n",
    "pd.DataFrame(curves).transpose().plot()\n",
    "pass"
   ]
  },
  {
   "cell_type": "markdown",
   "id": "ac9a77f9",
   "metadata": {},
   "source": [
    "Well, sounded good, didn't work."
   ]
  },
  {
   "cell_type": "markdown",
   "id": "0c578047",
   "metadata": {},
   "source": [
    "## Caching contextual features"
   ]
  },
  {
   "cell_type": "markdown",
   "id": "b67a0b5e",
   "metadata": {},
   "source": [
    "In some cases, contextual features are very large. If we had context length of 10 and 10 letters, we would have 100-fold increase of the size for index in the intermediate tables. This might overfill the memory, and this is why we compute the contextual features for the batch instead of the whole index.\n",
    "\n",
    "However, that might bring the performance issues, as the contextual features are computed repeatedly, in each epoch. \n",
    "\n",
    "To offer a balance for that, we offer `PrecomputingExtractor`. This is a decorator that runs an arbitrary extractor in the beginning of the training, fits it, computes the features for the whole index and stores in the bundle."
   ]
  },
  {
   "cell_type": "code",
   "execution_count": 18,
   "id": "ea24b2be",
   "metadata": {
    "execution": {
     "iopub.execute_input": "2022-06-27T19:33:02.114230Z",
     "iopub.status.busy": "2022-06-27T19:33:02.105234Z",
     "iopub.status.idle": "2022-06-27T19:33:02.269648Z",
     "shell.execute_reply": "2022-06-27T19:33:02.272071Z"
    }
   },
   "outputs": [
    {
     "data": {
      "text/html": [
       "<div>\n",
       "<style scoped>\n",
       "    .dataframe tbody tr th:only-of-type {\n",
       "        vertical-align: middle;\n",
       "    }\n",
       "\n",
       "    .dataframe tbody tr th {\n",
       "        vertical-align: top;\n",
       "    }\n",
       "\n",
       "    .dataframe thead th {\n",
       "        text-align: right;\n",
       "    }\n",
       "</style>\n",
       "<table border=\"1\" class=\"dataframe\">\n",
       "  <thead>\n",
       "    <tr style=\"text-align: right;\">\n",
       "      <th></th>\n",
       "      <th>f0a0_word_A_mean</th>\n",
       "      <th>f0a0_word_A_max</th>\n",
       "      <th>f0a0_word_B_mean</th>\n",
       "      <th>f0a0_word_B_max</th>\n",
       "      <th>f0a0_word_C_mean</th>\n",
       "      <th>f0a0_word_C_max</th>\n",
       "    </tr>\n",
       "    <tr>\n",
       "      <th>sample_id</th>\n",
       "      <th></th>\n",
       "      <th></th>\n",
       "      <th></th>\n",
       "      <th></th>\n",
       "      <th></th>\n",
       "      <th></th>\n",
       "    </tr>\n",
       "  </thead>\n",
       "  <tbody>\n",
       "    <tr>\n",
       "      <th>0</th>\n",
       "      <td>1.00</td>\n",
       "      <td>1.0</td>\n",
       "      <td>0.00</td>\n",
       "      <td>0.0</td>\n",
       "      <td>0.00</td>\n",
       "      <td>0.0</td>\n",
       "    </tr>\n",
       "    <tr>\n",
       "      <th>1</th>\n",
       "      <td>0.75</td>\n",
       "      <td>1.0</td>\n",
       "      <td>0.25</td>\n",
       "      <td>1.0</td>\n",
       "      <td>0.00</td>\n",
       "      <td>0.0</td>\n",
       "    </tr>\n",
       "    <tr>\n",
       "      <th>2</th>\n",
       "      <td>0.75</td>\n",
       "      <td>1.0</td>\n",
       "      <td>0.00</td>\n",
       "      <td>0.0</td>\n",
       "      <td>0.25</td>\n",
       "      <td>1.0</td>\n",
       "    </tr>\n",
       "    <tr>\n",
       "      <th>3</th>\n",
       "      <td>0.75</td>\n",
       "      <td>1.0</td>\n",
       "      <td>0.25</td>\n",
       "      <td>1.0</td>\n",
       "      <td>0.00</td>\n",
       "      <td>0.0</td>\n",
       "    </tr>\n",
       "    <tr>\n",
       "      <th>4</th>\n",
       "      <td>0.50</td>\n",
       "      <td>1.0</td>\n",
       "      <td>0.50</td>\n",
       "      <td>1.0</td>\n",
       "      <td>0.00</td>\n",
       "      <td>0.0</td>\n",
       "    </tr>\n",
       "  </tbody>\n",
       "</table>\n",
       "</div>"
      ],
      "text/plain": [
       "           f0a0_word_A_mean  f0a0_word_A_max  f0a0_word_B_mean  \\\n",
       "sample_id                                                        \n",
       "0                      1.00              1.0              0.00   \n",
       "1                      0.75              1.0              0.25   \n",
       "2                      0.75              1.0              0.00   \n",
       "3                      0.75              1.0              0.25   \n",
       "4                      0.50              1.0              0.50   \n",
       "\n",
       "           f0a0_word_B_max  f0a0_word_C_mean  f0a0_word_C_max  \n",
       "sample_id                                                      \n",
       "0                      0.0              0.00              0.0  \n",
       "1                      1.0              0.00              0.0  \n",
       "2                      0.0              0.25              1.0  \n",
       "3                      1.0              0.00              0.0  \n",
       "4                      1.0              0.00              0.0  "
      ]
     },
     "execution_count": 18,
     "metadata": {},
     "output_type": "execute_result"
    }
   ],
   "source": [
    "import copy \n",
    "\n",
    "context_extractor = build_context_extractor(i, btc.GroupByAggregator(['mean','max']))\n",
    "precompuring_extractor = bt.PrecomputingExtractor(\n",
    "    name = \"precomputed_features\",\n",
    "    inner_extractor = context_extractor)\n",
    "ibundle_test = copy.deepcopy(ibundle)\n",
    "precompuring_extractor.fit(ibundle)\n",
    "ibundle.bundle.precomputed_features.head()"
   ]
  },
  {
   "cell_type": "markdown",
   "id": "45c82fb7",
   "metadata": {},
   "source": [
    "As we see, the features were precomputed and added in `fit` method, which is called once before all the training start. The implementation will work for `BatchedTrainingTask.predict` method, as `PrecomputingExtractor`, when fitted, computes features in `preprocess_bundle` method, called by `predict`."
   ]
  },
  {
   "cell_type": "markdown",
   "id": "f31577e8",
   "metadata": {},
   "source": [
    "## LSTM"
   ]
  },
  {
   "cell_type": "markdown",
   "id": "8d6302e7",
   "metadata": {},
   "source": [
    "LSTM network, and, generally, recurrent neural networks are designed specifically for the tasks with context. So it's natural to try them for our tasks.\n",
    "\n",
    "These networks, however, require 3-dimensional tensor as an input. So, we will need to modify the `ContextExtractor` in the following way:"
   ]
  },
  {
   "cell_type": "code",
   "execution_count": 19,
   "id": "d781d4d6",
   "metadata": {
    "execution": {
     "iopub.execute_input": "2022-06-27T19:33:02.289203Z",
     "iopub.status.busy": "2022-06-27T19:33:02.278764Z",
     "iopub.status.idle": "2022-06-27T19:33:02.406093Z",
     "shell.execute_reply": "2022-06-27T19:33:02.405294Z"
    }
   },
   "outputs": [],
   "source": [
    "def build_lstm_extractor(context_length):\n",
    "    context_extractor = btc.ContextExtractor(\n",
    "        name = 'features',\n",
    "        context_size = context_length,\n",
    "        context_builder = SentenceContextBuilder(),\n",
    "        feature_extractor_factory = btc.SimpleExtractorToAggregatorFactory(\n",
    "            bt.PlainExtractor.build('word').index().apply(\n",
    "                take_columns=['word'], \n",
    "                transformer = dft.DataFrameTransformerFactory.default_factory()\n",
    "            )),\n",
    "        finalizer = btt.LSTMFinalizer()\n",
    "    )\n",
    "    return context_extractor\n",
    "\n",
    "lstm_extractor = build_lstm_extractor(ibundle.bundle.additional_information.context_length)\n",
    "lstm_extractor.fit(ibundle)\n",
    "value = lstm_extractor.extract(ibundle_sample)"
   ]
  },
  {
   "cell_type": "markdown",
   "id": "40eb190a",
   "metadata": {},
   "source": [
    "Here, we \n",
    "\n",
    "* don't use the aggregator. Aggregators are converting the context with features into 2-dimensional structure, which is exactly what we want to avoid.\n",
    "* use `LSTMFinalizer` instead of `PandasFinalizer`\n",
    "\n",
    "`LSTMFinalizer` looks at the feature table and converts it into tensor with the right dimensions:"
   ]
  },
  {
   "cell_type": "code",
   "execution_count": 20,
   "id": "1cc0007f",
   "metadata": {
    "execution": {
     "iopub.execute_input": "2022-06-27T19:33:02.429010Z",
     "iopub.status.busy": "2022-06-27T19:33:02.428049Z",
     "iopub.status.idle": "2022-06-27T19:33:02.519500Z",
     "shell.execute_reply": "2022-06-27T19:33:02.521051Z"
    }
   },
   "outputs": [
    {
     "data": {
      "text/plain": [
       "tensor([[[1., 0., 0.],\n",
       "         [1., 0., 0.],\n",
       "         [1., 0., 0.]],\n",
       "\n",
       "        [[1., 0., 0.],\n",
       "         [1., 0., 0.],\n",
       "         [1., 0., 0.]],\n",
       "\n",
       "        [[1., 0., 0.],\n",
       "         [1., 0., 0.],\n",
       "         [1., 0., 0.]],\n",
       "\n",
       "        [[1., 0., 0.],\n",
       "         [0., 1., 0.],\n",
       "         [0., 0., 1.]]])"
      ]
     },
     "execution_count": 20,
     "metadata": {},
     "output_type": "execute_result"
    }
   ],
   "source": [
    "value.tensor"
   ]
  },
  {
   "cell_type": "code",
   "execution_count": 21,
   "id": "f51d4c2e",
   "metadata": {
    "execution": {
     "iopub.execute_input": "2022-06-27T19:33:02.538526Z",
     "iopub.status.busy": "2022-06-27T19:33:02.536220Z",
     "iopub.status.idle": "2022-06-27T19:33:02.552317Z",
     "shell.execute_reply": "2022-06-27T19:33:02.553433Z"
    }
   },
   "outputs": [
    {
     "data": {
      "text/plain": [
       "['word_position', 'sample_id', 'features']"
      ]
     },
     "execution_count": 21,
     "metadata": {},
     "output_type": "execute_result"
    }
   ],
   "source": [
    "value.dim_names"
   ]
  },
  {
   "cell_type": "code",
   "execution_count": 22,
   "id": "c3c783e7",
   "metadata": {
    "execution": {
     "iopub.execute_input": "2022-06-27T19:33:02.572466Z",
     "iopub.status.busy": "2022-06-27T19:33:02.571382Z",
     "iopub.status.idle": "2022-06-27T19:33:02.588441Z",
     "shell.execute_reply": "2022-06-27T19:33:02.585430Z"
    }
   },
   "outputs": [
    {
     "data": {
      "text/plain": [
       "[[0, 1, 2, 3], [0, 1, 2], ['word_A', 'word_B', 'word_C']]"
      ]
     },
     "execution_count": 22,
     "metadata": {},
     "output_type": "execute_result"
    }
   ],
   "source": [
    "value.dim_indices"
   ]
  },
  {
   "cell_type": "markdown",
   "id": "63bf81b9",
   "metadata": {},
   "source": [
    "Now, we can train a neural network with `LSTMNetwork` component, which is a slim decorator over `LSTM` that manages it's output."
   ]
  },
  {
   "cell_type": "code",
   "execution_count": 23,
   "id": "970c85b1",
   "metadata": {
    "execution": {
     "iopub.execute_input": "2022-06-27T19:33:02.604493Z",
     "iopub.status.busy": "2022-06-27T19:33:02.598173Z",
     "iopub.status.idle": "2022-06-27T19:33:07.582014Z",
     "shell.execute_reply": "2022-06-27T19:33:07.582356Z"
    }
   },
   "outputs": [
    {
     "data": {
      "image/png": "[encoded data removed]",
      "text/plain": [
       "<Figure size 432x288 with 1 Axes>"
      ]
     },
     "metadata": {
      "needs_background": "light"
     },
     "output_type": "display_data"
    }
   ],
   "source": [
    "def build_lstm_network_factory(lstm_size):\n",
    "    return btt.FeedForwardNetwork.Factory(\n",
    "        btt.ExtractingNetwork.Factory('features'),\n",
    "        btt.LSTMNetwork.Factory(lstm_size),\n",
    "        btt.FullyConnectedNetwork.Factory([1])\n",
    "    )\n",
    "\n",
    "\n",
    "task = create_sequential_task(\n",
    "    build_lstm_extractor(db.additional_information.context_length),\n",
    "    build_lstm_network_factory(10),\n",
    "    epochs = 100,\n",
    ")\n",
    "\n",
    "get_roc_auc_curve('', task, db).plot()\n",
    "pass"
   ]
  },
  {
   "cell_type": "markdown",
   "id": "cbda0005",
   "metadata": {},
   "source": [
    "We see that after 100 iterations the quality is low, but growing, while previous systems have stabilized at this point. So, we will train this network for a longer time."
   ]
  },
  {
   "cell_type": "code",
   "execution_count": 24,
   "id": "6a276c76",
   "metadata": {
    "execution": {
     "iopub.execute_input": "2022-06-27T19:33:07.594759Z",
     "iopub.status.busy": "2022-06-27T19:33:07.592279Z",
     "iopub.status.idle": "2022-06-27T19:34:00.971413Z",
     "shell.execute_reply": "2022-06-27T19:34:00.971768Z"
    }
   },
   "outputs": [
    {
     "data": {
      "image/png": "[encoded data removed]",
      "text/plain": [
       "<Figure size 432x288 with 1 Axes>"
      ]
     },
     "metadata": {
      "needs_background": "light"
     },
     "output_type": "display_data"
    }
   ],
   "source": [
    "task = create_sequential_task(\n",
    "    build_lstm_extractor(db.additional_information.context_length),\n",
    "    build_lstm_network_factory(10),\n",
    "    epochs = 1000\n",
    ")\n",
    "\n",
    "get_roc_auc_curve('', task, db).plot()\n",
    "pass"
   ]
  },
  {
   "cell_type": "markdown",
   "id": "a19574fa",
   "metadata": {},
   "source": [
    "In all the cases we run this cell, the quality of the \"plain\" networks was surpassed, often reaching the 0.9 value without stabilization. It might be the sign that this network architecture is indeed superior in comparison with the other, but this is anyway not the point we're trying to make. The point is that the classes, used for the data transformation, are working correctly and are ready to be used in conjustion with LSTM and other recurrent neural networks."
   ]
  }
 ],
 "metadata": {
  "kernelspec": {
   "display_name": "Python 3 (ipykernel)",
   "language": "python",
   "name": "python3"
  },
  "language_info": {
   "codemirror_mode": {
    "name": "ipython",
    "version": 3
   },
   "file_extension": ".py",
   "mimetype": "text/x-python",
   "name": "python",
   "nbconvert_exporter": "python",
   "pygments_lexer": "ipython3",
   "version": "3.8.13"
  },
  "widgets": {
   "application/vnd.jupyter.widget-state+json": {
    "state": {
     "003845c8b7644a02a9f667aacb4a0c36": {
      "model_module": "@jupyter-widgets/controls",
      "model_module_version": "1.5.0",
      "model_name": "FloatProgressModel",
      "state": {
       "_dom_classes": [],
       "_model_module": "@jupyter-widgets/controls",
       "_model_module_version": "1.5.0",
       "_model_name": "FloatProgressModel",
       "_view_count": null,
       "_view_module": "@jupyter-widgets/controls",
       "_view_module_version": "1.5.0",
       "_view_name": "ProgressView",
       "bar_style": "success",
       "description": "",
       "description_tooltip": null,
       "layout": "IPY_MODEL_fd7340be8bb14bf588e334234587d287",
       "max": 4.0,
       "min": 0.0,
       "orientation": "horizontal",
       "style": "IPY_MODEL_9c4f106e4afb440b94a839aac315a111",
       "value": 4.0
      }
     },
     "074274548a914284a97e57529d25b7fb": {
      "model_module": "@jupyter-widgets/controls",
      "model_module_version": "1.5.0",
      "model_name": "DescriptionStyleModel",
      "state": {
       "_model_module": "@jupyter-widgets/controls",
       "_model_module_version": "1.5.0",
       "_model_name": "DescriptionStyleModel",
       "_view_count": null,
       "_view_module": "@jupyter-widgets/base",
       "_view_module_version": "1.2.0",
       "_view_name": "StyleView",
       "description_width": ""
      }
     },
     "106cee7a342f405f87622ea6792d7ce1": {
      "model_module": "@jupyter-widgets/controls",
      "model_module_version": "1.5.0",
      "model_name": "DescriptionStyleModel",
      "state": {
       "_model_module": "@jupyter-widgets/controls",
       "_model_module_version": "1.5.0",
       "_model_name": "DescriptionStyleModel",
       "_view_count": null,
       "_view_module": "@jupyter-widgets/base",
       "_view_module_version": "1.2.0",
       "_view_name": "StyleView",
       "description_width": ""
      }
     },
     "13117c990a344692af588068dfbaa281": {
      "model_module": "@jupyter-widgets/controls",
      "model_module_version": "1.5.0",
      "model_name": "ProgressStyleModel",
      "state": {
       "_model_module": "@jupyter-widgets/controls",
       "_model_module_version": "1.5.0",
       "_model_name": "ProgressStyleModel",
       "_view_count": null,
       "_view_module": "@jupyter-widgets/base",
       "_view_module_version": "1.2.0",
       "_view_name": "StyleView",
       "bar_color": null,
       "description_width": ""
      }
     },
     "17a276b6624d41709aaf1794a282503a": {
      "model_module": "@jupyter-widgets/controls",
      "model_module_version": "1.5.0",
      "model_name": "HTMLModel",
      "state": {
       "_dom_classes": [],
       "_model_module": "@jupyter-widgets/controls",
       "_model_module_version": "1.5.0",
       "_model_name": "HTMLModel",
       "_view_count": null,
       "_view_module": "@jupyter-widgets/controls",
       "_view_module_version": "1.5.0",
       "_view_name": "HTMLView",
       "description": "",
       "description_tooltip": null,
       "layout": "IPY_MODEL_d660df160ce34d3aa917c796b0400052",
       "placeholder": "​",
       "style": "IPY_MODEL_2aeaa0a0338b4ec1996e3276fc06edd5",
       "value": " 4/4 [00:19&lt;00:00,  5.13s/it]"
      }
     },
     "1f8e2bc678a94014b54f449d646efd6e": {
      "model_module": "@jupyter-widgets/controls",
      "model_module_version": "1.5.0",
      "model_name": "HTMLModel",
      "state": {
       "_dom_classes": [],
       "_model_module": "@jupyter-widgets/controls",
       "_model_module_version": "1.5.0",
       "_model_name": "HTMLModel",
       "_view_count": null,
       "_view_module": "@jupyter-widgets/controls",
       "_view_module_version": "1.5.0",
       "_view_name": "HTMLView",
       "description": "",
       "description_tooltip": null,
       "layout": "IPY_MODEL_c116c4322833461a8242fbf99758e16b",
       "placeholder": "​",
       "style": "IPY_MODEL_98a968bdd22740fcb02d6a4939ad9cc0",
       "value": " 4/4 [00:19&lt;00:00,  4.94s/it]"
      }
     },
     "2336a582c80a4f3b822d8081aa818c23": {
      "model_module": "@jupyter-widgets/controls",
      "model_module_version": "1.5.0",
      "model_name": "DescriptionStyleModel",
      "state": {
       "_model_module": "@jupyter-widgets/controls",
       "_model_module_version": "1.5.0",
       "_model_name": "DescriptionStyleModel",
       "_view_count": null,
       "_view_module": "@jupyter-widgets/base",
       "_view_module_version": "1.2.0",
       "_view_name": "StyleView",
       "description_width": ""
      }
     },
     "24199ca0dc344b84ac417d470443ee60": {
      "model_module": "@jupyter-widgets/controls",
      "model_module_version": "1.5.0",
      "model_name": "HTMLModel",
      "state": {
       "_dom_classes": [],
       "_model_module": "@jupyter-widgets/controls",
       "_model_module_version": "1.5.0",
       "_model_name": "HTMLModel",
       "_view_count": null,
       "_view_module": "@jupyter-widgets/controls",
       "_view_module_version": "1.5.0",
       "_view_name": "HTMLView",
       "description": "",
       "description_tooltip": null,
       "layout": "IPY_MODEL_614c79104ac543d3a72faf076ae0c48f",
       "placeholder": "​",
       "style": "IPY_MODEL_074274548a914284a97e57529d25b7fb",
       "value": "100%"
      }
     },
     "282f2790bd5b412cb6bfb95fbf24691b": {
      "model_module": "@jupyter-widgets/base",
      "model_module_version": "1.2.0",
      "model_name": "LayoutModel",
      "state": {
       "_model_module": "@jupyter-widgets/base",
       "_model_module_version": "1.2.0",
       "_model_name": "LayoutModel",
       "_view_count": null,
       "_view_module": "@jupyter-widgets/base",
       "_view_module_version": "1.2.0",
       "_view_name": "LayoutView",
       "align_content": null,
       "align_items": null,
       "align_self": null,
       "border": null,
       "bottom": null,
       "display": null,
       "flex": null,
       "flex_flow": null,
       "grid_area": null,
       "grid_auto_columns": null,
       "grid_auto_flow": null,
       "grid_auto_rows": null,
       "grid_column": null,
       "grid_gap": null,
       "grid_row": null,
       "grid_template_areas": null,
       "grid_template_columns": null,
       "grid_template_rows": null,
       "height": null,
       "justify_content": null,
       "justify_items": null,
       "left": null,
       "margin": null,
       "max_height": null,
       "max_width": null,
       "min_height": null,
       "min_width": null,
       "object_fit": null,
       "object_position": null,
       "order": null,
       "overflow": null,
       "overflow_x": null,
       "overflow_y": null,
       "padding": null,
       "right": null,
       "top": null,
       "visibility": null,
       "width": null
      }
     },
     "2aeaa0a0338b4ec1996e3276fc06edd5": {
      "model_module": "@jupyter-widgets/controls",
      "model_module_version": "1.5.0",
      "model_name": "DescriptionStyleModel",
      "state": {
       "_model_module": "@jupyter-widgets/controls",
       "_model_module_version": "1.5.0",
       "_model_name": "DescriptionStyleModel",
       "_view_count": null,
       "_view_module": "@jupyter-widgets/base",
       "_view_module_version": "1.2.0",
       "_view_name": "StyleView",
       "description_width": ""
      }
     },
     "2d940414d1634fcaa7402ed3be264b56": {
      "model_module": "@jupyter-widgets/controls",
      "model_module_version": "1.5.0",
      "model_name": "DescriptionStyleModel",
      "state": {
       "_model_module": "@jupyter-widgets/controls",
       "_model_module_version": "1.5.0",
       "_model_name": "DescriptionStyleModel",
       "_view_count": null,
       "_view_module": "@jupyter-widgets/base",
       "_view_module_version": "1.2.0",
       "_view_name": "StyleView",
       "description_width": ""
      }
     },
     "32a2314d82d0491bbe64094b8e958cee": {
      "model_module": "@jupyter-widgets/base",
      "model_module_version": "1.2.0",
      "model_name": "LayoutModel",
      "state": {
       "_model_module": "@jupyter-widgets/base",
       "_model_module_version": "1.2.0",
       "_model_name": "LayoutModel",
       "_view_count": null,
       "_view_module": "@jupyter-widgets/base",
       "_view_module_version": "1.2.0",
       "_view_name": "LayoutView",
       "align_content": null,
       "align_items": null,
       "align_self": null,
       "border": null,
       "bottom": null,
       "display": null,
       "flex": null,
       "flex_flow": null,
       "grid_area": null,
       "grid_auto_columns": null,
       "grid_auto_flow": null,
       "grid_auto_rows": null,
       "grid_column": null,
       "grid_gap": null,
       "grid_row": null,
       "grid_template_areas": null,
       "grid_template_columns": null,
       "grid_template_rows": null,
       "height": null,
       "justify_content": null,
       "justify_items": null,
       "left": null,
       "margin": null,
       "max_height": null,
       "max_width": null,
       "min_height": null,
       "min_width": null,
       "object_fit": null,
       "object_position": null,
       "order": null,
       "overflow": null,
       "overflow_x": null,
       "overflow_y": null,
       "padding": null,
       "right": null,
       "top": null,
       "visibility": null,
       "width": null
      }
     },
     "39b0ccfd53314847a569801da00ac618": {
      "model_module": "@jupyter-widgets/controls",
      "model_module_version": "1.5.0",
      "model_name": "HBoxModel",
      "state": {
       "_dom_classes": [],
       "_model_module": "@jupyter-widgets/controls",
       "_model_module_version": "1.5.0",
       "_model_name": "HBoxModel",
       "_view_count": null,
       "_view_module": "@jupyter-widgets/controls",
       "_view_module_version": "1.5.0",
       "_view_name": "HBoxView",
       "box_style": "",
       "children": [
        "IPY_MODEL_ac21f2d65bd4416fbec26eb24c7a8546",
        "IPY_MODEL_003845c8b7644a02a9f667aacb4a0c36",
        "IPY_MODEL_1f8e2bc678a94014b54f449d646efd6e"
       ],
       "layout": "IPY_MODEL_b8a5e2b944d54606a7eb75bc188db46e"
      }
     },
     "39e551289b0d40cf8c34a6bb36b64ba9": {
      "model_module": "@jupyter-widgets/base",
      "model_module_version": "1.2.0",
      "model_name": "LayoutModel",
      "state": {
       "_model_module": "@jupyter-widgets/base",
       "_model_module_version": "1.2.0",
       "_model_name": "LayoutModel",
       "_view_count": null,
       "_view_module": "@jupyter-widgets/base",
       "_view_module_version": "1.2.0",
       "_view_name": "LayoutView",
       "align_content": null,
       "align_items": null,
       "align_self": null,
       "border": null,
       "bottom": null,
       "display": null,
       "flex": null,
       "flex_flow": null,
       "grid_area": null,
       "grid_auto_columns": null,
       "grid_auto_flow": null,
       "grid_auto_rows": null,
       "grid_column": null,
       "grid_gap": null,
       "grid_row": null,
       "grid_template_areas": null,
       "grid_template_columns": null,
       "grid_template_rows": null,
       "height": null,
       "justify_content": null,
       "justify_items": null,
       "left": null,
       "margin": null,
       "max_height": null,
       "max_width": null,
       "min_height": null,
       "min_width": null,
       "object_fit": null,
       "object_position": null,
       "order": null,
       "overflow": null,
       "overflow_x": null,
       "overflow_y": null,
       "padding": null,
       "right": null,
       "top": null,
       "visibility": null,
       "width": null
      }
     },
     "5009570e22704f7abd626f9047dcefca": {
      "model_module": "@jupyter-widgets/controls",
      "model_module_version": "1.5.0",
      "model_name": "HTMLModel",
      "state": {
       "_dom_classes": [],
       "_model_module": "@jupyter-widgets/controls",
       "_model_module_version": "1.5.0",
       "_model_name": "HTMLModel",
       "_view_count": null,
       "_view_module": "@jupyter-widgets/controls",
       "_view_module_version": "1.5.0",
       "_view_name": "HTMLView",
       "description": "",
       "description_tooltip": null,
       "layout": "IPY_MODEL_6825c5cfee9d41ef97630780a7562867",
       "placeholder": "​",
       "style": "IPY_MODEL_da739d6de3a642bfb0de8b9e6d63647d",
       "value": "100%"
      }
     },
     "532a5bb39fa14e0abaa2bb0ce49b849b": {
      "model_module": "@jupyter-widgets/controls",
      "model_module_version": "1.5.0",
      "model_name": "ProgressStyleModel",
      "state": {
       "_model_module": "@jupyter-widgets/controls",
       "_model_module_version": "1.5.0",
       "_model_name": "ProgressStyleModel",
       "_view_count": null,
       "_view_module": "@jupyter-widgets/base",
       "_view_module_version": "1.2.0",
       "_view_name": "StyleView",
       "bar_color": null,
       "description_width": ""
      }
     },
     "5cb8dbfb21064df99a4d819e40cdfda0": {
      "model_module": "@jupyter-widgets/base",
      "model_module_version": "1.2.0",
      "model_name": "LayoutModel",
      "state": {
       "_model_module": "@jupyter-widgets/base",
       "_model_module_version": "1.2.0",
       "_model_name": "LayoutModel",
       "_view_count": null,
       "_view_module": "@jupyter-widgets/base",
       "_view_module_version": "1.2.0",
       "_view_name": "LayoutView",
       "align_content": null,
       "align_items": null,
       "align_self": null,
       "border": null,
       "bottom": null,
       "display": null,
       "flex": null,
       "flex_flow": null,
       "grid_area": null,
       "grid_auto_columns": null,
       "grid_auto_flow": null,
       "grid_auto_rows": null,
       "grid_column": null,
       "grid_gap": null,
       "grid_row": null,
       "grid_template_areas": null,
       "grid_template_columns": null,
       "grid_template_rows": null,
       "height": null,
       "justify_content": null,
       "justify_items": null,
       "left": null,
       "margin": null,
       "max_height": null,
       "max_width": null,
       "min_height": null,
       "min_width": null,
       "object_fit": null,
       "object_position": null,
       "order": null,
       "overflow": null,
       "overflow_x": null,
       "overflow_y": null,
       "padding": null,
       "right": null,
       "top": null,
       "visibility": null,
       "width": null
      }
     },
     "614c79104ac543d3a72faf076ae0c48f": {
      "model_module": "@jupyter-widgets/base",
      "model_module_version": "1.2.0",
      "model_name": "LayoutModel",
      "state": {
       "_model_module": "@jupyter-widgets/base",
       "_model_module_version": "1.2.0",
       "_model_name": "LayoutModel",
       "_view_count": null,
       "_view_module": "@jupyter-widgets/base",
       "_view_module_version": "1.2.0",
       "_view_name": "LayoutView",
       "align_content": null,
       "align_items": null,
       "align_self": null,
       "border": null,
       "bottom": null,
       "display": null,
       "flex": null,
       "flex_flow": null,
       "grid_area": null,
       "grid_auto_columns": null,
       "grid_auto_flow": null,
       "grid_auto_rows": null,
       "grid_column": null,
       "grid_gap": null,
       "grid_row": null,
       "grid_template_areas": null,
       "grid_template_columns": null,
       "grid_template_rows": null,
       "height": null,
       "justify_content": null,
       "justify_items": null,
       "left": null,
       "margin": null,
       "max_height": null,
       "max_width": null,
       "min_height": null,
       "min_width": null,
       "object_fit": null,
       "object_position": null,
       "order": null,
       "overflow": null,
       "overflow_x": null,
       "overflow_y": null,
       "padding": null,
       "right": null,
       "top": null,
       "visibility": null,
       "width": null
      }
     },
     "62df4f84039340a9b431ea4e91334386": {
      "model_module": "@jupyter-widgets/base",
      "model_module_version": "1.2.0",
      "model_name": "LayoutModel",
      "state": {
       "_model_module": "@jupyter-widgets/base",
       "_model_module_version": "1.2.0",
       "_model_name": "LayoutModel",
       "_view_count": null,
       "_view_module": "@jupyter-widgets/base",
       "_view_module_version": "1.2.0",
       "_view_name": "LayoutView",
       "align_content": null,
       "align_items": null,
       "align_self": null,
       "border": null,
       "bottom": null,
       "display": null,
       "flex": null,
       "flex_flow": null,
       "grid_area": null,
       "grid_auto_columns": null,
       "grid_auto_flow": null,
       "grid_auto_rows": null,
       "grid_column": null,
       "grid_gap": null,
       "grid_row": null,
       "grid_template_areas": null,
       "grid_template_columns": null,
       "grid_template_rows": null,
       "height": null,
       "justify_content": null,
       "justify_items": null,
       "left": null,
       "margin": null,
       "max_height": null,
       "max_width": null,
       "min_height": null,
       "min_width": null,
       "object_fit": null,
       "object_position": null,
       "order": null,
       "overflow": null,
       "overflow_x": null,
       "overflow_y": null,
       "padding": null,
       "right": null,
       "top": null,
       "visibility": null,
       "width": null
      }
     },
     "6825c5cfee9d41ef97630780a7562867": {
      "model_module": "@jupyter-widgets/base",
      "model_module_version": "1.2.0",
      "model_name": "LayoutModel",
      "state": {
       "_model_module": "@jupyter-widgets/base",
       "_model_module_version": "1.2.0",
       "_model_name": "LayoutModel",
       "_view_count": null,
       "_view_module": "@jupyter-widgets/base",
       "_view_module_version": "1.2.0",
       "_view_name": "LayoutView",
       "align_content": null,
       "align_items": null,
       "align_self": null,
       "border": null,
       "bottom": null,
       "display": null,
       "flex": null,
       "flex_flow": null,
       "grid_area": null,
       "grid_auto_columns": null,
       "grid_auto_flow": null,
       "grid_auto_rows": null,
       "grid_column": null,
       "grid_gap": null,
       "grid_row": null,
       "grid_template_areas": null,
       "grid_template_columns": null,
       "grid_template_rows": null,
       "height": null,
       "justify_content": null,
       "justify_items": null,
       "left": null,
       "margin": null,
       "max_height": null,
       "max_width": null,
       "min_height": null,
       "min_width": null,
       "object_fit": null,
       "object_position": null,
       "order": null,
       "overflow": null,
       "overflow_x": null,
       "overflow_y": null,
       "padding": null,
       "right": null,
       "top": null,
       "visibility": null,
       "width": null
      }
     },
     "69620822374843a580f8a0ff327e366d": {
      "model_module": "@jupyter-widgets/controls",
      "model_module_version": "1.5.0",
      "model_name": "HTMLModel",
      "state": {
       "_dom_classes": [],
       "_model_module": "@jupyter-widgets/controls",
       "_model_module_version": "1.5.0",
       "_model_name": "HTMLModel",
       "_view_count": null,
       "_view_module": "@jupyter-widgets/controls",
       "_view_module_version": "1.5.0",
       "_view_name": "HTMLView",
       "description": "",
       "description_tooltip": null,
       "layout": "IPY_MODEL_df20005430d143f390ce64c8cdfe732b",
       "placeholder": "​",
       "style": "IPY_MODEL_2d940414d1634fcaa7402ed3be264b56",
       "value": "100%"
      }
     },
     "6fb36d6f3b13471ab6f1ded4f1007518": {
      "model_module": "@jupyter-widgets/controls",
      "model_module_version": "1.5.0",
      "model_name": "HBoxModel",
      "state": {
       "_dom_classes": [],
       "_model_module": "@jupyter-widgets/controls",
       "_model_module_version": "1.5.0",
       "_model_name": "HBoxModel",
       "_view_count": null,
       "_view_module": "@jupyter-widgets/controls",
       "_view_module_version": "1.5.0",
       "_view_name": "HBoxView",
       "box_style": "",
       "children": [
        "IPY_MODEL_5009570e22704f7abd626f9047dcefca",
        "IPY_MODEL_a88c80ad0641418395956d01b9730e5a",
        "IPY_MODEL_17a276b6624d41709aaf1794a282503a"
       ],
       "layout": "IPY_MODEL_d1e4925c9d2041a19abbf495df64a7fb"
      }
     },
     "821ea2bb449e4d899915be68f42fa6c5": {
      "model_module": "@jupyter-widgets/controls",
      "model_module_version": "1.5.0",
      "model_name": "ProgressStyleModel",
      "state": {
       "_model_module": "@jupyter-widgets/controls",
       "_model_module_version": "1.5.0",
       "_model_name": "ProgressStyleModel",
       "_view_count": null,
       "_view_module": "@jupyter-widgets/base",
       "_view_module_version": "1.2.0",
       "_view_name": "StyleView",
       "bar_color": null,
       "description_width": ""
      }
     },
     "82c0cef61c9940d0b464eb81bd934756": {
      "model_module": "@jupyter-widgets/controls",
      "model_module_version": "1.5.0",
      "model_name": "FloatProgressModel",
      "state": {
       "_dom_classes": [],
       "_model_module": "@jupyter-widgets/controls",
       "_model_module_version": "1.5.0",
       "_model_name": "FloatProgressModel",
       "_view_count": null,
       "_view_module": "@jupyter-widgets/controls",
       "_view_module_version": "1.5.0",
       "_view_name": "ProgressView",
       "bar_style": "success",
       "description": "",
       "description_tooltip": null,
       "layout": "IPY_MODEL_32a2314d82d0491bbe64094b8e958cee",
       "max": 4.0,
       "min": 0.0,
       "orientation": "horizontal",
       "style": "IPY_MODEL_532a5bb39fa14e0abaa2bb0ce49b849b",
       "value": 4.0
      }
     },
     "837598e4465e4caeb568c67af4ebc4dd": {
      "model_module": "@jupyter-widgets/base",
      "model_module_version": "1.2.0",
      "model_name": "LayoutModel",
      "state": {
       "_model_module": "@jupyter-widgets/base",
       "_model_module_version": "1.2.0",
       "_model_name": "LayoutModel",
       "_view_count": null,
       "_view_module": "@jupyter-widgets/base",
       "_view_module_version": "1.2.0",
       "_view_name": "LayoutView",
       "align_content": null,
       "align_items": null,
       "align_self": null,
       "border": null,
       "bottom": null,
       "display": null,
       "flex": null,
       "flex_flow": null,
       "grid_area": null,
       "grid_auto_columns": null,
       "grid_auto_flow": null,
       "grid_auto_rows": null,
       "grid_column": null,
       "grid_gap": null,
       "grid_row": null,
       "grid_template_areas": null,
       "grid_template_columns": null,
       "grid_template_rows": null,
       "height": null,
       "justify_content": null,
       "justify_items": null,
       "left": null,
       "margin": null,
       "max_height": null,
       "max_width": null,
       "min_height": null,
       "min_width": null,
       "object_fit": null,
       "object_position": null,
       "order": null,
       "overflow": null,
       "overflow_x": null,
       "overflow_y": null,
       "padding": null,
       "right": null,
       "top": null,
       "visibility": null,
       "width": null
      }
     },
     "91b77e3179cc4cccb6020ee7ac51a153": {
      "model_module": "@jupyter-widgets/controls",
      "model_module_version": "1.5.0",
      "model_name": "DescriptionStyleModel",
      "state": {
       "_model_module": "@jupyter-widgets/controls",
       "_model_module_version": "1.5.0",
       "_model_name": "DescriptionStyleModel",
       "_view_count": null,
       "_view_module": "@jupyter-widgets/base",
       "_view_module_version": "1.2.0",
       "_view_name": "StyleView",
       "description_width": ""
      }
     },
     "92b52cd8f97646c099b0e468604471ca": {
      "model_module": "@jupyter-widgets/controls",
      "model_module_version": "1.5.0",
      "model_name": "FloatProgressModel",
      "state": {
       "_dom_classes": [],
       "_model_module": "@jupyter-widgets/controls",
       "_model_module_version": "1.5.0",
       "_model_name": "FloatProgressModel",
       "_view_count": null,
       "_view_module": "@jupyter-widgets/controls",
       "_view_module_version": "1.5.0",
       "_view_name": "ProgressView",
       "bar_style": "success",
       "description": "",
       "description_tooltip": null,
       "layout": "IPY_MODEL_e9e09405bf634c0a970cf66c28d0bd2a",
       "max": 5.0,
       "min": 0.0,
       "orientation": "horizontal",
       "style": "IPY_MODEL_821ea2bb449e4d899915be68f42fa6c5",
       "value": 5.0
      }
     },
     "98a968bdd22740fcb02d6a4939ad9cc0": {
      "model_module": "@jupyter-widgets/controls",
      "model_module_version": "1.5.0",
      "model_name": "DescriptionStyleModel",
      "state": {
       "_model_module": "@jupyter-widgets/controls",
       "_model_module_version": "1.5.0",
       "_model_name": "DescriptionStyleModel",
       "_view_count": null,
       "_view_module": "@jupyter-widgets/base",
       "_view_module_version": "1.2.0",
       "_view_name": "StyleView",
       "description_width": ""
      }
     },
     "9c4f106e4afb440b94a839aac315a111": {
      "model_module": "@jupyter-widgets/controls",
      "model_module_version": "1.5.0",
      "model_name": "ProgressStyleModel",
      "state": {
       "_model_module": "@jupyter-widgets/controls",
       "_model_module_version": "1.5.0",
       "_model_name": "ProgressStyleModel",
       "_view_count": null,
       "_view_module": "@jupyter-widgets/base",
       "_view_module_version": "1.2.0",
       "_view_name": "StyleView",
       "bar_color": null,
       "description_width": ""
      }
     },
     "a88c80ad0641418395956d01b9730e5a": {
      "model_module": "@jupyter-widgets/controls",
      "model_module_version": "1.5.0",
      "model_name": "FloatProgressModel",
      "state": {
       "_dom_classes": [],
       "_model_module": "@jupyter-widgets/controls",
       "_model_module_version": "1.5.0",
       "_model_name": "FloatProgressModel",
       "_view_count": null,
       "_view_module": "@jupyter-widgets/controls",
       "_view_module_version": "1.5.0",
       "_view_name": "ProgressView",
       "bar_style": "success",
       "description": "",
       "description_tooltip": null,
       "layout": "IPY_MODEL_282f2790bd5b412cb6bfb95fbf24691b",
       "max": 4.0,
       "min": 0.0,
       "orientation": "horizontal",
       "style": "IPY_MODEL_13117c990a344692af588068dfbaa281",
       "value": 4.0
      }
     },
     "a9be211aed91426d8366add474bd0af3": {
      "model_module": "@jupyter-widgets/controls",
      "model_module_version": "1.5.0",
      "model_name": "HBoxModel",
      "state": {
       "_dom_classes": [],
       "_model_module": "@jupyter-widgets/controls",
       "_model_module_version": "1.5.0",
       "_model_name": "HBoxModel",
       "_view_count": null,
       "_view_module": "@jupyter-widgets/controls",
       "_view_module_version": "1.5.0",
       "_view_name": "HBoxView",
       "box_style": "",
       "children": [
        "IPY_MODEL_69620822374843a580f8a0ff327e366d",
        "IPY_MODEL_82c0cef61c9940d0b464eb81bd934756",
        "IPY_MODEL_bf055c6dc26d4c389d60b64218857548"
       ],
       "layout": "IPY_MODEL_f9245a9ecb534691aba3692b49347939"
      }
     },
     "ac21f2d65bd4416fbec26eb24c7a8546": {
      "model_module": "@jupyter-widgets/controls",
      "model_module_version": "1.5.0",
      "model_name": "HTMLModel",
      "state": {
       "_dom_classes": [],
       "_model_module": "@jupyter-widgets/controls",
       "_model_module_version": "1.5.0",
       "_model_name": "HTMLModel",
       "_view_count": null,
       "_view_module": "@jupyter-widgets/controls",
       "_view_module_version": "1.5.0",
       "_view_name": "HTMLView",
       "description": "",
       "description_tooltip": null,
       "layout": "IPY_MODEL_837598e4465e4caeb568c67af4ebc4dd",
       "placeholder": "​",
       "style": "IPY_MODEL_2336a582c80a4f3b822d8081aa818c23",
       "value": "100%"
      }
     },
     "b8a5e2b944d54606a7eb75bc188db46e": {
      "model_module": "@jupyter-widgets/base",
      "model_module_version": "1.2.0",
      "model_name": "LayoutModel",
      "state": {
       "_model_module": "@jupyter-widgets/base",
       "_model_module_version": "1.2.0",
       "_model_name": "LayoutModel",
       "_view_count": null,
       "_view_module": "@jupyter-widgets/base",
       "_view_module_version": "1.2.0",
       "_view_name": "LayoutView",
       "align_content": null,
       "align_items": null,
       "align_self": null,
       "border": null,
       "bottom": null,
       "display": null,
       "flex": null,
       "flex_flow": null,
       "grid_area": null,
       "grid_auto_columns": null,
       "grid_auto_flow": null,
       "grid_auto_rows": null,
       "grid_column": null,
       "grid_gap": null,
       "grid_row": null,
       "grid_template_areas": null,
       "grid_template_columns": null,
       "grid_template_rows": null,
       "height": null,
       "justify_content": null,
       "justify_items": null,
       "left": null,
       "margin": null,
       "max_height": null,
       "max_width": null,
       "min_height": null,
       "min_width": null,
       "object_fit": null,
       "object_position": null,
       "order": null,
       "overflow": null,
       "overflow_x": null,
       "overflow_y": null,
       "padding": null,
       "right": null,
       "top": null,
       "visibility": null,
       "width": null
      }
     },
     "be643fe081fb44aaaad943800780661f": {
      "model_module": "@jupyter-widgets/controls",
      "model_module_version": "1.5.0",
      "model_name": "HTMLModel",
      "state": {
       "_dom_classes": [],
       "_model_module": "@jupyter-widgets/controls",
       "_model_module_version": "1.5.0",
       "_model_name": "HTMLModel",
       "_view_count": null,
       "_view_module": "@jupyter-widgets/controls",
       "_view_module_version": "1.5.0",
       "_view_name": "HTMLView",
       "description": "",
       "description_tooltip": null,
       "layout": "IPY_MODEL_5cb8dbfb21064df99a4d819e40cdfda0",
       "placeholder": "​",
       "style": "IPY_MODEL_106cee7a342f405f87622ea6792d7ce1",
       "value": " 5/5 [01:14&lt;00:00, 14.80s/it]"
      }
     },
     "bf055c6dc26d4c389d60b64218857548": {
      "model_module": "@jupyter-widgets/controls",
      "model_module_version": "1.5.0",
      "model_name": "HTMLModel",
      "state": {
       "_dom_classes": [],
       "_model_module": "@jupyter-widgets/controls",
       "_model_module_version": "1.5.0",
       "_model_name": "HTMLModel",
       "_view_count": null,
       "_view_module": "@jupyter-widgets/controls",
       "_view_module_version": "1.5.0",
       "_view_name": "HTMLView",
       "description": "",
       "description_tooltip": null,
       "layout": "IPY_MODEL_62df4f84039340a9b431ea4e91334386",
       "placeholder": "​",
       "style": "IPY_MODEL_91b77e3179cc4cccb6020ee7ac51a153",
       "value": " 4/4 [00:17&lt;00:00,  4.46s/it]"
      }
     },
     "c116c4322833461a8242fbf99758e16b": {
      "model_module": "@jupyter-widgets/base",
      "model_module_version": "1.2.0",
      "model_name": "LayoutModel",
      "state": {
       "_model_module": "@jupyter-widgets/base",
       "_model_module_version": "1.2.0",
       "_model_name": "LayoutModel",
       "_view_count": null,
       "_view_module": "@jupyter-widgets/base",
       "_view_module_version": "1.2.0",
       "_view_name": "LayoutView",
       "align_content": null,
       "align_items": null,
       "align_self": null,
       "border": null,
       "bottom": null,
       "display": null,
       "flex": null,
       "flex_flow": null,
       "grid_area": null,
       "grid_auto_columns": null,
       "grid_auto_flow": null,
       "grid_auto_rows": null,
       "grid_column": null,
       "grid_gap": null,
       "grid_row": null,
       "grid_template_areas": null,
       "grid_template_columns": null,
       "grid_template_rows": null,
       "height": null,
       "justify_content": null,
       "justify_items": null,
       "left": null,
       "margin": null,
       "max_height": null,
       "max_width": null,
       "min_height": null,
       "min_width": null,
       "object_fit": null,
       "object_position": null,
       "order": null,
       "overflow": null,
       "overflow_x": null,
       "overflow_y": null,
       "padding": null,
       "right": null,
       "top": null,
       "visibility": null,
       "width": null
      }
     },
     "d1e4925c9d2041a19abbf495df64a7fb": {
      "model_module": "@jupyter-widgets/base",
      "model_module_version": "1.2.0",
      "model_name": "LayoutModel",
      "state": {
       "_model_module": "@jupyter-widgets/base",
       "_model_module_version": "1.2.0",
       "_model_name": "LayoutModel",
       "_view_count": null,
       "_view_module": "@jupyter-widgets/base",
       "_view_module_version": "1.2.0",
       "_view_name": "LayoutView",
       "align_content": null,
       "align_items": null,
       "align_self": null,
       "border": null,
       "bottom": null,
       "display": null,
       "flex": null,
       "flex_flow": null,
       "grid_area": null,
       "grid_auto_columns": null,
       "grid_auto_flow": null,
       "grid_auto_rows": null,
       "grid_column": null,
       "grid_gap": null,
       "grid_row": null,
       "grid_template_areas": null,
       "grid_template_columns": null,
       "grid_template_rows": null,
       "height": null,
       "justify_content": null,
       "justify_items": null,
       "left": null,
       "margin": null,
       "max_height": null,
       "max_width": null,
       "min_height": null,
       "min_width": null,
       "object_fit": null,
       "object_position": null,
       "order": null,
       "overflow": null,
       "overflow_x": null,
       "overflow_y": null,
       "padding": null,
       "right": null,
       "top": null,
       "visibility": null,
       "width": null
      }
     },
     "d660df160ce34d3aa917c796b0400052": {
      "model_module": "@jupyter-widgets/base",
      "model_module_version": "1.2.0",
      "model_name": "LayoutModel",
      "state": {
       "_model_module": "@jupyter-widgets/base",
       "_model_module_version": "1.2.0",
       "_model_name": "LayoutModel",
       "_view_count": null,
       "_view_module": "@jupyter-widgets/base",
       "_view_module_version": "1.2.0",
       "_view_name": "LayoutView",
       "align_content": null,
       "align_items": null,
       "align_self": null,
       "border": null,
       "bottom": null,
       "display": null,
       "flex": null,
       "flex_flow": null,
       "grid_area": null,
       "grid_auto_columns": null,
       "grid_auto_flow": null,
       "grid_auto_rows": null,
       "grid_column": null,
       "grid_gap": null,
       "grid_row": null,
       "grid_template_areas": null,
       "grid_template_columns": null,
       "grid_template_rows": null,
       "height": null,
       "justify_content": null,
       "justify_items": null,
       "left": null,
       "margin": null,
       "max_height": null,
       "max_width": null,
       "min_height": null,
       "min_width": null,
       "object_fit": null,
       "object_position": null,
       "order": null,
       "overflow": null,
       "overflow_x": null,
       "overflow_y": null,
       "padding": null,
       "right": null,
       "top": null,
       "visibility": null,
       "width": null
      }
     },
     "da739d6de3a642bfb0de8b9e6d63647d": {
      "model_module": "@jupyter-widgets/controls",
      "model_module_version": "1.5.0",
      "model_name": "DescriptionStyleModel",
      "state": {
       "_model_module": "@jupyter-widgets/controls",
       "_model_module_version": "1.5.0",
       "_model_name": "DescriptionStyleModel",
       "_view_count": null,
       "_view_module": "@jupyter-widgets/base",
       "_view_module_version": "1.2.0",
       "_view_name": "StyleView",
       "description_width": ""
      }
     },
     "df20005430d143f390ce64c8cdfe732b": {
      "model_module": "@jupyter-widgets/base",
      "model_module_version": "1.2.0",
      "model_name": "LayoutModel",
      "state": {
       "_model_module": "@jupyter-widgets/base",
       "_model_module_version": "1.2.0",
       "_model_name": "LayoutModel",
       "_view_count": null,
       "_view_module": "@jupyter-widgets/base",
       "_view_module_version": "1.2.0",
       "_view_name": "LayoutView",
       "align_content": null,
       "align_items": null,
       "align_self": null,
       "border": null,
       "bottom": null,
       "display": null,
       "flex": null,
       "flex_flow": null,
       "grid_area": null,
       "grid_auto_columns": null,
       "grid_auto_flow": null,
       "grid_auto_rows": null,
       "grid_column": null,
       "grid_gap": null,
       "grid_row": null,
       "grid_template_areas": null,
       "grid_template_columns": null,
       "grid_template_rows": null,
       "height": null,
       "justify_content": null,
       "justify_items": null,
       "left": null,
       "margin": null,
       "max_height": null,
       "max_width": null,
       "min_height": null,
       "min_width": null,
       "object_fit": null,
       "object_position": null,
       "order": null,
       "overflow": null,
       "overflow_x": null,
       "overflow_y": null,
       "padding": null,
       "right": null,
       "top": null,
       "visibility": null,
       "width": null
      }
     },
     "e9e09405bf634c0a970cf66c28d0bd2a": {
      "model_module": "@jupyter-widgets/base",
      "model_module_version": "1.2.0",
      "model_name": "LayoutModel",
      "state": {
       "_model_module": "@jupyter-widgets/base",
       "_model_module_version": "1.2.0",
       "_model_name": "LayoutModel",
       "_view_count": null,
       "_view_module": "@jupyter-widgets/base",
       "_view_module_version": "1.2.0",
       "_view_name": "LayoutView",
       "align_content": null,
       "align_items": null,
       "align_self": null,
       "border": null,
       "bottom": null,
       "display": null,
       "flex": null,
       "flex_flow": null,
       "grid_area": null,
       "grid_auto_columns": null,
       "grid_auto_flow": null,
       "grid_auto_rows": null,
       "grid_column": null,
       "grid_gap": null,
       "grid_row": null,
       "grid_template_areas": null,
       "grid_template_columns": null,
       "grid_template_rows": null,
       "height": null,
       "justify_content": null,
       "justify_items": null,
       "left": null,
       "margin": null,
       "max_height": null,
       "max_width": null,
       "min_height": null,
       "min_width": null,
       "object_fit": null,
       "object_position": null,
       "order": null,
       "overflow": null,
       "overflow_x": null,
       "overflow_y": null,
       "padding": null,
       "right": null,
       "top": null,
       "visibility": null,
       "width": null
      }
     },
     "ed6976fe3e2c4bcca167d228a21541b7": {
      "model_module": "@jupyter-widgets/controls",
      "model_module_version": "1.5.0",
      "model_name": "HBoxModel",
      "state": {
       "_dom_classes": [],
       "_model_module": "@jupyter-widgets/controls",
       "_model_module_version": "1.5.0",
       "_model_name": "HBoxModel",
       "_view_count": null,
       "_view_module": "@jupyter-widgets/controls",
       "_view_module_version": "1.5.0",
       "_view_name": "HBoxView",
       "box_style": "",
       "children": [
        "IPY_MODEL_24199ca0dc344b84ac417d470443ee60",
        "IPY_MODEL_92b52cd8f97646c099b0e468604471ca",
        "IPY_MODEL_be643fe081fb44aaaad943800780661f"
       ],
       "layout": "IPY_MODEL_39e551289b0d40cf8c34a6bb36b64ba9"
      }
     },
     "f9245a9ecb534691aba3692b49347939": {
      "model_module": "@jupyter-widgets/base",
      "model_module_version": "1.2.0",
      "model_name": "LayoutModel",
      "state": {
       "_model_module": "@jupyter-widgets/base",
       "_model_module_version": "1.2.0",
       "_model_name": "LayoutModel",
       "_view_count": null,
       "_view_module": "@jupyter-widgets/base",
       "_view_module_version": "1.2.0",
       "_view_name": "LayoutView",
       "align_content": null,
       "align_items": null,
       "align_self": null,
       "border": null,
       "bottom": null,
       "display": null,
       "flex": null,
       "flex_flow": null,
       "grid_area": null,
       "grid_auto_columns": null,
       "grid_auto_flow": null,
       "grid_auto_rows": null,
       "grid_column": null,
       "grid_gap": null,
       "grid_row": null,
       "grid_template_areas": null,
       "grid_template_columns": null,
       "grid_template_rows": null,
       "height": null,
       "justify_content": null,
       "justify_items": null,
       "left": null,
       "margin": null,
       "max_height": null,
       "max_width": null,
       "min_height": null,
       "min_width": null,
       "object_fit": null,
       "object_position": null,
       "order": null,
       "overflow": null,
       "overflow_x": null,
       "overflow_y": null,
       "padding": null,
       "right": null,
       "top": null,
       "visibility": null,
       "width": null
      }
     },
     "fd7340be8bb14bf588e334234587d287": {
      "model_module": "@jupyter-widgets/base",
      "model_module_version": "1.2.0",
      "model_name": "LayoutModel",
      "state": {
       "_model_module": "@jupyter-widgets/base",
       "_model_module_version": "1.2.0",
       "_model_name": "LayoutModel",
       "_view_count": null,
       "_view_module": "@jupyter-widgets/base",
       "_view_module_version": "1.2.0",
       "_view_name": "LayoutView",
       "align_content": null,
       "align_items": null,
       "align_self": null,
       "border": null,
       "bottom": null,
       "display": null,
       "flex": null,
       "flex_flow": null,
       "grid_area": null,
       "grid_auto_columns": null,
       "grid_auto_flow": null,
       "grid_auto_rows": null,
       "grid_column": null,
       "grid_gap": null,
       "grid_row": null,
       "grid_template_areas": null,
       "grid_template_columns": null,
       "grid_template_rows": null,
       "height": null,
       "justify_content": null,
       "justify_items": null,
       "left": null,
       "margin": null,
       "max_height": null,
       "max_width": null,
       "min_height": null,
       "min_width": null,
       "object_fit": null,
       "object_position": null,
       "order": null,
       "overflow": null,
       "overflow_x": null,
       "overflow_y": null,
       "padding": null,
       "right": null,
       "top": null,
       "visibility": null,
       "width": null
      }
     }
    },
    "version_major": 2,
    "version_minor": 0
   }
  }
 },
 "nbformat": 4,
 "nbformat_minor": 5
}
