{
 "cells": [
  {
   "cell_type": "markdown",
   "id": "348fbaf7",
   "metadata": {},
   "source": [
    "# 3.3.2. Batched training with contexts (tg.common.ml.batched_training.context)"
   ]
  },
  {
   "cell_type": "markdown",
   "id": "96052d5e",
   "metadata": {},
   "source": [
    "This demo will cover training on data that are _contextual_. By that we mean cases, when some of the samples form relations, and to make a prediction about sample ***i***, the network must take into consideration all the samples, related to this sample ***i***.\n",
    "\n",
    "The typical example is Natural Language Processing. Often, we cannot really do anything with an individual word in the sentence, we need to consider other words in its vicinity. Most often, ***N*** words to the left form this vicinity, but not only: if a parse tree of the sentence is available, we may consider \"brothers\" of the word, or parents, etc. \n",
    "\n",
    "Contextual data are also possible in sales. If we try to predict the customer-to-article relation, there are many assotiated contexts: previous purchases of the customer, other articles in the order, historical performance of the article, etc.\n",
    "\n",
    "This demo will discuss ways of organizing the contexts in the various ways, including using of recurrent neural networks (LSTM)"
   ]
  },
  {
   "cell_type": "markdown",
   "id": "29fe5e2e",
   "metadata": {},
   "source": [
    "## Setup"
   ]
  },
  {
   "cell_type": "markdown",
   "id": "b540e3d9",
   "metadata": {},
   "source": [
    "We will consider a toy task from NLP. Assume we have ***n*** words, and sentences of ***m*** such words. Some of these sentences belong to the \"good\" subset ***L***, and some don't. The task is to build a classifier for ***L***.\n",
    "\n",
    "First, to establish the baseline, we will build the network without any contexts. For that, we will first build a training data as a dataframe with words in columns:"
   ]
  },
  {
   "cell_type": "code",
   "execution_count": 1,
   "id": "81bc1847",
   "metadata": {
    "execution": {
     "iopub.execute_input": "2022-06-29T11:28:47.982491Z",
     "iopub.status.busy": "2022-06-29T11:28:47.981590Z",
     "iopub.status.idle": "2022-06-29T11:28:48.336836Z",
     "shell.execute_reply": "2022-06-29T11:28:48.337147Z"
    }
   },
   "outputs": [
    {
     "data": {
      "text/html": [
       "<div>\n",
       "<style scoped>\n",
       "    .dataframe tbody tr th:only-of-type {\n",
       "        vertical-align: middle;\n",
       "    }\n",
       "\n",
       "    .dataframe tbody tr th {\n",
       "        vertical-align: top;\n",
       "    }\n",
       "\n",
       "    .dataframe thead th {\n",
       "        text-align: right;\n",
       "    }\n",
       "</style>\n",
       "<table border=\"1\" class=\"dataframe\">\n",
       "  <thead>\n",
       "    <tr style=\"text-align: right;\">\n",
       "      <th></th>\n",
       "      <th>word_0</th>\n",
       "      <th>word_1</th>\n",
       "      <th>word_2</th>\n",
       "      <th>word_3</th>\n",
       "      <th>label</th>\n",
       "      <th>split</th>\n",
       "    </tr>\n",
       "    <tr>\n",
       "      <th>sentence_id</th>\n",
       "      <th></th>\n",
       "      <th></th>\n",
       "      <th></th>\n",
       "      <th></th>\n",
       "      <th></th>\n",
       "      <th></th>\n",
       "    </tr>\n",
       "  </thead>\n",
       "  <tbody>\n",
       "    <tr>\n",
       "      <th>0</th>\n",
       "      <td>A</td>\n",
       "      <td>A</td>\n",
       "      <td>A</td>\n",
       "      <td>A</td>\n",
       "      <td>0</td>\n",
       "      <td>display</td>\n",
       "    </tr>\n",
       "    <tr>\n",
       "      <th>1</th>\n",
       "      <td>A</td>\n",
       "      <td>A</td>\n",
       "      <td>A</td>\n",
       "      <td>B</td>\n",
       "      <td>1</td>\n",
       "      <td>display</td>\n",
       "    </tr>\n",
       "    <tr>\n",
       "      <th>2</th>\n",
       "      <td>A</td>\n",
       "      <td>A</td>\n",
       "      <td>A</td>\n",
       "      <td>C</td>\n",
       "      <td>0</td>\n",
       "      <td>display</td>\n",
       "    </tr>\n",
       "    <tr>\n",
       "      <th>3</th>\n",
       "      <td>A</td>\n",
       "      <td>A</td>\n",
       "      <td>B</td>\n",
       "      <td>A</td>\n",
       "      <td>0</td>\n",
       "      <td>display</td>\n",
       "    </tr>\n",
       "    <tr>\n",
       "      <th>4</th>\n",
       "      <td>A</td>\n",
       "      <td>A</td>\n",
       "      <td>B</td>\n",
       "      <td>B</td>\n",
       "      <td>0</td>\n",
       "      <td>display</td>\n",
       "    </tr>\n",
       "  </tbody>\n",
       "</table>\n",
       "</div>"
      ],
      "text/plain": [
       "            word_0 word_1 word_2 word_3  label    split\n",
       "sentence_id                                            \n",
       "0                A      A      A      A      0  display\n",
       "1                A      A      A      B      1  display\n",
       "2                A      A      A      C      0  display\n",
       "3                A      A      B      A      0  display\n",
       "4                A      A      B      B      0  display"
      ]
     },
     "execution_count": 1,
     "metadata": {},
     "output_type": "execute_result"
    }
   ],
   "source": [
    "import numpy as np\n",
    "import pandas as pd\n",
    "import os\n",
    "\n",
    "def generate_task(word_length, alphabet):\n",
    "    tuples = [ (c,) for c in alphabet]\n",
    "    result = list(tuples)\n",
    "    for i in range(word_length-1):\n",
    "        result = [ t+r for t in tuples for r in result]\n",
    "    df = pd.DataFrame(result, columns=[f'word_{i}' for i in range(word_length)])\n",
    "    df[f'label'] = np.random.randint(0,2,df.shape[0])\n",
    "    df.index.name = 'sentence_id'\n",
    "    df['split'] = 'display'\n",
    "    return df\n",
    "\n",
    "df = pd.read_parquet('lstm_task.parquet')\n",
    "df.head()"
   ]
  },
  {
   "cell_type": "code",
   "execution_count": 2,
   "id": "d427fe35",
   "metadata": {
    "execution": {
     "iopub.execute_input": "2022-06-29T11:28:48.340810Z",
     "iopub.status.busy": "2022-06-29T11:28:48.340344Z",
     "iopub.status.idle": "2022-06-29T11:28:48.342368Z",
     "shell.execute_reply": "2022-06-29T11:28:48.342681Z"
    }
   },
   "outputs": [
    {
     "data": {
      "text/plain": [
       "(81, 6)"
      ]
     },
     "execution_count": 2,
     "metadata": {},
     "output_type": "execute_result"
    }
   ],
   "source": [
    "df.shape"
   ]
  },
  {
   "cell_type": "markdown",
   "id": "d587a590",
   "metadata": {},
   "source": [
    "The following code will create a `BatchedTrainingTask` for this classification task, similarly to what we've seen in the previous demos. It will also output a batch for the task."
   ]
  },
  {
   "cell_type": "code",
   "execution_count": 3,
   "id": "a8a1b204",
   "metadata": {
    "execution": {
     "iopub.execute_input": "2022-06-29T11:28:48.349404Z",
     "iopub.status.busy": "2022-06-29T11:28:48.348855Z",
     "iopub.status.idle": "2022-06-29T11:28:49.702950Z",
     "shell.execute_reply": "2022-06-29T11:28:49.703666Z"
    }
   },
   "outputs": [
    {
     "data": {
      "text/html": [
       "<div>\n",
       "<style scoped>\n",
       "    .dataframe tbody tr th:only-of-type {\n",
       "        vertical-align: middle;\n",
       "    }\n",
       "\n",
       "    .dataframe tbody tr th {\n",
       "        vertical-align: top;\n",
       "    }\n",
       "\n",
       "    .dataframe thead th {\n",
       "        text-align: right;\n",
       "    }\n",
       "</style>\n",
       "<table border=\"1\" class=\"dataframe\">\n",
       "  <thead>\n",
       "    <tr style=\"text-align: right;\">\n",
       "      <th></th>\n",
       "      <th>word_0_A</th>\n",
       "      <th>word_0_B</th>\n",
       "      <th>word_0_C</th>\n",
       "      <th>word_1_A</th>\n",
       "      <th>word_1_B</th>\n",
       "      <th>word_1_C</th>\n",
       "      <th>word_2_A</th>\n",
       "      <th>word_2_B</th>\n",
       "      <th>word_2_C</th>\n",
       "      <th>word_3_A</th>\n",
       "      <th>word_3_B</th>\n",
       "      <th>word_3_C</th>\n",
       "    </tr>\n",
       "    <tr>\n",
       "      <th>sentence_id</th>\n",
       "      <th></th>\n",
       "      <th></th>\n",
       "      <th></th>\n",
       "      <th></th>\n",
       "      <th></th>\n",
       "      <th></th>\n",
       "      <th></th>\n",
       "      <th></th>\n",
       "      <th></th>\n",
       "      <th></th>\n",
       "      <th></th>\n",
       "      <th></th>\n",
       "    </tr>\n",
       "  </thead>\n",
       "  <tbody>\n",
       "    <tr>\n",
       "      <th>0</th>\n",
       "      <td>1.0</td>\n",
       "      <td>0.0</td>\n",
       "      <td>0.0</td>\n",
       "      <td>1.0</td>\n",
       "      <td>0.0</td>\n",
       "      <td>0.0</td>\n",
       "      <td>1.0</td>\n",
       "      <td>0.0</td>\n",
       "      <td>0.0</td>\n",
       "      <td>1.0</td>\n",
       "      <td>0.0</td>\n",
       "      <td>0.0</td>\n",
       "    </tr>\n",
       "    <tr>\n",
       "      <th>1</th>\n",
       "      <td>1.0</td>\n",
       "      <td>0.0</td>\n",
       "      <td>0.0</td>\n",
       "      <td>1.0</td>\n",
       "      <td>0.0</td>\n",
       "      <td>0.0</td>\n",
       "      <td>1.0</td>\n",
       "      <td>0.0</td>\n",
       "      <td>0.0</td>\n",
       "      <td>0.0</td>\n",
       "      <td>1.0</td>\n",
       "      <td>0.0</td>\n",
       "    </tr>\n",
       "    <tr>\n",
       "      <th>2</th>\n",
       "      <td>1.0</td>\n",
       "      <td>0.0</td>\n",
       "      <td>0.0</td>\n",
       "      <td>1.0</td>\n",
       "      <td>0.0</td>\n",
       "      <td>0.0</td>\n",
       "      <td>1.0</td>\n",
       "      <td>0.0</td>\n",
       "      <td>0.0</td>\n",
       "      <td>0.0</td>\n",
       "      <td>0.0</td>\n",
       "      <td>1.0</td>\n",
       "    </tr>\n",
       "    <tr>\n",
       "      <th>3</th>\n",
       "      <td>1.0</td>\n",
       "      <td>0.0</td>\n",
       "      <td>0.0</td>\n",
       "      <td>1.0</td>\n",
       "      <td>0.0</td>\n",
       "      <td>0.0</td>\n",
       "      <td>0.0</td>\n",
       "      <td>1.0</td>\n",
       "      <td>0.0</td>\n",
       "      <td>1.0</td>\n",
       "      <td>0.0</td>\n",
       "      <td>0.0</td>\n",
       "    </tr>\n",
       "    <tr>\n",
       "      <th>4</th>\n",
       "      <td>1.0</td>\n",
       "      <td>0.0</td>\n",
       "      <td>0.0</td>\n",
       "      <td>1.0</td>\n",
       "      <td>0.0</td>\n",
       "      <td>0.0</td>\n",
       "      <td>0.0</td>\n",
       "      <td>1.0</td>\n",
       "      <td>0.0</td>\n",
       "      <td>0.0</td>\n",
       "      <td>1.0</td>\n",
       "      <td>0.0</td>\n",
       "    </tr>\n",
       "  </tbody>\n",
       "</table>\n",
       "</div>"
      ],
      "text/plain": [
       "             word_0_A  word_0_B  word_0_C  word_1_A  word_1_B  word_1_C  \\\n",
       "sentence_id                                                               \n",
       "0                 1.0       0.0       0.0       1.0       0.0       0.0   \n",
       "1                 1.0       0.0       0.0       1.0       0.0       0.0   \n",
       "2                 1.0       0.0       0.0       1.0       0.0       0.0   \n",
       "3                 1.0       0.0       0.0       1.0       0.0       0.0   \n",
       "4                 1.0       0.0       0.0       1.0       0.0       0.0   \n",
       "\n",
       "             word_2_A  word_2_B  word_2_C  word_3_A  word_3_B  word_3_C  \n",
       "sentence_id                                                              \n",
       "0                 1.0       0.0       0.0       1.0       0.0       0.0  \n",
       "1                 1.0       0.0       0.0       0.0       1.0       0.0  \n",
       "2                 1.0       0.0       0.0       0.0       0.0       1.0  \n",
       "3                 0.0       1.0       0.0       1.0       0.0       0.0  \n",
       "4                 0.0       1.0       0.0       0.0       1.0       0.0  "
      ]
     },
     "execution_count": 3,
     "metadata": {},
     "output_type": "execute_result"
    }
   ],
   "source": [
    "from tg.common.ml import dft\n",
    "from tg.common.ml import batched_training as bt\n",
    "from tg.common.ml.batched_training import torch as btt\n",
    "from sklearn.metrics import roc_auc_score\n",
    "from tg.common import Logger\n",
    "\n",
    "Logger.disable()\n",
    "\n",
    "def create_plain_task(df, epochs = 500):\n",
    "    label_extractor = bt.PlainExtractor.build('label').index().apply(take_columns='label')\n",
    "    features_extractor = bt.PlainExtractor.build('features').index().apply(\n",
    "        take_columns=[f for f in df.columns if f.startswith('word')],\n",
    "        transformer=dft.DataFrameTransformerFactory.default_factory()\n",
    "    )\n",
    "    extractor_factory = btt.PredefinedExtractorFactory(label_extractor, features_extractor)\n",
    "    network_factory = btt.FullyConnectedNetwork.Factory(sizes=[100,1]).prepend_extraction('features')\n",
    "    task = btt.TorchTrainingTask(\n",
    "        bt.TrainingSettings(epoch_count = epochs),\n",
    "        btt.TorchTrainingSettings(),\n",
    "        extractor_factory,\n",
    "        network_factory,\n",
    "        bt.MetricPool().add_sklearn(roc_auc_score)\n",
    "    )\n",
    "    return task\n",
    "\n",
    "\n",
    "plain_bundle = bt.DataBundle(index=df)\n",
    "task = create_plain_task(df)\n",
    "task.generate_sample_batch(plain_bundle)['features'].head()"
   ]
  },
  {
   "cell_type": "markdown",
   "id": "3febaa2b",
   "metadata": {},
   "source": [
    "We won't have any test data. As ***L*** is random, it's impossible to predict the status of the word without seeing it. So effectively, the neural network just needs to memorize the table. \n",
    "  "
   ]
  },
  {
   "cell_type": "markdown",
   "id": "c6d3848b",
   "metadata": {},
   "source": [
    "The following code will run the training task on the data multiple times and build a plot of `roc_auc` metric improvement over time for each of them:"
   ]
  },
  {
   "cell_type": "code",
   "execution_count": 4,
   "id": "509c1c42",
   "metadata": {
    "execution": {
     "iopub.execute_input": "2022-06-29T11:28:49.709221Z",
     "iopub.status.busy": "2022-06-29T11:28:49.708619Z",
     "iopub.status.idle": "2022-06-29T11:29:41.791678Z",
     "shell.execute_reply": "2022-06-29T11:29:41.792057Z"
    }
   },
   "outputs": [
    {
     "data": {
      "application/vnd.jupyter.widget-view+json": {
       "model_id": "c1c2dea69a974152ac34f29dfce33d51",
       "version_major": 2,
       "version_minor": 0
      },
      "text/plain": [
       "  0%|          | 0/5 [00:00<?, ?it/s]"
      ]
     },
     "metadata": {},
     "output_type": "display_data"
    },
    {
     "data": {
      "image/png": "[encoded data removed]",
      "text/plain": [
       "<Figure size 432x288 with 1 Axes>"
      ]
     },
     "metadata": {
      "needs_background": "light"
     },
     "output_type": "display_data"
    }
   ],
   "source": [
    "from yo_fluq_ds import *\n",
    "\n",
    "def get_roc_auc_curve(name, task, bundle):\n",
    "    result = task.run(bundle)\n",
    "    series = pd.DataFrame(result['output']['history']).roc_auc_score_display\n",
    "    series.name = str(name)\n",
    "    return series\n",
    "\n",
    "curves = (Query\n",
    "          .en(range(5))\n",
    "          .feed(fluq.with_progress_bar())\n",
    "          .select(lambda z: get_roc_auc_curve(z, create_plain_task(df, epochs=500), bt.DataBundle(index=df)))\n",
    "          .to_list()\n",
    "         )\n",
    "pd.DataFrame(curves).transpose().plot()\n",
    "pass"
   ]
  },
  {
   "cell_type": "markdown",
   "id": "54f982f4",
   "metadata": {},
   "source": [
    "Note that:\n",
    "\n",
    "* Training effectively stabilizes on ~200 iterations. We were unable to achieve significant improvement after this point.\n",
    "* The quality is far from 100%. The amount of neurons in the network are compatible with the amount of samples, and, given that the samples are random, it's not surprising. \n",
    "\n",
    "It is probably possible to achieve higher metric on this task, but right now it's not our goal. \n",
    "\n",
    "The quality depends heavily on the training data: some of the random languages $L$ offer better performance than others. The following code was used to find a language with decent performance:\n"
   ]
  },
  {
   "cell_type": "code",
   "execution_count": 5,
   "id": "0ecbb18f",
   "metadata": {
    "execution": {
     "iopub.execute_input": "2022-06-29T11:29:41.796814Z",
     "iopub.status.busy": "2022-06-29T11:29:41.796413Z",
     "iopub.status.idle": "2022-06-29T11:29:41.798082Z",
     "shell.execute_reply": "2022-06-29T11:29:41.798390Z"
    }
   },
   "outputs": [],
   "source": [
    "def find_good_language(N):\n",
    "    tasks = []\n",
    "    rocs = []\n",
    "    for i in Query.en(range(N)).feed(fluq.with_progress_bar()):\n",
    "        df = generate_task(4, ['A','B','C'])\n",
    "        tasks.append(df)\n",
    "        roc = get_roc_auc_curve(i, create_plain_task(df), bt.DataBundle(df, {}))\n",
    "        value = roc.iloc[-1]\n",
    "        rocs.append(value)\n",
    "        print(value, end=' ')\n",
    "    \n",
    "    s = pd.Series(rocs).sort_values()\n",
    "    winner = s.index[-1]\n",
    "    val = s.iloc[-1]\n",
    "    tasks[winner].to_parquet(f'lstm_task_{val}.parquet')\n",
    "    return s"
   ]
  },
  {
   "cell_type": "markdown",
   "id": "73613aef",
   "metadata": {},
   "source": [
    "## Contexts"
   ]
  },
  {
   "cell_type": "markdown",
   "id": "a3884153",
   "metadata": {},
   "source": [
    "The representation we used in the previous section is flawed due to several reasons:\n",
    "\n",
    "* Sequential data usually have different length. Placing them in the columns of the dataframe causes sparsity. \n",
    "* Sequential data may contain multiple columns for each position, i.e. morphological features or word2vec for words. Placing them in the columns of the dataframe creates a hierarchy of the columns.\n",
    "* Pandas is not really covenient to perform column-based operations, that will mean loops and other low-performative python logic.\n",
    "* Samples may enter in more than one relations, and it's unpractical to build such table for each of them.\n",
    "\n",
    "This is why it's far more convenient to use a sequential representation: each row is a sample (word in our case), but there is also a structural information, incorporated in the bundle, that represents relation of the samples. \n",
    "\n",
    "Let's translate our language ***L*** to this new format:"
   ]
  },
  {
   "cell_type": "code",
   "execution_count": 6,
   "id": "28aa3aed",
   "metadata": {
    "execution": {
     "iopub.execute_input": "2022-06-29T11:29:41.805561Z",
     "iopub.status.busy": "2022-06-29T11:29:41.804948Z",
     "iopub.status.idle": "2022-06-29T11:29:41.816320Z",
     "shell.execute_reply": "2022-06-29T11:29:41.815971Z"
    }
   },
   "outputs": [],
   "source": [
    "def translate_to_sequential(df):\n",
    "    words = [c for c in df.columns if c.startswith('word_')]\n",
    "    context_length = len(words)\n",
    "\n",
    "    cdf = df[words].unstack().to_frame('word').reset_index()\n",
    "    cdf = cdf.rename(columns=dict(level_0= 'word_position'))\n",
    "    cdf.word_position = cdf.word_position.str.replace('word_','').astype(int)\n",
    "    cdf = cdf.sort_values(['sentence_id','word_position'])\n",
    "    cdf['word_id'] = list(range(cdf.shape[0]))\n",
    "    cdf = cdf[['word_id','sentence_id','word_position','word']]\n",
    "    cdf.index = list(cdf['word_id'])\n",
    "    \n",
    "    idf = df[['label']].reset_index()\n",
    "    idf['split'] = 'display'\n",
    "    idf.index.name='sample_id'\n",
    "    bundle = bt.DataBundle(index = idf, src=cdf)\n",
    "    bundle.additional_information.context_length = context_length\n",
    "    return bundle\n",
    "\n",
    "db = translate_to_sequential(df)"
   ]
  },
  {
   "cell_type": "markdown",
   "id": "9569dbc5",
   "metadata": {},
   "source": [
    "`src` frame contains all word in the sentences;"
   ]
  },
  {
   "cell_type": "code",
   "execution_count": 7,
   "id": "ac9d5a88",
   "metadata": {
    "execution": {
     "iopub.execute_input": "2022-06-29T11:29:41.822351Z",
     "iopub.status.busy": "2022-06-29T11:29:41.821852Z",
     "iopub.status.idle": "2022-06-29T11:29:41.823975Z",
     "shell.execute_reply": "2022-06-29T11:29:41.824311Z"
    }
   },
   "outputs": [
    {
     "data": {
      "text/html": [
       "<div>\n",
       "<style scoped>\n",
       "    .dataframe tbody tr th:only-of-type {\n",
       "        vertical-align: middle;\n",
       "    }\n",
       "\n",
       "    .dataframe tbody tr th {\n",
       "        vertical-align: top;\n",
       "    }\n",
       "\n",
       "    .dataframe thead th {\n",
       "        text-align: right;\n",
       "    }\n",
       "</style>\n",
       "<table border=\"1\" class=\"dataframe\">\n",
       "  <thead>\n",
       "    <tr style=\"text-align: right;\">\n",
       "      <th></th>\n",
       "      <th>word_id</th>\n",
       "      <th>sentence_id</th>\n",
       "      <th>word_position</th>\n",
       "      <th>word</th>\n",
       "    </tr>\n",
       "  </thead>\n",
       "  <tbody>\n",
       "    <tr>\n",
       "      <th>0</th>\n",
       "      <td>0</td>\n",
       "      <td>0</td>\n",
       "      <td>0</td>\n",
       "      <td>A</td>\n",
       "    </tr>\n",
       "    <tr>\n",
       "      <th>1</th>\n",
       "      <td>1</td>\n",
       "      <td>0</td>\n",
       "      <td>1</td>\n",
       "      <td>A</td>\n",
       "    </tr>\n",
       "    <tr>\n",
       "      <th>2</th>\n",
       "      <td>2</td>\n",
       "      <td>0</td>\n",
       "      <td>2</td>\n",
       "      <td>A</td>\n",
       "    </tr>\n",
       "    <tr>\n",
       "      <th>3</th>\n",
       "      <td>3</td>\n",
       "      <td>0</td>\n",
       "      <td>3</td>\n",
       "      <td>A</td>\n",
       "    </tr>\n",
       "    <tr>\n",
       "      <th>4</th>\n",
       "      <td>4</td>\n",
       "      <td>1</td>\n",
       "      <td>0</td>\n",
       "      <td>A</td>\n",
       "    </tr>\n",
       "  </tbody>\n",
       "</table>\n",
       "</div>"
      ],
      "text/plain": [
       "   word_id  sentence_id  word_position word\n",
       "0        0            0              0    A\n",
       "1        1            0              1    A\n",
       "2        2            0              2    A\n",
       "3        3            0              3    A\n",
       "4        4            1              0    A"
      ]
     },
     "execution_count": 7,
     "metadata": {},
     "output_type": "execute_result"
    }
   ],
   "source": [
    "db.src.head()"
   ]
  },
  {
   "cell_type": "markdown",
   "id": "d67c775a",
   "metadata": {},
   "source": [
    "This structure is what we currently think the best approach for NLP:\n",
    "\n",
    "* `word_id` is a unique, always-increasing `id` of the occurence of the word in the text\n",
    "* `sentence_id` is a unique, always-increasing `id` of the word/sentence.\n",
    "* `word_position` additionally positions words within sentences\n",
    "* Additional indexations (like `paragraph_id`, `sentence_position`, etc) are possible.\n"
   ]
  },
  {
   "cell_type": "code",
   "execution_count": 8,
   "id": "28f44749",
   "metadata": {
    "execution": {
     "iopub.execute_input": "2022-06-29T11:29:41.830040Z",
     "iopub.status.busy": "2022-06-29T11:29:41.829646Z",
     "iopub.status.idle": "2022-06-29T11:29:41.832920Z",
     "shell.execute_reply": "2022-06-29T11:29:41.832465Z"
    }
   },
   "outputs": [
    {
     "data": {
      "text/html": [
       "<div>\n",
       "<style scoped>\n",
       "    .dataframe tbody tr th:only-of-type {\n",
       "        vertical-align: middle;\n",
       "    }\n",
       "\n",
       "    .dataframe tbody tr th {\n",
       "        vertical-align: top;\n",
       "    }\n",
       "\n",
       "    .dataframe thead th {\n",
       "        text-align: right;\n",
       "    }\n",
       "</style>\n",
       "<table border=\"1\" class=\"dataframe\">\n",
       "  <thead>\n",
       "    <tr style=\"text-align: right;\">\n",
       "      <th></th>\n",
       "      <th>sentence_id</th>\n",
       "      <th>label</th>\n",
       "      <th>split</th>\n",
       "    </tr>\n",
       "    <tr>\n",
       "      <th>sample_id</th>\n",
       "      <th></th>\n",
       "      <th></th>\n",
       "      <th></th>\n",
       "    </tr>\n",
       "  </thead>\n",
       "  <tbody>\n",
       "    <tr>\n",
       "      <th>0</th>\n",
       "      <td>0</td>\n",
       "      <td>0</td>\n",
       "      <td>display</td>\n",
       "    </tr>\n",
       "    <tr>\n",
       "      <th>1</th>\n",
       "      <td>1</td>\n",
       "      <td>1</td>\n",
       "      <td>display</td>\n",
       "    </tr>\n",
       "    <tr>\n",
       "      <th>2</th>\n",
       "      <td>2</td>\n",
       "      <td>0</td>\n",
       "      <td>display</td>\n",
       "    </tr>\n",
       "    <tr>\n",
       "      <th>3</th>\n",
       "      <td>3</td>\n",
       "      <td>0</td>\n",
       "      <td>display</td>\n",
       "    </tr>\n",
       "    <tr>\n",
       "      <th>4</th>\n",
       "      <td>4</td>\n",
       "      <td>0</td>\n",
       "      <td>display</td>\n",
       "    </tr>\n",
       "  </tbody>\n",
       "</table>\n",
       "</div>"
      ],
      "text/plain": [
       "           sentence_id  label    split\n",
       "sample_id                             \n",
       "0                    0      0  display\n",
       "1                    1      1  display\n",
       "2                    2      0  display\n",
       "3                    3      0  display\n",
       "4                    4      0  display"
      ]
     },
     "execution_count": 8,
     "metadata": {},
     "output_type": "execute_result"
    }
   ],
   "source": [
    "db.index.head()"
   ]
  },
  {
   "cell_type": "markdown",
   "id": "2a3660f7",
   "metadata": {},
   "source": [
    "**Note**: indexation might appear excessive. We just follow the practice from other NLP tasks: there, not all the sentences in the corpus may appear in `index_frame`; as for `src`, in some cases it's handy to have `word_id` as a column, and in other cases -- as index, therefore, index of `src` simply duplicates the `word_id` column."
   ]
  },
  {
   "cell_type": "markdown",
   "id": "58a2072b",
   "metadata": {},
   "source": [
    "Now, our task is to build back the features for each sentence, by taking all the previous words in this sentence, transforming them in the features individually and then combining. This procedure is done by four entities, three basic are:\n",
    "* `ContextBuilder` builds the context, i.e. relation from one instance of `index` entity to several other entities (not necessarily from `index`). \n",
    "* `Extactor` extracts features for each sample in the context.\n",
    "* `Aggregator` then organizes the features so they are in the format, consumable by the network (2D dataframe)\n",
    "\n",
    "There might be multiple extractors and aggregators for each context. Therefore, we add `Finalizer`, that concatenates aggregator's results, and also controls shape of the resulting dataframe, e.g. that even the samples with empty context receive their row in the features, and that all the columns are in their exact place."
   ]
  },
  {
   "cell_type": "markdown",
   "id": "95bc745d",
   "metadata": {},
   "source": [
    "Let's first cover the `ContextBuilder`:"
   ]
  },
  {
   "cell_type": "code",
   "execution_count": 9,
   "id": "1a558c65",
   "metadata": {
    "execution": {
     "iopub.execute_input": "2022-06-29T11:29:41.850033Z",
     "iopub.status.busy": "2022-06-29T11:29:41.849046Z",
     "iopub.status.idle": "2022-06-29T11:29:41.854309Z",
     "shell.execute_reply": "2022-06-29T11:29:41.855110Z"
    }
   },
   "outputs": [
    {
     "data": {
      "text/html": [
       "<div>\n",
       "<style scoped>\n",
       "    .dataframe tbody tr th:only-of-type {\n",
       "        vertical-align: middle;\n",
       "    }\n",
       "\n",
       "    .dataframe tbody tr th {\n",
       "        vertical-align: top;\n",
       "    }\n",
       "\n",
       "    .dataframe thead th {\n",
       "        text-align: right;\n",
       "    }\n",
       "</style>\n",
       "<table border=\"1\" class=\"dataframe\">\n",
       "  <thead>\n",
       "    <tr style=\"text-align: right;\">\n",
       "      <th></th>\n",
       "      <th></th>\n",
       "      <th>word_id</th>\n",
       "      <th>word</th>\n",
       "    </tr>\n",
       "    <tr>\n",
       "      <th>sample_id</th>\n",
       "      <th>word_position</th>\n",
       "      <th></th>\n",
       "      <th></th>\n",
       "    </tr>\n",
       "  </thead>\n",
       "  <tbody>\n",
       "    <tr>\n",
       "      <th rowspan=\"4\" valign=\"top\">0</th>\n",
       "      <th>0</th>\n",
       "      <td>0</td>\n",
       "      <td>A</td>\n",
       "    </tr>\n",
       "    <tr>\n",
       "      <th>1</th>\n",
       "      <td>1</td>\n",
       "      <td>A</td>\n",
       "    </tr>\n",
       "    <tr>\n",
       "      <th>2</th>\n",
       "      <td>2</td>\n",
       "      <td>A</td>\n",
       "    </tr>\n",
       "    <tr>\n",
       "      <th>3</th>\n",
       "      <td>3</td>\n",
       "      <td>A</td>\n",
       "    </tr>\n",
       "    <tr>\n",
       "      <th rowspan=\"4\" valign=\"top\">1</th>\n",
       "      <th>0</th>\n",
       "      <td>4</td>\n",
       "      <td>A</td>\n",
       "    </tr>\n",
       "    <tr>\n",
       "      <th>1</th>\n",
       "      <td>5</td>\n",
       "      <td>A</td>\n",
       "    </tr>\n",
       "    <tr>\n",
       "      <th>2</th>\n",
       "      <td>6</td>\n",
       "      <td>A</td>\n",
       "    </tr>\n",
       "    <tr>\n",
       "      <th>3</th>\n",
       "      <td>7</td>\n",
       "      <td>B</td>\n",
       "    </tr>\n",
       "    <tr>\n",
       "      <th rowspan=\"4\" valign=\"top\">2</th>\n",
       "      <th>0</th>\n",
       "      <td>8</td>\n",
       "      <td>A</td>\n",
       "    </tr>\n",
       "    <tr>\n",
       "      <th>1</th>\n",
       "      <td>9</td>\n",
       "      <td>A</td>\n",
       "    </tr>\n",
       "    <tr>\n",
       "      <th>2</th>\n",
       "      <td>10</td>\n",
       "      <td>A</td>\n",
       "    </tr>\n",
       "    <tr>\n",
       "      <th>3</th>\n",
       "      <td>11</td>\n",
       "      <td>C</td>\n",
       "    </tr>\n",
       "  </tbody>\n",
       "</table>\n",
       "</div>"
      ],
      "text/plain": [
       "                         word_id word\n",
       "sample_id word_position              \n",
       "0         0                    0    A\n",
       "          1                    1    A\n",
       "          2                    2    A\n",
       "          3                    3    A\n",
       "1         0                    4    A\n",
       "          1                    5    A\n",
       "          2                    6    A\n",
       "          3                    7    B\n",
       "2         0                    8    A\n",
       "          1                    9    A\n",
       "          2                   10    A\n",
       "          3                   11    C"
      ]
     },
     "execution_count": 9,
     "metadata": {},
     "output_type": "execute_result"
    }
   ],
   "source": [
    "from tg.common.ml.batched_training import context as btc\n",
    "\n",
    "class SentenceContextBuilder(btc.ContextBuilder):\n",
    "    def build_context(self, ibundle, context_size):\n",
    "        df = ibundle.index_frame[['sentence_id']]\n",
    "        df = df.merge(ibundle.bundle.src.set_index('sentence_id'), left_on='sentence_id', right_index=True)\n",
    "        df = df[['word_position','word_id','word']]\n",
    "        df = df.loc[df.word_position<context_size]\n",
    "        df = df.set_index('word_position', append=True)\n",
    "        return df\n",
    "\n",
    "ibundle = bt.IndexedDataBundle(db.index, db)\n",
    "ibundle_sample = ibundle.change_index(ibundle.index_frame.iloc[:3])\n",
    "context_builder = SentenceContextBuilder()\n",
    "context_builder.fit(ibundle)\n",
    "context_builder.build_context(ibundle_sample, 4)"
   ]
  },
  {
   "cell_type": "markdown",
   "id": "23c4941e",
   "metadata": {},
   "source": [
    "As promised, it builds a relation from each `sample` to several rows in `src`, by different offsets. \n",
    "\n",
    "Now, we can use normal `Exctractor` to extract features. \n",
    "\n",
    "Also, we will use aggregator that simply concatenates the features for different samples in context, and `PandasFinalizer`, which should be always for every context extraction in 2D format. "
   ]
  },
  {
   "cell_type": "code",
   "execution_count": 10,
   "id": "09310646",
   "metadata": {
    "execution": {
     "iopub.execute_input": "2022-06-29T11:29:41.861503Z",
     "iopub.status.busy": "2022-06-29T11:29:41.861032Z",
     "iopub.status.idle": "2022-06-29T11:29:41.917498Z",
     "shell.execute_reply": "2022-06-29T11:29:41.917847Z"
    }
   },
   "outputs": [
    {
     "data": {
      "text/html": [
       "<div>\n",
       "<style scoped>\n",
       "    .dataframe tbody tr th:only-of-type {\n",
       "        vertical-align: middle;\n",
       "    }\n",
       "\n",
       "    .dataframe tbody tr th {\n",
       "        vertical-align: top;\n",
       "    }\n",
       "\n",
       "    .dataframe thead th {\n",
       "        text-align: right;\n",
       "    }\n",
       "</style>\n",
       "<table border=\"1\" class=\"dataframe\">\n",
       "  <thead>\n",
       "    <tr style=\"text-align: right;\">\n",
       "      <th></th>\n",
       "      <th>f0a0_word_A_at_0</th>\n",
       "      <th>f0a0_word_A_at_1</th>\n",
       "      <th>f0a0_word_A_at_2</th>\n",
       "      <th>f0a0_word_A_at_3</th>\n",
       "      <th>f0a0_word_B_at_0</th>\n",
       "      <th>f0a0_word_B_at_1</th>\n",
       "      <th>f0a0_word_B_at_2</th>\n",
       "      <th>f0a0_word_B_at_3</th>\n",
       "      <th>f0a0_word_C_at_0</th>\n",
       "      <th>f0a0_word_C_at_1</th>\n",
       "      <th>f0a0_word_C_at_2</th>\n",
       "      <th>f0a0_word_C_at_3</th>\n",
       "    </tr>\n",
       "    <tr>\n",
       "      <th>sample_id</th>\n",
       "      <th></th>\n",
       "      <th></th>\n",
       "      <th></th>\n",
       "      <th></th>\n",
       "      <th></th>\n",
       "      <th></th>\n",
       "      <th></th>\n",
       "      <th></th>\n",
       "      <th></th>\n",
       "      <th></th>\n",
       "      <th></th>\n",
       "      <th></th>\n",
       "    </tr>\n",
       "  </thead>\n",
       "  <tbody>\n",
       "    <tr>\n",
       "      <th>0</th>\n",
       "      <td>1.0</td>\n",
       "      <td>1.0</td>\n",
       "      <td>1.0</td>\n",
       "      <td>1.0</td>\n",
       "      <td>0.0</td>\n",
       "      <td>0.0</td>\n",
       "      <td>0.0</td>\n",
       "      <td>0.0</td>\n",
       "      <td>0.0</td>\n",
       "      <td>0.0</td>\n",
       "      <td>0.0</td>\n",
       "      <td>0.0</td>\n",
       "    </tr>\n",
       "    <tr>\n",
       "      <th>1</th>\n",
       "      <td>1.0</td>\n",
       "      <td>1.0</td>\n",
       "      <td>1.0</td>\n",
       "      <td>0.0</td>\n",
       "      <td>0.0</td>\n",
       "      <td>0.0</td>\n",
       "      <td>0.0</td>\n",
       "      <td>1.0</td>\n",
       "      <td>0.0</td>\n",
       "      <td>0.0</td>\n",
       "      <td>0.0</td>\n",
       "      <td>0.0</td>\n",
       "    </tr>\n",
       "    <tr>\n",
       "      <th>2</th>\n",
       "      <td>1.0</td>\n",
       "      <td>1.0</td>\n",
       "      <td>1.0</td>\n",
       "      <td>0.0</td>\n",
       "      <td>0.0</td>\n",
       "      <td>0.0</td>\n",
       "      <td>0.0</td>\n",
       "      <td>0.0</td>\n",
       "      <td>0.0</td>\n",
       "      <td>0.0</td>\n",
       "      <td>0.0</td>\n",
       "      <td>1.0</td>\n",
       "    </tr>\n",
       "  </tbody>\n",
       "</table>\n",
       "</div>"
      ],
      "text/plain": [
       "           f0a0_word_A_at_0  f0a0_word_A_at_1  f0a0_word_A_at_2  \\\n",
       "sample_id                                                         \n",
       "0                       1.0               1.0               1.0   \n",
       "1                       1.0               1.0               1.0   \n",
       "2                       1.0               1.0               1.0   \n",
       "\n",
       "           f0a0_word_A_at_3  f0a0_word_B_at_0  f0a0_word_B_at_1  \\\n",
       "sample_id                                                         \n",
       "0                       1.0               0.0               0.0   \n",
       "1                       0.0               0.0               0.0   \n",
       "2                       0.0               0.0               0.0   \n",
       "\n",
       "           f0a0_word_B_at_2  f0a0_word_B_at_3  f0a0_word_C_at_0  \\\n",
       "sample_id                                                         \n",
       "0                       0.0               0.0               0.0   \n",
       "1                       0.0               1.0               0.0   \n",
       "2                       0.0               0.0               0.0   \n",
       "\n",
       "           f0a0_word_C_at_1  f0a0_word_C_at_2  f0a0_word_C_at_3  \n",
       "sample_id                                                        \n",
       "0                       0.0               0.0               0.0  \n",
       "1                       0.0               0.0               0.0  \n",
       "2                       0.0               0.0               1.0  "
      ]
     },
     "execution_count": 10,
     "metadata": {},
     "output_type": "execute_result"
    }
   ],
   "source": [
    "def build_context_extractor(context_length, aggregator):\n",
    "    context_extractor = btc.ContextExtractor(\n",
    "        name = 'features',\n",
    "        context_size = context_length,\n",
    "        context_builder = SentenceContextBuilder(),\n",
    "        feature_extractor_factory = btc.SimpleExtractorToAggregatorFactory(\n",
    "            bt.PlainExtractor.build('word').index().apply(\n",
    "                take_columns=['word'], \n",
    "                transformer = dft.DataFrameTransformerFactory.default_factory()\n",
    "            ),\n",
    "            aggregator\n",
    "        ),\n",
    "        finalizer = btc.PandasAggregationFinalizer(\n",
    "            add_presence_columns=False\n",
    "        ),\n",
    "        debug = True\n",
    "    )\n",
    "    return context_extractor\n",
    "\n",
    "context_extractor = build_context_extractor(\n",
    "    db.additional_information.context_length,\n",
    "    btc.PivotAggregator()\n",
    ")\n",
    "context_extractor.fit(ibundle)\n",
    "context_extractor.extract(ibundle_sample)"
   ]
  },
  {
   "cell_type": "markdown",
   "id": "9c7a69ea",
   "metadata": {},
   "source": [
    "Note that it looks exactly as a batch in the very first section. But this time the dataframe is assembled by the components from `tg.common.ml.batched_training.context`, and it's shape and nature can be altered by changing these components, thus enabling different architectures for the networks (including the recurrent ones)"
   ]
  },
  {
   "cell_type": "markdown",
   "id": "0446b007",
   "metadata": {},
   "source": [
    "`ContextExtractor` performs non-trivial functionality, and stepwise debugging may be needed. For this, `debug` argument can be used, exactly as it was the case with `BatchedTrainingTask` (and it also should be **always off** in production due to the same reasons)\n",
    "\n",
    "We can explore intermediate stages within `ContextExtractors`, e.g. the output of the `Extractor`:"
   ]
  },
  {
   "cell_type": "code",
   "execution_count": 11,
   "id": "b3f83126",
   "metadata": {
    "execution": {
     "iopub.execute_input": "2022-06-29T11:29:41.931890Z",
     "iopub.status.busy": "2022-06-29T11:29:41.931137Z",
     "iopub.status.idle": "2022-06-29T11:29:41.934692Z",
     "shell.execute_reply": "2022-06-29T11:29:41.935007Z"
    }
   },
   "outputs": [
    {
     "data": {
      "text/html": [
       "<div>\n",
       "<style scoped>\n",
       "    .dataframe tbody tr th:only-of-type {\n",
       "        vertical-align: middle;\n",
       "    }\n",
       "\n",
       "    .dataframe tbody tr th {\n",
       "        vertical-align: top;\n",
       "    }\n",
       "\n",
       "    .dataframe thead th {\n",
       "        text-align: right;\n",
       "    }\n",
       "</style>\n",
       "<table border=\"1\" class=\"dataframe\">\n",
       "  <thead>\n",
       "    <tr style=\"text-align: right;\">\n",
       "      <th></th>\n",
       "      <th></th>\n",
       "      <th>word_A</th>\n",
       "      <th>word_B</th>\n",
       "      <th>word_C</th>\n",
       "    </tr>\n",
       "    <tr>\n",
       "      <th>sample_id</th>\n",
       "      <th>word_position</th>\n",
       "      <th></th>\n",
       "      <th></th>\n",
       "      <th></th>\n",
       "    </tr>\n",
       "  </thead>\n",
       "  <tbody>\n",
       "    <tr>\n",
       "      <th rowspan=\"4\" valign=\"top\">0</th>\n",
       "      <th>0</th>\n",
       "      <td>1.0</td>\n",
       "      <td>0.0</td>\n",
       "      <td>0.0</td>\n",
       "    </tr>\n",
       "    <tr>\n",
       "      <th>1</th>\n",
       "      <td>1.0</td>\n",
       "      <td>0.0</td>\n",
       "      <td>0.0</td>\n",
       "    </tr>\n",
       "    <tr>\n",
       "      <th>2</th>\n",
       "      <td>1.0</td>\n",
       "      <td>0.0</td>\n",
       "      <td>0.0</td>\n",
       "    </tr>\n",
       "    <tr>\n",
       "      <th>3</th>\n",
       "      <td>1.0</td>\n",
       "      <td>0.0</td>\n",
       "      <td>0.0</td>\n",
       "    </tr>\n",
       "    <tr>\n",
       "      <th>1</th>\n",
       "      <th>0</th>\n",
       "      <td>1.0</td>\n",
       "      <td>0.0</td>\n",
       "      <td>0.0</td>\n",
       "    </tr>\n",
       "  </tbody>\n",
       "</table>\n",
       "</div>"
      ],
      "text/plain": [
       "                         word_A  word_B  word_C\n",
       "sample_id word_position                        \n",
       "0         0                 1.0     0.0     0.0\n",
       "          1                 1.0     0.0     0.0\n",
       "          2                 1.0     0.0     0.0\n",
       "          3                 1.0     0.0     0.0\n",
       "1         0                 1.0     0.0     0.0"
      ]
     },
     "execution_count": 11,
     "metadata": {},
     "output_type": "execute_result"
    }
   ],
   "source": [
    "context_extractor.data_.feature_dfs['f0'].head()"
   ]
  },
  {
   "cell_type": "markdown",
   "id": "97912838",
   "metadata": {},
   "source": [
    "Now, we will assemble the neural network to train on this data. "
   ]
  },
  {
   "cell_type": "code",
   "execution_count": 12,
   "id": "2dbb5cfe",
   "metadata": {
    "execution": {
     "iopub.execute_input": "2022-06-29T11:29:41.944896Z",
     "iopub.status.busy": "2022-06-29T11:29:41.941566Z",
     "iopub.status.idle": "2022-06-29T11:29:45.929794Z",
     "shell.execute_reply": "2022-06-29T11:29:45.930108Z"
    }
   },
   "outputs": [
    {
     "data": {
      "image/png": "[encoded data removed]",
      "text/plain": [
       "<Figure size 432x288 with 1 Axes>"
      ]
     },
     "metadata": {
      "needs_background": "light"
     },
     "output_type": "display_data"
    }
   ],
   "source": [
    "def create_sequential_task(context_extractor, network_factory, lr = 1, epochs = 100):\n",
    "    task = btt.TorchTrainingTask(\n",
    "        bt.TrainingSettings(epoch_count=epochs),\n",
    "        btt.TorchTrainingSettings(\n",
    "            optimizer_ctor=btt.OptimizerConstructor('torch.optim:SGD', lr=lr)\n",
    "        ),\n",
    "        btt.PredefinedExtractorFactory(\n",
    "            context_extractor,\n",
    "            bt.PlainExtractor.build('label').index().apply(take_columns='label')\n",
    "        ),\n",
    "        network_factory,\n",
    "        bt.MetricPool().add_sklearn(roc_auc_score)\n",
    "    )\n",
    "    return task\n",
    "\n",
    "task = create_sequential_task(\n",
    "    build_context_extractor(\n",
    "        db.additional_information.context_length,\n",
    "        btc.PivotAggregator()\n",
    "    ),\n",
    "    btt.FullyConnectedNetwork.Factory([100,1]).prepend_extraction(['features'])\n",
    ")\n",
    "    \n",
    "get_roc_auc_curve('', task, db).plot()\n",
    "pass"
   ]
  },
  {
   "cell_type": "markdown",
   "id": "c423bb32",
   "metadata": {},
   "source": [
    "So, the system achieved the same performance at the same time, as a naive implementation, confirming the correctness of the implementation (of course, the used classes are also covered by tests).\n",
    "\n",
    "Let's now explore the task a bit further and see how the context length affects the performance:"
   ]
  },
  {
   "cell_type": "code",
   "execution_count": 13,
   "id": "00d0bfbb",
   "metadata": {
    "execution": {
     "iopub.execute_input": "2022-06-29T11:29:45.952914Z",
     "iopub.status.busy": "2022-06-29T11:29:45.952466Z",
     "iopub.status.idle": "2022-06-29T11:30:03.272417Z",
     "shell.execute_reply": "2022-06-29T11:30:03.272754Z"
    }
   },
   "outputs": [
    {
     "data": {
      "application/vnd.jupyter.widget-view+json": {
       "model_id": "0d2de5b02ff244759494a925990d6dc7",
       "version_major": 2,
       "version_minor": 0
      },
      "text/plain": [
       "  0%|          | 0/4 [00:00<?, ?it/s]"
      ]
     },
     "metadata": {},
     "output_type": "display_data"
    },
    {
     "data": {
      "image/png": "[encoded data removed]",
      "text/plain": [
       "<Figure size 432x288 with 1 Axes>"
      ]
     },
     "metadata": {
      "needs_background": "light"
     },
     "output_type": "display_data"
    }
   ],
   "source": [
    "curves = []\n",
    "for i in Query.en(range(1,db.additional_information.context_length+1)).feed(fluq.with_progress_bar()):\n",
    "    task = create_sequential_task(\n",
    "        build_context_extractor(i, btc.PivotAggregator()),\n",
    "        btt.FullyConnectedNetwork.Factory([100,1]).prepend_extraction(['features'])\n",
    "    )\n",
    "    curves.append(get_roc_auc_curve(i, task, db))\n",
    "pd.DataFrame(curves).transpose().plot()\n",
    "pass"
   ]
  },
  {
   "cell_type": "markdown",
   "id": "7dcfb020",
   "metadata": {},
   "source": [
    "Unsurprisingly, we see that if the context is smaller that the actual length of the sentences in our langauge $L$, the performance decreases."
   ]
  },
  {
   "cell_type": "markdown",
   "id": "3e7d25a0",
   "metadata": {},
   "source": [
    "`PivotAggregator` is the most memory-consuming way of representing the contextual data. In this example it's fine, but if context consists of dozens of samples, each having dozens of extracted columns, `PivotAggregator` will produce a very huge matrix that may overfill the memory. \n",
    "\n",
    "This is why you may also want to use other aggregators. For instance, `GroupByAggregator` will process the `features` dataframe with grouping by `sample_id` and applying the aggregating functions:"
   ]
  },
  {
   "cell_type": "code",
   "execution_count": 14,
   "id": "8b8861ff",
   "metadata": {
    "execution": {
     "iopub.execute_input": "2022-06-29T11:30:03.283088Z",
     "iopub.status.busy": "2022-06-29T11:30:03.280040Z",
     "iopub.status.idle": "2022-06-29T11:30:03.348067Z",
     "shell.execute_reply": "2022-06-29T11:30:03.348431Z"
    }
   },
   "outputs": [
    {
     "data": {
      "text/html": [
       "<div>\n",
       "<style scoped>\n",
       "    .dataframe tbody tr th:only-of-type {\n",
       "        vertical-align: middle;\n",
       "    }\n",
       "\n",
       "    .dataframe tbody tr th {\n",
       "        vertical-align: top;\n",
       "    }\n",
       "\n",
       "    .dataframe thead th {\n",
       "        text-align: right;\n",
       "    }\n",
       "</style>\n",
       "<table border=\"1\" class=\"dataframe\">\n",
       "  <thead>\n",
       "    <tr style=\"text-align: right;\">\n",
       "      <th></th>\n",
       "      <th>word_A_mean</th>\n",
       "      <th>word_A_max</th>\n",
       "      <th>word_B_mean</th>\n",
       "      <th>word_B_max</th>\n",
       "      <th>word_C_mean</th>\n",
       "      <th>word_C_max</th>\n",
       "    </tr>\n",
       "    <tr>\n",
       "      <th>sample_id</th>\n",
       "      <th></th>\n",
       "      <th></th>\n",
       "      <th></th>\n",
       "      <th></th>\n",
       "      <th></th>\n",
       "      <th></th>\n",
       "    </tr>\n",
       "  </thead>\n",
       "  <tbody>\n",
       "    <tr>\n",
       "      <th>0</th>\n",
       "      <td>1.00</td>\n",
       "      <td>1.0</td>\n",
       "      <td>0.00</td>\n",
       "      <td>0.0</td>\n",
       "      <td>0.00</td>\n",
       "      <td>0.0</td>\n",
       "    </tr>\n",
       "    <tr>\n",
       "      <th>1</th>\n",
       "      <td>0.75</td>\n",
       "      <td>1.0</td>\n",
       "      <td>0.25</td>\n",
       "      <td>1.0</td>\n",
       "      <td>0.00</td>\n",
       "      <td>0.0</td>\n",
       "    </tr>\n",
       "    <tr>\n",
       "      <th>2</th>\n",
       "      <td>0.75</td>\n",
       "      <td>1.0</td>\n",
       "      <td>0.00</td>\n",
       "      <td>0.0</td>\n",
       "      <td>0.25</td>\n",
       "      <td>1.0</td>\n",
       "    </tr>\n",
       "    <tr>\n",
       "      <th>3</th>\n",
       "      <td>0.75</td>\n",
       "      <td>1.0</td>\n",
       "      <td>0.25</td>\n",
       "      <td>1.0</td>\n",
       "      <td>0.00</td>\n",
       "      <td>0.0</td>\n",
       "    </tr>\n",
       "    <tr>\n",
       "      <th>4</th>\n",
       "      <td>0.50</td>\n",
       "      <td>1.0</td>\n",
       "      <td>0.50</td>\n",
       "      <td>1.0</td>\n",
       "      <td>0.00</td>\n",
       "      <td>0.0</td>\n",
       "    </tr>\n",
       "  </tbody>\n",
       "</table>\n",
       "</div>"
      ],
      "text/plain": [
       "           word_A_mean  word_A_max  word_B_mean  word_B_max  word_C_mean  \\\n",
       "sample_id                                                                  \n",
       "0                 1.00         1.0         0.00         0.0         0.00   \n",
       "1                 0.75         1.0         0.25         1.0         0.00   \n",
       "2                 0.75         1.0         0.00         0.0         0.25   \n",
       "3                 0.75         1.0         0.25         1.0         0.00   \n",
       "4                 0.50         1.0         0.50         1.0         0.00   \n",
       "\n",
       "           word_C_max  \n",
       "sample_id              \n",
       "0                 0.0  \n",
       "1                 0.0  \n",
       "2                 1.0  \n",
       "3                 0.0  \n",
       "4                 0.0  "
      ]
     },
     "execution_count": 14,
     "metadata": {},
     "output_type": "execute_result"
    }
   ],
   "source": [
    "context_extractor = build_context_extractor(i, btc.GroupByAggregator(['mean','max']))\n",
    "task = create_sequential_task(\n",
    "    context_extractor,\n",
    "    btt.FullyConnectedNetwork.Factory([100,1]).prepend_extraction('features')\n",
    ")\n",
    "batch = task.generate_sample_batch(db)\n",
    "Query.en(context_extractor.data_.agg_dfs.values()).first().head()"
   ]
  },
  {
   "cell_type": "markdown",
   "id": "f9436aa8",
   "metadata": {},
   "source": [
    "Let's evaluate performance of this system as well"
   ]
  },
  {
   "cell_type": "code",
   "execution_count": 15,
   "id": "9c85670e",
   "metadata": {
    "execution": {
     "iopub.execute_input": "2022-06-29T11:30:03.365937Z",
     "iopub.status.busy": "2022-06-29T11:30:03.365350Z",
     "iopub.status.idle": "2022-06-29T11:30:18.897867Z",
     "shell.execute_reply": "2022-06-29T11:30:18.897477Z"
    }
   },
   "outputs": [
    {
     "data": {
      "application/vnd.jupyter.widget-view+json": {
       "model_id": "6ba883f2208f4bd2a0b568092affdbff",
       "version_major": 2,
       "version_minor": 0
      },
      "text/plain": [
       "  0%|          | 0/4 [00:00<?, ?it/s]"
      ]
     },
     "metadata": {},
     "output_type": "display_data"
    },
    {
     "data": {
      "image/png": "[encoded data removed]",
      "text/plain": [
       "<Figure size 432x288 with 1 Axes>"
      ]
     },
     "metadata": {
      "needs_background": "light"
     },
     "output_type": "display_data"
    }
   ],
   "source": [
    "curves = []\n",
    "for i in Query.en(range(1,db.additional_information.context_length+1)).feed(fluq.with_progress_bar()):\n",
    "    task = create_sequential_task(\n",
    "        build_context_extractor(i, btc.GroupByAggregator(['mean', 'max'])),\n",
    "        btt.FullyConnectedNetwork.Factory([100,1]).prepend_extraction('features')\n",
    "    )\n",
    "    curves.append(get_roc_auc_curve(i, task, db))\n",
    "pd.DataFrame(curves).transpose().plot()\n",
    "pass"
   ]
  },
  {
   "cell_type": "markdown",
   "id": "a8ac080d",
   "metadata": {},
   "source": [
    "Of course, it does not work well, because we effectively destroy the information about the order of the letter in the word. \n",
    "\n",
    "But maybe we can invent some custom aggregator, which averages elements of the context with different weights, so the information is somehow preserved:"
   ]
  },
  {
   "cell_type": "code",
   "execution_count": 16,
   "id": "71cf3b59",
   "metadata": {
    "execution": {
     "iopub.execute_input": "2022-06-29T11:30:18.908312Z",
     "iopub.status.busy": "2022-06-29T11:30:18.905878Z",
     "iopub.status.idle": "2022-06-29T11:30:18.960688Z",
     "shell.execute_reply": "2022-06-29T11:30:18.960329Z"
    }
   },
   "outputs": [
    {
     "data": {
      "text/html": [
       "<div>\n",
       "<style scoped>\n",
       "    .dataframe tbody tr th:only-of-type {\n",
       "        vertical-align: middle;\n",
       "    }\n",
       "\n",
       "    .dataframe tbody tr th {\n",
       "        vertical-align: top;\n",
       "    }\n",
       "\n",
       "    .dataframe thead th {\n",
       "        text-align: right;\n",
       "    }\n",
       "</style>\n",
       "<table border=\"1\" class=\"dataframe\">\n",
       "  <thead>\n",
       "    <tr style=\"text-align: right;\">\n",
       "      <th></th>\n",
       "      <th>word_A</th>\n",
       "      <th>word_B</th>\n",
       "      <th>word_C</th>\n",
       "    </tr>\n",
       "    <tr>\n",
       "      <th>sample_id</th>\n",
       "      <th></th>\n",
       "      <th></th>\n",
       "      <th></th>\n",
       "    </tr>\n",
       "  </thead>\n",
       "  <tbody>\n",
       "    <tr>\n",
       "      <th>0</th>\n",
       "      <td>0.520833</td>\n",
       "      <td>0.000000</td>\n",
       "      <td>0.0000</td>\n",
       "    </tr>\n",
       "    <tr>\n",
       "      <th>1</th>\n",
       "      <td>0.458333</td>\n",
       "      <td>0.062500</td>\n",
       "      <td>0.0000</td>\n",
       "    </tr>\n",
       "    <tr>\n",
       "      <th>2</th>\n",
       "      <td>0.458333</td>\n",
       "      <td>0.000000</td>\n",
       "      <td>0.0625</td>\n",
       "    </tr>\n",
       "    <tr>\n",
       "      <th>3</th>\n",
       "      <td>0.437500</td>\n",
       "      <td>0.083333</td>\n",
       "      <td>0.0000</td>\n",
       "    </tr>\n",
       "    <tr>\n",
       "      <th>4</th>\n",
       "      <td>0.375000</td>\n",
       "      <td>0.145833</td>\n",
       "      <td>0.0000</td>\n",
       "    </tr>\n",
       "  </tbody>\n",
       "</table>\n",
       "</div>"
      ],
      "text/plain": [
       "             word_A    word_B  word_C\n",
       "sample_id                            \n",
       "0          0.520833  0.000000  0.0000\n",
       "1          0.458333  0.062500  0.0000\n",
       "2          0.458333  0.000000  0.0625\n",
       "3          0.437500  0.083333  0.0000\n",
       "4          0.375000  0.145833  0.0000"
      ]
     },
     "execution_count": 16,
     "metadata": {},
     "output_type": "execute_result"
    }
   ],
   "source": [
    "class CustomAggregator(btc.ContextAggregator):\n",
    "    def aggregate_context(self, features_df):\n",
    "        names = features_df.index.names\n",
    "        if names[0] is None:\n",
    "            raise ValueError('There is `None` in the features df index. This aggregator requires you to set the name for index of your samples')\n",
    "        columns = features_df.columns\n",
    "        df = features_df.reset_index()\n",
    "        for c in columns:\n",
    "            df[c] = df[c]/(df[names[1]]+1)\n",
    "        df = df.groupby(names[0])[columns].mean()\n",
    "        return df\n",
    "    \n",
    "context_extractor = build_context_extractor(i, CustomAggregator())\n",
    "task = create_sequential_task(\n",
    "    context_extractor,\n",
    "    btt.FullyConnectedNetwork.Factory([100,1]).prepend_extraction('features')\n",
    ")\n",
    "batch = task.generate_sample_batch(db)\n",
    "Query.en(context_extractor.data_.agg_dfs.values()).first().head()"
   ]
  },
  {
   "cell_type": "code",
   "execution_count": 17,
   "id": "512564ea",
   "metadata": {
    "execution": {
     "iopub.execute_input": "2022-06-29T11:30:18.981329Z",
     "iopub.status.busy": "2022-06-29T11:30:18.980494Z",
     "iopub.status.idle": "2022-06-29T11:30:32.187023Z",
     "shell.execute_reply": "2022-06-29T11:30:32.187369Z"
    }
   },
   "outputs": [
    {
     "data": {
      "application/vnd.jupyter.widget-view+json": {
       "model_id": "228719356f5d4c79aff13798050ffb0f",
       "version_major": 2,
       "version_minor": 0
      },
      "text/plain": [
       "  0%|          | 0/4 [00:00<?, ?it/s]"
      ]
     },
     "metadata": {},
     "output_type": "display_data"
    },
    {
     "data": {
      "image/png": "[encoded data removed]",
      "text/plain": [
       "<Figure size 432x288 with 1 Axes>"
      ]
     },
     "metadata": {
      "needs_background": "light"
     },
     "output_type": "display_data"
    }
   ],
   "source": [
    "curves = []\n",
    "for i in Query.en(range(1,db.additional_information.context_length+1)).feed(fluq.with_progress_bar()):\n",
    "    task = create_sequential_task(\n",
    "        build_context_extractor(i, CustomAggregator()),\n",
    "        btt.FullyConnectedNetwork.Factory([100,1]).prepend_extraction('features')\n",
    "    )\n",
    "    curves.append(get_roc_auc_curve(i, task, db))\n",
    "pd.DataFrame(curves).transpose().plot()\n",
    "pass"
   ]
  },
  {
   "cell_type": "markdown",
   "id": "ac9a77f9",
   "metadata": {},
   "source": [
    "Well, sounded good, didn't work."
   ]
  },
  {
   "cell_type": "markdown",
   "id": "0c578047",
   "metadata": {},
   "source": [
    "## Caching contextual features"
   ]
  },
  {
   "cell_type": "markdown",
   "id": "b67a0b5e",
   "metadata": {},
   "source": [
    "In some cases, contextual features are very large. If we had context length of 10 and 10 letters, we would have 100-fold increase of the size for index in the intermediate tables. This might overfill the memory, and this is why we compute the contextual features for the batch instead of the whole index.\n",
    "\n",
    "However, that might bring the performance issues, as the contextual features are computed repeatedly, in each epoch. \n",
    "\n",
    "To offer a balance for that, we offer `PrecomputingExtractor`. This is a decorator that runs an arbitrary extractor in the beginning of the training, fits it, computes the features for the whole index and stores in the bundle."
   ]
  },
  {
   "cell_type": "code",
   "execution_count": 18,
   "id": "ea24b2be",
   "metadata": {
    "execution": {
     "iopub.execute_input": "2022-06-29T11:30:32.193368Z",
     "iopub.status.busy": "2022-06-29T11:30:32.192228Z",
     "iopub.status.idle": "2022-06-29T11:30:32.232066Z",
     "shell.execute_reply": "2022-06-29T11:30:32.232941Z"
    }
   },
   "outputs": [
    {
     "data": {
      "text/html": [
       "<div>\n",
       "<style scoped>\n",
       "    .dataframe tbody tr th:only-of-type {\n",
       "        vertical-align: middle;\n",
       "    }\n",
       "\n",
       "    .dataframe tbody tr th {\n",
       "        vertical-align: top;\n",
       "    }\n",
       "\n",
       "    .dataframe thead th {\n",
       "        text-align: right;\n",
       "    }\n",
       "</style>\n",
       "<table border=\"1\" class=\"dataframe\">\n",
       "  <thead>\n",
       "    <tr style=\"text-align: right;\">\n",
       "      <th></th>\n",
       "      <th>f0a0_word_A_mean</th>\n",
       "      <th>f0a0_word_A_max</th>\n",
       "      <th>f0a0_word_B_mean</th>\n",
       "      <th>f0a0_word_B_max</th>\n",
       "      <th>f0a0_word_C_mean</th>\n",
       "      <th>f0a0_word_C_max</th>\n",
       "    </tr>\n",
       "    <tr>\n",
       "      <th>sample_id</th>\n",
       "      <th></th>\n",
       "      <th></th>\n",
       "      <th></th>\n",
       "      <th></th>\n",
       "      <th></th>\n",
       "      <th></th>\n",
       "    </tr>\n",
       "  </thead>\n",
       "  <tbody>\n",
       "    <tr>\n",
       "      <th>0</th>\n",
       "      <td>1.00</td>\n",
       "      <td>1.0</td>\n",
       "      <td>0.00</td>\n",
       "      <td>0.0</td>\n",
       "      <td>0.00</td>\n",
       "      <td>0.0</td>\n",
       "    </tr>\n",
       "    <tr>\n",
       "      <th>1</th>\n",
       "      <td>0.75</td>\n",
       "      <td>1.0</td>\n",
       "      <td>0.25</td>\n",
       "      <td>1.0</td>\n",
       "      <td>0.00</td>\n",
       "      <td>0.0</td>\n",
       "    </tr>\n",
       "    <tr>\n",
       "      <th>2</th>\n",
       "      <td>0.75</td>\n",
       "      <td>1.0</td>\n",
       "      <td>0.00</td>\n",
       "      <td>0.0</td>\n",
       "      <td>0.25</td>\n",
       "      <td>1.0</td>\n",
       "    </tr>\n",
       "    <tr>\n",
       "      <th>3</th>\n",
       "      <td>0.75</td>\n",
       "      <td>1.0</td>\n",
       "      <td>0.25</td>\n",
       "      <td>1.0</td>\n",
       "      <td>0.00</td>\n",
       "      <td>0.0</td>\n",
       "    </tr>\n",
       "    <tr>\n",
       "      <th>4</th>\n",
       "      <td>0.50</td>\n",
       "      <td>1.0</td>\n",
       "      <td>0.50</td>\n",
       "      <td>1.0</td>\n",
       "      <td>0.00</td>\n",
       "      <td>0.0</td>\n",
       "    </tr>\n",
       "  </tbody>\n",
       "</table>\n",
       "</div>"
      ],
      "text/plain": [
       "           f0a0_word_A_mean  f0a0_word_A_max  f0a0_word_B_mean  \\\n",
       "sample_id                                                        \n",
       "0                      1.00              1.0              0.00   \n",
       "1                      0.75              1.0              0.25   \n",
       "2                      0.75              1.0              0.00   \n",
       "3                      0.75              1.0              0.25   \n",
       "4                      0.50              1.0              0.50   \n",
       "\n",
       "           f0a0_word_B_max  f0a0_word_C_mean  f0a0_word_C_max  \n",
       "sample_id                                                      \n",
       "0                      0.0              0.00              0.0  \n",
       "1                      1.0              0.00              0.0  \n",
       "2                      0.0              0.25              1.0  \n",
       "3                      1.0              0.00              0.0  \n",
       "4                      1.0              0.00              0.0  "
      ]
     },
     "execution_count": 18,
     "metadata": {},
     "output_type": "execute_result"
    }
   ],
   "source": [
    "import copy \n",
    "\n",
    "context_extractor = build_context_extractor(i, btc.GroupByAggregator(['mean','max']))\n",
    "precompuring_extractor = bt.PrecomputingExtractor(\n",
    "    name = \"precomputed_features\",\n",
    "    inner_extractor = context_extractor)\n",
    "ibundle_test = copy.deepcopy(ibundle)\n",
    "precompuring_extractor.fit(ibundle)\n",
    "ibundle.bundle.precomputed_features.head()"
   ]
  },
  {
   "cell_type": "markdown",
   "id": "45c82fb7",
   "metadata": {},
   "source": [
    "As we see, the features were precomputed and added in `fit` method, which is called once before all the training start. The implementation will work for `BatchedTrainingTask.predict` method, as `PrecomputingExtractor`, when fitted, computes features in `preprocess_bundle` method, called by `predict`."
   ]
  },
  {
   "cell_type": "markdown",
   "id": "f31577e8",
   "metadata": {},
   "source": [
    "## LSTM"
   ]
  },
  {
   "cell_type": "markdown",
   "id": "8d6302e7",
   "metadata": {},
   "source": [
    "LSTM network, and, generally, recurrent neural networks are designed specifically for the tasks with context. So it's natural to try them for our tasks.\n",
    "\n",
    "These networks, however, require 3-dimensional tensor as an input. So, we will need to modify the `ContextExtractor` in the following way:"
   ]
  },
  {
   "cell_type": "code",
   "execution_count": 19,
   "id": "d781d4d6",
   "metadata": {
    "execution": {
     "iopub.execute_input": "2022-06-29T11:30:32.247203Z",
     "iopub.status.busy": "2022-06-29T11:30:32.244671Z",
     "iopub.status.idle": "2022-06-29T11:30:32.284863Z",
     "shell.execute_reply": "2022-06-29T11:30:32.285180Z"
    }
   },
   "outputs": [],
   "source": [
    "def build_lstm_extractor(context_length):\n",
    "    context_extractor = btc.ContextExtractor(\n",
    "        name = 'features',\n",
    "        context_size = context_length,\n",
    "        context_builder = SentenceContextBuilder(),\n",
    "        feature_extractor_factory = btc.SimpleExtractorToAggregatorFactory(\n",
    "            bt.PlainExtractor.build('word').index().apply(\n",
    "                take_columns=['word'], \n",
    "                transformer = dft.DataFrameTransformerFactory.default_factory()\n",
    "            )),\n",
    "        finalizer = btt.LSTMFinalizer()\n",
    "    )\n",
    "    return context_extractor\n",
    "\n",
    "lstm_extractor = build_lstm_extractor(ibundle.bundle.additional_information.context_length)\n",
    "lstm_extractor.fit(ibundle)\n",
    "value = lstm_extractor.extract(ibundle_sample)"
   ]
  },
  {
   "cell_type": "markdown",
   "id": "40eb190a",
   "metadata": {},
   "source": [
    "Here, we \n",
    "\n",
    "* don't use the aggregator. Aggregators are converting the context with features into 2-dimensional structure, which is exactly what we want to avoid.\n",
    "* use `LSTMFinalizer` instead of `PandasFinalizer`\n",
    "\n",
    "`LSTMFinalizer` looks at the feature table and converts it into tensor with the right dimensions:"
   ]
  },
  {
   "cell_type": "code",
   "execution_count": 20,
   "id": "1cc0007f",
   "metadata": {
    "execution": {
     "iopub.execute_input": "2022-06-29T11:30:32.288197Z",
     "iopub.status.busy": "2022-06-29T11:30:32.287800Z",
     "iopub.status.idle": "2022-06-29T11:30:32.291496Z",
     "shell.execute_reply": "2022-06-29T11:30:32.291870Z"
    }
   },
   "outputs": [
    {
     "data": {
      "text/plain": [
       "tensor([[[1., 0., 0.],\n",
       "         [1., 0., 0.],\n",
       "         [1., 0., 0.]],\n",
       "\n",
       "        [[1., 0., 0.],\n",
       "         [1., 0., 0.],\n",
       "         [1., 0., 0.]],\n",
       "\n",
       "        [[1., 0., 0.],\n",
       "         [1., 0., 0.],\n",
       "         [1., 0., 0.]],\n",
       "\n",
       "        [[1., 0., 0.],\n",
       "         [0., 1., 0.],\n",
       "         [0., 0., 1.]]])"
      ]
     },
     "execution_count": 20,
     "metadata": {},
     "output_type": "execute_result"
    }
   ],
   "source": [
    "value.tensor"
   ]
  },
  {
   "cell_type": "code",
   "execution_count": 21,
   "id": "f51d4c2e",
   "metadata": {
    "execution": {
     "iopub.execute_input": "2022-06-29T11:30:32.295095Z",
     "iopub.status.busy": "2022-06-29T11:30:32.294690Z",
     "iopub.status.idle": "2022-06-29T11:30:32.296884Z",
     "shell.execute_reply": "2022-06-29T11:30:32.297210Z"
    }
   },
   "outputs": [
    {
     "data": {
      "text/plain": [
       "['word_position', 'sample_id', 'features']"
      ]
     },
     "execution_count": 21,
     "metadata": {},
     "output_type": "execute_result"
    }
   ],
   "source": [
    "value.dim_names"
   ]
  },
  {
   "cell_type": "code",
   "execution_count": 22,
   "id": "c3c783e7",
   "metadata": {
    "execution": {
     "iopub.execute_input": "2022-06-29T11:30:32.303532Z",
     "iopub.status.busy": "2022-06-29T11:30:32.302621Z",
     "iopub.status.idle": "2022-06-29T11:30:32.305389Z",
     "shell.execute_reply": "2022-06-29T11:30:32.305709Z"
    }
   },
   "outputs": [
    {
     "data": {
      "text/plain": [
       "[[0, 1, 2, 3], [0, 1, 2], ['word_A', 'word_B', 'word_C']]"
      ]
     },
     "execution_count": 22,
     "metadata": {},
     "output_type": "execute_result"
    }
   ],
   "source": [
    "value.dim_indices"
   ]
  },
  {
   "cell_type": "markdown",
   "id": "63bf81b9",
   "metadata": {},
   "source": [
    "Now, we can train a neural network with `LSTMNetwork` component, which is a slim decorator over `LSTM` that manages it's output."
   ]
  },
  {
   "cell_type": "code",
   "execution_count": 23,
   "id": "970c85b1",
   "metadata": {
    "execution": {
     "iopub.execute_input": "2022-06-29T11:30:32.312634Z",
     "iopub.status.busy": "2022-06-29T11:30:32.312210Z",
     "iopub.status.idle": "2022-06-29T11:30:35.690142Z",
     "shell.execute_reply": "2022-06-29T11:30:35.690456Z"
    }
   },
   "outputs": [
    {
     "data": {
      "image/png": "[encoded data removed]",
      "text/plain": [
       "<Figure size 432x288 with 1 Axes>"
      ]
     },
     "metadata": {
      "needs_background": "light"
     },
     "output_type": "display_data"
    }
   ],
   "source": [
    "def build_lstm_network_factory(lstm_size):\n",
    "    return btt.FeedForwardNetwork.Factory(\n",
    "        btt.ExtractingNetwork.Factory('features'),\n",
    "        btt.LSTMNetwork.Factory(lstm_size),\n",
    "        btt.FullyConnectedNetwork.Factory([1])\n",
    "    )\n",
    "\n",
    "\n",
    "task = create_sequential_task(\n",
    "    build_lstm_extractor(db.additional_information.context_length),\n",
    "    build_lstm_network_factory(10),\n",
    "    epochs = 100,\n",
    ")\n",
    "\n",
    "get_roc_auc_curve('', task, db).plot()\n",
    "pass"
   ]
  },
  {
   "cell_type": "markdown",
   "id": "cbda0005",
   "metadata": {},
   "source": [
    "We see that after 100 iterations the quality is low, but growing, while previous systems have stabilized at this point. So, we will train this network for a longer time."
   ]
  },
  {
   "cell_type": "code",
   "execution_count": 24,
   "id": "6a276c76",
   "metadata": {
    "execution": {
     "iopub.execute_input": "2022-06-29T11:30:35.699790Z",
     "iopub.status.busy": "2022-06-29T11:30:35.696639Z",
     "iopub.status.idle": "2022-06-29T11:31:11.371792Z",
     "shell.execute_reply": "2022-06-29T11:31:11.372098Z"
    }
   },
   "outputs": [
    {
     "data": {
      "image/png": "[encoded data removed]",
      "text/plain": [
       "<Figure size 432x288 with 1 Axes>"
      ]
     },
     "metadata": {
      "needs_background": "light"
     },
     "output_type": "display_data"
    }
   ],
   "source": [
    "task = create_sequential_task(\n",
    "    build_lstm_extractor(db.additional_information.context_length),\n",
    "    build_lstm_network_factory(10),\n",
    "    epochs = 1000\n",
    ")\n",
    "\n",
    "get_roc_auc_curve('', task, db).plot()\n",
    "pass"
   ]
  },
  {
   "cell_type": "markdown",
   "id": "a19574fa",
   "metadata": {},
   "source": [
    "In all the cases we run this cell, the quality of the \"plain\" networks was surpassed, often reaching the 0.9 value without stabilization. It might be the sign that this network architecture is indeed superior in comparison with the other, but this is anyway not the point we're trying to make. The point is that the classes, used for the data transformation, are working correctly and are ready to be used in conjustion with LSTM and other recurrent neural networks."
   ]
  }
 ],
 "metadata": {
  "kernelspec": {
   "display_name": "Python 3 (ipykernel)",
   "language": "python",
   "name": "python3"
  },
  "language_info": {
   "codemirror_mode": {
    "name": "ipython",
    "version": 3
   },
   "file_extension": ".py",
   "mimetype": "text/x-python",
   "name": "python",
   "nbconvert_exporter": "python",
   "pygments_lexer": "ipython3",
   "version": "3.8.13"
  },
  "widgets": {
   "application/vnd.jupyter.widget-state+json": {
    "state": {
     "0d2de5b02ff244759494a925990d6dc7": {
      "model_module": "@jupyter-widgets/controls",
      "model_module_version": "1.5.0",
      "model_name": "HBoxModel",
      "state": {
       "_dom_classes": [],
       "_model_module": "@jupyter-widgets/controls",
       "_model_module_version": "1.5.0",
       "_model_name": "HBoxModel",
       "_view_count": null,
       "_view_module": "@jupyter-widgets/controls",
       "_view_module_version": "1.5.0",
       "_view_name": "HBoxView",
       "box_style": "",
       "children": [
        "IPY_MODEL_c691c9f8f61d4c9ca592f93b719fbef4",
        "IPY_MODEL_87752e59f6f9404f874fb9f279f38f8a",
        "IPY_MODEL_bf99d671f35c4fa48e2f45ac2da8dcd6"
       ],
       "layout": "IPY_MODEL_317809a561174c258e8d58201398ed9d"
      }
     },
     "10a9f50d8b18484ab7dab2674197f567": {
      "model_module": "@jupyter-widgets/base",
      "model_module_version": "1.2.0",
      "model_name": "LayoutModel",
      "state": {
       "_model_module": "@jupyter-widgets/base",
       "_model_module_version": "1.2.0",
       "_model_name": "LayoutModel",
       "_view_count": null,
       "_view_module": "@jupyter-widgets/base",
       "_view_module_version": "1.2.0",
       "_view_name": "LayoutView",
       "align_content": null,
       "align_items": null,
       "align_self": null,
       "border": null,
       "bottom": null,
       "display": null,
       "flex": null,
       "flex_flow": null,
       "grid_area": null,
       "grid_auto_columns": null,
       "grid_auto_flow": null,
       "grid_auto_rows": null,
       "grid_column": null,
       "grid_gap": null,
       "grid_row": null,
       "grid_template_areas": null,
       "grid_template_columns": null,
       "grid_template_rows": null,
       "height": null,
       "justify_content": null,
       "justify_items": null,
       "left": null,
       "margin": null,
       "max_height": null,
       "max_width": null,
       "min_height": null,
       "min_width": null,
       "object_fit": null,
       "object_position": null,
       "order": null,
       "overflow": null,
       "overflow_x": null,
       "overflow_y": null,
       "padding": null,
       "right": null,
       "top": null,
       "visibility": null,
       "width": null
      }
     },
     "1419dc19e639480aa4adacf28d10c1fe": {
      "model_module": "@jupyter-widgets/base",
      "model_module_version": "1.2.0",
      "model_name": "LayoutModel",
      "state": {
       "_model_module": "@jupyter-widgets/base",
       "_model_module_version": "1.2.0",
       "_model_name": "LayoutModel",
       "_view_count": null,
       "_view_module": "@jupyter-widgets/base",
       "_view_module_version": "1.2.0",
       "_view_name": "LayoutView",
       "align_content": null,
       "align_items": null,
       "align_self": null,
       "border": null,
       "bottom": null,
       "display": null,
       "flex": null,
       "flex_flow": null,
       "grid_area": null,
       "grid_auto_columns": null,
       "grid_auto_flow": null,
       "grid_auto_rows": null,
       "grid_column": null,
       "grid_gap": null,
       "grid_row": null,
       "grid_template_areas": null,
       "grid_template_columns": null,
       "grid_template_rows": null,
       "height": null,
       "justify_content": null,
       "justify_items": null,
       "left": null,
       "margin": null,
       "max_height": null,
       "max_width": null,
       "min_height": null,
       "min_width": null,
       "object_fit": null,
       "object_position": null,
       "order": null,
       "overflow": null,
       "overflow_x": null,
       "overflow_y": null,
       "padding": null,
       "right": null,
       "top": null,
       "visibility": null,
       "width": null
      }
     },
     "14610704eba84751b0dd06571eba076e": {
      "model_module": "@jupyter-widgets/controls",
      "model_module_version": "1.5.0",
      "model_name": "DescriptionStyleModel",
      "state": {
       "_model_module": "@jupyter-widgets/controls",
       "_model_module_version": "1.5.0",
       "_model_name": "DescriptionStyleModel",
       "_view_count": null,
       "_view_module": "@jupyter-widgets/base",
       "_view_module_version": "1.2.0",
       "_view_name": "StyleView",
       "description_width": ""
      }
     },
     "14d86149cb714d66b3050d691c708930": {
      "model_module": "@jupyter-widgets/controls",
      "model_module_version": "1.5.0",
      "model_name": "HTMLModel",
      "state": {
       "_dom_classes": [],
       "_model_module": "@jupyter-widgets/controls",
       "_model_module_version": "1.5.0",
       "_model_name": "HTMLModel",
       "_view_count": null,
       "_view_module": "@jupyter-widgets/controls",
       "_view_module_version": "1.5.0",
       "_view_name": "HTMLView",
       "description": "",
       "description_tooltip": null,
       "layout": "IPY_MODEL_af334f52165949a5ae02a5acc19d878c",
       "placeholder": "​",
       "style": "IPY_MODEL_24613c59726741f0822f0408b4e63d1e",
       "value": "100%"
      }
     },
     "228719356f5d4c79aff13798050ffb0f": {
      "model_module": "@jupyter-widgets/controls",
      "model_module_version": "1.5.0",
      "model_name": "HBoxModel",
      "state": {
       "_dom_classes": [],
       "_model_module": "@jupyter-widgets/controls",
       "_model_module_version": "1.5.0",
       "_model_name": "HBoxModel",
       "_view_count": null,
       "_view_module": "@jupyter-widgets/controls",
       "_view_module_version": "1.5.0",
       "_view_name": "HBoxView",
       "box_style": "",
       "children": [
        "IPY_MODEL_f9f684dd8c3d429b8a4269ddafd07a49",
        "IPY_MODEL_e2ad3ac969954e10be89b8dee10e1a95",
        "IPY_MODEL_5559514d1519433786b0aec3e1cd1258"
       ],
       "layout": "IPY_MODEL_8b55785121724838a1f71d2108a69620"
      }
     },
     "24613c59726741f0822f0408b4e63d1e": {
      "model_module": "@jupyter-widgets/controls",
      "model_module_version": "1.5.0",
      "model_name": "DescriptionStyleModel",
      "state": {
       "_model_module": "@jupyter-widgets/controls",
       "_model_module_version": "1.5.0",
       "_model_name": "DescriptionStyleModel",
       "_view_count": null,
       "_view_module": "@jupyter-widgets/base",
       "_view_module_version": "1.2.0",
       "_view_name": "StyleView",
       "description_width": ""
      }
     },
     "2a7110321f7e4bf39284bca76a55c41f": {
      "model_module": "@jupyter-widgets/base",
      "model_module_version": "1.2.0",
      "model_name": "LayoutModel",
      "state": {
       "_model_module": "@jupyter-widgets/base",
       "_model_module_version": "1.2.0",
       "_model_name": "LayoutModel",
       "_view_count": null,
       "_view_module": "@jupyter-widgets/base",
       "_view_module_version": "1.2.0",
       "_view_name": "LayoutView",
       "align_content": null,
       "align_items": null,
       "align_self": null,
       "border": null,
       "bottom": null,
       "display": null,
       "flex": null,
       "flex_flow": null,
       "grid_area": null,
       "grid_auto_columns": null,
       "grid_auto_flow": null,
       "grid_auto_rows": null,
       "grid_column": null,
       "grid_gap": null,
       "grid_row": null,
       "grid_template_areas": null,
       "grid_template_columns": null,
       "grid_template_rows": null,
       "height": null,
       "justify_content": null,
       "justify_items": null,
       "left": null,
       "margin": null,
       "max_height": null,
       "max_width": null,
       "min_height": null,
       "min_width": null,
       "object_fit": null,
       "object_position": null,
       "order": null,
       "overflow": null,
       "overflow_x": null,
       "overflow_y": null,
       "padding": null,
       "right": null,
       "top": null,
       "visibility": null,
       "width": null
      }
     },
     "317809a561174c258e8d58201398ed9d": {
      "model_module": "@jupyter-widgets/base",
      "model_module_version": "1.2.0",
      "model_name": "LayoutModel",
      "state": {
       "_model_module": "@jupyter-widgets/base",
       "_model_module_version": "1.2.0",
       "_model_name": "LayoutModel",
       "_view_count": null,
       "_view_module": "@jupyter-widgets/base",
       "_view_module_version": "1.2.0",
       "_view_name": "LayoutView",
       "align_content": null,
       "align_items": null,
       "align_self": null,
       "border": null,
       "bottom": null,
       "display": null,
       "flex": null,
       "flex_flow": null,
       "grid_area": null,
       "grid_auto_columns": null,
       "grid_auto_flow": null,
       "grid_auto_rows": null,
       "grid_column": null,
       "grid_gap": null,
       "grid_row": null,
       "grid_template_areas": null,
       "grid_template_columns": null,
       "grid_template_rows": null,
       "height": null,
       "justify_content": null,
       "justify_items": null,
       "left": null,
       "margin": null,
       "max_height": null,
       "max_width": null,
       "min_height": null,
       "min_width": null,
       "object_fit": null,
       "object_position": null,
       "order": null,
       "overflow": null,
       "overflow_x": null,
       "overflow_y": null,
       "padding": null,
       "right": null,
       "top": null,
       "visibility": null,
       "width": null
      }
     },
     "393dd1575bad4637bd304175ddd76a43": {
      "model_module": "@jupyter-widgets/controls",
      "model_module_version": "1.5.0",
      "model_name": "ProgressStyleModel",
      "state": {
       "_model_module": "@jupyter-widgets/controls",
       "_model_module_version": "1.5.0",
       "_model_name": "ProgressStyleModel",
       "_view_count": null,
       "_view_module": "@jupyter-widgets/base",
       "_view_module_version": "1.2.0",
       "_view_name": "StyleView",
       "bar_color": null,
       "description_width": ""
      }
     },
     "47e10d7916794cd1b2e37b2910248578": {
      "model_module": "@jupyter-widgets/base",
      "model_module_version": "1.2.0",
      "model_name": "LayoutModel",
      "state": {
       "_model_module": "@jupyter-widgets/base",
       "_model_module_version": "1.2.0",
       "_model_name": "LayoutModel",
       "_view_count": null,
       "_view_module": "@jupyter-widgets/base",
       "_view_module_version": "1.2.0",
       "_view_name": "LayoutView",
       "align_content": null,
       "align_items": null,
       "align_self": null,
       "border": null,
       "bottom": null,
       "display": null,
       "flex": null,
       "flex_flow": null,
       "grid_area": null,
       "grid_auto_columns": null,
       "grid_auto_flow": null,
       "grid_auto_rows": null,
       "grid_column": null,
       "grid_gap": null,
       "grid_row": null,
       "grid_template_areas": null,
       "grid_template_columns": null,
       "grid_template_rows": null,
       "height": null,
       "justify_content": null,
       "justify_items": null,
       "left": null,
       "margin": null,
       "max_height": null,
       "max_width": null,
       "min_height": null,
       "min_width": null,
       "object_fit": null,
       "object_position": null,
       "order": null,
       "overflow": null,
       "overflow_x": null,
       "overflow_y": null,
       "padding": null,
       "right": null,
       "top": null,
       "visibility": null,
       "width": null
      }
     },
     "49f56a1858ec4d7aa575bd2efd3e9d3a": {
      "model_module": "@jupyter-widgets/controls",
      "model_module_version": "1.5.0",
      "model_name": "DescriptionStyleModel",
      "state": {
       "_model_module": "@jupyter-widgets/controls",
       "_model_module_version": "1.5.0",
       "_model_name": "DescriptionStyleModel",
       "_view_count": null,
       "_view_module": "@jupyter-widgets/base",
       "_view_module_version": "1.2.0",
       "_view_name": "StyleView",
       "description_width": ""
      }
     },
     "4ff641fa7e724a9fbb0da672897238de": {
      "model_module": "@jupyter-widgets/base",
      "model_module_version": "1.2.0",
      "model_name": "LayoutModel",
      "state": {
       "_model_module": "@jupyter-widgets/base",
       "_model_module_version": "1.2.0",
       "_model_name": "LayoutModel",
       "_view_count": null,
       "_view_module": "@jupyter-widgets/base",
       "_view_module_version": "1.2.0",
       "_view_name": "LayoutView",
       "align_content": null,
       "align_items": null,
       "align_self": null,
       "border": null,
       "bottom": null,
       "display": null,
       "flex": null,
       "flex_flow": null,
       "grid_area": null,
       "grid_auto_columns": null,
       "grid_auto_flow": null,
       "grid_auto_rows": null,
       "grid_column": null,
       "grid_gap": null,
       "grid_row": null,
       "grid_template_areas": null,
       "grid_template_columns": null,
       "grid_template_rows": null,
       "height": null,
       "justify_content": null,
       "justify_items": null,
       "left": null,
       "margin": null,
       "max_height": null,
       "max_width": null,
       "min_height": null,
       "min_width": null,
       "object_fit": null,
       "object_position": null,
       "order": null,
       "overflow": null,
       "overflow_x": null,
       "overflow_y": null,
       "padding": null,
       "right": null,
       "top": null,
       "visibility": null,
       "width": null
      }
     },
     "517d2f3317e44cc19c5da7cfa2c67392": {
      "model_module": "@jupyter-widgets/base",
      "model_module_version": "1.2.0",
      "model_name": "LayoutModel",
      "state": {
       "_model_module": "@jupyter-widgets/base",
       "_model_module_version": "1.2.0",
       "_model_name": "LayoutModel",
       "_view_count": null,
       "_view_module": "@jupyter-widgets/base",
       "_view_module_version": "1.2.0",
       "_view_name": "LayoutView",
       "align_content": null,
       "align_items": null,
       "align_self": null,
       "border": null,
       "bottom": null,
       "display": null,
       "flex": null,
       "flex_flow": null,
       "grid_area": null,
       "grid_auto_columns": null,
       "grid_auto_flow": null,
       "grid_auto_rows": null,
       "grid_column": null,
       "grid_gap": null,
       "grid_row": null,
       "grid_template_areas": null,
       "grid_template_columns": null,
       "grid_template_rows": null,
       "height": null,
       "justify_content": null,
       "justify_items": null,
       "left": null,
       "margin": null,
       "max_height": null,
       "max_width": null,
       "min_height": null,
       "min_width": null,
       "object_fit": null,
       "object_position": null,
       "order": null,
       "overflow": null,
       "overflow_x": null,
       "overflow_y": null,
       "padding": null,
       "right": null,
       "top": null,
       "visibility": null,
       "width": null
      }
     },
     "54b60eb574a043ee8080edc673d859a0": {
      "model_module": "@jupyter-widgets/base",
      "model_module_version": "1.2.0",
      "model_name": "LayoutModel",
      "state": {
       "_model_module": "@jupyter-widgets/base",
       "_model_module_version": "1.2.0",
       "_model_name": "LayoutModel",
       "_view_count": null,
       "_view_module": "@jupyter-widgets/base",
       "_view_module_version": "1.2.0",
       "_view_name": "LayoutView",
       "align_content": null,
       "align_items": null,
       "align_self": null,
       "border": null,
       "bottom": null,
       "display": null,
       "flex": null,
       "flex_flow": null,
       "grid_area": null,
       "grid_auto_columns": null,
       "grid_auto_flow": null,
       "grid_auto_rows": null,
       "grid_column": null,
       "grid_gap": null,
       "grid_row": null,
       "grid_template_areas": null,
       "grid_template_columns": null,
       "grid_template_rows": null,
       "height": null,
       "justify_content": null,
       "justify_items": null,
       "left": null,
       "margin": null,
       "max_height": null,
       "max_width": null,
       "min_height": null,
       "min_width": null,
       "object_fit": null,
       "object_position": null,
       "order": null,
       "overflow": null,
       "overflow_x": null,
       "overflow_y": null,
       "padding": null,
       "right": null,
       "top": null,
       "visibility": null,
       "width": null
      }
     },
     "5559514d1519433786b0aec3e1cd1258": {
      "model_module": "@jupyter-widgets/controls",
      "model_module_version": "1.5.0",
      "model_name": "HTMLModel",
      "state": {
       "_dom_classes": [],
       "_model_module": "@jupyter-widgets/controls",
       "_model_module_version": "1.5.0",
       "_model_name": "HTMLModel",
       "_view_count": null,
       "_view_module": "@jupyter-widgets/controls",
       "_view_module_version": "1.5.0",
       "_view_name": "HTMLView",
       "description": "",
       "description_tooltip": null,
       "layout": "IPY_MODEL_54b60eb574a043ee8080edc673d859a0",
       "placeholder": "​",
       "style": "IPY_MODEL_c3a952f14f0d48439fa2045d36e9b27d",
       "value": " 4/4 [00:13&lt;00:00,  3.27s/it]"
      }
     },
     "564d99c967bc498fabbed3875de7bf8f": {
      "model_module": "@jupyter-widgets/base",
      "model_module_version": "1.2.0",
      "model_name": "LayoutModel",
      "state": {
       "_model_module": "@jupyter-widgets/base",
       "_model_module_version": "1.2.0",
       "_model_name": "LayoutModel",
       "_view_count": null,
       "_view_module": "@jupyter-widgets/base",
       "_view_module_version": "1.2.0",
       "_view_name": "LayoutView",
       "align_content": null,
       "align_items": null,
       "align_self": null,
       "border": null,
       "bottom": null,
       "display": null,
       "flex": null,
       "flex_flow": null,
       "grid_area": null,
       "grid_auto_columns": null,
       "grid_auto_flow": null,
       "grid_auto_rows": null,
       "grid_column": null,
       "grid_gap": null,
       "grid_row": null,
       "grid_template_areas": null,
       "grid_template_columns": null,
       "grid_template_rows": null,
       "height": null,
       "justify_content": null,
       "justify_items": null,
       "left": null,
       "margin": null,
       "max_height": null,
       "max_width": null,
       "min_height": null,
       "min_width": null,
       "object_fit": null,
       "object_position": null,
       "order": null,
       "overflow": null,
       "overflow_x": null,
       "overflow_y": null,
       "padding": null,
       "right": null,
       "top": null,
       "visibility": null,
       "width": null
      }
     },
     "5b857d0a9bb548fbb264f7daa6ab341e": {
      "model_module": "@jupyter-widgets/base",
      "model_module_version": "1.2.0",
      "model_name": "LayoutModel",
      "state": {
       "_model_module": "@jupyter-widgets/base",
       "_model_module_version": "1.2.0",
       "_model_name": "LayoutModel",
       "_view_count": null,
       "_view_module": "@jupyter-widgets/base",
       "_view_module_version": "1.2.0",
       "_view_name": "LayoutView",
       "align_content": null,
       "align_items": null,
       "align_self": null,
       "border": null,
       "bottom": null,
       "display": null,
       "flex": null,
       "flex_flow": null,
       "grid_area": null,
       "grid_auto_columns": null,
       "grid_auto_flow": null,
       "grid_auto_rows": null,
       "grid_column": null,
       "grid_gap": null,
       "grid_row": null,
       "grid_template_areas": null,
       "grid_template_columns": null,
       "grid_template_rows": null,
       "height": null,
       "justify_content": null,
       "justify_items": null,
       "left": null,
       "margin": null,
       "max_height": null,
       "max_width": null,
       "min_height": null,
       "min_width": null,
       "object_fit": null,
       "object_position": null,
       "order": null,
       "overflow": null,
       "overflow_x": null,
       "overflow_y": null,
       "padding": null,
       "right": null,
       "top": null,
       "visibility": null,
       "width": null
      }
     },
     "62dfd58d5013452bbb5fd5556e9c60bd": {
      "model_module": "@jupyter-widgets/base",
      "model_module_version": "1.2.0",
      "model_name": "LayoutModel",
      "state": {
       "_model_module": "@jupyter-widgets/base",
       "_model_module_version": "1.2.0",
       "_model_name": "LayoutModel",
       "_view_count": null,
       "_view_module": "@jupyter-widgets/base",
       "_view_module_version": "1.2.0",
       "_view_name": "LayoutView",
       "align_content": null,
       "align_items": null,
       "align_self": null,
       "border": null,
       "bottom": null,
       "display": null,
       "flex": null,
       "flex_flow": null,
       "grid_area": null,
       "grid_auto_columns": null,
       "grid_auto_flow": null,
       "grid_auto_rows": null,
       "grid_column": null,
       "grid_gap": null,
       "grid_row": null,
       "grid_template_areas": null,
       "grid_template_columns": null,
       "grid_template_rows": null,
       "height": null,
       "justify_content": null,
       "justify_items": null,
       "left": null,
       "margin": null,
       "max_height": null,
       "max_width": null,
       "min_height": null,
       "min_width": null,
       "object_fit": null,
       "object_position": null,
       "order": null,
       "overflow": null,
       "overflow_x": null,
       "overflow_y": null,
       "padding": null,
       "right": null,
       "top": null,
       "visibility": null,
       "width": null
      }
     },
     "6ba883f2208f4bd2a0b568092affdbff": {
      "model_module": "@jupyter-widgets/controls",
      "model_module_version": "1.5.0",
      "model_name": "HBoxModel",
      "state": {
       "_dom_classes": [],
       "_model_module": "@jupyter-widgets/controls",
       "_model_module_version": "1.5.0",
       "_model_name": "HBoxModel",
       "_view_count": null,
       "_view_module": "@jupyter-widgets/controls",
       "_view_module_version": "1.5.0",
       "_view_name": "HBoxView",
       "box_style": "",
       "children": [
        "IPY_MODEL_14d86149cb714d66b3050d691c708930",
        "IPY_MODEL_adcbe29c9a8340d0a93521a4afeaa29a",
        "IPY_MODEL_6cd29ef720b34d939f484e9bae380882"
       ],
       "layout": "IPY_MODEL_4ff641fa7e724a9fbb0da672897238de"
      }
     },
     "6cd29ef720b34d939f484e9bae380882": {
      "model_module": "@jupyter-widgets/controls",
      "model_module_version": "1.5.0",
      "model_name": "HTMLModel",
      "state": {
       "_dom_classes": [],
       "_model_module": "@jupyter-widgets/controls",
       "_model_module_version": "1.5.0",
       "_model_name": "HTMLModel",
       "_view_count": null,
       "_view_module": "@jupyter-widgets/controls",
       "_view_module_version": "1.5.0",
       "_view_name": "HTMLView",
       "description": "",
       "description_tooltip": null,
       "layout": "IPY_MODEL_5b857d0a9bb548fbb264f7daa6ab341e",
       "placeholder": "​",
       "style": "IPY_MODEL_f5d30ca3c84843d28e43d254c85dd777",
       "value": " 4/4 [00:15&lt;00:00,  3.83s/it]"
      }
     },
     "6f9f5d5d963743fc82554b8b1fa6f61a": {
      "model_module": "@jupyter-widgets/controls",
      "model_module_version": "1.5.0",
      "model_name": "ProgressStyleModel",
      "state": {
       "_model_module": "@jupyter-widgets/controls",
       "_model_module_version": "1.5.0",
       "_model_name": "ProgressStyleModel",
       "_view_count": null,
       "_view_module": "@jupyter-widgets/base",
       "_view_module_version": "1.2.0",
       "_view_name": "StyleView",
       "bar_color": null,
       "description_width": ""
      }
     },
     "74aa02e5a4f242b88f29e35974a5fe18": {
      "model_module": "@jupyter-widgets/controls",
      "model_module_version": "1.5.0",
      "model_name": "HTMLModel",
      "state": {
       "_dom_classes": [],
       "_model_module": "@jupyter-widgets/controls",
       "_model_module_version": "1.5.0",
       "_model_name": "HTMLModel",
       "_view_count": null,
       "_view_module": "@jupyter-widgets/controls",
       "_view_module_version": "1.5.0",
       "_view_name": "HTMLView",
       "description": "",
       "description_tooltip": null,
       "layout": "IPY_MODEL_10a9f50d8b18484ab7dab2674197f567",
       "placeholder": "​",
       "style": "IPY_MODEL_14610704eba84751b0dd06571eba076e",
       "value": "100%"
      }
     },
     "78b9c7e5bb1c48ffb7462fa31b5f0d59": {
      "model_module": "@jupyter-widgets/controls",
      "model_module_version": "1.5.0",
      "model_name": "ProgressStyleModel",
      "state": {
       "_model_module": "@jupyter-widgets/controls",
       "_model_module_version": "1.5.0",
       "_model_name": "ProgressStyleModel",
       "_view_count": null,
       "_view_module": "@jupyter-widgets/base",
       "_view_module_version": "1.2.0",
       "_view_name": "StyleView",
       "bar_color": null,
       "description_width": ""
      }
     },
     "7d062266544643af9c93cd1a5c1f3f30": {
      "model_module": "@jupyter-widgets/controls",
      "model_module_version": "1.5.0",
      "model_name": "DescriptionStyleModel",
      "state": {
       "_model_module": "@jupyter-widgets/controls",
       "_model_module_version": "1.5.0",
       "_model_name": "DescriptionStyleModel",
       "_view_count": null,
       "_view_module": "@jupyter-widgets/base",
       "_view_module_version": "1.2.0",
       "_view_name": "StyleView",
       "description_width": ""
      }
     },
     "80afd6f872104c9aab3104ebe44f5b78": {
      "model_module": "@jupyter-widgets/base",
      "model_module_version": "1.2.0",
      "model_name": "LayoutModel",
      "state": {
       "_model_module": "@jupyter-widgets/base",
       "_model_module_version": "1.2.0",
       "_model_name": "LayoutModel",
       "_view_count": null,
       "_view_module": "@jupyter-widgets/base",
       "_view_module_version": "1.2.0",
       "_view_name": "LayoutView",
       "align_content": null,
       "align_items": null,
       "align_self": null,
       "border": null,
       "bottom": null,
       "display": null,
       "flex": null,
       "flex_flow": null,
       "grid_area": null,
       "grid_auto_columns": null,
       "grid_auto_flow": null,
       "grid_auto_rows": null,
       "grid_column": null,
       "grid_gap": null,
       "grid_row": null,
       "grid_template_areas": null,
       "grid_template_columns": null,
       "grid_template_rows": null,
       "height": null,
       "justify_content": null,
       "justify_items": null,
       "left": null,
       "margin": null,
       "max_height": null,
       "max_width": null,
       "min_height": null,
       "min_width": null,
       "object_fit": null,
       "object_position": null,
       "order": null,
       "overflow": null,
       "overflow_x": null,
       "overflow_y": null,
       "padding": null,
       "right": null,
       "top": null,
       "visibility": null,
       "width": null
      }
     },
     "87752e59f6f9404f874fb9f279f38f8a": {
      "model_module": "@jupyter-widgets/controls",
      "model_module_version": "1.5.0",
      "model_name": "FloatProgressModel",
      "state": {
       "_dom_classes": [],
       "_model_module": "@jupyter-widgets/controls",
       "_model_module_version": "1.5.0",
       "_model_name": "FloatProgressModel",
       "_view_count": null,
       "_view_module": "@jupyter-widgets/controls",
       "_view_module_version": "1.5.0",
       "_view_name": "ProgressView",
       "bar_style": "success",
       "description": "",
       "description_tooltip": null,
       "layout": "IPY_MODEL_564d99c967bc498fabbed3875de7bf8f",
       "max": 4.0,
       "min": 0.0,
       "orientation": "horizontal",
       "style": "IPY_MODEL_393dd1575bad4637bd304175ddd76a43",
       "value": 4.0
      }
     },
     "8b55785121724838a1f71d2108a69620": {
      "model_module": "@jupyter-widgets/base",
      "model_module_version": "1.2.0",
      "model_name": "LayoutModel",
      "state": {
       "_model_module": "@jupyter-widgets/base",
       "_model_module_version": "1.2.0",
       "_model_name": "LayoutModel",
       "_view_count": null,
       "_view_module": "@jupyter-widgets/base",
       "_view_module_version": "1.2.0",
       "_view_name": "LayoutView",
       "align_content": null,
       "align_items": null,
       "align_self": null,
       "border": null,
       "bottom": null,
       "display": null,
       "flex": null,
       "flex_flow": null,
       "grid_area": null,
       "grid_auto_columns": null,
       "grid_auto_flow": null,
       "grid_auto_rows": null,
       "grid_column": null,
       "grid_gap": null,
       "grid_row": null,
       "grid_template_areas": null,
       "grid_template_columns": null,
       "grid_template_rows": null,
       "height": null,
       "justify_content": null,
       "justify_items": null,
       "left": null,
       "margin": null,
       "max_height": null,
       "max_width": null,
       "min_height": null,
       "min_width": null,
       "object_fit": null,
       "object_position": null,
       "order": null,
       "overflow": null,
       "overflow_x": null,
       "overflow_y": null,
       "padding": null,
       "right": null,
       "top": null,
       "visibility": null,
       "width": null
      }
     },
     "91308b1541c24b55b00baaf5b67dc9d5": {
      "model_module": "@jupyter-widgets/base",
      "model_module_version": "1.2.0",
      "model_name": "LayoutModel",
      "state": {
       "_model_module": "@jupyter-widgets/base",
       "_model_module_version": "1.2.0",
       "_model_name": "LayoutModel",
       "_view_count": null,
       "_view_module": "@jupyter-widgets/base",
       "_view_module_version": "1.2.0",
       "_view_name": "LayoutView",
       "align_content": null,
       "align_items": null,
       "align_self": null,
       "border": null,
       "bottom": null,
       "display": null,
       "flex": null,
       "flex_flow": null,
       "grid_area": null,
       "grid_auto_columns": null,
       "grid_auto_flow": null,
       "grid_auto_rows": null,
       "grid_column": null,
       "grid_gap": null,
       "grid_row": null,
       "grid_template_areas": null,
       "grid_template_columns": null,
       "grid_template_rows": null,
       "height": null,
       "justify_content": null,
       "justify_items": null,
       "left": null,
       "margin": null,
       "max_height": null,
       "max_width": null,
       "min_height": null,
       "min_width": null,
       "object_fit": null,
       "object_position": null,
       "order": null,
       "overflow": null,
       "overflow_x": null,
       "overflow_y": null,
       "padding": null,
       "right": null,
       "top": null,
       "visibility": null,
       "width": null
      }
     },
     "a5dc086dba22459b830493ea5c725640": {
      "model_module": "@jupyter-widgets/base",
      "model_module_version": "1.2.0",
      "model_name": "LayoutModel",
      "state": {
       "_model_module": "@jupyter-widgets/base",
       "_model_module_version": "1.2.0",
       "_model_name": "LayoutModel",
       "_view_count": null,
       "_view_module": "@jupyter-widgets/base",
       "_view_module_version": "1.2.0",
       "_view_name": "LayoutView",
       "align_content": null,
       "align_items": null,
       "align_self": null,
       "border": null,
       "bottom": null,
       "display": null,
       "flex": null,
       "flex_flow": null,
       "grid_area": null,
       "grid_auto_columns": null,
       "grid_auto_flow": null,
       "grid_auto_rows": null,
       "grid_column": null,
       "grid_gap": null,
       "grid_row": null,
       "grid_template_areas": null,
       "grid_template_columns": null,
       "grid_template_rows": null,
       "height": null,
       "justify_content": null,
       "justify_items": null,
       "left": null,
       "margin": null,
       "max_height": null,
       "max_width": null,
       "min_height": null,
       "min_width": null,
       "object_fit": null,
       "object_position": null,
       "order": null,
       "overflow": null,
       "overflow_x": null,
       "overflow_y": null,
       "padding": null,
       "right": null,
       "top": null,
       "visibility": null,
       "width": null
      }
     },
     "adcbe29c9a8340d0a93521a4afeaa29a": {
      "model_module": "@jupyter-widgets/controls",
      "model_module_version": "1.5.0",
      "model_name": "FloatProgressModel",
      "state": {
       "_dom_classes": [],
       "_model_module": "@jupyter-widgets/controls",
       "_model_module_version": "1.5.0",
       "_model_name": "FloatProgressModel",
       "_view_count": null,
       "_view_module": "@jupyter-widgets/controls",
       "_view_module_version": "1.5.0",
       "_view_name": "ProgressView",
       "bar_style": "success",
       "description": "",
       "description_tooltip": null,
       "layout": "IPY_MODEL_2a7110321f7e4bf39284bca76a55c41f",
       "max": 4.0,
       "min": 0.0,
       "orientation": "horizontal",
       "style": "IPY_MODEL_6f9f5d5d963743fc82554b8b1fa6f61a",
       "value": 4.0
      }
     },
     "af334f52165949a5ae02a5acc19d878c": {
      "model_module": "@jupyter-widgets/base",
      "model_module_version": "1.2.0",
      "model_name": "LayoutModel",
      "state": {
       "_model_module": "@jupyter-widgets/base",
       "_model_module_version": "1.2.0",
       "_model_name": "LayoutModel",
       "_view_count": null,
       "_view_module": "@jupyter-widgets/base",
       "_view_module_version": "1.2.0",
       "_view_name": "LayoutView",
       "align_content": null,
       "align_items": null,
       "align_self": null,
       "border": null,
       "bottom": null,
       "display": null,
       "flex": null,
       "flex_flow": null,
       "grid_area": null,
       "grid_auto_columns": null,
       "grid_auto_flow": null,
       "grid_auto_rows": null,
       "grid_column": null,
       "grid_gap": null,
       "grid_row": null,
       "grid_template_areas": null,
       "grid_template_columns": null,
       "grid_template_rows": null,
       "height": null,
       "justify_content": null,
       "justify_items": null,
       "left": null,
       "margin": null,
       "max_height": null,
       "max_width": null,
       "min_height": null,
       "min_width": null,
       "object_fit": null,
       "object_position": null,
       "order": null,
       "overflow": null,
       "overflow_x": null,
       "overflow_y": null,
       "padding": null,
       "right": null,
       "top": null,
       "visibility": null,
       "width": null
      }
     },
     "bf99d671f35c4fa48e2f45ac2da8dcd6": {
      "model_module": "@jupyter-widgets/controls",
      "model_module_version": "1.5.0",
      "model_name": "HTMLModel",
      "state": {
       "_dom_classes": [],
       "_model_module": "@jupyter-widgets/controls",
       "_model_module_version": "1.5.0",
       "_model_name": "HTMLModel",
       "_view_count": null,
       "_view_module": "@jupyter-widgets/controls",
       "_view_module_version": "1.5.0",
       "_view_name": "HTMLView",
       "description": "",
       "description_tooltip": null,
       "layout": "IPY_MODEL_91308b1541c24b55b00baaf5b67dc9d5",
       "placeholder": "​",
       "style": "IPY_MODEL_49f56a1858ec4d7aa575bd2efd3e9d3a",
       "value": " 4/4 [00:17&lt;00:00,  4.36s/it]"
      }
     },
     "c1842cf1efa24371a7f534275695e132": {
      "model_module": "@jupyter-widgets/controls",
      "model_module_version": "1.5.0",
      "model_name": "ProgressStyleModel",
      "state": {
       "_model_module": "@jupyter-widgets/controls",
       "_model_module_version": "1.5.0",
       "_model_name": "ProgressStyleModel",
       "_view_count": null,
       "_view_module": "@jupyter-widgets/base",
       "_view_module_version": "1.2.0",
       "_view_name": "StyleView",
       "bar_color": null,
       "description_width": ""
      }
     },
     "c1c2dea69a974152ac34f29dfce33d51": {
      "model_module": "@jupyter-widgets/controls",
      "model_module_version": "1.5.0",
      "model_name": "HBoxModel",
      "state": {
       "_dom_classes": [],
       "_model_module": "@jupyter-widgets/controls",
       "_model_module_version": "1.5.0",
       "_model_name": "HBoxModel",
       "_view_count": null,
       "_view_module": "@jupyter-widgets/controls",
       "_view_module_version": "1.5.0",
       "_view_name": "HBoxView",
       "box_style": "",
       "children": [
        "IPY_MODEL_74aa02e5a4f242b88f29e35974a5fe18",
        "IPY_MODEL_c29b68cc01f843739063e0ab8713a64e",
        "IPY_MODEL_cb348024de244a119d8c86d1b2d1a677"
       ],
       "layout": "IPY_MODEL_517d2f3317e44cc19c5da7cfa2c67392"
      }
     },
     "c20955e3b0e94505ac574d61ddfd1808": {
      "model_module": "@jupyter-widgets/controls",
      "model_module_version": "1.5.0",
      "model_name": "DescriptionStyleModel",
      "state": {
       "_model_module": "@jupyter-widgets/controls",
       "_model_module_version": "1.5.0",
       "_model_name": "DescriptionStyleModel",
       "_view_count": null,
       "_view_module": "@jupyter-widgets/base",
       "_view_module_version": "1.2.0",
       "_view_name": "StyleView",
       "description_width": ""
      }
     },
     "c29b68cc01f843739063e0ab8713a64e": {
      "model_module": "@jupyter-widgets/controls",
      "model_module_version": "1.5.0",
      "model_name": "FloatProgressModel",
      "state": {
       "_dom_classes": [],
       "_model_module": "@jupyter-widgets/controls",
       "_model_module_version": "1.5.0",
       "_model_name": "FloatProgressModel",
       "_view_count": null,
       "_view_module": "@jupyter-widgets/controls",
       "_view_module_version": "1.5.0",
       "_view_name": "ProgressView",
       "bar_style": "success",
       "description": "",
       "description_tooltip": null,
       "layout": "IPY_MODEL_80afd6f872104c9aab3104ebe44f5b78",
       "max": 5.0,
       "min": 0.0,
       "orientation": "horizontal",
       "style": "IPY_MODEL_78b9c7e5bb1c48ffb7462fa31b5f0d59",
       "value": 5.0
      }
     },
     "c3a952f14f0d48439fa2045d36e9b27d": {
      "model_module": "@jupyter-widgets/controls",
      "model_module_version": "1.5.0",
      "model_name": "DescriptionStyleModel",
      "state": {
       "_model_module": "@jupyter-widgets/controls",
       "_model_module_version": "1.5.0",
       "_model_name": "DescriptionStyleModel",
       "_view_count": null,
       "_view_module": "@jupyter-widgets/base",
       "_view_module_version": "1.2.0",
       "_view_name": "StyleView",
       "description_width": ""
      }
     },
     "c691c9f8f61d4c9ca592f93b719fbef4": {
      "model_module": "@jupyter-widgets/controls",
      "model_module_version": "1.5.0",
      "model_name": "HTMLModel",
      "state": {
       "_dom_classes": [],
       "_model_module": "@jupyter-widgets/controls",
       "_model_module_version": "1.5.0",
       "_model_name": "HTMLModel",
       "_view_count": null,
       "_view_module": "@jupyter-widgets/controls",
       "_view_module_version": "1.5.0",
       "_view_name": "HTMLView",
       "description": "",
       "description_tooltip": null,
       "layout": "IPY_MODEL_1419dc19e639480aa4adacf28d10c1fe",
       "placeholder": "​",
       "style": "IPY_MODEL_db88761076fe4fd5bad4a87af5d6077f",
       "value": "100%"
      }
     },
     "cb348024de244a119d8c86d1b2d1a677": {
      "model_module": "@jupyter-widgets/controls",
      "model_module_version": "1.5.0",
      "model_name": "HTMLModel",
      "state": {
       "_dom_classes": [],
       "_model_module": "@jupyter-widgets/controls",
       "_model_module_version": "1.5.0",
       "_model_name": "HTMLModel",
       "_view_count": null,
       "_view_module": "@jupyter-widgets/controls",
       "_view_module_version": "1.5.0",
       "_view_name": "HTMLView",
       "description": "",
       "description_tooltip": null,
       "layout": "IPY_MODEL_62dfd58d5013452bbb5fd5556e9c60bd",
       "placeholder": "​",
       "style": "IPY_MODEL_7d062266544643af9c93cd1a5c1f3f30",
       "value": " 5/5 [00:51&lt;00:00, 10.30s/it]"
      }
     },
     "db88761076fe4fd5bad4a87af5d6077f": {
      "model_module": "@jupyter-widgets/controls",
      "model_module_version": "1.5.0",
      "model_name": "DescriptionStyleModel",
      "state": {
       "_model_module": "@jupyter-widgets/controls",
       "_model_module_version": "1.5.0",
       "_model_name": "DescriptionStyleModel",
       "_view_count": null,
       "_view_module": "@jupyter-widgets/base",
       "_view_module_version": "1.2.0",
       "_view_name": "StyleView",
       "description_width": ""
      }
     },
     "e2ad3ac969954e10be89b8dee10e1a95": {
      "model_module": "@jupyter-widgets/controls",
      "model_module_version": "1.5.0",
      "model_name": "FloatProgressModel",
      "state": {
       "_dom_classes": [],
       "_model_module": "@jupyter-widgets/controls",
       "_model_module_version": "1.5.0",
       "_model_name": "FloatProgressModel",
       "_view_count": null,
       "_view_module": "@jupyter-widgets/controls",
       "_view_module_version": "1.5.0",
       "_view_name": "ProgressView",
       "bar_style": "success",
       "description": "",
       "description_tooltip": null,
       "layout": "IPY_MODEL_a5dc086dba22459b830493ea5c725640",
       "max": 4.0,
       "min": 0.0,
       "orientation": "horizontal",
       "style": "IPY_MODEL_c1842cf1efa24371a7f534275695e132",
       "value": 4.0
      }
     },
     "f5d30ca3c84843d28e43d254c85dd777": {
      "model_module": "@jupyter-widgets/controls",
      "model_module_version": "1.5.0",
      "model_name": "DescriptionStyleModel",
      "state": {
       "_model_module": "@jupyter-widgets/controls",
       "_model_module_version": "1.5.0",
       "_model_name": "DescriptionStyleModel",
       "_view_count": null,
       "_view_module": "@jupyter-widgets/base",
       "_view_module_version": "1.2.0",
       "_view_name": "StyleView",
       "description_width": ""
      }
     },
     "f9f684dd8c3d429b8a4269ddafd07a49": {
      "model_module": "@jupyter-widgets/controls",
      "model_module_version": "1.5.0",
      "model_name": "HTMLModel",
      "state": {
       "_dom_classes": [],
       "_model_module": "@jupyter-widgets/controls",
       "_model_module_version": "1.5.0",
       "_model_name": "HTMLModel",
       "_view_count": null,
       "_view_module": "@jupyter-widgets/controls",
       "_view_module_version": "1.5.0",
       "_view_name": "HTMLView",
       "description": "",
       "description_tooltip": null,
       "layout": "IPY_MODEL_47e10d7916794cd1b2e37b2910248578",
       "placeholder": "​",
       "style": "IPY_MODEL_c20955e3b0e94505ac574d61ddfd1808",
       "value": "100%"
      }
     }
    },
    "version_major": 2,
    "version_minor": 0
   }
  }
 },
 "nbformat": 4,
 "nbformat_minor": 5
}
