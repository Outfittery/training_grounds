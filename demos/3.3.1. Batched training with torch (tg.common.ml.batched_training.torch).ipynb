{
 "cells": [
  {
   "cell_type": "markdown",
   "id": "b4d91404",
   "metadata": {},
   "source": [
    "# 3.3.1. Batched training with torch (tg.common.ml.batched_training.torch)"
   ]
  },
  {
   "cell_type": "markdown",
   "id": "096c4a15",
   "metadata": {},
   "source": [
    "## Overview\n",
    "\n",
    "`tg.common.ml.batched_training` is very generic and flexible, allowing to orchestrate the training process by using settings and component classes. It greatly reduces the amount of code that needs to be written to train one model, and does not limit the technology stack for the models themselves. \n",
    "\n",
    "Unfortunately, there is still _a lot_ of code that needs to be written to instantiate the training task, namely, the `ModelHandler`: the way we have written it in the demo, any small change in network architecture requires the code update. We strongly prefer parameter-based model's definition over code based, as:\n",
    "\n",
    "  * It's easier to compare and reproduce the results of the experiments\n",
    "  * It's testable and reusable\n",
    "\n",
    "Therefore, we wanted to enable a parameter-based definition at least for some models, choosing `PyTorch`:\n",
    "  * `optimizer` and `loss` in this case do not require coding, as the type names may be used\n",
    "  * networks creation does not necesserily require coding and can be replaced by _factories_.\n",
    "\n",
    "Also, we have noticed that some elements of the functionality is not really required in practice:\n",
    "  * instead of defining splitters, it's more practical to put the values directly in the `index_frame`, thus ensuring all the networks versions are going to be compared over the same sets\n",
    "  * `BatchingStrategy` can simply be defined by the presence of `priority` column in the `index_frame` (either defined in bundle preparation or in `late_initialization`)\n",
    "  \n",
    "  \n",
    "In essense, what remains really important for the training of `torch` networks, is a pair of two factories:\n",
    "  * the first one produce the extractors, given the bundle; it also performs necessary bundle tuning. It does requires coding, if the extractors are dependent on the bundle, which is usually not the case, or if tuning is needed.\n",
    "  * the second one produce the networks, given the batch. It requires coding, if the network is build from predefined blocks.\n",
    "  \n",
    "This functionality is implemented in a slim wrapper around `BatchedTrainingTask`, namely, `TorchTrainingTask`. This demonstration will show how to use it. First, let us load the bundle and define the `train`, `display` and `test` splits."
   ]
  },
  {
   "cell_type": "code",
   "execution_count": 1,
   "id": "4754f950",
   "metadata": {
    "execution": {
     "iopub.execute_input": "2022-06-27T19:30:22.629747Z",
     "iopub.status.busy": "2022-06-27T19:30:22.628196Z",
     "iopub.status.idle": "2022-06-27T19:30:24.565402Z",
     "shell.execute_reply": "2022-06-27T19:30:24.564805Z"
    }
   },
   "outputs": [
    {
     "data": {
      "text/plain": [
       "split    Survived\n",
       "display  0.0          88\n",
       "         1.0          55\n",
       "test     0.0         110\n",
       "         1.0          69\n",
       "train    0.0         351\n",
       "         1.0         218\n",
       "dtype: int64"
      ]
     },
     "execution_count": 1,
     "metadata": {},
     "output_type": "execute_result"
    }
   ],
   "source": [
    "from tg.common.ml import batched_training as bt\n",
    "from sklearn.model_selection import train_test_split\n",
    "import numpy as np\n",
    "\n",
    "bundle = bt.DataBundle.load('temp/bundle')\n",
    "\n",
    "train, test = train_test_split(bundle.index.index, stratify=bundle.index['Survived'], test_size=0.2)\n",
    "train, display = train_test_split(train, stratify = bundle.index.loc[train]['Survived'], test_size=0.2)\n",
    "bundle.index['split'] = np.where(\n",
    "    bundle.index.index.isin(train),\n",
    "    'train',\n",
    "    np.where(\n",
    "        bundle.index.index.isin(display),\n",
    "        'display',\n",
    "        'test'\n",
    "    ))\n",
    "bundle.index.groupby(['split','Survived']).size()"
   ]
  },
  {
   "cell_type": "markdown",
   "id": "c721631a",
   "metadata": {},
   "source": [
    "Second, let's remember the extractors we have defined in the previous demo, and define the extractor factory:"
   ]
  },
  {
   "cell_type": "code",
   "execution_count": 2,
   "id": "7d39e9fe",
   "metadata": {
    "execution": {
     "iopub.execute_input": "2022-06-27T19:30:24.573396Z",
     "iopub.status.busy": "2022-06-27T19:30:24.572923Z",
     "iopub.status.idle": "2022-06-27T19:30:25.908429Z",
     "shell.execute_reply": "2022-06-27T19:30:25.907520Z"
    }
   },
   "outputs": [],
   "source": [
    "from tg.common.ml import dft\n",
    "from tg.common.ml.batched_training import torch as btt\n",
    "\n",
    "tfac = dft.DataFrameTransformerFactory.default_factory\n",
    "\n",
    "extractors = [\n",
    "    bt.PlainExtractor.build(name='label').apply(take_columns='Survived'),\n",
    "    bt.PlainExtractor.build(name='cabin').index().apply(transformer=tfac(), take_columns='Cabin'),\n",
    "    bt.PlainExtractor.build('passengers')\n",
    "                       .index()\n",
    "                       .join(frame_name='passengers', on_columns='Name')\n",
    "                       .apply(transformer=tfac()),\n",
    "    bt.PlainExtractor.build(name='tickets')\n",
    "                    .index()\n",
    "                    .join(frame_name='tickets', on_columns='Ticket')\n",
    "                    .apply(transformer=tfac())\n",
    "]\n",
    "\n",
    "extractor_factory = btt.PredefinedExtractorFactory(*extractors)"
   ]
  },
  {
   "cell_type": "markdown",
   "id": "926206ee",
   "metadata": {},
   "source": [
    "As a third step, we will define a network factory:"
   ]
  },
  {
   "cell_type": "code",
   "execution_count": 3,
   "id": "a9a19205",
   "metadata": {
    "execution": {
     "iopub.execute_input": "2022-06-27T19:30:25.920042Z",
     "iopub.status.busy": "2022-06-27T19:30:25.917305Z",
     "iopub.status.idle": "2022-06-27T19:30:25.922514Z",
     "shell.execute_reply": "2022-06-27T19:30:25.921728Z"
    }
   },
   "outputs": [],
   "source": [
    "network_factory = (btt.FullyConnectedNetwork.Factory(sizes = [10,1])\n",
    "                   .prepend_extraction(input_frames = ['tickets', 'passengers', 'cabin']))\n"
   ]
  },
  {
   "cell_type": "markdown",
   "id": "267fef24",
   "metadata": {},
   "source": [
    "We will explain the architecture behind this definition a bit later. For now, let's define and run `TorchTrainingTask`:"
   ]
  },
  {
   "cell_type": "code",
   "execution_count": 4,
   "id": "d6919e6b",
   "metadata": {
    "execution": {
     "iopub.execute_input": "2022-06-27T19:30:25.937714Z",
     "iopub.status.busy": "2022-06-27T19:30:25.934611Z",
     "iopub.status.idle": "2022-06-27T19:30:36.932608Z",
     "shell.execute_reply": "2022-06-27T19:30:36.933667Z"
    }
   },
   "outputs": [
    {
     "data": {
      "text/plain": [
       "<AxesSubplot:xlabel='iteration'>"
      ]
     },
     "execution_count": 4,
     "metadata": {},
     "output_type": "execute_result"
    },
    {
     "data": {
      "image/png": "[encoded data removed]",
      "text/plain": [
       "<Figure size 432x288 with 1 Axes>"
      ]
     },
     "metadata": {
      "needs_background": "light"
     },
     "output_type": "display_data"
    }
   ],
   "source": [
    "from sklearn.metrics import roc_auc_score\n",
    "from tg.common import Logger\n",
    "import pandas as pd\n",
    "\n",
    "task = btt.TorchTrainingTask(\n",
    "    bt.TrainingSettings(\n",
    "        epoch_count=10,\n",
    "        batch_size=50\n",
    "    ),\n",
    "    btt.TorchTrainingSettings(\n",
    "        optimizer_ctor = btt.OptimizerConstructor('torch.optim:SGD',lr=0.5),\n",
    "        loss_ctor = btt.ModelConstructor('torch.nn:MSELoss')\n",
    "    ),\n",
    "    extractor_factory,\n",
    "    network_factory,\n",
    "    bt.MetricPool().add_sklearn(roc_auc_score)\n",
    ")\n",
    "\n",
    "Logger.disable()\n",
    "\n",
    "\n",
    "result = task.run(bundle)\n",
    "\n",
    "pd.DataFrame(result['output']['history']).set_index('iteration').plot()"
   ]
  },
  {
   "cell_type": "markdown",
   "id": "c19ea8f4",
   "metadata": {},
   "source": [
    "We can see that definition of `TorchTrainingTask` is indeed performed with only existing components and does not require much coding."
   ]
  },
  {
   "cell_type": "markdown",
   "id": "cc4fd7eb",
   "metadata": {},
   "source": [
    "## Network factories\n",
    "\n",
    "Network factories are currently more like proof of concept than a comprehensive set of all possible architectures. Still, we find the concept useful. The features are:\n",
    "\n",
    "* Networks accept batches instead of tensors\n",
    "* Networks adopt to the batches by choosing the input size so that it matches\n",
    "\n",
    "This is achieved with the following architecture:\n",
    "\n",
    "* We have \"normal\" networks, like `FeedForwardNetwork` or `LSTMNetwork`. These are normal `torch` modules that can be used \"as is\". \n",
    "* Each of such classes, however, has a nested `Factory` class, that is the factory creating the network from the input batch. The input batch is expected to be a torch tensor.\n",
    "* There are also ways to organize networks (and factories) into structures, for instance, `FeedForwardNetwork` is a network that accepts several networks and pass the signal sequencially. Correspondindly, `FeedForwardNetwork.Factory` accepts several factories, creates instances for them, and in the end -- the instance for `FeedForwardNetwork`.\n",
    "* For convienience, `FeedForwardNetwork.Factory` has `prepend_extraction` methodm that returns a `FeedForwardNetwork.Factory` with two nested factories: `ExtractingNetwork.Factory` and `FeedForwardNetwork.Factory`. Here `ExtractingNetwork.Factory` create a fake network, that accepts batch, translates the frames into `torch` tensors and concatenates them."
   ]
  }
 ],
 "metadata": {
  "kernelspec": {
   "display_name": "Python 3 (ipykernel)",
   "language": "python",
   "name": "python3"
  },
  "language_info": {
   "codemirror_mode": {
    "name": "ipython",
    "version": 3
   },
   "file_extension": ".py",
   "mimetype": "text/x-python",
   "name": "python",
   "nbconvert_exporter": "python",
   "pygments_lexer": "ipython3",
   "version": "3.8.13"
  }
 },
 "nbformat": 4,
 "nbformat_minor": 5
}
