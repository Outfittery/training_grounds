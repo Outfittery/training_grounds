{
 "cells": [
  {
   "cell_type": "markdown",
   "id": "a4009952",
   "metadata": {},
   "source": [
    "# 1.1. Common features (tg.common._common)"
   ]
  },
  {
   "cell_type": "markdown",
   "id": "548a80dd",
   "metadata": {},
   "source": [
    "`tg.common` defines a few auxiliary classes, that are used through the whole framework.\n",
    "\n",
    "To prevent circular dependencies, the code is actually defined in `tg.common._common`. Not everything is exposed to the `tg.common`, as we want to limit the amount of universally exposed classes to the minimum."
   ]
  },
  {
   "cell_type": "markdown",
   "id": "97cda4a3",
   "metadata": {},
   "source": [
    "## Logger"
   ]
  },
  {
   "cell_type": "markdown",
   "id": "77550fa6",
   "metadata": {},
   "source": [
    "`Logger` is a slim wrapper over standard `logging` module, designed to augment the logging messages with \"keys\" that additionally describe the message. The main reason for this is integration with i.e. Kibana. \n",
    "\n",
    "\n",
    "These fields belong to one of the categories:\n",
    "  * Automatic: code file, line, exception type, value and stacktrace\n",
    "  * Base: the name of the service, version, etc.\n",
    "  * Session: the user-defined keys.\n",
    "\n",
    "Logger will work without any additional initialization, just by importing:"
   ]
  },
  {
   "cell_type": "code",
   "execution_count": 1,
   "id": "077ce61e",
   "metadata": {
    "execution": {
     "iopub.execute_input": "2022-12-28T13:20:03.292184Z",
     "iopub.status.busy": "2022-12-28T13:20:03.289676Z",
     "iopub.status.idle": "2022-12-28T13:20:03.953767Z",
     "shell.execute_reply": "2022-12-28T13:20:03.953060Z"
    }
   },
   "outputs": [
    {
     "name": "stdout",
     "output_type": "stream",
     "text": [
      "2022-12-28 14:20:03.949207 INFO: Message with default logger\n"
     ]
    }
   ],
   "source": [
    "from tg.common import Logger\n",
    "\n",
    "Logger.info('Message with default logger')"
   ]
  },
  {
   "cell_type": "code",
   "execution_count": 2,
   "id": "c321ffc1",
   "metadata": {
    "execution": {
     "iopub.execute_input": "2022-12-28T13:20:03.957455Z",
     "iopub.status.busy": "2022-12-28T13:20:03.956783Z",
     "iopub.status.idle": "2022-12-28T13:20:03.959095Z",
     "shell.execute_reply": "2022-12-28T13:20:03.959537Z"
    }
   },
   "outputs": [
    {
     "name": "stdout",
     "output_type": "stream",
     "text": [
      "{\"@timestamp\": \"2022-12-28T13:20:03.955688+00:00\", \"message\": \"Message with Kibana logger\", \"levelname\": \"INFO\", \"logger\": \"tg\", \"path\": \"/tmp/ipykernel_16175/2907404717.py\", \"path_line\": 2}\n"
     ]
    }
   ],
   "source": [
    "Logger.initialize_kibana()\n",
    "Logger.info('Message with Kibana logger')"
   ]
  },
  {
   "cell_type": "markdown",
   "id": "0c14b91a",
   "metadata": {},
   "source": [
    "As said before, you may define a custom session keys:"
   ]
  },
  {
   "cell_type": "code",
   "execution_count": 3,
   "id": "dd2f2a56",
   "metadata": {
    "execution": {
     "iopub.execute_input": "2022-12-28T13:20:03.963171Z",
     "iopub.status.busy": "2022-12-28T13:20:03.962504Z",
     "iopub.status.idle": "2022-12-28T13:20:03.965723Z",
     "shell.execute_reply": "2022-12-28T13:20:03.966208Z"
    }
   },
   "outputs": [
    {
     "name": "stdout",
     "output_type": "stream",
     "text": [
      "{\"@timestamp\": \"2022-12-28T13:20:03.961362+00:00\", \"message\": \"Message with a key\", \"levelname\": \"INFO\", \"logger\": \"tg\", \"path\": \"/tmp/ipykernel_16175/71300885.py\", \"path_line\": 2, \"test_key\": \"test\"}\n"
     ]
    },
    {
     "name": "stdout",
     "output_type": "stream",
     "text": [
      "{\"@timestamp\": \"2022-12-28T13:20:03.962184+00:00\", \"message\": \"Message without a key\", \"levelname\": \"INFO\", \"logger\": \"tg\", \"path\": \"/tmp/ipykernel_16175/71300885.py\", \"path_line\": 4}\n"
     ]
    }
   ],
   "source": [
    "Logger.push_keys(test_key='test')\n",
    "Logger.info('Message with a key')\n",
    "Logger.clear_keys()\n",
    "Logger.info('Message without a key')"
   ]
  },
  {
   "cell_type": "markdown",
   "id": "e8c6d3c8",
   "metadata": {},
   "source": [
    "If exception information is available, it will be put in the keys:"
   ]
  },
  {
   "cell_type": "code",
   "execution_count": 4,
   "id": "2014c042",
   "metadata": {
    "execution": {
     "iopub.execute_input": "2022-12-28T13:20:03.970385Z",
     "iopub.status.busy": "2022-12-28T13:20:03.969562Z",
     "iopub.status.idle": "2022-12-28T13:20:03.973053Z",
     "shell.execute_reply": "2022-12-28T13:20:03.972369Z"
    }
   },
   "outputs": [
    {
     "name": "stdout",
     "output_type": "stream",
     "text": [
      "{\"@timestamp\": \"2022-12-28T13:20:03.968112+00:00\", \"message\": \"Error\", \"levelname\": \"ERROR\", \"logger\": \"tg\", \"path\": \"/tmp/ipykernel_16175/1975102656.py\", \"path_line\": 4, \"exception_type\": \"<class 'ValueError'>\", \"exception_value\": \"Error\", \"exception_details\": \"Traceback (most recent call last):\\n  File \\\"/tmp/ipykernel_16175/1975102656.py\\\", line 2, in <module>\\n    raise ValueError('Error')\\nValueError: Error\\n\"}\n"
     ]
    }
   ],
   "source": [
    "try:\n",
    "    raise ValueError('Error')\n",
    "except: \n",
    "    Logger.error('Error')"
   ]
  },
  {
   "cell_type": "markdown",
   "id": "b6ec9a71",
   "metadata": {},
   "source": [
    "To change the default way of logging, inherit `tg.common._common.logger.LoggerRoot` in `tg.your_project`, and then import from there. It will also affect all the logging within `TG` framework."
   ]
  },
  {
   "cell_type": "markdown",
   "id": "fa48fcbc",
   "metadata": {},
   "source": [
    "## Loc"
   ]
  },
  {
   "cell_type": "markdown",
   "id": "220ce145",
   "metadata": {},
   "source": [
    "In various situations, `TG` stores intermediate or cache files on your machine, typically in:\n",
    "* `/temp` folder, these files do not require large efforts to create and thus you can delete it as often as you like.\n",
    "* `/data-cache`: datasets and data downloads are stored there, and so restoring these files may take awhile.\n",
    "\n",
    "To access these files:"
   ]
  },
  {
   "cell_type": "code",
   "execution_count": 5,
   "id": "4f6444fa",
   "metadata": {
    "execution": {
     "iopub.execute_input": "2022-12-28T13:20:03.977469Z",
     "iopub.status.busy": "2022-12-28T13:20:03.977056Z",
     "iopub.status.idle": "2022-12-28T13:20:03.982905Z",
     "shell.execute_reply": "2022-12-28T13:20:03.983408Z"
    }
   },
   "outputs": [
    {
     "data": {
      "text/plain": [
       "'test'"
      ]
     },
     "execution_count": 5,
     "metadata": {},
     "output_type": "execute_result"
    }
   ],
   "source": [
    "from tg.common import Loc\n",
    "from yo_fluq_ds import FileIO\n",
    "\n",
    "FileIO.write_text('test', Loc.temp_path/'test.txt')\n",
    "FileIO.read_text(Loc.temp_path/'test.txt')"
   ]
  }
 ],
 "metadata": {
  "kernelspec": {
   "display_name": "Python 3 (ipykernel)",
   "language": "python",
   "name": "python3"
  },
  "language_info": {
   "codemirror_mode": {
    "name": "ipython",
    "version": 3
   },
   "file_extension": ".py",
   "mimetype": "text/x-python",
   "name": "python",
   "nbconvert_exporter": "python",
   "pygments_lexer": "ipython3",
   "version": "3.8.13"
  }
 },
 "nbformat": 4,
 "nbformat_minor": 5
}
