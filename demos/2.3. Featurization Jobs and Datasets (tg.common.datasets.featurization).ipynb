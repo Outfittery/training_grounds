{
 "cells": [
  {
   "cell_type": "markdown",
   "id": "074bda2c",
   "metadata": {},
   "source": [
    "# 2.3. Featurization Jobs and Datasets (tg.common.datasets.featurization)"
   ]
  },
  {
   "cell_type": "markdown",
   "id": "2c108e5e",
   "metadata": {},
   "source": [
    "In the `tg.common.datasets.access` and `tg.common.datasets.selectors`, we covered `DataSource` and `Selector` classes to build a tidy dataset from the external data source. For small datasets that can be build in several minutes, these two components are fine and you don't need anything more. However, for the bigger datasets, additional questions arise, like:\n",
    "\n",
    "* Sometimes the data set is too large to hold in memory. Since selector produces rows one by one, it's not a big problem: we can just separate them into several smaller dataframes\n",
    "* Sometimes we want to exclude some records from the dataset, or produce several rows per one object\n",
    "* Sometimes we actually do not want the resulting dataframe, but some aggregated statistics instead\n",
    "* And finally, sometimes we do not want to execute this procedure on our local machine. Instead, we want to deliver it to the cloud.\n",
    "\n",
    "`tg.common.datasets.featurization` addresses these questions, offering `FeaturizationJob` and `UpdatableFeaturizationJob`, which are production-ready classes to create datasets on scale: \n",
    "\n",
    "* `FeaturizationJob` creates the whole dataset and cannot update its rows.\n",
    "* `UpdatableFeaturizationJob` creates the dataset or updates it, if only some rows are changed."
   ]
  }
 ],
 "metadata": {
  "kernelspec": {
   "display_name": "Python 3 (ipykernel)",
   "language": "python",
   "name": "python3"
  },
  "language_info": {
   "codemirror_mode": {
    "name": "ipython",
    "version": 3
   },
   "file_extension": ".py",
   "mimetype": "text/x-python",
   "name": "python",
   "nbconvert_exporter": "python",
   "pygments_lexer": "ipython3",
   "version": "3.8.11"
  }
 },
 "nbformat": 4,
 "nbformat_minor": 5
}
