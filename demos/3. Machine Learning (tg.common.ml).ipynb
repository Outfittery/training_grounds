{
 "cells": [
  {
   "cell_type": "markdown",
   "id": "bfa5a985",
   "metadata": {},
   "source": [
    "# 3. Machine Learning (tg.common.ml)"
   ]
  },
  {
   "cell_type": "markdown",
   "id": "799d2fe7",
   "metadata": {},
   "source": [
    "Machine learning is supported by the following modules:\n",
    "\n",
    "* `tg.common.ml.dft`: a handy decorator over `sklearn` that applies transformers to the dataframes and keeps the names of the columns. Greatly improves debugging of the machine learning pipelines and simplifies data cleaning.\n",
    "* `tg.common.ml.single_frame`: pipeline that applies simpler ML-algorithms (logistic regression, XGBoost) to the data. The requirement is that the data must fit to the memory after transformation all at once.\n",
    "* `tg.common.ml.batched_training`: pipeline that applies more complex algorithms, typically neural networks, to the data that do not fit in the memory all at once after transformation. \n"
   ]
  }
 ],
 "metadata": {
  "kernelspec": {
   "display_name": "Python 3 (ipykernel)",
   "language": "python",
   "name": "python3"
  },
  "language_info": {
   "codemirror_mode": {
    "name": "ipython",
    "version": 3
   },
   "file_extension": ".py",
   "mimetype": "text/x-python",
   "name": "python",
   "nbconvert_exporter": "python",
   "pygments_lexer": "ipython3",
   "version": "3.8.13"
  }
 },
 "nbformat": 4,
 "nbformat_minor": 5
}
