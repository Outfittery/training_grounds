{
 "cells": [
  {
   "cell_type": "markdown",
   "metadata": {},
   "source": [
    "# Part 1. Featurization, Sources and Selectors\n",
    "\n",
    "## Overview"
   ]
  },
  {
   "cell_type": "markdown",
   "metadata": {},
   "source": [
    "In this Demo, we will cover the featurization of the data: essentially, how one item of data from the database can be transformed into one row in the tidy dataset. Training Grounds offers the following workflow for that:\n",
    "\n",
    "*  To get data from *data source* in a format of *data objects flow* (DOF).\n",
    "  *Data object* are non-relational JSONs, typically huge\n",
    "  and containing nested lists and dictionaries.\n",
    "  *Flow* means that objects are not placed in memory all at once,\n",
    "  but are accessible as a python iterator.\n",
    "  `yo_fluq_ds` is employed for more functionality (https://pypi.org/project/yo-fluq-ds/)\n",
    "- The data can be cached locally in zipped pickle format in order\n",
    "  to speed up access while prototyping. This cache file can be read in the same DOF format\n",
    "  as the original data source, so they are mutually interchangeable.\n",
    "- *Selectors* are applied to the DOF. Selector is an object that behaves as a *pure function*\n",
    "  (in the sense of the functional programming) that converts Data Object into a tidy row.\n",
    "- The rows are assembled in a `pandas` dataframe\n",
    "  and stored in `parquet` format in one or multiple files."
   ]
  },
  {
   "cell_type": "markdown",
   "metadata": {},
   "source": [
    "## Data sources\n",
    "\n",
    "In this section, we will learn how to access the data in the DOF format. The fundamental class here is `DataSource` with `get_data` method, that returns data in the form of DOF. `DataSource` is a necessary abstraction that hides the details of how the data are actually stored: be it relational database, AWS S3 storage or simply a file, as long as the data can be represented as a flow of DOFs, you will be able to use it in your project. If the data storage changes, you may adapt to this change by replacing the `DataSource` implementation and keeping the rest of the featurization process intact. Typically, you need to implement your own `DataSource` inheritants for the storages you have in your environment.\n",
    "\n",
    "In this demo, we will work with the well-known Titanic dataset, which is stored in the local folder as a `csv` file. Of course, it already contains all the data in the tidy format, but for the sake of the demonstration we will distort this format, and then restore the tidiness again with the TG-pipeline. \n",
    "\n",
    "The first step is to write your own `DataSource` class, that will make Titanic dataset available as DOF."
   ]
  },
  {
   "cell_type": "code",
   "execution_count": 1,
   "metadata": {
    "ExecuteTime": {
     "end_time": "2021-04-01T12:03:30.775313Z",
     "start_time": "2021-04-01T12:03:30.048707Z"
    },
    "execution": {
     "iopub.execute_input": "2021-04-08T12:03:33.493130Z",
     "iopub.status.busy": "2021-04-08T12:03:33.492254Z",
     "iopub.status.idle": "2021-04-08T12:03:34.066546Z",
     "shell.execute_reply": "2021-04-08T12:03:34.066051Z"
    }
   },
   "outputs": [
    {
     "name": "stdout",
     "output_type": "stream",
     "text": [
      "{'id': 1, 'ticket': {'ticket.id': 'A/5 21171', 'fare': 7.25, 'Pclass': 3}, 'passenger': {'Name': 'Braund, Mr. Owen Harris', 'Sex': 'male', 'Age': 22.0}, 'trip': {'Survived': 0, 'SibSp': 1, 'Patch': 0, 'Cabin': nan, 'Embarked': 'S'}}\n"
     ]
    }
   ],
   "source": [
    "from yo_fluq_ds import Query, Queryable\n",
    "from tg.common.datasets.access import DataSource\n",
    "import pandas as pd\n",
    "\n",
    "class CsvDataSource(DataSource):\n",
    "    def __init__(self, filename):\n",
    "        self.filename = filename\n",
    "\n",
    "    def _get_data_iter(self):\n",
    "        df = pd.read_csv(self.filename)\n",
    "        for row in df.iterrows():\n",
    "            d = row[1].to_dict()\n",
    "            yield  {\n",
    "                'id': d['PassengerId'],\n",
    "                'ticket': {\n",
    "                    'ticket.id': d['Ticket'],\n",
    "                    'fare': d['Fare'],\n",
    "                    'Pclass': d['Pclass']\n",
    "                },\n",
    "                'passenger': {\n",
    "                    'Name': d['Name'],\n",
    "                    'Sex': d['Sex'],\n",
    "                    'Age': d['Age']\n",
    "                },\n",
    "                'trip': {\n",
    "                    'Survived': d['Survived'],\n",
    "                    'SibSp': d['SibSp'],\n",
    "                    'Patch': d['Parch'],\n",
    "                    'Cabin': d['Cabin'],\n",
    "                    'Embarked' : d['Embarked']\n",
    "                    \n",
    "                }\n",
    "            }\n",
    "            \n",
    "    def get_data(self) -> Queryable:\n",
    "        return Query.en(self._get_data_iter())\n",
    "    \n",
    "source = CsvDataSource('titanic.csv')\n",
    "\n",
    "for row in source.get_data():\n",
    "    print(row)\n",
    "    break"
   ]
  },
  {
   "cell_type": "markdown",
   "metadata": {},
   "source": [
    "Here `_get_data_iter` creates an iterator, that yields objects one after another. In `get_data`, we simply wrap this iterator in `Queryable` type from `yo_fluq`. It's still the iterator, so we can iterate over it, as `for` loop demonstrates."
   ]
  },
  {
   "cell_type": "markdown",
   "metadata": {},
   "source": [
    "`Queryable` class contains a variety of methods for easy-to-write data processing, which are the Python-port of LINQ technology in C#. The methods are explained in full details in https://pypi.org/project/yo-fluq-ds/ . The access to the DOF in `Queryable` format allows you to quickly perform exploratory data analysis. As an example, consider the following code:"
   ]
  },
  {
   "cell_type": "code",
   "execution_count": 2,
   "metadata": {
    "ExecuteTime": {
     "end_time": "2021-04-01T12:03:43.587888Z",
     "start_time": "2021-04-01T12:03:43.509947Z"
    },
    "execution": {
     "iopub.execute_input": "2021-04-08T12:03:34.070465Z",
     "iopub.status.busy": "2021-04-08T12:03:34.070035Z",
     "iopub.status.idle": "2021-04-08T12:03:34.168716Z",
     "shell.execute_reply": "2021-04-08T12:03:34.168279Z"
    }
   },
   "outputs": [
    {
     "data": {
      "text/html": [
       "<div>\n",
       "<style scoped>\n",
       "    .dataframe tbody tr th:only-of-type {\n",
       "        vertical-align: middle;\n",
       "    }\n",
       "\n",
       "    .dataframe tbody tr th {\n",
       "        vertical-align: top;\n",
       "    }\n",
       "\n",
       "    .dataframe thead th {\n",
       "        text-align: right;\n",
       "    }\n",
       "</style>\n",
       "<table border=\"1\" class=\"dataframe\">\n",
       "  <thead>\n",
       "    <tr style=\"text-align: right;\">\n",
       "      <th></th>\n",
       "      <th>ticket.id</th>\n",
       "      <th>fare</th>\n",
       "      <th>Pclass</th>\n",
       "    </tr>\n",
       "  </thead>\n",
       "  <tbody>\n",
       "    <tr>\n",
       "      <th>0</th>\n",
       "      <td>2625</td>\n",
       "      <td>8.5167</td>\n",
       "      <td>3</td>\n",
       "    </tr>\n",
       "    <tr>\n",
       "      <th>1</th>\n",
       "      <td>250649</td>\n",
       "      <td>14.5000</td>\n",
       "      <td>2</td>\n",
       "    </tr>\n",
       "    <tr>\n",
       "      <th>2</th>\n",
       "      <td>248738</td>\n",
       "      <td>29.0000</td>\n",
       "      <td>2</td>\n",
       "    </tr>\n",
       "  </tbody>\n",
       "</table>\n",
       "</div>"
      ],
      "text/plain": [
       "  ticket.id     fare  Pclass\n",
       "0      2625   8.5167       3\n",
       "1    250649  14.5000       2\n",
       "2    248738  29.0000       2"
      ]
     },
     "execution_count": 1,
     "metadata": {},
     "output_type": "execute_result"
    }
   ],
   "source": [
    "(source\n",
    " .get_data()\n",
    " .where(lambda z: z['passenger']['Sex']=='male')\n",
    " .order_by(lambda z: z['passenger']['Age'])\n",
    " .select(lambda z: z['ticket'])\n",
    " .take(3)\n",
    " .to_dataframe()\n",
    ")"
   ]
  },
  {
   "cell_type": "markdown",
   "metadata": {},
   "source": [
    "The meaning is self-evident: filter by `Sex`, order by `Age` and select the `Ticket` information out of the records, then take 3 of them in the format of pandas `DataFrame`."
   ]
  },
  {
   "cell_type": "markdown",
   "metadata": {},
   "source": [
    "Quite often we want to make the data available offline, so the data is available faster and do not create a load on the external server. The typical use cases are:\n",
    "\n",
    "* Exploratory data analysis\n",
    "* Functional tests in your service: these tests often use the real data, and it's impractical to wait each time for this data to be delivered.\n",
    "* Debugging of you services: most of the data services are downloading some data at the beginning, and in order to speed-up the startup when debugging on the local machine, it's helpful to create a cache.\n",
    "\n",
    "To make data source cacheable, create a wrapper:"
   ]
  },
  {
   "cell_type": "code",
   "execution_count": 3,
   "metadata": {
    "ExecuteTime": {
     "end_time": "2021-04-01T12:03:43.591404Z",
     "start_time": "2021-04-01T12:03:43.589121Z"
    },
    "execution": {
     "iopub.execute_input": "2021-04-08T12:03:34.172077Z",
     "iopub.status.busy": "2021-04-08T12:03:34.171652Z",
     "iopub.status.idle": "2021-04-08T12:03:34.173458Z",
     "shell.execute_reply": "2021-04-08T12:03:34.173797Z"
    }
   },
   "outputs": [],
   "source": [
    "from tg.common.datasets.access import ZippedFileDataSource, CacheableDataSource\n",
    "\n",
    "cacheable_source = CacheableDataSource(\n",
    "    inner_data_source = source,\n",
    "    file_data_source = ZippedFileDataSource(path='./temp/titanic')\n",
    ")"
   ]
  },
  {
   "cell_type": "markdown",
   "metadata": {},
   "source": [
    "`CacheableDataSource` is still a `DataSource` and can be called directly. In this case, the original source will be called."
   ]
  },
  {
   "cell_type": "code",
   "execution_count": 4,
   "metadata": {
    "ExecuteTime": {
     "end_time": "2021-04-01T12:03:43.604077Z",
     "start_time": "2021-04-01T12:03:43.592572Z"
    },
    "execution": {
     "iopub.execute_input": "2021-04-08T12:03:34.177495Z",
     "iopub.status.busy": "2021-04-08T12:03:34.176820Z",
     "iopub.status.idle": "2021-04-08T12:03:34.185575Z",
     "shell.execute_reply": "2021-04-08T12:03:34.184662Z"
    }
   },
   "outputs": [
    {
     "data": {
      "text/plain": [
       "{'id': 1,\n",
       " 'ticket': {'ticket.id': 'A/5 21171', 'fare': 7.25, 'Pclass': 3},\n",
       " 'passenger': {'Name': 'Braund, Mr. Owen Harris', 'Sex': 'male', 'Age': 22.0},\n",
       " 'trip': {'Survived': 0,\n",
       "  'SibSp': 1,\n",
       "  'Patch': 0,\n",
       "  'Cabin': nan,\n",
       "  'Embarked': 'S'}}"
      ]
     },
     "execution_count": 1,
     "metadata": {},
     "output_type": "execute_result"
    }
   ],
   "source": [
    "cacheable_source.get_data().first()"
   ]
  },
  {
   "cell_type": "markdown",
   "metadata": {},
   "source": [
    "However, we can also access data this way:"
   ]
  },
  {
   "cell_type": "code",
   "execution_count": 5,
   "metadata": {
    "ExecuteTime": {
     "end_time": "2021-04-01T12:03:43.612630Z",
     "start_time": "2021-04-01T12:03:43.605227Z"
    },
    "execution": {
     "iopub.execute_input": "2021-04-08T12:03:34.189927Z",
     "iopub.status.busy": "2021-04-08T12:03:34.189484Z",
     "iopub.status.idle": "2021-04-08T12:03:34.196658Z",
     "shell.execute_reply": "2021-04-08T12:03:34.196276Z"
    }
   },
   "outputs": [
    {
     "data": {
      "text/plain": [
       "{'id': 1,\n",
       " 'ticket': {'ticket.id': 'A/5 21171', 'fare': 7.25, 'Pclass': 3},\n",
       " 'passenger': {'Name': 'Braund, Mr. Owen Harris', 'Sex': 'male', 'Age': 22.0},\n",
       " 'trip': {'Survived': 0,\n",
       "  'SibSp': 1,\n",
       "  'Patch': 0,\n",
       "  'Cabin': nan,\n",
       "  'Embarked': 'S'}}"
      ]
     },
     "execution_count": 1,
     "metadata": {},
     "output_type": "execute_result"
    }
   ],
   "source": [
    "cacheable_source.safe_cache('default').get_data().first()"
   ]
  },
  {
   "cell_type": "markdown",
   "metadata": {},
   "source": [
    "`safe_cache` accepts the following modes: \n",
    "* `default` mode, in this case `safe_cache` will create the cache in the `path` folder, provided to `ZippedFileDataSource`, if it does not exists, and read from it. \n",
    "* `use` mode. the error will be thrown if cache does not exist locally. \n",
    "* `no` mode, the underlying source will be called directly, the cache will neither created nor used.\n",
    "\n",
    "So, when developing, we can use caches to save time, but when deploying, disable caching them with simple change of the argument. \n",
    "\n",
    "The format for the created cache file is a zipped folder with files that contains pickled data separated into bins. Normally, you don't need to intervene to their size. Increasing the bins size increases both performance and memory consumption. Theoretically, you may use another format by implementing your own class instead of `ZippedFileDataSource`. However, it's only recommended: the current format is a result of a comparative research, and other, more obvious ways of caching (caching everything in one file, or caching each object in an invidual file) perform much slower."
   ]
  },
  {
   "cell_type": "markdown",
   "metadata": {},
   "source": [
    "## Selectors\n",
    "\n",
    "### Basics\n",
    "\n",
    "Selectors are objects that:\n",
    "* define a pure function that transforms a data object into a row in the dataset\n",
    "* track errors and warnings that happen during this conversion\n",
    "* fully maintain the inner structure of selectors, making it possible to e.g. visualize the selector\n",
    "\n",
    "**Note**: selectors are slow! They are not really aligned for the processing of hundreds of gygabytes of data. If this use case arises:\n",
    "* they potentially can be parallelized in a PySpark \n",
    "* they potentially can be partially translated into e.g. PrestoSQL queries, since they maintain the inner structure\n",
    "\n",
    "For the demonstration purpose, we will take the first object of our data source and process it with various selectors."
   ]
  },
  {
   "cell_type": "code",
   "execution_count": 6,
   "metadata": {
    "ExecuteTime": {
     "end_time": "2021-04-01T12:03:43.622969Z",
     "start_time": "2021-04-01T12:03:43.614006Z"
    },
    "execution": {
     "iopub.execute_input": "2021-04-08T12:03:34.202493Z",
     "iopub.status.busy": "2021-04-08T12:03:34.201039Z",
     "iopub.status.idle": "2021-04-08T12:03:34.209749Z",
     "shell.execute_reply": "2021-04-08T12:03:34.209320Z"
    }
   },
   "outputs": [
    {
     "data": {
      "text/plain": [
       "{'id': 12,\n",
       " 'ticket': {'ticket.id': '113783', 'fare': 26.55, 'Pclass': 1},\n",
       " 'passenger': {'Name': 'Bonnell, Miss. Elizabeth',\n",
       "  'Sex': 'female',\n",
       "  'Age': 58.0},\n",
       " 'trip': {'Survived': 1,\n",
       "  'SibSp': 0,\n",
       "  'Patch': 0,\n",
       "  'Cabin': 'C103',\n",
       "  'Embarked': 'S'}}"
      ]
     },
     "execution_count": 1,
     "metadata": {},
     "output_type": "execute_result"
    }
   ],
   "source": [
    "obj = source.get_data().skip(11).first()\n",
    "obj"
   ]
  },
  {
   "cell_type": "markdown",
   "metadata": {},
   "source": [
    "Let's start with simply selecting one field:"
   ]
  },
  {
   "cell_type": "code",
   "execution_count": 7,
   "metadata": {
    "ExecuteTime": {
     "end_time": "2021-04-01T12:03:43.634278Z",
     "start_time": "2021-04-01T12:03:43.624246Z"
    },
    "execution": {
     "iopub.execute_input": "2021-04-08T12:03:34.212839Z",
     "iopub.status.busy": "2021-04-08T12:03:34.212375Z",
     "iopub.status.idle": "2021-04-08T12:03:34.217920Z",
     "shell.execute_reply": "2021-04-08T12:03:34.217534Z"
    }
   },
   "outputs": [
    {
     "data": {
      "text/plain": [
       "{'id': 12}"
      ]
     },
     "execution_count": 1,
     "metadata": {},
     "output_type": "execute_result"
    }
   ],
   "source": [
    "from tg.common.datasets.selectors import Selector\n",
    "\n",
    "selector = (Selector()\n",
    "            .select('id')\n",
    "            )\n",
    "\n",
    "selector(obj)"
   ]
  },
  {
   "cell_type": "markdown",
   "metadata": {},
   "source": [
    "`Selector` class is a high-level abstraction, that allows you defining the featurization function with a `Fluent API`-interface. `Selector` is building a complex object of interconnected smaller processors, and we will look at these processors a little later. We may consider `Selector` on a pure syntax level: how exactly this or that use case can be covered with it. "
   ]
  },
  {
   "cell_type": "markdown",
   "metadata": {},
   "source": [
    "We can rename the field as follow:"
   ]
  },
  {
   "cell_type": "code",
   "execution_count": 8,
   "metadata": {
    "ExecuteTime": {
     "end_time": "2021-04-01T12:03:43.643146Z",
     "start_time": "2021-04-01T12:03:43.638228Z"
    },
    "execution": {
     "iopub.execute_input": "2021-04-08T12:03:34.221493Z",
     "iopub.status.busy": "2021-04-08T12:03:34.221021Z",
     "iopub.status.idle": "2021-04-08T12:03:34.223351Z",
     "shell.execute_reply": "2021-04-08T12:03:34.223681Z"
    }
   },
   "outputs": [
    {
     "data": {
      "text/plain": [
       "{'passenger_id': 12}"
      ]
     },
     "execution_count": 1,
     "metadata": {},
     "output_type": "execute_result"
    }
   ],
   "source": [
    "selector = (Selector()\n",
    "            .select(passenger_id = 'id')\n",
    "            )\n",
    "\n",
    "selector(obj)"
   ]
  },
  {
   "cell_type": "markdown",
   "metadata": {},
   "source": [
    "We can select nested fields several syntax options:"
   ]
  },
  {
   "cell_type": "code",
   "execution_count": 9,
   "metadata": {
    "ExecuteTime": {
     "end_time": "2021-04-01T12:03:43.651324Z",
     "start_time": "2021-04-01T12:03:43.644784Z"
    },
    "execution": {
     "iopub.execute_input": "2021-04-08T12:03:34.228014Z",
     "iopub.status.busy": "2021-04-08T12:03:34.227552Z",
     "iopub.status.idle": "2021-04-08T12:03:34.230338Z",
     "shell.execute_reply": "2021-04-08T12:03:34.229982Z"
    }
   },
   "outputs": [
    {
     "data": {
      "text/plain": [
       "{'ticket_id': '113783',\n",
       " 'sex': 'female',\n",
       " 'Name': 'Bonnell, Miss. Elizabeth',\n",
       " 'Age': 58.0}"
      ]
     },
     "execution_count": 1,
     "metadata": {},
     "output_type": "execute_result"
    }
   ],
   "source": [
    "from tg.common.datasets.selectors import Selector, FieldGetter, Pipeline\n",
    "\n",
    "selector = (Selector()\n",
    "            .select(\n",
    "                'passenger.Name',\n",
    "                ['passenger','Age'],\n",
    "                ticket_id = ['ticket',FieldGetter('ticket.id')],\n",
    "                sex = Pipeline(FieldGetter('passenger'), FieldGetter('Sex'))\n",
    "            ))\n",
    "selector(obj)"
   ]
  },
  {
   "cell_type": "markdown",
   "metadata": {},
   "source": [
    "* the first one (for `Name`) represents the highest level of abstraction, it is very easy to define lots of fields for selection in this way.\n",
    "* the second one (for `Age`) shows that arrays can be used instead of dotted names. The elements of array will be applied sequencially to the input. In this particular case the array consists of two strings, and strings are used as the keys to extract values from dictionaries. Therefore, first the `passenger` will be extracted from the top-level dictionary, and then -- `Age` from `passenger`.\n",
    "* the third (for `ticket.id`) is the only way how we can access the fields with the symbol `.` in name. `FieldGetter` is one of aforementioned small processors: it processes the given object by extracting the element out of the dictionary, or a field from the Python object. \n",
    "* the fourth way (for `Sex`) fully represents how selection works under the hood: it is a sequencial application (`Pipeline`) of two `FieldGetters`. So the arrays for `Age` and `ticket.id` will be converted to `Pipeline` under the hood.\n",
    "\n",
    "The best practice is to use the first method wherever possible, and the third one in other cases."
   ]
  },
  {
   "cell_type": "markdown",
   "metadata": {},
   "source": [
    "If you select several fields from the same nested object, please use `with_prefix` method for optimization:"
   ]
  },
  {
   "cell_type": "code",
   "execution_count": 10,
   "metadata": {
    "ExecuteTime": {
     "end_time": "2021-04-01T12:03:43.658881Z",
     "start_time": "2021-04-01T12:03:43.653868Z"
    },
    "execution": {
     "iopub.execute_input": "2021-04-08T12:03:34.234556Z",
     "iopub.status.busy": "2021-04-08T12:03:34.233954Z",
     "iopub.status.idle": "2021-04-08T12:03:34.236591Z",
     "shell.execute_reply": "2021-04-08T12:03:34.236238Z"
    }
   },
   "outputs": [
    {
     "data": {
      "text/plain": [
       "{'Name': 'Bonnell, Miss. Elizabeth',\n",
       " 'Age': 58.0,\n",
       " 'Sex': 'female',\n",
       " 'ticket_id': '113783'}"
      ]
     },
     "execution_count": 1,
     "metadata": {},
     "output_type": "execute_result"
    }
   ],
   "source": [
    "from tg.common.datasets.selectors import Selector, FieldGetter, Pipeline\n",
    "\n",
    "selector = (Selector()\n",
    "            .with_prefix('passenger')\n",
    "            .select('Name','Age','Sex')\n",
    "            .select(ticket_id = ['ticket',FieldGetter('ticket.id')])\n",
    "            )\n",
    "selector(obj)"
   ]
  },
  {
   "cell_type": "markdown",
   "metadata": {},
   "source": [
    "`with_prefix` method only affects the `select` that immediately follows it. "
   ]
  },
  {
   "cell_type": "markdown",
   "metadata": {},
   "source": [
    "Often, we need to post-process the values. For instance, name by itself is not likely to be feature (and would be GDPR-protected for the actual customers, thus making the entire output dataset GDPR-affected, which is better to avoid). However, we can extract the title from name as it can indeed be a predictor."
   ]
  },
  {
   "cell_type": "code",
   "execution_count": 11,
   "metadata": {
    "ExecuteTime": {
     "end_time": "2021-04-01T12:03:43.666734Z",
     "start_time": "2021-04-01T12:03:43.659790Z"
    },
    "execution": {
     "iopub.execute_input": "2021-04-08T12:03:34.241707Z",
     "iopub.status.busy": "2021-04-08T12:03:34.241148Z",
     "iopub.status.idle": "2021-04-08T12:03:34.244691Z",
     "shell.execute_reply": "2021-04-08T12:03:34.244313Z"
    }
   },
   "outputs": [
    {
     "data": {
      "text/plain": [
       "{'Name': 'Miss'}"
      ]
     },
     "execution_count": 1,
     "metadata": {},
     "output_type": "execute_result"
    }
   ],
   "source": [
    "import re\n",
    "\n",
    "def get_title(name):\n",
    "    title = re.search(' ([A-Za-z]+)\\.', name).group().strip()[:-1]\n",
    "    if title in ['Lady', 'Countess','Capt', 'Col',\n",
    "                 'Don', 'Dr', 'Major', 'Rev', 'Sir', 'Jonkheer', 'Dona']:\n",
    "        return 'Rare'\n",
    "    elif title == 'Mlle':\n",
    "        return 'Miss'\n",
    "    elif title == 'Ms':\n",
    "        return 'Miss'\n",
    "    elif title == 'Mme':\n",
    "        return 'Mrs'\n",
    "    else:\n",
    "        return title\n",
    "\n",
    "string_size = (Selector()\n",
    "               .select(['passenger','Name', get_title])\n",
    "              )\n",
    "\n",
    "string_size(obj)"
   ]
  },
  {
   "cell_type": "markdown",
   "metadata": {},
   "source": [
    "What if we want to apply multiple featurizers to the same field? We can use `Ensemble` for that:"
   ]
  },
  {
   "cell_type": "code",
   "execution_count": 12,
   "metadata": {
    "ExecuteTime": {
     "end_time": "2021-04-01T12:03:43.675488Z",
     "start_time": "2021-04-01T12:03:43.668054Z"
    },
    "execution": {
     "iopub.execute_input": "2021-04-08T12:03:34.248787Z",
     "iopub.status.busy": "2021-04-08T12:03:34.248279Z",
     "iopub.status.idle": "2021-04-08T12:03:34.250713Z",
     "shell.execute_reply": "2021-04-08T12:03:34.251052Z"
    }
   },
   "outputs": [
    {
     "data": {
      "text/plain": [
       "{'Name': {'title': 'Miss', 'length': 24}}"
      ]
     },
     "execution_count": 1,
     "metadata": {},
     "output_type": "execute_result"
    }
   ],
   "source": [
    "from tg.common.datasets.selectors import Ensemble\n",
    "\n",
    "def get_length(s):\n",
    "    return len(s)\n",
    "\n",
    "string_size = (Selector()\n",
    "               .select(['passenger','Name', Ensemble(title=get_title, length=get_length)])\n",
    "              )\n",
    "\n",
    "\n",
    "string_size(obj)"
   ]
  },
  {
   "cell_type": "markdown",
   "metadata": {},
   "source": [
    "`Ensemble` can also be used to combine several selectors together. When your Data Objects are huge and complicated, it makes more sense to write several smaller selectors, instead of writing one that selects all the fields you have. It's easier to read and reuse this way."
   ]
  },
  {
   "cell_type": "code",
   "execution_count": 13,
   "metadata": {
    "ExecuteTime": {
     "end_time": "2021-04-01T12:03:43.685447Z",
     "start_time": "2021-04-01T12:03:43.676806Z"
    },
    "execution": {
     "iopub.execute_input": "2021-04-08T12:03:34.256159Z",
     "iopub.status.busy": "2021-04-08T12:03:34.255678Z",
     "iopub.status.idle": "2021-04-08T12:03:34.257971Z",
     "shell.execute_reply": "2021-04-08T12:03:34.258299Z"
    }
   },
   "outputs": [
    {
     "data": {
      "text/plain": [
       "{'ticket': {'id': '113783', 'fare': 26.55, 'PClass': None},\n",
       " 'passenger': {'name': {'length': 24, 'title': 'Miss'},\n",
       "  'Sex': 'female',\n",
       "  'Age': 58.0}}"
      ]
     },
     "execution_count": 1,
     "metadata": {},
     "output_type": "execute_result"
    }
   ],
   "source": [
    "ticket_selector = (Selector()\n",
    "                   .with_prefix('ticket')\n",
    "                   .select(\n",
    "                       'fare',\n",
    "                       'PClass',\n",
    "                       id = [FieldGetter('ticket.id')]\n",
    "                   )\n",
    ")\n",
    "passenger_selector = (Selector()\n",
    "                      .with_prefix('passenger')\n",
    "                      .select(\n",
    "                          'Sex',\n",
    "                          'Age',\n",
    "                          name=['Name', Ensemble(\n",
    "                              length=get_length,\n",
    "                              title=get_title\n",
    "                          )]\n",
    "                      ))\n",
    "\n",
    "combined_selector = Ensemble(\n",
    "    ticket = ticket_selector,\n",
    "    passenger = passenger_selector,\n",
    ")\n",
    "combined_selector(obj)"
   ]
  },
  {
   "cell_type": "markdown",
   "metadata": {},
   "source": [
    "Pipelines, too, can be used for combination purposes. The typical use case is postprocessing: at the first step, we select fields from the initial object, and then, we want to compute some functions from these fields (e.g., we may want to compute BMI for the person from their weight and height). \n",
    "\n",
    "In Titanic example, let's compute a sum of `SibSp` and `Patch` as a new feature, `Relatives`. We will place it into the new `trip_selector` (which is selector, describing the trip in general, rather than the person or the ticket).\n",
    "\n",
    "For that, we will use `Pipeline`. The arguments of the `Pipeline` are functions, that will be sequencially applied to the input."
   ]
  },
  {
   "cell_type": "code",
   "execution_count": 14,
   "metadata": {
    "ExecuteTime": {
     "end_time": "2021-04-01T12:03:43.693739Z",
     "start_time": "2021-04-01T12:03:43.687153Z"
    },
    "execution": {
     "iopub.execute_input": "2021-04-08T12:03:34.262556Z",
     "iopub.status.busy": "2021-04-08T12:03:34.262096Z",
     "iopub.status.idle": "2021-04-08T12:03:34.264806Z",
     "shell.execute_reply": "2021-04-08T12:03:34.264438Z"
    },
    "scrolled": true
   },
   "outputs": [
    {
     "data": {
      "text/plain": [
       "{'id': 12,\n",
       " 'Survived': 1,\n",
       " 'Cabin': 'C103',\n",
       " 'Embarked': 'S',\n",
       " 'SibSp': 0,\n",
       " 'Patch': 0,\n",
       " 'Relatives': 0}"
      ]
     },
     "execution_count": 1,
     "metadata": {},
     "output_type": "execute_result"
    }
   ],
   "source": [
    "def add_relatives_count(d):\n",
    "    d['Relatives'] = d['SibSp'] + d['Patch']\n",
    "    return d\n",
    "\n",
    "trip_selector = Pipeline(\n",
    "    Selector()\n",
    "     .select('id')\n",
    "     .with_prefix('trip')\n",
    "     .select('Survived','Cabin','Embarked','SibSp','Patch'),\n",
    "    add_relatives_count\n",
    ")\n",
    "\n",
    "trip_selector(obj)"
   ]
  },
  {
   "cell_type": "markdown",
   "metadata": {},
   "source": [
    "Now we need to do some finishing stitches: \n",
    "* for a problemless conversion to dataframe, we need a flat `dict`, not nested. TG has the method for that, `flatten_dict`\n",
    "* We will also insert the current time as a processing time."
   ]
  },
  {
   "cell_type": "code",
   "execution_count": 15,
   "metadata": {
    "ExecuteTime": {
     "end_time": "2021-04-01T12:03:43.703008Z",
     "start_time": "2021-04-01T12:03:43.694860Z"
    },
    "execution": {
     "iopub.execute_input": "2021-04-08T12:03:34.269468Z",
     "iopub.status.busy": "2021-04-08T12:03:34.268941Z",
     "iopub.status.idle": "2021-04-08T12:03:34.271335Z",
     "shell.execute_reply": "2021-04-08T12:03:34.271679Z"
    }
   },
   "outputs": [
    {
     "data": {
      "text/plain": [
       "{'passenger_name_length': 24,\n",
       " 'passenger_name_title': 'Miss',\n",
       " 'passenger_Sex': 'female',\n",
       " 'passenger_Age': 58.0,\n",
       " 'ticket_id': '113783',\n",
       " 'ticket_fare': 26.55,\n",
       " 'ticket_PClass': None,\n",
       " 'trip_id': 12,\n",
       " 'trip_Survived': 1,\n",
       " 'trip_Cabin': 'C103',\n",
       " 'trip_Embarked': 'S',\n",
       " 'trip_SibSp': 0,\n",
       " 'trip_Patch': 0,\n",
       " 'trip_Relatives': 0,\n",
       " 'processed': datetime.datetime(2021, 4, 8, 14, 3, 34, 267566)}"
      ]
     },
     "execution_count": 1,
     "metadata": {},
     "output_type": "execute_result"
    }
   ],
   "source": [
    "from tg.common.datasets.selectors import flatten_dict\n",
    "import datetime\n",
    "\n",
    "def add_meta(obj):\n",
    "    obj['processed'] = datetime.datetime.now()\n",
    "    return obj\n",
    "\n",
    "titanic_selector = Pipeline(\n",
    "    Ensemble(\n",
    "        passenger = passenger_selector,\n",
    "        ticket = ticket_selector,\n",
    "        trip = trip_selector\n",
    "    ),\n",
    "    add_meta,\n",
    "    flatten_dict\n",
    ")\n",
    "titanic_selector(obj)"
   ]
  },
  {
   "cell_type": "markdown",
   "metadata": {},
   "source": [
    "### Representation\n",
    "\n",
    "The selectors always keep the internal structure and thus can be analyzed and represented in the different format. The following code demonstrates how this structure can be retrieved. "
   ]
  },
  {
   "cell_type": "code",
   "execution_count": 16,
   "metadata": {
    "ExecuteTime": {
     "end_time": "2021-04-01T12:03:43.710623Z",
     "start_time": "2021-04-01T12:03:43.705022Z"
    },
    "execution": {
     "iopub.execute_input": "2021-04-08T12:03:34.276689Z",
     "iopub.status.busy": "2021-04-08T12:03:34.276196Z",
     "iopub.status.idle": "2021-04-08T12:03:34.278649Z",
     "shell.execute_reply": "2021-04-08T12:03:34.278227Z"
    }
   },
   "outputs": [
    {
     "name": "stdout",
     "output_type": "stream",
     "text": [
      "{\n",
      " \"0\": {\n",
      "  \"passenger\": {\n",
      "   \"0\": {\n",
      "    \"0\": {\n",
      "     \"0\": \"[?passenger]\"\n",
      "    },\n",
      "    \"1\": {\n",
      "     \"name\": {\n",
      "      \"0\": \"[?Name]\",\n",
      "      \"1\": {\n",
      "       \"length\": \"<function get_length at 0x7f020f803200>\",\n",
      "       \"title\": \"<function get_title at 0x7f023c7833b0>\"\n",
      "      }\n",
      "     },\n",
      "     \"Sex\": {\n",
      "      \"0\": \"...\n"
     ]
    }
   ],
   "source": [
    "from tg.common.datasets.selectors import CombinedSelector\n",
    "import json\n",
    "\n",
    "def process_selector(selector):\n",
    "    if isinstance(selector, CombinedSelector):\n",
    "        children = selector.get_structure()\n",
    "        if children is None:\n",
    "            return selector.__repr__()\n",
    "        result = {} # {'@type': str(type(selector))}\n",
    "        for key, value in children.items():\n",
    "            result[key] = process_selector(value)\n",
    "        return result\n",
    "    return selector.__repr__()\n",
    "\n",
    "\n",
    "representation = process_selector(titanic_selector)\n",
    "\n",
    "print(json.dumps(representation, indent=1)[:300]+\"...\")\n",
    "            "
   ]
  },
  {
   "cell_type": "markdown",
   "metadata": {},
   "source": [
    "To date, we didn't really find out the format that is both readable and well-representative, so we encourage you to explore and extend the code for representation creation to add the field you need for the effective debugging."
   ]
  },
  {
   "cell_type": "markdown",
   "metadata": {},
   "source": [
    "### Error handling\n",
    "\n",
    "Sometimes selectors throw an error while processing the request. They provide a powerful tracing mechanism to find the cause of error in their complicated structure, as well as in the original piece of data.\n",
    "\n",
    "Let us create an erroneous object for processing. The `Name` field which is normally a string, will be replaced with integer value."
   ]
  },
  {
   "cell_type": "code",
   "execution_count": 17,
   "metadata": {
    "ExecuteTime": {
     "end_time": "2021-04-01T12:03:43.725865Z",
     "start_time": "2021-04-01T12:03:43.711631Z"
    },
    "execution": {
     "iopub.execute_input": "2021-04-08T12:03:34.281963Z",
     "iopub.status.busy": "2021-04-08T12:03:34.281536Z",
     "iopub.status.idle": "2021-04-08T12:03:34.291055Z",
     "shell.execute_reply": "2021-04-08T12:03:34.290690Z"
    }
   },
   "outputs": [
    {
     "data": {
      "text/plain": [
       "{'id': 1,\n",
       " 'ticket': {'ticket.id': 'A/5 21171', 'fare': 7.25, 'Pclass': 3},\n",
       " 'passenger': {'Name': 0, 'Sex': 'male', 'Age': 22.0},\n",
       " 'trip': {'Survived': 0,\n",
       "  'SibSp': 1,\n",
       "  'Patch': 0,\n",
       "  'Cabin': nan,\n",
       "  'Embarked': 'S'}}"
      ]
     },
     "execution_count": 1,
     "metadata": {},
     "output_type": "execute_result"
    }
   ],
   "source": [
    "err_obj = source.get_data().first()\n",
    "err_obj['passenger']['Name'] = 0\n",
    "err_obj"
   ]
  },
  {
   "cell_type": "code",
   "execution_count": 18,
   "metadata": {
    "ExecuteTime": {
     "end_time": "2021-04-01T12:03:43.730480Z",
     "start_time": "2021-04-01T12:03:43.727293Z"
    },
    "execution": {
     "iopub.execute_input": "2021-04-08T12:03:34.295077Z",
     "iopub.status.busy": "2021-04-08T12:03:34.294663Z",
     "iopub.status.idle": "2021-04-08T12:03:34.297345Z",
     "shell.execute_reply": "2021-04-08T12:03:34.296957Z"
    }
   },
   "outputs": [
    {
     "name": "stdout",
     "output_type": "stream",
     "text": [
      "{'id': 1, 'ticket': {'ticket.id': 'A/5 21171', 'fare': 7.25, 'Pclass': 3}, 'passenger': {'Name': 0, 'Sex': 'male', 'Age': 22.0}, 'trip': {'Survived': 0, 'SibSp': 1, 'Patch': 0, 'Cabin': nan, 'Embarked': 'S'}}\n",
      "[?passenger].[?Name]\n",
      "/0/passenger/0/1/name/1/length:get_length\n"
     ]
    }
   ],
   "source": [
    "from tg.common.datasets.selectors import SelectorException\n",
    "exception = None\n",
    "try:\n",
    "    titanic_selector(err_obj)\n",
    "except SelectorException as ex:\n",
    "    exception = ex\n",
    "    \n",
    "print(exception.context.original_object)\n",
    "print(exception.context.get_data_path())\n",
    "print(exception.context.get_code_path())\n"
   ]
  },
  {
   "cell_type": "markdown",
   "metadata": {},
   "source": [
    "Selectors are usually applied to the long sequences of data which may not be reproducible. It is therefore wise to cover your featurization with try-except block and store the exception on the hard drive, so you could later build a test case with `original_object`.\n",
    "\n",
    "`get_data_path()` returns the string representation of path inside data where the error has occured: somewhere around `obj['passenger']['Name']`. Symbol `?` means that these fields are optional, and _all fields_ are optional by default. If you want the selector that raises exception when the field does not exist, pass the `True` argument to the constructor of the `Selector`.\n",
    "\n",
    "`get_code_path()` describes where the error occured within the hierarchy of selectors. By looking at this string, we can easily figure out that error occured somewhere around processing `name` with `get_length` method. If the deeper analysis is required, we may use the `representation` object we have previously built:"
   ]
  },
  {
   "cell_type": "code",
   "execution_count": 19,
   "metadata": {
    "ExecuteTime": {
     "end_time": "2021-04-01T12:03:43.738531Z",
     "start_time": "2021-04-01T12:03:43.731588Z"
    },
    "execution": {
     "iopub.execute_input": "2021-04-08T12:03:34.303250Z",
     "iopub.status.busy": "2021-04-08T12:03:34.302630Z",
     "iopub.status.idle": "2021-04-08T12:03:34.305489Z",
     "shell.execute_reply": "2021-04-08T12:03:34.305110Z"
    }
   },
   "outputs": [
    {
     "data": {
      "text/plain": [
       "{0: {0: '[?passenger]'},\n",
       " 1: {'name': {0: '[?Name]',\n",
       "   1: {'length': '<function get_length at 0x7f020f803200>',\n",
       "    'title': '<function get_title at 0x7f023c7833b0>'}},\n",
       "  'Sex': {0: '[?Sex]'},\n",
       "  'Age': {0: '[?Age]'}}}"
      ]
     },
     "execution_count": 1,
     "metadata": {},
     "output_type": "execute_result"
    }
   ],
   "source": [
    "representation[0]['passenger'][0]"
   ]
  },
  {
   "cell_type": "markdown",
   "metadata": {},
   "source": [
    "Here we input the beginning of `get_code_path()` output and see the closer surroundings of the error."
   ]
  },
  {
   "cell_type": "markdown",
   "metadata": {},
   "source": [
    "## List featurization\n",
    "\n",
    "In this section we will consider building features for a list of objects. This use case is rather rare, the examples is, for instance, building the features for a customer, basing on the articles he have purchased in the past.\n",
    "\n",
    "In the Titanic setup, imagine that:\n",
    "1. Our task is actually produce feature for cabins, not for passengers.\n",
    "2. Our DOF is also flow of cabins, not passengers.\n",
    "\n",
    "So one object looks like this:"
   ]
  },
  {
   "cell_type": "code",
   "execution_count": 20,
   "metadata": {
    "ExecuteTime": {
     "end_time": "2021-04-01T12:03:43.805106Z",
     "start_time": "2021-04-01T12:03:43.739667Z"
    },
    "execution": {
     "iopub.execute_input": "2021-04-08T12:03:34.308935Z",
     "iopub.status.busy": "2021-04-08T12:03:34.308514Z",
     "iopub.status.idle": "2021-04-08T12:03:34.398480Z",
     "shell.execute_reply": "2021-04-08T12:03:34.398051Z"
    }
   },
   "outputs": [
    {
     "data": {
      "text/plain": [
       "[{'id': 149,\n",
       "  'ticket': {'ticket.id': '230080', 'fare': 26.0, 'Pclass': 2},\n",
       "  'passenger': {'Name': 'Navratil, Mr. Michel (\"Louis M Hoffman\")',\n",
       "   'Sex': 'male',\n",
       "   'Age': 36.5},\n",
       "  'trip': {'Survived': 0,\n",
       "   'SibSp': 0,\n",
       "   'Patch': 2,\n",
       "   'Cabin': 'F2',\n",
       "   'Embarked': 'S'}},\n",
       " {'id': 194,\n",
       "  'ticket': {'ticket.id': '230080', 'fare': 26.0, 'Pclass': 2},\n",
       "  'passenger': {'Name': 'Navratil, Master. Michel M',\n",
       "   'Sex': 'male',\n",
       "   'Age': 3.0},\n",
       "  'trip': {'Survived': 1,\n",
       "   'SibSp': 1,\n",
       "   'Patch': 1,\n",
       "   'Cabin': 'F2',\n",
       "   'Embarked': 'S'}},\n",
       " {'id': 341,\n",
       "  'ticket': {'ticket.id': '230080', 'fare': 26.0, 'Pclass': 2},\n",
       "  'passenger': {'Name': 'Navratil, Master. Edmond Roger',\n",
       "   'Sex': 'male',\n",
       "   'Age': 2.0},\n",
       "  'trip': {'Survived': 1,\n",
       "   'SibSp': 1,\n",
       "   'Patch': 1,\n",
       "   'Cabin': 'F2',\n",
       "   'Embarked': 'S'}}]"
      ]
     },
     "execution_count": 1,
     "metadata": {},
     "output_type": "execute_result"
    }
   ],
   "source": [
    "cabin_obj = source.get_data().where(lambda z: z['trip']['Cabin']=='F2').to_list()\n",
    "cabin_obj"
   ]
  },
  {
   "cell_type": "markdown",
   "metadata": {},
   "source": [
    "We want to build the following features for this `cabin_obj`: the average fare and age of the passengers. \n",
    "\n",
    "So, to build such aggregated selectors, following practice is recommended:\n",
    "1. build a `Selector` that selects the fields, and apply it to the list, building list of dictionaries\n",
    "2. convert list of dictionaries into dictionary of lists\n",
    "3. apply averager to each list.\n",
    "\n",
    "Let's first do it step-by-step. `Listwise` applies arbitrary function (e.g., your selector) to the elements of the list:"
   ]
  },
  {
   "cell_type": "code",
   "execution_count": 21,
   "metadata": {
    "ExecuteTime": {
     "end_time": "2021-04-01T12:03:43.812668Z",
     "start_time": "2021-04-01T12:03:43.807432Z"
    },
    "execution": {
     "iopub.execute_input": "2021-04-08T12:03:34.402774Z",
     "iopub.status.busy": "2021-04-08T12:03:34.402183Z",
     "iopub.status.idle": "2021-04-08T12:03:34.404858Z",
     "shell.execute_reply": "2021-04-08T12:03:34.404444Z"
    }
   },
   "outputs": [
    {
     "data": {
      "text/plain": [
       "[{'Age': 36.5, 'fare': 26.0},\n",
       " {'Age': 3.0, 'fare': 26.0},\n",
       " {'Age': 2.0, 'fare': 26.0}]"
      ]
     },
     "execution_count": 1,
     "metadata": {},
     "output_type": "execute_result"
    }
   ],
   "source": [
    "from tg.common.datasets.selectors import Listwise, Dictwise, transpose_list_of_dicts_to_dict_of_lists\n",
    "\n",
    "cabin_features_selector = (Selector()\n",
    "                           .select('passenger.Age','ticket.fare')\n",
    "                          )\n",
    "list_of_dicts = Listwise(cabin_features_selector)(cabin_obj)\n",
    "list_of_dicts"
   ]
  },
  {
   "cell_type": "markdown",
   "metadata": {},
   "source": [
    "`transpose_list_of_dicts_to_dict_of_lists` makes the \"transposition\" of list of dicts into dict of lists."
   ]
  },
  {
   "cell_type": "code",
   "execution_count": 22,
   "metadata": {
    "ExecuteTime": {
     "end_time": "2021-04-01T12:03:43.826399Z",
     "start_time": "2021-04-01T12:03:43.813657Z"
    },
    "execution": {
     "iopub.execute_input": "2021-04-08T12:03:34.408245Z",
     "iopub.status.busy": "2021-04-08T12:03:34.407725Z",
     "iopub.status.idle": "2021-04-08T12:03:34.410598Z",
     "shell.execute_reply": "2021-04-08T12:03:34.410220Z"
    }
   },
   "outputs": [
    {
     "data": {
      "text/plain": [
       "{'Age': [36.5, 3.0, 2.0], 'fare': [26.0, 26.0, 26.0]}"
      ]
     },
     "execution_count": 1,
     "metadata": {},
     "output_type": "execute_result"
    }
   ],
   "source": [
    "dict_of_lists = transpose_list_of_dicts_to_dict_of_lists(list_of_dicts)\n",
    "dict_of_lists"
   ]
  },
  {
   "cell_type": "markdown",
   "metadata": {},
   "source": [
    "Finally, `Dictwise` applies function to the elements of dictionary"
   ]
  },
  {
   "cell_type": "code",
   "execution_count": 23,
   "metadata": {
    "ExecuteTime": {
     "end_time": "2021-04-01T12:03:43.837784Z",
     "start_time": "2021-04-01T12:03:43.827380Z"
    },
    "execution": {
     "iopub.execute_input": "2021-04-08T12:03:34.414234Z",
     "iopub.status.busy": "2021-04-08T12:03:34.413787Z",
     "iopub.status.idle": "2021-04-08T12:03:34.415977Z",
     "shell.execute_reply": "2021-04-08T12:03:34.416344Z"
    }
   },
   "outputs": [
    {
     "data": {
      "text/plain": [
       "{'Age': 13.833333333333334, 'fare': 26.0}"
      ]
     },
     "execution_count": 1,
     "metadata": {},
     "output_type": "execute_result"
    }
   ],
   "source": [
    "import numpy as np\n",
    "\n",
    "Dictwise(np.mean)(dict_of_lists)"
   ]
  },
  {
   "cell_type": "markdown",
   "metadata": {},
   "source": [
    "If you need a more complicated logic, such as applying different functions to different fields, you will need to extend `Dictwise` class."
   ]
  },
  {
   "cell_type": "markdown",
   "metadata": {},
   "source": [
    "All we have to do now is to assemble it to the pipeline. Since in our use cases we have used this pipeline several times, it's standardized in the following class:"
   ]
  },
  {
   "cell_type": "code",
   "execution_count": 24,
   "metadata": {
    "ExecuteTime": {
     "end_time": "2021-04-01T12:03:43.851214Z",
     "start_time": "2021-04-01T12:03:43.839498Z"
    },
    "execution": {
     "iopub.execute_input": "2021-04-08T12:03:34.420525Z",
     "iopub.status.busy": "2021-04-08T12:03:34.420039Z",
     "iopub.status.idle": "2021-04-08T12:03:34.422283Z",
     "shell.execute_reply": "2021-04-08T12:03:34.422631Z"
    }
   },
   "outputs": [
    {
     "data": {
      "text/plain": [
       "{'Age': 13.833333333333334, 'fare': 26.0}"
      ]
     },
     "execution_count": 1,
     "metadata": {},
     "output_type": "execute_result"
    }
   ],
   "source": [
    "from tg.common.datasets.selectors import ListFeaturizer\n",
    "\n",
    "selector = ListFeaturizer(cabin_features_selector, np.mean)\n",
    "selector(cabin_obj)"
   ]
  },
  {
   "cell_type": "markdown",
   "metadata": {},
   "source": [
    "### Quick dataset creations\n",
    "\n",
    "The combination of `DataSource` and `Featurizer` allows you to quickly build the tidy dataset:"
   ]
  },
  {
   "cell_type": "code",
   "execution_count": 25,
   "metadata": {
    "ExecuteTime": {
     "end_time": "2021-04-01T12:03:43.877930Z",
     "start_time": "2021-04-01T12:03:43.852306Z"
    },
    "execution": {
     "iopub.execute_input": "2021-04-08T12:03:34.425779Z",
     "iopub.status.busy": "2021-04-08T12:03:34.425366Z",
     "iopub.status.idle": "2021-04-08T12:03:34.443031Z",
     "shell.execute_reply": "2021-04-08T12:03:34.443366Z"
    }
   },
   "outputs": [
    {
     "data": {
      "text/html": [
       "<div>\n",
       "<style scoped>\n",
       "    .dataframe tbody tr th:only-of-type {\n",
       "        vertical-align: middle;\n",
       "    }\n",
       "\n",
       "    .dataframe tbody tr th {\n",
       "        vertical-align: top;\n",
       "    }\n",
       "\n",
       "    .dataframe thead th {\n",
       "        text-align: right;\n",
       "    }\n",
       "</style>\n",
       "<table border=\"1\" class=\"dataframe\">\n",
       "  <thead>\n",
       "    <tr style=\"text-align: right;\">\n",
       "      <th></th>\n",
       "      <th>passenger_name_length</th>\n",
       "      <th>passenger_name_title</th>\n",
       "      <th>passenger_Sex</th>\n",
       "      <th>passenger_Age</th>\n",
       "      <th>ticket_id</th>\n",
       "      <th>ticket_fare</th>\n",
       "      <th>ticket_PClass</th>\n",
       "      <th>trip_id</th>\n",
       "      <th>trip_Survived</th>\n",
       "      <th>trip_Cabin</th>\n",
       "      <th>trip_Embarked</th>\n",
       "      <th>trip_SibSp</th>\n",
       "      <th>trip_Patch</th>\n",
       "      <th>trip_Relatives</th>\n",
       "      <th>processed</th>\n",
       "    </tr>\n",
       "  </thead>\n",
       "  <tbody>\n",
       "    <tr>\n",
       "      <th>0</th>\n",
       "      <td>23</td>\n",
       "      <td>Mr</td>\n",
       "      <td>male</td>\n",
       "      <td>22.0</td>\n",
       "      <td>A/5 21171</td>\n",
       "      <td>7.2500</td>\n",
       "      <td>None</td>\n",
       "      <td>1</td>\n",
       "      <td>0</td>\n",
       "      <td>NaN</td>\n",
       "      <td>S</td>\n",
       "      <td>1</td>\n",
       "      <td>0</td>\n",
       "      <td>1</td>\n",
       "      <td>2021-04-08 14:03:34.427351</td>\n",
       "    </tr>\n",
       "    <tr>\n",
       "      <th>1</th>\n",
       "      <td>51</td>\n",
       "      <td>Mrs</td>\n",
       "      <td>female</td>\n",
       "      <td>38.0</td>\n",
       "      <td>PC 17599</td>\n",
       "      <td>71.2833</td>\n",
       "      <td>None</td>\n",
       "      <td>2</td>\n",
       "      <td>1</td>\n",
       "      <td>C85</td>\n",
       "      <td>C</td>\n",
       "      <td>1</td>\n",
       "      <td>0</td>\n",
       "      <td>1</td>\n",
       "      <td>2021-04-08 14:03:34.427597</td>\n",
       "    </tr>\n",
       "    <tr>\n",
       "      <th>2</th>\n",
       "      <td>22</td>\n",
       "      <td>Miss</td>\n",
       "      <td>female</td>\n",
       "      <td>26.0</td>\n",
       "      <td>STON/O2. 3101282</td>\n",
       "      <td>7.9250</td>\n",
       "      <td>None</td>\n",
       "      <td>3</td>\n",
       "      <td>1</td>\n",
       "      <td>NaN</td>\n",
       "      <td>S</td>\n",
       "      <td>0</td>\n",
       "      <td>0</td>\n",
       "      <td>0</td>\n",
       "      <td>2021-04-08 14:03:34.427831</td>\n",
       "    </tr>\n",
       "    <tr>\n",
       "      <th>3</th>\n",
       "      <td>44</td>\n",
       "      <td>Mrs</td>\n",
       "      <td>female</td>\n",
       "      <td>35.0</td>\n",
       "      <td>113803</td>\n",
       "      <td>53.1000</td>\n",
       "      <td>None</td>\n",
       "      <td>4</td>\n",
       "      <td>1</td>\n",
       "      <td>C123</td>\n",
       "      <td>S</td>\n",
       "      <td>1</td>\n",
       "      <td>0</td>\n",
       "      <td>1</td>\n",
       "      <td>2021-04-08 14:03:34.428067</td>\n",
       "    </tr>\n",
       "    <tr>\n",
       "      <th>4</th>\n",
       "      <td>24</td>\n",
       "      <td>Mr</td>\n",
       "      <td>male</td>\n",
       "      <td>35.0</td>\n",
       "      <td>373450</td>\n",
       "      <td>8.0500</td>\n",
       "      <td>None</td>\n",
       "      <td>5</td>\n",
       "      <td>0</td>\n",
       "      <td>NaN</td>\n",
       "      <td>S</td>\n",
       "      <td>0</td>\n",
       "      <td>0</td>\n",
       "      <td>0</td>\n",
       "      <td>2021-04-08 14:03:34.428298</td>\n",
       "    </tr>\n",
       "    <tr>\n",
       "      <th>5</th>\n",
       "      <td>16</td>\n",
       "      <td>Mr</td>\n",
       "      <td>male</td>\n",
       "      <td>NaN</td>\n",
       "      <td>330877</td>\n",
       "      <td>8.4583</td>\n",
       "      <td>None</td>\n",
       "      <td>6</td>\n",
       "      <td>0</td>\n",
       "      <td>NaN</td>\n",
       "      <td>Q</td>\n",
       "      <td>0</td>\n",
       "      <td>0</td>\n",
       "      <td>0</td>\n",
       "      <td>2021-04-08 14:03:34.428528</td>\n",
       "    </tr>\n",
       "    <tr>\n",
       "      <th>6</th>\n",
       "      <td>23</td>\n",
       "      <td>Mr</td>\n",
       "      <td>male</td>\n",
       "      <td>54.0</td>\n",
       "      <td>17463</td>\n",
       "      <td>51.8625</td>\n",
       "      <td>None</td>\n",
       "      <td>7</td>\n",
       "      <td>0</td>\n",
       "      <td>E46</td>\n",
       "      <td>S</td>\n",
       "      <td>0</td>\n",
       "      <td>0</td>\n",
       "      <td>0</td>\n",
       "      <td>2021-04-08 14:03:34.428757</td>\n",
       "    </tr>\n",
       "    <tr>\n",
       "      <th>7</th>\n",
       "      <td>30</td>\n",
       "      <td>Master</td>\n",
       "      <td>male</td>\n",
       "      <td>2.0</td>\n",
       "      <td>349909</td>\n",
       "      <td>21.0750</td>\n",
       "      <td>None</td>\n",
       "      <td>8</td>\n",
       "      <td>0</td>\n",
       "      <td>NaN</td>\n",
       "      <td>S</td>\n",
       "      <td>3</td>\n",
       "      <td>1</td>\n",
       "      <td>4</td>\n",
       "      <td>2021-04-08 14:03:34.428986</td>\n",
       "    </tr>\n",
       "    <tr>\n",
       "      <th>8</th>\n",
       "      <td>49</td>\n",
       "      <td>Mrs</td>\n",
       "      <td>female</td>\n",
       "      <td>27.0</td>\n",
       "      <td>347742</td>\n",
       "      <td>11.1333</td>\n",
       "      <td>None</td>\n",
       "      <td>9</td>\n",
       "      <td>1</td>\n",
       "      <td>NaN</td>\n",
       "      <td>S</td>\n",
       "      <td>0</td>\n",
       "      <td>2</td>\n",
       "      <td>2</td>\n",
       "      <td>2021-04-08 14:03:34.429218</td>\n",
       "    </tr>\n",
       "    <tr>\n",
       "      <th>9</th>\n",
       "      <td>35</td>\n",
       "      <td>Mrs</td>\n",
       "      <td>female</td>\n",
       "      <td>14.0</td>\n",
       "      <td>237736</td>\n",
       "      <td>30.0708</td>\n",
       "      <td>None</td>\n",
       "      <td>10</td>\n",
       "      <td>1</td>\n",
       "      <td>NaN</td>\n",
       "      <td>C</td>\n",
       "      <td>1</td>\n",
       "      <td>0</td>\n",
       "      <td>1</td>\n",
       "      <td>2021-04-08 14:03:34.429464</td>\n",
       "    </tr>\n",
       "  </tbody>\n",
       "</table>\n",
       "</div>"
      ],
      "text/plain": [
       "   passenger_name_length passenger_name_title passenger_Sex  passenger_Age  \\\n",
       "0                     23                   Mr          male           22.0   \n",
       "1                     51                  Mrs        female           38.0   \n",
       "2                     22                 Miss        female           26.0   \n",
       "3                     44                  Mrs        female           35.0   \n",
       "4                     24                   Mr          male           35.0   \n",
       "5                     16                   Mr          male            NaN   \n",
       "6                     23                   Mr          male           54.0   \n",
       "7                     30               Master          male            2.0   \n",
       "8                     49                  Mrs        female           27.0   \n",
       "9                     35                  Mrs        female           14.0   \n",
       "\n",
       "          ticket_id  ticket_fare ticket_PClass  trip_id  trip_Survived  \\\n",
       "0         A/5 21171       7.2500          None        1              0   \n",
       "1          PC 17599      71.2833          None        2              1   \n",
       "2  STON/O2. 3101282       7.9250          None        3              1   \n",
       "3            113803      53.1000          None        4              1   \n",
       "4            373450       8.0500          None        5              0   \n",
       "5            330877       8.4583          None        6              0   \n",
       "6             17463      51.8625          None        7              0   \n",
       "7            349909      21.0750          None        8              0   \n",
       "8            347742      11.1333          None        9              1   \n",
       "9            237736      30.0708          None       10              1   \n",
       "\n",
       "  trip_Cabin trip_Embarked  trip_SibSp  trip_Patch  trip_Relatives  \\\n",
       "0        NaN             S           1           0               1   \n",
       "1        C85             C           1           0               1   \n",
       "2        NaN             S           0           0               0   \n",
       "3       C123             S           1           0               1   \n",
       "4        NaN             S           0           0               0   \n",
       "5        NaN             Q           0           0               0   \n",
       "6        E46             S           0           0               0   \n",
       "7        NaN             S           3           1               4   \n",
       "8        NaN             S           0           2               2   \n",
       "9        NaN             C           1           0               1   \n",
       "\n",
       "                   processed  \n",
       "0 2021-04-08 14:03:34.427351  \n",
       "1 2021-04-08 14:03:34.427597  \n",
       "2 2021-04-08 14:03:34.427831  \n",
       "3 2021-04-08 14:03:34.428067  \n",
       "4 2021-04-08 14:03:34.428298  \n",
       "5 2021-04-08 14:03:34.428528  \n",
       "6 2021-04-08 14:03:34.428757  \n",
       "7 2021-04-08 14:03:34.428986  \n",
       "8 2021-04-08 14:03:34.429218  \n",
       "9 2021-04-08 14:03:34.429464  "
      ]
     },
     "execution_count": 1,
     "metadata": {},
     "output_type": "execute_result"
    }
   ],
   "source": [
    "cacheable_source.safe_cache('default').get_data().take(10).select(titanic_selector).to_dataframe()"
   ]
  },
  {
   "cell_type": "markdown",
   "metadata": {},
   "source": [
    "Featurizing of bigger datasets, however, adds some complications (memory control and storing the output), and will be covered in the next Demo."
   ]
  },
  {
   "cell_type": "markdown",
   "metadata": {},
   "source": [
    "## Summary\n",
    "\n",
    "In this demo, we have covered two topics:\n",
    "* How to access the storage and retrieve the data elements one by one\n",
    "* How to process each of them to transform into a row of the tidy dataset.\n",
    "\n",
    "By simply combining these steps, we can already featurize the Titanic dataset and build a `Dataframe`. "
   ]
  }
 ],
 "metadata": {
  "hide_input": false,
  "kernelspec": {
   "display_name": "Python 3",
   "language": "python",
   "name": "python3"
  },
  "language_info": {
   "codemirror_mode": {
    "name": "ipython",
    "version": 3
   },
   "file_extension": ".py",
   "mimetype": "text/x-python",
   "name": "python",
   "nbconvert_exporter": "python",
   "pygments_lexer": "ipython3",
   "version": "3.7.10"
  },
  "toc": {
   "base_numbering": 1,
   "nav_menu": {},
   "number_sections": true,
   "sideBar": true,
   "skip_h1_title": false,
   "title_cell": "Table of Contents",
   "title_sidebar": "Contents",
   "toc_cell": false,
   "toc_position": {},
   "toc_section_display": true,
   "toc_window_display": false
  },
  "varInspector": {
   "cols": {
    "lenName": 16,
    "lenType": 16,
    "lenVar": 40
   },
   "kernels_config": {
    "python": {
     "delete_cmd_postfix": "",
     "delete_cmd_prefix": "del ",
     "library": "var_list.py",
     "varRefreshCmd": "print(var_dic_list())"
    },
    "r": {
     "delete_cmd_postfix": ") ",
     "delete_cmd_prefix": "rm(",
     "library": "var_list.r",
     "varRefreshCmd": "cat(var_dic_list()) "
    }
   },
   "types_to_exclude": [
    "module",
    "function",
    "builtin_function_or_method",
    "instance",
    "_Feature"
   ],
   "window_display": false
  }
 },
 "nbformat": 4,
 "nbformat_minor": 4
}
