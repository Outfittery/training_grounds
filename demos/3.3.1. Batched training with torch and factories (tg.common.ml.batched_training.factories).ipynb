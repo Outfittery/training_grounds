{
 "cells": [
  {
   "cell_type": "markdown",
   "id": "6c188ceb",
   "metadata": {},
   "source": [
    "# 3.3.1. Batched training with torch and factories (tg.common.ml.batched_training.factories)"
   ]
  },
  {
   "cell_type": "markdown",
   "id": "2071b8c0",
   "metadata": {},
   "source": [
    "Thousands of training processes have shown `BatchedTrainingTask` is a reliable and effective way of training neural networks. \n",
    "\n",
    "However, we experienced some problems with training networks of different architectures on data with complex structures (such as contextual data, see `tg.common.ml.batched_training.context`). These problems are conceptual: the approach of `BatchedTrainingTask` is that the training is a SOLID object entirely configurable by components; however, in the reality the configuration can only be achieved by extensive coding in `ModelHandler` and `lazy_initialization`. \n",
    "\n",
    "`tg.common.ml.batched_training.factories` addresses the problem, subclassing and adjusting `BatchedTrainingTask` and `ModelHandler` for this scenario, as well as adding some additional classes for network creation."
   ]
  },
  {
   "cell_type": "markdown",
   "id": "399df843",
   "metadata": {},
   "source": [
    "## Binary classification task"
   ]
  },
  {
   "cell_type": "markdown",
   "id": "91295bb2",
   "metadata": {},
   "source": [
    "We will work on binary classification task from standard sklearn datasets. First, we need to translate it into bundle:"
   ]
  },
  {
   "cell_type": "code",
   "execution_count": 1,
   "id": "cfc93eb3",
   "metadata": {
    "execution": {
     "iopub.execute_input": "2022-12-28T13:21:19.508757Z",
     "iopub.status.busy": "2022-12-28T13:21:19.505007Z",
     "iopub.status.idle": "2022-12-28T13:21:20.792567Z",
     "shell.execute_reply": "2022-12-28T13:21:20.792902Z"
    }
   },
   "outputs": [
    {
     "data": {
      "text/html": [
       "<div>\n",
       "<style scoped>\n",
       "    .dataframe tbody tr th:only-of-type {\n",
       "        vertical-align: middle;\n",
       "    }\n",
       "\n",
       "    .dataframe tbody tr th {\n",
       "        vertical-align: top;\n",
       "    }\n",
       "\n",
       "    .dataframe thead th {\n",
       "        text-align: right;\n",
       "    }\n",
       "</style>\n",
       "<table border=\"1\" class=\"dataframe\">\n",
       "  <thead>\n",
       "    <tr style=\"text-align: right;\">\n",
       "      <th></th>\n",
       "      <th>mean radius</th>\n",
       "      <th>mean texture</th>\n",
       "      <th>mean perimeter</th>\n",
       "      <th>mean area</th>\n",
       "      <th>mean smoothness</th>\n",
       "      <th>mean compactness</th>\n",
       "      <th>mean concavity</th>\n",
       "      <th>mean concave points</th>\n",
       "      <th>mean symmetry</th>\n",
       "      <th>mean fractal dimension</th>\n",
       "      <th>...</th>\n",
       "      <th>worst radius</th>\n",
       "      <th>worst texture</th>\n",
       "      <th>worst perimeter</th>\n",
       "      <th>worst area</th>\n",
       "      <th>worst smoothness</th>\n",
       "      <th>worst compactness</th>\n",
       "      <th>worst concavity</th>\n",
       "      <th>worst concave points</th>\n",
       "      <th>worst symmetry</th>\n",
       "      <th>worst fractal dimension</th>\n",
       "    </tr>\n",
       "  </thead>\n",
       "  <tbody>\n",
       "    <tr>\n",
       "      <th>0</th>\n",
       "      <td>17.99</td>\n",
       "      <td>10.38</td>\n",
       "      <td>122.80</td>\n",
       "      <td>1001.0</td>\n",
       "      <td>0.11840</td>\n",
       "      <td>0.27760</td>\n",
       "      <td>0.3001</td>\n",
       "      <td>0.14710</td>\n",
       "      <td>0.2419</td>\n",
       "      <td>0.07871</td>\n",
       "      <td>...</td>\n",
       "      <td>25.38</td>\n",
       "      <td>17.33</td>\n",
       "      <td>184.60</td>\n",
       "      <td>2019.0</td>\n",
       "      <td>0.1622</td>\n",
       "      <td>0.6656</td>\n",
       "      <td>0.7119</td>\n",
       "      <td>0.2654</td>\n",
       "      <td>0.4601</td>\n",
       "      <td>0.11890</td>\n",
       "    </tr>\n",
       "    <tr>\n",
       "      <th>1</th>\n",
       "      <td>20.57</td>\n",
       "      <td>17.77</td>\n",
       "      <td>132.90</td>\n",
       "      <td>1326.0</td>\n",
       "      <td>0.08474</td>\n",
       "      <td>0.07864</td>\n",
       "      <td>0.0869</td>\n",
       "      <td>0.07017</td>\n",
       "      <td>0.1812</td>\n",
       "      <td>0.05667</td>\n",
       "      <td>...</td>\n",
       "      <td>24.99</td>\n",
       "      <td>23.41</td>\n",
       "      <td>158.80</td>\n",
       "      <td>1956.0</td>\n",
       "      <td>0.1238</td>\n",
       "      <td>0.1866</td>\n",
       "      <td>0.2416</td>\n",
       "      <td>0.1860</td>\n",
       "      <td>0.2750</td>\n",
       "      <td>0.08902</td>\n",
       "    </tr>\n",
       "    <tr>\n",
       "      <th>2</th>\n",
       "      <td>19.69</td>\n",
       "      <td>21.25</td>\n",
       "      <td>130.00</td>\n",
       "      <td>1203.0</td>\n",
       "      <td>0.10960</td>\n",
       "      <td>0.15990</td>\n",
       "      <td>0.1974</td>\n",
       "      <td>0.12790</td>\n",
       "      <td>0.2069</td>\n",
       "      <td>0.05999</td>\n",
       "      <td>...</td>\n",
       "      <td>23.57</td>\n",
       "      <td>25.53</td>\n",
       "      <td>152.50</td>\n",
       "      <td>1709.0</td>\n",
       "      <td>0.1444</td>\n",
       "      <td>0.4245</td>\n",
       "      <td>0.4504</td>\n",
       "      <td>0.2430</td>\n",
       "      <td>0.3613</td>\n",
       "      <td>0.08758</td>\n",
       "    </tr>\n",
       "    <tr>\n",
       "      <th>3</th>\n",
       "      <td>11.42</td>\n",
       "      <td>20.38</td>\n",
       "      <td>77.58</td>\n",
       "      <td>386.1</td>\n",
       "      <td>0.14250</td>\n",
       "      <td>0.28390</td>\n",
       "      <td>0.2414</td>\n",
       "      <td>0.10520</td>\n",
       "      <td>0.2597</td>\n",
       "      <td>0.09744</td>\n",
       "      <td>...</td>\n",
       "      <td>14.91</td>\n",
       "      <td>26.50</td>\n",
       "      <td>98.87</td>\n",
       "      <td>567.7</td>\n",
       "      <td>0.2098</td>\n",
       "      <td>0.8663</td>\n",
       "      <td>0.6869</td>\n",
       "      <td>0.2575</td>\n",
       "      <td>0.6638</td>\n",
       "      <td>0.17300</td>\n",
       "    </tr>\n",
       "    <tr>\n",
       "      <th>4</th>\n",
       "      <td>20.29</td>\n",
       "      <td>14.34</td>\n",
       "      <td>135.10</td>\n",
       "      <td>1297.0</td>\n",
       "      <td>0.10030</td>\n",
       "      <td>0.13280</td>\n",
       "      <td>0.1980</td>\n",
       "      <td>0.10430</td>\n",
       "      <td>0.1809</td>\n",
       "      <td>0.05883</td>\n",
       "      <td>...</td>\n",
       "      <td>22.54</td>\n",
       "      <td>16.67</td>\n",
       "      <td>152.20</td>\n",
       "      <td>1575.0</td>\n",
       "      <td>0.1374</td>\n",
       "      <td>0.2050</td>\n",
       "      <td>0.4000</td>\n",
       "      <td>0.1625</td>\n",
       "      <td>0.2364</td>\n",
       "      <td>0.07678</td>\n",
       "    </tr>\n",
       "  </tbody>\n",
       "</table>\n",
       "<p>5 rows × 30 columns</p>\n",
       "</div>"
      ],
      "text/plain": [
       "   mean radius  mean texture  mean perimeter  mean area  mean smoothness  \\\n",
       "0        17.99         10.38          122.80     1001.0          0.11840   \n",
       "1        20.57         17.77          132.90     1326.0          0.08474   \n",
       "2        19.69         21.25          130.00     1203.0          0.10960   \n",
       "3        11.42         20.38           77.58      386.1          0.14250   \n",
       "4        20.29         14.34          135.10     1297.0          0.10030   \n",
       "\n",
       "   mean compactness  mean concavity  mean concave points  mean symmetry  \\\n",
       "0           0.27760          0.3001              0.14710         0.2419   \n",
       "1           0.07864          0.0869              0.07017         0.1812   \n",
       "2           0.15990          0.1974              0.12790         0.2069   \n",
       "3           0.28390          0.2414              0.10520         0.2597   \n",
       "4           0.13280          0.1980              0.10430         0.1809   \n",
       "\n",
       "   mean fractal dimension  ...  worst radius  worst texture  worst perimeter  \\\n",
       "0                 0.07871  ...         25.38          17.33           184.60   \n",
       "1                 0.05667  ...         24.99          23.41           158.80   \n",
       "2                 0.05999  ...         23.57          25.53           152.50   \n",
       "3                 0.09744  ...         14.91          26.50            98.87   \n",
       "4                 0.05883  ...         22.54          16.67           152.20   \n",
       "\n",
       "   worst area  worst smoothness  worst compactness  worst concavity  \\\n",
       "0      2019.0            0.1622             0.6656           0.7119   \n",
       "1      1956.0            0.1238             0.1866           0.2416   \n",
       "2      1709.0            0.1444             0.4245           0.4504   \n",
       "3       567.7            0.2098             0.8663           0.6869   \n",
       "4      1575.0            0.1374             0.2050           0.4000   \n",
       "\n",
       "   worst concave points  worst symmetry  worst fractal dimension  \n",
       "0                0.2654          0.4601                  0.11890  \n",
       "1                0.1860          0.2750                  0.08902  \n",
       "2                0.2430          0.3613                  0.08758  \n",
       "3                0.2575          0.6638                  0.17300  \n",
       "4                0.1625          0.2364                  0.07678  \n",
       "\n",
       "[5 rows x 30 columns]"
      ]
     },
     "execution_count": 1,
     "metadata": {},
     "output_type": "execute_result"
    }
   ],
   "source": [
    "from yo_fluq_ds import *\n",
    "from sklearn import datasets\n",
    "import pandas as pd\n",
    "from tg.common.ml import batched_training as bt\n",
    "\n",
    "def get_binary_classification_bundle():\n",
    "    ds = datasets.load_breast_cancer()\n",
    "    features = pd.DataFrame(ds['data'], columns=ds['feature_names'])\n",
    "    df = pd.DataFrame(ds['target'], columns=['label'])\n",
    "    df['split'] = bt.train_display_test_split(df, 0.2, 0.2, 'label')\n",
    "    bundle = bt.DataBundle(index=df, features=features)\n",
    "    return bundle\n",
    "\n",
    "get_binary_classification_bundle().features.head()"
   ]
  },
  {
   "cell_type": "code",
   "execution_count": 2,
   "id": "cbf34b65",
   "metadata": {
    "execution": {
     "iopub.execute_input": "2022-12-28T13:21:20.797467Z",
     "iopub.status.busy": "2022-12-28T13:21:20.796709Z",
     "iopub.status.idle": "2022-12-28T13:21:20.811665Z",
     "shell.execute_reply": "2022-12-28T13:21:20.811283Z"
    }
   },
   "outputs": [
    {
     "data": {
      "text/html": [
       "<div>\n",
       "<style scoped>\n",
       "    .dataframe tbody tr th:only-of-type {\n",
       "        vertical-align: middle;\n",
       "    }\n",
       "\n",
       "    .dataframe tbody tr th {\n",
       "        vertical-align: top;\n",
       "    }\n",
       "\n",
       "    .dataframe thead th {\n",
       "        text-align: right;\n",
       "    }\n",
       "</style>\n",
       "<table border=\"1\" class=\"dataframe\">\n",
       "  <thead>\n",
       "    <tr style=\"text-align: right;\">\n",
       "      <th></th>\n",
       "      <th>label</th>\n",
       "      <th>split</th>\n",
       "    </tr>\n",
       "  </thead>\n",
       "  <tbody>\n",
       "    <tr>\n",
       "      <th>0</th>\n",
       "      <td>0</td>\n",
       "      <td>train</td>\n",
       "    </tr>\n",
       "    <tr>\n",
       "      <th>1</th>\n",
       "      <td>0</td>\n",
       "      <td>display</td>\n",
       "    </tr>\n",
       "    <tr>\n",
       "      <th>2</th>\n",
       "      <td>0</td>\n",
       "      <td>train</td>\n",
       "    </tr>\n",
       "    <tr>\n",
       "      <th>3</th>\n",
       "      <td>0</td>\n",
       "      <td>train</td>\n",
       "    </tr>\n",
       "    <tr>\n",
       "      <th>4</th>\n",
       "      <td>0</td>\n",
       "      <td>train</td>\n",
       "    </tr>\n",
       "  </tbody>\n",
       "</table>\n",
       "</div>"
      ],
      "text/plain": [
       "   label    split\n",
       "0      0    train\n",
       "1      0  display\n",
       "2      0    train\n",
       "3      0    train\n",
       "4      0    train"
      ]
     },
     "execution_count": 2,
     "metadata": {},
     "output_type": "execute_result"
    }
   ],
   "source": [
    "get_binary_classification_bundle().index.head()"
   ]
  },
  {
   "cell_type": "markdown",
   "id": "7a8b2a5f",
   "metadata": {},
   "source": [
    "We see that index label contains both label and split. This is a recommended way of splitting for `TorchTrainingTask`: set the split in bundle. The reason for this is that we can't really use several splits in batched training the way we did for single frme task, so the whole architecture of splits becomes unusable. Also, when comparing many networks against each other, it's good to ensure that they train on exactly same data."
   ]
  },
  {
   "cell_type": "markdown",
   "id": "bb8e929f",
   "metadata": {},
   "source": [
    "Let's define the extractors. This part didn't change in comparison with `tg.common.ml.batched_training`"
   ]
  },
  {
   "cell_type": "code",
   "execution_count": 3,
   "id": "d59c904e",
   "metadata": {
    "execution": {
     "iopub.execute_input": "2022-12-28T13:21:20.817221Z",
     "iopub.status.busy": "2022-12-28T13:21:20.816385Z",
     "iopub.status.idle": "2022-12-28T13:21:21.224257Z",
     "shell.execute_reply": "2022-12-28T13:21:21.223734Z"
    }
   },
   "outputs": [
    {
     "data": {
      "text/html": [
       "<div>\n",
       "<style scoped>\n",
       "    .dataframe tbody tr th:only-of-type {\n",
       "        vertical-align: middle;\n",
       "    }\n",
       "\n",
       "    .dataframe tbody tr th {\n",
       "        vertical-align: top;\n",
       "    }\n",
       "\n",
       "    .dataframe thead th {\n",
       "        text-align: right;\n",
       "    }\n",
       "</style>\n",
       "<table border=\"1\" class=\"dataframe\">\n",
       "  <thead>\n",
       "    <tr style=\"text-align: right;\">\n",
       "      <th></th>\n",
       "      <th>mean radius</th>\n",
       "      <th>mean texture</th>\n",
       "      <th>mean perimeter</th>\n",
       "      <th>mean area</th>\n",
       "      <th>mean smoothness</th>\n",
       "      <th>mean compactness</th>\n",
       "      <th>mean concavity</th>\n",
       "      <th>mean concave points</th>\n",
       "      <th>mean symmetry</th>\n",
       "      <th>mean fractal dimension</th>\n",
       "      <th>...</th>\n",
       "      <th>worst radius</th>\n",
       "      <th>worst texture</th>\n",
       "      <th>worst perimeter</th>\n",
       "      <th>worst area</th>\n",
       "      <th>worst smoothness</th>\n",
       "      <th>worst compactness</th>\n",
       "      <th>worst concavity</th>\n",
       "      <th>worst concave points</th>\n",
       "      <th>worst symmetry</th>\n",
       "      <th>worst fractal dimension</th>\n",
       "    </tr>\n",
       "  </thead>\n",
       "  <tbody>\n",
       "    <tr>\n",
       "      <th>0</th>\n",
       "      <td>1.097064</td>\n",
       "      <td>-2.073335</td>\n",
       "      <td>1.269934</td>\n",
       "      <td>0.984375</td>\n",
       "      <td>1.568466</td>\n",
       "      <td>3.283515</td>\n",
       "      <td>2.652874</td>\n",
       "      <td>2.532475</td>\n",
       "      <td>2.217515</td>\n",
       "      <td>2.255747</td>\n",
       "      <td>...</td>\n",
       "      <td>1.886690</td>\n",
       "      <td>-1.359293</td>\n",
       "      <td>2.303601</td>\n",
       "      <td>2.001237</td>\n",
       "      <td>1.307686</td>\n",
       "      <td>2.616665</td>\n",
       "      <td>2.109526</td>\n",
       "      <td>2.296076</td>\n",
       "      <td>2.750622</td>\n",
       "      <td>1.937015</td>\n",
       "    </tr>\n",
       "    <tr>\n",
       "      <th>1</th>\n",
       "      <td>1.829821</td>\n",
       "      <td>-0.353632</td>\n",
       "      <td>1.685955</td>\n",
       "      <td>1.908708</td>\n",
       "      <td>-0.826962</td>\n",
       "      <td>-0.487072</td>\n",
       "      <td>-0.023846</td>\n",
       "      <td>0.548144</td>\n",
       "      <td>0.001392</td>\n",
       "      <td>-0.868652</td>\n",
       "      <td>...</td>\n",
       "      <td>1.805927</td>\n",
       "      <td>-0.369203</td>\n",
       "      <td>1.535126</td>\n",
       "      <td>1.890489</td>\n",
       "      <td>-0.375612</td>\n",
       "      <td>-0.430444</td>\n",
       "      <td>-0.146749</td>\n",
       "      <td>1.087084</td>\n",
       "      <td>-0.243890</td>\n",
       "      <td>0.281190</td>\n",
       "    </tr>\n",
       "    <tr>\n",
       "      <th>2</th>\n",
       "      <td>1.579888</td>\n",
       "      <td>0.456187</td>\n",
       "      <td>1.566503</td>\n",
       "      <td>1.558884</td>\n",
       "      <td>0.942210</td>\n",
       "      <td>1.052926</td>\n",
       "      <td>1.363478</td>\n",
       "      <td>2.037231</td>\n",
       "      <td>0.939685</td>\n",
       "      <td>-0.398008</td>\n",
       "      <td>...</td>\n",
       "      <td>1.511870</td>\n",
       "      <td>-0.023974</td>\n",
       "      <td>1.347475</td>\n",
       "      <td>1.456285</td>\n",
       "      <td>0.527407</td>\n",
       "      <td>1.082932</td>\n",
       "      <td>0.854974</td>\n",
       "      <td>1.955000</td>\n",
       "      <td>1.152255</td>\n",
       "      <td>0.201391</td>\n",
       "    </tr>\n",
       "    <tr>\n",
       "      <th>3</th>\n",
       "      <td>-0.768909</td>\n",
       "      <td>0.253732</td>\n",
       "      <td>-0.592687</td>\n",
       "      <td>-0.764464</td>\n",
       "      <td>3.283553</td>\n",
       "      <td>3.402909</td>\n",
       "      <td>1.915897</td>\n",
       "      <td>1.451707</td>\n",
       "      <td>2.867383</td>\n",
       "      <td>4.910919</td>\n",
       "      <td>...</td>\n",
       "      <td>-0.281464</td>\n",
       "      <td>0.133984</td>\n",
       "      <td>-0.249939</td>\n",
       "      <td>-0.550021</td>\n",
       "      <td>3.394275</td>\n",
       "      <td>3.893397</td>\n",
       "      <td>1.989588</td>\n",
       "      <td>2.175786</td>\n",
       "      <td>6.046041</td>\n",
       "      <td>4.935010</td>\n",
       "    </tr>\n",
       "    <tr>\n",
       "      <th>4</th>\n",
       "      <td>1.750297</td>\n",
       "      <td>-1.151816</td>\n",
       "      <td>1.776573</td>\n",
       "      <td>1.826229</td>\n",
       "      <td>0.280372</td>\n",
       "      <td>0.539340</td>\n",
       "      <td>1.371011</td>\n",
       "      <td>1.428493</td>\n",
       "      <td>-0.009560</td>\n",
       "      <td>-0.562450</td>\n",
       "      <td>...</td>\n",
       "      <td>1.298575</td>\n",
       "      <td>-1.466770</td>\n",
       "      <td>1.338539</td>\n",
       "      <td>1.220724</td>\n",
       "      <td>0.220556</td>\n",
       "      <td>-0.313395</td>\n",
       "      <td>0.613179</td>\n",
       "      <td>0.729259</td>\n",
       "      <td>-0.868353</td>\n",
       "      <td>-0.397100</td>\n",
       "    </tr>\n",
       "  </tbody>\n",
       "</table>\n",
       "<p>5 rows × 30 columns</p>\n",
       "</div>"
      ],
      "text/plain": [
       "   mean radius  mean texture  mean perimeter  mean area  mean smoothness  \\\n",
       "0     1.097064     -2.073335        1.269934   0.984375         1.568466   \n",
       "1     1.829821     -0.353632        1.685955   1.908708        -0.826962   \n",
       "2     1.579888      0.456187        1.566503   1.558884         0.942210   \n",
       "3    -0.768909      0.253732       -0.592687  -0.764464         3.283553   \n",
       "4     1.750297     -1.151816        1.776573   1.826229         0.280372   \n",
       "\n",
       "   mean compactness  mean concavity  mean concave points  mean symmetry  \\\n",
       "0          3.283515        2.652874             2.532475       2.217515   \n",
       "1         -0.487072       -0.023846             0.548144       0.001392   \n",
       "2          1.052926        1.363478             2.037231       0.939685   \n",
       "3          3.402909        1.915897             1.451707       2.867383   \n",
       "4          0.539340        1.371011             1.428493      -0.009560   \n",
       "\n",
       "   mean fractal dimension  ...  worst radius  worst texture  worst perimeter  \\\n",
       "0                2.255747  ...      1.886690      -1.359293         2.303601   \n",
       "1               -0.868652  ...      1.805927      -0.369203         1.535126   \n",
       "2               -0.398008  ...      1.511870      -0.023974         1.347475   \n",
       "3                4.910919  ...     -0.281464       0.133984        -0.249939   \n",
       "4               -0.562450  ...      1.298575      -1.466770         1.338539   \n",
       "\n",
       "   worst area  worst smoothness  worst compactness  worst concavity  \\\n",
       "0    2.001237          1.307686           2.616665         2.109526   \n",
       "1    1.890489         -0.375612          -0.430444        -0.146749   \n",
       "2    1.456285          0.527407           1.082932         0.854974   \n",
       "3   -0.550021          3.394275           3.893397         1.989588   \n",
       "4    1.220724          0.220556          -0.313395         0.613179   \n",
       "\n",
       "   worst concave points  worst symmetry  worst fractal dimension  \n",
       "0              2.296076        2.750622                 1.937015  \n",
       "1              1.087084       -0.243890                 0.281190  \n",
       "2              1.955000        1.152255                 0.201391  \n",
       "3              2.175786        6.046041                 4.935010  \n",
       "4              0.729259       -0.868353                -0.397100  \n",
       "\n",
       "[5 rows x 30 columns]"
      ]
     },
     "execution_count": 3,
     "metadata": {},
     "output_type": "execute_result"
    }
   ],
   "source": [
    "from tg.common.ml.batched_training import factories as btf\n",
    "from tg.common.ml import dft\n",
    "\n",
    "def get_feature_extractor():\n",
    "    feature_extractor = (bt.PlainExtractor\n",
    "                 .build('features')\n",
    "                 .index('features')\n",
    "                 .apply(transformer = dft.DataFrameTransformerFactory.default_factory())\n",
    "                )\n",
    "    return feature_extractor\n",
    "    \n",
    "def get_binary_label_extractor():\n",
    "    label_extractor = (bt.PlainExtractor\n",
    "                   .build(btf.Conventions.LabelFrame)\n",
    "                   .index()\n",
    "                   .apply(take_columns=['label'], transformer=None)\n",
    "                  )\n",
    "    return label_extractor\n",
    "\n",
    "def test_extractor(extractor, bundle):\n",
    "    extractor.fit(bundle)\n",
    "    return extractor.extract(bundle)\n",
    "\n",
    "db = get_binary_classification_bundle()\n",
    "idb = bt.IndexedDataBundle(db.index, db)\n",
    "test_extractor( get_feature_extractor(), idb).head()"
   ]
  },
  {
   "cell_type": "code",
   "execution_count": 4,
   "id": "9b694854",
   "metadata": {
    "execution": {
     "iopub.execute_input": "2022-12-28T13:21:21.230412Z",
     "iopub.status.busy": "2022-12-28T13:21:21.230023Z",
     "iopub.status.idle": "2022-12-28T13:21:21.234364Z",
     "shell.execute_reply": "2022-12-28T13:21:21.233789Z"
    }
   },
   "outputs": [
    {
     "data": {
      "text/html": [
       "<div>\n",
       "<style scoped>\n",
       "    .dataframe tbody tr th:only-of-type {\n",
       "        vertical-align: middle;\n",
       "    }\n",
       "\n",
       "    .dataframe tbody tr th {\n",
       "        vertical-align: top;\n",
       "    }\n",
       "\n",
       "    .dataframe thead th {\n",
       "        text-align: right;\n",
       "    }\n",
       "</style>\n",
       "<table border=\"1\" class=\"dataframe\">\n",
       "  <thead>\n",
       "    <tr style=\"text-align: right;\">\n",
       "      <th></th>\n",
       "      <th>label</th>\n",
       "    </tr>\n",
       "  </thead>\n",
       "  <tbody>\n",
       "    <tr>\n",
       "      <th>0</th>\n",
       "      <td>0</td>\n",
       "    </tr>\n",
       "    <tr>\n",
       "      <th>1</th>\n",
       "      <td>0</td>\n",
       "    </tr>\n",
       "    <tr>\n",
       "      <th>2</th>\n",
       "      <td>0</td>\n",
       "    </tr>\n",
       "    <tr>\n",
       "      <th>3</th>\n",
       "      <td>0</td>\n",
       "    </tr>\n",
       "    <tr>\n",
       "      <th>4</th>\n",
       "      <td>0</td>\n",
       "    </tr>\n",
       "  </tbody>\n",
       "</table>\n",
       "</div>"
      ],
      "text/plain": [
       "   label\n",
       "0      0\n",
       "1      0\n",
       "2      0\n",
       "3      0\n",
       "4      0"
      ]
     },
     "execution_count": 4,
     "metadata": {},
     "output_type": "execute_result"
    }
   ],
   "source": [
    "test_extractor(get_binary_label_extractor(), idb).head()"
   ]
  },
  {
   "cell_type": "markdown",
   "id": "dfc60f99",
   "metadata": {},
   "source": [
    "In `tg.common.ml.batched_training.factories`, `TorchModelHandler` class is defined. A short reminder: `ModelHandler` class should handle initialization, training and prediction of the model. The `TorchModelHandler` addresses the last two in a generic way, and completely outsources the inialization to three entities:\n",
    "* Network factory\n",
    "* Optimizer constructor\n",
    "* Loss constructor\n",
    "\n",
    "Let's cover the first one. In general, network factory is an arbitrary function that accepts one batch and generates the network. This gives us the opportunity to adjust the network to the input data: the shape of the input data is determined after the extractors are fitted, which is very late in the initialization process."
   ]
  },
  {
   "cell_type": "code",
   "execution_count": 5,
   "id": "52a7a148",
   "metadata": {
    "execution": {
     "iopub.execute_input": "2022-12-28T13:21:21.245388Z",
     "iopub.status.busy": "2022-12-28T13:21:21.241477Z",
     "iopub.status.idle": "2022-12-28T13:21:22.038346Z",
     "shell.execute_reply": "2022-12-28T13:21:22.037779Z"
    }
   },
   "outputs": [
    {
     "data": {
      "text/plain": [
       "<AxesSubplot:xlabel='iteration'>"
      ]
     },
     "execution_count": 5,
     "metadata": {},
     "output_type": "execute_result"
    },
    {
     "data": {
      "image/png": "[encoded data removed]",
      "text/plain": [
       "<Figure size 432x288 with 1 Axes>"
      ]
     },
     "metadata": {
      "needs_background": "light"
     },
     "output_type": "display_data"
    }
   ],
   "source": [
    "from sklearn.metrics import roc_auc_score\n",
    "from tg.common import Logger\n",
    "from functools import partial\n",
    "import torch\n",
    "\n",
    "Logger.disable()\n",
    "\n",
    "class ClassificationNetwork(torch.nn.Module):\n",
    "    def __init__(self, input_size, hidden_size, output_size):\n",
    "        super(ClassificationNetwork, self).__init__()\n",
    "        self.hidden = torch.nn.Linear(input_size, hidden_size)\n",
    "        self.output = torch.nn.Linear(hidden_size, output_size)\n",
    "\n",
    "    def forward(self, input):\n",
    "        X = input['features']\n",
    "        X = torch.tensor(X.astype(float).values).float()\n",
    "        X = self.hidden(X)\n",
    "        X = torch.sigmoid(X)\n",
    "        X = self.output(X)\n",
    "        X = torch.sigmoid(X)\n",
    "        return X\n",
    "    \n",
    "def create_factory(hidden_size):\n",
    "    return lambda sample: ClassificationNetwork(\n",
    "        sample['features'].shape[1], \n",
    "        hidden_size, \n",
    "        sample[btf.Conventions.LabelFrame].shape[1]\n",
    "    )\n",
    "        \n",
    "\n",
    "class ClassificationTask(btf.TorchTrainingTask):\n",
    "    def initialize_task(self, data):\n",
    "        self.metric_pool = bt.MetricPool().add_sklearn(roc_auc_score)\n",
    "        self.settings.epoch_count = 10\n",
    "        self.settings.batch_size = 1000\n",
    "        self.settings.mini_match_size = None\n",
    "        self.setup_batcher(data, [get_feature_extractor(), get_binary_label_extractor()])\n",
    "        self.setup_model(create_factory(100))\n",
    "        \n",
    "        \n",
    "task = ClassificationTask()\n",
    "result = task.run(get_binary_classification_bundle())\n",
    "pd.DataFrame(result['output']['history']).set_index('iteration').plot()"
   ]
  },
  {
   "cell_type": "markdown",
   "id": "86fb2756",
   "metadata": {},
   "source": [
    "`create_factory` is somewhat of a awkward method that is, essentially, a factory of factories. Moreover, it returns a `lambda` function, which is not compatible with the delivery. Hence, let's consider another way of the factory definition:"
   ]
  },
  {
   "cell_type": "code",
   "execution_count": 6,
   "id": "909ec85a",
   "metadata": {
    "execution": {
     "iopub.execute_input": "2022-12-28T13:21:22.046582Z",
     "iopub.status.busy": "2022-12-28T13:21:22.045065Z",
     "iopub.status.idle": "2022-12-28T13:21:22.806075Z",
     "shell.execute_reply": "2022-12-28T13:21:22.806387Z"
    }
   },
   "outputs": [
    {
     "data": {
      "text/plain": [
       "<AxesSubplot:xlabel='iteration'>"
      ]
     },
     "execution_count": 6,
     "metadata": {},
     "output_type": "execute_result"
    },
    {
     "data": {
      "image/png": "[encoded data removed]",
      "text/plain": [
       "<Figure size 432x288 with 1 Axes>"
      ]
     },
     "metadata": {
      "needs_background": "light"
     },
     "output_type": "display_data"
    }
   ],
   "source": [
    "class ClassificationNetwork(torch.nn.Module):\n",
    "    def __init__(self, input_size, hidden_size, output_size):\n",
    "        super(ClassificationNetwork, self).__init__()\n",
    "        self.hidden = torch.nn.Linear(input_size, hidden_size)\n",
    "        self.output = torch.nn.Linear(hidden_size, output_size)\n",
    "\n",
    "    def forward(self, input):\n",
    "        X = input['features']\n",
    "        X = torch.tensor(X.astype(float).values).float()\n",
    "        X = self.hidden(X)\n",
    "        X = torch.sigmoid(X)\n",
    "        X = self.output(X)\n",
    "        X = torch.sigmoid(X)\n",
    "        return X\n",
    "    \n",
    "    class Factory:\n",
    "        def __init__(self, hidden_size):\n",
    "            self.hidden_size = hidden_size\n",
    "            \n",
    "        def __call__(self, sample):\n",
    "            return ClassificationNetwork(\n",
    "                sample['features'].shape[1], \n",
    "                self.hidden_size, \n",
    "                sample[btf.Conventions.LabelFrame].shape[1]\n",
    "            )\n",
    "        \n",
    "\n",
    "class ClassificationTask(btf.TorchTrainingTask):\n",
    "    def initialize_task(self, data):\n",
    "        self.metric_pool = bt.MetricPool().add_sklearn(roc_auc_score)\n",
    "        self.settings.epoch_count = 10\n",
    "        self.settings.batch_size = 1000\n",
    "        self.settings.mini_match_size = None\n",
    "        self.setup_batcher(data, [get_feature_extractor(), get_binary_label_extractor()])\n",
    "        self.setup_model(ClassificationNetwork.Factory(100))\n",
    "        \n",
    "        \n",
    "task = ClassificationTask()\n",
    "result = task.run(get_binary_classification_bundle())\n",
    "pd.DataFrame(result['output']['history']).set_index('iteration').plot()"
   ]
  },
  {
   "cell_type": "markdown",
   "id": "320f7e33",
   "metadata": {},
   "source": [
    "This way the `ClassificationNetwork.Factory` is a proper factory class, containing the parameters of the to-be-created network. `__call__` method makes the object callable. Placing `Factory` inside `ClassificationNetwork` allows you to import these classes always as a couple, and also allows avoiding excessive naming (`ClassificationNetwork` and `ClassificationNetworkFactory`)."
   ]
  },
  {
   "cell_type": "markdown",
   "id": "09c98e56",
   "metadata": {},
   "source": [
    "Now, to Optimizator constructor. This is an instance of `CtorAdapter` class that turns a type's constuctor into function with unnamed arguments. It contains: \n",
    "* a `type`: either an instance of `type` or a string that encodes type the same way we saw in `tg.common.ml.single_frame`\n",
    "* `args_names`: mapping from the position of the unnamed parameter to the name of the argument in constructor.\n",
    "* additional named arguments of the constructor."
   ]
  },
  {
   "cell_type": "code",
   "execution_count": 7,
   "id": "13e39121",
   "metadata": {
    "execution": {
     "iopub.execute_input": "2022-12-28T13:21:22.810539Z",
     "iopub.status.busy": "2022-12-28T13:21:22.809773Z",
     "iopub.status.idle": "2022-12-28T13:21:22.812405Z",
     "shell.execute_reply": "2022-12-28T13:21:22.812027Z"
    }
   },
   "outputs": [
    {
     "data": {
      "text/plain": [
       "{'type': 'torch.optim:SGD', 'args_names': ('params',), 'kwargs': {'lr': 0.1}}"
      ]
     },
     "execution_count": 7,
     "metadata": {},
     "output_type": "execute_result"
    }
   ],
   "source": [
    "task.optimizer_ctor.__dict__"
   ]
  },
  {
   "cell_type": "markdown",
   "id": "f08a1366",
   "metadata": {},
   "source": [
    "You can simply change the arguments you need."
   ]
  },
  {
   "cell_type": "code",
   "execution_count": 8,
   "id": "30d3a53a",
   "metadata": {
    "execution": {
     "iopub.execute_input": "2022-12-28T13:21:22.820571Z",
     "iopub.status.busy": "2022-12-28T13:21:22.819944Z",
     "iopub.status.idle": "2022-12-28T13:21:23.623336Z",
     "shell.execute_reply": "2022-12-28T13:21:23.623851Z"
    }
   },
   "outputs": [
    {
     "name": "stdout",
     "output_type": "stream",
     "text": [
      "Adam (\n",
      "Parameter Group 0\n",
      "    amsgrad: False\n",
      "    betas: (0.9, 0.999)\n",
      "    eps: 1e-08\n",
      "    lr: 0.01\n",
      "    weight_decay: 0\n",
      ")\n"
     ]
    },
    {
     "data": {
      "text/plain": [
       "<AxesSubplot:xlabel='iteration'>"
      ]
     },
     "execution_count": 8,
     "metadata": {},
     "output_type": "execute_result"
    },
    {
     "data": {
      "image/png": "[encoded data removed]",
      "text/plain": [
       "<Figure size 432x288 with 1 Axes>"
      ]
     },
     "metadata": {
      "needs_background": "light"
     },
     "output_type": "display_data"
    }
   ],
   "source": [
    "class ClassificationTask(btf.TorchTrainingTask):\n",
    "    def initialize_task(self, data):\n",
    "        metrics = bt.MetricPool().add_sklearn(roc_auc_score)\n",
    "        self.metric_pool = bt.MetricPool().add_sklearn(roc_auc_score)\n",
    "        self.settings.epoch_count = 10\n",
    "        self.settings.batch_size = 1000\n",
    "        self.settings.mini_match_size = None\n",
    "        self.setup_batcher(data, [get_feature_extractor(), get_binary_label_extractor()])\n",
    "        \n",
    "        self.optimizer_ctor.type = 'torch.optim:Adam'\n",
    "        self.optimizer_ctor.kwargs.lr = 0.01\n",
    "        self.setup_model(ClassificationNetwork.Factory(100))\n",
    "        \n",
    "task = ClassificationTask()\n",
    "result = task.run(get_binary_classification_bundle())\n",
    "print(task.model_handler.optimizer)\n",
    "pd.DataFrame(result['output']['history']).set_index('iteration').plot()"
   ]
  },
  {
   "cell_type": "markdown",
   "id": "945c30fc",
   "metadata": {},
   "source": [
    "## Other ways of defining network"
   ]
  },
  {
   "cell_type": "markdown",
   "id": "54f4f9e1",
   "metadata": {},
   "source": [
    "In the end, we need a network factory: a function, that takes a sample batch and creates a network. As we have seen in the example, the batch is actually used in this creation, as it defines the input size of the network. Note that this is, in general, variable, even for the same task and the same dataset: the transformers that perform one-hot encoding on categorical variables are trained on one batch, therefore, different runs may have slightly different amount of columns in categorical features.\n",
    "\n",
    "The most understandable way of defining the network and the factory was just presented: to create a `torch` component and a separate `Factory` class accepts the parameters in constructor and creates an object in `__call__`, so the `Factory` object is actually callable and can be invoked as a function. \n",
    "\n",
    "**This is perfectly normal and functioning way, and we definitely recommend it for the first attempts.** However, it brings an enourmous amount of bad code in the project. If you change your model even slightly, you either need to create a new `Network/Factory` classes (and probably copy-paste the code), or insert flags. The way to prevent this is to find a way to decompose the factory into components and build the more complicated factory from the basic ones. This would be exactly the way `pytorch` itself works, allowing you to assemble network from basic building blocks.\n",
    "\n",
    "However, the idea of building a `Factory` for each `pytorch` block, which we initially tried, where `Factory` is a descendant of some `AbstractNetworkFactory` class, was a dead end. It brings in way too much of infrastructure code, which should more or less mirror `pytorch` classes. And when you want to add a new component in your network for an experiment, the last thing you want to do is to also write `Factory` for it.\n",
    "\n",
    "So we have choosen a more subtle way: allow defining factories as just functions, or even as components themselves. We will list several different ways of creating `Factory` out of component, and to combine them together.\n",
    "\n",
    "For this, let's first create a batch to test our networks:"
   ]
  },
  {
   "cell_type": "code",
   "execution_count": 9,
   "id": "36f09c40",
   "metadata": {
    "execution": {
     "iopub.execute_input": "2022-12-28T13:21:23.628902Z",
     "iopub.status.busy": "2022-12-28T13:21:23.628285Z",
     "iopub.status.idle": "2022-12-28T13:21:23.695585Z",
     "shell.execute_reply": "2022-12-28T13:21:23.696023Z"
    }
   },
   "outputs": [
    {
     "data": {
      "text/html": [
       "<div>\n",
       "<style scoped>\n",
       "    .dataframe tbody tr th:only-of-type {\n",
       "        vertical-align: middle;\n",
       "    }\n",
       "\n",
       "    .dataframe tbody tr th {\n",
       "        vertical-align: top;\n",
       "    }\n",
       "\n",
       "    .dataframe thead th {\n",
       "        text-align: right;\n",
       "    }\n",
       "</style>\n",
       "<table border=\"1\" class=\"dataframe\">\n",
       "  <thead>\n",
       "    <tr style=\"text-align: right;\">\n",
       "      <th></th>\n",
       "      <th>mean radius</th>\n",
       "      <th>mean texture</th>\n",
       "      <th>mean perimeter</th>\n",
       "      <th>mean area</th>\n",
       "      <th>mean smoothness</th>\n",
       "      <th>mean compactness</th>\n",
       "      <th>mean concavity</th>\n",
       "      <th>mean concave points</th>\n",
       "      <th>mean symmetry</th>\n",
       "      <th>mean fractal dimension</th>\n",
       "      <th>...</th>\n",
       "      <th>worst radius</th>\n",
       "      <th>worst texture</th>\n",
       "      <th>worst perimeter</th>\n",
       "      <th>worst area</th>\n",
       "      <th>worst smoothness</th>\n",
       "      <th>worst compactness</th>\n",
       "      <th>worst concavity</th>\n",
       "      <th>worst concave points</th>\n",
       "      <th>worst symmetry</th>\n",
       "      <th>worst fractal dimension</th>\n",
       "    </tr>\n",
       "  </thead>\n",
       "  <tbody>\n",
       "    <tr>\n",
       "      <th>0</th>\n",
       "      <td>1.091268</td>\n",
       "      <td>-2.069159</td>\n",
       "      <td>1.270191</td>\n",
       "      <td>0.990942</td>\n",
       "      <td>1.614542</td>\n",
       "      <td>3.324519</td>\n",
       "      <td>2.653900</td>\n",
       "      <td>2.550951</td>\n",
       "      <td>2.275591</td>\n",
       "      <td>2.254197</td>\n",
       "      <td>...</td>\n",
       "      <td>1.878808</td>\n",
       "      <td>-1.363034</td>\n",
       "      <td>2.310694</td>\n",
       "      <td>2.032141</td>\n",
       "      <td>1.372010</td>\n",
       "      <td>2.571760</td>\n",
       "      <td>2.091379</td>\n",
       "      <td>2.318438</td>\n",
       "      <td>2.741997</td>\n",
       "      <td>1.910886</td>\n",
       "    </tr>\n",
       "    <tr>\n",
       "      <th>1</th>\n",
       "      <td>1.825559</td>\n",
       "      <td>-0.373272</td>\n",
       "      <td>1.688311</td>\n",
       "      <td>1.927929</td>\n",
       "      <td>-0.816927</td>\n",
       "      <td>-0.477222</td>\n",
       "      <td>-0.022115</td>\n",
       "      <td>0.556434</td>\n",
       "      <td>0.021409</td>\n",
       "      <td>-0.857298</td>\n",
       "      <td>...</td>\n",
       "      <td>1.797949</td>\n",
       "      <td>-0.383978</td>\n",
       "      <td>1.537466</td>\n",
       "      <td>1.919285</td>\n",
       "      <td>-0.346334</td>\n",
       "      <td>-0.414532</td>\n",
       "      <td>-0.143391</td>\n",
       "      <td>1.105716</td>\n",
       "      <td>-0.237848</td>\n",
       "      <td>0.278243</td>\n",
       "    </tr>\n",
       "    <tr>\n",
       "      <th>2</th>\n",
       "      <td>1.575103</td>\n",
       "      <td>0.425332</td>\n",
       "      <td>1.568257</td>\n",
       "      <td>1.573315</td>\n",
       "      <td>0.978863</td>\n",
       "      <td>1.075499</td>\n",
       "      <td>1.364844</td>\n",
       "      <td>2.053164</td>\n",
       "      <td>0.975815</td>\n",
       "      <td>-0.388597</td>\n",
       "      <td>...</td>\n",
       "      <td>1.503541</td>\n",
       "      <td>-0.042597</td>\n",
       "      <td>1.348655</td>\n",
       "      <td>1.476818</td>\n",
       "      <td>0.575486</td>\n",
       "      <td>1.068639</td>\n",
       "      <td>0.848784</td>\n",
       "      <td>1.976310</td>\n",
       "      <td>1.151458</td>\n",
       "      <td>0.199561</td>\n",
       "    </tr>\n",
       "    <tr>\n",
       "      <th>3</th>\n",
       "      <td>-0.778611</td>\n",
       "      <td>0.225681</td>\n",
       "      <td>-0.601828</td>\n",
       "      <td>-0.781835</td>\n",
       "      <td>3.355433</td>\n",
       "      <td>3.444899</td>\n",
       "      <td>1.917117</td>\n",
       "      <td>1.464635</td>\n",
       "      <td>2.936619</td>\n",
       "      <td>4.898402</td>\n",
       "      <td>...</td>\n",
       "      <td>-0.291933</td>\n",
       "      <td>0.113602</td>\n",
       "      <td>-0.258640</td>\n",
       "      <td>-0.567665</td>\n",
       "      <td>3.502039</td>\n",
       "      <td>3.823011</td>\n",
       "      <td>1.972584</td>\n",
       "      <td>2.197777</td>\n",
       "      <td>6.021276</td>\n",
       "      <td>4.866911</td>\n",
       "    </tr>\n",
       "    <tr>\n",
       "      <th>4</th>\n",
       "      <td>1.745868</td>\n",
       "      <td>-1.160402</td>\n",
       "      <td>1.779387</td>\n",
       "      <td>1.844321</td>\n",
       "      <td>0.307067</td>\n",
       "      <td>0.557671</td>\n",
       "      <td>1.372375</td>\n",
       "      <td>1.441301</td>\n",
       "      <td>0.010268</td>\n",
       "      <td>-0.552360</td>\n",
       "      <td>...</td>\n",
       "      <td>1.289992</td>\n",
       "      <td>-1.469313</td>\n",
       "      <td>1.339664</td>\n",
       "      <td>1.236776</td>\n",
       "      <td>0.262246</td>\n",
       "      <td>-0.299819</td>\n",
       "      <td>0.609293</td>\n",
       "      <td>0.746787</td>\n",
       "      <td>-0.859253</td>\n",
       "      <td>-0.390551</td>\n",
       "    </tr>\n",
       "    <tr>\n",
       "      <th>...</th>\n",
       "      <td>...</td>\n",
       "      <td>...</td>\n",
       "      <td>...</td>\n",
       "      <td>...</td>\n",
       "      <td>...</td>\n",
       "      <td>...</td>\n",
       "      <td>...</td>\n",
       "      <td>...</td>\n",
       "      <td>...</td>\n",
       "      <td>...</td>\n",
       "      <td>...</td>\n",
       "      <td>...</td>\n",
       "      <td>...</td>\n",
       "      <td>...</td>\n",
       "      <td>...</td>\n",
       "      <td>...</td>\n",
       "      <td>...</td>\n",
       "      <td>...</td>\n",
       "      <td>...</td>\n",
       "      <td>...</td>\n",
       "      <td>...</td>\n",
       "    </tr>\n",
       "    <tr>\n",
       "      <th>564</th>\n",
       "      <td>2.107322</td>\n",
       "      <td>0.686944</td>\n",
       "      <td>2.065033</td>\n",
       "      <td>2.369033</td>\n",
       "      <td>1.079994</td>\n",
       "      <td>0.234744</td>\n",
       "      <td>1.948496</td>\n",
       "      <td>2.338355</td>\n",
       "      <td>-0.297965</td>\n",
       "      <td>-0.919415</td>\n",
       "      <td>...</td>\n",
       "      <td>1.893321</td>\n",
       "      <td>0.097499</td>\n",
       "      <td>1.756248</td>\n",
       "      <td>2.046472</td>\n",
       "      <td>0.423341</td>\n",
       "      <td>-0.260542</td>\n",
       "      <td>0.660138</td>\n",
       "      <td>1.649455</td>\n",
       "      <td>-1.348650</td>\n",
       "      <td>-0.698174</td>\n",
       "    </tr>\n",
       "    <tr>\n",
       "      <th>565</th>\n",
       "      <td>1.700331</td>\n",
       "      <td>2.031720</td>\n",
       "      <td>1.617935</td>\n",
       "      <td>1.740531</td>\n",
       "      <td>0.126477</td>\n",
       "      <td>-0.004106</td>\n",
       "      <td>0.694585</td>\n",
       "      <td>1.275632</td>\n",
       "      <td>-0.201410</td>\n",
       "      <td>-1.046472</td>\n",
       "      <td>...</td>\n",
       "      <td>1.528421</td>\n",
       "      <td>2.005692</td>\n",
       "      <td>1.423580</td>\n",
       "      <td>1.516228</td>\n",
       "      <td>-0.668523</td>\n",
       "      <td>-0.379619</td>\n",
       "      <td>0.236277</td>\n",
       "      <td>0.751369</td>\n",
       "      <td>-0.524403</td>\n",
       "      <td>-0.959354</td>\n",
       "    </tr>\n",
       "    <tr>\n",
       "      <th>566</th>\n",
       "      <td>0.695662</td>\n",
       "      <td>1.992708</td>\n",
       "      <td>0.669919</td>\n",
       "      <td>0.578957</td>\n",
       "      <td>-0.830652</td>\n",
       "      <td>-0.025125</td>\n",
       "      <td>0.048300</td>\n",
       "      <td>0.111796</td>\n",
       "      <td>-0.803020</td>\n",
       "      <td>-0.884121</td>\n",
       "      <td>...</td>\n",
       "      <td>0.551898</td>\n",
       "      <td>1.340642</td>\n",
       "      <td>0.575427</td>\n",
       "      <td>0.428871</td>\n",
       "      <td>-0.789344</td>\n",
       "      <td>0.351056</td>\n",
       "      <td>0.325611</td>\n",
       "      <td>0.430624</td>\n",
       "      <td>-1.094292</td>\n",
       "      <td>-0.312962</td>\n",
       "    </tr>\n",
       "    <tr>\n",
       "      <th>567</th>\n",
       "      <td>1.834097</td>\n",
       "      <td>2.279563</td>\n",
       "      <td>1.986377</td>\n",
       "      <td>1.752063</td>\n",
       "      <td>1.571200</td>\n",
       "      <td>3.313054</td>\n",
       "      <td>3.297800</td>\n",
       "      <td>2.677990</td>\n",
       "      <td>2.193890</td>\n",
       "      <td>1.047151</td>\n",
       "      <td>...</td>\n",
       "      <td>1.953447</td>\n",
       "      <td>2.194096</td>\n",
       "      <td>2.310694</td>\n",
       "      <td>1.677451</td>\n",
       "      <td>1.497305</td>\n",
       "      <td>3.834233</td>\n",
       "      <td>3.169087</td>\n",
       "      <td>2.312328</td>\n",
       "      <td>1.914531</td>\n",
       "      <td>2.189550</td>\n",
       "    </tr>\n",
       "    <tr>\n",
       "      <th>568</th>\n",
       "      <td>-1.820280</td>\n",
       "      <td>1.180334</td>\n",
       "      <td>-1.829694</td>\n",
       "      <td>-1.373145</td>\n",
       "      <td>-3.136430</td>\n",
       "      <td>-1.146386</td>\n",
       "      <td>-1.112854</td>\n",
       "      <td>-1.262821</td>\n",
       "      <td>-0.814161</td>\n",
       "      <td>-0.550948</td>\n",
       "      <td>...</td>\n",
       "      <td>-1.422709</td>\n",
       "      <td>0.736784</td>\n",
       "      <td>-1.448751</td>\n",
       "      <td>-1.103461</td>\n",
       "      <td>-1.860624</td>\n",
       "      <td>-1.176130</td>\n",
       "      <td>-1.291426</td>\n",
       "      <td>-1.735169</td>\n",
       "      <td>-0.043056</td>\n",
       "      <td>-0.739701</td>\n",
       "    </tr>\n",
       "  </tbody>\n",
       "</table>\n",
       "<p>455 rows × 30 columns</p>\n",
       "</div>"
      ],
      "text/plain": [
       "     mean radius  mean texture  mean perimeter  mean area  mean smoothness  \\\n",
       "0       1.091268     -2.069159        1.270191   0.990942         1.614542   \n",
       "1       1.825559     -0.373272        1.688311   1.927929        -0.816927   \n",
       "2       1.575103      0.425332        1.568257   1.573315         0.978863   \n",
       "3      -0.778611      0.225681       -0.601828  -0.781835         3.355433   \n",
       "4       1.745868     -1.160402        1.779387   1.844321         0.307067   \n",
       "..           ...           ...             ...        ...              ...   \n",
       "564     2.107322      0.686944        2.065033   2.369033         1.079994   \n",
       "565     1.700331      2.031720        1.617935   1.740531         0.126477   \n",
       "566     0.695662      1.992708        0.669919   0.578957        -0.830652   \n",
       "567     1.834097      2.279563        1.986377   1.752063         1.571200   \n",
       "568    -1.820280      1.180334       -1.829694  -1.373145        -3.136430   \n",
       "\n",
       "     mean compactness  mean concavity  mean concave points  mean symmetry  \\\n",
       "0            3.324519        2.653900             2.550951       2.275591   \n",
       "1           -0.477222       -0.022115             0.556434       0.021409   \n",
       "2            1.075499        1.364844             2.053164       0.975815   \n",
       "3            3.444899        1.917117             1.464635       2.936619   \n",
       "4            0.557671        1.372375             1.441301       0.010268   \n",
       "..                ...             ...                  ...            ...   \n",
       "564          0.234744        1.948496             2.338355      -0.297965   \n",
       "565         -0.004106        0.694585             1.275632      -0.201410   \n",
       "566         -0.025125        0.048300             0.111796      -0.803020   \n",
       "567          3.313054        3.297800             2.677990       2.193890   \n",
       "568         -1.146386       -1.112854            -1.262821      -0.814161   \n",
       "\n",
       "     mean fractal dimension  ...  worst radius  worst texture  \\\n",
       "0                  2.254197  ...      1.878808      -1.363034   \n",
       "1                 -0.857298  ...      1.797949      -0.383978   \n",
       "2                 -0.388597  ...      1.503541      -0.042597   \n",
       "3                  4.898402  ...     -0.291933       0.113602   \n",
       "4                 -0.552360  ...      1.289992      -1.469313   \n",
       "..                      ...  ...           ...            ...   \n",
       "564               -0.919415  ...      1.893321       0.097499   \n",
       "565               -1.046472  ...      1.528421       2.005692   \n",
       "566               -0.884121  ...      0.551898       1.340642   \n",
       "567                1.047151  ...      1.953447       2.194096   \n",
       "568               -0.550948  ...     -1.422709       0.736784   \n",
       "\n",
       "     worst perimeter  worst area  worst smoothness  worst compactness  \\\n",
       "0           2.310694    2.032141          1.372010           2.571760   \n",
       "1           1.537466    1.919285         -0.346334          -0.414532   \n",
       "2           1.348655    1.476818          0.575486           1.068639   \n",
       "3          -0.258640   -0.567665          3.502039           3.823011   \n",
       "4           1.339664    1.236776          0.262246          -0.299819   \n",
       "..               ...         ...               ...                ...   \n",
       "564         1.756248    2.046472          0.423341          -0.260542   \n",
       "565         1.423580    1.516228         -0.668523          -0.379619   \n",
       "566         0.575427    0.428871         -0.789344           0.351056   \n",
       "567         2.310694    1.677451          1.497305           3.834233   \n",
       "568        -1.448751   -1.103461         -1.860624          -1.176130   \n",
       "\n",
       "     worst concavity  worst concave points  worst symmetry  \\\n",
       "0           2.091379              2.318438        2.741997   \n",
       "1          -0.143391              1.105716       -0.237848   \n",
       "2           0.848784              1.976310        1.151458   \n",
       "3           1.972584              2.197777        6.021276   \n",
       "4           0.609293              0.746787       -0.859253   \n",
       "..               ...                   ...             ...   \n",
       "564         0.660138              1.649455       -1.348650   \n",
       "565         0.236277              0.751369       -0.524403   \n",
       "566         0.325611              0.430624       -1.094292   \n",
       "567         3.169087              2.312328        1.914531   \n",
       "568        -1.291426             -1.735169       -0.043056   \n",
       "\n",
       "     worst fractal dimension  \n",
       "0                   1.910886  \n",
       "1                   0.278243  \n",
       "2                   0.199561  \n",
       "3                   4.866911  \n",
       "4                  -0.390551  \n",
       "..                       ...  \n",
       "564                -0.698174  \n",
       "565                -0.959354  \n",
       "566                -0.312962  \n",
       "567                 2.189550  \n",
       "568                -0.739701  \n",
       "\n",
       "[455 rows x 30 columns]"
      ]
     },
     "execution_count": 9,
     "metadata": {},
     "output_type": "execute_result"
    }
   ],
   "source": [
    "batch, _ = task.generate_sample_batch_and_temp_data(get_binary_classification_bundle())\n",
    "batch['features']"
   ]
  },
  {
   "cell_type": "markdown",
   "id": "8ebfef04",
   "metadata": {},
   "source": [
    "Batch contains dataframes, as it's supposed to. But `torch` layers are working with tensors, not with dataframes. So the first component will pick some dataframes from the dictionary, concatenate it and convert to tensors:"
   ]
  },
  {
   "cell_type": "code",
   "execution_count": 10,
   "id": "77e2bb16",
   "metadata": {
    "execution": {
     "iopub.execute_input": "2022-12-28T13:21:23.703843Z",
     "iopub.status.busy": "2022-12-28T13:21:23.700099Z",
     "iopub.status.idle": "2022-12-28T13:21:23.707208Z",
     "shell.execute_reply": "2022-12-28T13:21:23.707546Z"
    }
   },
   "outputs": [
    {
     "data": {
      "text/plain": [
       "tensor([[ 1.0913, -2.0692,  1.2702,  ...,  2.3184,  2.7420,  1.9109],\n",
       "        [ 1.8256, -0.3733,  1.6883,  ...,  1.1057, -0.2378,  0.2782],\n",
       "        [ 1.5751,  0.4253,  1.5683,  ...,  1.9763,  1.1515,  0.1996],\n",
       "        ...,\n",
       "        [ 0.6957,  1.9927,  0.6699,  ...,  0.4306, -1.0943, -0.3130],\n",
       "        [ 1.8341,  2.2796,  1.9864,  ...,  2.3123,  1.9145,  2.1896],\n",
       "        [-1.8203,  1.1803, -1.8297,  ..., -1.7352, -0.0431, -0.7397]])"
      ]
     },
     "execution_count": 10,
     "metadata": {},
     "output_type": "execute_result"
    }
   ],
   "source": [
    "features = btf.InputConversionNetwork('features')(batch)\n",
    "features"
   ]
  },
  {
   "cell_type": "markdown",
   "id": "63a6e510",
   "metadata": {},
   "source": [
    "How to create a factory for this network? Well, unlike `ClassificationNetwork`, this network does not really depend on the input. Thus, it does not require a factory. Some modules in `torch` are also like that, for instance, `Dropout` or `Embedding`."
   ]
  },
  {
   "cell_type": "markdown",
   "id": "56684692",
   "metadata": {},
   "source": [
    "Then, we can use the class `btf.Perceptron` for one perceptron layer in our network."
   ]
  },
  {
   "cell_type": "code",
   "execution_count": 11,
   "id": "13703747",
   "metadata": {
    "execution": {
     "iopub.execute_input": "2022-12-28T13:21:23.710939Z",
     "iopub.status.busy": "2022-12-28T13:21:23.710126Z",
     "iopub.status.idle": "2022-12-28T13:21:23.713233Z",
     "shell.execute_reply": "2022-12-28T13:21:23.713540Z"
    }
   },
   "outputs": [
    {
     "data": {
      "text/plain": [
       "Perceptron(\n",
       "  (linear_layer): Linear(in_features=30, out_features=10, bias=True)\n",
       ")"
      ]
     },
     "execution_count": 11,
     "metadata": {},
     "output_type": "execute_result"
    }
   ],
   "source": [
    "btf.Perceptron(features, 10)"
   ]
  },
  {
   "cell_type": "markdown",
   "id": "ae2af152",
   "metadata": {},
   "source": [
    "`btf.Perceptron` accepts `input_size` and `output_size`, but both arguments can be `int` or `tensors`. If they are tensors, `btf.Perceptron` will try to deduce the required size out of them. \n",
    "\n",
    "Do we need a factory? No: `btf.Perceptron` accepts tensor as a first argument, and other constructor arguments are fixed parameters, so:"
   ]
  },
  {
   "cell_type": "code",
   "execution_count": 12,
   "id": "621a4d6f",
   "metadata": {
    "execution": {
     "iopub.execute_input": "2022-12-28T13:21:23.717856Z",
     "iopub.status.busy": "2022-12-28T13:21:23.717072Z",
     "iopub.status.idle": "2022-12-28T13:21:23.726363Z",
     "shell.execute_reply": "2022-12-28T13:21:23.726927Z"
    }
   },
   "outputs": [
    {
     "data": {
      "text/plain": [
       "Perceptron(\n",
       "  (linear_layer): Linear(in_features=30, out_features=10, bias=True)\n",
       ")"
      ]
     },
     "execution_count": 12,
     "metadata": {},
     "output_type": "execute_result"
    }
   ],
   "source": [
    "from functools import partial\n",
    "\n",
    "factory = partial(btf.Perceptron, output_size=10)\n",
    "factory(features)"
   ]
  },
  {
   "cell_type": "markdown",
   "id": "1de7fc25",
   "metadata": {},
   "source": [
    "But how to combine together all these? We have `FeedForwardNetwork` for this:"
   ]
  },
  {
   "cell_type": "code",
   "execution_count": 13,
   "id": "01d6e0fd",
   "metadata": {
    "execution": {
     "iopub.execute_input": "2022-12-28T13:21:23.736921Z",
     "iopub.status.busy": "2022-12-28T13:21:23.736179Z",
     "iopub.status.idle": "2022-12-28T13:21:23.741372Z",
     "shell.execute_reply": "2022-12-28T13:21:23.740915Z"
    }
   },
   "outputs": [
    {
     "data": {
      "text/plain": [
       "FeedForwardNetwork(\n",
       "  (networks): ModuleList(\n",
       "    (0): InputConversionNetwork()\n",
       "    (1): Perceptron(\n",
       "      (linear_layer): Linear(in_features=30, out_features=10, bias=True)\n",
       "    )\n",
       "    (2): Perceptron(\n",
       "      (linear_layer): Linear(in_features=10, out_features=1, bias=True)\n",
       "    )\n",
       "  )\n",
       ")"
      ]
     },
     "execution_count": 13,
     "metadata": {},
     "output_type": "execute_result"
    }
   ],
   "source": [
    "factory = btf.FeedForwardNetwork.Factory(\n",
    "    btf.InputConversionNetwork('features'),\n",
    "    partial(btf.Perceptron,output_size=10),\n",
    "    partial(btf.Perceptron, output_size=1)\n",
    ")\n",
    "factory(batch)"
   ]
  },
  {
   "cell_type": "markdown",
   "id": "b5c828fd",
   "metadata": {},
   "source": [
    "Looks good! However, we still had to indicate the output size of the network manually. This logic is implemented in `FullyConnectedNetworkFactory` class:"
   ]
  },
  {
   "cell_type": "code",
   "execution_count": 14,
   "id": "aac66e4c",
   "metadata": {
    "execution": {
     "iopub.execute_input": "2022-12-28T13:21:23.747297Z",
     "iopub.status.busy": "2022-12-28T13:21:23.746739Z",
     "iopub.status.idle": "2022-12-28T13:21:23.755870Z",
     "shell.execute_reply": "2022-12-28T13:21:23.755520Z"
    }
   },
   "outputs": [
    {
     "data": {
      "text/plain": [
       "FeedForwardNetwork(\n",
       "  (networks): ModuleList(\n",
       "    (0): FeedForwardNetwork(\n",
       "      (networks): ModuleList(\n",
       "        (0): InputConversionNetwork()\n",
       "        (1): Perceptron(\n",
       "          (linear_layer): Linear(in_features=30, out_features=10, bias=True)\n",
       "        )\n",
       "      )\n",
       "    )\n",
       "    (1): Perceptron(\n",
       "      (linear_layer): Linear(in_features=10, out_features=1, bias=True)\n",
       "    )\n",
       "  )\n",
       ")"
      ]
     },
     "execution_count": 14,
     "metadata": {},
     "output_type": "execute_result"
    }
   ],
   "source": [
    "factory = btf.Factories.FullyConnected([10],'features',btf.Conventions.LabelFrame)\n",
    "factory(batch)"
   ]
  },
  {
   "cell_type": "markdown",
   "id": "bb5447bd",
   "metadata": {},
   "source": [
    "Now, let's try this network with our classification task:"
   ]
  },
  {
   "cell_type": "code",
   "execution_count": 15,
   "id": "12aaeccc",
   "metadata": {
    "execution": {
     "iopub.execute_input": "2022-12-28T13:21:23.760978Z",
     "iopub.status.busy": "2022-12-28T13:21:23.760390Z",
     "iopub.status.idle": "2022-12-28T13:21:24.776186Z",
     "shell.execute_reply": "2022-12-28T13:21:24.776787Z"
    }
   },
   "outputs": [
    {
     "data": {
      "text/plain": [
       "<AxesSubplot:xlabel='iteration'>"
      ]
     },
     "execution_count": 15,
     "metadata": {},
     "output_type": "execute_result"
    },
    {
     "data": {
      "image/png": "[encoded data removed]",
      "text/plain": [
       "<Figure size 432x288 with 1 Axes>"
      ]
     },
     "metadata": {
      "needs_background": "light"
     },
     "output_type": "display_data"
    }
   ],
   "source": [
    "class ClassificationTask(btf.TorchTrainingTask):\n",
    "    def initialize_task(self, data):\n",
    "        self.metric_pool = bt.MetricPool().add_sklearn(roc_auc_score)\n",
    "        self.settings.epoch_count = 10\n",
    "        self.settings.batch_size = 1000\n",
    "        self.settings.mini_match_size = None\n",
    "        self.setup_batcher(data, [get_feature_extractor(), get_binary_label_extractor()])\n",
    "        self.setup_model(btf.Factories.FullyConnected([10],'features',btf.Conventions.LabelFrame))\n",
    "        \n",
    "task = ClassificationTask()\n",
    "result = task.run(get_binary_classification_bundle())\n",
    "pd.DataFrame(result['output']['history']).set_index('iteration').plot()"
   ]
  },
  {
   "cell_type": "markdown",
   "id": "3f25ab06",
   "metadata": {},
   "source": [
    "## Multilabel classification"
   ]
  },
  {
   "cell_type": "markdown",
   "id": "154a65dd",
   "metadata": {},
   "source": [
    "We will also demonstrate how the system works on multilabel classification. Let's create a bundle from the well-known `iris` dataset."
   ]
  },
  {
   "cell_type": "code",
   "execution_count": 16,
   "id": "4ace95a5",
   "metadata": {
    "execution": {
     "iopub.execute_input": "2022-12-28T13:21:24.781362Z",
     "iopub.status.busy": "2022-12-28T13:21:24.780966Z",
     "iopub.status.idle": "2022-12-28T13:21:24.808947Z",
     "shell.execute_reply": "2022-12-28T13:21:24.807938Z"
    }
   },
   "outputs": [
    {
     "data": {
      "text/html": [
       "<div>\n",
       "<style scoped>\n",
       "    .dataframe tbody tr th:only-of-type {\n",
       "        vertical-align: middle;\n",
       "    }\n",
       "\n",
       "    .dataframe tbody tr th {\n",
       "        vertical-align: top;\n",
       "    }\n",
       "\n",
       "    .dataframe thead th {\n",
       "        text-align: right;\n",
       "    }\n",
       "</style>\n",
       "<table border=\"1\" class=\"dataframe\">\n",
       "  <thead>\n",
       "    <tr style=\"text-align: right;\">\n",
       "      <th></th>\n",
       "      <th>label</th>\n",
       "      <th>split</th>\n",
       "    </tr>\n",
       "  </thead>\n",
       "  <tbody>\n",
       "    <tr>\n",
       "      <th>0</th>\n",
       "      <td>setosa</td>\n",
       "      <td>train</td>\n",
       "    </tr>\n",
       "    <tr>\n",
       "      <th>1</th>\n",
       "      <td>setosa</td>\n",
       "      <td>train</td>\n",
       "    </tr>\n",
       "    <tr>\n",
       "      <th>2</th>\n",
       "      <td>setosa</td>\n",
       "      <td>train</td>\n",
       "    </tr>\n",
       "    <tr>\n",
       "      <th>3</th>\n",
       "      <td>setosa</td>\n",
       "      <td>test</td>\n",
       "    </tr>\n",
       "    <tr>\n",
       "      <th>4</th>\n",
       "      <td>setosa</td>\n",
       "      <td>display</td>\n",
       "    </tr>\n",
       "  </tbody>\n",
       "</table>\n",
       "</div>"
      ],
      "text/plain": [
       "    label    split\n",
       "0  setosa    train\n",
       "1  setosa    train\n",
       "2  setosa    train\n",
       "3  setosa     test\n",
       "4  setosa  display"
      ]
     },
     "execution_count": 16,
     "metadata": {},
     "output_type": "execute_result"
    }
   ],
   "source": [
    "def get_multilabel_classification_bundle():\n",
    "    ds = datasets.load_iris()\n",
    "    features = pd.DataFrame(ds['data'], columns=ds['feature_names'])\n",
    "    df = pd.DataFrame(ds['target_names'][ds['target']], columns = ['label'])\n",
    "    df['split'] = bt.train_display_test_split(df, 0.2, 0.2, 'label')\n",
    "    bundle = bt.DataBundle(index=df, features=features)\n",
    "    return bundle\n",
    "    \n",
    "get_multilabel_classification_bundle().index.head()"
   ]
  },
  {
   "cell_type": "code",
   "execution_count": 17,
   "id": "f82ce778",
   "metadata": {
    "execution": {
     "iopub.execute_input": "2022-12-28T13:21:24.816540Z",
     "iopub.status.busy": "2022-12-28T13:21:24.815314Z",
     "iopub.status.idle": "2022-12-28T13:21:24.835933Z",
     "shell.execute_reply": "2022-12-28T13:21:24.836265Z"
    }
   },
   "outputs": [
    {
     "data": {
      "text/html": [
       "<div>\n",
       "<style scoped>\n",
       "    .dataframe tbody tr th:only-of-type {\n",
       "        vertical-align: middle;\n",
       "    }\n",
       "\n",
       "    .dataframe tbody tr th {\n",
       "        vertical-align: top;\n",
       "    }\n",
       "\n",
       "    .dataframe thead th {\n",
       "        text-align: right;\n",
       "    }\n",
       "</style>\n",
       "<table border=\"1\" class=\"dataframe\">\n",
       "  <thead>\n",
       "    <tr style=\"text-align: right;\">\n",
       "      <th></th>\n",
       "      <th>label_setosa</th>\n",
       "      <th>label_versicolor</th>\n",
       "      <th>label_virginica</th>\n",
       "    </tr>\n",
       "  </thead>\n",
       "  <tbody>\n",
       "    <tr>\n",
       "      <th>0</th>\n",
       "      <td>1.0</td>\n",
       "      <td>0.0</td>\n",
       "      <td>0.0</td>\n",
       "    </tr>\n",
       "    <tr>\n",
       "      <th>1</th>\n",
       "      <td>1.0</td>\n",
       "      <td>0.0</td>\n",
       "      <td>0.0</td>\n",
       "    </tr>\n",
       "    <tr>\n",
       "      <th>2</th>\n",
       "      <td>1.0</td>\n",
       "      <td>0.0</td>\n",
       "      <td>0.0</td>\n",
       "    </tr>\n",
       "    <tr>\n",
       "      <th>3</th>\n",
       "      <td>1.0</td>\n",
       "      <td>0.0</td>\n",
       "      <td>0.0</td>\n",
       "    </tr>\n",
       "    <tr>\n",
       "      <th>4</th>\n",
       "      <td>1.0</td>\n",
       "      <td>0.0</td>\n",
       "      <td>0.0</td>\n",
       "    </tr>\n",
       "  </tbody>\n",
       "</table>\n",
       "</div>"
      ],
      "text/plain": [
       "   label_setosa  label_versicolor  label_virginica\n",
       "0           1.0               0.0              0.0\n",
       "1           1.0               0.0              0.0\n",
       "2           1.0               0.0              0.0\n",
       "3           1.0               0.0              0.0\n",
       "4           1.0               0.0              0.0"
      ]
     },
     "execution_count": 17,
     "metadata": {},
     "output_type": "execute_result"
    }
   ],
   "source": [
    "def get_multilabel_extractor():\n",
    "    label_extractor = (bt.PlainExtractor\n",
    "                   .build(btf.Conventions.LabelFrame)\n",
    "                   .index()\n",
    "                   .apply(take_columns=['label'], transformer=dft.DataFrameTransformerFactory.default_factory())\n",
    "                  )\n",
    "    return label_extractor\n",
    "\n",
    "db = get_multilabel_classification_bundle()\n",
    "idb = bt.IndexedDataBundle(db.index, db)\n",
    "test_extractor( get_multilabel_extractor(), idb).head()"
   ]
  },
  {
   "cell_type": "code",
   "execution_count": 18,
   "id": "80adf129",
   "metadata": {
    "execution": {
     "iopub.execute_input": "2022-12-28T13:21:24.842972Z",
     "iopub.status.busy": "2022-12-28T13:21:24.842306Z",
     "iopub.status.idle": "2022-12-28T13:21:26.420271Z",
     "shell.execute_reply": "2022-12-28T13:21:26.420612Z"
    }
   },
   "outputs": [
    {
     "data": {
      "text/plain": [
       "<AxesSubplot:xlabel='iteration'>"
      ]
     },
     "execution_count": 18,
     "metadata": {},
     "output_type": "execute_result"
    },
    {
     "data": {
      "image/png": "[encoded data removed]",
      "text/plain": [
       "<Figure size 432x288 with 1 Axes>"
      ]
     },
     "metadata": {
      "needs_background": "light"
     },
     "output_type": "display_data"
    }
   ],
   "source": [
    "class ClassificationTask(btf.TorchTrainingTask):\n",
    "    def initialize_task(self, data):\n",
    "        self.metric_pool = bt.MetricPool().add(bt.MulticlassMetrics())\n",
    "        self.settings.epoch_count = 20\n",
    "        self.settings.batch_size = 10000\n",
    "        self.settings.mini_match_size = None\n",
    "        \n",
    "        self.setup_batcher(data, [get_feature_extractor(), get_multilabel_extractor()])\n",
    "        self.optimizer_ctor.kwargs.lr = 1\n",
    "        self.setup_model(btf.Factories.FullyConnected([],'features',btf.Conventions.LabelFrame))\n",
    "        \n",
    "task = ClassificationTask()\n",
    "result = task.run(get_multilabel_classification_bundle())\n",
    "pd.DataFrame(result['output']['history']).set_index('iteration').plot()"
   ]
  },
  {
   "cell_type": "markdown",
   "id": "ea61c951",
   "metadata": {},
   "source": [
    "## Best practices\n",
    "\n"
   ]
  },
  {
   "cell_type": "markdown",
   "id": "e032b2cb",
   "metadata": {},
   "source": [
    "### How to get aboard?\n",
    "\n"
   ]
  },
  {
   "cell_type": "markdown",
   "id": "e782e065",
   "metadata": {},
   "source": [
    "### Configuring experiments\n",
    "\n",
    "\n",
    "\n",
    "Setting the sequence of the experiments is hard. It gets even harder if you don't do it right: in the end, you might end up with lots of jobs at Sagemaker with some metrics, but no one knows what are the parameters of the jobs, or how to use, reuse or reproduce them. To avoid these issues we recommend:\n",
    "\n",
    "* Configure with parameters, not code. This is not a good practice, when to conduct an experiment, you change something in the code, and then change it back after the experiment. Instead, you put the code, required by the experiment, into the network and isolate it with flags. Ideally, you are able to reproduce any past experiments you had by settings the corresponding parameters.\n",
    "* If there is a functionality that we may require in other experiments, we isolate it in the separate entities, and the parameters are contained in this entities, _not_ in `TorchTrainingTask` subclass. Examply here is `optimizer_ctor` which contains all the parameters of the optimizer. Don't duplicate settings fields.\n",
    "* Give meaningful names to the tasks, that represent the important parameters.\n",
    "\n",
    "To do so, we offer tro-tier initialization. First tier is the Task, such as classification Task. It should be functionable from the start, so use defaults for all the parameters you can:"
   ]
  },
  {
   "cell_type": "code",
   "execution_count": 19,
   "id": "49f9a6a0",
   "metadata": {
    "execution": {
     "iopub.execute_input": "2022-12-28T13:21:26.424969Z",
     "iopub.status.busy": "2022-12-28T13:21:26.424578Z",
     "iopub.status.idle": "2022-12-28T13:21:26.426976Z",
     "shell.execute_reply": "2022-12-28T13:21:26.427292Z"
    }
   },
   "outputs": [],
   "source": [
    "class ClassificationTask(btf.TorchTrainingTask):\n",
    "    def __init__(self):\n",
    "        super(ClassificationTask, self).__init__()\n",
    "        self.hidden_size = (50,)\n",
    "    \n",
    "    def initialize_task(self, data):\n",
    "        self.metric_pool = bt.MetricPool().add(bt.MulticlassMetrics())\n",
    "        self.setup_batcher(data, [get_feature_extractor(), get_multilabel_extractor()])\n",
    "        self.setup_model(btf.Factories.FullyConnected(self.hidden_size,'features',btf.Conventions.LabelFrame))\n",
    "        "
   ]
  },
  {
   "cell_type": "markdown",
   "id": "35294ca7",
   "metadata": {},
   "source": [
    "Then, we recommend to create the function that accept all the parameters you want to use, and applies them in the corresponding fields:"
   ]
  },
  {
   "cell_type": "code",
   "execution_count": 20,
   "id": "9adc858b",
   "metadata": {
    "execution": {
     "iopub.execute_input": "2022-12-28T13:21:26.431755Z",
     "iopub.status.busy": "2022-12-28T13:21:26.431317Z",
     "iopub.status.idle": "2022-12-28T13:21:26.434015Z",
     "shell.execute_reply": "2022-12-28T13:21:26.434585Z"
    }
   },
   "outputs": [
    {
     "data": {
      "text/plain": [
       "<__main__.ClassificationTask at 0x7f2e402c6b20>"
      ]
     },
     "execution_count": 20,
     "metadata": {},
     "output_type": "execute_result"
    }
   ],
   "source": [
    "def create_task(epoch_count=20, network_size=(50,), learning_rate = 1, algorithm ='Adam'):\n",
    "    task = ClassificationTask()\n",
    "    task.settings.epoch_count = epoch_count\n",
    "    task.hidden_size = network_size\n",
    "    task.optimizer_ctor.kwargs.lr = learning_rate\n",
    "    task.optimizer_ctor.type='torch.optim:'+algorithm\n",
    "    return task\n",
    "    \n",
    "create_task()"
   ]
  },
  {
   "cell_type": "markdown",
   "id": "f6b8c769",
   "metadata": {},
   "source": [
    "We can safely do this, because all the initialization happens in `late_initialization`, so, after we actually execute the task. Hence, we can modify the parameters after the object has been created.\n",
    "\n",
    "To maintain the meaningful names, use this class:"
   ]
  },
  {
   "cell_type": "code",
   "execution_count": 21,
   "id": "9f3fb2a4",
   "metadata": {
    "execution": {
     "iopub.execute_input": "2022-12-28T13:21:26.439624Z",
     "iopub.status.busy": "2022-12-28T13:21:26.439228Z",
     "iopub.status.idle": "2022-12-28T13:21:26.569999Z",
     "shell.execute_reply": "2022-12-28T13:21:26.569651Z"
    }
   },
   "outputs": [
    {
     "data": {
      "text/plain": [
       "'NS10-10-LR1-ASGD'"
      ]
     },
     "execution_count": 21,
     "metadata": {},
     "output_type": "execute_result"
    }
   ],
   "source": [
    "from tg.common.delivery.sagemaker import Autonamer\n",
    "\n",
    "creator = Autonamer(create_task)\n",
    "tasks = creator.build_tasks(\n",
    "    network_size=[ (), (10,), (10,10) ],\n",
    "    learning_rate = [0.1, 0.3, 1],\n",
    "    algorithm = ['Adam','SGD']\n",
    ")\n",
    "tasks[-1].info['name']"
   ]
  },
  {
   "cell_type": "markdown",
   "id": "65009be0",
   "metadata": {},
   "source": [
    "`Autonamer` accepts the ranges of each argument of the `create_task`, then runs to all possible combinations, create a task with these parameters and also assigns the name to it, trying to abbreviate the name of the argument and shorten it's value."
   ]
  },
  {
   "cell_type": "code",
   "execution_count": 22,
   "id": "27c8579f",
   "metadata": {
    "execution": {
     "iopub.execute_input": "2022-12-28T13:21:26.584842Z",
     "iopub.status.busy": "2022-12-28T13:21:26.578380Z",
     "iopub.status.idle": "2022-12-28T13:21:48.760119Z",
     "shell.execute_reply": "2022-12-28T13:21:48.759786Z"
    }
   },
   "outputs": [
    {
     "data": {
      "application/vnd.jupyter.widget-view+json": {
       "model_id": "ce0442ef3b9d4f898173144eabd9df0d",
       "version_major": 2,
       "version_minor": 0
      },
      "text/plain": [
       "  0%|          | 0/18 [00:00<?, ?it/s]"
      ]
     },
     "metadata": {},
     "output_type": "display_data"
    }
   ],
   "source": [
    "results = {}\n",
    "for task in Query.en(tasks).feed(fluq.with_progress_bar()):\n",
    "    result = task.run(get_multilabel_classification_bundle())\n",
    "    results[task.info['name']] = pd.DataFrame(result['output']['history']).set_index('iteration').accuracy_test"
   ]
  },
  {
   "cell_type": "code",
   "execution_count": 23,
   "id": "52c69823",
   "metadata": {
    "execution": {
     "iopub.execute_input": "2022-12-28T13:21:48.779488Z",
     "iopub.status.busy": "2022-12-28T13:21:48.777528Z",
     "iopub.status.idle": "2022-12-28T13:21:49.150730Z",
     "shell.execute_reply": "2022-12-28T13:21:49.151061Z"
    }
   },
   "outputs": [
    {
     "data": {
      "text/plain": [
       "<AxesSubplot:xlabel='iteration'>"
      ]
     },
     "execution_count": 23,
     "metadata": {},
     "output_type": "execute_result"
    },
    {
     "data": {
      "image/png": "[encoded data removed]",
      "text/plain": [
       "<Figure size 1440x720 with 1 Axes>"
      ]
     },
     "metadata": {
      "needs_background": "light"
     },
     "output_type": "display_data"
    }
   ],
   "source": [
    "from matplotlib import pyplot as plt\n",
    "_, ax = plt.subplots(1,1,figsize=(20,10))\n",
    "rdf = pd.DataFrame(results)\n",
    "rdf.plot(ax=ax)"
   ]
  },
  {
   "cell_type": "code",
   "execution_count": 24,
   "id": "b4ab9752",
   "metadata": {
    "execution": {
     "iopub.execute_input": "2022-12-28T13:21:49.159235Z",
     "iopub.status.busy": "2022-12-28T13:21:49.158635Z",
     "iopub.status.idle": "2022-12-28T13:21:49.323747Z",
     "shell.execute_reply": "2022-12-28T13:21:49.324274Z"
    }
   },
   "outputs": [
    {
     "data": {
      "text/plain": [
       "<AxesSubplot:>"
      ]
     },
     "execution_count": 24,
     "metadata": {},
     "output_type": "execute_result"
    },
    {
     "data": {
      "image/png": "[encoded data removed]",
      "text/plain": [
       "<Figure size 432x288 with 1 Axes>"
      ]
     },
     "metadata": {
      "needs_background": "light"
     },
     "output_type": "display_data"
    }
   ],
   "source": [
    "rdf.iloc[-1].sort_values(ascending=False).plot(kind='barh')"
   ]
  },
  {
   "cell_type": "markdown",
   "id": "360f9232",
   "metadata": {},
   "source": [
    "Now note, that all the parameters are available as fields somewhere deep in the `task` object. That means that hyperparameter optimization, explained in `tg.common.ml.single_frame` remains available."
   ]
  }
 ],
 "metadata": {
  "kernelspec": {
   "display_name": "Python 3 (ipykernel)",
   "language": "python",
   "name": "python3"
  },
  "language_info": {
   "codemirror_mode": {
    "name": "ipython",
    "version": 3
   },
   "file_extension": ".py",
   "mimetype": "text/x-python",
   "name": "python",
   "nbconvert_exporter": "python",
   "pygments_lexer": "ipython3",
   "version": "3.8.13"
  },
  "widgets": {
   "application/vnd.jupyter.widget-state+json": {
    "state": {
     "1841a1aacd0443bea34b7a7e084586b5": {
      "model_module": "@jupyter-widgets/base",
      "model_module_version": "1.2.0",
      "model_name": "LayoutModel",
      "state": {
       "_model_module": "@jupyter-widgets/base",
       "_model_module_version": "1.2.0",
       "_model_name": "LayoutModel",
       "_view_count": null,
       "_view_module": "@jupyter-widgets/base",
       "_view_module_version": "1.2.0",
       "_view_name": "LayoutView",
       "align_content": null,
       "align_items": null,
       "align_self": null,
       "border": null,
       "bottom": null,
       "display": null,
       "flex": null,
       "flex_flow": null,
       "grid_area": null,
       "grid_auto_columns": null,
       "grid_auto_flow": null,
       "grid_auto_rows": null,
       "grid_column": null,
       "grid_gap": null,
       "grid_row": null,
       "grid_template_areas": null,
       "grid_template_columns": null,
       "grid_template_rows": null,
       "height": null,
       "justify_content": null,
       "justify_items": null,
       "left": null,
       "margin": null,
       "max_height": null,
       "max_width": null,
       "min_height": null,
       "min_width": null,
       "object_fit": null,
       "object_position": null,
       "order": null,
       "overflow": null,
       "overflow_x": null,
       "overflow_y": null,
       "padding": null,
       "right": null,
       "top": null,
       "visibility": null,
       "width": null
      }
     },
     "4925b877fb6d4897a2f4fba2b2bda026": {
      "model_module": "@jupyter-widgets/controls",
      "model_module_version": "1.5.0",
      "model_name": "FloatProgressModel",
      "state": {
       "_dom_classes": [],
       "_model_module": "@jupyter-widgets/controls",
       "_model_module_version": "1.5.0",
       "_model_name": "FloatProgressModel",
       "_view_count": null,
       "_view_module": "@jupyter-widgets/controls",
       "_view_module_version": "1.5.0",
       "_view_name": "ProgressView",
       "bar_style": "success",
       "description": "",
       "description_tooltip": null,
       "layout": "IPY_MODEL_1841a1aacd0443bea34b7a7e084586b5",
       "max": 18.0,
       "min": 0.0,
       "orientation": "horizontal",
       "style": "IPY_MODEL_f534623e13bc4d979728af9b9680bd5e",
       "value": 18.0
      }
     },
     "539e3d0bae304d2c864d968b44d482ad": {
      "model_module": "@jupyter-widgets/controls",
      "model_module_version": "1.5.0",
      "model_name": "HTMLModel",
      "state": {
       "_dom_classes": [],
       "_model_module": "@jupyter-widgets/controls",
       "_model_module_version": "1.5.0",
       "_model_name": "HTMLModel",
       "_view_count": null,
       "_view_module": "@jupyter-widgets/controls",
       "_view_module_version": "1.5.0",
       "_view_name": "HTMLView",
       "description": "",
       "description_tooltip": null,
       "layout": "IPY_MODEL_d475435f5eeb4ea089a2d2e74463460d",
       "placeholder": "​",
       "style": "IPY_MODEL_b3f15bcb7bf44ede959bf25c4773937e",
       "value": " 18/18 [00:22&lt;00:00,  1.07s/it]"
      }
     },
     "5d48e9bd669142b687c9c81e9db548ab": {
      "model_module": "@jupyter-widgets/base",
      "model_module_version": "1.2.0",
      "model_name": "LayoutModel",
      "state": {
       "_model_module": "@jupyter-widgets/base",
       "_model_module_version": "1.2.0",
       "_model_name": "LayoutModel",
       "_view_count": null,
       "_view_module": "@jupyter-widgets/base",
       "_view_module_version": "1.2.0",
       "_view_name": "LayoutView",
       "align_content": null,
       "align_items": null,
       "align_self": null,
       "border": null,
       "bottom": null,
       "display": null,
       "flex": null,
       "flex_flow": null,
       "grid_area": null,
       "grid_auto_columns": null,
       "grid_auto_flow": null,
       "grid_auto_rows": null,
       "grid_column": null,
       "grid_gap": null,
       "grid_row": null,
       "grid_template_areas": null,
       "grid_template_columns": null,
       "grid_template_rows": null,
       "height": null,
       "justify_content": null,
       "justify_items": null,
       "left": null,
       "margin": null,
       "max_height": null,
       "max_width": null,
       "min_height": null,
       "min_width": null,
       "object_fit": null,
       "object_position": null,
       "order": null,
       "overflow": null,
       "overflow_x": null,
       "overflow_y": null,
       "padding": null,
       "right": null,
       "top": null,
       "visibility": null,
       "width": null
      }
     },
     "5dad0266dc32447ea0f5e974e2f110e4": {
      "model_module": "@jupyter-widgets/base",
      "model_module_version": "1.2.0",
      "model_name": "LayoutModel",
      "state": {
       "_model_module": "@jupyter-widgets/base",
       "_model_module_version": "1.2.0",
       "_model_name": "LayoutModel",
       "_view_count": null,
       "_view_module": "@jupyter-widgets/base",
       "_view_module_version": "1.2.0",
       "_view_name": "LayoutView",
       "align_content": null,
       "align_items": null,
       "align_self": null,
       "border": null,
       "bottom": null,
       "display": null,
       "flex": null,
       "flex_flow": null,
       "grid_area": null,
       "grid_auto_columns": null,
       "grid_auto_flow": null,
       "grid_auto_rows": null,
       "grid_column": null,
       "grid_gap": null,
       "grid_row": null,
       "grid_template_areas": null,
       "grid_template_columns": null,
       "grid_template_rows": null,
       "height": null,
       "justify_content": null,
       "justify_items": null,
       "left": null,
       "margin": null,
       "max_height": null,
       "max_width": null,
       "min_height": null,
       "min_width": null,
       "object_fit": null,
       "object_position": null,
       "order": null,
       "overflow": null,
       "overflow_x": null,
       "overflow_y": null,
       "padding": null,
       "right": null,
       "top": null,
       "visibility": null,
       "width": null
      }
     },
     "6b0d8c0a1dd84aecbda819d3e6bbef72": {
      "model_module": "@jupyter-widgets/controls",
      "model_module_version": "1.5.0",
      "model_name": "HTMLModel",
      "state": {
       "_dom_classes": [],
       "_model_module": "@jupyter-widgets/controls",
       "_model_module_version": "1.5.0",
       "_model_name": "HTMLModel",
       "_view_count": null,
       "_view_module": "@jupyter-widgets/controls",
       "_view_module_version": "1.5.0",
       "_view_name": "HTMLView",
       "description": "",
       "description_tooltip": null,
       "layout": "IPY_MODEL_5dad0266dc32447ea0f5e974e2f110e4",
       "placeholder": "​",
       "style": "IPY_MODEL_af7e7460000343bebebb0014e5247c0f",
       "value": "100%"
      }
     },
     "af7e7460000343bebebb0014e5247c0f": {
      "model_module": "@jupyter-widgets/controls",
      "model_module_version": "1.5.0",
      "model_name": "DescriptionStyleModel",
      "state": {
       "_model_module": "@jupyter-widgets/controls",
       "_model_module_version": "1.5.0",
       "_model_name": "DescriptionStyleModel",
       "_view_count": null,
       "_view_module": "@jupyter-widgets/base",
       "_view_module_version": "1.2.0",
       "_view_name": "StyleView",
       "description_width": ""
      }
     },
     "b3f15bcb7bf44ede959bf25c4773937e": {
      "model_module": "@jupyter-widgets/controls",
      "model_module_version": "1.5.0",
      "model_name": "DescriptionStyleModel",
      "state": {
       "_model_module": "@jupyter-widgets/controls",
       "_model_module_version": "1.5.0",
       "_model_name": "DescriptionStyleModel",
       "_view_count": null,
       "_view_module": "@jupyter-widgets/base",
       "_view_module_version": "1.2.0",
       "_view_name": "StyleView",
       "description_width": ""
      }
     },
     "ce0442ef3b9d4f898173144eabd9df0d": {
      "model_module": "@jupyter-widgets/controls",
      "model_module_version": "1.5.0",
      "model_name": "HBoxModel",
      "state": {
       "_dom_classes": [],
       "_model_module": "@jupyter-widgets/controls",
       "_model_module_version": "1.5.0",
       "_model_name": "HBoxModel",
       "_view_count": null,
       "_view_module": "@jupyter-widgets/controls",
       "_view_module_version": "1.5.0",
       "_view_name": "HBoxView",
       "box_style": "",
       "children": [
        "IPY_MODEL_6b0d8c0a1dd84aecbda819d3e6bbef72",
        "IPY_MODEL_4925b877fb6d4897a2f4fba2b2bda026",
        "IPY_MODEL_539e3d0bae304d2c864d968b44d482ad"
       ],
       "layout": "IPY_MODEL_5d48e9bd669142b687c9c81e9db548ab"
      }
     },
     "d475435f5eeb4ea089a2d2e74463460d": {
      "model_module": "@jupyter-widgets/base",
      "model_module_version": "1.2.0",
      "model_name": "LayoutModel",
      "state": {
       "_model_module": "@jupyter-widgets/base",
       "_model_module_version": "1.2.0",
       "_model_name": "LayoutModel",
       "_view_count": null,
       "_view_module": "@jupyter-widgets/base",
       "_view_module_version": "1.2.0",
       "_view_name": "LayoutView",
       "align_content": null,
       "align_items": null,
       "align_self": null,
       "border": null,
       "bottom": null,
       "display": null,
       "flex": null,
       "flex_flow": null,
       "grid_area": null,
       "grid_auto_columns": null,
       "grid_auto_flow": null,
       "grid_auto_rows": null,
       "grid_column": null,
       "grid_gap": null,
       "grid_row": null,
       "grid_template_areas": null,
       "grid_template_columns": null,
       "grid_template_rows": null,
       "height": null,
       "justify_content": null,
       "justify_items": null,
       "left": null,
       "margin": null,
       "max_height": null,
       "max_width": null,
       "min_height": null,
       "min_width": null,
       "object_fit": null,
       "object_position": null,
       "order": null,
       "overflow": null,
       "overflow_x": null,
       "overflow_y": null,
       "padding": null,
       "right": null,
       "top": null,
       "visibility": null,
       "width": null
      }
     },
     "f534623e13bc4d979728af9b9680bd5e": {
      "model_module": "@jupyter-widgets/controls",
      "model_module_version": "1.5.0",
      "model_name": "ProgressStyleModel",
      "state": {
       "_model_module": "@jupyter-widgets/controls",
       "_model_module_version": "1.5.0",
       "_model_name": "ProgressStyleModel",
       "_view_count": null,
       "_view_module": "@jupyter-widgets/base",
       "_view_module_version": "1.2.0",
       "_view_name": "StyleView",
       "bar_color": null,
       "description_width": ""
      }
     }
    },
    "version_major": 2,
    "version_minor": 0
   }
  }
 },
 "nbformat": 4,
 "nbformat_minor": 5
}
