{
 "cells": [
  {
   "cell_type": "markdown",
   "id": "a56cf9ed",
   "metadata": {},
   "source": [
    "# 2. Datasets (tg.common.datasets)"
   ]
  },
  {
   "cell_type": "markdown",
   "id": "5c6f16b8",
   "metadata": {},
   "source": [
    "## Overview\n",
    "\n",
    "`tg.common.datasets` contains the following modules:\n",
    "\n",
    "* `tg.common.datasets.access`\n",
    "  - Abstraction for connection to SQL databases and other datasources\n",
    "  - Caching the data locally\n",
    "* `tg.common.datasets.selectors`\n",
    "  - Handly classes to convert unstructured data into tidy datasets\n",
    "* `tg.common.datasets.featurization`\n",
    "  - Production-ready code to get the data, convert into tidy datasets and store at the external storage"
   ]
  }
 ],
 "metadata": {
  "kernelspec": {
   "display_name": "Python 3",
   "language": "python",
   "name": "python3"
  },
  "language_info": {
   "codemirror_mode": {
    "name": "ipython",
    "version": 3
   },
   "file_extension": ".py",
   "mimetype": "text/x-python",
   "name": "python",
   "nbconvert_exporter": "python",
   "pygments_lexer": "ipython3",
   "version": "3.8.13"
  }
 },
 "nbformat": 4,
 "nbformat_minor": 5
}
