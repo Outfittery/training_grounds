{
 "cells": [
  {
   "cell_type": "markdown",
   "id": "0e8cf332",
   "metadata": {},
   "source": [
    "# 5. Analytics tools (tg.common.analysis)"
   ]
  },
  {
   "cell_type": "markdown",
   "id": "e1bfa0ba",
   "metadata": {},
   "source": [
    "## Overview\n",
    "\n",
    "`tg.common.analysis` is a module with some helpful analytics tools, mostly around the concept of statistical significance, with the aim to make it easier to use this concept and visualize the results in the report. Currently, very few features are implemented, but those are extremely useful for the meaningful reports."
   ]
  },
  {
   "cell_type": "markdown",
   "id": "d94ce4b3",
   "metadata": {},
   "source": [
    "## `percentile_confint`\n",
    "\n",
    "\n",
    "As a model example, we will use Titanic dataset again, particularly around the question \"which features are most useful to predict the outcome\". We have demonstrated this technique in `tg.common.ml.single_frame_training`, but it's also implemented as ready to use solution in `tg.common.analytics`."
   ]
  },
  {
   "cell_type": "code",
   "execution_count": 1,
   "id": "831a4f70",
   "metadata": {
    "execution": {
     "iopub.execute_input": "2022-06-27T19:41:50.962406Z",
     "iopub.status.busy": "2022-06-27T19:41:50.922896Z",
     "iopub.status.idle": "2022-06-27T19:41:51.348929Z",
     "shell.execute_reply": "2022-06-27T19:41:51.349370Z"
    }
   },
   "outputs": [
    {
     "data": {
      "text/html": [
       "<div>\n",
       "<style scoped>\n",
       "    .dataframe tbody tr th:only-of-type {\n",
       "        vertical-align: middle;\n",
       "    }\n",
       "\n",
       "    .dataframe tbody tr th {\n",
       "        vertical-align: top;\n",
       "    }\n",
       "\n",
       "    .dataframe thead th {\n",
       "        text-align: right;\n",
       "    }\n",
       "</style>\n",
       "<table border=\"1\" class=\"dataframe\">\n",
       "  <thead>\n",
       "    <tr style=\"text-align: right;\">\n",
       "      <th></th>\n",
       "      <th>Survived</th>\n",
       "      <th>Pclass</th>\n",
       "      <th>Name</th>\n",
       "      <th>Sex</th>\n",
       "      <th>Age</th>\n",
       "      <th>SibSp</th>\n",
       "      <th>Parch</th>\n",
       "      <th>Ticket</th>\n",
       "      <th>Fare</th>\n",
       "      <th>Cabin</th>\n",
       "      <th>Embarked</th>\n",
       "    </tr>\n",
       "    <tr>\n",
       "      <th>PassengerId</th>\n",
       "      <th></th>\n",
       "      <th></th>\n",
       "      <th></th>\n",
       "      <th></th>\n",
       "      <th></th>\n",
       "      <th></th>\n",
       "      <th></th>\n",
       "      <th></th>\n",
       "      <th></th>\n",
       "      <th></th>\n",
       "      <th></th>\n",
       "    </tr>\n",
       "  </thead>\n",
       "  <tbody>\n",
       "    <tr>\n",
       "      <th>1</th>\n",
       "      <td>0.0</td>\n",
       "      <td>3.0</td>\n",
       "      <td>Braund, Mr. Owen Harris</td>\n",
       "      <td>male</td>\n",
       "      <td>22.0</td>\n",
       "      <td>1.0</td>\n",
       "      <td>0.0</td>\n",
       "      <td>A/5 21171</td>\n",
       "      <td>7.2500</td>\n",
       "      <td>NaN</td>\n",
       "      <td>S</td>\n",
       "    </tr>\n",
       "    <tr>\n",
       "      <th>2</th>\n",
       "      <td>1.0</td>\n",
       "      <td>1.0</td>\n",
       "      <td>Cumings, Mrs. John Bradley (Florence Briggs Th...</td>\n",
       "      <td>female</td>\n",
       "      <td>38.0</td>\n",
       "      <td>1.0</td>\n",
       "      <td>0.0</td>\n",
       "      <td>PC 17599</td>\n",
       "      <td>71.2833</td>\n",
       "      <td>C85</td>\n",
       "      <td>C</td>\n",
       "    </tr>\n",
       "    <tr>\n",
       "      <th>3</th>\n",
       "      <td>1.0</td>\n",
       "      <td>3.0</td>\n",
       "      <td>Heikkinen, Miss. Laina</td>\n",
       "      <td>female</td>\n",
       "      <td>26.0</td>\n",
       "      <td>0.0</td>\n",
       "      <td>0.0</td>\n",
       "      <td>STON/O2. 3101282</td>\n",
       "      <td>7.9250</td>\n",
       "      <td>NaN</td>\n",
       "      <td>S</td>\n",
       "    </tr>\n",
       "    <tr>\n",
       "      <th>4</th>\n",
       "      <td>1.0</td>\n",
       "      <td>1.0</td>\n",
       "      <td>Futrelle, Mrs. Jacques Heath (Lily May Peel)</td>\n",
       "      <td>female</td>\n",
       "      <td>35.0</td>\n",
       "      <td>1.0</td>\n",
       "      <td>0.0</td>\n",
       "      <td>113803</td>\n",
       "      <td>53.1000</td>\n",
       "      <td>C123</td>\n",
       "      <td>S</td>\n",
       "    </tr>\n",
       "    <tr>\n",
       "      <th>5</th>\n",
       "      <td>0.0</td>\n",
       "      <td>3.0</td>\n",
       "      <td>Allen, Mr. William Henry</td>\n",
       "      <td>male</td>\n",
       "      <td>35.0</td>\n",
       "      <td>0.0</td>\n",
       "      <td>0.0</td>\n",
       "      <td>373450</td>\n",
       "      <td>8.0500</td>\n",
       "      <td>NaN</td>\n",
       "      <td>S</td>\n",
       "    </tr>\n",
       "  </tbody>\n",
       "</table>\n",
       "</div>"
      ],
      "text/plain": [
       "             Survived  Pclass  \\\n",
       "PassengerId                     \n",
       "1                 0.0     3.0   \n",
       "2                 1.0     1.0   \n",
       "3                 1.0     3.0   \n",
       "4                 1.0     1.0   \n",
       "5                 0.0     3.0   \n",
       "\n",
       "                                                          Name     Sex   Age  \\\n",
       "PassengerId                                                                    \n",
       "1                                      Braund, Mr. Owen Harris    male  22.0   \n",
       "2            Cumings, Mrs. John Bradley (Florence Briggs Th...  female  38.0   \n",
       "3                                       Heikkinen, Miss. Laina  female  26.0   \n",
       "4                 Futrelle, Mrs. Jacques Heath (Lily May Peel)  female  35.0   \n",
       "5                                     Allen, Mr. William Henry    male  35.0   \n",
       "\n",
       "             SibSp  Parch            Ticket     Fare Cabin Embarked  \n",
       "PassengerId                                                          \n",
       "1              1.0    0.0         A/5 21171   7.2500   NaN        S  \n",
       "2              1.0    0.0          PC 17599  71.2833   C85        C  \n",
       "3              0.0    0.0  STON/O2. 3101282   7.9250   NaN        S  \n",
       "4              1.0    0.0            113803  53.1000  C123        S  \n",
       "5              0.0    0.0            373450   8.0500   NaN        S  "
      ]
     },
     "execution_count": 1,
     "metadata": {},
     "output_type": "execute_result"
    }
   ],
   "source": [
    "import pandas as pd\n",
    "df = pd.read_csv('titanic.csv')\n",
    "df = df.set_index('PassengerId')\n",
    "for c in ['Pclass','SibSp','Parch','Survived']:\n",
    "    df[c] = df[c].astype(float)\n",
    "df.head()"
   ]
  },
  {
   "cell_type": "code",
   "execution_count": 2,
   "id": "b4679aa5",
   "metadata": {
    "execution": {
     "iopub.execute_input": "2022-06-27T19:41:51.354281Z",
     "iopub.status.busy": "2022-06-27T19:41:51.353858Z",
     "iopub.status.idle": "2022-06-27T19:42:25.247630Z",
     "shell.execute_reply": "2022-06-27T19:42:25.250483Z"
    }
   },
   "outputs": [
    {
     "data": {
      "application/vnd.jupyter.widget-view+json": {
       "model_id": "28d8ffbae69747c1b473ffc83de78a40",
       "version_major": 2,
       "version_minor": 0
      },
      "text/plain": [
       "  0%|          | 0/200 [00:00<?, ?it/s]"
      ]
     },
     "metadata": {},
     "output_type": "display_data"
    }
   ],
   "source": [
    "from tg.common.analysis import FeatureSignificance\n",
    "from tg.common import Logger\n",
    "\n",
    "Logger.disable()\n",
    "\n",
    "features = ['Pclass', 'Sex', 'Age', 'SibSp', 'Parch', 'Fare', 'Embarked']\n",
    "significance = FeatureSignificance.for_classification_task(\n",
    "    df = df,\n",
    "    features = features,\n",
    "    label = 'Survived',\n",
    "    folds_count = 200\n",
    ")"
   ]
  },
  {
   "cell_type": "code",
   "execution_count": 3,
   "id": "128d4139",
   "metadata": {
    "execution": {
     "iopub.execute_input": "2022-06-27T19:42:25.265929Z",
     "iopub.status.busy": "2022-06-27T19:42:25.255293Z",
     "iopub.status.idle": "2022-06-27T19:42:25.283234Z",
     "shell.execute_reply": "2022-06-27T19:42:25.286616Z"
    }
   },
   "outputs": [
    {
     "data": {
      "text/html": [
       "<div>\n",
       "<style scoped>\n",
       "    .dataframe tbody tr th:only-of-type {\n",
       "        vertical-align: middle;\n",
       "    }\n",
       "\n",
       "    .dataframe tbody tr th {\n",
       "        vertical-align: top;\n",
       "    }\n",
       "\n",
       "    .dataframe thead th {\n",
       "        text-align: right;\n",
       "    }\n",
       "</style>\n",
       "<table border=\"1\" class=\"dataframe\">\n",
       "  <thead>\n",
       "    <tr style=\"text-align: right;\">\n",
       "      <th></th>\n",
       "      <th>Pclass</th>\n",
       "      <th>Age</th>\n",
       "      <th>SibSp</th>\n",
       "      <th>Parch</th>\n",
       "      <th>Fare</th>\n",
       "      <th>Age_missing</th>\n",
       "      <th>Sex_male</th>\n",
       "      <th>Sex_female</th>\n",
       "      <th>Embarked_S</th>\n",
       "      <th>Embarked_C</th>\n",
       "      <th>Embarked_Q</th>\n",
       "      <th>Embarked_NULL</th>\n",
       "    </tr>\n",
       "  </thead>\n",
       "  <tbody>\n",
       "    <tr>\n",
       "      <th>0</th>\n",
       "      <td>-0.861870</td>\n",
       "      <td>-0.571329</td>\n",
       "      <td>-0.430517</td>\n",
       "      <td>-0.095062</td>\n",
       "      <td>0.062456</td>\n",
       "      <td>-0.301913</td>\n",
       "      <td>-1.334796</td>\n",
       "      <td>1.334920</td>\n",
       "      <td>-0.418228</td>\n",
       "      <td>0.062635</td>\n",
       "      <td>0.186314</td>\n",
       "      <td>0.169403</td>\n",
       "    </tr>\n",
       "    <tr>\n",
       "      <th>1</th>\n",
       "      <td>-0.985657</td>\n",
       "      <td>-0.617876</td>\n",
       "      <td>-0.347725</td>\n",
       "      <td>0.038203</td>\n",
       "      <td>-0.034456</td>\n",
       "      <td>-0.428030</td>\n",
       "      <td>-1.381279</td>\n",
       "      <td>1.381317</td>\n",
       "      <td>-0.427300</td>\n",
       "      <td>0.050905</td>\n",
       "      <td>0.243914</td>\n",
       "      <td>0.132519</td>\n",
       "    </tr>\n",
       "    <tr>\n",
       "      <th>2</th>\n",
       "      <td>-0.954792</td>\n",
       "      <td>-0.669994</td>\n",
       "      <td>-0.404068</td>\n",
       "      <td>-0.043028</td>\n",
       "      <td>-0.005523</td>\n",
       "      <td>-0.355824</td>\n",
       "      <td>-1.395271</td>\n",
       "      <td>1.395354</td>\n",
       "      <td>-0.373559</td>\n",
       "      <td>0.122871</td>\n",
       "      <td>0.050387</td>\n",
       "      <td>0.200385</td>\n",
       "    </tr>\n",
       "    <tr>\n",
       "      <th>3</th>\n",
       "      <td>-0.945720</td>\n",
       "      <td>-0.658512</td>\n",
       "      <td>-0.478880</td>\n",
       "      <td>-0.050786</td>\n",
       "      <td>0.294873</td>\n",
       "      <td>-0.200040</td>\n",
       "      <td>-1.372717</td>\n",
       "      <td>1.372751</td>\n",
       "      <td>-0.461177</td>\n",
       "      <td>0.151009</td>\n",
       "      <td>0.210827</td>\n",
       "      <td>0.099375</td>\n",
       "    </tr>\n",
       "    <tr>\n",
       "      <th>4</th>\n",
       "      <td>-0.877177</td>\n",
       "      <td>-0.507637</td>\n",
       "      <td>-0.273289</td>\n",
       "      <td>-0.022627</td>\n",
       "      <td>0.099942</td>\n",
       "      <td>-0.472386</td>\n",
       "      <td>-1.226026</td>\n",
       "      <td>1.226146</td>\n",
       "      <td>-0.434261</td>\n",
       "      <td>0.054348</td>\n",
       "      <td>0.209524</td>\n",
       "      <td>0.170508</td>\n",
       "    </tr>\n",
       "  </tbody>\n",
       "</table>\n",
       "</div>"
      ],
      "text/plain": [
       "     Pclass       Age     SibSp     Parch      Fare  Age_missing  Sex_male  \\\n",
       "0 -0.861870 -0.571329 -0.430517 -0.095062  0.062456    -0.301913 -1.334796   \n",
       "1 -0.985657 -0.617876 -0.347725  0.038203 -0.034456    -0.428030 -1.381279   \n",
       "2 -0.954792 -0.669994 -0.404068 -0.043028 -0.005523    -0.355824 -1.395271   \n",
       "3 -0.945720 -0.658512 -0.478880 -0.050786  0.294873    -0.200040 -1.372717   \n",
       "4 -0.877177 -0.507637 -0.273289 -0.022627  0.099942    -0.472386 -1.226026   \n",
       "\n",
       "   Sex_female  Embarked_S  Embarked_C  Embarked_Q  Embarked_NULL  \n",
       "0    1.334920   -0.418228    0.062635    0.186314       0.169403  \n",
       "1    1.381317   -0.427300    0.050905    0.243914       0.132519  \n",
       "2    1.395354   -0.373559    0.122871    0.050387       0.200385  \n",
       "3    1.372751   -0.461177    0.151009    0.210827       0.099375  \n",
       "4    1.226146   -0.434261    0.054348    0.209524       0.170508  "
      ]
     },
     "execution_count": 3,
     "metadata": {},
     "output_type": "execute_result"
    }
   ],
   "source": [
    "significance.head()"
   ]
  },
  {
   "cell_type": "code",
   "execution_count": 4,
   "id": "8777c276",
   "metadata": {
    "execution": {
     "iopub.execute_input": "2022-06-27T19:42:25.300056Z",
     "iopub.status.busy": "2022-06-27T19:42:25.299089Z",
     "iopub.status.idle": "2022-06-27T19:42:25.840264Z",
     "shell.execute_reply": "2022-06-27T19:42:25.839844Z"
    }
   },
   "outputs": [
    {
     "data": {
      "image/png": "[encoded data removed]",
      "text/plain": [
       "<Figure size 1440x360 with 1 Axes>"
      ]
     },
     "metadata": {
      "needs_background": "light"
     },
     "output_type": "display_data"
    }
   ],
   "source": [
    "from matplotlib import pyplot as plt\n",
    "from seaborn import violinplot\n",
    "\n",
    "_, ax = plt.subplots(1,1,figsize=(20,5))\n",
    "violinplot(data=significance, ax=ax)\n",
    "pass"
   ]
  },
  {
   "cell_type": "markdown",
   "id": "3b0cc147",
   "metadata": {},
   "source": [
    "We see that some of the feature are reallyfar from zero (like `Sex_male` and `Sex_female`), but some others are near and it's hard to say, if there are significant. To answer this question, we can build a confidence intervals:"
   ]
  },
  {
   "cell_type": "code",
   "execution_count": 5,
   "id": "49456f98",
   "metadata": {
    "execution": {
     "iopub.execute_input": "2022-06-27T19:42:25.849970Z",
     "iopub.status.busy": "2022-06-27T19:42:25.844629Z",
     "iopub.status.idle": "2022-06-27T19:42:25.852632Z",
     "shell.execute_reply": "2022-06-27T19:42:25.852218Z"
    }
   },
   "outputs": [
    {
     "data": {
      "text/html": [
       "<div>\n",
       "<style scoped>\n",
       "    .dataframe tbody tr th:only-of-type {\n",
       "        vertical-align: middle;\n",
       "    }\n",
       "\n",
       "    .dataframe tbody tr th {\n",
       "        vertical-align: top;\n",
       "    }\n",
       "\n",
       "    .dataframe thead th {\n",
       "        text-align: right;\n",
       "    }\n",
       "</style>\n",
       "<table border=\"1\" class=\"dataframe\">\n",
       "  <thead>\n",
       "    <tr style=\"text-align: right;\">\n",
       "      <th></th>\n",
       "      <th>feature</th>\n",
       "      <th>experiment</th>\n",
       "      <th>value</th>\n",
       "    </tr>\n",
       "  </thead>\n",
       "  <tbody>\n",
       "    <tr>\n",
       "      <th>0</th>\n",
       "      <td>Pclass</td>\n",
       "      <td>0</td>\n",
       "      <td>-0.861870</td>\n",
       "    </tr>\n",
       "    <tr>\n",
       "      <th>1</th>\n",
       "      <td>Pclass</td>\n",
       "      <td>1</td>\n",
       "      <td>-0.985657</td>\n",
       "    </tr>\n",
       "    <tr>\n",
       "      <th>2</th>\n",
       "      <td>Pclass</td>\n",
       "      <td>2</td>\n",
       "      <td>-0.954792</td>\n",
       "    </tr>\n",
       "    <tr>\n",
       "      <th>3</th>\n",
       "      <td>Pclass</td>\n",
       "      <td>3</td>\n",
       "      <td>-0.945720</td>\n",
       "    </tr>\n",
       "    <tr>\n",
       "      <th>4</th>\n",
       "      <td>Pclass</td>\n",
       "      <td>4</td>\n",
       "      <td>-0.877177</td>\n",
       "    </tr>\n",
       "  </tbody>\n",
       "</table>\n",
       "</div>"
      ],
      "text/plain": [
       "  feature  experiment     value\n",
       "0  Pclass           0 -0.861870\n",
       "1  Pclass           1 -0.985657\n",
       "2  Pclass           2 -0.954792\n",
       "3  Pclass           3 -0.945720\n",
       "4  Pclass           4 -0.877177"
      ]
     },
     "execution_count": 5,
     "metadata": {},
     "output_type": "execute_result"
    }
   ],
   "source": [
    "sdf = significance.unstack().to_frame().reset_index()\n",
    "sdf.columns = ['feature','experiment','value']\n",
    "sdf.head()"
   ]
  },
  {
   "cell_type": "code",
   "execution_count": 6,
   "id": "d0302970",
   "metadata": {
    "execution": {
     "iopub.execute_input": "2022-06-27T19:42:25.856797Z",
     "iopub.status.busy": "2022-06-27T19:42:25.856352Z",
     "iopub.status.idle": "2022-06-27T19:42:25.869601Z",
     "shell.execute_reply": "2022-06-27T19:42:25.869046Z"
    }
   },
   "outputs": [
    {
     "data": {
      "text/html": [
       "<div>\n",
       "<style scoped>\n",
       "    .dataframe tbody tr th:only-of-type {\n",
       "        vertical-align: middle;\n",
       "    }\n",
       "\n",
       "    .dataframe tbody tr th {\n",
       "        vertical-align: top;\n",
       "    }\n",
       "\n",
       "    .dataframe thead th {\n",
       "        text-align: right;\n",
       "    }\n",
       "</style>\n",
       "<table border=\"1\" class=\"dataframe\">\n",
       "  <thead>\n",
       "    <tr style=\"text-align: right;\">\n",
       "      <th></th>\n",
       "      <th>feature</th>\n",
       "      <th>value_lower</th>\n",
       "      <th>value_upper</th>\n",
       "      <th>value_value</th>\n",
       "      <th>value_error</th>\n",
       "    </tr>\n",
       "  </thead>\n",
       "  <tbody>\n",
       "    <tr>\n",
       "      <th>0</th>\n",
       "      <td>Age</td>\n",
       "      <td>-0.670278</td>\n",
       "      <td>-0.440688</td>\n",
       "      <td>-0.555483</td>\n",
       "      <td>0.114795</td>\n",
       "    </tr>\n",
       "    <tr>\n",
       "      <th>1</th>\n",
       "      <td>Age_missing</td>\n",
       "      <td>-0.482734</td>\n",
       "      <td>-0.031772</td>\n",
       "      <td>-0.257253</td>\n",
       "      <td>0.225481</td>\n",
       "    </tr>\n",
       "    <tr>\n",
       "      <th>2</th>\n",
       "      <td>Embarked_C</td>\n",
       "      <td>-0.080599</td>\n",
       "      <td>0.239275</td>\n",
       "      <td>0.079338</td>\n",
       "      <td>0.159937</td>\n",
       "    </tr>\n",
       "    <tr>\n",
       "      <th>3</th>\n",
       "      <td>Embarked_NULL</td>\n",
       "      <td>NaN</td>\n",
       "      <td>NaN</td>\n",
       "      <td>NaN</td>\n",
       "      <td>NaN</td>\n",
       "    </tr>\n",
       "    <tr>\n",
       "      <th>4</th>\n",
       "      <td>Embarked_Q</td>\n",
       "      <td>-0.080665</td>\n",
       "      <td>0.360177</td>\n",
       "      <td>0.139756</td>\n",
       "      <td>0.220421</td>\n",
       "    </tr>\n",
       "  </tbody>\n",
       "</table>\n",
       "</div>"
      ],
      "text/plain": [
       "         feature  value_lower  value_upper  value_value  value_error\n",
       "0            Age    -0.670278    -0.440688    -0.555483     0.114795\n",
       "1    Age_missing    -0.482734    -0.031772    -0.257253     0.225481\n",
       "2     Embarked_C    -0.080599     0.239275     0.079338     0.159937\n",
       "3  Embarked_NULL          NaN          NaN          NaN          NaN\n",
       "4     Embarked_Q    -0.080665     0.360177     0.139756     0.220421"
      ]
     },
     "execution_count": 6,
     "metadata": {},
     "output_type": "execute_result"
    }
   ],
   "source": [
    "from tg.common.analysis import Aggregators\n",
    "sdf1 = sdf.groupby('feature').value.feed(Aggregators.percentile_confint(pValue=0.9)).reset_index()\n",
    "sdf1.head()"
   ]
  },
  {
   "cell_type": "markdown",
   "id": "2777232a",
   "metadata": {},
   "source": [
    "This aggregator is essentially doing what `mean` or `std` functions do, but for statistical significance. \n",
    "\n",
    "Now, we can use `grbar_plot` for visualization:"
   ]
  },
  {
   "cell_type": "code",
   "execution_count": 7,
   "id": "f20c5a39",
   "metadata": {
    "execution": {
     "iopub.execute_input": "2022-06-27T19:42:25.909892Z",
     "iopub.status.busy": "2022-06-27T19:42:25.902275Z",
     "iopub.status.idle": "2022-06-27T19:42:26.309189Z",
     "shell.execute_reply": "2022-06-27T19:42:26.308752Z"
    }
   },
   "outputs": [
    {
     "data": {
      "text/plain": [
       "<AxesSubplot:xlabel='value_value', ylabel='feature'>"
      ]
     },
     "execution_count": 7,
     "metadata": {},
     "output_type": "execute_result"
    },
    {
     "data": {
      "image/png": "[encoded data removed]",
      "text/plain": [
       "<Figure size 432x288 with 1 Axes>"
      ]
     },
     "metadata": {
      "needs_background": "light"
     },
     "output_type": "display_data"
    }
   ],
   "source": [
    "from tg.common.analysis import grbar_plot\n",
    "\n",
    "grbar_plot(\n",
    "    sdf1.loc[sdf1.value_upper*sdf1.value_lower>0].sort_values('value_upper'), \n",
    "    value_column='value_value', \n",
    "    error_column='value_error', \n",
    "    group_column='feature', orient='h'\n",
    ")"
   ]
  },
  {
   "cell_type": "markdown",
   "id": "c479369c",
   "metadata": {},
   "source": [
    "## `proportion_confint`"
   ]
  },
  {
   "cell_type": "markdown",
   "id": "265ad143",
   "metadata": {},
   "source": [
    "Aside from `percentile_confint`, which builds a confidence interval by simply computing the borders in which the proper amount of values fall, there is `proportion_confint` that uses the formula for Bernoulli distribution."
   ]
  },
  {
   "cell_type": "code",
   "execution_count": 8,
   "id": "d0aba6e4",
   "metadata": {
    "execution": {
     "iopub.execute_input": "2022-06-27T19:42:26.341496Z",
     "iopub.status.busy": "2022-06-27T19:42:26.336598Z",
     "iopub.status.idle": "2022-06-27T19:42:26.351645Z",
     "shell.execute_reply": "2022-06-27T19:42:26.349010Z"
    }
   },
   "outputs": [
    {
     "data": {
      "text/html": [
       "<div>\n",
       "<style scoped>\n",
       "    .dataframe tbody tr th:only-of-type {\n",
       "        vertical-align: middle;\n",
       "    }\n",
       "\n",
       "    .dataframe tbody tr th {\n",
       "        vertical-align: top;\n",
       "    }\n",
       "\n",
       "    .dataframe thead th {\n",
       "        text-align: right;\n",
       "    }\n",
       "</style>\n",
       "<table border=\"1\" class=\"dataframe\">\n",
       "  <thead>\n",
       "    <tr style=\"text-align: right;\">\n",
       "      <th></th>\n",
       "      <th>Survived_lower</th>\n",
       "      <th>Survived_upper</th>\n",
       "      <th>Survived_value</th>\n",
       "      <th>Survived_error</th>\n",
       "    </tr>\n",
       "  </thead>\n",
       "  <tbody>\n",
       "    <tr>\n",
       "      <th>0</th>\n",
       "      <td>0.351906</td>\n",
       "      <td>0.415771</td>\n",
       "      <td>0.383838</td>\n",
       "      <td>0.031932</td>\n",
       "    </tr>\n",
       "  </tbody>\n",
       "</table>\n",
       "</div>"
      ],
      "text/plain": [
       "   Survived_lower  Survived_upper  Survived_value  Survived_error\n",
       "0        0.351906        0.415771        0.383838        0.031932"
      ]
     },
     "execution_count": 8,
     "metadata": {},
     "output_type": "execute_result"
    }
   ],
   "source": [
    "df.Survived.feed(Aggregators.proportion_confint())"
   ]
  },
  {
   "cell_type": "markdown",
   "id": "44bce9c6",
   "metadata": {},
   "source": [
    "As any Aggregator, it can be applied, e.g., to groups:"
   ]
  },
  {
   "cell_type": "code",
   "execution_count": 9,
   "id": "95849ce9",
   "metadata": {
    "execution": {
     "iopub.execute_input": "2022-06-27T19:42:26.382171Z",
     "iopub.status.busy": "2022-06-27T19:42:26.373232Z",
     "iopub.status.idle": "2022-06-27T19:42:26.408581Z",
     "shell.execute_reply": "2022-06-27T19:42:26.408074Z"
    }
   },
   "outputs": [
    {
     "data": {
      "text/html": [
       "<div>\n",
       "<style scoped>\n",
       "    .dataframe tbody tr th:only-of-type {\n",
       "        vertical-align: middle;\n",
       "    }\n",
       "\n",
       "    .dataframe tbody tr th {\n",
       "        vertical-align: top;\n",
       "    }\n",
       "\n",
       "    .dataframe thead th {\n",
       "        text-align: right;\n",
       "    }\n",
       "</style>\n",
       "<table border=\"1\" class=\"dataframe\">\n",
       "  <thead>\n",
       "    <tr style=\"text-align: right;\">\n",
       "      <th></th>\n",
       "      <th>Sex</th>\n",
       "      <th>Embarked</th>\n",
       "      <th>Survived_lower</th>\n",
       "      <th>Survived_upper</th>\n",
       "      <th>Survived_value</th>\n",
       "      <th>Survived_error</th>\n",
       "    </tr>\n",
       "  </thead>\n",
       "  <tbody>\n",
       "    <tr>\n",
       "      <th>0</th>\n",
       "      <td>female</td>\n",
       "      <td>C</td>\n",
       "      <td>0.801294</td>\n",
       "      <td>0.952130</td>\n",
       "      <td>0.876712</td>\n",
       "      <td>0.075418</td>\n",
       "    </tr>\n",
       "    <tr>\n",
       "      <th>1</th>\n",
       "      <td>female</td>\n",
       "      <td>Q</td>\n",
       "      <td>0.608552</td>\n",
       "      <td>0.891448</td>\n",
       "      <td>0.750000</td>\n",
       "      <td>0.141448</td>\n",
       "    </tr>\n",
       "    <tr>\n",
       "      <th>2</th>\n",
       "      <td>female</td>\n",
       "      <td>S</td>\n",
       "      <td>0.626014</td>\n",
       "      <td>0.753296</td>\n",
       "      <td>0.689655</td>\n",
       "      <td>0.063641</td>\n",
       "    </tr>\n",
       "    <tr>\n",
       "      <th>3</th>\n",
       "      <td>male</td>\n",
       "      <td>C</td>\n",
       "      <td>0.212658</td>\n",
       "      <td>0.397868</td>\n",
       "      <td>0.305263</td>\n",
       "      <td>0.092605</td>\n",
       "    </tr>\n",
       "    <tr>\n",
       "      <th>4</th>\n",
       "      <td>male</td>\n",
       "      <td>Q</td>\n",
       "      <td>0.000000</td>\n",
       "      <td>0.152883</td>\n",
       "      <td>0.076441</td>\n",
       "      <td>0.076441</td>\n",
       "    </tr>\n",
       "    <tr>\n",
       "      <th>5</th>\n",
       "      <td>male</td>\n",
       "      <td>S</td>\n",
       "      <td>0.139172</td>\n",
       "      <td>0.210034</td>\n",
       "      <td>0.174603</td>\n",
       "      <td>0.035431</td>\n",
       "    </tr>\n",
       "  </tbody>\n",
       "</table>\n",
       "</div>"
      ],
      "text/plain": [
       "      Sex Embarked  Survived_lower  Survived_upper  Survived_value  \\\n",
       "0  female        C        0.801294        0.952130        0.876712   \n",
       "1  female        Q        0.608552        0.891448        0.750000   \n",
       "2  female        S        0.626014        0.753296        0.689655   \n",
       "3    male        C        0.212658        0.397868        0.305263   \n",
       "4    male        Q        0.000000        0.152883        0.076441   \n",
       "5    male        S        0.139172        0.210034        0.174603   \n",
       "\n",
       "   Survived_error  \n",
       "0        0.075418  \n",
       "1        0.141448  \n",
       "2        0.063641  \n",
       "3        0.092605  \n",
       "4        0.076441  \n",
       "5        0.035431  "
      ]
     },
     "execution_count": 9,
     "metadata": {},
     "output_type": "execute_result"
    }
   ],
   "source": [
    "qdf = df.groupby(['Sex','Embarked']).Survived.feed(Aggregators.proportion_confint()).reset_index()\n",
    "qdf"
   ]
  },
  {
   "cell_type": "markdown",
   "id": "464dff66",
   "metadata": {},
   "source": [
    "`grbar_plot` can also use two variables for drawing:"
   ]
  },
  {
   "cell_type": "code",
   "execution_count": 10,
   "id": "ced31b44",
   "metadata": {
    "execution": {
     "iopub.execute_input": "2022-06-27T19:42:26.464436Z",
     "iopub.status.busy": "2022-06-27T19:42:26.459231Z",
     "iopub.status.idle": "2022-06-27T19:42:26.857889Z",
     "shell.execute_reply": "2022-06-27T19:42:26.857279Z"
    }
   },
   "outputs": [
    {
     "data": {
      "text/plain": [
       "<matplotlib.legend.Legend at 0x7f07ca52e730>"
      ]
     },
     "execution_count": 10,
     "metadata": {},
     "output_type": "execute_result"
    },
    {
     "data": {
      "image/png": "[encoded data removed]",
      "text/plain": [
       "<Figure size 432x288 with 1 Axes>"
      ]
     },
     "metadata": {
      "needs_background": "light"
     },
     "output_type": "display_data"
    }
   ],
   "source": [
    "grbar_plot(\n",
    "    qdf, \n",
    "    group_column='Sex', \n",
    "    color_column='Embarked', \n",
    "    value_column='Survived_value', \n",
    "    error_column='Survived_error')\n",
    "plt.legend()"
   ]
  },
  {
   "cell_type": "markdown",
   "id": "7b77bda4",
   "metadata": {},
   "source": [
    "## Bootstrap\n",
    "\n",
    "Let's explore if there is a significant difference between fares for men and women. "
   ]
  },
  {
   "cell_type": "code",
   "execution_count": 11,
   "id": "80c6979f",
   "metadata": {
    "execution": {
     "iopub.execute_input": "2022-06-27T19:42:26.868752Z",
     "iopub.status.busy": "2022-06-27T19:42:26.867692Z",
     "iopub.status.idle": "2022-06-27T19:42:26.880724Z",
     "shell.execute_reply": "2022-06-27T19:42:26.882850Z"
    }
   },
   "outputs": [
    {
     "data": {
      "text/plain": [
       "Sex\n",
       "female    44.479818\n",
       "male      25.523893\n",
       "Name: Fare, dtype: float64"
      ]
     },
     "execution_count": 11,
     "metadata": {},
     "output_type": "execute_result"
    }
   ],
   "source": [
    "df.groupby('Sex').Fare.mean()"
   ]
  },
  {
   "cell_type": "markdown",
   "id": "02f35610",
   "metadata": {},
   "source": [
    "Well, maybe, but is this difference significant? \n",
    "\n",
    "In this case, it's hard to use math: most of the cases are for normal distribution, but `Fare` is not distributed normally."
   ]
  },
  {
   "cell_type": "code",
   "execution_count": 12,
   "id": "ca72a1bd",
   "metadata": {
    "execution": {
     "iopub.execute_input": "2022-06-27T19:42:26.894115Z",
     "iopub.status.busy": "2022-06-27T19:42:26.891537Z",
     "iopub.status.idle": "2022-06-27T19:42:27.449697Z",
     "shell.execute_reply": "2022-06-27T19:42:27.461143Z"
    }
   },
   "outputs": [
    {
     "data": {
      "text/plain": [
       "<AxesSubplot:>"
      ]
     },
     "execution_count": 12,
     "metadata": {},
     "output_type": "execute_result"
    },
    {
     "data": {
      "image/png": "[encoded data removed]",
      "text/plain": [
       "<Figure size 432x288 with 1 Axes>"
      ]
     },
     "metadata": {
      "needs_background": "light"
     },
     "output_type": "display_data"
    }
   ],
   "source": [
    "df.Fare.hist()"
   ]
  },
  {
   "cell_type": "markdown",
   "id": "070ea383",
   "metadata": {},
   "source": [
    "We can use [bootstraping](https://en.wikipedia.org/wiki/Bootstrapping_(statistics)) for this task. To do so, first, we need a function that computes the value of interest as a dataframe:"
   ]
  },
  {
   "cell_type": "code",
   "execution_count": 13,
   "id": "9961ba44",
   "metadata": {
    "execution": {
     "iopub.execute_input": "2022-06-27T19:42:27.480419Z",
     "iopub.status.busy": "2022-06-27T19:42:27.472129Z",
     "iopub.status.idle": "2022-06-27T19:42:27.524293Z",
     "shell.execute_reply": "2022-06-27T19:42:27.529055Z"
    }
   },
   "outputs": [
    {
     "data": {
      "text/html": [
       "<div>\n",
       "<style scoped>\n",
       "    .dataframe tbody tr th:only-of-type {\n",
       "        vertical-align: middle;\n",
       "    }\n",
       "\n",
       "    .dataframe tbody tr th {\n",
       "        vertical-align: top;\n",
       "    }\n",
       "\n",
       "    .dataframe thead th {\n",
       "        text-align: right;\n",
       "    }\n",
       "</style>\n",
       "<table border=\"1\" class=\"dataframe\">\n",
       "  <thead>\n",
       "    <tr style=\"text-align: right;\">\n",
       "      <th>Sex</th>\n",
       "      <th>index</th>\n",
       "      <th>female</th>\n",
       "      <th>male</th>\n",
       "    </tr>\n",
       "  </thead>\n",
       "  <tbody>\n",
       "    <tr>\n",
       "      <th>0</th>\n",
       "      <td>Fare</td>\n",
       "      <td>44.479818</td>\n",
       "      <td>25.523893</td>\n",
       "    </tr>\n",
       "  </tbody>\n",
       "</table>\n",
       "</div>"
      ],
      "text/plain": [
       "Sex index     female       male\n",
       "0    Fare  44.479818  25.523893"
      ]
     },
     "execution_count": 13,
     "metadata": {},
     "output_type": "execute_result"
    }
   ],
   "source": [
    "def compute(df):\n",
    "    return df.groupby('Sex').Fare.mean().to_frame().transpose().reset_index()\n",
    "    \n",
    "compute(df)"
   ]
  },
  {
   "cell_type": "code",
   "execution_count": 14,
   "id": "04d209df",
   "metadata": {
    "execution": {
     "iopub.execute_input": "2022-06-27T19:42:27.548840Z",
     "iopub.status.busy": "2022-06-27T19:42:27.546501Z",
     "iopub.status.idle": "2022-06-27T19:42:37.188906Z",
     "shell.execute_reply": "2022-06-27T19:42:37.188532Z"
    }
   },
   "outputs": [
    {
     "data": {
      "application/vnd.jupyter.widget-view+json": {
       "model_id": "2d10189763f44f4695581ba087b19586",
       "version_major": 2,
       "version_minor": 0
      },
      "text/plain": [
       "  0%|          | 0/1000 [00:00<?, ?it/s]"
      ]
     },
     "metadata": {},
     "output_type": "display_data"
    }
   ],
   "source": [
    "from tg.common.analysis import Bootstrap\n",
    "\n",
    "bst = Bootstrap(df = df, method = compute)\n",
    "rdf = bst.run(N=1000)"
   ]
  },
  {
   "cell_type": "code",
   "execution_count": 15,
   "id": "aae50008",
   "metadata": {
    "execution": {
     "iopub.execute_input": "2022-06-27T19:42:37.196133Z",
     "iopub.status.busy": "2022-06-27T19:42:37.195558Z",
     "iopub.status.idle": "2022-06-27T19:42:37.198894Z",
     "shell.execute_reply": "2022-06-27T19:42:37.199253Z"
    }
   },
   "outputs": [
    {
     "data": {
      "text/html": [
       "<div>\n",
       "<style scoped>\n",
       "    .dataframe tbody tr th:only-of-type {\n",
       "        vertical-align: middle;\n",
       "    }\n",
       "\n",
       "    .dataframe tbody tr th {\n",
       "        vertical-align: top;\n",
       "    }\n",
       "\n",
       "    .dataframe thead th {\n",
       "        text-align: right;\n",
       "    }\n",
       "</style>\n",
       "<table border=\"1\" class=\"dataframe\">\n",
       "  <thead>\n",
       "    <tr style=\"text-align: right;\">\n",
       "      <th></th>\n",
       "      <th>index</th>\n",
       "      <th>female</th>\n",
       "      <th>male</th>\n",
       "      <th>iteration</th>\n",
       "      <th>n</th>\n",
       "    </tr>\n",
       "  </thead>\n",
       "  <tbody>\n",
       "    <tr>\n",
       "      <th>0</th>\n",
       "      <td>Fare</td>\n",
       "      <td>43.462195</td>\n",
       "      <td>26.987083</td>\n",
       "      <td>0</td>\n",
       "      <td>0</td>\n",
       "    </tr>\n",
       "    <tr>\n",
       "      <th>1</th>\n",
       "      <td>Fare</td>\n",
       "      <td>41.431770</td>\n",
       "      <td>25.906982</td>\n",
       "      <td>1</td>\n",
       "      <td>1</td>\n",
       "    </tr>\n",
       "    <tr>\n",
       "      <th>2</th>\n",
       "      <td>Fare</td>\n",
       "      <td>40.536302</td>\n",
       "      <td>27.590799</td>\n",
       "      <td>2</td>\n",
       "      <td>2</td>\n",
       "    </tr>\n",
       "    <tr>\n",
       "      <th>3</th>\n",
       "      <td>Fare</td>\n",
       "      <td>44.421407</td>\n",
       "      <td>25.357936</td>\n",
       "      <td>3</td>\n",
       "      <td>3</td>\n",
       "    </tr>\n",
       "    <tr>\n",
       "      <th>4</th>\n",
       "      <td>Fare</td>\n",
       "      <td>42.063531</td>\n",
       "      <td>24.546184</td>\n",
       "      <td>4</td>\n",
       "      <td>4</td>\n",
       "    </tr>\n",
       "  </tbody>\n",
       "</table>\n",
       "</div>"
      ],
      "text/plain": [
       "  index     female       male  iteration  n\n",
       "0  Fare  43.462195  26.987083          0  0\n",
       "1  Fare  41.431770  25.906982          1  1\n",
       "2  Fare  40.536302  27.590799          2  2\n",
       "3  Fare  44.421407  25.357936          3  3\n",
       "4  Fare  42.063531  24.546184          4  4"
      ]
     },
     "execution_count": 15,
     "metadata": {},
     "output_type": "execute_result"
    }
   ],
   "source": [
    "rdf.head()"
   ]
  },
  {
   "cell_type": "markdown",
   "id": "6bdb92c9",
   "metadata": {},
   "source": [
    "So, `Bootstrap` took subsamples of our task and computed means for each of them, creating the distribution of means:"
   ]
  },
  {
   "cell_type": "code",
   "execution_count": 16,
   "id": "c05326be",
   "metadata": {
    "execution": {
     "iopub.execute_input": "2022-06-27T19:42:37.205689Z",
     "iopub.status.busy": "2022-06-27T19:42:37.205287Z",
     "iopub.status.idle": "2022-06-27T19:42:37.346856Z",
     "shell.execute_reply": "2022-06-27T19:42:37.346338Z"
    }
   },
   "outputs": [
    {
     "data": {
      "text/plain": [
       "<AxesSubplot:>"
      ]
     },
     "execution_count": 16,
     "metadata": {},
     "output_type": "execute_result"
    },
    {
     "data": {
      "image/png": "[encoded data removed]",
      "text/plain": [
       "<Figure size 432x288 with 1 Axes>"
      ]
     },
     "metadata": {
      "needs_background": "light"
     },
     "output_type": "display_data"
    }
   ],
   "source": [
    "rdf.female.hist()\n",
    "rdf.male.hist()"
   ]
  },
  {
   "cell_type": "markdown",
   "id": "a146a250",
   "metadata": {},
   "source": [
    "Those are normal, and bootsraping guarantees it (providing that mean value exists and enough samples are taken). \n",
    "\n",
    "So, we can use confidence intervals for normal distribution:"
   ]
  },
  {
   "cell_type": "code",
   "execution_count": 17,
   "id": "bd45e37e",
   "metadata": {
    "execution": {
     "iopub.execute_input": "2022-06-27T19:42:37.357638Z",
     "iopub.status.busy": "2022-06-27T19:42:37.351760Z",
     "iopub.status.idle": "2022-06-27T19:42:37.359675Z",
     "shell.execute_reply": "2022-06-27T19:42:37.359988Z"
    }
   },
   "outputs": [
    {
     "data": {
      "text/html": [
       "<div>\n",
       "<style scoped>\n",
       "    .dataframe tbody tr th:only-of-type {\n",
       "        vertical-align: middle;\n",
       "    }\n",
       "\n",
       "    .dataframe tbody tr th {\n",
       "        vertical-align: top;\n",
       "    }\n",
       "\n",
       "    .dataframe thead th {\n",
       "        text-align: right;\n",
       "    }\n",
       "</style>\n",
       "<table border=\"1\" class=\"dataframe\">\n",
       "  <thead>\n",
       "    <tr style=\"text-align: right;\">\n",
       "      <th></th>\n",
       "      <th>female_lower</th>\n",
       "      <th>female_upper</th>\n",
       "      <th>female_value</th>\n",
       "      <th>female_error</th>\n",
       "      <th>male_lower</th>\n",
       "      <th>male_upper</th>\n",
       "      <th>male_value</th>\n",
       "      <th>male_error</th>\n",
       "    </tr>\n",
       "  </thead>\n",
       "  <tbody>\n",
       "    <tr>\n",
       "      <th>0</th>\n",
       "      <td>39.053246</td>\n",
       "      <td>50.985264</td>\n",
       "      <td>45.019255</td>\n",
       "      <td>5.966009</td>\n",
       "      <td>22.117442</td>\n",
       "      <td>29.279721</td>\n",
       "      <td>25.698581</td>\n",
       "      <td>3.581139</td>\n",
       "    </tr>\n",
       "  </tbody>\n",
       "</table>\n",
       "</div>"
      ],
      "text/plain": [
       "   female_lower  female_upper  female_value  female_error  male_lower  \\\n",
       "0     39.053246     50.985264     45.019255      5.966009   22.117442   \n",
       "\n",
       "   male_upper  male_value  male_error  \n",
       "0   29.279721   25.698581    3.581139  "
      ]
     },
     "execution_count": 17,
     "metadata": {},
     "output_type": "execute_result"
    }
   ],
   "source": [
    "rdf[['female','male']].feed(Aggregators.normal_confint())"
   ]
  },
  {
   "cell_type": "markdown",
   "id": "23e95cf4",
   "metadata": {},
   "source": [
    "When data are computed this way, it's not really easy to visualize, so:"
   ]
  },
  {
   "cell_type": "code",
   "execution_count": 18,
   "id": "046198b5",
   "metadata": {
    "execution": {
     "iopub.execute_input": "2022-06-27T19:42:37.365631Z",
     "iopub.status.busy": "2022-06-27T19:42:37.364912Z",
     "iopub.status.idle": "2022-06-27T19:42:37.554509Z",
     "shell.execute_reply": "2022-06-27T19:42:37.554839Z"
    }
   },
   "outputs": [
    {
     "data": {
      "text/plain": [
       "<AxesSubplot:xlabel='sex', ylabel='fare_value'>"
      ]
     },
     "execution_count": 18,
     "metadata": {},
     "output_type": "execute_result"
    },
    {
     "data": {
      "image/png": "[encoded data removed]",
      "text/plain": [
       "<Figure size 432x288 with 1 Axes>"
      ]
     },
     "metadata": {
      "needs_background": "light"
     },
     "output_type": "display_data"
    }
   ],
   "source": [
    "rdf1 = rdf[['female','male']].unstack().to_frame().reset_index()\n",
    "rdf1.columns=['sex','iteration','fare']\n",
    "\n",
    "grbar_plot(\n",
    "    rdf1.groupby('sex').fare.feed(Aggregators.normal_confint()).reset_index(),\n",
    "    value_column='fare_value',\n",
    "    error_column='fare_error',\n",
    "    group_column='sex'\n",
    ")"
   ]
  },
  {
   "cell_type": "markdown",
   "id": "d64423d5",
   "metadata": {},
   "source": [
    "The confidence intervals do not intersect (which, honestly, was quite visible from histogram), thus, the difference is significant."
   ]
  }
 ],
 "metadata": {
  "kernelspec": {
   "display_name": "Python 3 (ipykernel)",
   "language": "python",
   "name": "python3"
  },
  "language_info": {
   "codemirror_mode": {
    "name": "ipython",
    "version": 3
   },
   "file_extension": ".py",
   "mimetype": "text/x-python",
   "name": "python",
   "nbconvert_exporter": "python",
   "pygments_lexer": "ipython3",
   "version": "3.8.13"
  },
  "widgets": {
   "application/vnd.jupyter.widget-state+json": {
    "state": {
     "0d871d2a96ef4945a3ed253893eb04e5": {
      "model_module": "@jupyter-widgets/controls",
      "model_module_version": "1.5.0",
      "model_name": "DescriptionStyleModel",
      "state": {
       "_model_module": "@jupyter-widgets/controls",
       "_model_module_version": "1.5.0",
       "_model_name": "DescriptionStyleModel",
       "_view_count": null,
       "_view_module": "@jupyter-widgets/base",
       "_view_module_version": "1.2.0",
       "_view_name": "StyleView",
       "description_width": ""
      }
     },
     "14ed57c73ad4462381850a33adce9e14": {
      "model_module": "@jupyter-widgets/base",
      "model_module_version": "1.2.0",
      "model_name": "LayoutModel",
      "state": {
       "_model_module": "@jupyter-widgets/base",
       "_model_module_version": "1.2.0",
       "_model_name": "LayoutModel",
       "_view_count": null,
       "_view_module": "@jupyter-widgets/base",
       "_view_module_version": "1.2.0",
       "_view_name": "LayoutView",
       "align_content": null,
       "align_items": null,
       "align_self": null,
       "border": null,
       "bottom": null,
       "display": null,
       "flex": null,
       "flex_flow": null,
       "grid_area": null,
       "grid_auto_columns": null,
       "grid_auto_flow": null,
       "grid_auto_rows": null,
       "grid_column": null,
       "grid_gap": null,
       "grid_row": null,
       "grid_template_areas": null,
       "grid_template_columns": null,
       "grid_template_rows": null,
       "height": null,
       "justify_content": null,
       "justify_items": null,
       "left": null,
       "margin": null,
       "max_height": null,
       "max_width": null,
       "min_height": null,
       "min_width": null,
       "object_fit": null,
       "object_position": null,
       "order": null,
       "overflow": null,
       "overflow_x": null,
       "overflow_y": null,
       "padding": null,
       "right": null,
       "top": null,
       "visibility": null,
       "width": null
      }
     },
     "18f7943e269e4e6ea0774fc81d0b39c4": {
      "model_module": "@jupyter-widgets/controls",
      "model_module_version": "1.5.0",
      "model_name": "HTMLModel",
      "state": {
       "_dom_classes": [],
       "_model_module": "@jupyter-widgets/controls",
       "_model_module_version": "1.5.0",
       "_model_name": "HTMLModel",
       "_view_count": null,
       "_view_module": "@jupyter-widgets/controls",
       "_view_module_version": "1.5.0",
       "_view_name": "HTMLView",
       "description": "",
       "description_tooltip": null,
       "layout": "IPY_MODEL_f77d8fcfb20a49968b6d0cb94e406fc0",
       "placeholder": "​",
       "style": "IPY_MODEL_ea2b81ae156c4ba98022cffc03290b71",
       "value": "100%"
      }
     },
     "27fd5cd11acc4c5a97c2caea1b01d47c": {
      "model_module": "@jupyter-widgets/controls",
      "model_module_version": "1.5.0",
      "model_name": "ProgressStyleModel",
      "state": {
       "_model_module": "@jupyter-widgets/controls",
       "_model_module_version": "1.5.0",
       "_model_name": "ProgressStyleModel",
       "_view_count": null,
       "_view_module": "@jupyter-widgets/base",
       "_view_module_version": "1.2.0",
       "_view_name": "StyleView",
       "bar_color": null,
       "description_width": ""
      }
     },
     "28d8ffbae69747c1b473ffc83de78a40": {
      "model_module": "@jupyter-widgets/controls",
      "model_module_version": "1.5.0",
      "model_name": "HBoxModel",
      "state": {
       "_dom_classes": [],
       "_model_module": "@jupyter-widgets/controls",
       "_model_module_version": "1.5.0",
       "_model_name": "HBoxModel",
       "_view_count": null,
       "_view_module": "@jupyter-widgets/controls",
       "_view_module_version": "1.5.0",
       "_view_name": "HBoxView",
       "box_style": "",
       "children": [
        "IPY_MODEL_5876c708a8564a869654239f65eda12c",
        "IPY_MODEL_72058b5f49684f35a885709c9cd955cc",
        "IPY_MODEL_eca06ae666a54884bb17c2fd405b66b3"
       ],
       "layout": "IPY_MODEL_d0cc887630f442089087cfeb827c62b4"
      }
     },
     "2d10189763f44f4695581ba087b19586": {
      "model_module": "@jupyter-widgets/controls",
      "model_module_version": "1.5.0",
      "model_name": "HBoxModel",
      "state": {
       "_dom_classes": [],
       "_model_module": "@jupyter-widgets/controls",
       "_model_module_version": "1.5.0",
       "_model_name": "HBoxModel",
       "_view_count": null,
       "_view_module": "@jupyter-widgets/controls",
       "_view_module_version": "1.5.0",
       "_view_name": "HBoxView",
       "box_style": "",
       "children": [
        "IPY_MODEL_18f7943e269e4e6ea0774fc81d0b39c4",
        "IPY_MODEL_ebe84200f9184b4983d753f8d4b2681d",
        "IPY_MODEL_53cb2696026d4637886db97987fd76a8"
       ],
       "layout": "IPY_MODEL_cff1be1f26594b0fa99ecca8f73d8b46"
      }
     },
     "4a7e7062ff1d4a05b7c04601487c6282": {
      "model_module": "@jupyter-widgets/base",
      "model_module_version": "1.2.0",
      "model_name": "LayoutModel",
      "state": {
       "_model_module": "@jupyter-widgets/base",
       "_model_module_version": "1.2.0",
       "_model_name": "LayoutModel",
       "_view_count": null,
       "_view_module": "@jupyter-widgets/base",
       "_view_module_version": "1.2.0",
       "_view_name": "LayoutView",
       "align_content": null,
       "align_items": null,
       "align_self": null,
       "border": null,
       "bottom": null,
       "display": null,
       "flex": null,
       "flex_flow": null,
       "grid_area": null,
       "grid_auto_columns": null,
       "grid_auto_flow": null,
       "grid_auto_rows": null,
       "grid_column": null,
       "grid_gap": null,
       "grid_row": null,
       "grid_template_areas": null,
       "grid_template_columns": null,
       "grid_template_rows": null,
       "height": null,
       "justify_content": null,
       "justify_items": null,
       "left": null,
       "margin": null,
       "max_height": null,
       "max_width": null,
       "min_height": null,
       "min_width": null,
       "object_fit": null,
       "object_position": null,
       "order": null,
       "overflow": null,
       "overflow_x": null,
       "overflow_y": null,
       "padding": null,
       "right": null,
       "top": null,
       "visibility": null,
       "width": null
      }
     },
     "4d28e1ecc27b41c197e04f725033d51b": {
      "model_module": "@jupyter-widgets/controls",
      "model_module_version": "1.5.0",
      "model_name": "DescriptionStyleModel",
      "state": {
       "_model_module": "@jupyter-widgets/controls",
       "_model_module_version": "1.5.0",
       "_model_name": "DescriptionStyleModel",
       "_view_count": null,
       "_view_module": "@jupyter-widgets/base",
       "_view_module_version": "1.2.0",
       "_view_name": "StyleView",
       "description_width": ""
      }
     },
     "5228c5aaf57841be9393baae820d168b": {
      "model_module": "@jupyter-widgets/base",
      "model_module_version": "1.2.0",
      "model_name": "LayoutModel",
      "state": {
       "_model_module": "@jupyter-widgets/base",
       "_model_module_version": "1.2.0",
       "_model_name": "LayoutModel",
       "_view_count": null,
       "_view_module": "@jupyter-widgets/base",
       "_view_module_version": "1.2.0",
       "_view_name": "LayoutView",
       "align_content": null,
       "align_items": null,
       "align_self": null,
       "border": null,
       "bottom": null,
       "display": null,
       "flex": null,
       "flex_flow": null,
       "grid_area": null,
       "grid_auto_columns": null,
       "grid_auto_flow": null,
       "grid_auto_rows": null,
       "grid_column": null,
       "grid_gap": null,
       "grid_row": null,
       "grid_template_areas": null,
       "grid_template_columns": null,
       "grid_template_rows": null,
       "height": null,
       "justify_content": null,
       "justify_items": null,
       "left": null,
       "margin": null,
       "max_height": null,
       "max_width": null,
       "min_height": null,
       "min_width": null,
       "object_fit": null,
       "object_position": null,
       "order": null,
       "overflow": null,
       "overflow_x": null,
       "overflow_y": null,
       "padding": null,
       "right": null,
       "top": null,
       "visibility": null,
       "width": null
      }
     },
     "53cb2696026d4637886db97987fd76a8": {
      "model_module": "@jupyter-widgets/controls",
      "model_module_version": "1.5.0",
      "model_name": "HTMLModel",
      "state": {
       "_dom_classes": [],
       "_model_module": "@jupyter-widgets/controls",
       "_model_module_version": "1.5.0",
       "_model_name": "HTMLModel",
       "_view_count": null,
       "_view_module": "@jupyter-widgets/controls",
       "_view_module_version": "1.5.0",
       "_view_name": "HTMLView",
       "description": "",
       "description_tooltip": null,
       "layout": "IPY_MODEL_4a7e7062ff1d4a05b7c04601487c6282",
       "placeholder": "​",
       "style": "IPY_MODEL_4d28e1ecc27b41c197e04f725033d51b",
       "value": " 1000/1000 [00:08&lt;00:00, 319.75it/s]"
      }
     },
     "5876c708a8564a869654239f65eda12c": {
      "model_module": "@jupyter-widgets/controls",
      "model_module_version": "1.5.0",
      "model_name": "HTMLModel",
      "state": {
       "_dom_classes": [],
       "_model_module": "@jupyter-widgets/controls",
       "_model_module_version": "1.5.0",
       "_model_name": "HTMLModel",
       "_view_count": null,
       "_view_module": "@jupyter-widgets/controls",
       "_view_module_version": "1.5.0",
       "_view_name": "HTMLView",
       "description": "",
       "description_tooltip": null,
       "layout": "IPY_MODEL_14ed57c73ad4462381850a33adce9e14",
       "placeholder": "​",
       "style": "IPY_MODEL_cafa3027807d44e884b2721749c653b6",
       "value": "100%"
      }
     },
     "6da0c2db17bd454f8640383ec2a5d5c8": {
      "model_module": "@jupyter-widgets/controls",
      "model_module_version": "1.5.0",
      "model_name": "ProgressStyleModel",
      "state": {
       "_model_module": "@jupyter-widgets/controls",
       "_model_module_version": "1.5.0",
       "_model_name": "ProgressStyleModel",
       "_view_count": null,
       "_view_module": "@jupyter-widgets/base",
       "_view_module_version": "1.2.0",
       "_view_name": "StyleView",
       "bar_color": null,
       "description_width": ""
      }
     },
     "72058b5f49684f35a885709c9cd955cc": {
      "model_module": "@jupyter-widgets/controls",
      "model_module_version": "1.5.0",
      "model_name": "FloatProgressModel",
      "state": {
       "_dom_classes": [],
       "_model_module": "@jupyter-widgets/controls",
       "_model_module_version": "1.5.0",
       "_model_name": "FloatProgressModel",
       "_view_count": null,
       "_view_module": "@jupyter-widgets/controls",
       "_view_module_version": "1.5.0",
       "_view_name": "ProgressView",
       "bar_style": "success",
       "description": "",
       "description_tooltip": null,
       "layout": "IPY_MODEL_5228c5aaf57841be9393baae820d168b",
       "max": 200.0,
       "min": 0.0,
       "orientation": "horizontal",
       "style": "IPY_MODEL_27fd5cd11acc4c5a97c2caea1b01d47c",
       "value": 200.0
      }
     },
     "b7c4ce2c675a46aba5e3eaeb93bcc17e": {
      "model_module": "@jupyter-widgets/base",
      "model_module_version": "1.2.0",
      "model_name": "LayoutModel",
      "state": {
       "_model_module": "@jupyter-widgets/base",
       "_model_module_version": "1.2.0",
       "_model_name": "LayoutModel",
       "_view_count": null,
       "_view_module": "@jupyter-widgets/base",
       "_view_module_version": "1.2.0",
       "_view_name": "LayoutView",
       "align_content": null,
       "align_items": null,
       "align_self": null,
       "border": null,
       "bottom": null,
       "display": null,
       "flex": null,
       "flex_flow": null,
       "grid_area": null,
       "grid_auto_columns": null,
       "grid_auto_flow": null,
       "grid_auto_rows": null,
       "grid_column": null,
       "grid_gap": null,
       "grid_row": null,
       "grid_template_areas": null,
       "grid_template_columns": null,
       "grid_template_rows": null,
       "height": null,
       "justify_content": null,
       "justify_items": null,
       "left": null,
       "margin": null,
       "max_height": null,
       "max_width": null,
       "min_height": null,
       "min_width": null,
       "object_fit": null,
       "object_position": null,
       "order": null,
       "overflow": null,
       "overflow_x": null,
       "overflow_y": null,
       "padding": null,
       "right": null,
       "top": null,
       "visibility": null,
       "width": null
      }
     },
     "c988932744f5463690762ec282c0783b": {
      "model_module": "@jupyter-widgets/base",
      "model_module_version": "1.2.0",
      "model_name": "LayoutModel",
      "state": {
       "_model_module": "@jupyter-widgets/base",
       "_model_module_version": "1.2.0",
       "_model_name": "LayoutModel",
       "_view_count": null,
       "_view_module": "@jupyter-widgets/base",
       "_view_module_version": "1.2.0",
       "_view_name": "LayoutView",
       "align_content": null,
       "align_items": null,
       "align_self": null,
       "border": null,
       "bottom": null,
       "display": null,
       "flex": null,
       "flex_flow": null,
       "grid_area": null,
       "grid_auto_columns": null,
       "grid_auto_flow": null,
       "grid_auto_rows": null,
       "grid_column": null,
       "grid_gap": null,
       "grid_row": null,
       "grid_template_areas": null,
       "grid_template_columns": null,
       "grid_template_rows": null,
       "height": null,
       "justify_content": null,
       "justify_items": null,
       "left": null,
       "margin": null,
       "max_height": null,
       "max_width": null,
       "min_height": null,
       "min_width": null,
       "object_fit": null,
       "object_position": null,
       "order": null,
       "overflow": null,
       "overflow_x": null,
       "overflow_y": null,
       "padding": null,
       "right": null,
       "top": null,
       "visibility": null,
       "width": null
      }
     },
     "cafa3027807d44e884b2721749c653b6": {
      "model_module": "@jupyter-widgets/controls",
      "model_module_version": "1.5.0",
      "model_name": "DescriptionStyleModel",
      "state": {
       "_model_module": "@jupyter-widgets/controls",
       "_model_module_version": "1.5.0",
       "_model_name": "DescriptionStyleModel",
       "_view_count": null,
       "_view_module": "@jupyter-widgets/base",
       "_view_module_version": "1.2.0",
       "_view_name": "StyleView",
       "description_width": ""
      }
     },
     "cff1be1f26594b0fa99ecca8f73d8b46": {
      "model_module": "@jupyter-widgets/base",
      "model_module_version": "1.2.0",
      "model_name": "LayoutModel",
      "state": {
       "_model_module": "@jupyter-widgets/base",
       "_model_module_version": "1.2.0",
       "_model_name": "LayoutModel",
       "_view_count": null,
       "_view_module": "@jupyter-widgets/base",
       "_view_module_version": "1.2.0",
       "_view_name": "LayoutView",
       "align_content": null,
       "align_items": null,
       "align_self": null,
       "border": null,
       "bottom": null,
       "display": null,
       "flex": null,
       "flex_flow": null,
       "grid_area": null,
       "grid_auto_columns": null,
       "grid_auto_flow": null,
       "grid_auto_rows": null,
       "grid_column": null,
       "grid_gap": null,
       "grid_row": null,
       "grid_template_areas": null,
       "grid_template_columns": null,
       "grid_template_rows": null,
       "height": null,
       "justify_content": null,
       "justify_items": null,
       "left": null,
       "margin": null,
       "max_height": null,
       "max_width": null,
       "min_height": null,
       "min_width": null,
       "object_fit": null,
       "object_position": null,
       "order": null,
       "overflow": null,
       "overflow_x": null,
       "overflow_y": null,
       "padding": null,
       "right": null,
       "top": null,
       "visibility": null,
       "width": null
      }
     },
     "d0cc887630f442089087cfeb827c62b4": {
      "model_module": "@jupyter-widgets/base",
      "model_module_version": "1.2.0",
      "model_name": "LayoutModel",
      "state": {
       "_model_module": "@jupyter-widgets/base",
       "_model_module_version": "1.2.0",
       "_model_name": "LayoutModel",
       "_view_count": null,
       "_view_module": "@jupyter-widgets/base",
       "_view_module_version": "1.2.0",
       "_view_name": "LayoutView",
       "align_content": null,
       "align_items": null,
       "align_self": null,
       "border": null,
       "bottom": null,
       "display": null,
       "flex": null,
       "flex_flow": null,
       "grid_area": null,
       "grid_auto_columns": null,
       "grid_auto_flow": null,
       "grid_auto_rows": null,
       "grid_column": null,
       "grid_gap": null,
       "grid_row": null,
       "grid_template_areas": null,
       "grid_template_columns": null,
       "grid_template_rows": null,
       "height": null,
       "justify_content": null,
       "justify_items": null,
       "left": null,
       "margin": null,
       "max_height": null,
       "max_width": null,
       "min_height": null,
       "min_width": null,
       "object_fit": null,
       "object_position": null,
       "order": null,
       "overflow": null,
       "overflow_x": null,
       "overflow_y": null,
       "padding": null,
       "right": null,
       "top": null,
       "visibility": null,
       "width": null
      }
     },
     "ea2b81ae156c4ba98022cffc03290b71": {
      "model_module": "@jupyter-widgets/controls",
      "model_module_version": "1.5.0",
      "model_name": "DescriptionStyleModel",
      "state": {
       "_model_module": "@jupyter-widgets/controls",
       "_model_module_version": "1.5.0",
       "_model_name": "DescriptionStyleModel",
       "_view_count": null,
       "_view_module": "@jupyter-widgets/base",
       "_view_module_version": "1.2.0",
       "_view_name": "StyleView",
       "description_width": ""
      }
     },
     "ebe84200f9184b4983d753f8d4b2681d": {
      "model_module": "@jupyter-widgets/controls",
      "model_module_version": "1.5.0",
      "model_name": "FloatProgressModel",
      "state": {
       "_dom_classes": [],
       "_model_module": "@jupyter-widgets/controls",
       "_model_module_version": "1.5.0",
       "_model_name": "FloatProgressModel",
       "_view_count": null,
       "_view_module": "@jupyter-widgets/controls",
       "_view_module_version": "1.5.0",
       "_view_name": "ProgressView",
       "bar_style": "success",
       "description": "",
       "description_tooltip": null,
       "layout": "IPY_MODEL_b7c4ce2c675a46aba5e3eaeb93bcc17e",
       "max": 1000.0,
       "min": 0.0,
       "orientation": "horizontal",
       "style": "IPY_MODEL_6da0c2db17bd454f8640383ec2a5d5c8",
       "value": 1000.0
      }
     },
     "eca06ae666a54884bb17c2fd405b66b3": {
      "model_module": "@jupyter-widgets/controls",
      "model_module_version": "1.5.0",
      "model_name": "HTMLModel",
      "state": {
       "_dom_classes": [],
       "_model_module": "@jupyter-widgets/controls",
       "_model_module_version": "1.5.0",
       "_model_name": "HTMLModel",
       "_view_count": null,
       "_view_module": "@jupyter-widgets/controls",
       "_view_module_version": "1.5.0",
       "_view_name": "HTMLView",
       "description": "",
       "description_tooltip": null,
       "layout": "IPY_MODEL_c988932744f5463690762ec282c0783b",
       "placeholder": "​",
       "style": "IPY_MODEL_0d871d2a96ef4945a3ed253893eb04e5",
       "value": " 200/200 [00:32&lt;00:00,  8.30it/s]"
      }
     },
     "f77d8fcfb20a49968b6d0cb94e406fc0": {
      "model_module": "@jupyter-widgets/base",
      "model_module_version": "1.2.0",
      "model_name": "LayoutModel",
      "state": {
       "_model_module": "@jupyter-widgets/base",
       "_model_module_version": "1.2.0",
       "_model_name": "LayoutModel",
       "_view_count": null,
       "_view_module": "@jupyter-widgets/base",
       "_view_module_version": "1.2.0",
       "_view_name": "LayoutView",
       "align_content": null,
       "align_items": null,
       "align_self": null,
       "border": null,
       "bottom": null,
       "display": null,
       "flex": null,
       "flex_flow": null,
       "grid_area": null,
       "grid_auto_columns": null,
       "grid_auto_flow": null,
       "grid_auto_rows": null,
       "grid_column": null,
       "grid_gap": null,
       "grid_row": null,
       "grid_template_areas": null,
       "grid_template_columns": null,
       "grid_template_rows": null,
       "height": null,
       "justify_content": null,
       "justify_items": null,
       "left": null,
       "margin": null,
       "max_height": null,
       "max_width": null,
       "min_height": null,
       "min_width": null,
       "object_fit": null,
       "object_position": null,
       "order": null,
       "overflow": null,
       "overflow_x": null,
       "overflow_y": null,
       "padding": null,
       "right": null,
       "top": null,
       "visibility": null,
       "width": null
      }
     }
    },
    "version_major": 2,
    "version_minor": 0
   }
  }
 },
 "nbformat": 4,
 "nbformat_minor": 5
}
