{
 "cells": [
  {
   "cell_type": "markdown",
   "id": "0e8cf332",
   "metadata": {},
   "source": [
    "# 5. Analytics tools (tg.common.analysis)"
   ]
  },
  {
   "cell_type": "markdown",
   "id": "e1bfa0ba",
   "metadata": {},
   "source": [
    "## Overview\n",
    "\n",
    "`tg.common.analysis` is a module with some helpful analytics tools, mostly around the concept of statistical significance, with the aim to make it easier to use this concept and visualize the results in the report. Currently, very few features are implemented, but those are extremely useful for the meaningful reports."
   ]
  },
  {
   "cell_type": "markdown",
   "id": "d94ce4b3",
   "metadata": {},
   "source": [
    "## `percentile_confint`\n",
    "\n",
    "\n",
    "As a model example, we will use Titanic dataset again, particularly around the question \"which features are most useful to predict the outcome\". We have demonstrated this technique in `tg.common.ml.single_frame_training`, but it's also implemented as ready to use solution in `tg.common.analytics`."
   ]
  },
  {
   "cell_type": "code",
   "execution_count": 1,
   "id": "831a4f70",
   "metadata": {
    "execution": {
     "iopub.execute_input": "2022-08-09T09:32:11.244178Z",
     "iopub.status.busy": "2022-08-09T09:32:11.243404Z",
     "iopub.status.idle": "2022-08-09T09:32:11.837941Z",
     "shell.execute_reply": "2022-08-09T09:32:11.838441Z"
    }
   },
   "outputs": [
    {
     "data": {
      "text/html": [
       "<div>\n",
       "<style scoped>\n",
       "    .dataframe tbody tr th:only-of-type {\n",
       "        vertical-align: middle;\n",
       "    }\n",
       "\n",
       "    .dataframe tbody tr th {\n",
       "        vertical-align: top;\n",
       "    }\n",
       "\n",
       "    .dataframe thead th {\n",
       "        text-align: right;\n",
       "    }\n",
       "</style>\n",
       "<table border=\"1\" class=\"dataframe\">\n",
       "  <thead>\n",
       "    <tr style=\"text-align: right;\">\n",
       "      <th></th>\n",
       "      <th>Survived</th>\n",
       "      <th>Pclass</th>\n",
       "      <th>Name</th>\n",
       "      <th>Sex</th>\n",
       "      <th>Age</th>\n",
       "      <th>SibSp</th>\n",
       "      <th>Parch</th>\n",
       "      <th>Ticket</th>\n",
       "      <th>Fare</th>\n",
       "      <th>Cabin</th>\n",
       "      <th>Embarked</th>\n",
       "    </tr>\n",
       "    <tr>\n",
       "      <th>PassengerId</th>\n",
       "      <th></th>\n",
       "      <th></th>\n",
       "      <th></th>\n",
       "      <th></th>\n",
       "      <th></th>\n",
       "      <th></th>\n",
       "      <th></th>\n",
       "      <th></th>\n",
       "      <th></th>\n",
       "      <th></th>\n",
       "      <th></th>\n",
       "    </tr>\n",
       "  </thead>\n",
       "  <tbody>\n",
       "    <tr>\n",
       "      <th>1</th>\n",
       "      <td>0.0</td>\n",
       "      <td>3.0</td>\n",
       "      <td>Braund, Mr. Owen Harris</td>\n",
       "      <td>male</td>\n",
       "      <td>22.0</td>\n",
       "      <td>1.0</td>\n",
       "      <td>0.0</td>\n",
       "      <td>A/5 21171</td>\n",
       "      <td>7.2500</td>\n",
       "      <td>NaN</td>\n",
       "      <td>S</td>\n",
       "    </tr>\n",
       "    <tr>\n",
       "      <th>2</th>\n",
       "      <td>1.0</td>\n",
       "      <td>1.0</td>\n",
       "      <td>Cumings, Mrs. John Bradley (Florence Briggs Th...</td>\n",
       "      <td>female</td>\n",
       "      <td>38.0</td>\n",
       "      <td>1.0</td>\n",
       "      <td>0.0</td>\n",
       "      <td>PC 17599</td>\n",
       "      <td>71.2833</td>\n",
       "      <td>C85</td>\n",
       "      <td>C</td>\n",
       "    </tr>\n",
       "    <tr>\n",
       "      <th>3</th>\n",
       "      <td>1.0</td>\n",
       "      <td>3.0</td>\n",
       "      <td>Heikkinen, Miss. Laina</td>\n",
       "      <td>female</td>\n",
       "      <td>26.0</td>\n",
       "      <td>0.0</td>\n",
       "      <td>0.0</td>\n",
       "      <td>STON/O2. 3101282</td>\n",
       "      <td>7.9250</td>\n",
       "      <td>NaN</td>\n",
       "      <td>S</td>\n",
       "    </tr>\n",
       "    <tr>\n",
       "      <th>4</th>\n",
       "      <td>1.0</td>\n",
       "      <td>1.0</td>\n",
       "      <td>Futrelle, Mrs. Jacques Heath (Lily May Peel)</td>\n",
       "      <td>female</td>\n",
       "      <td>35.0</td>\n",
       "      <td>1.0</td>\n",
       "      <td>0.0</td>\n",
       "      <td>113803</td>\n",
       "      <td>53.1000</td>\n",
       "      <td>C123</td>\n",
       "      <td>S</td>\n",
       "    </tr>\n",
       "    <tr>\n",
       "      <th>5</th>\n",
       "      <td>0.0</td>\n",
       "      <td>3.0</td>\n",
       "      <td>Allen, Mr. William Henry</td>\n",
       "      <td>male</td>\n",
       "      <td>35.0</td>\n",
       "      <td>0.0</td>\n",
       "      <td>0.0</td>\n",
       "      <td>373450</td>\n",
       "      <td>8.0500</td>\n",
       "      <td>NaN</td>\n",
       "      <td>S</td>\n",
       "    </tr>\n",
       "  </tbody>\n",
       "</table>\n",
       "</div>"
      ],
      "text/plain": [
       "             Survived  Pclass  \\\n",
       "PassengerId                     \n",
       "1                 0.0     3.0   \n",
       "2                 1.0     1.0   \n",
       "3                 1.0     3.0   \n",
       "4                 1.0     1.0   \n",
       "5                 0.0     3.0   \n",
       "\n",
       "                                                          Name     Sex   Age  \\\n",
       "PassengerId                                                                    \n",
       "1                                      Braund, Mr. Owen Harris    male  22.0   \n",
       "2            Cumings, Mrs. John Bradley (Florence Briggs Th...  female  38.0   \n",
       "3                                       Heikkinen, Miss. Laina  female  26.0   \n",
       "4                 Futrelle, Mrs. Jacques Heath (Lily May Peel)  female  35.0   \n",
       "5                                     Allen, Mr. William Henry    male  35.0   \n",
       "\n",
       "             SibSp  Parch            Ticket     Fare Cabin Embarked  \n",
       "PassengerId                                                          \n",
       "1              1.0    0.0         A/5 21171   7.2500   NaN        S  \n",
       "2              1.0    0.0          PC 17599  71.2833   C85        C  \n",
       "3              0.0    0.0  STON/O2. 3101282   7.9250   NaN        S  \n",
       "4              1.0    0.0            113803  53.1000  C123        S  \n",
       "5              0.0    0.0            373450   8.0500   NaN        S  "
      ]
     },
     "execution_count": 1,
     "metadata": {},
     "output_type": "execute_result"
    }
   ],
   "source": [
    "import pandas as pd\n",
    "df = pd.read_csv('titanic.csv')\n",
    "df = df.set_index('PassengerId')\n",
    "for c in ['Pclass','SibSp','Parch','Survived']:\n",
    "    df[c] = df[c].astype(float)\n",
    "df.head()"
   ]
  },
  {
   "cell_type": "code",
   "execution_count": 2,
   "id": "b4679aa5",
   "metadata": {
    "execution": {
     "iopub.execute_input": "2022-08-09T09:32:11.844068Z",
     "iopub.status.busy": "2022-08-09T09:32:11.843298Z",
     "iopub.status.idle": "2022-08-09T09:32:29.725632Z",
     "shell.execute_reply": "2022-08-09T09:32:29.725926Z"
    }
   },
   "outputs": [
    {
     "data": {
      "application/vnd.jupyter.widget-view+json": {
       "model_id": "80bf8f48793143968606a8b5ffc20adc",
       "version_major": 2,
       "version_minor": 0
      },
      "text/plain": [
       "  0%|          | 0/200 [00:00<?, ?it/s]"
      ]
     },
     "metadata": {},
     "output_type": "display_data"
    }
   ],
   "source": [
    "from tg.common.analysis import FeatureSignificance\n",
    "from tg.common import Logger\n",
    "\n",
    "Logger.disable()\n",
    "\n",
    "features = ['Pclass', 'Sex', 'Age', 'SibSp', 'Parch', 'Fare', 'Embarked']\n",
    "significance = FeatureSignificance.for_classification_task(\n",
    "    df = df,\n",
    "    features = features,\n",
    "    label = 'Survived',\n",
    "    folds_count = 200\n",
    ")"
   ]
  },
  {
   "cell_type": "code",
   "execution_count": 3,
   "id": "128d4139",
   "metadata": {
    "execution": {
     "iopub.execute_input": "2022-08-09T09:32:29.737161Z",
     "iopub.status.busy": "2022-08-09T09:32:29.736659Z",
     "iopub.status.idle": "2022-08-09T09:32:29.738707Z",
     "shell.execute_reply": "2022-08-09T09:32:29.739021Z"
    }
   },
   "outputs": [
    {
     "data": {
      "text/html": [
       "<div>\n",
       "<style scoped>\n",
       "    .dataframe tbody tr th:only-of-type {\n",
       "        vertical-align: middle;\n",
       "    }\n",
       "\n",
       "    .dataframe tbody tr th {\n",
       "        vertical-align: top;\n",
       "    }\n",
       "\n",
       "    .dataframe thead th {\n",
       "        text-align: right;\n",
       "    }\n",
       "</style>\n",
       "<table border=\"1\" class=\"dataframe\">\n",
       "  <thead>\n",
       "    <tr style=\"text-align: right;\">\n",
       "      <th></th>\n",
       "      <th>Pclass</th>\n",
       "      <th>Age</th>\n",
       "      <th>SibSp</th>\n",
       "      <th>Parch</th>\n",
       "      <th>Fare</th>\n",
       "      <th>Age_missing</th>\n",
       "      <th>Sex_male</th>\n",
       "      <th>Sex_female</th>\n",
       "      <th>Embarked_S</th>\n",
       "      <th>Embarked_C</th>\n",
       "      <th>Embarked_Q</th>\n",
       "      <th>Embarked_NULL</th>\n",
       "    </tr>\n",
       "  </thead>\n",
       "  <tbody>\n",
       "    <tr>\n",
       "      <th>0</th>\n",
       "      <td>-0.861870</td>\n",
       "      <td>-0.571329</td>\n",
       "      <td>-0.430517</td>\n",
       "      <td>-0.095062</td>\n",
       "      <td>0.062456</td>\n",
       "      <td>-0.301913</td>\n",
       "      <td>-1.334796</td>\n",
       "      <td>1.334920</td>\n",
       "      <td>-0.418228</td>\n",
       "      <td>0.062635</td>\n",
       "      <td>0.186314</td>\n",
       "      <td>0.169403</td>\n",
       "    </tr>\n",
       "    <tr>\n",
       "      <th>1</th>\n",
       "      <td>-0.985657</td>\n",
       "      <td>-0.617876</td>\n",
       "      <td>-0.347725</td>\n",
       "      <td>0.038203</td>\n",
       "      <td>-0.034456</td>\n",
       "      <td>-0.428030</td>\n",
       "      <td>-1.381279</td>\n",
       "      <td>1.381317</td>\n",
       "      <td>-0.427300</td>\n",
       "      <td>0.050905</td>\n",
       "      <td>0.243914</td>\n",
       "      <td>0.132519</td>\n",
       "    </tr>\n",
       "    <tr>\n",
       "      <th>2</th>\n",
       "      <td>-0.954792</td>\n",
       "      <td>-0.669994</td>\n",
       "      <td>-0.404068</td>\n",
       "      <td>-0.043028</td>\n",
       "      <td>-0.005523</td>\n",
       "      <td>-0.355824</td>\n",
       "      <td>-1.395271</td>\n",
       "      <td>1.395354</td>\n",
       "      <td>-0.373559</td>\n",
       "      <td>0.122871</td>\n",
       "      <td>0.050387</td>\n",
       "      <td>0.200385</td>\n",
       "    </tr>\n",
       "    <tr>\n",
       "      <th>3</th>\n",
       "      <td>-0.945720</td>\n",
       "      <td>-0.658512</td>\n",
       "      <td>-0.478880</td>\n",
       "      <td>-0.050786</td>\n",
       "      <td>0.294873</td>\n",
       "      <td>-0.200040</td>\n",
       "      <td>-1.372717</td>\n",
       "      <td>1.372751</td>\n",
       "      <td>-0.461177</td>\n",
       "      <td>0.151009</td>\n",
       "      <td>0.210827</td>\n",
       "      <td>0.099375</td>\n",
       "    </tr>\n",
       "    <tr>\n",
       "      <th>4</th>\n",
       "      <td>-0.877177</td>\n",
       "      <td>-0.507637</td>\n",
       "      <td>-0.273289</td>\n",
       "      <td>-0.022627</td>\n",
       "      <td>0.099942</td>\n",
       "      <td>-0.472386</td>\n",
       "      <td>-1.226026</td>\n",
       "      <td>1.226146</td>\n",
       "      <td>-0.434261</td>\n",
       "      <td>0.054348</td>\n",
       "      <td>0.209524</td>\n",
       "      <td>0.170508</td>\n",
       "    </tr>\n",
       "  </tbody>\n",
       "</table>\n",
       "</div>"
      ],
      "text/plain": [
       "     Pclass       Age     SibSp     Parch      Fare  Age_missing  Sex_male  \\\n",
       "0 -0.861870 -0.571329 -0.430517 -0.095062  0.062456    -0.301913 -1.334796   \n",
       "1 -0.985657 -0.617876 -0.347725  0.038203 -0.034456    -0.428030 -1.381279   \n",
       "2 -0.954792 -0.669994 -0.404068 -0.043028 -0.005523    -0.355824 -1.395271   \n",
       "3 -0.945720 -0.658512 -0.478880 -0.050786  0.294873    -0.200040 -1.372717   \n",
       "4 -0.877177 -0.507637 -0.273289 -0.022627  0.099942    -0.472386 -1.226026   \n",
       "\n",
       "   Sex_female  Embarked_S  Embarked_C  Embarked_Q  Embarked_NULL  \n",
       "0    1.334920   -0.418228    0.062635    0.186314       0.169403  \n",
       "1    1.381317   -0.427300    0.050905    0.243914       0.132519  \n",
       "2    1.395354   -0.373559    0.122871    0.050387       0.200385  \n",
       "3    1.372751   -0.461177    0.151009    0.210827       0.099375  \n",
       "4    1.226146   -0.434261    0.054348    0.209524       0.170508  "
      ]
     },
     "execution_count": 3,
     "metadata": {},
     "output_type": "execute_result"
    }
   ],
   "source": [
    "significance.head()"
   ]
  },
  {
   "cell_type": "code",
   "execution_count": 4,
   "id": "8777c276",
   "metadata": {
    "execution": {
     "iopub.execute_input": "2022-08-09T09:32:29.742621Z",
     "iopub.status.busy": "2022-08-09T09:32:29.742229Z",
     "iopub.status.idle": "2022-08-09T09:32:30.184580Z",
     "shell.execute_reply": "2022-08-09T09:32:30.184934Z"
    }
   },
   "outputs": [
    {
     "data": {
      "image/png": "[encoded data removed]",
      "text/plain": [
       "<Figure size 1440x360 with 1 Axes>"
      ]
     },
     "metadata": {
      "needs_background": "light"
     },
     "output_type": "display_data"
    }
   ],
   "source": [
    "from matplotlib import pyplot as plt\n",
    "from seaborn import violinplot\n",
    "\n",
    "_, ax = plt.subplots(1,1,figsize=(20,5))\n",
    "violinplot(data=significance, ax=ax)\n",
    "pass"
   ]
  },
  {
   "cell_type": "markdown",
   "id": "3b0cc147",
   "metadata": {},
   "source": [
    "We see that some of the feature are reallyfar from zero (like `Sex_male` and `Sex_female`), but some others are near and it's hard to say, if there are significant. To answer this question, we can build a confidence intervals:"
   ]
  },
  {
   "cell_type": "code",
   "execution_count": 5,
   "id": "49456f98",
   "metadata": {
    "execution": {
     "iopub.execute_input": "2022-08-09T09:32:30.189393Z",
     "iopub.status.busy": "2022-08-09T09:32:30.188760Z",
     "iopub.status.idle": "2022-08-09T09:32:30.198139Z",
     "shell.execute_reply": "2022-08-09T09:32:30.197795Z"
    }
   },
   "outputs": [
    {
     "data": {
      "text/html": [
       "<div>\n",
       "<style scoped>\n",
       "    .dataframe tbody tr th:only-of-type {\n",
       "        vertical-align: middle;\n",
       "    }\n",
       "\n",
       "    .dataframe tbody tr th {\n",
       "        vertical-align: top;\n",
       "    }\n",
       "\n",
       "    .dataframe thead th {\n",
       "        text-align: right;\n",
       "    }\n",
       "</style>\n",
       "<table border=\"1\" class=\"dataframe\">\n",
       "  <thead>\n",
       "    <tr style=\"text-align: right;\">\n",
       "      <th></th>\n",
       "      <th>feature</th>\n",
       "      <th>experiment</th>\n",
       "      <th>value</th>\n",
       "    </tr>\n",
       "  </thead>\n",
       "  <tbody>\n",
       "    <tr>\n",
       "      <th>0</th>\n",
       "      <td>Pclass</td>\n",
       "      <td>0</td>\n",
       "      <td>-0.861870</td>\n",
       "    </tr>\n",
       "    <tr>\n",
       "      <th>1</th>\n",
       "      <td>Pclass</td>\n",
       "      <td>1</td>\n",
       "      <td>-0.985657</td>\n",
       "    </tr>\n",
       "    <tr>\n",
       "      <th>2</th>\n",
       "      <td>Pclass</td>\n",
       "      <td>2</td>\n",
       "      <td>-0.954792</td>\n",
       "    </tr>\n",
       "    <tr>\n",
       "      <th>3</th>\n",
       "      <td>Pclass</td>\n",
       "      <td>3</td>\n",
       "      <td>-0.945720</td>\n",
       "    </tr>\n",
       "    <tr>\n",
       "      <th>4</th>\n",
       "      <td>Pclass</td>\n",
       "      <td>4</td>\n",
       "      <td>-0.877177</td>\n",
       "    </tr>\n",
       "  </tbody>\n",
       "</table>\n",
       "</div>"
      ],
      "text/plain": [
       "  feature  experiment     value\n",
       "0  Pclass           0 -0.861870\n",
       "1  Pclass           1 -0.985657\n",
       "2  Pclass           2 -0.954792\n",
       "3  Pclass           3 -0.945720\n",
       "4  Pclass           4 -0.877177"
      ]
     },
     "execution_count": 5,
     "metadata": {},
     "output_type": "execute_result"
    }
   ],
   "source": [
    "sdf = significance.unstack().to_frame().reset_index()\n",
    "sdf.columns = ['feature','experiment','value']\n",
    "sdf.head()"
   ]
  },
  {
   "cell_type": "code",
   "execution_count": 6,
   "id": "d0302970",
   "metadata": {
    "execution": {
     "iopub.execute_input": "2022-08-09T09:32:30.202856Z",
     "iopub.status.busy": "2022-08-09T09:32:30.201540Z",
     "iopub.status.idle": "2022-08-09T09:32:30.214024Z",
     "shell.execute_reply": "2022-08-09T09:32:30.213691Z"
    }
   },
   "outputs": [
    {
     "data": {
      "text/html": [
       "<div>\n",
       "<style scoped>\n",
       "    .dataframe tbody tr th:only-of-type {\n",
       "        vertical-align: middle;\n",
       "    }\n",
       "\n",
       "    .dataframe tbody tr th {\n",
       "        vertical-align: top;\n",
       "    }\n",
       "\n",
       "    .dataframe thead th {\n",
       "        text-align: right;\n",
       "    }\n",
       "</style>\n",
       "<table border=\"1\" class=\"dataframe\">\n",
       "  <thead>\n",
       "    <tr style=\"text-align: right;\">\n",
       "      <th></th>\n",
       "      <th>feature</th>\n",
       "      <th>value_lower</th>\n",
       "      <th>value_upper</th>\n",
       "      <th>value_value</th>\n",
       "      <th>value_error</th>\n",
       "    </tr>\n",
       "  </thead>\n",
       "  <tbody>\n",
       "    <tr>\n",
       "      <th>0</th>\n",
       "      <td>Age</td>\n",
       "      <td>-0.670278</td>\n",
       "      <td>-0.440688</td>\n",
       "      <td>-0.555483</td>\n",
       "      <td>0.114795</td>\n",
       "    </tr>\n",
       "    <tr>\n",
       "      <th>1</th>\n",
       "      <td>Age_missing</td>\n",
       "      <td>-0.482734</td>\n",
       "      <td>-0.031772</td>\n",
       "      <td>-0.257253</td>\n",
       "      <td>0.225481</td>\n",
       "    </tr>\n",
       "    <tr>\n",
       "      <th>2</th>\n",
       "      <td>Embarked_C</td>\n",
       "      <td>-0.080599</td>\n",
       "      <td>0.239275</td>\n",
       "      <td>0.079338</td>\n",
       "      <td>0.159937</td>\n",
       "    </tr>\n",
       "    <tr>\n",
       "      <th>3</th>\n",
       "      <td>Embarked_NULL</td>\n",
       "      <td>NaN</td>\n",
       "      <td>NaN</td>\n",
       "      <td>NaN</td>\n",
       "      <td>NaN</td>\n",
       "    </tr>\n",
       "    <tr>\n",
       "      <th>4</th>\n",
       "      <td>Embarked_Q</td>\n",
       "      <td>-0.080665</td>\n",
       "      <td>0.360177</td>\n",
       "      <td>0.139756</td>\n",
       "      <td>0.220421</td>\n",
       "    </tr>\n",
       "  </tbody>\n",
       "</table>\n",
       "</div>"
      ],
      "text/plain": [
       "         feature  value_lower  value_upper  value_value  value_error\n",
       "0            Age    -0.670278    -0.440688    -0.555483     0.114795\n",
       "1    Age_missing    -0.482734    -0.031772    -0.257253     0.225481\n",
       "2     Embarked_C    -0.080599     0.239275     0.079338     0.159937\n",
       "3  Embarked_NULL          NaN          NaN          NaN          NaN\n",
       "4     Embarked_Q    -0.080665     0.360177     0.139756     0.220421"
      ]
     },
     "execution_count": 6,
     "metadata": {},
     "output_type": "execute_result"
    }
   ],
   "source": [
    "from tg.common.analysis import Aggregators\n",
    "sdf1 = sdf.groupby('feature').value.feed(Aggregators.percentile_confint(pValue=0.9)).reset_index()\n",
    "sdf1.head()"
   ]
  },
  {
   "cell_type": "markdown",
   "id": "2777232a",
   "metadata": {},
   "source": [
    "This aggregator is essentially doing what `mean` or `std` functions do, but for statistical significance. \n",
    "\n",
    "Now, we can use `grbar_plot` for visualization:"
   ]
  },
  {
   "cell_type": "code",
   "execution_count": 7,
   "id": "f20c5a39",
   "metadata": {
    "execution": {
     "iopub.execute_input": "2022-08-09T09:32:30.229322Z",
     "iopub.status.busy": "2022-08-09T09:32:30.225845Z",
     "iopub.status.idle": "2022-08-09T09:32:30.401737Z",
     "shell.execute_reply": "2022-08-09T09:32:30.402119Z"
    }
   },
   "outputs": [
    {
     "data": {
      "text/plain": [
       "<AxesSubplot:xlabel='value_value', ylabel='feature'>"
      ]
     },
     "execution_count": 7,
     "metadata": {},
     "output_type": "execute_result"
    },
    {
     "data": {
      "image/png": "[encoded data removed]",
      "text/plain": [
       "<Figure size 432x288 with 1 Axes>"
      ]
     },
     "metadata": {
      "needs_background": "light"
     },
     "output_type": "display_data"
    }
   ],
   "source": [
    "from tg.common.analysis import grbar_plot\n",
    "\n",
    "grbar_plot(\n",
    "    sdf1.loc[sdf1.value_upper*sdf1.value_lower>0].sort_values('value_upper'), \n",
    "    value_column='value_value', \n",
    "    error_column='value_error', \n",
    "    group_column='feature', orient='h'\n",
    ")"
   ]
  },
  {
   "cell_type": "markdown",
   "id": "c479369c",
   "metadata": {},
   "source": [
    "## `proportion_confint`"
   ]
  },
  {
   "cell_type": "markdown",
   "id": "265ad143",
   "metadata": {},
   "source": [
    "Aside from `percentile_confint`, which builds a confidence interval by simply computing the borders in which the proper amount of values fall, there is `proportion_confint` that uses the formula for Bernoulli distribution."
   ]
  },
  {
   "cell_type": "code",
   "execution_count": 8,
   "id": "d0aba6e4",
   "metadata": {
    "execution": {
     "iopub.execute_input": "2022-08-09T09:32:30.405353Z",
     "iopub.status.busy": "2022-08-09T09:32:30.404505Z",
     "iopub.status.idle": "2022-08-09T09:32:30.416459Z",
     "shell.execute_reply": "2022-08-09T09:32:30.417097Z"
    }
   },
   "outputs": [
    {
     "data": {
      "text/html": [
       "<div>\n",
       "<style scoped>\n",
       "    .dataframe tbody tr th:only-of-type {\n",
       "        vertical-align: middle;\n",
       "    }\n",
       "\n",
       "    .dataframe tbody tr th {\n",
       "        vertical-align: top;\n",
       "    }\n",
       "\n",
       "    .dataframe thead th {\n",
       "        text-align: right;\n",
       "    }\n",
       "</style>\n",
       "<table border=\"1\" class=\"dataframe\">\n",
       "  <thead>\n",
       "    <tr style=\"text-align: right;\">\n",
       "      <th></th>\n",
       "      <th>Survived_lower</th>\n",
       "      <th>Survived_upper</th>\n",
       "      <th>Survived_value</th>\n",
       "      <th>Survived_error</th>\n",
       "    </tr>\n",
       "  </thead>\n",
       "  <tbody>\n",
       "    <tr>\n",
       "      <th>0</th>\n",
       "      <td>0.351906</td>\n",
       "      <td>0.415771</td>\n",
       "      <td>0.383838</td>\n",
       "      <td>0.031932</td>\n",
       "    </tr>\n",
       "  </tbody>\n",
       "</table>\n",
       "</div>"
      ],
      "text/plain": [
       "   Survived_lower  Survived_upper  Survived_value  Survived_error\n",
       "0        0.351906        0.415771        0.383838        0.031932"
      ]
     },
     "execution_count": 8,
     "metadata": {},
     "output_type": "execute_result"
    }
   ],
   "source": [
    "df.Survived.feed(Aggregators.proportion_confint())"
   ]
  },
  {
   "cell_type": "markdown",
   "id": "44bce9c6",
   "metadata": {},
   "source": [
    "As any Aggregator, it can be applied, e.g., to groups:"
   ]
  },
  {
   "cell_type": "code",
   "execution_count": 9,
   "id": "95849ce9",
   "metadata": {
    "execution": {
     "iopub.execute_input": "2022-08-09T09:32:30.422249Z",
     "iopub.status.busy": "2022-08-09T09:32:30.421354Z",
     "iopub.status.idle": "2022-08-09T09:32:30.438067Z",
     "shell.execute_reply": "2022-08-09T09:32:30.438462Z"
    }
   },
   "outputs": [
    {
     "data": {
      "text/html": [
       "<div>\n",
       "<style scoped>\n",
       "    .dataframe tbody tr th:only-of-type {\n",
       "        vertical-align: middle;\n",
       "    }\n",
       "\n",
       "    .dataframe tbody tr th {\n",
       "        vertical-align: top;\n",
       "    }\n",
       "\n",
       "    .dataframe thead th {\n",
       "        text-align: right;\n",
       "    }\n",
       "</style>\n",
       "<table border=\"1\" class=\"dataframe\">\n",
       "  <thead>\n",
       "    <tr style=\"text-align: right;\">\n",
       "      <th></th>\n",
       "      <th>Sex</th>\n",
       "      <th>Embarked</th>\n",
       "      <th>Survived_lower</th>\n",
       "      <th>Survived_upper</th>\n",
       "      <th>Survived_value</th>\n",
       "      <th>Survived_error</th>\n",
       "    </tr>\n",
       "  </thead>\n",
       "  <tbody>\n",
       "    <tr>\n",
       "      <th>0</th>\n",
       "      <td>female</td>\n",
       "      <td>C</td>\n",
       "      <td>0.801294</td>\n",
       "      <td>0.952130</td>\n",
       "      <td>0.876712</td>\n",
       "      <td>0.075418</td>\n",
       "    </tr>\n",
       "    <tr>\n",
       "      <th>1</th>\n",
       "      <td>female</td>\n",
       "      <td>Q</td>\n",
       "      <td>0.608552</td>\n",
       "      <td>0.891448</td>\n",
       "      <td>0.750000</td>\n",
       "      <td>0.141448</td>\n",
       "    </tr>\n",
       "    <tr>\n",
       "      <th>2</th>\n",
       "      <td>female</td>\n",
       "      <td>S</td>\n",
       "      <td>0.626014</td>\n",
       "      <td>0.753296</td>\n",
       "      <td>0.689655</td>\n",
       "      <td>0.063641</td>\n",
       "    </tr>\n",
       "    <tr>\n",
       "      <th>3</th>\n",
       "      <td>male</td>\n",
       "      <td>C</td>\n",
       "      <td>0.212658</td>\n",
       "      <td>0.397868</td>\n",
       "      <td>0.305263</td>\n",
       "      <td>0.092605</td>\n",
       "    </tr>\n",
       "    <tr>\n",
       "      <th>4</th>\n",
       "      <td>male</td>\n",
       "      <td>Q</td>\n",
       "      <td>0.000000</td>\n",
       "      <td>0.152883</td>\n",
       "      <td>0.076441</td>\n",
       "      <td>0.076441</td>\n",
       "    </tr>\n",
       "    <tr>\n",
       "      <th>5</th>\n",
       "      <td>male</td>\n",
       "      <td>S</td>\n",
       "      <td>0.139172</td>\n",
       "      <td>0.210034</td>\n",
       "      <td>0.174603</td>\n",
       "      <td>0.035431</td>\n",
       "    </tr>\n",
       "  </tbody>\n",
       "</table>\n",
       "</div>"
      ],
      "text/plain": [
       "      Sex Embarked  Survived_lower  Survived_upper  Survived_value  \\\n",
       "0  female        C        0.801294        0.952130        0.876712   \n",
       "1  female        Q        0.608552        0.891448        0.750000   \n",
       "2  female        S        0.626014        0.753296        0.689655   \n",
       "3    male        C        0.212658        0.397868        0.305263   \n",
       "4    male        Q        0.000000        0.152883        0.076441   \n",
       "5    male        S        0.139172        0.210034        0.174603   \n",
       "\n",
       "   Survived_error  \n",
       "0        0.075418  \n",
       "1        0.141448  \n",
       "2        0.063641  \n",
       "3        0.092605  \n",
       "4        0.076441  \n",
       "5        0.035431  "
      ]
     },
     "execution_count": 9,
     "metadata": {},
     "output_type": "execute_result"
    }
   ],
   "source": [
    "qdf = df.groupby(['Sex','Embarked']).Survived.feed(Aggregators.proportion_confint()).reset_index()\n",
    "qdf"
   ]
  },
  {
   "cell_type": "markdown",
   "id": "464dff66",
   "metadata": {},
   "source": [
    "`grbar_plot` can also use two variables for drawing:"
   ]
  },
  {
   "cell_type": "code",
   "execution_count": 10,
   "id": "ced31b44",
   "metadata": {
    "execution": {
     "iopub.execute_input": "2022-08-09T09:32:30.473177Z",
     "iopub.status.busy": "2022-08-09T09:32:30.450390Z",
     "iopub.status.idle": "2022-08-09T09:32:30.662879Z",
     "shell.execute_reply": "2022-08-09T09:32:30.663282Z"
    }
   },
   "outputs": [
    {
     "data": {
      "text/plain": [
       "<matplotlib.legend.Legend at 0x7f9fbecac4c0>"
      ]
     },
     "execution_count": 10,
     "metadata": {},
     "output_type": "execute_result"
    },
    {
     "data": {
      "image/png": "[encoded data removed]",
      "text/plain": [
       "<Figure size 432x288 with 1 Axes>"
      ]
     },
     "metadata": {
      "needs_background": "light"
     },
     "output_type": "display_data"
    }
   ],
   "source": [
    "grbar_plot(\n",
    "    qdf, \n",
    "    group_column='Sex', \n",
    "    color_column='Embarked', \n",
    "    value_column='Survived_value', \n",
    "    error_column='Survived_error')\n",
    "plt.legend()"
   ]
  },
  {
   "cell_type": "markdown",
   "id": "7b77bda4",
   "metadata": {},
   "source": [
    "## Bootstrap\n",
    "\n",
    "Let's explore if there is a significant difference between fares for men and women. "
   ]
  },
  {
   "cell_type": "code",
   "execution_count": 11,
   "id": "80c6979f",
   "metadata": {
    "execution": {
     "iopub.execute_input": "2022-08-09T09:32:30.672883Z",
     "iopub.status.busy": "2022-08-09T09:32:30.667096Z",
     "iopub.status.idle": "2022-08-09T09:32:30.675826Z",
     "shell.execute_reply": "2022-08-09T09:32:30.676264Z"
    }
   },
   "outputs": [
    {
     "data": {
      "text/plain": [
       "Sex\n",
       "female    44.479818\n",
       "male      25.523893\n",
       "Name: Fare, dtype: float64"
      ]
     },
     "execution_count": 11,
     "metadata": {},
     "output_type": "execute_result"
    }
   ],
   "source": [
    "df.groupby('Sex').Fare.mean()"
   ]
  },
  {
   "cell_type": "markdown",
   "id": "02f35610",
   "metadata": {},
   "source": [
    "Well, maybe, but is this difference significant? \n",
    "\n",
    "In this case, it's hard to use math: most of the cases are for normal distribution, but `Fare` is not distributed normally."
   ]
  },
  {
   "cell_type": "code",
   "execution_count": 12,
   "id": "ca72a1bd",
   "metadata": {
    "execution": {
     "iopub.execute_input": "2022-08-09T09:32:30.680595Z",
     "iopub.status.busy": "2022-08-09T09:32:30.679774Z",
     "iopub.status.idle": "2022-08-09T09:32:30.852303Z",
     "shell.execute_reply": "2022-08-09T09:32:30.851881Z"
    }
   },
   "outputs": [
    {
     "data": {
      "text/plain": [
       "<AxesSubplot:>"
      ]
     },
     "execution_count": 12,
     "metadata": {},
     "output_type": "execute_result"
    },
    {
     "data": {
      "image/png": "[encoded data removed]",
      "text/plain": [
       "<Figure size 432x288 with 1 Axes>"
      ]
     },
     "metadata": {
      "needs_background": "light"
     },
     "output_type": "display_data"
    }
   ],
   "source": [
    "df.Fare.hist()"
   ]
  },
  {
   "cell_type": "markdown",
   "id": "070ea383",
   "metadata": {},
   "source": [
    "We can use [bootstraping](https://en.wikipedia.org/wiki/Bootstrapping_(statistics)) for this task. To do so, first, we need a function that computes the value of interest as a dataframe:"
   ]
  },
  {
   "cell_type": "code",
   "execution_count": 13,
   "id": "9961ba44",
   "metadata": {
    "execution": {
     "iopub.execute_input": "2022-08-09T09:32:30.860816Z",
     "iopub.status.busy": "2022-08-09T09:32:30.860229Z",
     "iopub.status.idle": "2022-08-09T09:32:30.862884Z",
     "shell.execute_reply": "2022-08-09T09:32:30.862537Z"
    }
   },
   "outputs": [
    {
     "data": {
      "text/html": [
       "<div>\n",
       "<style scoped>\n",
       "    .dataframe tbody tr th:only-of-type {\n",
       "        vertical-align: middle;\n",
       "    }\n",
       "\n",
       "    .dataframe tbody tr th {\n",
       "        vertical-align: top;\n",
       "    }\n",
       "\n",
       "    .dataframe thead th {\n",
       "        text-align: right;\n",
       "    }\n",
       "</style>\n",
       "<table border=\"1\" class=\"dataframe\">\n",
       "  <thead>\n",
       "    <tr style=\"text-align: right;\">\n",
       "      <th>Sex</th>\n",
       "      <th>index</th>\n",
       "      <th>female</th>\n",
       "      <th>male</th>\n",
       "    </tr>\n",
       "  </thead>\n",
       "  <tbody>\n",
       "    <tr>\n",
       "      <th>0</th>\n",
       "      <td>Fare</td>\n",
       "      <td>44.479818</td>\n",
       "      <td>25.523893</td>\n",
       "    </tr>\n",
       "  </tbody>\n",
       "</table>\n",
       "</div>"
      ],
      "text/plain": [
       "Sex index     female       male\n",
       "0    Fare  44.479818  25.523893"
      ]
     },
     "execution_count": 13,
     "metadata": {},
     "output_type": "execute_result"
    }
   ],
   "source": [
    "def compute(df):\n",
    "    return df.groupby('Sex').Fare.mean().to_frame().transpose().reset_index()\n",
    "    \n",
    "compute(df)"
   ]
  },
  {
   "cell_type": "code",
   "execution_count": 14,
   "id": "04d209df",
   "metadata": {
    "execution": {
     "iopub.execute_input": "2022-08-09T09:32:30.946618Z",
     "iopub.status.busy": "2022-08-09T09:32:30.944572Z",
     "iopub.status.idle": "2022-08-09T09:32:33.901466Z",
     "shell.execute_reply": "2022-08-09T09:32:33.901037Z"
    }
   },
   "outputs": [
    {
     "data": {
      "application/vnd.jupyter.widget-view+json": {
       "model_id": "1c75c549e9204dc1a77a7cb180a5ccb4",
       "version_major": 2,
       "version_minor": 0
      },
      "text/plain": [
       "  0%|          | 0/1000 [00:00<?, ?it/s]"
      ]
     },
     "metadata": {},
     "output_type": "display_data"
    }
   ],
   "source": [
    "from tg.common.analysis import Bootstrap\n",
    "\n",
    "bst = Bootstrap(df = df, method = compute)\n",
    "rdf = bst.run(N=1000)"
   ]
  },
  {
   "cell_type": "code",
   "execution_count": 15,
   "id": "aae50008",
   "metadata": {
    "execution": {
     "iopub.execute_input": "2022-08-09T09:32:33.908074Z",
     "iopub.status.busy": "2022-08-09T09:32:33.907539Z",
     "iopub.status.idle": "2022-08-09T09:32:33.909640Z",
     "shell.execute_reply": "2022-08-09T09:32:33.909954Z"
    }
   },
   "outputs": [
    {
     "data": {
      "text/html": [
       "<div>\n",
       "<style scoped>\n",
       "    .dataframe tbody tr th:only-of-type {\n",
       "        vertical-align: middle;\n",
       "    }\n",
       "\n",
       "    .dataframe tbody tr th {\n",
       "        vertical-align: top;\n",
       "    }\n",
       "\n",
       "    .dataframe thead th {\n",
       "        text-align: right;\n",
       "    }\n",
       "</style>\n",
       "<table border=\"1\" class=\"dataframe\">\n",
       "  <thead>\n",
       "    <tr style=\"text-align: right;\">\n",
       "      <th></th>\n",
       "      <th>index</th>\n",
       "      <th>female</th>\n",
       "      <th>male</th>\n",
       "      <th>iteration</th>\n",
       "      <th>n</th>\n",
       "    </tr>\n",
       "  </thead>\n",
       "  <tbody>\n",
       "    <tr>\n",
       "      <th>0</th>\n",
       "      <td>Fare</td>\n",
       "      <td>41.845543</td>\n",
       "      <td>26.322968</td>\n",
       "      <td>0</td>\n",
       "      <td>0</td>\n",
       "    </tr>\n",
       "    <tr>\n",
       "      <th>1</th>\n",
       "      <td>Fare</td>\n",
       "      <td>42.229522</td>\n",
       "      <td>24.363418</td>\n",
       "      <td>1</td>\n",
       "      <td>1</td>\n",
       "    </tr>\n",
       "    <tr>\n",
       "      <th>2</th>\n",
       "      <td>Fare</td>\n",
       "      <td>48.869022</td>\n",
       "      <td>24.979670</td>\n",
       "      <td>2</td>\n",
       "      <td>2</td>\n",
       "    </tr>\n",
       "    <tr>\n",
       "      <th>3</th>\n",
       "      <td>Fare</td>\n",
       "      <td>44.753038</td>\n",
       "      <td>26.031914</td>\n",
       "      <td>3</td>\n",
       "      <td>3</td>\n",
       "    </tr>\n",
       "    <tr>\n",
       "      <th>4</th>\n",
       "      <td>Fare</td>\n",
       "      <td>40.803088</td>\n",
       "      <td>23.540866</td>\n",
       "      <td>4</td>\n",
       "      <td>4</td>\n",
       "    </tr>\n",
       "  </tbody>\n",
       "</table>\n",
       "</div>"
      ],
      "text/plain": [
       "  index     female       male  iteration  n\n",
       "0  Fare  41.845543  26.322968          0  0\n",
       "1  Fare  42.229522  24.363418          1  1\n",
       "2  Fare  48.869022  24.979670          2  2\n",
       "3  Fare  44.753038  26.031914          3  3\n",
       "4  Fare  40.803088  23.540866          4  4"
      ]
     },
     "execution_count": 15,
     "metadata": {},
     "output_type": "execute_result"
    }
   ],
   "source": [
    "rdf.head()"
   ]
  },
  {
   "cell_type": "markdown",
   "id": "6bdb92c9",
   "metadata": {},
   "source": [
    "So, `Bootstrap` took subsamples of our task and computed means for each of them, creating the distribution of means:"
   ]
  },
  {
   "cell_type": "code",
   "execution_count": 16,
   "id": "c05326be",
   "metadata": {
    "execution": {
     "iopub.execute_input": "2022-08-09T09:32:33.915764Z",
     "iopub.status.busy": "2022-08-09T09:32:33.915157Z",
     "iopub.status.idle": "2022-08-09T09:32:34.095966Z",
     "shell.execute_reply": "2022-08-09T09:32:34.096502Z"
    }
   },
   "outputs": [
    {
     "data": {
      "text/plain": [
       "<AxesSubplot:>"
      ]
     },
     "execution_count": 16,
     "metadata": {},
     "output_type": "execute_result"
    },
    {
     "data": {
      "image/png": "[encoded data removed]",
      "text/plain": [
       "<Figure size 432x288 with 1 Axes>"
      ]
     },
     "metadata": {
      "needs_background": "light"
     },
     "output_type": "display_data"
    }
   ],
   "source": [
    "rdf.female.hist()\n",
    "rdf.male.hist()"
   ]
  },
  {
   "cell_type": "markdown",
   "id": "a146a250",
   "metadata": {},
   "source": [
    "Those are normal, and bootsraping guarantees it (providing that mean value exists and enough samples are taken). \n",
    "\n",
    "So, we can use confidence intervals for normal distribution:"
   ]
  },
  {
   "cell_type": "code",
   "execution_count": 17,
   "id": "bd45e37e",
   "metadata": {
    "execution": {
     "iopub.execute_input": "2022-08-09T09:32:34.118996Z",
     "iopub.status.busy": "2022-08-09T09:32:34.101179Z",
     "iopub.status.idle": "2022-08-09T09:32:34.124881Z",
     "shell.execute_reply": "2022-08-09T09:32:34.126069Z"
    }
   },
   "outputs": [
    {
     "data": {
      "text/html": [
       "<div>\n",
       "<style scoped>\n",
       "    .dataframe tbody tr th:only-of-type {\n",
       "        vertical-align: middle;\n",
       "    }\n",
       "\n",
       "    .dataframe tbody tr th {\n",
       "        vertical-align: top;\n",
       "    }\n",
       "\n",
       "    .dataframe thead th {\n",
       "        text-align: right;\n",
       "    }\n",
       "</style>\n",
       "<table border=\"1\" class=\"dataframe\">\n",
       "  <thead>\n",
       "    <tr style=\"text-align: right;\">\n",
       "      <th></th>\n",
       "      <th>female_lower</th>\n",
       "      <th>female_upper</th>\n",
       "      <th>female_value</th>\n",
       "      <th>female_error</th>\n",
       "      <th>male_lower</th>\n",
       "      <th>male_upper</th>\n",
       "      <th>male_value</th>\n",
       "      <th>male_error</th>\n",
       "    </tr>\n",
       "  </thead>\n",
       "  <tbody>\n",
       "    <tr>\n",
       "      <th>0</th>\n",
       "      <td>37.893253</td>\n",
       "      <td>50.832493</td>\n",
       "      <td>44.362873</td>\n",
       "      <td>6.46962</td>\n",
       "      <td>22.000742</td>\n",
       "      <td>28.884838</td>\n",
       "      <td>25.44279</td>\n",
       "      <td>3.442048</td>\n",
       "    </tr>\n",
       "  </tbody>\n",
       "</table>\n",
       "</div>"
      ],
      "text/plain": [
       "   female_lower  female_upper  female_value  female_error  male_lower  \\\n",
       "0     37.893253     50.832493     44.362873       6.46962   22.000742   \n",
       "\n",
       "   male_upper  male_value  male_error  \n",
       "0   28.884838    25.44279    3.442048  "
      ]
     },
     "execution_count": 17,
     "metadata": {},
     "output_type": "execute_result"
    }
   ],
   "source": [
    "rdf[['female','male']].feed(Aggregators.normal_confint())"
   ]
  },
  {
   "cell_type": "markdown",
   "id": "23e95cf4",
   "metadata": {},
   "source": [
    "When data are computed this way, it's not really easy to visualize, so:"
   ]
  },
  {
   "cell_type": "code",
   "execution_count": 18,
   "id": "046198b5",
   "metadata": {
    "execution": {
     "iopub.execute_input": "2022-08-09T09:32:34.132517Z",
     "iopub.status.busy": "2022-08-09T09:32:34.130264Z",
     "iopub.status.idle": "2022-08-09T09:32:34.290246Z",
     "shell.execute_reply": "2022-08-09T09:32:34.290618Z"
    }
   },
   "outputs": [
    {
     "data": {
      "text/plain": [
       "<AxesSubplot:xlabel='sex', ylabel='fare_value'>"
      ]
     },
     "execution_count": 18,
     "metadata": {},
     "output_type": "execute_result"
    },
    {
     "data": {
      "image/png": "[encoded data removed]",
      "text/plain": [
       "<Figure size 432x288 with 1 Axes>"
      ]
     },
     "metadata": {
      "needs_background": "light"
     },
     "output_type": "display_data"
    }
   ],
   "source": [
    "rdf1 = rdf[['female','male']].unstack().to_frame().reset_index()\n",
    "rdf1.columns=['sex','iteration','fare']\n",
    "\n",
    "grbar_plot(\n",
    "    rdf1.groupby('sex').fare.feed(Aggregators.normal_confint()).reset_index(),\n",
    "    value_column='fare_value',\n",
    "    error_column='fare_error',\n",
    "    group_column='sex'\n",
    ")"
   ]
  },
  {
   "cell_type": "markdown",
   "id": "d64423d5",
   "metadata": {},
   "source": [
    "The confidence intervals do not intersect (which, honestly, was quite visible from histogram), thus, the difference is significant."
   ]
  }
 ],
 "metadata": {
  "kernelspec": {
   "display_name": "Python 3 (ipykernel)",
   "language": "python",
   "name": "python3"
  },
  "language_info": {
   "codemirror_mode": {
    "name": "ipython",
    "version": 3
   },
   "file_extension": ".py",
   "mimetype": "text/x-python",
   "name": "python",
   "nbconvert_exporter": "python",
   "pygments_lexer": "ipython3",
   "version": "3.8.11"
  },
  "widgets": {
   "application/vnd.jupyter.widget-state+json": {
    "state": {
     "0913483a33014afdb3b67aa18bfc7180": {
      "model_module": "@jupyter-widgets/base",
      "model_module_version": "1.2.0",
      "model_name": "LayoutModel",
      "state": {
       "_model_module": "@jupyter-widgets/base",
       "_model_module_version": "1.2.0",
       "_model_name": "LayoutModel",
       "_view_count": null,
       "_view_module": "@jupyter-widgets/base",
       "_view_module_version": "1.2.0",
       "_view_name": "LayoutView",
       "align_content": null,
       "align_items": null,
       "align_self": null,
       "border": null,
       "bottom": null,
       "display": null,
       "flex": null,
       "flex_flow": null,
       "grid_area": null,
       "grid_auto_columns": null,
       "grid_auto_flow": null,
       "grid_auto_rows": null,
       "grid_column": null,
       "grid_gap": null,
       "grid_row": null,
       "grid_template_areas": null,
       "grid_template_columns": null,
       "grid_template_rows": null,
       "height": null,
       "justify_content": null,
       "justify_items": null,
       "left": null,
       "margin": null,
       "max_height": null,
       "max_width": null,
       "min_height": null,
       "min_width": null,
       "object_fit": null,
       "object_position": null,
       "order": null,
       "overflow": null,
       "overflow_x": null,
       "overflow_y": null,
       "padding": null,
       "right": null,
       "top": null,
       "visibility": null,
       "width": null
      }
     },
     "0aacc4a91ddd425eaa41f1070c1f4b9b": {
      "model_module": "@jupyter-widgets/base",
      "model_module_version": "1.2.0",
      "model_name": "LayoutModel",
      "state": {
       "_model_module": "@jupyter-widgets/base",
       "_model_module_version": "1.2.0",
       "_model_name": "LayoutModel",
       "_view_count": null,
       "_view_module": "@jupyter-widgets/base",
       "_view_module_version": "1.2.0",
       "_view_name": "LayoutView",
       "align_content": null,
       "align_items": null,
       "align_self": null,
       "border": null,
       "bottom": null,
       "display": null,
       "flex": null,
       "flex_flow": null,
       "grid_area": null,
       "grid_auto_columns": null,
       "grid_auto_flow": null,
       "grid_auto_rows": null,
       "grid_column": null,
       "grid_gap": null,
       "grid_row": null,
       "grid_template_areas": null,
       "grid_template_columns": null,
       "grid_template_rows": null,
       "height": null,
       "justify_content": null,
       "justify_items": null,
       "left": null,
       "margin": null,
       "max_height": null,
       "max_width": null,
       "min_height": null,
       "min_width": null,
       "object_fit": null,
       "object_position": null,
       "order": null,
       "overflow": null,
       "overflow_x": null,
       "overflow_y": null,
       "padding": null,
       "right": null,
       "top": null,
       "visibility": null,
       "width": null
      }
     },
     "1c75c549e9204dc1a77a7cb180a5ccb4": {
      "model_module": "@jupyter-widgets/controls",
      "model_module_version": "1.5.0",
      "model_name": "HBoxModel",
      "state": {
       "_dom_classes": [],
       "_model_module": "@jupyter-widgets/controls",
       "_model_module_version": "1.5.0",
       "_model_name": "HBoxModel",
       "_view_count": null,
       "_view_module": "@jupyter-widgets/controls",
       "_view_module_version": "1.5.0",
       "_view_name": "HBoxView",
       "box_style": "",
       "children": [
        "IPY_MODEL_6b7ae9bc790745afba13516015fbf441",
        "IPY_MODEL_70c6b047d15346a6bff57dc6019b1742",
        "IPY_MODEL_2a6dfcc5ddd349459270e915bcecc8c2"
       ],
       "layout": "IPY_MODEL_b7b2618384aa46209dfab255d034d800"
      }
     },
     "2328ce4936694c6a828b1e9d8a290dd1": {
      "model_module": "@jupyter-widgets/controls",
      "model_module_version": "1.5.0",
      "model_name": "HTMLModel",
      "state": {
       "_dom_classes": [],
       "_model_module": "@jupyter-widgets/controls",
       "_model_module_version": "1.5.0",
       "_model_name": "HTMLModel",
       "_view_count": null,
       "_view_module": "@jupyter-widgets/controls",
       "_view_module_version": "1.5.0",
       "_view_name": "HTMLView",
       "description": "",
       "description_tooltip": null,
       "layout": "IPY_MODEL_0913483a33014afdb3b67aa18bfc7180",
       "placeholder": "​",
       "style": "IPY_MODEL_4b11b744207d44d6b9b65b9f1519a79a",
       "value": "100%"
      }
     },
     "2a6dfcc5ddd349459270e915bcecc8c2": {
      "model_module": "@jupyter-widgets/controls",
      "model_module_version": "1.5.0",
      "model_name": "HTMLModel",
      "state": {
       "_dom_classes": [],
       "_model_module": "@jupyter-widgets/controls",
       "_model_module_version": "1.5.0",
       "_model_name": "HTMLModel",
       "_view_count": null,
       "_view_module": "@jupyter-widgets/controls",
       "_view_module_version": "1.5.0",
       "_view_name": "HTMLView",
       "description": "",
       "description_tooltip": null,
       "layout": "IPY_MODEL_a9e3fffb1b144a5a84d170c952f4d455",
       "placeholder": "​",
       "style": "IPY_MODEL_8ecef1e1e46e483c9d38aa34fd5dc4dd",
       "value": " 1000/1000 [00:02&lt;00:00, 459.63it/s]"
      }
     },
     "317ab47bd9c1458bb8c12bdbc1b54a11": {
      "model_module": "@jupyter-widgets/base",
      "model_module_version": "1.2.0",
      "model_name": "LayoutModel",
      "state": {
       "_model_module": "@jupyter-widgets/base",
       "_model_module_version": "1.2.0",
       "_model_name": "LayoutModel",
       "_view_count": null,
       "_view_module": "@jupyter-widgets/base",
       "_view_module_version": "1.2.0",
       "_view_name": "LayoutView",
       "align_content": null,
       "align_items": null,
       "align_self": null,
       "border": null,
       "bottom": null,
       "display": null,
       "flex": null,
       "flex_flow": null,
       "grid_area": null,
       "grid_auto_columns": null,
       "grid_auto_flow": null,
       "grid_auto_rows": null,
       "grid_column": null,
       "grid_gap": null,
       "grid_row": null,
       "grid_template_areas": null,
       "grid_template_columns": null,
       "grid_template_rows": null,
       "height": null,
       "justify_content": null,
       "justify_items": null,
       "left": null,
       "margin": null,
       "max_height": null,
       "max_width": null,
       "min_height": null,
       "min_width": null,
       "object_fit": null,
       "object_position": null,
       "order": null,
       "overflow": null,
       "overflow_x": null,
       "overflow_y": null,
       "padding": null,
       "right": null,
       "top": null,
       "visibility": null,
       "width": null
      }
     },
     "448b0ad02aae4e40a5d11ce6ae5f909e": {
      "model_module": "@jupyter-widgets/base",
      "model_module_version": "1.2.0",
      "model_name": "LayoutModel",
      "state": {
       "_model_module": "@jupyter-widgets/base",
       "_model_module_version": "1.2.0",
       "_model_name": "LayoutModel",
       "_view_count": null,
       "_view_module": "@jupyter-widgets/base",
       "_view_module_version": "1.2.0",
       "_view_name": "LayoutView",
       "align_content": null,
       "align_items": null,
       "align_self": null,
       "border": null,
       "bottom": null,
       "display": null,
       "flex": null,
       "flex_flow": null,
       "grid_area": null,
       "grid_auto_columns": null,
       "grid_auto_flow": null,
       "grid_auto_rows": null,
       "grid_column": null,
       "grid_gap": null,
       "grid_row": null,
       "grid_template_areas": null,
       "grid_template_columns": null,
       "grid_template_rows": null,
       "height": null,
       "justify_content": null,
       "justify_items": null,
       "left": null,
       "margin": null,
       "max_height": null,
       "max_width": null,
       "min_height": null,
       "min_width": null,
       "object_fit": null,
       "object_position": null,
       "order": null,
       "overflow": null,
       "overflow_x": null,
       "overflow_y": null,
       "padding": null,
       "right": null,
       "top": null,
       "visibility": null,
       "width": null
      }
     },
     "4b11b744207d44d6b9b65b9f1519a79a": {
      "model_module": "@jupyter-widgets/controls",
      "model_module_version": "1.5.0",
      "model_name": "DescriptionStyleModel",
      "state": {
       "_model_module": "@jupyter-widgets/controls",
       "_model_module_version": "1.5.0",
       "_model_name": "DescriptionStyleModel",
       "_view_count": null,
       "_view_module": "@jupyter-widgets/base",
       "_view_module_version": "1.2.0",
       "_view_name": "StyleView",
       "description_width": ""
      }
     },
     "6198cd0405b9420799f4d74cf14375ff": {
      "model_module": "@jupyter-widgets/base",
      "model_module_version": "1.2.0",
      "model_name": "LayoutModel",
      "state": {
       "_model_module": "@jupyter-widgets/base",
       "_model_module_version": "1.2.0",
       "_model_name": "LayoutModel",
       "_view_count": null,
       "_view_module": "@jupyter-widgets/base",
       "_view_module_version": "1.2.0",
       "_view_name": "LayoutView",
       "align_content": null,
       "align_items": null,
       "align_self": null,
       "border": null,
       "bottom": null,
       "display": null,
       "flex": null,
       "flex_flow": null,
       "grid_area": null,
       "grid_auto_columns": null,
       "grid_auto_flow": null,
       "grid_auto_rows": null,
       "grid_column": null,
       "grid_gap": null,
       "grid_row": null,
       "grid_template_areas": null,
       "grid_template_columns": null,
       "grid_template_rows": null,
       "height": null,
       "justify_content": null,
       "justify_items": null,
       "left": null,
       "margin": null,
       "max_height": null,
       "max_width": null,
       "min_height": null,
       "min_width": null,
       "object_fit": null,
       "object_position": null,
       "order": null,
       "overflow": null,
       "overflow_x": null,
       "overflow_y": null,
       "padding": null,
       "right": null,
       "top": null,
       "visibility": null,
       "width": null
      }
     },
     "6b7ae9bc790745afba13516015fbf441": {
      "model_module": "@jupyter-widgets/controls",
      "model_module_version": "1.5.0",
      "model_name": "HTMLModel",
      "state": {
       "_dom_classes": [],
       "_model_module": "@jupyter-widgets/controls",
       "_model_module_version": "1.5.0",
       "_model_name": "HTMLModel",
       "_view_count": null,
       "_view_module": "@jupyter-widgets/controls",
       "_view_module_version": "1.5.0",
       "_view_name": "HTMLView",
       "description": "",
       "description_tooltip": null,
       "layout": "IPY_MODEL_448b0ad02aae4e40a5d11ce6ae5f909e",
       "placeholder": "​",
       "style": "IPY_MODEL_f23c1be536fe48338616bdb9820c3699",
       "value": "100%"
      }
     },
     "70c6b047d15346a6bff57dc6019b1742": {
      "model_module": "@jupyter-widgets/controls",
      "model_module_version": "1.5.0",
      "model_name": "FloatProgressModel",
      "state": {
       "_dom_classes": [],
       "_model_module": "@jupyter-widgets/controls",
       "_model_module_version": "1.5.0",
       "_model_name": "FloatProgressModel",
       "_view_count": null,
       "_view_module": "@jupyter-widgets/controls",
       "_view_module_version": "1.5.0",
       "_view_name": "ProgressView",
       "bar_style": "success",
       "description": "",
       "description_tooltip": null,
       "layout": "IPY_MODEL_0aacc4a91ddd425eaa41f1070c1f4b9b",
       "max": 1000.0,
       "min": 0.0,
       "orientation": "horizontal",
       "style": "IPY_MODEL_ae28ae9720d24b9cb29fb07320427268",
       "value": 1000.0
      }
     },
     "809b6b829cfd4dbe96879132b9aff095": {
      "model_module": "@jupyter-widgets/controls",
      "model_module_version": "1.5.0",
      "model_name": "HTMLModel",
      "state": {
       "_dom_classes": [],
       "_model_module": "@jupyter-widgets/controls",
       "_model_module_version": "1.5.0",
       "_model_name": "HTMLModel",
       "_view_count": null,
       "_view_module": "@jupyter-widgets/controls",
       "_view_module_version": "1.5.0",
       "_view_name": "HTMLView",
       "description": "",
       "description_tooltip": null,
       "layout": "IPY_MODEL_317ab47bd9c1458bb8c12bdbc1b54a11",
       "placeholder": "​",
       "style": "IPY_MODEL_9cdaff27a41542889c7300ed45a89fda",
       "value": " 200/200 [00:15&lt;00:00, 15.69it/s]"
      }
     },
     "80bf8f48793143968606a8b5ffc20adc": {
      "model_module": "@jupyter-widgets/controls",
      "model_module_version": "1.5.0",
      "model_name": "HBoxModel",
      "state": {
       "_dom_classes": [],
       "_model_module": "@jupyter-widgets/controls",
       "_model_module_version": "1.5.0",
       "_model_name": "HBoxModel",
       "_view_count": null,
       "_view_module": "@jupyter-widgets/controls",
       "_view_module_version": "1.5.0",
       "_view_name": "HBoxView",
       "box_style": "",
       "children": [
        "IPY_MODEL_2328ce4936694c6a828b1e9d8a290dd1",
        "IPY_MODEL_ed9b22d887414537898e7bdd73413ec5",
        "IPY_MODEL_809b6b829cfd4dbe96879132b9aff095"
       ],
       "layout": "IPY_MODEL_f68a4ca5c3e74582bd7ec931eb35cd88"
      }
     },
     "8ecef1e1e46e483c9d38aa34fd5dc4dd": {
      "model_module": "@jupyter-widgets/controls",
      "model_module_version": "1.5.0",
      "model_name": "DescriptionStyleModel",
      "state": {
       "_model_module": "@jupyter-widgets/controls",
       "_model_module_version": "1.5.0",
       "_model_name": "DescriptionStyleModel",
       "_view_count": null,
       "_view_module": "@jupyter-widgets/base",
       "_view_module_version": "1.2.0",
       "_view_name": "StyleView",
       "description_width": ""
      }
     },
     "9cdaff27a41542889c7300ed45a89fda": {
      "model_module": "@jupyter-widgets/controls",
      "model_module_version": "1.5.0",
      "model_name": "DescriptionStyleModel",
      "state": {
       "_model_module": "@jupyter-widgets/controls",
       "_model_module_version": "1.5.0",
       "_model_name": "DescriptionStyleModel",
       "_view_count": null,
       "_view_module": "@jupyter-widgets/base",
       "_view_module_version": "1.2.0",
       "_view_name": "StyleView",
       "description_width": ""
      }
     },
     "a49d45642e974867836618cfef922923": {
      "model_module": "@jupyter-widgets/controls",
      "model_module_version": "1.5.0",
      "model_name": "ProgressStyleModel",
      "state": {
       "_model_module": "@jupyter-widgets/controls",
       "_model_module_version": "1.5.0",
       "_model_name": "ProgressStyleModel",
       "_view_count": null,
       "_view_module": "@jupyter-widgets/base",
       "_view_module_version": "1.2.0",
       "_view_name": "StyleView",
       "bar_color": null,
       "description_width": ""
      }
     },
     "a9e3fffb1b144a5a84d170c952f4d455": {
      "model_module": "@jupyter-widgets/base",
      "model_module_version": "1.2.0",
      "model_name": "LayoutModel",
      "state": {
       "_model_module": "@jupyter-widgets/base",
       "_model_module_version": "1.2.0",
       "_model_name": "LayoutModel",
       "_view_count": null,
       "_view_module": "@jupyter-widgets/base",
       "_view_module_version": "1.2.0",
       "_view_name": "LayoutView",
       "align_content": null,
       "align_items": null,
       "align_self": null,
       "border": null,
       "bottom": null,
       "display": null,
       "flex": null,
       "flex_flow": null,
       "grid_area": null,
       "grid_auto_columns": null,
       "grid_auto_flow": null,
       "grid_auto_rows": null,
       "grid_column": null,
       "grid_gap": null,
       "grid_row": null,
       "grid_template_areas": null,
       "grid_template_columns": null,
       "grid_template_rows": null,
       "height": null,
       "justify_content": null,
       "justify_items": null,
       "left": null,
       "margin": null,
       "max_height": null,
       "max_width": null,
       "min_height": null,
       "min_width": null,
       "object_fit": null,
       "object_position": null,
       "order": null,
       "overflow": null,
       "overflow_x": null,
       "overflow_y": null,
       "padding": null,
       "right": null,
       "top": null,
       "visibility": null,
       "width": null
      }
     },
     "ae28ae9720d24b9cb29fb07320427268": {
      "model_module": "@jupyter-widgets/controls",
      "model_module_version": "1.5.0",
      "model_name": "ProgressStyleModel",
      "state": {
       "_model_module": "@jupyter-widgets/controls",
       "_model_module_version": "1.5.0",
       "_model_name": "ProgressStyleModel",
       "_view_count": null,
       "_view_module": "@jupyter-widgets/base",
       "_view_module_version": "1.2.0",
       "_view_name": "StyleView",
       "bar_color": null,
       "description_width": ""
      }
     },
     "b7b2618384aa46209dfab255d034d800": {
      "model_module": "@jupyter-widgets/base",
      "model_module_version": "1.2.0",
      "model_name": "LayoutModel",
      "state": {
       "_model_module": "@jupyter-widgets/base",
       "_model_module_version": "1.2.0",
       "_model_name": "LayoutModel",
       "_view_count": null,
       "_view_module": "@jupyter-widgets/base",
       "_view_module_version": "1.2.0",
       "_view_name": "LayoutView",
       "align_content": null,
       "align_items": null,
       "align_self": null,
       "border": null,
       "bottom": null,
       "display": null,
       "flex": null,
       "flex_flow": null,
       "grid_area": null,
       "grid_auto_columns": null,
       "grid_auto_flow": null,
       "grid_auto_rows": null,
       "grid_column": null,
       "grid_gap": null,
       "grid_row": null,
       "grid_template_areas": null,
       "grid_template_columns": null,
       "grid_template_rows": null,
       "height": null,
       "justify_content": null,
       "justify_items": null,
       "left": null,
       "margin": null,
       "max_height": null,
       "max_width": null,
       "min_height": null,
       "min_width": null,
       "object_fit": null,
       "object_position": null,
       "order": null,
       "overflow": null,
       "overflow_x": null,
       "overflow_y": null,
       "padding": null,
       "right": null,
       "top": null,
       "visibility": null,
       "width": null
      }
     },
     "ed9b22d887414537898e7bdd73413ec5": {
      "model_module": "@jupyter-widgets/controls",
      "model_module_version": "1.5.0",
      "model_name": "FloatProgressModel",
      "state": {
       "_dom_classes": [],
       "_model_module": "@jupyter-widgets/controls",
       "_model_module_version": "1.5.0",
       "_model_name": "FloatProgressModel",
       "_view_count": null,
       "_view_module": "@jupyter-widgets/controls",
       "_view_module_version": "1.5.0",
       "_view_name": "ProgressView",
       "bar_style": "success",
       "description": "",
       "description_tooltip": null,
       "layout": "IPY_MODEL_6198cd0405b9420799f4d74cf14375ff",
       "max": 200.0,
       "min": 0.0,
       "orientation": "horizontal",
       "style": "IPY_MODEL_a49d45642e974867836618cfef922923",
       "value": 200.0
      }
     },
     "f23c1be536fe48338616bdb9820c3699": {
      "model_module": "@jupyter-widgets/controls",
      "model_module_version": "1.5.0",
      "model_name": "DescriptionStyleModel",
      "state": {
       "_model_module": "@jupyter-widgets/controls",
       "_model_module_version": "1.5.0",
       "_model_name": "DescriptionStyleModel",
       "_view_count": null,
       "_view_module": "@jupyter-widgets/base",
       "_view_module_version": "1.2.0",
       "_view_name": "StyleView",
       "description_width": ""
      }
     },
     "f68a4ca5c3e74582bd7ec931eb35cd88": {
      "model_module": "@jupyter-widgets/base",
      "model_module_version": "1.2.0",
      "model_name": "LayoutModel",
      "state": {
       "_model_module": "@jupyter-widgets/base",
       "_model_module_version": "1.2.0",
       "_model_name": "LayoutModel",
       "_view_count": null,
       "_view_module": "@jupyter-widgets/base",
       "_view_module_version": "1.2.0",
       "_view_name": "LayoutView",
       "align_content": null,
       "align_items": null,
       "align_self": null,
       "border": null,
       "bottom": null,
       "display": null,
       "flex": null,
       "flex_flow": null,
       "grid_area": null,
       "grid_auto_columns": null,
       "grid_auto_flow": null,
       "grid_auto_rows": null,
       "grid_column": null,
       "grid_gap": null,
       "grid_row": null,
       "grid_template_areas": null,
       "grid_template_columns": null,
       "grid_template_rows": null,
       "height": null,
       "justify_content": null,
       "justify_items": null,
       "left": null,
       "margin": null,
       "max_height": null,
       "max_width": null,
       "min_height": null,
       "min_width": null,
       "object_fit": null,
       "object_position": null,
       "order": null,
       "overflow": null,
       "overflow_x": null,
       "overflow_y": null,
       "padding": null,
       "right": null,
       "top": null,
       "visibility": null,
       "width": null
      }
     }
    },
    "version_major": 2,
    "version_minor": 0
   }
  }
 },
 "nbformat": 4,
 "nbformat_minor": 5
}
