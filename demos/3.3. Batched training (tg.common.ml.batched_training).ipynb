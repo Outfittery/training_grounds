{
 "cells": [
  {
   "cell_type": "markdown",
   "metadata": {},
   "source": [
    "# 3.3. Batched training (tg.common.ml.batched_training)"
   ]
  },
  {
   "cell_type": "markdown",
   "metadata": {},
   "source": [
    "## Overview of batched training process\n",
    "\n",
    "Batched training is used when the training data is synthetic and so huge, that it cannot fit into memory. Examples are:\n",
    "\n",
    "* Customer-article fit model. The features of customers and articles can fit into memory, but when we combine them by instances of articles, that were sent to customers, the data explode.\n",
    "* Natural language processing. When, for instance, processing the sentence of N words, we may wish to construct the training samples so that network predicts $W_i$ word from $(W_1,\\ldots,W_{i-1})$ for $i\\in[1, N]$. In this case, the data also explode.\n",
    "\n",
    "Current version of batched training process is *not* dealing with the situation, when the initial data themselves are too big to fit the memory. If this is the case, the current strategy is to get a bigger AWS instance. If it's not feasible, the approach can theoretically be adopted for this case as well.\n",
    "\n",
    "In batched training, the data are synthesized in _batches_, one after another, and therefore memory is not overused. Consequently, the model must support the iterative training. In our use cases this is always pytorch network, but of course the architecture is not limited to neural networks or some particular implementation of them."
   ]
  },
  {
   "cell_type": "markdown",
   "metadata": {},
   "source": [
    "## Data Bundles"
   ]
  },
  {
   "cell_type": "markdown",
   "metadata": {},
   "source": [
    "As a dataframe is the \"all-inclusive\" object containing the data for single-frame training, _data bundle_ is such for batched training. The bundle is a set of dataframes, that contains all the data required for batches synthesis.\n",
    "\n",
    "You normally start batched training by creating such bundle, and we will do the same for the Titanic dataset. We will do it in an overcomplicated way, that is totally unnessesary for this particular task, but will allow us to demonstrate available batching techniques. We will separate the available information in Titanic dataset into two parts: information about ticket and information about customer."
   ]
  },
  {
   "cell_type": "code",
   "execution_count": 1,
   "metadata": {
    "execution": {
     "iopub.execute_input": "2022-12-28T13:21:07.961403Z",
     "iopub.status.busy": "2022-12-28T13:21:07.960714Z",
     "iopub.status.idle": "2022-12-28T13:21:08.353055Z",
     "shell.execute_reply": "2022-12-28T13:21:08.353382Z"
    }
   },
   "outputs": [],
   "source": [
    "import pandas as pd\n",
    "df = pd.read_csv('titanic.csv')\n",
    "df = df.set_index('PassengerId')\n",
    "for c in ['Pclass','SibSp','Parch','Survived']:\n",
    "    df[c] = df[c].astype(float)"
   ]
  },
  {
   "cell_type": "markdown",
   "metadata": {},
   "source": [
    "In rare cases Ticket number does not fully determine the Fare or Embarked column, but we will ignore the exceptions."
   ]
  },
  {
   "cell_type": "code",
   "execution_count": 2,
   "metadata": {
    "execution": {
     "iopub.execute_input": "2022-12-28T13:21:08.357867Z",
     "iopub.status.busy": "2022-12-28T13:21:08.357316Z",
     "iopub.status.idle": "2022-12-28T13:21:08.373424Z",
     "shell.execute_reply": "2022-12-28T13:21:08.373923Z"
    }
   },
   "outputs": [
    {
     "data": {
      "text/html": [
       "<div>\n",
       "<style scoped>\n",
       "    .dataframe tbody tr th:only-of-type {\n",
       "        vertical-align: middle;\n",
       "    }\n",
       "\n",
       "    .dataframe tbody tr th {\n",
       "        vertical-align: top;\n",
       "    }\n",
       "\n",
       "    .dataframe thead th {\n",
       "        text-align: right;\n",
       "    }\n",
       "</style>\n",
       "<table border=\"1\" class=\"dataframe\">\n",
       "  <thead>\n",
       "    <tr style=\"text-align: right;\">\n",
       "      <th></th>\n",
       "      <th>Ticket</th>\n",
       "      <th>Pclass</th>\n",
       "      <th>Fare</th>\n",
       "      <th>Embarked</th>\n",
       "    </tr>\n",
       "    <tr>\n",
       "      <th>PassengerId</th>\n",
       "      <th></th>\n",
       "      <th></th>\n",
       "      <th></th>\n",
       "      <th></th>\n",
       "    </tr>\n",
       "  </thead>\n",
       "  <tbody>\n",
       "    <tr>\n",
       "      <th>271</th>\n",
       "      <td>113798</td>\n",
       "      <td>1.0</td>\n",
       "      <td>31.0000</td>\n",
       "      <td>S</td>\n",
       "    </tr>\n",
       "    <tr>\n",
       "      <th>843</th>\n",
       "      <td>113798</td>\n",
       "      <td>1.0</td>\n",
       "      <td>31.0000</td>\n",
       "      <td>C</td>\n",
       "    </tr>\n",
       "    <tr>\n",
       "      <th>139</th>\n",
       "      <td>7534</td>\n",
       "      <td>3.0</td>\n",
       "      <td>9.2167</td>\n",
       "      <td>S</td>\n",
       "    </tr>\n",
       "    <tr>\n",
       "      <th>877</th>\n",
       "      <td>7534</td>\n",
       "      <td>3.0</td>\n",
       "      <td>9.8458</td>\n",
       "      <td>S</td>\n",
       "    </tr>\n",
       "    <tr>\n",
       "      <th>270</th>\n",
       "      <td>PC 17760</td>\n",
       "      <td>1.0</td>\n",
       "      <td>135.6333</td>\n",
       "      <td>S</td>\n",
       "    </tr>\n",
       "    <tr>\n",
       "      <th>326</th>\n",
       "      <td>PC 17760</td>\n",
       "      <td>1.0</td>\n",
       "      <td>135.6333</td>\n",
       "      <td>C</td>\n",
       "    </tr>\n",
       "  </tbody>\n",
       "</table>\n",
       "</div>"
      ],
      "text/plain": [
       "               Ticket  Pclass      Fare Embarked\n",
       "PassengerId                                     \n",
       "271            113798     1.0   31.0000        S\n",
       "843            113798     1.0   31.0000        C\n",
       "139              7534     3.0    9.2167        S\n",
       "877              7534     3.0    9.8458        S\n",
       "270          PC 17760     1.0  135.6333        S\n",
       "326          PC 17760     1.0  135.6333        C"
      ]
     },
     "execution_count": 2,
     "metadata": {},
     "output_type": "execute_result"
    }
   ],
   "source": [
    "tdf = df[['Ticket','Pclass','Fare','Embarked']].drop_duplicates()\n",
    "bad_tickets = tdf.groupby('Ticket').size()\n",
    "bad_tickets = bad_tickets.loc[bad_tickets>1]\n",
    "tdf.loc[tdf.Ticket.isin(bad_tickets.index)].sort_values('Ticket')"
   ]
  },
  {
   "cell_type": "markdown",
   "metadata": {},
   "source": [
    "So the ticket dataframe is:"
   ]
  },
  {
   "cell_type": "code",
   "execution_count": 3,
   "metadata": {
    "execution": {
     "iopub.execute_input": "2022-12-28T13:21:08.378746Z",
     "iopub.status.busy": "2022-12-28T13:21:08.378006Z",
     "iopub.status.idle": "2022-12-28T13:21:08.387495Z",
     "shell.execute_reply": "2022-12-28T13:21:08.387848Z"
    }
   },
   "outputs": [
    {
     "data": {
      "text/html": [
       "<div>\n",
       "<style scoped>\n",
       "    .dataframe tbody tr th:only-of-type {\n",
       "        vertical-align: middle;\n",
       "    }\n",
       "\n",
       "    .dataframe tbody tr th {\n",
       "        vertical-align: top;\n",
       "    }\n",
       "\n",
       "    .dataframe thead th {\n",
       "        text-align: right;\n",
       "    }\n",
       "</style>\n",
       "<table border=\"1\" class=\"dataframe\">\n",
       "  <thead>\n",
       "    <tr style=\"text-align: right;\">\n",
       "      <th></th>\n",
       "      <th>Pclass</th>\n",
       "      <th>Fare</th>\n",
       "      <th>Embarked</th>\n",
       "    </tr>\n",
       "    <tr>\n",
       "      <th>Ticket</th>\n",
       "      <th></th>\n",
       "      <th></th>\n",
       "      <th></th>\n",
       "    </tr>\n",
       "  </thead>\n",
       "  <tbody>\n",
       "    <tr>\n",
       "      <th>A/5 21171</th>\n",
       "      <td>3.0</td>\n",
       "      <td>7.2500</td>\n",
       "      <td>S</td>\n",
       "    </tr>\n",
       "    <tr>\n",
       "      <th>PC 17599</th>\n",
       "      <td>1.0</td>\n",
       "      <td>71.2833</td>\n",
       "      <td>C</td>\n",
       "    </tr>\n",
       "    <tr>\n",
       "      <th>STON/O2. 3101282</th>\n",
       "      <td>3.0</td>\n",
       "      <td>7.9250</td>\n",
       "      <td>S</td>\n",
       "    </tr>\n",
       "    <tr>\n",
       "      <th>113803</th>\n",
       "      <td>1.0</td>\n",
       "      <td>53.1000</td>\n",
       "      <td>S</td>\n",
       "    </tr>\n",
       "    <tr>\n",
       "      <th>373450</th>\n",
       "      <td>3.0</td>\n",
       "      <td>8.0500</td>\n",
       "      <td>S</td>\n",
       "    </tr>\n",
       "  </tbody>\n",
       "</table>\n",
       "</div>"
      ],
      "text/plain": [
       "                  Pclass     Fare Embarked\n",
       "Ticket                                    \n",
       "A/5 21171            3.0   7.2500        S\n",
       "PC 17599             1.0  71.2833        C\n",
       "STON/O2. 3101282     3.0   7.9250        S\n",
       "113803               1.0  53.1000        S\n",
       "373450               3.0   8.0500        S"
      ]
     },
     "execution_count": 3,
     "metadata": {},
     "output_type": "execute_result"
    }
   ],
   "source": [
    "ticket_df = df[['Ticket','Pclass','Fare','Embarked']].drop_duplicates().drop_duplicates('Ticket').set_index('Ticket')\n",
    "ticket_df.head()"
   ]
  },
  {
   "cell_type": "markdown",
   "metadata": {},
   "source": [
    "Name is unique across passengers, so we will use it as an index."
   ]
  },
  {
   "cell_type": "code",
   "execution_count": 4,
   "metadata": {
    "execution": {
     "iopub.execute_input": "2022-12-28T13:21:08.392760Z",
     "iopub.status.busy": "2022-12-28T13:21:08.392159Z",
     "iopub.status.idle": "2022-12-28T13:21:08.397270Z",
     "shell.execute_reply": "2022-12-28T13:21:08.396668Z"
    }
   },
   "outputs": [
    {
     "data": {
      "text/plain": [
       "Name\n",
       "Abbing, Mr. Anthony             1\n",
       "Nysveen, Mr. Johan Hansen       1\n",
       "Nicholson, Mr. Arthur Ernest    1\n",
       "Nicola-Yarred, Master. Elias    1\n",
       "Nicola-Yarred, Miss. Jamila     1\n",
       "dtype: int64"
      ]
     },
     "execution_count": 4,
     "metadata": {},
     "output_type": "execute_result"
    }
   ],
   "source": [
    "df.groupby('Name').size().sort_values(ascending=False).head()"
   ]
  },
  {
   "cell_type": "code",
   "execution_count": 5,
   "metadata": {
    "execution": {
     "iopub.execute_input": "2022-12-28T13:21:08.406940Z",
     "iopub.status.busy": "2022-12-28T13:21:08.406280Z",
     "iopub.status.idle": "2022-12-28T13:21:08.409350Z",
     "shell.execute_reply": "2022-12-28T13:21:08.408834Z"
    }
   },
   "outputs": [
    {
     "data": {
      "text/html": [
       "<div>\n",
       "<style scoped>\n",
       "    .dataframe tbody tr th:only-of-type {\n",
       "        vertical-align: middle;\n",
       "    }\n",
       "\n",
       "    .dataframe tbody tr th {\n",
       "        vertical-align: top;\n",
       "    }\n",
       "\n",
       "    .dataframe thead th {\n",
       "        text-align: right;\n",
       "    }\n",
       "</style>\n",
       "<table border=\"1\" class=\"dataframe\">\n",
       "  <thead>\n",
       "    <tr style=\"text-align: right;\">\n",
       "      <th></th>\n",
       "      <th>Sex</th>\n",
       "      <th>Age</th>\n",
       "      <th>SibSp</th>\n",
       "      <th>Parch</th>\n",
       "    </tr>\n",
       "    <tr>\n",
       "      <th>Name</th>\n",
       "      <th></th>\n",
       "      <th></th>\n",
       "      <th></th>\n",
       "      <th></th>\n",
       "    </tr>\n",
       "  </thead>\n",
       "  <tbody>\n",
       "    <tr>\n",
       "      <th>Braund, Mr. Owen Harris</th>\n",
       "      <td>male</td>\n",
       "      <td>22.0</td>\n",
       "      <td>1.0</td>\n",
       "      <td>0.0</td>\n",
       "    </tr>\n",
       "    <tr>\n",
       "      <th>Cumings, Mrs. John Bradley (Florence Briggs Thayer)</th>\n",
       "      <td>female</td>\n",
       "      <td>38.0</td>\n",
       "      <td>1.0</td>\n",
       "      <td>0.0</td>\n",
       "    </tr>\n",
       "    <tr>\n",
       "      <th>Heikkinen, Miss. Laina</th>\n",
       "      <td>female</td>\n",
       "      <td>26.0</td>\n",
       "      <td>0.0</td>\n",
       "      <td>0.0</td>\n",
       "    </tr>\n",
       "    <tr>\n",
       "      <th>Futrelle, Mrs. Jacques Heath (Lily May Peel)</th>\n",
       "      <td>female</td>\n",
       "      <td>35.0</td>\n",
       "      <td>1.0</td>\n",
       "      <td>0.0</td>\n",
       "    </tr>\n",
       "    <tr>\n",
       "      <th>Allen, Mr. William Henry</th>\n",
       "      <td>male</td>\n",
       "      <td>35.0</td>\n",
       "      <td>0.0</td>\n",
       "      <td>0.0</td>\n",
       "    </tr>\n",
       "  </tbody>\n",
       "</table>\n",
       "</div>"
      ],
      "text/plain": [
       "                                                       Sex   Age  SibSp  Parch\n",
       "Name                                                                          \n",
       "Braund, Mr. Owen Harris                               male  22.0    1.0    0.0\n",
       "Cumings, Mrs. John Bradley (Florence Briggs Tha...  female  38.0    1.0    0.0\n",
       "Heikkinen, Miss. Laina                              female  26.0    0.0    0.0\n",
       "Futrelle, Mrs. Jacques Heath (Lily May Peel)        female  35.0    1.0    0.0\n",
       "Allen, Mr. William Henry                              male  35.0    0.0    0.0"
      ]
     },
     "execution_count": 5,
     "metadata": {},
     "output_type": "execute_result"
    }
   ],
   "source": [
    "passenger_df = df[['Name','Sex','Age','SibSp','Parch']].set_index('Name')\n",
    "passenger_df.head()"
   ]
  },
  {
   "cell_type": "markdown",
   "metadata": {},
   "source": [
    "Now, we will build the frame that sums up the information:"
   ]
  },
  {
   "cell_type": "code",
   "execution_count": 6,
   "metadata": {
    "execution": {
     "iopub.execute_input": "2022-12-28T13:21:08.419685Z",
     "iopub.status.busy": "2022-12-28T13:21:08.418936Z",
     "iopub.status.idle": "2022-12-28T13:21:08.422063Z",
     "shell.execute_reply": "2022-12-28T13:21:08.421550Z"
    }
   },
   "outputs": [
    {
     "data": {
      "text/html": [
       "<div>\n",
       "<style scoped>\n",
       "    .dataframe tbody tr th:only-of-type {\n",
       "        vertical-align: middle;\n",
       "    }\n",
       "\n",
       "    .dataframe tbody tr th {\n",
       "        vertical-align: top;\n",
       "    }\n",
       "\n",
       "    .dataframe thead th {\n",
       "        text-align: right;\n",
       "    }\n",
       "</style>\n",
       "<table border=\"1\" class=\"dataframe\">\n",
       "  <thead>\n",
       "    <tr style=\"text-align: right;\">\n",
       "      <th></th>\n",
       "      <th>Name</th>\n",
       "      <th>Ticket</th>\n",
       "      <th>Cabin</th>\n",
       "      <th>Survived</th>\n",
       "    </tr>\n",
       "    <tr>\n",
       "      <th>PassengerId</th>\n",
       "      <th></th>\n",
       "      <th></th>\n",
       "      <th></th>\n",
       "      <th></th>\n",
       "    </tr>\n",
       "  </thead>\n",
       "  <tbody>\n",
       "    <tr>\n",
       "      <th>1</th>\n",
       "      <td>Braund, Mr. Owen Harris</td>\n",
       "      <td>A/5 21171</td>\n",
       "      <td>NaN</td>\n",
       "      <td>0.0</td>\n",
       "    </tr>\n",
       "    <tr>\n",
       "      <th>2</th>\n",
       "      <td>Cumings, Mrs. John Bradley (Florence Briggs Th...</td>\n",
       "      <td>PC 17599</td>\n",
       "      <td>C85</td>\n",
       "      <td>1.0</td>\n",
       "    </tr>\n",
       "    <tr>\n",
       "      <th>3</th>\n",
       "      <td>Heikkinen, Miss. Laina</td>\n",
       "      <td>STON/O2. 3101282</td>\n",
       "      <td>NaN</td>\n",
       "      <td>1.0</td>\n",
       "    </tr>\n",
       "    <tr>\n",
       "      <th>4</th>\n",
       "      <td>Futrelle, Mrs. Jacques Heath (Lily May Peel)</td>\n",
       "      <td>113803</td>\n",
       "      <td>C123</td>\n",
       "      <td>1.0</td>\n",
       "    </tr>\n",
       "    <tr>\n",
       "      <th>5</th>\n",
       "      <td>Allen, Mr. William Henry</td>\n",
       "      <td>373450</td>\n",
       "      <td>NaN</td>\n",
       "      <td>0.0</td>\n",
       "    </tr>\n",
       "  </tbody>\n",
       "</table>\n",
       "</div>"
      ],
      "text/plain": [
       "                                                          Name  \\\n",
       "PassengerId                                                      \n",
       "1                                      Braund, Mr. Owen Harris   \n",
       "2            Cumings, Mrs. John Bradley (Florence Briggs Th...   \n",
       "3                                       Heikkinen, Miss. Laina   \n",
       "4                 Futrelle, Mrs. Jacques Heath (Lily May Peel)   \n",
       "5                                     Allen, Mr. William Henry   \n",
       "\n",
       "                       Ticket Cabin  Survived  \n",
       "PassengerId                                    \n",
       "1                   A/5 21171   NaN       0.0  \n",
       "2                    PC 17599   C85       1.0  \n",
       "3            STON/O2. 3101282   NaN       1.0  \n",
       "4                      113803  C123       1.0  \n",
       "5                      373450   NaN       0.0  "
      ]
     },
     "execution_count": 6,
     "metadata": {},
     "output_type": "execute_result"
    }
   ],
   "source": [
    "index_df = df[['Name','Ticket','Cabin','Survived']].copy()\n",
    "index_df.Survived = index_df.Survived.astype(float)\n",
    "index_df.head()"
   ]
  },
  {
   "cell_type": "code",
   "execution_count": 7,
   "metadata": {
    "execution": {
     "iopub.execute_input": "2022-12-28T13:21:08.425690Z",
     "iopub.status.busy": "2022-12-28T13:21:08.425079Z",
     "iopub.status.idle": "2022-12-28T13:21:09.086358Z",
     "shell.execute_reply": "2022-12-28T13:21:09.086674Z"
    }
   },
   "outputs": [],
   "source": [
    "from tg.common.ml import batched_training as bt\n",
    "\n",
    "bundle = bt.DataBundle(\n",
    "    index = index_df,\n",
    "    passengers = passenger_df,\n",
    "    tickets = ticket_df\n",
    ")"
   ]
  },
  {
   "cell_type": "markdown",
   "metadata": {},
   "source": [
    "Of course, such complicated structure of this bundle is totally unnesessary in this case, and we could just use the entire original dataframe as an index frame. \n",
    "\n",
    "Still, it shows how to bundle data together: we use different data sources (e.g. different table from SQL) without any joining or transformation, and bind them together by index frame.\n",
    "\n",
    "Let's also save this bundle for later use:"
   ]
  },
  {
   "cell_type": "code",
   "execution_count": 8,
   "metadata": {
    "execution": {
     "iopub.execute_input": "2022-12-28T13:21:09.090678Z",
     "iopub.status.busy": "2022-12-28T13:21:09.089933Z",
     "iopub.status.idle": "2022-12-28T13:21:09.111997Z",
     "shell.execute_reply": "2022-12-28T13:21:09.111465Z"
    }
   },
   "outputs": [],
   "source": [
    "bundle.save('temp/bundle')"
   ]
  },
  {
   "cell_type": "markdown",
   "metadata": {},
   "source": [
    "### Indexed Data Bundle\n",
    "\n",
    "We see that one of the dataframes is \"special\" in the sense that it carries a top-level information that binds together other frames. This special role is reflected in `IndexedDataBundle` class, that contains `index_frame` and `bundle`. "
   ]
  },
  {
   "cell_type": "code",
   "execution_count": 9,
   "metadata": {
    "execution": {
     "iopub.execute_input": "2022-12-28T13:21:09.115339Z",
     "iopub.status.busy": "2022-12-28T13:21:09.114751Z",
     "iopub.status.idle": "2022-12-28T13:21:09.116847Z",
     "shell.execute_reply": "2022-12-28T13:21:09.117219Z"
    }
   },
   "outputs": [],
   "source": [
    "ibundle = bt.IndexedDataBundle(bundle.index, bundle)"
   ]
  },
  {
   "cell_type": "markdown",
   "metadata": {},
   "source": [
    "## Batcher\n",
    "\n",
    "Batch is a dictionary with several dataframes that is used as a direct argument to the model. They have to be aligned (in our case, the tickets should correspond to the respective passengers), and transformed.\n",
    "\n",
    "The pipeline to produce batches from `IndexedDataBundle` is:\n",
    "1. Separate `index_frame` into parts. Each row of `index_frame` defines one individual training sample, so the batch is defined by a set of the rows, so to say the subset of `index_frame`. This part is done by `TrainingStrategy` class. \n",
    "2. For each part, pull the data from `data_frames` of the bundle and apply transformers to them. The resulting dataframes are then returned as a dictionary, which is then fed to the model for training or prediction. This is done by one or many `Extractor`.\n",
    "\n",
    "The size of the batch is determined by the parameter `batch_size`. The rule of thumb is to select the biggest possible `batch_size` that still does not overfill the memory of the machine.\n",
    "\n",
    "*Tip:* to avoid confusion between extracting with `Extractors` and transforming with `dft`, remember simple rule: transformation is about _columns_, while extraction is about _rows_.\n",
    "\n",
    "### Training Strategy\n",
    "\n",
    "Simple batcher strategy simply separates the frame into subsequent parts of the desired size. Let's create a test dataframe we will use to demonstrate different strategies:"
   ]
  },
  {
   "cell_type": "code",
   "execution_count": 10,
   "metadata": {
    "execution": {
     "iopub.execute_input": "2022-12-28T13:21:09.123227Z",
     "iopub.status.busy": "2022-12-28T13:21:09.122600Z",
     "iopub.status.idle": "2022-12-28T13:21:09.124926Z",
     "shell.execute_reply": "2022-12-28T13:21:09.125418Z"
    }
   },
   "outputs": [
    {
     "data": {
      "text/html": [
       "<div>\n",
       "<style scoped>\n",
       "    .dataframe tbody tr th:only-of-type {\n",
       "        vertical-align: middle;\n",
       "    }\n",
       "\n",
       "    .dataframe tbody tr th {\n",
       "        vertical-align: top;\n",
       "    }\n",
       "\n",
       "    .dataframe thead th {\n",
       "        text-align: right;\n",
       "    }\n",
       "</style>\n",
       "<table border=\"1\" class=\"dataframe\">\n",
       "  <thead>\n",
       "    <tr style=\"text-align: right;\">\n",
       "      <th></th>\n",
       "      <th>x</th>\n",
       "    </tr>\n",
       "  </thead>\n",
       "  <tbody>\n",
       "    <tr>\n",
       "      <th>0</th>\n",
       "      <td>0</td>\n",
       "    </tr>\n",
       "    <tr>\n",
       "      <th>1</th>\n",
       "      <td>1</td>\n",
       "    </tr>\n",
       "    <tr>\n",
       "      <th>2</th>\n",
       "      <td>2</td>\n",
       "    </tr>\n",
       "    <tr>\n",
       "      <th>3</th>\n",
       "      <td>3</td>\n",
       "    </tr>\n",
       "    <tr>\n",
       "      <th>4</th>\n",
       "      <td>4</td>\n",
       "    </tr>\n",
       "  </tbody>\n",
       "</table>\n",
       "</div>"
      ],
      "text/plain": [
       "   x\n",
       "0  0\n",
       "1  1\n",
       "2  2\n",
       "3  3\n",
       "4  4"
      ]
     },
     "execution_count": 10,
     "metadata": {},
     "output_type": "execute_result"
    }
   ],
   "source": [
    "test_df = pd.DataFrame(dict(x=list(range(5))))\n",
    "test_df"
   ]
  },
  {
   "cell_type": "markdown",
   "metadata": {},
   "source": [
    "`SimpleBatchingStrategy` simply separates the dataframe into the consequent subsets of appropriate size"
   ]
  },
  {
   "cell_type": "code",
   "execution_count": 11,
   "metadata": {
    "execution": {
     "iopub.execute_input": "2022-12-28T13:21:09.129250Z",
     "iopub.status.busy": "2022-12-28T13:21:09.128823Z",
     "iopub.status.idle": "2022-12-28T13:21:09.131395Z",
     "shell.execute_reply": "2022-12-28T13:21:09.131711Z"
    }
   },
   "outputs": [
    {
     "name": "stdout",
     "output_type": "stream",
     "text": [
      "2\n",
      "[0, 1, 2]\n",
      "[3, 4]\n"
     ]
    }
   ],
   "source": [
    "strategy = bt.SimpleBatcherStrategy()\n",
    "batch_count = strategy.get_batch_count(3,test_df)\n",
    "print(batch_count)\n",
    "for i in range(batch_count):\n",
    "    print(list(strategy.get_batch(3,test_df,i)))"
   ]
  },
  {
   "cell_type": "markdown",
   "metadata": {},
   "source": [
    "We also have `PriorityRandomBatcherStrategy`, that randomly samples rows from index frame, paying attention to the indicated weights. That can be used to balance underrepresented samples in the dataset. All of the generated batches will be of the `batch_size`, even if it's greater that dataframe size."
   ]
  },
  {
   "cell_type": "code",
   "execution_count": 12,
   "metadata": {
    "execution": {
     "iopub.execute_input": "2022-12-28T13:21:09.137128Z",
     "iopub.status.busy": "2022-12-28T13:21:09.136730Z",
     "iopub.status.idle": "2022-12-28T13:21:09.143127Z",
     "shell.execute_reply": "2022-12-28T13:21:09.143650Z"
    }
   },
   "outputs": [
    {
     "data": {
      "text/plain": [
       "x\n",
       "1     982\n",
       "2    1994\n",
       "3    2967\n",
       "4    4057\n",
       "dtype: int64"
      ]
     },
     "execution_count": 12,
     "metadata": {},
     "output_type": "execute_result"
    }
   ],
   "source": [
    "strategy = bt.PriorityRandomBatcherStrategy('x',deduplicate=False)\n",
    "batch = strategy.get_batch(10000, test_df, 0)\n",
    "test_df.loc[batch].groupby('x').size()"
   ]
  },
  {
   "cell_type": "markdown",
   "metadata": {},
   "source": [
    "The Titanic dataset's balance is okayish"
   ]
  },
  {
   "cell_type": "code",
   "execution_count": 13,
   "metadata": {
    "execution": {
     "iopub.execute_input": "2022-12-28T13:21:09.149251Z",
     "iopub.status.busy": "2022-12-28T13:21:09.146819Z",
     "iopub.status.idle": "2022-12-28T13:21:09.152073Z",
     "shell.execute_reply": "2022-12-28T13:21:09.152390Z"
    }
   },
   "outputs": [
    {
     "data": {
      "text/plain": [
       "Survived\n",
       "0.0    549\n",
       "1.0    342\n",
       "dtype: int64"
      ]
     },
     "execution_count": 13,
     "metadata": {},
     "output_type": "execute_result"
    }
   ],
   "source": [
    "ibundle.index_frame.groupby('Survived').size()"
   ]
  },
  {
   "cell_type": "markdown",
   "metadata": {},
   "source": [
    "But let's use PriorityRandomBatcherStrategy nevertheless. First, we need to compute the priority of each row, which reflects imbalance. We have a function to do so:"
   ]
  },
  {
   "cell_type": "code",
   "execution_count": 14,
   "metadata": {
    "execution": {
     "iopub.execute_input": "2022-12-28T13:21:09.158440Z",
     "iopub.status.busy": "2022-12-28T13:21:09.157791Z",
     "iopub.status.idle": "2022-12-28T13:21:09.167190Z",
     "shell.execute_reply": "2022-12-28T13:21:09.167713Z"
    }
   },
   "outputs": [
    {
     "data": {
      "text/html": [
       "<div>\n",
       "<style scoped>\n",
       "    .dataframe tbody tr th:only-of-type {\n",
       "        vertical-align: middle;\n",
       "    }\n",
       "\n",
       "    .dataframe tbody tr th {\n",
       "        vertical-align: top;\n",
       "    }\n",
       "\n",
       "    .dataframe thead th {\n",
       "        text-align: right;\n",
       "    }\n",
       "</style>\n",
       "<table border=\"1\" class=\"dataframe\">\n",
       "  <thead>\n",
       "    <tr style=\"text-align: right;\">\n",
       "      <th></th>\n",
       "      <th>Name</th>\n",
       "      <th>Ticket</th>\n",
       "      <th>Cabin</th>\n",
       "      <th>Survived</th>\n",
       "      <th>priority</th>\n",
       "    </tr>\n",
       "    <tr>\n",
       "      <th>PassengerId</th>\n",
       "      <th></th>\n",
       "      <th></th>\n",
       "      <th></th>\n",
       "      <th></th>\n",
       "      <th></th>\n",
       "    </tr>\n",
       "  </thead>\n",
       "  <tbody>\n",
       "    <tr>\n",
       "      <th>1</th>\n",
       "      <td>Braund, Mr. Owen Harris</td>\n",
       "      <td>A/5 21171</td>\n",
       "      <td>NaN</td>\n",
       "      <td>0.0</td>\n",
       "      <td>0.001821</td>\n",
       "    </tr>\n",
       "    <tr>\n",
       "      <th>2</th>\n",
       "      <td>Cumings, Mrs. John Bradley (Florence Briggs Th...</td>\n",
       "      <td>PC 17599</td>\n",
       "      <td>C85</td>\n",
       "      <td>1.0</td>\n",
       "      <td>0.002924</td>\n",
       "    </tr>\n",
       "    <tr>\n",
       "      <th>3</th>\n",
       "      <td>Heikkinen, Miss. Laina</td>\n",
       "      <td>STON/O2. 3101282</td>\n",
       "      <td>NaN</td>\n",
       "      <td>1.0</td>\n",
       "      <td>0.002924</td>\n",
       "    </tr>\n",
       "    <tr>\n",
       "      <th>4</th>\n",
       "      <td>Futrelle, Mrs. Jacques Heath (Lily May Peel)</td>\n",
       "      <td>113803</td>\n",
       "      <td>C123</td>\n",
       "      <td>1.0</td>\n",
       "      <td>0.002924</td>\n",
       "    </tr>\n",
       "    <tr>\n",
       "      <th>5</th>\n",
       "      <td>Allen, Mr. William Henry</td>\n",
       "      <td>373450</td>\n",
       "      <td>NaN</td>\n",
       "      <td>0.0</td>\n",
       "      <td>0.001821</td>\n",
       "    </tr>\n",
       "  </tbody>\n",
       "</table>\n",
       "</div>"
      ],
      "text/plain": [
       "                                                          Name  \\\n",
       "PassengerId                                                      \n",
       "1                                      Braund, Mr. Owen Harris   \n",
       "2            Cumings, Mrs. John Bradley (Florence Briggs Th...   \n",
       "3                                       Heikkinen, Miss. Laina   \n",
       "4                 Futrelle, Mrs. Jacques Heath (Lily May Peel)   \n",
       "5                                     Allen, Mr. William Henry   \n",
       "\n",
       "                       Ticket Cabin  Survived  priority  \n",
       "PassengerId                                              \n",
       "1                   A/5 21171   NaN       0.0  0.001821  \n",
       "2                    PC 17599   C85       1.0  0.002924  \n",
       "3            STON/O2. 3101282   NaN       1.0  0.002924  \n",
       "4                      113803  C123       1.0  0.002924  \n",
       "5                      373450   NaN       0.0  0.001821  "
      ]
     },
     "execution_count": 14,
     "metadata": {},
     "output_type": "execute_result"
    }
   ],
   "source": [
    "import copy\n",
    "\n",
    "ibundle_fixed = copy.deepcopy(ibundle)\n",
    "ibundle_fixed.index_frame['priority'] = bt.PriorityRandomBatcherStrategy.make_priorities_for_even_representation(\n",
    "    df = ibundle_fixed.index_frame,\n",
    "    column = 'Survived'\n",
    ")\n",
    "ibundle_fixed.index_frame.head()"
   ]
  },
  {
   "cell_type": "markdown",
   "metadata": {},
   "source": [
    "We see that survived passengers have slighly greater chances to make it to the batch.\n",
    "\n",
    "**NOTE**: you probably wouldn't do it like that in the real training. The thing is, you don't want to complicate data bundle creation with a model-specific steps like this one. We only do it to demonstrate, how the final Batcher is going to perform. We will show how to do this step properly a little later\n",
    "\n",
    "\n",
    "By the way, a good rule of thumb here is: **if you need data bundle when initializing the model, you're doing something wrong!** This is true for Single-Frame training as well, but it is especially true for batcher training, because even in our use cases some datasets are too big to be opened on our laptops, and you can only open them at the remote training instance."
   ]
  },
  {
   "cell_type": "markdown",
   "metadata": {},
   "source": [
    "### Extractors"
   ]
  },
  {
   "cell_type": "markdown",
   "metadata": {},
   "source": [
    "Extractors look at the index, provided by `BatcherStrategy`, extract data from bundle and apply transformer. In this demo, as well as in many real application, it's done by joining the dataframes with the `index_frame`. This is implemented in `PlainExtractor` class.\n",
    "\n",
    "Let's define a small sample to see how the results of the extractors look like:"
   ]
  },
  {
   "cell_type": "code",
   "execution_count": 15,
   "metadata": {
    "execution": {
     "iopub.execute_input": "2022-12-28T13:21:09.175813Z",
     "iopub.status.busy": "2022-12-28T13:21:09.175382Z",
     "iopub.status.idle": "2022-12-28T13:21:09.177908Z",
     "shell.execute_reply": "2022-12-28T13:21:09.178222Z"
    }
   },
   "outputs": [
    {
     "data": {
      "text/html": [
       "<div>\n",
       "<style scoped>\n",
       "    .dataframe tbody tr th:only-of-type {\n",
       "        vertical-align: middle;\n",
       "    }\n",
       "\n",
       "    .dataframe tbody tr th {\n",
       "        vertical-align: top;\n",
       "    }\n",
       "\n",
       "    .dataframe thead th {\n",
       "        text-align: right;\n",
       "    }\n",
       "</style>\n",
       "<table border=\"1\" class=\"dataframe\">\n",
       "  <thead>\n",
       "    <tr style=\"text-align: right;\">\n",
       "      <th></th>\n",
       "      <th>Name</th>\n",
       "      <th>Ticket</th>\n",
       "      <th>Cabin</th>\n",
       "      <th>Survived</th>\n",
       "      <th>priority</th>\n",
       "    </tr>\n",
       "    <tr>\n",
       "      <th>PassengerId</th>\n",
       "      <th></th>\n",
       "      <th></th>\n",
       "      <th></th>\n",
       "      <th></th>\n",
       "      <th></th>\n",
       "    </tr>\n",
       "  </thead>\n",
       "  <tbody>\n",
       "    <tr>\n",
       "      <th>11</th>\n",
       "      <td>Sandstrom, Miss. Marguerite Rut</td>\n",
       "      <td>PP 9549</td>\n",
       "      <td>G6</td>\n",
       "      <td>1.0</td>\n",
       "      <td>0.002924</td>\n",
       "    </tr>\n",
       "    <tr>\n",
       "      <th>12</th>\n",
       "      <td>Bonnell, Miss. Elizabeth</td>\n",
       "      <td>113783</td>\n",
       "      <td>C103</td>\n",
       "      <td>1.0</td>\n",
       "      <td>0.002924</td>\n",
       "    </tr>\n",
       "    <tr>\n",
       "      <th>13</th>\n",
       "      <td>Saundercock, Mr. William Henry</td>\n",
       "      <td>A/5. 2151</td>\n",
       "      <td>NaN</td>\n",
       "      <td>0.0</td>\n",
       "      <td>0.001821</td>\n",
       "    </tr>\n",
       "  </tbody>\n",
       "</table>\n",
       "</div>"
      ],
      "text/plain": [
       "                                        Name     Ticket Cabin  Survived  \\\n",
       "PassengerId                                                               \n",
       "11           Sandstrom, Miss. Marguerite Rut    PP 9549    G6       1.0   \n",
       "12                  Bonnell, Miss. Elizabeth     113783  C103       1.0   \n",
       "13            Saundercock, Mr. William Henry  A/5. 2151   NaN       0.0   \n",
       "\n",
       "             priority  \n",
       "PassengerId            \n",
       "11           0.002924  \n",
       "12           0.002924  \n",
       "13           0.001821  "
      ]
     },
     "execution_count": 15,
     "metadata": {},
     "output_type": "execute_result"
    }
   ],
   "source": [
    "ibundle_sample = ibundle_fixed.change_index(ibundle_fixed.index_frame.iloc[10:13])\n",
    "ibundle_sample.index_frame"
   ]
  },
  {
   "cell_type": "markdown",
   "metadata": {},
   "source": [
    "The most simple case is when data extracted from index itself, which is the case for the label:"
   ]
  },
  {
   "cell_type": "code",
   "execution_count": 16,
   "metadata": {
    "execution": {
     "iopub.execute_input": "2022-12-28T13:21:09.185983Z",
     "iopub.status.busy": "2022-12-28T13:21:09.185365Z",
     "iopub.status.idle": "2022-12-28T13:21:09.188206Z",
     "shell.execute_reply": "2022-12-28T13:21:09.188697Z"
    }
   },
   "outputs": [
    {
     "data": {
      "text/html": [
       "<div>\n",
       "<style scoped>\n",
       "    .dataframe tbody tr th:only-of-type {\n",
       "        vertical-align: middle;\n",
       "    }\n",
       "\n",
       "    .dataframe tbody tr th {\n",
       "        vertical-align: top;\n",
       "    }\n",
       "\n",
       "    .dataframe thead th {\n",
       "        text-align: right;\n",
       "    }\n",
       "</style>\n",
       "<table border=\"1\" class=\"dataframe\">\n",
       "  <thead>\n",
       "    <tr style=\"text-align: right;\">\n",
       "      <th></th>\n",
       "      <th>Survived</th>\n",
       "    </tr>\n",
       "    <tr>\n",
       "      <th>PassengerId</th>\n",
       "      <th></th>\n",
       "    </tr>\n",
       "  </thead>\n",
       "  <tbody>\n",
       "    <tr>\n",
       "      <th>11</th>\n",
       "      <td>1.0</td>\n",
       "    </tr>\n",
       "    <tr>\n",
       "      <th>12</th>\n",
       "      <td>1.0</td>\n",
       "    </tr>\n",
       "    <tr>\n",
       "      <th>13</th>\n",
       "      <td>0.0</td>\n",
       "    </tr>\n",
       "  </tbody>\n",
       "</table>\n",
       "</div>"
      ],
      "text/plain": [
       "             Survived\n",
       "PassengerId          \n",
       "11                1.0\n",
       "12                1.0\n",
       "13                0.0"
      ]
     },
     "execution_count": 16,
     "metadata": {},
     "output_type": "execute_result"
    }
   ],
   "source": [
    "label_extractor = bt.PlainExtractor.build(name='labels').apply(take_columns='Survived')\n",
    "label_extractor.extract(ibundle_sample)"
   ]
  },
  {
   "cell_type": "markdown",
   "metadata": {},
   "source": [
    "Cabin also should be extracted from the index, but this time we will need a transformer.\n",
    "\n",
    "**NOTE**: you don't need to `fit` anything manually! Again, we do it just to demonstrate how the classes work. All the fitting is done internally, you only need to define the instances of the corresponding classes. "
   ]
  },
  {
   "cell_type": "code",
   "execution_count": 17,
   "metadata": {
    "execution": {
     "iopub.execute_input": "2022-12-28T13:21:09.192415Z",
     "iopub.status.busy": "2022-12-28T13:21:09.192006Z",
     "iopub.status.idle": "2022-12-28T13:21:09.236676Z",
     "shell.execute_reply": "2022-12-28T13:21:09.236989Z"
    }
   },
   "outputs": [
    {
     "data": {
      "text/html": [
       "<div>\n",
       "<style scoped>\n",
       "    .dataframe tbody tr th:only-of-type {\n",
       "        vertical-align: middle;\n",
       "    }\n",
       "\n",
       "    .dataframe tbody tr th {\n",
       "        vertical-align: top;\n",
       "    }\n",
       "\n",
       "    .dataframe thead th {\n",
       "        text-align: right;\n",
       "    }\n",
       "</style>\n",
       "<table border=\"1\" class=\"dataframe\">\n",
       "  <thead>\n",
       "    <tr style=\"text-align: right;\">\n",
       "      <th></th>\n",
       "      <th>Cabin_C23 C25 C27</th>\n",
       "      <th>Cabin_G6</th>\n",
       "      <th>Cabin_B96 B98</th>\n",
       "      <th>Cabin_F2</th>\n",
       "      <th>Cabin_C22 C26</th>\n",
       "      <th>Cabin_E101</th>\n",
       "      <th>Cabin_F33</th>\n",
       "      <th>Cabin_D</th>\n",
       "      <th>Cabin_C78</th>\n",
       "      <th>Cabin_B57 B59 B63 B66</th>\n",
       "      <th>...</th>\n",
       "      <th>Cabin_C123</th>\n",
       "      <th>Cabin_C124</th>\n",
       "      <th>Cabin_C125</th>\n",
       "      <th>Cabin_C126</th>\n",
       "      <th>Cabin_D36</th>\n",
       "      <th>Cabin_C2</th>\n",
       "      <th>Cabin_C83</th>\n",
       "      <th>Cabin_E25</th>\n",
       "      <th>Cabin_OTHER</th>\n",
       "      <th>Cabin_NULL</th>\n",
       "    </tr>\n",
       "    <tr>\n",
       "      <th>PassengerId</th>\n",
       "      <th></th>\n",
       "      <th></th>\n",
       "      <th></th>\n",
       "      <th></th>\n",
       "      <th></th>\n",
       "      <th></th>\n",
       "      <th></th>\n",
       "      <th></th>\n",
       "      <th></th>\n",
       "      <th></th>\n",
       "      <th></th>\n",
       "      <th></th>\n",
       "      <th></th>\n",
       "      <th></th>\n",
       "      <th></th>\n",
       "      <th></th>\n",
       "      <th></th>\n",
       "      <th></th>\n",
       "      <th></th>\n",
       "      <th></th>\n",
       "      <th></th>\n",
       "    </tr>\n",
       "  </thead>\n",
       "  <tbody>\n",
       "    <tr>\n",
       "      <th>11</th>\n",
       "      <td>0.0</td>\n",
       "      <td>1.0</td>\n",
       "      <td>0.0</td>\n",
       "      <td>0.0</td>\n",
       "      <td>0.0</td>\n",
       "      <td>0.0</td>\n",
       "      <td>0.0</td>\n",
       "      <td>0.0</td>\n",
       "      <td>0.0</td>\n",
       "      <td>0.0</td>\n",
       "      <td>...</td>\n",
       "      <td>0.0</td>\n",
       "      <td>0.0</td>\n",
       "      <td>0.0</td>\n",
       "      <td>0.0</td>\n",
       "      <td>0.0</td>\n",
       "      <td>0.0</td>\n",
       "      <td>0.0</td>\n",
       "      <td>0.0</td>\n",
       "      <td>0.0</td>\n",
       "      <td>0.0</td>\n",
       "    </tr>\n",
       "    <tr>\n",
       "      <th>12</th>\n",
       "      <td>0.0</td>\n",
       "      <td>0.0</td>\n",
       "      <td>0.0</td>\n",
       "      <td>0.0</td>\n",
       "      <td>0.0</td>\n",
       "      <td>0.0</td>\n",
       "      <td>0.0</td>\n",
       "      <td>0.0</td>\n",
       "      <td>0.0</td>\n",
       "      <td>0.0</td>\n",
       "      <td>...</td>\n",
       "      <td>0.0</td>\n",
       "      <td>0.0</td>\n",
       "      <td>0.0</td>\n",
       "      <td>0.0</td>\n",
       "      <td>0.0</td>\n",
       "      <td>0.0</td>\n",
       "      <td>0.0</td>\n",
       "      <td>0.0</td>\n",
       "      <td>1.0</td>\n",
       "      <td>0.0</td>\n",
       "    </tr>\n",
       "    <tr>\n",
       "      <th>13</th>\n",
       "      <td>0.0</td>\n",
       "      <td>0.0</td>\n",
       "      <td>0.0</td>\n",
       "      <td>0.0</td>\n",
       "      <td>0.0</td>\n",
       "      <td>0.0</td>\n",
       "      <td>0.0</td>\n",
       "      <td>0.0</td>\n",
       "      <td>0.0</td>\n",
       "      <td>0.0</td>\n",
       "      <td>...</td>\n",
       "      <td>0.0</td>\n",
       "      <td>0.0</td>\n",
       "      <td>0.0</td>\n",
       "      <td>0.0</td>\n",
       "      <td>0.0</td>\n",
       "      <td>0.0</td>\n",
       "      <td>0.0</td>\n",
       "      <td>0.0</td>\n",
       "      <td>0.0</td>\n",
       "      <td>1.0</td>\n",
       "    </tr>\n",
       "  </tbody>\n",
       "</table>\n",
       "<p>3 rows × 25 columns</p>\n",
       "</div>"
      ],
      "text/plain": [
       "             Cabin_C23 C25 C27  Cabin_G6  Cabin_B96 B98  Cabin_F2  \\\n",
       "PassengerId                                                         \n",
       "11                         0.0       1.0            0.0       0.0   \n",
       "12                         0.0       0.0            0.0       0.0   \n",
       "13                         0.0       0.0            0.0       0.0   \n",
       "\n",
       "             Cabin_C22 C26  Cabin_E101  Cabin_F33  Cabin_D  Cabin_C78  \\\n",
       "PassengerId                                                             \n",
       "11                     0.0         0.0        0.0      0.0        0.0   \n",
       "12                     0.0         0.0        0.0      0.0        0.0   \n",
       "13                     0.0         0.0        0.0      0.0        0.0   \n",
       "\n",
       "             Cabin_B57 B59 B63 B66  ...  Cabin_C123  Cabin_C124  Cabin_C125  \\\n",
       "PassengerId                         ...                                       \n",
       "11                             0.0  ...         0.0         0.0         0.0   \n",
       "12                             0.0  ...         0.0         0.0         0.0   \n",
       "13                             0.0  ...         0.0         0.0         0.0   \n",
       "\n",
       "             Cabin_C126  Cabin_D36  Cabin_C2  Cabin_C83  Cabin_E25  \\\n",
       "PassengerId                                                          \n",
       "11                  0.0        0.0       0.0        0.0        0.0   \n",
       "12                  0.0        0.0       0.0        0.0        0.0   \n",
       "13                  0.0        0.0       0.0        0.0        0.0   \n",
       "\n",
       "             Cabin_OTHER  Cabin_NULL  \n",
       "PassengerId                           \n",
       "11                   0.0         0.0  \n",
       "12                   1.0         0.0  \n",
       "13                   0.0         1.0  \n",
       "\n",
       "[3 rows x 25 columns]"
      ]
     },
     "execution_count": 17,
     "metadata": {},
     "output_type": "execute_result"
    }
   ],
   "source": [
    "from tg.common.ml import dft\n",
    "\n",
    "tfac = dft.DataFrameTransformerFactory.default_factory\n",
    "\n",
    "cabin_extractor = bt.PlainExtractor.build(name='cabin').index().apply(transformer=tfac(), take_columns='Cabin')\n",
    "cabin_extractor.fit(ibundle_fixed)\n",
    "cabin_extractor.extract(ibundle_sample)"
   ]
  },
  {
   "cell_type": "markdown",
   "metadata": {},
   "source": [
    "**Note** that `tfac` here is not an object, but a function that constructs the object. This is because we will have several extractors, and each of them have to have their own transformer! This is a common error and in fact `PlainExtractor` makes a deepcopy of transformer to circumvent the problem if one appears due to the oversight."
   ]
  },
  {
   "cell_type": "markdown",
   "metadata": {},
   "source": [
    "To extract features from other dataframes, we will need to add `join` method."
   ]
  },
  {
   "cell_type": "code",
   "execution_count": 18,
   "metadata": {
    "execution": {
     "iopub.execute_input": "2022-12-28T13:21:09.244111Z",
     "iopub.status.busy": "2022-12-28T13:21:09.241578Z",
     "iopub.status.idle": "2022-12-28T13:21:09.268044Z",
     "shell.execute_reply": "2022-12-28T13:21:09.267519Z"
    }
   },
   "outputs": [
    {
     "data": {
      "text/html": [
       "<div>\n",
       "<style scoped>\n",
       "    .dataframe tbody tr th:only-of-type {\n",
       "        vertical-align: middle;\n",
       "    }\n",
       "\n",
       "    .dataframe tbody tr th {\n",
       "        vertical-align: top;\n",
       "    }\n",
       "\n",
       "    .dataframe thead th {\n",
       "        text-align: right;\n",
       "    }\n",
       "</style>\n",
       "<table border=\"1\" class=\"dataframe\">\n",
       "  <thead>\n",
       "    <tr style=\"text-align: right;\">\n",
       "      <th></th>\n",
       "      <th>Age</th>\n",
       "      <th>SibSp</th>\n",
       "      <th>Parch</th>\n",
       "      <th>Age_missing</th>\n",
       "      <th>Sex_male</th>\n",
       "      <th>Sex_female</th>\n",
       "    </tr>\n",
       "    <tr>\n",
       "      <th>PassengerId</th>\n",
       "      <th></th>\n",
       "      <th></th>\n",
       "      <th></th>\n",
       "      <th></th>\n",
       "      <th></th>\n",
       "      <th></th>\n",
       "    </tr>\n",
       "  </thead>\n",
       "  <tbody>\n",
       "    <tr>\n",
       "      <th>11</th>\n",
       "      <td>-1.770360</td>\n",
       "      <td>0.432793</td>\n",
       "      <td>0.767630</td>\n",
       "      <td>False</td>\n",
       "      <td>0.0</td>\n",
       "      <td>1.0</td>\n",
       "    </tr>\n",
       "    <tr>\n",
       "      <th>12</th>\n",
       "      <td>1.949591</td>\n",
       "      <td>-0.474545</td>\n",
       "      <td>-0.473674</td>\n",
       "      <td>False</td>\n",
       "      <td>0.0</td>\n",
       "      <td>1.0</td>\n",
       "    </tr>\n",
       "    <tr>\n",
       "      <th>13</th>\n",
       "      <td>-0.668153</td>\n",
       "      <td>-0.474545</td>\n",
       "      <td>-0.473674</td>\n",
       "      <td>False</td>\n",
       "      <td>1.0</td>\n",
       "      <td>0.0</td>\n",
       "    </tr>\n",
       "  </tbody>\n",
       "</table>\n",
       "</div>"
      ],
      "text/plain": [
       "                  Age     SibSp     Parch Age_missing  Sex_male  Sex_female\n",
       "PassengerId                                                                \n",
       "11          -1.770360  0.432793  0.767630       False       0.0         1.0\n",
       "12           1.949591 -0.474545 -0.473674       False       0.0         1.0\n",
       "13          -0.668153 -0.474545 -0.473674       False       1.0         0.0"
      ]
     },
     "execution_count": 18,
     "metadata": {},
     "output_type": "execute_result"
    }
   ],
   "source": [
    "passenger_extractor = (bt.PlainExtractor.build('passengers')\n",
    "                       .index()\n",
    "                       .join(frame_name='passengers', on_columns='Name')\n",
    "                       .apply(transformer=tfac())\n",
    "                      )\n",
    "passenger_extractor.fit(ibundle_fixed)\n",
    "passenger_extractor.extract(ibundle_sample)"
   ]
  },
  {
   "cell_type": "markdown",
   "metadata": {},
   "source": [
    "Notice that the resulting dataframe is indexed the same way the `ibundle_sample.index_frame` is.\n",
    "\n",
    "Let's repeat this for tickets as well."
   ]
  },
  {
   "cell_type": "code",
   "execution_count": 19,
   "metadata": {
    "execution": {
     "iopub.execute_input": "2022-12-28T13:21:09.274491Z",
     "iopub.status.busy": "2022-12-28T13:21:09.273827Z",
     "iopub.status.idle": "2022-12-28T13:21:09.298766Z",
     "shell.execute_reply": "2022-12-28T13:21:09.299147Z"
    }
   },
   "outputs": [
    {
     "data": {
      "text/html": [
       "<div>\n",
       "<style scoped>\n",
       "    .dataframe tbody tr th:only-of-type {\n",
       "        vertical-align: middle;\n",
       "    }\n",
       "\n",
       "    .dataframe tbody tr th {\n",
       "        vertical-align: top;\n",
       "    }\n",
       "\n",
       "    .dataframe thead th {\n",
       "        text-align: right;\n",
       "    }\n",
       "</style>\n",
       "<table border=\"1\" class=\"dataframe\">\n",
       "  <thead>\n",
       "    <tr style=\"text-align: right;\">\n",
       "      <th></th>\n",
       "      <th>Pclass</th>\n",
       "      <th>Fare</th>\n",
       "      <th>Embarked_S</th>\n",
       "      <th>Embarked_C</th>\n",
       "      <th>Embarked_Q</th>\n",
       "      <th>Embarked_NULL</th>\n",
       "    </tr>\n",
       "    <tr>\n",
       "      <th>PassengerId</th>\n",
       "      <th></th>\n",
       "      <th></th>\n",
       "      <th></th>\n",
       "      <th></th>\n",
       "      <th></th>\n",
       "      <th></th>\n",
       "    </tr>\n",
       "  </thead>\n",
       "  <tbody>\n",
       "    <tr>\n",
       "      <th>11</th>\n",
       "      <td>0.827377</td>\n",
       "      <td>-0.312156</td>\n",
       "      <td>1.0</td>\n",
       "      <td>0.0</td>\n",
       "      <td>0.0</td>\n",
       "      <td>0.0</td>\n",
       "    </tr>\n",
       "    <tr>\n",
       "      <th>12</th>\n",
       "      <td>-1.566107</td>\n",
       "      <td>-0.113831</td>\n",
       "      <td>1.0</td>\n",
       "      <td>0.0</td>\n",
       "      <td>0.0</td>\n",
       "      <td>0.0</td>\n",
       "    </tr>\n",
       "    <tr>\n",
       "      <th>13</th>\n",
       "      <td>0.827377</td>\n",
       "      <td>-0.486320</td>\n",
       "      <td>1.0</td>\n",
       "      <td>0.0</td>\n",
       "      <td>0.0</td>\n",
       "      <td>0.0</td>\n",
       "    </tr>\n",
       "  </tbody>\n",
       "</table>\n",
       "</div>"
      ],
      "text/plain": [
       "               Pclass      Fare  Embarked_S  Embarked_C  Embarked_Q  \\\n",
       "PassengerId                                                           \n",
       "11           0.827377 -0.312156         1.0         0.0         0.0   \n",
       "12          -1.566107 -0.113831         1.0         0.0         0.0   \n",
       "13           0.827377 -0.486320         1.0         0.0         0.0   \n",
       "\n",
       "             Embarked_NULL  \n",
       "PassengerId                 \n",
       "11                     0.0  \n",
       "12                     0.0  \n",
       "13                     0.0  "
      ]
     },
     "execution_count": 19,
     "metadata": {},
     "output_type": "execute_result"
    }
   ],
   "source": [
    "ticket_extractor = (bt.PlainExtractor.build(name='tickets')\n",
    "                    .index()\n",
    "                    .join(frame_name='tickets', on_columns='Ticket')\n",
    "                    .apply(transformer=tfac())\n",
    "                   )\n",
    "ticket_extractor.fit(ibundle_fixed)\n",
    "ticket_extractor.extract(ibundle_sample)"
   ]
  },
  {
   "cell_type": "markdown",
   "metadata": {},
   "source": [
    "Now, we have 4 extractors, but we really do not need so much dataframes in batches. We only need have features and labels. So we will unite the feature extractors into one:"
   ]
  },
  {
   "cell_type": "code",
   "execution_count": 20,
   "metadata": {
    "execution": {
     "iopub.execute_input": "2022-12-28T13:21:09.307106Z",
     "iopub.status.busy": "2022-12-28T13:21:09.306480Z",
     "iopub.status.idle": "2022-12-28T13:21:09.359138Z",
     "shell.execute_reply": "2022-12-28T13:21:09.358747Z"
    }
   },
   "outputs": [
    {
     "data": {
      "text/html": [
       "<div>\n",
       "<style scoped>\n",
       "    .dataframe tbody tr th:only-of-type {\n",
       "        vertical-align: middle;\n",
       "    }\n",
       "\n",
       "    .dataframe tbody tr th {\n",
       "        vertical-align: top;\n",
       "    }\n",
       "\n",
       "    .dataframe thead th {\n",
       "        text-align: right;\n",
       "    }\n",
       "</style>\n",
       "<table border=\"1\" class=\"dataframe\">\n",
       "  <thead>\n",
       "    <tr style=\"text-align: right;\">\n",
       "      <th></th>\n",
       "      <th>cabin_Cabin_C23 C25 C27</th>\n",
       "      <th>cabin_Cabin_G6</th>\n",
       "      <th>cabin_Cabin_B96 B98</th>\n",
       "      <th>cabin_Cabin_F2</th>\n",
       "      <th>cabin_Cabin_C22 C26</th>\n",
       "      <th>cabin_Cabin_E101</th>\n",
       "      <th>cabin_Cabin_F33</th>\n",
       "      <th>cabin_Cabin_D</th>\n",
       "      <th>cabin_Cabin_C78</th>\n",
       "      <th>cabin_Cabin_B57 B59 B63 B66</th>\n",
       "      <th>...</th>\n",
       "      <th>passengers_Parch</th>\n",
       "      <th>passengers_Age_missing</th>\n",
       "      <th>passengers_Sex_male</th>\n",
       "      <th>passengers_Sex_female</th>\n",
       "      <th>tickets_Pclass</th>\n",
       "      <th>tickets_Fare</th>\n",
       "      <th>tickets_Embarked_S</th>\n",
       "      <th>tickets_Embarked_C</th>\n",
       "      <th>tickets_Embarked_Q</th>\n",
       "      <th>tickets_Embarked_NULL</th>\n",
       "    </tr>\n",
       "    <tr>\n",
       "      <th>PassengerId</th>\n",
       "      <th></th>\n",
       "      <th></th>\n",
       "      <th></th>\n",
       "      <th></th>\n",
       "      <th></th>\n",
       "      <th></th>\n",
       "      <th></th>\n",
       "      <th></th>\n",
       "      <th></th>\n",
       "      <th></th>\n",
       "      <th></th>\n",
       "      <th></th>\n",
       "      <th></th>\n",
       "      <th></th>\n",
       "      <th></th>\n",
       "      <th></th>\n",
       "      <th></th>\n",
       "      <th></th>\n",
       "      <th></th>\n",
       "      <th></th>\n",
       "      <th></th>\n",
       "    </tr>\n",
       "  </thead>\n",
       "  <tbody>\n",
       "    <tr>\n",
       "      <th>11</th>\n",
       "      <td>0.0</td>\n",
       "      <td>1.0</td>\n",
       "      <td>0.0</td>\n",
       "      <td>0.0</td>\n",
       "      <td>0.0</td>\n",
       "      <td>0.0</td>\n",
       "      <td>0.0</td>\n",
       "      <td>0.0</td>\n",
       "      <td>0.0</td>\n",
       "      <td>0.0</td>\n",
       "      <td>...</td>\n",
       "      <td>0.767630</td>\n",
       "      <td>False</td>\n",
       "      <td>0.0</td>\n",
       "      <td>1.0</td>\n",
       "      <td>0.827377</td>\n",
       "      <td>-0.312156</td>\n",
       "      <td>1.0</td>\n",
       "      <td>0.0</td>\n",
       "      <td>0.0</td>\n",
       "      <td>0.0</td>\n",
       "    </tr>\n",
       "    <tr>\n",
       "      <th>12</th>\n",
       "      <td>0.0</td>\n",
       "      <td>0.0</td>\n",
       "      <td>0.0</td>\n",
       "      <td>0.0</td>\n",
       "      <td>0.0</td>\n",
       "      <td>0.0</td>\n",
       "      <td>0.0</td>\n",
       "      <td>0.0</td>\n",
       "      <td>0.0</td>\n",
       "      <td>0.0</td>\n",
       "      <td>...</td>\n",
       "      <td>-0.473674</td>\n",
       "      <td>False</td>\n",
       "      <td>0.0</td>\n",
       "      <td>1.0</td>\n",
       "      <td>-1.566107</td>\n",
       "      <td>-0.113831</td>\n",
       "      <td>1.0</td>\n",
       "      <td>0.0</td>\n",
       "      <td>0.0</td>\n",
       "      <td>0.0</td>\n",
       "    </tr>\n",
       "    <tr>\n",
       "      <th>13</th>\n",
       "      <td>0.0</td>\n",
       "      <td>0.0</td>\n",
       "      <td>0.0</td>\n",
       "      <td>0.0</td>\n",
       "      <td>0.0</td>\n",
       "      <td>0.0</td>\n",
       "      <td>0.0</td>\n",
       "      <td>0.0</td>\n",
       "      <td>0.0</td>\n",
       "      <td>0.0</td>\n",
       "      <td>...</td>\n",
       "      <td>-0.473674</td>\n",
       "      <td>False</td>\n",
       "      <td>1.0</td>\n",
       "      <td>0.0</td>\n",
       "      <td>0.827377</td>\n",
       "      <td>-0.486320</td>\n",
       "      <td>1.0</td>\n",
       "      <td>0.0</td>\n",
       "      <td>0.0</td>\n",
       "      <td>0.0</td>\n",
       "    </tr>\n",
       "  </tbody>\n",
       "</table>\n",
       "<p>3 rows × 37 columns</p>\n",
       "</div>"
      ],
      "text/plain": [
       "             cabin_Cabin_C23 C25 C27  cabin_Cabin_G6  cabin_Cabin_B96 B98  \\\n",
       "PassengerId                                                                 \n",
       "11                               0.0             1.0                  0.0   \n",
       "12                               0.0             0.0                  0.0   \n",
       "13                               0.0             0.0                  0.0   \n",
       "\n",
       "             cabin_Cabin_F2  cabin_Cabin_C22 C26  cabin_Cabin_E101  \\\n",
       "PassengerId                                                          \n",
       "11                      0.0                  0.0               0.0   \n",
       "12                      0.0                  0.0               0.0   \n",
       "13                      0.0                  0.0               0.0   \n",
       "\n",
       "             cabin_Cabin_F33  cabin_Cabin_D  cabin_Cabin_C78  \\\n",
       "PassengerId                                                    \n",
       "11                       0.0            0.0              0.0   \n",
       "12                       0.0            0.0              0.0   \n",
       "13                       0.0            0.0              0.0   \n",
       "\n",
       "             cabin_Cabin_B57 B59 B63 B66  ...  passengers_Parch  \\\n",
       "PassengerId                               ...                     \n",
       "11                                   0.0  ...          0.767630   \n",
       "12                                   0.0  ...         -0.473674   \n",
       "13                                   0.0  ...         -0.473674   \n",
       "\n",
       "             passengers_Age_missing  passengers_Sex_male  \\\n",
       "PassengerId                                                \n",
       "11                            False                  0.0   \n",
       "12                            False                  0.0   \n",
       "13                            False                  1.0   \n",
       "\n",
       "             passengers_Sex_female  tickets_Pclass  tickets_Fare  \\\n",
       "PassengerId                                                        \n",
       "11                             1.0        0.827377     -0.312156   \n",
       "12                             1.0       -1.566107     -0.113831   \n",
       "13                             0.0        0.827377     -0.486320   \n",
       "\n",
       "             tickets_Embarked_S  tickets_Embarked_C  tickets_Embarked_Q  \\\n",
       "PassengerId                                                               \n",
       "11                          1.0                 0.0                 0.0   \n",
       "12                          1.0                 0.0                 0.0   \n",
       "13                          1.0                 0.0                 0.0   \n",
       "\n",
       "             tickets_Embarked_NULL  \n",
       "PassengerId                         \n",
       "11                             0.0  \n",
       "12                             0.0  \n",
       "13                             0.0  \n",
       "\n",
       "[3 rows x 37 columns]"
      ]
     },
     "execution_count": 20,
     "metadata": {},
     "output_type": "execute_result"
    }
   ],
   "source": [
    "feature_extractor = bt.CombinedExtractor('features',[cabin_extractor, passenger_extractor, ticket_extractor])\n",
    "feature_extractor.fit(ibundle_fixed)\n",
    "feature_extractor.extract(ibundle_sample)"
   ]
  },
  {
   "cell_type": "markdown",
   "metadata": {},
   "source": [
    "### Batcher\n",
    "\n",
    "Now we are ready to define the Batcher:"
   ]
  },
  {
   "cell_type": "code",
   "execution_count": 21,
   "metadata": {
    "execution": {
     "iopub.execute_input": "2022-12-28T13:21:09.362803Z",
     "iopub.status.busy": "2022-12-28T13:21:09.362203Z",
     "iopub.status.idle": "2022-12-28T13:21:09.364028Z",
     "shell.execute_reply": "2022-12-28T13:21:09.364523Z"
    }
   },
   "outputs": [],
   "source": [
    "batcher = bt.Batcher(\n",
    "    extractors = [feature_extractor, label_extractor],\n",
    "    batching_strategy = bt.PriorityRandomBatcherStrategy('priority')\n",
    ")"
   ]
  },
  {
   "cell_type": "markdown",
   "metadata": {},
   "source": [
    "Let's take a look at the batch produced"
   ]
  },
  {
   "cell_type": "code",
   "execution_count": 22,
   "metadata": {
    "execution": {
     "iopub.execute_input": "2022-12-28T13:21:09.373344Z",
     "iopub.status.busy": "2022-12-28T13:21:09.372729Z",
     "iopub.status.idle": "2022-12-28T13:21:09.414301Z",
     "shell.execute_reply": "2022-12-28T13:21:09.414799Z"
    }
   },
   "outputs": [
    {
     "data": {
      "text/plain": [
       "<tg.common.ml.batched_training.data_bundle.IndexedDataBundle at 0x7f8c24b0fb50>"
      ]
     },
     "execution_count": 22,
     "metadata": {},
     "output_type": "execute_result"
    }
   ],
   "source": [
    "batch_size = 50\n",
    "batch = batcher.fit_extract(batch_size, ibundle_fixed)\n",
    "batch"
   ]
  },
  {
   "cell_type": "markdown",
   "metadata": {},
   "source": [
    "So, batch is of type `DataBundle`, and contains index, features, and labels. \n",
    "\n",
    "The batch is balanced"
   ]
  },
  {
   "cell_type": "code",
   "execution_count": 23,
   "metadata": {
    "execution": {
     "iopub.execute_input": "2022-12-28T13:21:09.420665Z",
     "iopub.status.busy": "2022-12-28T13:21:09.420107Z",
     "iopub.status.idle": "2022-12-28T13:21:09.422624Z",
     "shell.execute_reply": "2022-12-28T13:21:09.423135Z"
    }
   },
   "outputs": [
    {
     "data": {
      "text/plain": [
       "Survived\n",
       "0.0    30\n",
       "1.0    17\n",
       "dtype: int64"
      ]
     },
     "execution_count": 23,
     "metadata": {},
     "output_type": "execute_result"
    }
   ],
   "source": [
    "batch['labels'].groupby('Survived').size()"
   ]
  },
  {
   "cell_type": "markdown",
   "metadata": {},
   "source": [
    "**Note:** due to the technical reasons, `PlainExtractor`, as well as other extractors, do not support extraction in case when the output of `BatchingStrategy` contains duplicated rows. This is why by default, `PriorityRandomBatcherStrategy` deduplicates them, and therefore cannot return more rows that there are in the bundle. We consider fixing this issue in the future releases, but since the datasets are normaly (much) bigger than batches, not with the high priority."
   ]
  },
  {
   "cell_type": "code",
   "execution_count": 24,
   "metadata": {
    "execution": {
     "iopub.execute_input": "2022-12-28T13:21:09.427207Z",
     "iopub.status.busy": "2022-12-28T13:21:09.426635Z",
     "iopub.status.idle": "2022-12-28T13:21:09.476484Z",
     "shell.execute_reply": "2022-12-28T13:21:09.476985Z"
    }
   },
   "outputs": [
    {
     "data": {
      "text/plain": [
       "Survived\n",
       "0.0    22\n",
       "1.0    27\n",
       "dtype: int64"
      ]
     },
     "execution_count": 24,
     "metadata": {},
     "output_type": "execute_result"
    }
   ],
   "source": [
    "test_batcher = bt.Batcher(\n",
    "    extractors = [feature_extractor, label_extractor],\n",
    "    batching_strategy = bt.PriorityRandomBatcherStrategy('priority')\n",
    ")\n",
    "test_batch = test_batcher.fit_extract(batch_size, ibundle_fixed)\n",
    "test_batch['labels'].groupby('Survived').size()"
   ]
  },
  {
   "cell_type": "markdown",
   "metadata": {},
   "source": [
    "### Minibatches\n",
    "\n",
    "Batch size has the following effects on training:\n",
    "  1. It defines amount of memory, consumed by the training instance\n",
    "  1. It defines the velocity of training process, as smaller batches have bigger overheads (per record)\n",
    "  1. It defines the quality of neural network training\n",
    "  \n",
    "[1] and [2] suggest we pick the biggest batch size that fits to the instance memory. However, the quality is often better with much smaller batches.\n",
    "\n",
    "This is why minibatches are introduced. Once the heavy work of joining and transforming is done and the batch is computed, it can be further subdivided to _mini-batches_."
   ]
  },
  {
   "cell_type": "code",
   "execution_count": 25,
   "metadata": {
    "execution": {
     "iopub.execute_input": "2022-12-28T13:21:09.482846Z",
     "iopub.status.busy": "2022-12-28T13:21:09.480768Z",
     "iopub.status.idle": "2022-12-28T13:21:09.485343Z",
     "shell.execute_reply": "2022-12-28T13:21:09.485831Z"
    }
   },
   "outputs": [
    {
     "data": {
      "text/plain": [
       "(10, 5)"
      ]
     },
     "execution_count": 25,
     "metadata": {},
     "output_type": "execute_result"
    }
   ],
   "source": [
    "mini_batch_indices = batcher.get_mini_batch_indices(mini_batch_size = 10, batch = batch)\n",
    "mini_batch = batcher.get_mini_batch(index = mini_batch_indices[0], batch = batch)\n",
    "mini_batch['index'].shape"
   ]
  },
  {
   "cell_type": "markdown",
   "metadata": {},
   "source": [
    "## Model Handler\n",
    "\n",
    "`ModelHandler` is another important component of the batched training. It handles the model, namely:\n",
    "\n",
    "* Instantiates the model. For neural network, this step is non-trivial, because we don't really know how much features we have before we fit all the extractors. Thus, we don't really know how much inputs network should have. To instantiate the model, a sample batch is created and passed to the initialization method to address this.\n",
    "* Implements training on one batch. Again, this is more complicated in case of neural networks than just calling a `fit` method. \n",
    "* Implements the prediction. For different tasks, we interpret the network's output differently. In Single Frame Training, we had Evaluation to address this. Still, here the options are more plentiful, so it's moved into `ModelHandler` as well.\n",
    "\n",
    "In `tg.common.ml.batched_training.factories` there is a generic definition for such `ModelHandler` that we will cover in the corresponding demo. Here, we will define `ModelHandler` from scratch, to demonstrate its logic.\n"
   ]
  },
  {
   "cell_type": "code",
   "execution_count": 26,
   "metadata": {
    "execution": {
     "iopub.execute_input": "2022-12-28T13:21:09.493387Z",
     "iopub.status.busy": "2022-12-28T13:21:09.492779Z",
     "iopub.status.idle": "2022-12-28T13:21:10.008970Z",
     "shell.execute_reply": "2022-12-28T13:21:10.008417Z"
    }
   },
   "outputs": [],
   "source": [
    "import torch\n",
    "\n",
    "\n",
    "class TorchNetwork(torch.nn.Module):\n",
    "    def __init__(self, sizes):\n",
    "        super(TorchNetwork, self).__init__()\n",
    "        self.layers = torch.nn.ModuleList()\n",
    "        for i in range(len(sizes) - 1):\n",
    "            self.layers.append(torch.nn.Linear(sizes[i], sizes[i + 1]))\n",
    "            \n",
    "    def forward(self, input):\n",
    "        X = torch.tensor(input.astype(float).values).float()\n",
    "        for layer in self.layers:\n",
    "            X = layer(X)\n",
    "            X = torch.sigmoid(X)\n",
    "        return X\n",
    "        \n",
    "        \n",
    "class TorchHandler(bt.BatchedModelHandler):\n",
    "    def instantiate(self, task, input):\n",
    "        sizes = [input['features'].shape[1], 10, 1]\n",
    "        self.network = TorchNetwork(sizes)\n",
    "        self.optimizer = torch.optim.SGD(self.network.parameters(), lr=0.5)\n",
    "        self.loss = torch.nn.MSELoss()\n",
    "\n",
    "    def train(self, input):\n",
    "        X, y = input['features'], input['labels']\n",
    "        self.optimizer.zero_grad()\n",
    "        output = self.network(X)\n",
    "        targets = torch.tensor(y.values).float()\n",
    "        loss = self.loss(output, targets)\n",
    "        loss.backward()\n",
    "        self.optimizer.step()\n",
    "        return loss.item()\n",
    "\n",
    "    def predict(self, input):\n",
    "        X, y = input['features'], input['labels']\n",
    "        output = self.network(X)\n",
    "        output = output.flatten().tolist()\n",
    "        df = pd.DataFrame(dict(predicted=output, true=y[y.columns[0]]))\n",
    "        return df\n",
    "    \n"
   ]
  },
  {
   "cell_type": "markdown",
   "metadata": {},
   "source": [
    "## Training task\n",
    "\n",
    "Aside from `ModelHandler` and `Batcher`, `BatcherTrainingTask` is initialized with the classes, already covered in the previous demo: \n",
    "* `splitter` to split the index frame to test and train dataset,\n",
    "  * For batch training, the splitter _must_ return just one split. K-fold is not supported here, because the time of one model training is simply too long, and in this case we suggest the parallel training.\n",
    "    * The use case for multiple splits _could_ be a model, than trains on first N months and predicts N+1-th, then updates on N+1-th month and predicts N+2-th, etc. We are considering implementing this in the next versions.\n",
    "  * For batch traiing, the train set is not evaluated, because, again, it takes too much time for the big datasets. So what we will do is adding additional `display` subset, which is part of training, but on which the metrics are computed.\n",
    "* `metrics_pool` to compute metrics\n",
    "* `artificiers` to inject arbitrary code into training\n",
    "\n",
    "Also, there is a `settings` object that contains some self-explainatory fields."
   ]
  },
  {
   "cell_type": "code",
   "execution_count": 27,
   "metadata": {
    "execution": {
     "iopub.execute_input": "2022-12-28T13:21:10.016786Z",
     "iopub.status.busy": "2022-12-28T13:21:10.016024Z",
     "iopub.status.idle": "2022-12-28T13:21:10.392428Z",
     "shell.execute_reply": "2022-12-28T13:21:10.392925Z"
    }
   },
   "outputs": [
    {
     "name": "stdout",
     "output_type": "stream",
     "text": [
      "2022-12-28 14:21:10.014697 INFO: Training starts. Info: {}\n"
     ]
    },
    {
     "name": "stdout",
     "output_type": "stream",
     "text": [
      "2022-12-28 14:21:10.016047 INFO: Ensuring/loading bundle. Bundle before:\n",
      "<tg.common.ml.batched_training.data_bundle.IndexedDataBundle object at 0x7f8c4038d640>\n"
     ]
    },
    {
     "name": "stdout",
     "output_type": "stream",
     "text": [
      "2022-12-28 14:21:10.016617 INFO: Bundle loaded\n",
      "{'index': {'shape': (891, 5), 'index_name': 'PassengerId', 'columns': ['Name', 'Ticket', 'Cabin', 'Survived', 'priority'], 'index': [1, 2, 3, 4, 5, '...']}, 'passengers': {'shape': (891, 4), 'index_name': 'Name', 'columns': ['Sex', 'Age', 'SibSp', 'Parch'], 'index': ['Braund, Mr. Owen Harris', 'Cumings, Mrs. John Bradley (Florence Briggs Thayer)', 'Heikkinen, Miss. Laina', 'Futrelle, Mrs. Jacques Heath (Lily May Peel)', 'Allen, Mr. William Henry', '...']}, 'tickets': {'shape': (681, 3), 'index_name': 'Ticket', 'columns': ['Pclass', 'Fare', 'Embarked'], 'index': ['A/5 21171', 'PC 17599', 'STON/O2. 3101282', '113803', '373450', '...']}}\n"
     ]
    },
    {
     "name": "stdout",
     "output_type": "stream",
     "text": [
      "2022-12-28 14:21:10.017190 INFO: Index frame is set to index, shape is (891, 5)\n"
     ]
    },
    {
     "name": "stdout",
     "output_type": "stream",
     "text": [
      "2022-12-28 14:21:10.017786 INFO: Skipping late initialization\n"
     ]
    },
    {
     "name": "stdout",
     "output_type": "stream",
     "text": [
      "2022-12-28 14:21:10.018319 INFO: Preprocessing bundle by batcher\n"
     ]
    },
    {
     "name": "stdout",
     "output_type": "stream",
     "text": [
      "2022-12-28 14:21:10.023948 INFO: Splits: train 712, test 179, display 143\n"
     ]
    },
    {
     "name": "stdout",
     "output_type": "stream",
     "text": [
      "2022-12-28 14:21:10.024546 INFO: New training. Instantiating the system\n"
     ]
    },
    {
     "name": "stdout",
     "output_type": "stream",
     "text": [
      "2022-12-28 14:21:10.025671 INFO: Fitting the transformers\n"
     ]
    },
    {
     "name": "stdout",
     "output_type": "stream",
     "text": [
      "2022-12-28 14:21:10.073160 INFO: Instantiating model\n"
     ]
    },
    {
     "name": "stdout",
     "output_type": "stream",
     "text": [
      "2022-12-28 14:21:10.074611 INFO: Initialization completed\n"
     ]
    },
    {
     "name": "stdout",
     "output_type": "stream",
     "text": [
      "2022-12-28 14:21:10.075486 INFO: Epoch 0 of 1\n"
     ]
    },
    {
     "name": "stdout",
     "output_type": "stream",
     "text": [
      "2022-12-28 14:21:10.075927 INFO: Training: 0/8\n"
     ]
    },
    {
     "name": "stdout",
     "output_type": "stream",
     "text": [
      "2022-12-28 14:21:10.103902 INFO: Training: 1/8\n"
     ]
    },
    {
     "name": "stdout",
     "output_type": "stream",
     "text": [
      "2022-12-28 14:21:10.128179 INFO: Training: 2/8\n"
     ]
    },
    {
     "name": "stdout",
     "output_type": "stream",
     "text": [
      "2022-12-28 14:21:10.156215 INFO: Training: 3/8\n"
     ]
    },
    {
     "name": "stdout",
     "output_type": "stream",
     "text": [
      "2022-12-28 14:21:10.180618 INFO: Training: 4/8\n"
     ]
    },
    {
     "name": "stdout",
     "output_type": "stream",
     "text": [
      "2022-12-28 14:21:10.205398 INFO: Training: 5/8\n"
     ]
    },
    {
     "name": "stdout",
     "output_type": "stream",
     "text": [
      "2022-12-28 14:21:10.230677 INFO: Training: 6/8\n"
     ]
    },
    {
     "name": "stdout",
     "output_type": "stream",
     "text": [
      "2022-12-28 14:21:10.257123 INFO: Training: 7/8\n"
     ]
    },
    {
     "name": "stdout",
     "output_type": "stream",
     "text": [
      "2022-12-28 14:21:10.282654 INFO: test: 0/2\n"
     ]
    },
    {
     "name": "stdout",
     "output_type": "stream",
     "text": [
      "2022-12-28 14:21:10.308441 INFO: test: 1/2\n"
     ]
    },
    {
     "name": "stdout",
     "output_type": "stream",
     "text": [
      "2022-12-28 14:21:10.334269 INFO: display: 0/2\n"
     ]
    },
    {
     "name": "stdout",
     "output_type": "stream",
     "text": [
      "2022-12-28 14:21:10.358629 INFO: display: 1/2\n"
     ]
    },
    {
     "name": "stdout",
     "output_type": "stream",
     "text": [
      "2022-12-28 14:21:10.387787 INFO: ###roc_auc_score_test:0.4130434782608696\n"
     ]
    },
    {
     "name": "stdout",
     "output_type": "stream",
     "text": [
      "2022-12-28 14:21:10.388229 INFO: ###roc_auc_score_display:0.43268817204301074\n"
     ]
    },
    {
     "name": "stdout",
     "output_type": "stream",
     "text": [
      "2022-12-28 14:21:10.388711 INFO: ###loss:0.2608289998024702\n"
     ]
    },
    {
     "name": "stdout",
     "output_type": "stream",
     "text": [
      "2022-12-28 14:21:10.389460 INFO: ###iteration:0\n"
     ]
    }
   ],
   "source": [
    "from sklearn.metrics import roc_auc_score\n",
    "\n",
    "\n",
    "def build_splitter():\n",
    "    return bt.CompositionSplitter(\n",
    "        bt.FoldSplitter(test_size=0.2),\n",
    "        bt.FoldSplitter(test_size=0.2, decorate=True, test_name='display')\n",
    "    )\n",
    "\n",
    "\n",
    "task = bt.BatchedTrainingTask(\n",
    "    splitter = build_splitter(),\n",
    "    batcher = batcher,\n",
    "    model_handler=TorchHandler(),\n",
    "    metric_pool = bt.MetricPool().add_sklearn(roc_auc_score),\n",
    "    settings = bt.TrainingSettings(epoch_count=1)\n",
    ")\n",
    "task.settings.batch_size=100\n",
    "\n",
    "result = task.run(ibundle_fixed)"
   ]
  },
  {
   "cell_type": "markdown",
   "metadata": {},
   "source": [
    "As you can see, `TrainingTasks` logs quite extensively on the initialization process, so in case of error it's relativaly easy to understand the source of error. \n",
    "\n",
    "Now, let's disable `Logger` and run training for the longer time:"
   ]
  },
  {
   "cell_type": "code",
   "execution_count": 28,
   "metadata": {
    "execution": {
     "iopub.execute_input": "2022-12-28T13:21:10.399201Z",
     "iopub.status.busy": "2022-12-28T13:21:10.398534Z",
     "iopub.status.idle": "2022-12-28T13:21:11.478123Z",
     "shell.execute_reply": "2022-12-28T13:21:11.478626Z"
    }
   },
   "outputs": [
    {
     "data": {
      "image/png": "[encoded data removed]",
      "text/plain": [
       "<Figure size 432x288 with 1 Axes>"
      ]
     },
     "metadata": {
      "needs_background": "light"
     },
     "output_type": "display_data"
    }
   ],
   "source": [
    "from tg.common import Logger\n",
    "Logger.disable()\n",
    "\n",
    "task = bt.BatchedTrainingTask(\n",
    "    splitter = build_splitter(),\n",
    "    batcher = batcher,\n",
    "    model_handler=TorchHandler(),\n",
    "    metric_pool = bt.MetricPool().add_sklearn(roc_auc_score),\n",
    "    settings = bt.TrainingSettings(epoch_count=10)\n",
    ")\n",
    "\n",
    "result = task.run(ibundle_fixed)\n",
    "\n",
    "pd.DataFrame(result['output']['history']).set_index('iteration').plot()\n",
    "pass"
   ]
  },
  {
   "cell_type": "markdown",
   "metadata": {},
   "source": [
    "Feel free to explore other fields of `result` as well. We hope the name of the fields are quite self-explanatory."
   ]
  },
  {
   "cell_type": "markdown",
   "metadata": {},
   "source": [
    "Training can be continued, in this case history persists and the models are not recreated."
   ]
  },
  {
   "cell_type": "code",
   "execution_count": 29,
   "metadata": {
    "execution": {
     "iopub.execute_input": "2022-12-28T13:21:11.486100Z",
     "iopub.status.busy": "2022-12-28T13:21:11.484282Z",
     "iopub.status.idle": "2022-12-28T13:21:12.587717Z",
     "shell.execute_reply": "2022-12-28T13:21:12.587184Z"
    }
   },
   "outputs": [
    {
     "data": {
      "image/png": "[encoded data removed]",
      "text/plain": [
       "<Figure size 432x288 with 1 Axes>"
      ]
     },
     "metadata": {
      "needs_background": "light"
     },
     "output_type": "display_data"
    }
   ],
   "source": [
    "task.settings.continue_training=True\n",
    "result = task.run(ibundle_fixed)\n",
    "pd.DataFrame(result['output']['history']).set_index('iteration').plot()\n",
    "pass"
   ]
  },
  {
   "cell_type": "markdown",
   "metadata": {},
   "source": [
    "You don't have to use the same bundle for continuation. So it's totally feasible to tune our models with newly available data instead of retrain them from scratch every time. \n"
   ]
  },
  {
   "cell_type": "markdown",
   "metadata": {},
   "source": [
    "### Late initialization\n",
    "\n",
    "Late initialization allows you to:\n",
    "* alter data in the bundle when they were loaded\n",
    "* initialize or modify arbitrary fields of the task, based on loaded data\n",
    "\n",
    "The main use case is that the model might require some tweaking depending on the input data, or the input data might require tweaking itself. For instance, in our case, it's a row priority, which we hacked into the bundle while discussing `BatchingStrategy`. \n",
    "\n",
    "The proper way is to compute this field in late initialization. This method accepts task, bundle and environment (for logging purposes), and can modify any of those.\n",
    "\n",
    "Actually, late initialization is also implemented in single-frame training, but for this one we don't really have the use cases yet."
   ]
  },
  {
   "cell_type": "code",
   "execution_count": 30,
   "metadata": {
    "execution": {
     "iopub.execute_input": "2022-12-28T13:21:12.596569Z",
     "iopub.status.busy": "2022-12-28T13:21:12.594665Z",
     "iopub.status.idle": "2022-12-28T13:21:16.580322Z",
     "shell.execute_reply": "2022-12-28T13:21:16.580856Z"
    }
   },
   "outputs": [
    {
     "data": {
      "image/png": "[encoded data removed]",
      "text/plain": [
       "<Figure size 432x288 with 1 Axes>"
      ]
     },
     "metadata": {
      "needs_background": "light"
     },
     "output_type": "display_data"
    }
   ],
   "source": [
    "def late_initialization(task, ibundle):\n",
    "    ibundle.index_frame['priority'] = bt.PriorityRandomBatcherStrategy.make_priorities_for_even_representation(\n",
    "        ibundle.index_frame,\n",
    "        'Survived'\n",
    "    )\n",
    "\n",
    "\n",
    "task = bt.BatchedTrainingTask(\n",
    "    splitter = build_splitter(),\n",
    "    batcher = batcher,\n",
    "    model_handler=TorchHandler(),\n",
    "    metric_pool = bt.MetricPool().add_sklearn(roc_auc_score),\n",
    "    settings = bt.TrainingSettings(epoch_count=10, batch_size=100),\n",
    "    late_initialization=late_initialization\n",
    ")\n",
    "\n",
    "result = task.run(ibundle)\n",
    "pd.DataFrame(result['output']['history']).set_index('iteration').plot()\n",
    "pass"
   ]
  },
  {
   "cell_type": "markdown",
   "metadata": {},
   "source": [
    "### Prediction\n",
    "\n",
    "In many cases, the model can be directly applied to the data to make predictions. To do this, simply construct the DataBundle with the data for prediction and apply method predict to it."
   ]
  },
  {
   "cell_type": "code",
   "execution_count": 31,
   "metadata": {
    "execution": {
     "iopub.execute_input": "2022-12-28T13:21:16.589844Z",
     "iopub.status.busy": "2022-12-28T13:21:16.589213Z",
     "iopub.status.idle": "2022-12-28T13:21:16.613845Z",
     "shell.execute_reply": "2022-12-28T13:21:16.614155Z"
    }
   },
   "outputs": [
    {
     "data": {
      "text/html": [
       "<div>\n",
       "<style scoped>\n",
       "    .dataframe tbody tr th:only-of-type {\n",
       "        vertical-align: middle;\n",
       "    }\n",
       "\n",
       "    .dataframe tbody tr th {\n",
       "        vertical-align: top;\n",
       "    }\n",
       "\n",
       "    .dataframe thead th {\n",
       "        text-align: right;\n",
       "    }\n",
       "</style>\n",
       "<table border=\"1\" class=\"dataframe\">\n",
       "  <thead>\n",
       "    <tr style=\"text-align: right;\">\n",
       "      <th></th>\n",
       "      <th>predicted</th>\n",
       "      <th>true</th>\n",
       "    </tr>\n",
       "    <tr>\n",
       "      <th>PassengerId</th>\n",
       "      <th></th>\n",
       "      <th></th>\n",
       "    </tr>\n",
       "  </thead>\n",
       "  <tbody>\n",
       "    <tr>\n",
       "      <th>1</th>\n",
       "      <td>0.385275</td>\n",
       "      <td>0.0</td>\n",
       "    </tr>\n",
       "    <tr>\n",
       "      <th>2</th>\n",
       "      <td>0.664146</td>\n",
       "      <td>1.0</td>\n",
       "    </tr>\n",
       "    <tr>\n",
       "      <th>3</th>\n",
       "      <td>0.462648</td>\n",
       "      <td>1.0</td>\n",
       "    </tr>\n",
       "    <tr>\n",
       "      <th>4</th>\n",
       "      <td>0.632161</td>\n",
       "      <td>1.0</td>\n",
       "    </tr>\n",
       "    <tr>\n",
       "      <th>5</th>\n",
       "      <td>0.384694</td>\n",
       "      <td>0.0</td>\n",
       "    </tr>\n",
       "  </tbody>\n",
       "</table>\n",
       "</div>"
      ],
      "text/plain": [
       "             predicted  true\n",
       "PassengerId                 \n",
       "1             0.385275   0.0\n",
       "2             0.664146   1.0\n",
       "3             0.462648   1.0\n",
       "4             0.632161   1.0\n",
       "5             0.384694   0.0"
      ]
     },
     "execution_count": 31,
     "metadata": {},
     "output_type": "execute_result"
    }
   ],
   "source": [
    "prediction = task.predict(ibundle.change_index(ibundle.index_frame.iloc[:5]))\n",
    "prediction"
   ]
  },
  {
   "cell_type": "markdown",
   "metadata": {},
   "source": [
    "In some cases, you don't really need the model to predict anything, because, for instance, you're actually interested in scores that are produced as the intermediate values in your network. In this case, you will need to write the prediction procedure yourself. Keep in mind that:\n",
    "\n",
    "* Batcher is as essensial for the prediction as is model. Batcher contains all the extractors that were fitted during the training, and the model simply won't work without them.\n",
    "* There is some additional initialization of the bundle that may be needed, so observe the `predict` method for exact sequence of the initialization steps."
   ]
  },
  {
   "cell_type": "markdown",
   "metadata": {},
   "source": [
    "## Troubleshooting\n",
    "\n",
    "Batched training is a lot more complicated process than single-frame training. Generally, there are two major sources of errors:\n",
    "* Something is wrong with batchers/extractors\n",
    "* Something is wrong with the network process: dimensions/shapes do not match, data types are unexpected, etc.\n",
    "\n",
    "### Separating batching from model\n",
    "\n",
    "Errors in batcher can be debugged by separately running extractors and evaluating their results, as we did in this demo. Errors in network, however, are harder to track, as the network is fed with the batcher's output. To debug the network, we offer the access to initialization and batch creation separately from training.\n",
    "\n",
    "This method will allow you to initialize everything and get the batch:"
   ]
  },
  {
   "cell_type": "code",
   "execution_count": 32,
   "metadata": {
    "execution": {
     "iopub.execute_input": "2022-12-28T13:21:16.619977Z",
     "iopub.status.busy": "2022-12-28T13:21:16.619329Z",
     "iopub.status.idle": "2022-12-28T13:21:16.753447Z",
     "shell.execute_reply": "2022-12-28T13:21:16.756503Z"
    }
   },
   "outputs": [],
   "source": [
    "task = bt.BatchedTrainingTask(\n",
    "    splitter = build_splitter(),\n",
    "    batcher = batcher,\n",
    "    model_handler=TorchHandler(),\n",
    "    metric_pool = bt.MetricPool().add_sklearn(roc_auc_score),\n",
    "    settings = bt.TrainingSettings(epoch_count=10)\n",
    ")\n",
    "batch, temp_data = task.generate_sample_batch_and_temp_data(ibundle_fixed)"
   ]
  },
  {
   "cell_type": "markdown",
   "metadata": {},
   "source": [
    "This batch then can be used on different levels to debug network and handler:"
   ]
  },
  {
   "cell_type": "code",
   "execution_count": 33,
   "metadata": {
    "execution": {
     "iopub.execute_input": "2022-12-28T13:21:16.770785Z",
     "iopub.status.busy": "2022-12-28T13:21:16.763985Z",
     "iopub.status.idle": "2022-12-28T13:21:16.786068Z",
     "shell.execute_reply": "2022-12-28T13:21:16.784996Z"
    }
   },
   "outputs": [
    {
     "data": {
      "text/plain": [
       "tensor([[0.4334],\n",
       "        [0.4201],\n",
       "        [0.4227],\n",
       "        [0.4231],\n",
       "        [0.4233]], grad_fn=<SliceBackward>)"
      ]
     },
     "execution_count": 33,
     "metadata": {},
     "output_type": "execute_result"
    }
   ],
   "source": [
    "task.model_handler.network(batch['features'])[:5]"
   ]
  },
  {
   "cell_type": "code",
   "execution_count": 34,
   "metadata": {
    "execution": {
     "iopub.execute_input": "2022-12-28T13:21:16.793263Z",
     "iopub.status.busy": "2022-12-28T13:21:16.792454Z",
     "iopub.status.idle": "2022-12-28T13:21:16.821866Z",
     "shell.execute_reply": "2022-12-28T13:21:16.819304Z"
    }
   },
   "outputs": [
    {
     "data": {
      "text/html": [
       "<div>\n",
       "<style scoped>\n",
       "    .dataframe tbody tr th:only-of-type {\n",
       "        vertical-align: middle;\n",
       "    }\n",
       "\n",
       "    .dataframe tbody tr th {\n",
       "        vertical-align: top;\n",
       "    }\n",
       "\n",
       "    .dataframe thead th {\n",
       "        text-align: right;\n",
       "    }\n",
       "</style>\n",
       "<table border=\"1\" class=\"dataframe\">\n",
       "  <thead>\n",
       "    <tr style=\"text-align: right;\">\n",
       "      <th></th>\n",
       "      <th>predicted</th>\n",
       "      <th>true</th>\n",
       "    </tr>\n",
       "    <tr>\n",
       "      <th>PassengerId</th>\n",
       "      <th></th>\n",
       "      <th></th>\n",
       "    </tr>\n",
       "  </thead>\n",
       "  <tbody>\n",
       "    <tr>\n",
       "      <th>874</th>\n",
       "      <td>0.433400</td>\n",
       "      <td>0.0</td>\n",
       "    </tr>\n",
       "    <tr>\n",
       "      <th>833</th>\n",
       "      <td>0.420091</td>\n",
       "      <td>0.0</td>\n",
       "    </tr>\n",
       "    <tr>\n",
       "      <th>105</th>\n",
       "      <td>0.422657</td>\n",
       "      <td>0.0</td>\n",
       "    </tr>\n",
       "    <tr>\n",
       "      <th>612</th>\n",
       "      <td>0.423145</td>\n",
       "      <td>0.0</td>\n",
       "    </tr>\n",
       "    <tr>\n",
       "      <th>284</th>\n",
       "      <td>0.423349</td>\n",
       "      <td>1.0</td>\n",
       "    </tr>\n",
       "  </tbody>\n",
       "</table>\n",
       "</div>"
      ],
      "text/plain": [
       "             predicted  true\n",
       "PassengerId                 \n",
       "874           0.433400   0.0\n",
       "833           0.420091   0.0\n",
       "105           0.422657   0.0\n",
       "612           0.423145   0.0\n",
       "284           0.423349   1.0"
      ]
     },
     "execution_count": 34,
     "metadata": {},
     "output_type": "execute_result"
    }
   ],
   "source": [
    "task.model_handler.predict(batch).head()"
   ]
  },
  {
   "cell_type": "markdown",
   "metadata": {},
   "source": [
    "Temp data also contains lots of the information, useful for debugging, such as splits"
   ]
  },
  {
   "cell_type": "code",
   "execution_count": 35,
   "metadata": {
    "execution": {
     "iopub.execute_input": "2022-12-28T13:21:16.838227Z",
     "iopub.status.busy": "2022-12-28T13:21:16.830003Z",
     "iopub.status.idle": "2022-12-28T13:21:16.848816Z",
     "shell.execute_reply": "2022-12-28T13:21:16.847291Z"
    }
   },
   "outputs": [
    {
     "data": {
      "text/plain": [
       "{'original_ibundle': <tg.common.ml.batched_training.data_bundle.IndexedDataBundle at 0x7f8c4038d640>,\n",
       " 'env': <tg.common.ml.training_core.arch.TrainingEnvironment at 0x7f8bac086a90>,\n",
       " 'split': <tg.common.ml.training_core.splitter.DataFrameSplit at 0x7f8ba8f45a30>,\n",
       " 'first_iteration': 0,\n",
       " 'iteration': 0,\n",
       " 'losses': [],\n",
       " 'epoch_begins_at': None,\n",
       " 'train_bundle': None,\n",
       " 'result': None,\n",
       " 'batch': None,\n",
       " 'mini_batch_indices': None,\n",
       " 'mini_batch': None}"
      ]
     },
     "execution_count": 35,
     "metadata": {},
     "output_type": "execute_result"
    }
   ],
   "source": [
    "temp_data.__dict__"
   ]
  },
  {
   "cell_type": "markdown",
   "metadata": {},
   "source": [
    "### Debug mode\n",
    "\n",
    "`BatchingTrainingTask` has a `debug` argument, which forces the task to keep the intermediate data as a field of the class (`temp_data` from the previous section). **Never** do it in production, as the intermediate data also contain the bundle, so pickling the task (which is an artefact of the training) will be impossible with any real data. \n",
    "\n",
    "However, with toy datasets such as we have, it's very useful to look at the intermediate dataframes when debugging errors. For instance, let's check if the `test` and `display` splits are related to the train split the way we expect:"
   ]
  },
  {
   "cell_type": "code",
   "execution_count": 36,
   "metadata": {
    "execution": {
     "iopub.execute_input": "2022-12-28T13:21:16.869692Z",
     "iopub.status.busy": "2022-12-28T13:21:16.868397Z",
     "iopub.status.idle": "2022-12-28T13:21:17.515719Z",
     "shell.execute_reply": "2022-12-28T13:21:17.517582Z"
    }
   },
   "outputs": [],
   "source": [
    "task = bt.BatchedTrainingTask(\n",
    "    splitter = build_splitter(),\n",
    "    batcher = batcher,\n",
    "    model_handler=TorchHandler(),\n",
    "    metric_pool = bt.MetricPool().add_sklearn(roc_auc_score),\n",
    "    settings = bt.TrainingSettings(epoch_count=1),\n",
    "    late_initialization=late_initialization,\n",
    "    debug = True\n",
    ")\n",
    "task.run(ibundle)\n",
    "pass"
   ]
  },
  {
   "cell_type": "markdown",
   "metadata": {},
   "source": [
    "We can, for instance, observe the modification of the bundle, performed in the `late_initialization`:"
   ]
  },
  {
   "cell_type": "code",
   "execution_count": 37,
   "metadata": {
    "execution": {
     "iopub.execute_input": "2022-12-28T13:21:17.546671Z",
     "iopub.status.busy": "2022-12-28T13:21:17.545019Z",
     "iopub.status.idle": "2022-12-28T13:21:17.558644Z",
     "shell.execute_reply": "2022-12-28T13:21:17.560740Z"
    }
   },
   "outputs": [
    {
     "data": {
      "text/html": [
       "<div>\n",
       "<style scoped>\n",
       "    .dataframe tbody tr th:only-of-type {\n",
       "        vertical-align: middle;\n",
       "    }\n",
       "\n",
       "    .dataframe tbody tr th {\n",
       "        vertical-align: top;\n",
       "    }\n",
       "\n",
       "    .dataframe thead th {\n",
       "        text-align: right;\n",
       "    }\n",
       "</style>\n",
       "<table border=\"1\" class=\"dataframe\">\n",
       "  <thead>\n",
       "    <tr style=\"text-align: right;\">\n",
       "      <th></th>\n",
       "      <th>Name</th>\n",
       "      <th>Ticket</th>\n",
       "      <th>Cabin</th>\n",
       "      <th>Survived</th>\n",
       "      <th>priority</th>\n",
       "    </tr>\n",
       "    <tr>\n",
       "      <th>PassengerId</th>\n",
       "      <th></th>\n",
       "      <th></th>\n",
       "      <th></th>\n",
       "      <th></th>\n",
       "      <th></th>\n",
       "    </tr>\n",
       "  </thead>\n",
       "  <tbody>\n",
       "    <tr>\n",
       "      <th>1</th>\n",
       "      <td>Braund, Mr. Owen Harris</td>\n",
       "      <td>A/5 21171</td>\n",
       "      <td>NaN</td>\n",
       "      <td>0.0</td>\n",
       "      <td>0.001821</td>\n",
       "    </tr>\n",
       "    <tr>\n",
       "      <th>2</th>\n",
       "      <td>Cumings, Mrs. John Bradley (Florence Briggs Th...</td>\n",
       "      <td>PC 17599</td>\n",
       "      <td>C85</td>\n",
       "      <td>1.0</td>\n",
       "      <td>0.002924</td>\n",
       "    </tr>\n",
       "    <tr>\n",
       "      <th>3</th>\n",
       "      <td>Heikkinen, Miss. Laina</td>\n",
       "      <td>STON/O2. 3101282</td>\n",
       "      <td>NaN</td>\n",
       "      <td>1.0</td>\n",
       "      <td>0.002924</td>\n",
       "    </tr>\n",
       "    <tr>\n",
       "      <th>4</th>\n",
       "      <td>Futrelle, Mrs. Jacques Heath (Lily May Peel)</td>\n",
       "      <td>113803</td>\n",
       "      <td>C123</td>\n",
       "      <td>1.0</td>\n",
       "      <td>0.002924</td>\n",
       "    </tr>\n",
       "    <tr>\n",
       "      <th>5</th>\n",
       "      <td>Allen, Mr. William Henry</td>\n",
       "      <td>373450</td>\n",
       "      <td>NaN</td>\n",
       "      <td>0.0</td>\n",
       "      <td>0.001821</td>\n",
       "    </tr>\n",
       "  </tbody>\n",
       "</table>\n",
       "</div>"
      ],
      "text/plain": [
       "                                                          Name  \\\n",
       "PassengerId                                                      \n",
       "1                                      Braund, Mr. Owen Harris   \n",
       "2            Cumings, Mrs. John Bradley (Florence Briggs Th...   \n",
       "3                                       Heikkinen, Miss. Laina   \n",
       "4                 Futrelle, Mrs. Jacques Heath (Lily May Peel)   \n",
       "5                                     Allen, Mr. William Henry   \n",
       "\n",
       "                       Ticket Cabin  Survived  priority  \n",
       "PassengerId                                              \n",
       "1                   A/5 21171   NaN       0.0  0.001821  \n",
       "2                    PC 17599   C85       1.0  0.002924  \n",
       "3            STON/O2. 3101282   NaN       1.0  0.002924  \n",
       "4                      113803  C123       1.0  0.002924  \n",
       "5                      373450   NaN       0.0  0.001821  "
      ]
     },
     "execution_count": 37,
     "metadata": {},
     "output_type": "execute_result"
    }
   ],
   "source": [
    "task.data_.original_ibundle.index_frame.head()"
   ]
  },
  {
   "cell_type": "markdown",
   "metadata": {},
   "source": [
    "Or, we may ensure that the splits are consistant with our expectations:"
   ]
  },
  {
   "cell_type": "code",
   "execution_count": 38,
   "metadata": {
    "execution": {
     "iopub.execute_input": "2022-12-28T13:21:17.574958Z",
     "iopub.status.busy": "2022-12-28T13:21:17.573297Z",
     "iopub.status.idle": "2022-12-28T13:21:17.579141Z",
     "shell.execute_reply": "2022-12-28T13:21:17.578483Z"
    }
   },
   "outputs": [
    {
     "data": {
      "text/plain": [
       "(0.0, 1.0)"
      ]
     },
     "execution_count": 38,
     "metadata": {},
     "output_type": "execute_result"
    }
   ],
   "source": [
    "(\n",
    "    task.data_.result.test_splits['test'].isin(task.data_.result.train_split).mean(),\n",
    "    task.data_.result.test_splits['display'].isin(task.data_.result.train_split).mean()\n",
    ")"
   ]
  },
  {
   "cell_type": "markdown",
   "metadata": {},
   "source": [
    "Or, if we're interested in the current batch:"
   ]
  },
  {
   "cell_type": "code",
   "execution_count": 39,
   "metadata": {
    "execution": {
     "iopub.execute_input": "2022-12-28T13:21:17.591122Z",
     "iopub.status.busy": "2022-12-28T13:21:17.590251Z",
     "iopub.status.idle": "2022-12-28T13:21:17.594467Z",
     "shell.execute_reply": "2022-12-28T13:21:17.593823Z"
    }
   },
   "outputs": [
    {
     "data": {
      "text/plain": [
       "Survived\n",
       "0.0    439\n",
       "1.0    273\n",
       "dtype: int64"
      ]
     },
     "execution_count": 39,
     "metadata": {},
     "output_type": "execute_result"
    }
   ],
   "source": [
    "task.data_.batch['index'].groupby('Survived').size()"
   ]
  },
  {
   "cell_type": "markdown",
   "metadata": {},
   "source": [
    "In general, if the training fails at some step, there is a good chance that the input for this step is stored in `data_` field, so you may debug the failing step separately."
   ]
  },
  {
   "cell_type": "markdown",
   "metadata": {},
   "source": [
    "## Advanced techniques \n",
    "\n",
    "### Minibatches \n",
    "\n",
    "As mentioned earlier, sometimes it makes sense to subdivide batch into smaller mini-batches, to optimize both the efficiency of the training and the quality of the result. This can be achieved by using `BatchedTrainingTask.settings.batch_size` and `mini_batch_size` fields.\n",
    "\n",
    "Typically, we opt for the following strategy:\n",
    "  * Finding the biggest `batch_size` that fits the network\n",
    "  * Setting something like 200 to `mini_batch_size`, maybe additionally checking values 20 and 2000. In our experience, the network is not sensitive to this parameter as long as it stays within reasonable range.\n",
    "  \n",
    "### Multi-task bundles\n",
    "\n",
    "Sometimes we may pose different tasks with essentially same data, e.g., different prediction tasks based on the same NLP corpus. In this case, you make generate several index frames with different names, and set `BatchedTrainingTask.index_name_in_bundle` when running the task.\n",
    "\n",
    "\n",
    "### Heavy precomputing in extractors\n",
    "\n",
    "Sometimes `Extractor` needs to perform a heavy computation. For instance, in NLP task we may want to compute for each word it's frequency in the text. Or, in customer-to-article relation, we may want to compute an average performance of the article in the previous months. Doing so for each batch would be impractical, it would be much better to do once.\n",
    "\n",
    "However, doing so in `fit` is wrong for two reasons:\n",
    "* Storing data in the model will increase its size and generally break the border between data and model, which we try to maintain very hard in TG.\n",
    "* When predicting, `fit` obviously should not be called, but such intermediate data should be computed.\n",
    "\n",
    "Therefore, `preprocess_bundle` is available in the `Extractor`, where such computation may be performed.\n",
    "\n",
    "\n",
    "### Hyperparameter tuning\n",
    "\n",
    "Implemented exactly the same way as in single-frame training. \n",
    "\n",
    "In practice, we never used this functionality, nor did we debug it with hyperopt. We opted for manual tuning in the following way:\n",
    "  * there is a `build_task` method that accepts essential parameters\n",
    "  * we run nested loop over parameters, create task for every combination and run the task in the cloud\n",
    "\n"
   ]
  }
 ],
 "metadata": {
  "kernelspec": {
   "display_name": "Python 3 (ipykernel)",
   "language": "python",
   "name": "python3"
  },
  "language_info": {
   "codemirror_mode": {
    "name": "ipython",
    "version": 3
   },
   "file_extension": ".py",
   "mimetype": "text/x-python",
   "name": "python",
   "nbconvert_exporter": "python",
   "pygments_lexer": "ipython3",
   "version": "3.8.13"
  },
  "toc": {
   "base_numbering": 1,
   "nav_menu": {},
   "number_sections": true,
   "sideBar": true,
   "skip_h1_title": false,
   "title_cell": "Table of Contents",
   "title_sidebar": "Contents",
   "toc_cell": false,
   "toc_position": {},
   "toc_section_display": true,
   "toc_window_display": false
  }
 },
 "nbformat": 4,
 "nbformat_minor": 4
}
