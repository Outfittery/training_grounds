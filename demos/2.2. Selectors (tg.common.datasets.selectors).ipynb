{
 "cells": [
  {
   "cell_type": "markdown",
   "metadata": {},
   "source": [
    "# 2.2. Selectors (tg.common.datasets.selectors)"
   ]
  },
  {
   "cell_type": "markdown",
   "metadata": {},
   "source": [
    "## Overview\n",
    "\n",
    "Selectors are objects that:\n",
    "* define a pure function that transforms a data object into a row in the dataset\n",
    "* track errors and warnings that happen during this conversion\n",
    "* fully maintain the inner structure of selectors, making it possible to e.g. visualize the selector\n",
    "\n",
    "**Note**: selectors are slow! They are not really aligned for the processing of hundreds of gygabytes of data. If this use case arises:\n",
    "* they potentially can be parallelized in a PySpark \n",
    "* they potentially can be partially translated into e.g. PrestoSQL queries, since they maintain the inner structure\n"
   ]
  },
  {
   "cell_type": "markdown",
   "metadata": {},
   "source": [
    "## Basic Selectors\n",
    "\n",
    "We will use the distorted Titanic dataset from the previous demo, and apply various selectors to one of the Data Objects."
   ]
  },
  {
   "cell_type": "code",
   "execution_count": 1,
   "metadata": {
    "execution": {
     "iopub.execute_input": "2022-08-09T09:25:54.543029Z",
     "iopub.status.busy": "2022-08-09T09:25:54.540315Z",
     "iopub.status.idle": "2022-08-09T09:25:55.371202Z",
     "shell.execute_reply": "2022-08-09T09:25:55.371549Z"
    }
   },
   "outputs": [
    {
     "data": {
      "text/plain": [
       "{'id': 12,\n",
       " 'ticket': {'ticket.id': '113783', 'fare': 26.55, 'Pclass': 1},\n",
       " 'passenger': {'Name': 'Bonnell, Miss. Elizabeth',\n",
       "  'Sex': 'female',\n",
       "  'Age': 58.0},\n",
       " 'trip': {'Survived': 1,\n",
       "  'SibSp': 0,\n",
       "  'Patch': 0,\n",
       "  'Cabin': 'C103',\n",
       "  'Embarked': 'S'}}"
      ]
     },
     "execution_count": 1,
     "metadata": {},
     "output_type": "execute_result"
    }
   ],
   "source": [
    "from tg.common.datasets.access import ZippedFileDataSource, CacheableDataSource, CacheMode\n",
    "\n",
    "source = CacheableDataSource(\n",
    "    inner_data_source = None,\n",
    "    file_data_source = ZippedFileDataSource(path='./titanic.zip'),\n",
    "    default_mode=CacheMode.Use\n",
    ")\n",
    "obj = source.get_data().skip(11).first()\n",
    "obj"
   ]
  },
  {
   "cell_type": "markdown",
   "metadata": {},
   "source": [
    "Let's start with simply selecting one field:"
   ]
  },
  {
   "cell_type": "code",
   "execution_count": 2,
   "metadata": {
    "ExecuteTime": {
     "end_time": "2021-04-01T12:03:43.634278Z",
     "start_time": "2021-04-01T12:03:43.624246Z"
    },
    "execution": {
     "iopub.execute_input": "2022-08-09T09:25:55.377835Z",
     "iopub.status.busy": "2022-08-09T09:25:55.377057Z",
     "iopub.status.idle": "2022-08-09T09:25:55.387667Z",
     "shell.execute_reply": "2022-08-09T09:25:55.388066Z"
    }
   },
   "outputs": [
    {
     "data": {
      "text/plain": [
       "{'id': 12}"
      ]
     },
     "execution_count": 2,
     "metadata": {},
     "output_type": "execute_result"
    }
   ],
   "source": [
    "from tg.common.datasets.selectors import Selector\n",
    "\n",
    "selector = (Selector()\n",
    "            .select('id')\n",
    "            )\n",
    "\n",
    "selector(obj)"
   ]
  },
  {
   "cell_type": "markdown",
   "metadata": {},
   "source": [
    "`Selector` class is a high-level abstraction, that allows you defining the featurization function with a `Fluent API`-interface. `Selector` is building a complex object of interconnected smaller processors, and we will look at these processors a little later. We may consider `Selector` on a pure syntax level: how exactly this or that use case can be covered with it. "
   ]
  },
  {
   "cell_type": "markdown",
   "metadata": {},
   "source": [
    "We can rename the field as follow:"
   ]
  },
  {
   "cell_type": "code",
   "execution_count": 3,
   "metadata": {
    "ExecuteTime": {
     "end_time": "2021-04-01T12:03:43.643146Z",
     "start_time": "2021-04-01T12:03:43.638228Z"
    },
    "execution": {
     "iopub.execute_input": "2022-08-09T09:25:55.396392Z",
     "iopub.status.busy": "2022-08-09T09:25:55.395092Z",
     "iopub.status.idle": "2022-08-09T09:25:55.400868Z",
     "shell.execute_reply": "2022-08-09T09:25:55.401211Z"
    }
   },
   "outputs": [
    {
     "data": {
      "text/plain": [
       "{'passenger_id': 12}"
      ]
     },
     "execution_count": 3,
     "metadata": {},
     "output_type": "execute_result"
    }
   ],
   "source": [
    "selector = (Selector()\n",
    "            .select(passenger_id = 'id')\n",
    "            )\n",
    "\n",
    "selector(obj)"
   ]
  },
  {
   "cell_type": "markdown",
   "metadata": {},
   "source": [
    "We can select nested fields several syntax options:"
   ]
  },
  {
   "cell_type": "code",
   "execution_count": 4,
   "metadata": {
    "ExecuteTime": {
     "end_time": "2021-04-01T12:03:43.651324Z",
     "start_time": "2021-04-01T12:03:43.644784Z"
    },
    "execution": {
     "iopub.execute_input": "2022-08-09T09:25:55.409109Z",
     "iopub.status.busy": "2022-08-09T09:25:55.407162Z",
     "iopub.status.idle": "2022-08-09T09:25:55.410893Z",
     "shell.execute_reply": "2022-08-09T09:25:55.411431Z"
    }
   },
   "outputs": [
    {
     "data": {
      "text/plain": [
       "{'ticket_id': '113783',\n",
       " 'sex': 'female',\n",
       " 'Name': 'Bonnell, Miss. Elizabeth',\n",
       " 'Age': 58.0}"
      ]
     },
     "execution_count": 4,
     "metadata": {},
     "output_type": "execute_result"
    }
   ],
   "source": [
    "from tg.common.datasets.selectors import Selector, FieldGetter, Pipeline\n",
    "\n",
    "selector = (Selector()\n",
    "            .select(\n",
    "                'passenger.Name',\n",
    "                ['passenger','Age'],\n",
    "                ticket_id = ['ticket',FieldGetter('ticket.id')],\n",
    "                sex = Pipeline(FieldGetter('passenger'), FieldGetter('Sex'))\n",
    "            ))\n",
    "selector(obj)"
   ]
  },
  {
   "cell_type": "markdown",
   "metadata": {},
   "source": [
    "* the first one (for `Name`) represents the highest level of abstraction, it is very easy to define lots of fields for selection in this way.\n",
    "* the second one (for `Age`) shows that arrays can be used instead of dotted names. The elements of array will be applied sequencially to the input. In this particular case the array consists of two strings, and strings are used as the keys to extract values from dictionaries. Therefore, first the `passenger` will be extracted from the top-level dictionary, and then -- `Age` from `passenger`.\n",
    "* the third (for `ticket.id`) is the only way how we can access the fields with the symbol `.` in name. `FieldGetter` is one of aforementioned small processors: it processes the given object by extracting the element out of the dictionary, or a field from the Python object. \n",
    "* the fourth way (for `Sex`) fully represents how selection works under the hood: it is a sequencial application (`Pipeline`) of two `FieldGetters`. So the arrays for `Age` and `ticket.id` will be converted to `Pipeline` under the hood.\n",
    "\n",
    "The best practice is to use the first method wherever possible, and the third one in other cases."
   ]
  },
  {
   "cell_type": "markdown",
   "metadata": {},
   "source": [
    "If you select several fields from the same nested object, please use `with_prefix` method for optimization:"
   ]
  },
  {
   "cell_type": "code",
   "execution_count": 5,
   "metadata": {
    "ExecuteTime": {
     "end_time": "2021-04-01T12:03:43.658881Z",
     "start_time": "2021-04-01T12:03:43.653868Z"
    },
    "execution": {
     "iopub.execute_input": "2022-08-09T09:25:55.418096Z",
     "iopub.status.busy": "2022-08-09T09:25:55.415305Z",
     "iopub.status.idle": "2022-08-09T09:25:55.421209Z",
     "shell.execute_reply": "2022-08-09T09:25:55.420825Z"
    }
   },
   "outputs": [
    {
     "data": {
      "text/plain": [
       "{'Name': 'Bonnell, Miss. Elizabeth',\n",
       " 'Age': 58.0,\n",
       " 'Sex': 'female',\n",
       " 'ticket_id': '113783'}"
      ]
     },
     "execution_count": 5,
     "metadata": {},
     "output_type": "execute_result"
    }
   ],
   "source": [
    "from tg.common.datasets.selectors import Selector, FieldGetter, Pipeline\n",
    "\n",
    "selector = (Selector()\n",
    "            .with_prefix('passenger')\n",
    "            .select('Name','Age','Sex')\n",
    "            .select(ticket_id = ['ticket',FieldGetter('ticket.id')])\n",
    "            )\n",
    "selector(obj)"
   ]
  },
  {
   "cell_type": "markdown",
   "metadata": {},
   "source": [
    "`with_prefix` method only affects the `select` that immediately follows it. "
   ]
  },
  {
   "cell_type": "markdown",
   "metadata": {},
   "source": [
    "Often, we need to post-process the values. For instance, name by itself is not likely to be feature (and would be GDPR-protected for the actual customers, thus making the entire output dataset GDPR-affected, which is better to avoid). However, we can extract the title from name as it can indeed be a predictor."
   ]
  },
  {
   "cell_type": "code",
   "execution_count": 6,
   "metadata": {
    "ExecuteTime": {
     "end_time": "2021-04-01T12:03:43.666734Z",
     "start_time": "2021-04-01T12:03:43.659790Z"
    },
    "execution": {
     "iopub.execute_input": "2022-08-09T09:25:55.433281Z",
     "iopub.status.busy": "2022-08-09T09:25:55.432635Z",
     "iopub.status.idle": "2022-08-09T09:25:55.434997Z",
     "shell.execute_reply": "2022-08-09T09:25:55.435670Z"
    }
   },
   "outputs": [
    {
     "data": {
      "text/plain": [
       "{'Name': 'Miss'}"
      ]
     },
     "execution_count": 6,
     "metadata": {},
     "output_type": "execute_result"
    }
   ],
   "source": [
    "import re\n",
    "\n",
    "def get_title(name):\n",
    "    title = re.search(' ([A-Za-z]+)\\.', name).group().strip()[:-1]\n",
    "    if title in ['Lady', 'Countess','Capt', 'Col',\n",
    "                 'Don', 'Dr', 'Major', 'Rev', 'Sir', 'Jonkheer', 'Dona']:\n",
    "        return 'Rare'\n",
    "    elif title == 'Mlle':\n",
    "        return 'Miss'\n",
    "    elif title == 'Ms':\n",
    "        return 'Miss'\n",
    "    elif title == 'Mme':\n",
    "        return 'Mrs'\n",
    "    else:\n",
    "        return title\n",
    "\n",
    "string_size = (Selector()\n",
    "               .select(['passenger','Name', get_title])\n",
    "              )\n",
    "\n",
    "string_size(obj)"
   ]
  },
  {
   "cell_type": "markdown",
   "metadata": {},
   "source": [
    "## Adress\n",
    "\n",
    "Selectors are used to retrieve many fields from the input. Sometimes, we only want to retrieve one field, but with this handy interface. To do that, TG offers `Address` class"
   ]
  },
  {
   "cell_type": "code",
   "execution_count": 7,
   "metadata": {
    "execution": {
     "iopub.execute_input": "2022-08-09T09:25:55.440203Z",
     "iopub.status.busy": "2022-08-09T09:25:55.439532Z",
     "iopub.status.idle": "2022-08-09T09:25:55.443866Z",
     "shell.execute_reply": "2022-08-09T09:25:55.444354Z"
    }
   },
   "outputs": [
    {
     "data": {
      "text/plain": [
       "'Miss'"
      ]
     },
     "execution_count": 7,
     "metadata": {},
     "output_type": "execute_result"
    }
   ],
   "source": [
    "from tg.common.datasets.selectors import Address\n",
    "\n",
    "Address('passenger','Name', get_title)(obj)"
   ]
  },
  {
   "cell_type": "markdown",
   "metadata": {},
   "source": [
    "Or, the equivalent:"
   ]
  },
  {
   "cell_type": "code",
   "execution_count": 8,
   "metadata": {
    "execution": {
     "iopub.execute_input": "2022-08-09T09:25:55.448749Z",
     "iopub.status.busy": "2022-08-09T09:25:55.448192Z",
     "iopub.status.idle": "2022-08-09T09:25:55.451089Z",
     "shell.execute_reply": "2022-08-09T09:25:55.450669Z"
    }
   },
   "outputs": [
    {
     "data": {
      "text/plain": [
       "'Miss'"
      ]
     },
     "execution_count": 8,
     "metadata": {},
     "output_type": "execute_result"
    }
   ],
   "source": [
    "Address.on(obj)('passenger','Name',get_title)"
   ]
  },
  {
   "cell_type": "markdown",
   "metadata": {},
   "source": [
    "`Address` is extremely useful for exploratory data analysis: by adding and removing arguments, you may move on the object forth and back:"
   ]
  },
  {
   "cell_type": "code",
   "execution_count": 9,
   "metadata": {
    "execution": {
     "iopub.execute_input": "2022-08-09T09:25:55.455501Z",
     "iopub.status.busy": "2022-08-09T09:25:55.454802Z",
     "iopub.status.idle": "2022-08-09T09:25:55.457170Z",
     "shell.execute_reply": "2022-08-09T09:25:55.456783Z"
    }
   },
   "outputs": [],
   "source": [
    "Address.on(obj)(list)\n",
    "Address.on(obj)('passenger',list)\n",
    "Address.on(obj)('passenger','Age')\n",
    "Address.on(obj)('passenger','Age', type)\n",
    "pass"
   ]
  },
  {
   "cell_type": "markdown",
   "metadata": {},
   "source": [
    "## Ensembles and Pipelines"
   ]
  },
  {
   "cell_type": "markdown",
   "metadata": {},
   "source": [
    "`Ensemble` and `Pipeline` classes are the machinery behind the `Selector` and `Address`, and ofter they are used directly, alongside with `Selector`. For instance, what if we want to apply multiple featurizers to the same field? We can use `Ensemble` for that:"
   ]
  },
  {
   "cell_type": "code",
   "execution_count": 10,
   "metadata": {
    "ExecuteTime": {
     "end_time": "2021-04-01T12:03:43.675488Z",
     "start_time": "2021-04-01T12:03:43.668054Z"
    },
    "execution": {
     "iopub.execute_input": "2022-08-09T09:25:55.466793Z",
     "iopub.status.busy": "2022-08-09T09:25:55.466388Z",
     "iopub.status.idle": "2022-08-09T09:25:55.470803Z",
     "shell.execute_reply": "2022-08-09T09:25:55.471281Z"
    }
   },
   "outputs": [
    {
     "data": {
      "text/plain": [
       "{'Name': {'title': 'Miss', 'length': 24}}"
      ]
     },
     "execution_count": 10,
     "metadata": {},
     "output_type": "execute_result"
    }
   ],
   "source": [
    "from tg.common.datasets.selectors import Ensemble\n",
    "\n",
    "def get_length(s):\n",
    "    return len(s)\n",
    "\n",
    "string_size = (Selector()\n",
    "               .select([\n",
    "                   'passenger',\n",
    "                   'Name', \n",
    "                   Ensemble(title=get_title, length=get_length)\n",
    "               ]))\n",
    "\n",
    "\n",
    "string_size(obj)"
   ]
  },
  {
   "cell_type": "markdown",
   "metadata": {},
   "source": [
    "`Ensemble` can also be used to combine several selectors together. When your Data Objects are huge and complicated, it makes more sense to write several smaller selectors, instead of writing one that selects all the fields you have. It's easier to read and reuse this way."
   ]
  },
  {
   "cell_type": "code",
   "execution_count": 11,
   "metadata": {
    "ExecuteTime": {
     "end_time": "2021-04-01T12:03:43.685447Z",
     "start_time": "2021-04-01T12:03:43.676806Z"
    },
    "execution": {
     "iopub.execute_input": "2022-08-09T09:25:55.478466Z",
     "iopub.status.busy": "2022-08-09T09:25:55.477763Z",
     "iopub.status.idle": "2022-08-09T09:25:55.481716Z",
     "shell.execute_reply": "2022-08-09T09:25:55.482210Z"
    }
   },
   "outputs": [
    {
     "name": "stdout",
     "output_type": "stream",
     "text": [
      "2022-08-09 09:25:55.475420+00:00 WARNING: Missing field in FieldGetter\n"
     ]
    },
    {
     "data": {
      "text/plain": [
       "{'ticket': {'id': '113783', 'fare': 26.55, 'PClass': None},\n",
       " 'passenger': {'name': {'length': 24, 'title': 'Miss'},\n",
       "  'Sex': 'female',\n",
       "  'Age': 58.0}}"
      ]
     },
     "execution_count": 11,
     "metadata": {},
     "output_type": "execute_result"
    }
   ],
   "source": [
    "ticket_selector = (Selector()\n",
    "                   .with_prefix('ticket')\n",
    "                   .select(\n",
    "                       'fare',\n",
    "                       'PClass',\n",
    "                       id = [FieldGetter('ticket.id')]\n",
    "                   )\n",
    ")\n",
    "passenger_selector = (Selector()\n",
    "                      .with_prefix('passenger')\n",
    "                      .select(\n",
    "                          'Sex',\n",
    "                          'Age',\n",
    "                          name=['Name', Ensemble(\n",
    "                              length=get_length,\n",
    "                              title=get_title\n",
    "                          )]\n",
    "                      ))\n",
    "\n",
    "combined_selector = Ensemble(\n",
    "    ticket = ticket_selector,\n",
    "    passenger = passenger_selector,\n",
    ")\n",
    "combined_selector(obj)"
   ]
  },
  {
   "cell_type": "markdown",
   "metadata": {},
   "source": [
    "Pipelines, too, can be used for combination purposes. The typical use case is postprocessing: at the first step, we select fields from the initial object, and then, we want to compute some functions from these fields (e.g., we may want to compute BMI for the person from their weight and height). \n",
    "\n",
    "In Titanic example, let's compute a sum of `SibSp` and `Patch` as a new feature, `Relatives`. We will place it into the new `trip_selector` (which is selector, describing the trip in general, rather than the person or the ticket).\n",
    "\n",
    "For that, we will use `Pipeline`. The arguments of the `Pipeline` are functions, that will be sequencially applied to the input."
   ]
  },
  {
   "cell_type": "code",
   "execution_count": 12,
   "metadata": {
    "ExecuteTime": {
     "end_time": "2021-04-01T12:03:43.693739Z",
     "start_time": "2021-04-01T12:03:43.687153Z"
    },
    "execution": {
     "iopub.execute_input": "2022-08-09T09:25:55.487927Z",
     "iopub.status.busy": "2022-08-09T09:25:55.487252Z",
     "iopub.status.idle": "2022-08-09T09:25:55.490644Z",
     "shell.execute_reply": "2022-08-09T09:25:55.491185Z"
    },
    "scrolled": true
   },
   "outputs": [
    {
     "data": {
      "text/plain": [
       "{'id': 12,\n",
       " 'Survived': 1,\n",
       " 'Cabin': 'C103',\n",
       " 'Embarked': 'S',\n",
       " 'SibSp': 0,\n",
       " 'Patch': 0,\n",
       " 'Relatives': 0}"
      ]
     },
     "execution_count": 12,
     "metadata": {},
     "output_type": "execute_result"
    }
   ],
   "source": [
    "def add_relatives_count(d):\n",
    "    d['Relatives'] = d['SibSp'] + d['Patch']\n",
    "    return d\n",
    "\n",
    "trip_selector = Pipeline(\n",
    "    Selector()\n",
    "     .select('id')\n",
    "     .with_prefix('trip')\n",
    "     .select('Survived','Cabin','Embarked','SibSp','Patch'),\n",
    "    add_relatives_count\n",
    ")\n",
    "\n",
    "trip_selector(obj)"
   ]
  },
  {
   "cell_type": "markdown",
   "metadata": {},
   "source": [
    "Now we need to do some finishing stitches: \n",
    "* for a problemless conversion to dataframe, we need a flat `dict`, not nested. TG has the method for that, `flatten_dict`\n",
    "* We will also insert the current time as a processing time."
   ]
  },
  {
   "cell_type": "code",
   "execution_count": 13,
   "metadata": {
    "ExecuteTime": {
     "end_time": "2021-04-01T12:03:43.703008Z",
     "start_time": "2021-04-01T12:03:43.694860Z"
    },
    "execution": {
     "iopub.execute_input": "2022-08-09T09:25:55.501469Z",
     "iopub.status.busy": "2022-08-09T09:25:55.500770Z",
     "iopub.status.idle": "2022-08-09T09:25:55.505359Z",
     "shell.execute_reply": "2022-08-09T09:25:55.505878Z"
    }
   },
   "outputs": [
    {
     "name": "stdout",
     "output_type": "stream",
     "text": [
      "2022-08-09 09:25:55.499658+00:00 WARNING: Missing field in FieldGetter\n"
     ]
    },
    {
     "data": {
      "text/plain": [
       "{'passenger_name_length': 24,\n",
       " 'passenger_name_title': 'Miss',\n",
       " 'passenger_Sex': 'female',\n",
       " 'passenger_Age': 58.0,\n",
       " 'ticket_id': '113783',\n",
       " 'ticket_fare': 26.55,\n",
       " 'ticket_PClass': None,\n",
       " 'trip_id': 12,\n",
       " 'trip_Survived': 1,\n",
       " 'trip_Cabin': 'C103',\n",
       " 'trip_Embarked': 'S',\n",
       " 'trip_SibSp': 0,\n",
       " 'trip_Patch': 0,\n",
       " 'trip_Relatives': 0,\n",
       " 'processed': datetime.datetime(2022, 8, 9, 11, 25, 55, 500548)}"
      ]
     },
     "execution_count": 13,
     "metadata": {},
     "output_type": "execute_result"
    }
   ],
   "source": [
    "from tg.common.datasets.selectors import flatten_dict\n",
    "import datetime\n",
    "\n",
    "def add_meta(obj):\n",
    "    obj['processed'] = datetime.datetime.now()\n",
    "    return obj\n",
    "\n",
    "titanic_selector = Pipeline(\n",
    "    Ensemble(\n",
    "        passenger = passenger_selector,\n",
    "        ticket = ticket_selector,\n",
    "        trip = trip_selector\n",
    "    ),\n",
    "    add_meta,\n",
    "    flatten_dict\n",
    ")\n",
    "titanic_selector(obj)"
   ]
  },
  {
   "cell_type": "markdown",
   "metadata": {},
   "source": [
    "## Representation\n",
    "\n",
    "The selectors always keep the internal structure and thus can be analyzed and represented in the different format. The following code demonstrates how this structure can be retrieved. "
   ]
  },
  {
   "cell_type": "code",
   "execution_count": 14,
   "metadata": {
    "ExecuteTime": {
     "end_time": "2021-04-01T12:03:43.710623Z",
     "start_time": "2021-04-01T12:03:43.705022Z"
    },
    "execution": {
     "iopub.execute_input": "2022-08-09T09:25:55.513604Z",
     "iopub.status.busy": "2022-08-09T09:25:55.512839Z",
     "iopub.status.idle": "2022-08-09T09:25:55.516080Z",
     "shell.execute_reply": "2022-08-09T09:25:55.515692Z"
    }
   },
   "outputs": [
    {
     "name": "stdout",
     "output_type": "stream",
     "text": [
      "{\n",
      " \"0\": {\n",
      "  \"passenger\": {\n",
      "   \"0\": {\n",
      "    \"0\": {\n",
      "     \"0\": \"[?passenger]\"\n",
      "    },\n",
      "    \"1\": {\n",
      "     \"name\": {\n",
      "      \"0\": \"[?Name]\",\n",
      "      \"1\": {\n",
      "       \"length\": \"<function get_length at 0x7faf29762a60>\",\n",
      "       \"title\": \"<function get_title at 0x7faf29762790>\"\n",
      "      }\n",
      "     },\n",
      "     \"Sex\": {\n",
      "      \"0\": \"...\n"
     ]
    }
   ],
   "source": [
    "from tg.common.datasets.selectors import CombinedSelector\n",
    "import json\n",
    "\n",
    "def process_selector(selector):\n",
    "    if isinstance(selector, CombinedSelector):\n",
    "        children = selector.get_structure()\n",
    "        if children is None:\n",
    "            return selector.__repr__()\n",
    "        result = {} # {'@type': str(type(selector))}\n",
    "        for key, value in children.items():\n",
    "            result[key] = process_selector(value)\n",
    "        return result\n",
    "    return selector.__repr__()\n",
    "\n",
    "\n",
    "representation = process_selector(titanic_selector)\n",
    "\n",
    "print(json.dumps(representation, indent=1)[:300]+\"...\")\n",
    "            "
   ]
  },
  {
   "cell_type": "markdown",
   "metadata": {},
   "source": [
    "To date, we didn't really find out the format that is both readable and well-representative, so we encourage you to explore and extend the code for representation creation to add the field you need for the effective debugging."
   ]
  },
  {
   "cell_type": "markdown",
   "metadata": {},
   "source": [
    "## Error handling\n",
    "\n",
    "Sometimes selectors throw an error while processing the request. They provide a powerful tracing mechanism to find the cause of error in their complicated structure, as well as in the original piece of data.\n",
    "\n",
    "Let us create an erroneous object for processing. The `Name` field which is normally a string, will be replaced with integer value."
   ]
  },
  {
   "cell_type": "code",
   "execution_count": 15,
   "metadata": {
    "ExecuteTime": {
     "end_time": "2021-04-01T12:03:43.725865Z",
     "start_time": "2021-04-01T12:03:43.711631Z"
    },
    "execution": {
     "iopub.execute_input": "2022-08-09T09:25:55.520239Z",
     "iopub.status.busy": "2022-08-09T09:25:55.519802Z",
     "iopub.status.idle": "2022-08-09T09:25:55.534776Z",
     "shell.execute_reply": "2022-08-09T09:25:55.534404Z"
    }
   },
   "outputs": [
    {
     "data": {
      "text/plain": [
       "{'id': 1,\n",
       " 'ticket': {'ticket.id': 'A/5 21171', 'fare': 7.25, 'Pclass': 3},\n",
       " 'passenger': {'Name': 0, 'Sex': 'male', 'Age': 22.0},\n",
       " 'trip': {'Survived': 0,\n",
       "  'SibSp': 1,\n",
       "  'Patch': 0,\n",
       "  'Cabin': nan,\n",
       "  'Embarked': 'S'}}"
      ]
     },
     "execution_count": 15,
     "metadata": {},
     "output_type": "execute_result"
    }
   ],
   "source": [
    "err_obj = source.get_data().first()\n",
    "err_obj['passenger']['Name'] = 0\n",
    "err_obj"
   ]
  },
  {
   "cell_type": "code",
   "execution_count": 16,
   "metadata": {
    "ExecuteTime": {
     "end_time": "2021-04-01T12:03:43.730480Z",
     "start_time": "2021-04-01T12:03:43.727293Z"
    },
    "execution": {
     "iopub.execute_input": "2022-08-09T09:25:55.539697Z",
     "iopub.status.busy": "2022-08-09T09:25:55.538979Z",
     "iopub.status.idle": "2022-08-09T09:25:55.542047Z",
     "shell.execute_reply": "2022-08-09T09:25:55.542940Z"
    }
   },
   "outputs": [
    {
     "name": "stdout",
     "output_type": "stream",
     "text": [
      "{'id': 1, 'ticket': {'ticket.id': 'A/5 21171', 'fare': 7.25, 'Pclass': 3}, 'passenger': {'Name': 0, 'Sex': 'male', 'Age': 22.0}, 'trip': {'Survived': 0, 'SibSp': 1, 'Patch': 0, 'Cabin': nan, 'Embarked': 'S'}}\n",
      "[?passenger].[?Name]\n",
      "/0/passenger/0/1/name/1/length:get_length\n"
     ]
    }
   ],
   "source": [
    "from tg.common.datasets.selectors import SelectorException\n",
    "exception = None\n",
    "try:\n",
    "    titanic_selector(err_obj)\n",
    "except SelectorException as ex:\n",
    "    exception = ex\n",
    "    \n",
    "print(exception.context.original_object)\n",
    "print(exception.context.get_data_path())\n",
    "print(exception.context.get_code_path())\n"
   ]
  },
  {
   "cell_type": "markdown",
   "metadata": {},
   "source": [
    "Selectors are usually applied to the long sequences of data which may not be reproducible. It is therefore wise to cover your featurization with try-except block and store the exception on the hard drive, so you could later build a test case with `original_object`.\n",
    "\n",
    "`get_data_path()` returns the string representation of path inside data where the error has occured: somewhere around `obj['passenger']['Name']`. Symbol `?` means that these fields are optional, and _all fields_ are optional by default. If you want the selector that raises exception when the field does not exist, pass the `True` argument to the constructor of the `Selector`.\n",
    "\n",
    "`get_code_path()` describes where the error occured within the hierarchy of selectors. By looking at this string, we can easily figure out that error occured somewhere around processing `name` with `get_length` method. If the deeper analysis is required, we may use the `representation` object we have previously built:"
   ]
  },
  {
   "cell_type": "code",
   "execution_count": 17,
   "metadata": {
    "ExecuteTime": {
     "end_time": "2021-04-01T12:03:43.738531Z",
     "start_time": "2021-04-01T12:03:43.731588Z"
    },
    "execution": {
     "iopub.execute_input": "2022-08-09T09:25:55.547876Z",
     "iopub.status.busy": "2022-08-09T09:25:55.547273Z",
     "iopub.status.idle": "2022-08-09T09:25:55.550483Z",
     "shell.execute_reply": "2022-08-09T09:25:55.550093Z"
    }
   },
   "outputs": [
    {
     "data": {
      "text/plain": [
       "{0: {0: '[?passenger]'},\n",
       " 1: {'name': {0: '[?Name]',\n",
       "   1: {'length': '<function get_length at 0x7faf29762a60>',\n",
       "    'title': '<function get_title at 0x7faf29762790>'}},\n",
       "  'Sex': {0: '[?Sex]'},\n",
       "  'Age': {0: '[?Age]'}}}"
      ]
     },
     "execution_count": 17,
     "metadata": {},
     "output_type": "execute_result"
    }
   ],
   "source": [
    "representation[0]['passenger'][0]"
   ]
  },
  {
   "cell_type": "markdown",
   "metadata": {},
   "source": [
    "Here we input the beginning of `get_code_path()` output and see the closer surroundings of the error."
   ]
  },
  {
   "cell_type": "markdown",
   "metadata": {},
   "source": [
    "## List featurization\n",
    "\n",
    "In this section we will consider building features for a list of objects. This use case is rather rare, the examples is, for instance, building the features for a customer, basing on the articles he have purchased in the past.\n",
    "\n",
    "In the Titanic setup, imagine that:\n",
    "1. Our task is actually produce feature for cabins, not for passengers.\n",
    "2. Our DOF is also flow of cabins, not passengers.\n",
    "\n",
    "So one object looks like this:"
   ]
  },
  {
   "cell_type": "code",
   "execution_count": 18,
   "metadata": {
    "ExecuteTime": {
     "end_time": "2021-04-01T12:03:43.805106Z",
     "start_time": "2021-04-01T12:03:43.739667Z"
    },
    "execution": {
     "iopub.execute_input": "2022-08-09T09:25:55.555028Z",
     "iopub.status.busy": "2022-08-09T09:25:55.554529Z",
     "iopub.status.idle": "2022-08-09T09:25:55.573509Z",
     "shell.execute_reply": "2022-08-09T09:25:55.574128Z"
    }
   },
   "outputs": [
    {
     "data": {
      "text/plain": [
       "[{'id': 149,\n",
       "  'ticket': {'ticket.id': '230080', 'fare': 26.0, 'Pclass': 2},\n",
       "  'passenger': {'Name': 'Navratil, Mr. Michel (\"Louis M Hoffman\")',\n",
       "   'Sex': 'male',\n",
       "   'Age': 36.5},\n",
       "  'trip': {'Survived': 0,\n",
       "   'SibSp': 0,\n",
       "   'Patch': 2,\n",
       "   'Cabin': 'F2',\n",
       "   'Embarked': 'S'}},\n",
       " {'id': 194,\n",
       "  'ticket': {'ticket.id': '230080', 'fare': 26.0, 'Pclass': 2},\n",
       "  'passenger': {'Name': 'Navratil, Master. Michel M',\n",
       "   'Sex': 'male',\n",
       "   'Age': 3.0},\n",
       "  'trip': {'Survived': 1,\n",
       "   'SibSp': 1,\n",
       "   'Patch': 1,\n",
       "   'Cabin': 'F2',\n",
       "   'Embarked': 'S'}},\n",
       " {'id': 341,\n",
       "  'ticket': {'ticket.id': '230080', 'fare': 26.0, 'Pclass': 2},\n",
       "  'passenger': {'Name': 'Navratil, Master. Edmond Roger',\n",
       "   'Sex': 'male',\n",
       "   'Age': 2.0},\n",
       "  'trip': {'Survived': 1,\n",
       "   'SibSp': 1,\n",
       "   'Patch': 1,\n",
       "   'Cabin': 'F2',\n",
       "   'Embarked': 'S'}}]"
      ]
     },
     "execution_count": 18,
     "metadata": {},
     "output_type": "execute_result"
    }
   ],
   "source": [
    "cabin_obj = source.get_data().where(lambda z: z['trip']['Cabin']=='F2').to_list()\n",
    "cabin_obj"
   ]
  },
  {
   "cell_type": "markdown",
   "metadata": {},
   "source": [
    "We want to build the following features for this `cabin_obj`: the average fare and age of the passengers. \n",
    "\n",
    "So, to build such aggregated selectors, following practice is recommended:\n",
    "1. build a `Selector` that selects the fields, and apply it to the list, building list of dictionaries\n",
    "2. convert list of dictionaries into dictionary of lists\n",
    "3. apply averager to each list.\n",
    "\n",
    "Let's first do it step-by-step. `Listwise` applies arbitrary function (e.g., your selector) to the elements of the list:"
   ]
  },
  {
   "cell_type": "code",
   "execution_count": 19,
   "metadata": {
    "ExecuteTime": {
     "end_time": "2021-04-01T12:03:43.812668Z",
     "start_time": "2021-04-01T12:03:43.807432Z"
    },
    "execution": {
     "iopub.execute_input": "2022-08-09T09:25:55.586159Z",
     "iopub.status.busy": "2022-08-09T09:25:55.585543Z",
     "iopub.status.idle": "2022-08-09T09:25:55.589701Z",
     "shell.execute_reply": "2022-08-09T09:25:55.589301Z"
    }
   },
   "outputs": [
    {
     "data": {
      "text/plain": [
       "[{'Age': 36.5, 'fare': 26.0},\n",
       " {'Age': 3.0, 'fare': 26.0},\n",
       " {'Age': 2.0, 'fare': 26.0}]"
      ]
     },
     "execution_count": 19,
     "metadata": {},
     "output_type": "execute_result"
    }
   ],
   "source": [
    "from tg.common.datasets.selectors import Listwise, Dictwise, transpose_list_of_dicts_to_dict_of_lists\n",
    "\n",
    "cabin_features_selector = (Selector()\n",
    "                           .select('passenger.Age','ticket.fare')\n",
    "                          )\n",
    "list_of_dicts = Listwise(cabin_features_selector)(cabin_obj)\n",
    "list_of_dicts"
   ]
  },
  {
   "cell_type": "markdown",
   "metadata": {},
   "source": [
    "`transpose_list_of_dicts_to_dict_of_lists` makes the \"transposition\" of list of dicts into dict of lists."
   ]
  },
  {
   "cell_type": "code",
   "execution_count": 20,
   "metadata": {
    "ExecuteTime": {
     "end_time": "2021-04-01T12:03:43.826399Z",
     "start_time": "2021-04-01T12:03:43.813657Z"
    },
    "execution": {
     "iopub.execute_input": "2022-08-09T09:25:55.597035Z",
     "iopub.status.busy": "2022-08-09T09:25:55.596087Z",
     "iopub.status.idle": "2022-08-09T09:25:55.601330Z",
     "shell.execute_reply": "2022-08-09T09:25:55.601910Z"
    }
   },
   "outputs": [
    {
     "data": {
      "text/plain": [
       "{'Age': [36.5, 3.0, 2.0], 'fare': [26.0, 26.0, 26.0]}"
      ]
     },
     "execution_count": 20,
     "metadata": {},
     "output_type": "execute_result"
    }
   ],
   "source": [
    "dict_of_lists = transpose_list_of_dicts_to_dict_of_lists(list_of_dicts)\n",
    "dict_of_lists"
   ]
  },
  {
   "cell_type": "markdown",
   "metadata": {},
   "source": [
    "Finally, `Dictwise` applies function to the elements of dictionary"
   ]
  },
  {
   "cell_type": "code",
   "execution_count": 21,
   "metadata": {
    "ExecuteTime": {
     "end_time": "2021-04-01T12:03:43.837784Z",
     "start_time": "2021-04-01T12:03:43.827380Z"
    },
    "execution": {
     "iopub.execute_input": "2022-08-09T09:25:55.610873Z",
     "iopub.status.busy": "2022-08-09T09:25:55.609903Z",
     "iopub.status.idle": "2022-08-09T09:25:55.613172Z",
     "shell.execute_reply": "2022-08-09T09:25:55.613850Z"
    }
   },
   "outputs": [
    {
     "data": {
      "text/plain": [
       "{'Age': 13.833333333333334, 'fare': 26.0}"
      ]
     },
     "execution_count": 21,
     "metadata": {},
     "output_type": "execute_result"
    }
   ],
   "source": [
    "import numpy as np\n",
    "\n",
    "Dictwise(np.mean)(dict_of_lists)"
   ]
  },
  {
   "cell_type": "markdown",
   "metadata": {},
   "source": [
    "If you need a more complicated logic, such as applying different functions to different fields, you will need to extend `Dictwise` class."
   ]
  },
  {
   "cell_type": "markdown",
   "metadata": {},
   "source": [
    "All we have to do now is to assemble it to the pipeline. Since in our use cases we have used this pipeline several times, it's standardized in the following class:"
   ]
  },
  {
   "cell_type": "code",
   "execution_count": 22,
   "metadata": {
    "ExecuteTime": {
     "end_time": "2021-04-01T12:03:43.851214Z",
     "start_time": "2021-04-01T12:03:43.839498Z"
    },
    "execution": {
     "iopub.execute_input": "2022-08-09T09:25:55.618123Z",
     "iopub.status.busy": "2022-08-09T09:25:55.617167Z",
     "iopub.status.idle": "2022-08-09T09:25:55.624928Z",
     "shell.execute_reply": "2022-08-09T09:25:55.626916Z"
    }
   },
   "outputs": [
    {
     "data": {
      "text/plain": [
       "{'Age': 13.833333333333334, 'fare': 26.0}"
      ]
     },
     "execution_count": 22,
     "metadata": {},
     "output_type": "execute_result"
    }
   ],
   "source": [
    "from tg.common.datasets.selectors import ListFeaturizer\n",
    "\n",
    "selector = ListFeaturizer(cabin_features_selector, np.mean)\n",
    "selector(cabin_obj)"
   ]
  },
  {
   "cell_type": "markdown",
   "metadata": {},
   "source": [
    "### Quick dataset creations\n",
    "\n",
    "The combination of `DataSource` and `Featurizer` allows you to quickly build the tidy dataset:"
   ]
  },
  {
   "cell_type": "code",
   "execution_count": 23,
   "metadata": {
    "ExecuteTime": {
     "end_time": "2021-04-01T12:03:43.877930Z",
     "start_time": "2021-04-01T12:03:43.852306Z"
    },
    "execution": {
     "iopub.execute_input": "2022-08-09T09:25:55.637621Z",
     "iopub.status.busy": "2022-08-09T09:25:55.636035Z",
     "iopub.status.idle": "2022-08-09T09:25:55.692467Z",
     "shell.execute_reply": "2022-08-09T09:25:55.691231Z"
    }
   },
   "outputs": [
    {
     "name": "stdout",
     "output_type": "stream",
     "text": [
      "2022-08-09 09:25:55.641922+00:00 WARNING: Missing field in FieldGetter\n"
     ]
    },
    {
     "name": "stdout",
     "output_type": "stream",
     "text": [
      "2022-08-09 09:25:55.643855+00:00 WARNING: Missing field in FieldGetter\n"
     ]
    },
    {
     "name": "stdout",
     "output_type": "stream",
     "text": [
      "2022-08-09 09:25:55.646271+00:00 WARNING: Missing field in FieldGetter\n"
     ]
    },
    {
     "data": {
      "text/html": [
       "<div>\n",
       "<style scoped>\n",
       "    .dataframe tbody tr th:only-of-type {\n",
       "        vertical-align: middle;\n",
       "    }\n",
       "\n",
       "    .dataframe tbody tr th {\n",
       "        vertical-align: top;\n",
       "    }\n",
       "\n",
       "    .dataframe thead th {\n",
       "        text-align: right;\n",
       "    }\n",
       "</style>\n",
       "<table border=\"1\" class=\"dataframe\">\n",
       "  <thead>\n",
       "    <tr style=\"text-align: right;\">\n",
       "      <th></th>\n",
       "      <th>passenger_name_length</th>\n",
       "      <th>passenger_name_title</th>\n",
       "      <th>passenger_Sex</th>\n",
       "      <th>passenger_Age</th>\n",
       "      <th>ticket_id</th>\n",
       "      <th>ticket_fare</th>\n",
       "      <th>ticket_PClass</th>\n",
       "      <th>trip_id</th>\n",
       "      <th>trip_Survived</th>\n",
       "      <th>trip_Cabin</th>\n",
       "      <th>trip_Embarked</th>\n",
       "      <th>trip_SibSp</th>\n",
       "      <th>trip_Patch</th>\n",
       "      <th>trip_Relatives</th>\n",
       "      <th>processed</th>\n",
       "    </tr>\n",
       "  </thead>\n",
       "  <tbody>\n",
       "    <tr>\n",
       "      <th>0</th>\n",
       "      <td>23</td>\n",
       "      <td>Mr</td>\n",
       "      <td>male</td>\n",
       "      <td>22.0</td>\n",
       "      <td>A/5 21171</td>\n",
       "      <td>7.2500</td>\n",
       "      <td>None</td>\n",
       "      <td>1</td>\n",
       "      <td>0</td>\n",
       "      <td>NaN</td>\n",
       "      <td>S</td>\n",
       "      <td>1</td>\n",
       "      <td>0</td>\n",
       "      <td>1</td>\n",
       "      <td>2022-08-09 11:25:55.643462</td>\n",
       "    </tr>\n",
       "    <tr>\n",
       "      <th>1</th>\n",
       "      <td>51</td>\n",
       "      <td>Mrs</td>\n",
       "      <td>female</td>\n",
       "      <td>38.0</td>\n",
       "      <td>PC 17599</td>\n",
       "      <td>71.2833</td>\n",
       "      <td>None</td>\n",
       "      <td>2</td>\n",
       "      <td>1</td>\n",
       "      <td>C85</td>\n",
       "      <td>C</td>\n",
       "      <td>1</td>\n",
       "      <td>0</td>\n",
       "      <td>1</td>\n",
       "      <td>2022-08-09 11:25:55.645910</td>\n",
       "    </tr>\n",
       "    <tr>\n",
       "      <th>2</th>\n",
       "      <td>22</td>\n",
       "      <td>Miss</td>\n",
       "      <td>female</td>\n",
       "      <td>26.0</td>\n",
       "      <td>STON/O2. 3101282</td>\n",
       "      <td>7.9250</td>\n",
       "      <td>None</td>\n",
       "      <td>3</td>\n",
       "      <td>1</td>\n",
       "      <td>NaN</td>\n",
       "      <td>S</td>\n",
       "      <td>0</td>\n",
       "      <td>0</td>\n",
       "      <td>0</td>\n",
       "      <td>2022-08-09 11:25:55.647480</td>\n",
       "    </tr>\n",
       "  </tbody>\n",
       "</table>\n",
       "</div>"
      ],
      "text/plain": [
       "   passenger_name_length passenger_name_title passenger_Sex  passenger_Age  \\\n",
       "0                     23                   Mr          male           22.0   \n",
       "1                     51                  Mrs        female           38.0   \n",
       "2                     22                 Miss        female           26.0   \n",
       "\n",
       "          ticket_id  ticket_fare ticket_PClass  trip_id  trip_Survived  \\\n",
       "0         A/5 21171       7.2500          None        1              0   \n",
       "1          PC 17599      71.2833          None        2              1   \n",
       "2  STON/O2. 3101282       7.9250          None        3              1   \n",
       "\n",
       "  trip_Cabin trip_Embarked  trip_SibSp  trip_Patch  trip_Relatives  \\\n",
       "0        NaN             S           1           0               1   \n",
       "1        C85             C           1           0               1   \n",
       "2        NaN             S           0           0               0   \n",
       "\n",
       "                   processed  \n",
       "0 2022-08-09 11:25:55.643462  \n",
       "1 2022-08-09 11:25:55.645910  \n",
       "2 2022-08-09 11:25:55.647480  "
      ]
     },
     "execution_count": 23,
     "metadata": {},
     "output_type": "execute_result"
    }
   ],
   "source": [
    "source.get_data().take(3).select(titanic_selector).to_dataframe()"
   ]
  },
  {
   "cell_type": "markdown",
   "metadata": {},
   "source": [
    "If your selector is small, you may also define `Selector` on the fly:"
   ]
  },
  {
   "cell_type": "code",
   "execution_count": 24,
   "metadata": {
    "execution": {
     "iopub.execute_input": "2022-08-09T09:25:55.702199Z",
     "iopub.status.busy": "2022-08-09T09:25:55.701436Z",
     "iopub.status.idle": "2022-08-09T09:25:55.717160Z",
     "shell.execute_reply": "2022-08-09T09:25:55.717878Z"
    }
   },
   "outputs": [
    {
     "data": {
      "text/html": [
       "<div>\n",
       "<style scoped>\n",
       "    .dataframe tbody tr th:only-of-type {\n",
       "        vertical-align: middle;\n",
       "    }\n",
       "\n",
       "    .dataframe tbody tr th {\n",
       "        vertical-align: top;\n",
       "    }\n",
       "\n",
       "    .dataframe thead th {\n",
       "        text-align: right;\n",
       "    }\n",
       "</style>\n",
       "<table border=\"1\" class=\"dataframe\">\n",
       "  <thead>\n",
       "    <tr style=\"text-align: right;\">\n",
       "      <th></th>\n",
       "      <th>Name</th>\n",
       "      <th>Survived</th>\n",
       "    </tr>\n",
       "  </thead>\n",
       "  <tbody>\n",
       "    <tr>\n",
       "      <th>0</th>\n",
       "      <td>Braund, Mr. Owen Harris</td>\n",
       "      <td>0</td>\n",
       "    </tr>\n",
       "    <tr>\n",
       "      <th>1</th>\n",
       "      <td>Cumings, Mrs. John Bradley (Florence Briggs Th...</td>\n",
       "      <td>1</td>\n",
       "    </tr>\n",
       "    <tr>\n",
       "      <th>2</th>\n",
       "      <td>Heikkinen, Miss. Laina</td>\n",
       "      <td>1</td>\n",
       "    </tr>\n",
       "  </tbody>\n",
       "</table>\n",
       "</div>"
      ],
      "text/plain": [
       "                                                Name  Survived\n",
       "0                            Braund, Mr. Owen Harris         0\n",
       "1  Cumings, Mrs. John Bradley (Florence Briggs Th...         1\n",
       "2                             Heikkinen, Miss. Laina         1"
      ]
     },
     "execution_count": 24,
     "metadata": {},
     "output_type": "execute_result"
    }
   ],
   "source": [
    "(source\n",
    " .get_data()\n",
    " .take(3)\n",
    " .select(Selector().select('passenger.Name','trip.Survived'))\n",
    " .to_dataframe()\n",
    ")"
   ]
  },
  {
   "cell_type": "markdown",
   "metadata": {},
   "source": [
    "## Summary\n",
    "\n",
    "In this demo, we have presented how you may use `Selector` and other classes to convert complex, hierarchical objects into rows in the tidy dataset. \n"
   ]
  }
 ],
 "metadata": {
  "hide_input": false,
  "kernelspec": {
   "display_name": "Python 3 (ipykernel)",
   "language": "python",
   "name": "python3"
  },
  "language_info": {
   "codemirror_mode": {
    "name": "ipython",
    "version": 3
   },
   "file_extension": ".py",
   "mimetype": "text/x-python",
   "name": "python",
   "nbconvert_exporter": "python",
   "pygments_lexer": "ipython3",
   "version": "3.8.11"
  },
  "toc": {
   "base_numbering": 1,
   "nav_menu": {},
   "number_sections": true,
   "sideBar": true,
   "skip_h1_title": false,
   "title_cell": "Table of Contents",
   "title_sidebar": "Contents",
   "toc_cell": false,
   "toc_position": {},
   "toc_section_display": true,
   "toc_window_display": false
  },
  "varInspector": {
   "cols": {
    "lenName": 16,
    "lenType": 16,
    "lenVar": 40
   },
   "kernels_config": {
    "python": {
     "delete_cmd_postfix": "",
     "delete_cmd_prefix": "del ",
     "library": "var_list.py",
     "varRefreshCmd": "print(var_dic_list())"
    },
    "r": {
     "delete_cmd_postfix": ") ",
     "delete_cmd_prefix": "rm(",
     "library": "var_list.r",
     "varRefreshCmd": "cat(var_dic_list()) "
    }
   },
   "types_to_exclude": [
    "module",
    "function",
    "builtin_function_or_method",
    "instance",
    "_Feature"
   ],
   "window_display": false
  }
 },
 "nbformat": 4,
 "nbformat_minor": 4
}
